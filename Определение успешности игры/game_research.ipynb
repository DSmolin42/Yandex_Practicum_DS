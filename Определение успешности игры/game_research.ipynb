{
 "cells": [
  {
   "cell_type": "markdown",
   "metadata": {},
   "source": [
    "## Описание проекта"
   ]
  },
  {
   "cell_type": "markdown",
   "metadata": {},
   "source": [
    "Вы работаете в интернет-магазине «Стримчик», который продаёт по всему миру компьютерные игры. Из открытых источников доступны исторические данные о продажах игр, оценки пользователей и экспертов, жанры и платформы (например, Xbox или PlayStation). Вам нужно выявить определяющие успешность игры закономерности. Это позволит сделать ставку на потенциально популярный продукт и спланировать рекламные кампании."
   ]
  },
  {
   "cell_type": "markdown",
   "metadata": {},
   "source": [
    "## Описание данных"
   ]
  },
  {
   "cell_type": "markdown",
   "metadata": {},
   "source": [
    "* Name — название игры\n",
    "* Platform — платформа\n",
    "* Year_of_Release — год выпуска\n",
    "* Genre — жанр игры\n",
    "* NA_sales — продажи в Северной Америке (миллионы проданных копий)\n",
    "* EU_sales — продажи в Европе (миллионы проданных копий)\n",
    "* JP_sales — продажи в Японии (миллионы проданных копий)\n",
    "* Other_sales — продажи в других странах (миллионы проданных копий)\n",
    "* Critic_Score — оценка критиков (максимум 100)\n",
    "* User_Score — оценка пользователей (максимум 10)\n",
    "* Rating — рейтинг от организации ESRB (англ. Entertainment Software Rating Board). Эта ассоциация определяет рейтинг компьютерных игр и присваивает им подходящую возрастную категорию."
   ]
  },
  {
   "cell_type": "markdown",
   "metadata": {},
   "source": [
    "### Откроем файл с данными и изучим общую информацию. "
   ]
  },
  {
   "cell_type": "code",
   "execution_count": 1,
   "metadata": {},
   "outputs": [
    {
     "data": {
      "text/html": [
       "<div>\n",
       "<style scoped>\n",
       "    .dataframe tbody tr th:only-of-type {\n",
       "        vertical-align: middle;\n",
       "    }\n",
       "\n",
       "    .dataframe tbody tr th {\n",
       "        vertical-align: top;\n",
       "    }\n",
       "\n",
       "    .dataframe thead th {\n",
       "        text-align: right;\n",
       "    }\n",
       "</style>\n",
       "<table border=\"1\" class=\"dataframe\">\n",
       "  <thead>\n",
       "    <tr style=\"text-align: right;\">\n",
       "      <th></th>\n",
       "      <th>Name</th>\n",
       "      <th>Platform</th>\n",
       "      <th>Year_of_Release</th>\n",
       "      <th>Genre</th>\n",
       "      <th>NA_sales</th>\n",
       "      <th>EU_sales</th>\n",
       "      <th>JP_sales</th>\n",
       "      <th>Other_sales</th>\n",
       "      <th>Critic_Score</th>\n",
       "      <th>User_Score</th>\n",
       "      <th>Rating</th>\n",
       "    </tr>\n",
       "  </thead>\n",
       "  <tbody>\n",
       "    <tr>\n",
       "      <th>0</th>\n",
       "      <td>Wii Sports</td>\n",
       "      <td>Wii</td>\n",
       "      <td>2006.0</td>\n",
       "      <td>Sports</td>\n",
       "      <td>41.36</td>\n",
       "      <td>28.96</td>\n",
       "      <td>3.77</td>\n",
       "      <td>8.45</td>\n",
       "      <td>76.0</td>\n",
       "      <td>8</td>\n",
       "      <td>E</td>\n",
       "    </tr>\n",
       "    <tr>\n",
       "      <th>1</th>\n",
       "      <td>Super Mario Bros.</td>\n",
       "      <td>NES</td>\n",
       "      <td>1985.0</td>\n",
       "      <td>Platform</td>\n",
       "      <td>29.08</td>\n",
       "      <td>3.58</td>\n",
       "      <td>6.81</td>\n",
       "      <td>0.77</td>\n",
       "      <td>NaN</td>\n",
       "      <td>NaN</td>\n",
       "      <td>NaN</td>\n",
       "    </tr>\n",
       "    <tr>\n",
       "      <th>2</th>\n",
       "      <td>Mario Kart Wii</td>\n",
       "      <td>Wii</td>\n",
       "      <td>2008.0</td>\n",
       "      <td>Racing</td>\n",
       "      <td>15.68</td>\n",
       "      <td>12.76</td>\n",
       "      <td>3.79</td>\n",
       "      <td>3.29</td>\n",
       "      <td>82.0</td>\n",
       "      <td>8.3</td>\n",
       "      <td>E</td>\n",
       "    </tr>\n",
       "    <tr>\n",
       "      <th>3</th>\n",
       "      <td>Wii Sports Resort</td>\n",
       "      <td>Wii</td>\n",
       "      <td>2009.0</td>\n",
       "      <td>Sports</td>\n",
       "      <td>15.61</td>\n",
       "      <td>10.93</td>\n",
       "      <td>3.28</td>\n",
       "      <td>2.95</td>\n",
       "      <td>80.0</td>\n",
       "      <td>8</td>\n",
       "      <td>E</td>\n",
       "    </tr>\n",
       "    <tr>\n",
       "      <th>4</th>\n",
       "      <td>Pokemon Red/Pokemon Blue</td>\n",
       "      <td>GB</td>\n",
       "      <td>1996.0</td>\n",
       "      <td>Role-Playing</td>\n",
       "      <td>11.27</td>\n",
       "      <td>8.89</td>\n",
       "      <td>10.22</td>\n",
       "      <td>1.00</td>\n",
       "      <td>NaN</td>\n",
       "      <td>NaN</td>\n",
       "      <td>NaN</td>\n",
       "    </tr>\n",
       "  </tbody>\n",
       "</table>\n",
       "</div>"
      ],
      "text/plain": [
       "                       Name Platform  Year_of_Release         Genre  NA_sales  \\\n",
       "0                Wii Sports      Wii           2006.0        Sports     41.36   \n",
       "1         Super Mario Bros.      NES           1985.0      Platform     29.08   \n",
       "2            Mario Kart Wii      Wii           2008.0        Racing     15.68   \n",
       "3         Wii Sports Resort      Wii           2009.0        Sports     15.61   \n",
       "4  Pokemon Red/Pokemon Blue       GB           1996.0  Role-Playing     11.27   \n",
       "\n",
       "   EU_sales  JP_sales  Other_sales  Critic_Score User_Score Rating  \n",
       "0     28.96      3.77         8.45          76.0          8      E  \n",
       "1      3.58      6.81         0.77           NaN        NaN    NaN  \n",
       "2     12.76      3.79         3.29          82.0        8.3      E  \n",
       "3     10.93      3.28         2.95          80.0          8      E  \n",
       "4      8.89     10.22         1.00           NaN        NaN    NaN  "
      ]
     },
     "execution_count": 1,
     "metadata": {},
     "output_type": "execute_result"
    }
   ],
   "source": [
    "import pandas as pd\n",
    "import matplotlib.pyplot as plt\n",
    "import numpy as np\n",
    "import seaborn as sns\n",
    "from scipy import stats as st\n",
    "df = pd.read_csv('/datasets/games.csv')\n",
    "df.head()"
   ]
  },
  {
   "cell_type": "code",
   "execution_count": 2,
   "metadata": {},
   "outputs": [
    {
     "name": "stdout",
     "output_type": "stream",
     "text": [
      "<class 'pandas.core.frame.DataFrame'>\n",
      "RangeIndex: 16715 entries, 0 to 16714\n",
      "Data columns (total 11 columns):\n",
      " #   Column           Non-Null Count  Dtype  \n",
      "---  ------           --------------  -----  \n",
      " 0   Name             16713 non-null  object \n",
      " 1   Platform         16715 non-null  object \n",
      " 2   Year_of_Release  16446 non-null  float64\n",
      " 3   Genre            16713 non-null  object \n",
      " 4   NA_sales         16715 non-null  float64\n",
      " 5   EU_sales         16715 non-null  float64\n",
      " 6   JP_sales         16715 non-null  float64\n",
      " 7   Other_sales      16715 non-null  float64\n",
      " 8   Critic_Score     8137 non-null   float64\n",
      " 9   User_Score       10014 non-null  object \n",
      " 10  Rating           9949 non-null   object \n",
      "dtypes: float64(6), object(5)\n",
      "memory usage: 1.4+ MB\n"
     ]
    }
   ],
   "source": [
    "df.info()"
   ]
  },
  {
   "cell_type": "code",
   "execution_count": 3,
   "metadata": {},
   "outputs": [
    {
     "data": {
      "text/plain": [
       "Name                  2\n",
       "Platform              0\n",
       "Year_of_Release     269\n",
       "Genre                 2\n",
       "NA_sales              0\n",
       "EU_sales              0\n",
       "JP_sales              0\n",
       "Other_sales           0\n",
       "Critic_Score       8578\n",
       "User_Score         6701\n",
       "Rating             6766\n",
       "dtype: int64"
      ]
     },
     "execution_count": 3,
     "metadata": {},
     "output_type": "execute_result"
    }
   ],
   "source": [
    "df.isna().sum() # пропущенные значения"
   ]
  },
  {
   "cell_type": "markdown",
   "metadata": {},
   "source": [
    "#### Файл содержит данные о 16715 играх, каждая игра  описывается 11 признаками. Некоторые признаки содержат пропущенные значения, которые необходимо обработать и преобразовать  данные в нужные типы."
   ]
  },
  {
   "cell_type": "code",
   "execution_count": 4,
   "metadata": {},
   "outputs": [
    {
     "data": {
      "text/html": [
       "<div>\n",
       "<style scoped>\n",
       "    .dataframe tbody tr th:only-of-type {\n",
       "        vertical-align: middle;\n",
       "    }\n",
       "\n",
       "    .dataframe tbody tr th {\n",
       "        vertical-align: top;\n",
       "    }\n",
       "\n",
       "    .dataframe thead th {\n",
       "        text-align: right;\n",
       "    }\n",
       "</style>\n",
       "<table border=\"1\" class=\"dataframe\">\n",
       "  <thead>\n",
       "    <tr style=\"text-align: right;\">\n",
       "      <th></th>\n",
       "      <th>Year_of_Release</th>\n",
       "      <th>NA_sales</th>\n",
       "      <th>EU_sales</th>\n",
       "      <th>JP_sales</th>\n",
       "      <th>Other_sales</th>\n",
       "      <th>Critic_Score</th>\n",
       "    </tr>\n",
       "  </thead>\n",
       "  <tbody>\n",
       "    <tr>\n",
       "      <th>count</th>\n",
       "      <td>16446.000000</td>\n",
       "      <td>16715.000000</td>\n",
       "      <td>16715.000000</td>\n",
       "      <td>16715.000000</td>\n",
       "      <td>16715.000000</td>\n",
       "      <td>8137.000000</td>\n",
       "    </tr>\n",
       "    <tr>\n",
       "      <th>mean</th>\n",
       "      <td>2006.484616</td>\n",
       "      <td>0.263377</td>\n",
       "      <td>0.145060</td>\n",
       "      <td>0.077617</td>\n",
       "      <td>0.047342</td>\n",
       "      <td>68.967679</td>\n",
       "    </tr>\n",
       "    <tr>\n",
       "      <th>std</th>\n",
       "      <td>5.877050</td>\n",
       "      <td>0.813604</td>\n",
       "      <td>0.503339</td>\n",
       "      <td>0.308853</td>\n",
       "      <td>0.186731</td>\n",
       "      <td>13.938165</td>\n",
       "    </tr>\n",
       "    <tr>\n",
       "      <th>min</th>\n",
       "      <td>1980.000000</td>\n",
       "      <td>0.000000</td>\n",
       "      <td>0.000000</td>\n",
       "      <td>0.000000</td>\n",
       "      <td>0.000000</td>\n",
       "      <td>13.000000</td>\n",
       "    </tr>\n",
       "    <tr>\n",
       "      <th>25%</th>\n",
       "      <td>2003.000000</td>\n",
       "      <td>0.000000</td>\n",
       "      <td>0.000000</td>\n",
       "      <td>0.000000</td>\n",
       "      <td>0.000000</td>\n",
       "      <td>60.000000</td>\n",
       "    </tr>\n",
       "    <tr>\n",
       "      <th>50%</th>\n",
       "      <td>2007.000000</td>\n",
       "      <td>0.080000</td>\n",
       "      <td>0.020000</td>\n",
       "      <td>0.000000</td>\n",
       "      <td>0.010000</td>\n",
       "      <td>71.000000</td>\n",
       "    </tr>\n",
       "    <tr>\n",
       "      <th>75%</th>\n",
       "      <td>2010.000000</td>\n",
       "      <td>0.240000</td>\n",
       "      <td>0.110000</td>\n",
       "      <td>0.040000</td>\n",
       "      <td>0.030000</td>\n",
       "      <td>79.000000</td>\n",
       "    </tr>\n",
       "    <tr>\n",
       "      <th>max</th>\n",
       "      <td>2016.000000</td>\n",
       "      <td>41.360000</td>\n",
       "      <td>28.960000</td>\n",
       "      <td>10.220000</td>\n",
       "      <td>10.570000</td>\n",
       "      <td>98.000000</td>\n",
       "    </tr>\n",
       "  </tbody>\n",
       "</table>\n",
       "</div>"
      ],
      "text/plain": [
       "       Year_of_Release      NA_sales      EU_sales      JP_sales  \\\n",
       "count     16446.000000  16715.000000  16715.000000  16715.000000   \n",
       "mean       2006.484616      0.263377      0.145060      0.077617   \n",
       "std           5.877050      0.813604      0.503339      0.308853   \n",
       "min        1980.000000      0.000000      0.000000      0.000000   \n",
       "25%        2003.000000      0.000000      0.000000      0.000000   \n",
       "50%        2007.000000      0.080000      0.020000      0.000000   \n",
       "75%        2010.000000      0.240000      0.110000      0.040000   \n",
       "max        2016.000000     41.360000     28.960000     10.220000   \n",
       "\n",
       "        Other_sales  Critic_Score  \n",
       "count  16715.000000   8137.000000  \n",
       "mean       0.047342     68.967679  \n",
       "std        0.186731     13.938165  \n",
       "min        0.000000     13.000000  \n",
       "25%        0.000000     60.000000  \n",
       "50%        0.010000     71.000000  \n",
       "75%        0.030000     79.000000  \n",
       "max       10.570000     98.000000  "
      ]
     },
     "execution_count": 4,
     "metadata": {},
     "output_type": "execute_result"
    },
    {
     "data": {
      "image/png": "[encoded data removed]",
      "text/plain": [
       "<Figure size 1080x720 with 6 Axes>"
      ]
     },
     "metadata": {
      "needs_background": "light"
     },
     "output_type": "display_data"
    }
   ],
   "source": [
    "df.hist(figsize=(15, 10))\n",
    "df.describe()"
   ]
  },
  {
   "cell_type": "markdown",
   "metadata": {},
   "source": [
    "### Предобработка данных"
   ]
  },
  {
   "cell_type": "markdown",
   "metadata": {},
   "source": [
    "Приведем название столбцов к нижнему регистру"
   ]
  },
  {
   "cell_type": "code",
   "execution_count": 5,
   "metadata": {},
   "outputs": [
    {
     "data": {
      "text/html": [
       "<div>\n",
       "<style scoped>\n",
       "    .dataframe tbody tr th:only-of-type {\n",
       "        vertical-align: middle;\n",
       "    }\n",
       "\n",
       "    .dataframe tbody tr th {\n",
       "        vertical-align: top;\n",
       "    }\n",
       "\n",
       "    .dataframe thead th {\n",
       "        text-align: right;\n",
       "    }\n",
       "</style>\n",
       "<table border=\"1\" class=\"dataframe\">\n",
       "  <thead>\n",
       "    <tr style=\"text-align: right;\">\n",
       "      <th></th>\n",
       "      <th>name</th>\n",
       "      <th>platform</th>\n",
       "      <th>year_of_release</th>\n",
       "      <th>genre</th>\n",
       "      <th>na_sales</th>\n",
       "      <th>eu_sales</th>\n",
       "      <th>jp_sales</th>\n",
       "      <th>other_sales</th>\n",
       "      <th>critic_score</th>\n",
       "      <th>user_score</th>\n",
       "      <th>rating</th>\n",
       "    </tr>\n",
       "  </thead>\n",
       "  <tbody>\n",
       "    <tr>\n",
       "      <th>0</th>\n",
       "      <td>Wii Sports</td>\n",
       "      <td>Wii</td>\n",
       "      <td>2006.0</td>\n",
       "      <td>Sports</td>\n",
       "      <td>41.36</td>\n",
       "      <td>28.96</td>\n",
       "      <td>3.77</td>\n",
       "      <td>8.45</td>\n",
       "      <td>76.0</td>\n",
       "      <td>8</td>\n",
       "      <td>E</td>\n",
       "    </tr>\n",
       "    <tr>\n",
       "      <th>1</th>\n",
       "      <td>Super Mario Bros.</td>\n",
       "      <td>NES</td>\n",
       "      <td>1985.0</td>\n",
       "      <td>Platform</td>\n",
       "      <td>29.08</td>\n",
       "      <td>3.58</td>\n",
       "      <td>6.81</td>\n",
       "      <td>0.77</td>\n",
       "      <td>NaN</td>\n",
       "      <td>NaN</td>\n",
       "      <td>NaN</td>\n",
       "    </tr>\n",
       "    <tr>\n",
       "      <th>2</th>\n",
       "      <td>Mario Kart Wii</td>\n",
       "      <td>Wii</td>\n",
       "      <td>2008.0</td>\n",
       "      <td>Racing</td>\n",
       "      <td>15.68</td>\n",
       "      <td>12.76</td>\n",
       "      <td>3.79</td>\n",
       "      <td>3.29</td>\n",
       "      <td>82.0</td>\n",
       "      <td>8.3</td>\n",
       "      <td>E</td>\n",
       "    </tr>\n",
       "    <tr>\n",
       "      <th>3</th>\n",
       "      <td>Wii Sports Resort</td>\n",
       "      <td>Wii</td>\n",
       "      <td>2009.0</td>\n",
       "      <td>Sports</td>\n",
       "      <td>15.61</td>\n",
       "      <td>10.93</td>\n",
       "      <td>3.28</td>\n",
       "      <td>2.95</td>\n",
       "      <td>80.0</td>\n",
       "      <td>8</td>\n",
       "      <td>E</td>\n",
       "    </tr>\n",
       "    <tr>\n",
       "      <th>4</th>\n",
       "      <td>Pokemon Red/Pokemon Blue</td>\n",
       "      <td>GB</td>\n",
       "      <td>1996.0</td>\n",
       "      <td>Role-Playing</td>\n",
       "      <td>11.27</td>\n",
       "      <td>8.89</td>\n",
       "      <td>10.22</td>\n",
       "      <td>1.00</td>\n",
       "      <td>NaN</td>\n",
       "      <td>NaN</td>\n",
       "      <td>NaN</td>\n",
       "    </tr>\n",
       "    <tr>\n",
       "      <th>...</th>\n",
       "      <td>...</td>\n",
       "      <td>...</td>\n",
       "      <td>...</td>\n",
       "      <td>...</td>\n",
       "      <td>...</td>\n",
       "      <td>...</td>\n",
       "      <td>...</td>\n",
       "      <td>...</td>\n",
       "      <td>...</td>\n",
       "      <td>...</td>\n",
       "      <td>...</td>\n",
       "    </tr>\n",
       "    <tr>\n",
       "      <th>16710</th>\n",
       "      <td>Samurai Warriors: Sanada Maru</td>\n",
       "      <td>PS3</td>\n",
       "      <td>2016.0</td>\n",
       "      <td>Action</td>\n",
       "      <td>0.00</td>\n",
       "      <td>0.00</td>\n",
       "      <td>0.01</td>\n",
       "      <td>0.00</td>\n",
       "      <td>NaN</td>\n",
       "      <td>NaN</td>\n",
       "      <td>NaN</td>\n",
       "    </tr>\n",
       "    <tr>\n",
       "      <th>16711</th>\n",
       "      <td>LMA Manager 2007</td>\n",
       "      <td>X360</td>\n",
       "      <td>2006.0</td>\n",
       "      <td>Sports</td>\n",
       "      <td>0.00</td>\n",
       "      <td>0.01</td>\n",
       "      <td>0.00</td>\n",
       "      <td>0.00</td>\n",
       "      <td>NaN</td>\n",
       "      <td>NaN</td>\n",
       "      <td>NaN</td>\n",
       "    </tr>\n",
       "    <tr>\n",
       "      <th>16712</th>\n",
       "      <td>Haitaka no Psychedelica</td>\n",
       "      <td>PSV</td>\n",
       "      <td>2016.0</td>\n",
       "      <td>Adventure</td>\n",
       "      <td>0.00</td>\n",
       "      <td>0.00</td>\n",
       "      <td>0.01</td>\n",
       "      <td>0.00</td>\n",
       "      <td>NaN</td>\n",
       "      <td>NaN</td>\n",
       "      <td>NaN</td>\n",
       "    </tr>\n",
       "    <tr>\n",
       "      <th>16713</th>\n",
       "      <td>Spirits &amp; Spells</td>\n",
       "      <td>GBA</td>\n",
       "      <td>2003.0</td>\n",
       "      <td>Platform</td>\n",
       "      <td>0.01</td>\n",
       "      <td>0.00</td>\n",
       "      <td>0.00</td>\n",
       "      <td>0.00</td>\n",
       "      <td>NaN</td>\n",
       "      <td>NaN</td>\n",
       "      <td>NaN</td>\n",
       "    </tr>\n",
       "    <tr>\n",
       "      <th>16714</th>\n",
       "      <td>Winning Post 8 2016</td>\n",
       "      <td>PSV</td>\n",
       "      <td>2016.0</td>\n",
       "      <td>Simulation</td>\n",
       "      <td>0.00</td>\n",
       "      <td>0.00</td>\n",
       "      <td>0.01</td>\n",
       "      <td>0.00</td>\n",
       "      <td>NaN</td>\n",
       "      <td>NaN</td>\n",
       "      <td>NaN</td>\n",
       "    </tr>\n",
       "  </tbody>\n",
       "</table>\n",
       "<p>16715 rows × 11 columns</p>\n",
       "</div>"
      ],
      "text/plain": [
       "                                name platform  year_of_release         genre  \\\n",
       "0                         Wii Sports      Wii           2006.0        Sports   \n",
       "1                  Super Mario Bros.      NES           1985.0      Platform   \n",
       "2                     Mario Kart Wii      Wii           2008.0        Racing   \n",
       "3                  Wii Sports Resort      Wii           2009.0        Sports   \n",
       "4           Pokemon Red/Pokemon Blue       GB           1996.0  Role-Playing   \n",
       "...                              ...      ...              ...           ...   \n",
       "16710  Samurai Warriors: Sanada Maru      PS3           2016.0        Action   \n",
       "16711               LMA Manager 2007     X360           2006.0        Sports   \n",
       "16712        Haitaka no Psychedelica      PSV           2016.0     Adventure   \n",
       "16713               Spirits & Spells      GBA           2003.0      Platform   \n",
       "16714            Winning Post 8 2016      PSV           2016.0    Simulation   \n",
       "\n",
       "       na_sales  eu_sales  jp_sales  other_sales  critic_score user_score  \\\n",
       "0         41.36     28.96      3.77         8.45          76.0          8   \n",
       "1         29.08      3.58      6.81         0.77           NaN        NaN   \n",
       "2         15.68     12.76      3.79         3.29          82.0        8.3   \n",
       "3         15.61     10.93      3.28         2.95          80.0          8   \n",
       "4         11.27      8.89     10.22         1.00           NaN        NaN   \n",
       "...         ...       ...       ...          ...           ...        ...   \n",
       "16710      0.00      0.00      0.01         0.00           NaN        NaN   \n",
       "16711      0.00      0.01      0.00         0.00           NaN        NaN   \n",
       "16712      0.00      0.00      0.01         0.00           NaN        NaN   \n",
       "16713      0.01      0.00      0.00         0.00           NaN        NaN   \n",
       "16714      0.00      0.00      0.01         0.00           NaN        NaN   \n",
       "\n",
       "      rating  \n",
       "0          E  \n",
       "1        NaN  \n",
       "2          E  \n",
       "3          E  \n",
       "4        NaN  \n",
       "...      ...  \n",
       "16710    NaN  \n",
       "16711    NaN  \n",
       "16712    NaN  \n",
       "16713    NaN  \n",
       "16714    NaN  \n",
       "\n",
       "[16715 rows x 11 columns]"
      ]
     },
     "execution_count": 5,
     "metadata": {},
     "output_type": "execute_result"
    }
   ],
   "source": [
    "df.columns = df.columns.str.lower()\n",
    "df"
   ]
  },
  {
   "cell_type": "markdown",
   "metadata": {},
   "source": [
    "Оценки пользователей приведем к типу float.\n",
    "Столбец оценки пользователей содержит значение 'tbd', вероятно, это аббревиатура 'To Be Determined' (предстоит определить). Т.е. 'tbd' фактически и является NaN, заменим NaN.  "
   ]
  },
  {
   "cell_type": "code",
   "execution_count": 6,
   "metadata": {},
   "outputs": [
    {
     "data": {
      "text/plain": [
       "array(['8', nan, '8.3', '8.5', '6.6', '8.4', '8.6', '7.7', '6.3', '7.4',\n",
       "       '8.2', '9', '7.9', '8.1', '8.7', '7.1', '3.4', '5.3', '4.8', '3.2',\n",
       "       '8.9', '6.4', '7.8', '7.5', '2.6', '7.2', '9.2', '7', '7.3', '4.3',\n",
       "       '7.6', '5.7', '5', '9.1', '6.5', 'tbd', '8.8', '6.9', '9.4', '6.8',\n",
       "       '6.1', '6.7', '5.4', '4', '4.9', '4.5', '9.3', '6.2', '4.2', '6',\n",
       "       '3.7', '4.1', '5.8', '5.6', '5.5', '4.4', '4.6', '5.9', '3.9',\n",
       "       '3.1', '2.9', '5.2', '3.3', '4.7', '5.1', '3.5', '2.5', '1.9', '3',\n",
       "       '2.7', '2.2', '2', '9.5', '2.1', '3.6', '2.8', '1.8', '3.8', '0',\n",
       "       '1.6', '9.6', '2.4', '1.7', '1.1', '0.3', '1.5', '0.7', '1.2',\n",
       "       '2.3', '0.5', '1.3', '0.2', '0.6', '1.4', '0.9', '1', '9.7'],\n",
       "      dtype=object)"
      ]
     },
     "execution_count": 6,
     "metadata": {},
     "output_type": "execute_result"
    }
   ],
   "source": [
    "df['user_score'].unique()"
   ]
  },
  {
   "cell_type": "code",
   "execution_count": 7,
   "metadata": {},
   "outputs": [
    {
     "name": "stdout",
     "output_type": "stream",
     "text": [
      "<class 'pandas.core.frame.DataFrame'>\n",
      "RangeIndex: 16715 entries, 0 to 16714\n",
      "Data columns (total 11 columns):\n",
      " #   Column           Non-Null Count  Dtype  \n",
      "---  ------           --------------  -----  \n",
      " 0   name             16713 non-null  object \n",
      " 1   platform         16715 non-null  object \n",
      " 2   year_of_release  16446 non-null  float64\n",
      " 3   genre            16713 non-null  object \n",
      " 4   na_sales         16715 non-null  float64\n",
      " 5   eu_sales         16715 non-null  float64\n",
      " 6   jp_sales         16715 non-null  float64\n",
      " 7   other_sales      16715 non-null  float64\n",
      " 8   critic_score     8137 non-null   float64\n",
      " 9   user_score       7590 non-null   float64\n",
      " 10  rating           9949 non-null   object \n",
      "dtypes: float64(7), object(4)\n",
      "memory usage: 1.4+ MB\n"
     ]
    }
   ],
   "source": [
    "\n",
    "df['user_score'] = df['user_score'].replace('tbd', np.NaN) # заменим значение 'tbd' на NaN\n",
    "df['user_score'] = df['user_score'].astype('float64')\n",
    "df.info()\n"
   ]
  },
  {
   "cell_type": "markdown",
   "metadata": {},
   "source": [
    "Заполнить пропуски в столбцах 'critic_score', 'user_score' не представляется  возможным, поэтому  оставим их незаполненными. Кроме того, пропусков очень много и их заполнение каким-либо значением может исказить наши оценки. Т.к. система ESRB существует только в США, Канаде и Мексике, в столбце  'rating' заменим пустые значения на 'unknown'."
   ]
  },
  {
   "cell_type": "code",
   "execution_count": 8,
   "metadata": {},
   "outputs": [
    {
     "data": {
      "text/html": [
       "<div>\n",
       "<style scoped>\n",
       "    .dataframe tbody tr th:only-of-type {\n",
       "        vertical-align: middle;\n",
       "    }\n",
       "\n",
       "    .dataframe tbody tr th {\n",
       "        vertical-align: top;\n",
       "    }\n",
       "\n",
       "    .dataframe thead th {\n",
       "        text-align: right;\n",
       "    }\n",
       "</style>\n",
       "<table border=\"1\" class=\"dataframe\">\n",
       "  <thead>\n",
       "    <tr style=\"text-align: right;\">\n",
       "      <th></th>\n",
       "      <th>name</th>\n",
       "      <th>platform</th>\n",
       "      <th>year_of_release</th>\n",
       "      <th>genre</th>\n",
       "      <th>na_sales</th>\n",
       "      <th>eu_sales</th>\n",
       "      <th>jp_sales</th>\n",
       "      <th>other_sales</th>\n",
       "      <th>critic_score</th>\n",
       "      <th>user_score</th>\n",
       "      <th>rating</th>\n",
       "    </tr>\n",
       "  </thead>\n",
       "  <tbody>\n",
       "    <tr>\n",
       "      <th>0</th>\n",
       "      <td>Wii Sports</td>\n",
       "      <td>Wii</td>\n",
       "      <td>2006.0</td>\n",
       "      <td>Sports</td>\n",
       "      <td>41.36</td>\n",
       "      <td>28.96</td>\n",
       "      <td>3.77</td>\n",
       "      <td>8.45</td>\n",
       "      <td>76.0</td>\n",
       "      <td>8.0</td>\n",
       "      <td>E</td>\n",
       "    </tr>\n",
       "    <tr>\n",
       "      <th>1</th>\n",
       "      <td>Super Mario Bros.</td>\n",
       "      <td>NES</td>\n",
       "      <td>1985.0</td>\n",
       "      <td>Platform</td>\n",
       "      <td>29.08</td>\n",
       "      <td>3.58</td>\n",
       "      <td>6.81</td>\n",
       "      <td>0.77</td>\n",
       "      <td>NaN</td>\n",
       "      <td>NaN</td>\n",
       "      <td>unknown</td>\n",
       "    </tr>\n",
       "    <tr>\n",
       "      <th>2</th>\n",
       "      <td>Mario Kart Wii</td>\n",
       "      <td>Wii</td>\n",
       "      <td>2008.0</td>\n",
       "      <td>Racing</td>\n",
       "      <td>15.68</td>\n",
       "      <td>12.76</td>\n",
       "      <td>3.79</td>\n",
       "      <td>3.29</td>\n",
       "      <td>82.0</td>\n",
       "      <td>8.3</td>\n",
       "      <td>E</td>\n",
       "    </tr>\n",
       "    <tr>\n",
       "      <th>3</th>\n",
       "      <td>Wii Sports Resort</td>\n",
       "      <td>Wii</td>\n",
       "      <td>2009.0</td>\n",
       "      <td>Sports</td>\n",
       "      <td>15.61</td>\n",
       "      <td>10.93</td>\n",
       "      <td>3.28</td>\n",
       "      <td>2.95</td>\n",
       "      <td>80.0</td>\n",
       "      <td>8.0</td>\n",
       "      <td>E</td>\n",
       "    </tr>\n",
       "    <tr>\n",
       "      <th>4</th>\n",
       "      <td>Pokemon Red/Pokemon Blue</td>\n",
       "      <td>GB</td>\n",
       "      <td>1996.0</td>\n",
       "      <td>Role-Playing</td>\n",
       "      <td>11.27</td>\n",
       "      <td>8.89</td>\n",
       "      <td>10.22</td>\n",
       "      <td>1.00</td>\n",
       "      <td>NaN</td>\n",
       "      <td>NaN</td>\n",
       "      <td>unknown</td>\n",
       "    </tr>\n",
       "    <tr>\n",
       "      <th>...</th>\n",
       "      <td>...</td>\n",
       "      <td>...</td>\n",
       "      <td>...</td>\n",
       "      <td>...</td>\n",
       "      <td>...</td>\n",
       "      <td>...</td>\n",
       "      <td>...</td>\n",
       "      <td>...</td>\n",
       "      <td>...</td>\n",
       "      <td>...</td>\n",
       "      <td>...</td>\n",
       "    </tr>\n",
       "    <tr>\n",
       "      <th>16710</th>\n",
       "      <td>Samurai Warriors: Sanada Maru</td>\n",
       "      <td>PS3</td>\n",
       "      <td>2016.0</td>\n",
       "      <td>Action</td>\n",
       "      <td>0.00</td>\n",
       "      <td>0.00</td>\n",
       "      <td>0.01</td>\n",
       "      <td>0.00</td>\n",
       "      <td>NaN</td>\n",
       "      <td>NaN</td>\n",
       "      <td>unknown</td>\n",
       "    </tr>\n",
       "    <tr>\n",
       "      <th>16711</th>\n",
       "      <td>LMA Manager 2007</td>\n",
       "      <td>X360</td>\n",
       "      <td>2006.0</td>\n",
       "      <td>Sports</td>\n",
       "      <td>0.00</td>\n",
       "      <td>0.01</td>\n",
       "      <td>0.00</td>\n",
       "      <td>0.00</td>\n",
       "      <td>NaN</td>\n",
       "      <td>NaN</td>\n",
       "      <td>unknown</td>\n",
       "    </tr>\n",
       "    <tr>\n",
       "      <th>16712</th>\n",
       "      <td>Haitaka no Psychedelica</td>\n",
       "      <td>PSV</td>\n",
       "      <td>2016.0</td>\n",
       "      <td>Adventure</td>\n",
       "      <td>0.00</td>\n",
       "      <td>0.00</td>\n",
       "      <td>0.01</td>\n",
       "      <td>0.00</td>\n",
       "      <td>NaN</td>\n",
       "      <td>NaN</td>\n",
       "      <td>unknown</td>\n",
       "    </tr>\n",
       "    <tr>\n",
       "      <th>16713</th>\n",
       "      <td>Spirits &amp; Spells</td>\n",
       "      <td>GBA</td>\n",
       "      <td>2003.0</td>\n",
       "      <td>Platform</td>\n",
       "      <td>0.01</td>\n",
       "      <td>0.00</td>\n",
       "      <td>0.00</td>\n",
       "      <td>0.00</td>\n",
       "      <td>NaN</td>\n",
       "      <td>NaN</td>\n",
       "      <td>unknown</td>\n",
       "    </tr>\n",
       "    <tr>\n",
       "      <th>16714</th>\n",
       "      <td>Winning Post 8 2016</td>\n",
       "      <td>PSV</td>\n",
       "      <td>2016.0</td>\n",
       "      <td>Simulation</td>\n",
       "      <td>0.00</td>\n",
       "      <td>0.00</td>\n",
       "      <td>0.01</td>\n",
       "      <td>0.00</td>\n",
       "      <td>NaN</td>\n",
       "      <td>NaN</td>\n",
       "      <td>unknown</td>\n",
       "    </tr>\n",
       "  </tbody>\n",
       "</table>\n",
       "<p>16715 rows × 11 columns</p>\n",
       "</div>"
      ],
      "text/plain": [
       "                                name platform  year_of_release         genre  \\\n",
       "0                         Wii Sports      Wii           2006.0        Sports   \n",
       "1                  Super Mario Bros.      NES           1985.0      Platform   \n",
       "2                     Mario Kart Wii      Wii           2008.0        Racing   \n",
       "3                  Wii Sports Resort      Wii           2009.0        Sports   \n",
       "4           Pokemon Red/Pokemon Blue       GB           1996.0  Role-Playing   \n",
       "...                              ...      ...              ...           ...   \n",
       "16710  Samurai Warriors: Sanada Maru      PS3           2016.0        Action   \n",
       "16711               LMA Manager 2007     X360           2006.0        Sports   \n",
       "16712        Haitaka no Psychedelica      PSV           2016.0     Adventure   \n",
       "16713               Spirits & Spells      GBA           2003.0      Platform   \n",
       "16714            Winning Post 8 2016      PSV           2016.0    Simulation   \n",
       "\n",
       "       na_sales  eu_sales  jp_sales  other_sales  critic_score  user_score  \\\n",
       "0         41.36     28.96      3.77         8.45          76.0         8.0   \n",
       "1         29.08      3.58      6.81         0.77           NaN         NaN   \n",
       "2         15.68     12.76      3.79         3.29          82.0         8.3   \n",
       "3         15.61     10.93      3.28         2.95          80.0         8.0   \n",
       "4         11.27      8.89     10.22         1.00           NaN         NaN   \n",
       "...         ...       ...       ...          ...           ...         ...   \n",
       "16710      0.00      0.00      0.01         0.00           NaN         NaN   \n",
       "16711      0.00      0.01      0.00         0.00           NaN         NaN   \n",
       "16712      0.00      0.00      0.01         0.00           NaN         NaN   \n",
       "16713      0.01      0.00      0.00         0.00           NaN         NaN   \n",
       "16714      0.00      0.00      0.01         0.00           NaN         NaN   \n",
       "\n",
       "        rating  \n",
       "0            E  \n",
       "1      unknown  \n",
       "2            E  \n",
       "3            E  \n",
       "4      unknown  \n",
       "...        ...  \n",
       "16710  unknown  \n",
       "16711  unknown  \n",
       "16712  unknown  \n",
       "16713  unknown  \n",
       "16714  unknown  \n",
       "\n",
       "[16715 rows x 11 columns]"
      ]
     },
     "execution_count": 8,
     "metadata": {},
     "output_type": "execute_result"
    }
   ],
   "source": [
    "df['rating']= df['rating'].fillna('unknown')\n",
    "df"
   ]
  },
  {
   "cell_type": "markdown",
   "metadata": {},
   "source": [
    "Посчитаем суммарные продажи во всех регионах и запишим их в отдельный столбец 'total_sales'."
   ]
  },
  {
   "cell_type": "code",
   "execution_count": 9,
   "metadata": {},
   "outputs": [
    {
     "data": {
      "text/html": [
       "<div>\n",
       "<style scoped>\n",
       "    .dataframe tbody tr th:only-of-type {\n",
       "        vertical-align: middle;\n",
       "    }\n",
       "\n",
       "    .dataframe tbody tr th {\n",
       "        vertical-align: top;\n",
       "    }\n",
       "\n",
       "    .dataframe thead th {\n",
       "        text-align: right;\n",
       "    }\n",
       "</style>\n",
       "<table border=\"1\" class=\"dataframe\">\n",
       "  <thead>\n",
       "    <tr style=\"text-align: right;\">\n",
       "      <th></th>\n",
       "      <th>name</th>\n",
       "      <th>platform</th>\n",
       "      <th>year_of_release</th>\n",
       "      <th>genre</th>\n",
       "      <th>na_sales</th>\n",
       "      <th>eu_sales</th>\n",
       "      <th>jp_sales</th>\n",
       "      <th>other_sales</th>\n",
       "      <th>critic_score</th>\n",
       "      <th>user_score</th>\n",
       "      <th>rating</th>\n",
       "      <th>total_sales</th>\n",
       "    </tr>\n",
       "  </thead>\n",
       "  <tbody>\n",
       "    <tr>\n",
       "      <th>0</th>\n",
       "      <td>Wii Sports</td>\n",
       "      <td>Wii</td>\n",
       "      <td>2006.0</td>\n",
       "      <td>Sports</td>\n",
       "      <td>41.36</td>\n",
       "      <td>28.96</td>\n",
       "      <td>3.77</td>\n",
       "      <td>8.45</td>\n",
       "      <td>76.0</td>\n",
       "      <td>8.0</td>\n",
       "      <td>E</td>\n",
       "      <td>82.54</td>\n",
       "    </tr>\n",
       "    <tr>\n",
       "      <th>1</th>\n",
       "      <td>Super Mario Bros.</td>\n",
       "      <td>NES</td>\n",
       "      <td>1985.0</td>\n",
       "      <td>Platform</td>\n",
       "      <td>29.08</td>\n",
       "      <td>3.58</td>\n",
       "      <td>6.81</td>\n",
       "      <td>0.77</td>\n",
       "      <td>NaN</td>\n",
       "      <td>NaN</td>\n",
       "      <td>unknown</td>\n",
       "      <td>40.24</td>\n",
       "    </tr>\n",
       "    <tr>\n",
       "      <th>2</th>\n",
       "      <td>Mario Kart Wii</td>\n",
       "      <td>Wii</td>\n",
       "      <td>2008.0</td>\n",
       "      <td>Racing</td>\n",
       "      <td>15.68</td>\n",
       "      <td>12.76</td>\n",
       "      <td>3.79</td>\n",
       "      <td>3.29</td>\n",
       "      <td>82.0</td>\n",
       "      <td>8.3</td>\n",
       "      <td>E</td>\n",
       "      <td>35.52</td>\n",
       "    </tr>\n",
       "    <tr>\n",
       "      <th>3</th>\n",
       "      <td>Wii Sports Resort</td>\n",
       "      <td>Wii</td>\n",
       "      <td>2009.0</td>\n",
       "      <td>Sports</td>\n",
       "      <td>15.61</td>\n",
       "      <td>10.93</td>\n",
       "      <td>3.28</td>\n",
       "      <td>2.95</td>\n",
       "      <td>80.0</td>\n",
       "      <td>8.0</td>\n",
       "      <td>E</td>\n",
       "      <td>32.77</td>\n",
       "    </tr>\n",
       "    <tr>\n",
       "      <th>4</th>\n",
       "      <td>Pokemon Red/Pokemon Blue</td>\n",
       "      <td>GB</td>\n",
       "      <td>1996.0</td>\n",
       "      <td>Role-Playing</td>\n",
       "      <td>11.27</td>\n",
       "      <td>8.89</td>\n",
       "      <td>10.22</td>\n",
       "      <td>1.00</td>\n",
       "      <td>NaN</td>\n",
       "      <td>NaN</td>\n",
       "      <td>unknown</td>\n",
       "      <td>31.38</td>\n",
       "    </tr>\n",
       "    <tr>\n",
       "      <th>...</th>\n",
       "      <td>...</td>\n",
       "      <td>...</td>\n",
       "      <td>...</td>\n",
       "      <td>...</td>\n",
       "      <td>...</td>\n",
       "      <td>...</td>\n",
       "      <td>...</td>\n",
       "      <td>...</td>\n",
       "      <td>...</td>\n",
       "      <td>...</td>\n",
       "      <td>...</td>\n",
       "      <td>...</td>\n",
       "    </tr>\n",
       "    <tr>\n",
       "      <th>16710</th>\n",
       "      <td>Samurai Warriors: Sanada Maru</td>\n",
       "      <td>PS3</td>\n",
       "      <td>2016.0</td>\n",
       "      <td>Action</td>\n",
       "      <td>0.00</td>\n",
       "      <td>0.00</td>\n",
       "      <td>0.01</td>\n",
       "      <td>0.00</td>\n",
       "      <td>NaN</td>\n",
       "      <td>NaN</td>\n",
       "      <td>unknown</td>\n",
       "      <td>0.01</td>\n",
       "    </tr>\n",
       "    <tr>\n",
       "      <th>16711</th>\n",
       "      <td>LMA Manager 2007</td>\n",
       "      <td>X360</td>\n",
       "      <td>2006.0</td>\n",
       "      <td>Sports</td>\n",
       "      <td>0.00</td>\n",
       "      <td>0.01</td>\n",
       "      <td>0.00</td>\n",
       "      <td>0.00</td>\n",
       "      <td>NaN</td>\n",
       "      <td>NaN</td>\n",
       "      <td>unknown</td>\n",
       "      <td>0.01</td>\n",
       "    </tr>\n",
       "    <tr>\n",
       "      <th>16712</th>\n",
       "      <td>Haitaka no Psychedelica</td>\n",
       "      <td>PSV</td>\n",
       "      <td>2016.0</td>\n",
       "      <td>Adventure</td>\n",
       "      <td>0.00</td>\n",
       "      <td>0.00</td>\n",
       "      <td>0.01</td>\n",
       "      <td>0.00</td>\n",
       "      <td>NaN</td>\n",
       "      <td>NaN</td>\n",
       "      <td>unknown</td>\n",
       "      <td>0.01</td>\n",
       "    </tr>\n",
       "    <tr>\n",
       "      <th>16713</th>\n",
       "      <td>Spirits &amp; Spells</td>\n",
       "      <td>GBA</td>\n",
       "      <td>2003.0</td>\n",
       "      <td>Platform</td>\n",
       "      <td>0.01</td>\n",
       "      <td>0.00</td>\n",
       "      <td>0.00</td>\n",
       "      <td>0.00</td>\n",
       "      <td>NaN</td>\n",
       "      <td>NaN</td>\n",
       "      <td>unknown</td>\n",
       "      <td>0.01</td>\n",
       "    </tr>\n",
       "    <tr>\n",
       "      <th>16714</th>\n",
       "      <td>Winning Post 8 2016</td>\n",
       "      <td>PSV</td>\n",
       "      <td>2016.0</td>\n",
       "      <td>Simulation</td>\n",
       "      <td>0.00</td>\n",
       "      <td>0.00</td>\n",
       "      <td>0.01</td>\n",
       "      <td>0.00</td>\n",
       "      <td>NaN</td>\n",
       "      <td>NaN</td>\n",
       "      <td>unknown</td>\n",
       "      <td>0.01</td>\n",
       "    </tr>\n",
       "  </tbody>\n",
       "</table>\n",
       "<p>16715 rows × 12 columns</p>\n",
       "</div>"
      ],
      "text/plain": [
       "                                name platform  year_of_release         genre  \\\n",
       "0                         Wii Sports      Wii           2006.0        Sports   \n",
       "1                  Super Mario Bros.      NES           1985.0      Platform   \n",
       "2                     Mario Kart Wii      Wii           2008.0        Racing   \n",
       "3                  Wii Sports Resort      Wii           2009.0        Sports   \n",
       "4           Pokemon Red/Pokemon Blue       GB           1996.0  Role-Playing   \n",
       "...                              ...      ...              ...           ...   \n",
       "16710  Samurai Warriors: Sanada Maru      PS3           2016.0        Action   \n",
       "16711               LMA Manager 2007     X360           2006.0        Sports   \n",
       "16712        Haitaka no Psychedelica      PSV           2016.0     Adventure   \n",
       "16713               Spirits & Spells      GBA           2003.0      Platform   \n",
       "16714            Winning Post 8 2016      PSV           2016.0    Simulation   \n",
       "\n",
       "       na_sales  eu_sales  jp_sales  other_sales  critic_score  user_score  \\\n",
       "0         41.36     28.96      3.77         8.45          76.0         8.0   \n",
       "1         29.08      3.58      6.81         0.77           NaN         NaN   \n",
       "2         15.68     12.76      3.79         3.29          82.0         8.3   \n",
       "3         15.61     10.93      3.28         2.95          80.0         8.0   \n",
       "4         11.27      8.89     10.22         1.00           NaN         NaN   \n",
       "...         ...       ...       ...          ...           ...         ...   \n",
       "16710      0.00      0.00      0.01         0.00           NaN         NaN   \n",
       "16711      0.00      0.01      0.00         0.00           NaN         NaN   \n",
       "16712      0.00      0.00      0.01         0.00           NaN         NaN   \n",
       "16713      0.01      0.00      0.00         0.00           NaN         NaN   \n",
       "16714      0.00      0.00      0.01         0.00           NaN         NaN   \n",
       "\n",
       "        rating  total_sales  \n",
       "0            E        82.54  \n",
       "1      unknown        40.24  \n",
       "2            E        35.52  \n",
       "3            E        32.77  \n",
       "4      unknown        31.38  \n",
       "...        ...          ...  \n",
       "16710  unknown         0.01  \n",
       "16711  unknown         0.01  \n",
       "16712  unknown         0.01  \n",
       "16713  unknown         0.01  \n",
       "16714  unknown         0.01  \n",
       "\n",
       "[16715 rows x 12 columns]"
      ]
     },
     "execution_count": 9,
     "metadata": {},
     "output_type": "execute_result"
    }
   ],
   "source": [
    "df['total_sales'] = df['na_sales'] + df['eu_sales'] + df['jp_sales'] + df['other_sales']\n",
    "df"
   ]
  },
  {
   "cell_type": "markdown",
   "metadata": {},
   "source": [
    "###  Исследовательский анализ данных."
   ]
  },
  {
   "cell_type": "markdown",
   "metadata": {},
   "source": [
    "Посмотрим сколько игр выпускалось в разные годы. "
   ]
  },
  {
   "cell_type": "code",
   "execution_count": 10,
   "metadata": {},
   "outputs": [
    {
     "data": {
      "text/plain": [
       "Text(0.5, 1.0, 'Количество игр выпущенных в разные годы')"
      ]
     },
     "execution_count": 10,
     "metadata": {},
     "output_type": "execute_result"
    },
    {
     "data": {
      "image/png": "[encoded data removed]",
      "text/plain": [
       "<Figure size 1080x360 with 1 Axes>"
      ]
     },
     "metadata": {
      "needs_background": "light"
     },
     "output_type": "display_data"
    }
   ],
   "source": [
    "# создадим сводную таблицу и визиализируем данные\n",
    "df.groupby('year_of_release')['name'].count().plot(kind='bar',figsize=(15, 5))\n",
    "plt.xlabel(\"Год выхода игры\")\n",
    "plt.ylabel(\"Количество игр\")\n",
    "plt.title(\"Количество игр выпущенных в разные годы\")"
   ]
  },
  {
   "cell_type": "markdown",
   "metadata": {},
   "source": [
    "####  В 2000 -2002 году произошел резкий скачок по количеству выпущенных игр в год.  В 2008-2009 выпускается максимальное количество игр. С 2010 года наблюдается спад в производсве игр. Вероятно, это связанно с падением интереса к играм, соответственно, упало и их производство.\n"
   ]
  },
  {
   "cell_type": "markdown",
   "metadata": {},
   "source": [
    "Посмотрим продажи по различным платформам  за анализируемый период."
   ]
  },
  {
   "cell_type": "code",
   "execution_count": 11,
   "metadata": {
    "scrolled": true
   },
   "outputs": [
    {
     "data": {
      "text/plain": [
       "Text(0.5, 1.0, 'Продажи по различным платформам за анализируемый период')"
      ]
     },
     "execution_count": 11,
     "metadata": {},
     "output_type": "execute_result"
    },
    {
     "data": {
      "image/png": "[encoded data removed]",
      "text/plain": [
       "<Figure size 432x288 with 1 Axes>"
      ]
     },
     "metadata": {
      "needs_background": "light"
     },
     "output_type": "display_data"
    }
   ],
   "source": [
    "df.groupby('platform')['total_sales'].sum().sort_values(ascending= False).plot(kind='bar')\n",
    "plt.xlabel(\"Платформа\")\n",
    "plt.ylabel(\"Общие продажи, млн. копий\")\n",
    "plt.title(\"Продажи по различным платформам за анализируемый период\")"
   ]
  },
  {
   "cell_type": "markdown",
   "metadata": {},
   "source": [
    " Выберем топ-5 платформ с наибольшими суммарными продажами и  построим графики динамики продаж по годам по каждой платформе."
   ]
  },
  {
   "cell_type": "code",
   "execution_count": 12,
   "metadata": {},
   "outputs": [
    {
     "data": {
      "text/plain": [
       "['PS2', 'X360', 'PS3', 'Wii', 'DS']"
      ]
     },
     "execution_count": 12,
     "metadata": {},
     "output_type": "execute_result"
    }
   ],
   "source": [
    "top_platforms = list(df.groupby('platform')['total_sales'].sum().sort_values(ascending= False)[:5].index)\n",
    "top_platforms"
   ]
  },
  {
   "cell_type": "code",
   "execution_count": 13,
   "metadata": {},
   "outputs": [
    {
     "data": {
      "image/png": "[encoded data removed]",
      "text/plain": [
       "<Figure size 432x288 with 1 Axes>"
      ]
     },
     "metadata": {
      "needs_background": "light"
     },
     "output_type": "display_data"
    },
    {
     "data": {
      "image/png": "[encoded data removed]",
      "text/plain": [
       "<Figure size 432x288 with 1 Axes>"
      ]
     },
     "metadata": {
      "needs_background": "light"
     },
     "output_type": "display_data"
    },
    {
     "data": {
      "image/png": "[encoded data removed]",
      "text/plain": [
       "<Figure size 432x288 with 1 Axes>"
      ]
     },
     "metadata": {
      "needs_background": "light"
     },
     "output_type": "display_data"
    },
    {
     "data": {
      "image/png": "[encoded data removed]",
      "text/plain": [
       "<Figure size 432x288 with 1 Axes>"
      ]
     },
     "metadata": {
      "needs_background": "light"
     },
     "output_type": "display_data"
    },
    {
     "data": {
      "image/png": "[encoded data removed]",
      "text/plain": [
       "<Figure size 432x288 with 1 Axes>"
      ]
     },
     "metadata": {
      "needs_background": "light"
     },
     "output_type": "display_data"
    }
   ],
   "source": [
    "for value in top_platforms:\n",
    "    df[df.platform== value].groupby(\"year_of_release\")['total_sales'].sum().plot(kind='bar')\n",
    "    plt.xlabel(\"Год\")\n",
    "    plt.ylabel(\"Общие продажи, млн. копий\")\n",
    "    plt.title(\"Динамика продаж по годам \" + value)\n",
    "    plt.show()\n",
    "    \n"
   ]
  },
  {
   "cell_type": "markdown",
   "metadata": {},
   "source": [
    "#### Из графиков выше видно, что характерное время жизни платформы составляет 9-10 лет.\n",
    "#### В качестве актуального периода возьмем срок с 2013 года."
   ]
  },
  {
   "cell_type": "code",
   "execution_count": 14,
   "metadata": {},
   "outputs": [
    {
     "data": {
      "text/html": [
       "<div>\n",
       "<style scoped>\n",
       "    .dataframe tbody tr th:only-of-type {\n",
       "        vertical-align: middle;\n",
       "    }\n",
       "\n",
       "    .dataframe tbody tr th {\n",
       "        vertical-align: top;\n",
       "    }\n",
       "\n",
       "    .dataframe thead th {\n",
       "        text-align: right;\n",
       "    }\n",
       "</style>\n",
       "<table border=\"1\" class=\"dataframe\">\n",
       "  <thead>\n",
       "    <tr style=\"text-align: right;\">\n",
       "      <th></th>\n",
       "      <th>name</th>\n",
       "      <th>platform</th>\n",
       "      <th>year_of_release</th>\n",
       "      <th>genre</th>\n",
       "      <th>na_sales</th>\n",
       "      <th>eu_sales</th>\n",
       "      <th>jp_sales</th>\n",
       "      <th>other_sales</th>\n",
       "      <th>critic_score</th>\n",
       "      <th>user_score</th>\n",
       "      <th>rating</th>\n",
       "      <th>total_sales</th>\n",
       "    </tr>\n",
       "  </thead>\n",
       "  <tbody>\n",
       "    <tr>\n",
       "      <th>16</th>\n",
       "      <td>Grand Theft Auto V</td>\n",
       "      <td>PS3</td>\n",
       "      <td>2013.0</td>\n",
       "      <td>Action</td>\n",
       "      <td>7.02</td>\n",
       "      <td>9.09</td>\n",
       "      <td>0.98</td>\n",
       "      <td>3.96</td>\n",
       "      <td>97.0</td>\n",
       "      <td>8.2</td>\n",
       "      <td>M</td>\n",
       "      <td>21.05</td>\n",
       "    </tr>\n",
       "    <tr>\n",
       "      <th>23</th>\n",
       "      <td>Grand Theft Auto V</td>\n",
       "      <td>X360</td>\n",
       "      <td>2013.0</td>\n",
       "      <td>Action</td>\n",
       "      <td>9.66</td>\n",
       "      <td>5.14</td>\n",
       "      <td>0.06</td>\n",
       "      <td>1.41</td>\n",
       "      <td>97.0</td>\n",
       "      <td>8.1</td>\n",
       "      <td>M</td>\n",
       "      <td>16.27</td>\n",
       "    </tr>\n",
       "    <tr>\n",
       "      <th>31</th>\n",
       "      <td>Call of Duty: Black Ops 3</td>\n",
       "      <td>PS4</td>\n",
       "      <td>2015.0</td>\n",
       "      <td>Shooter</td>\n",
       "      <td>6.03</td>\n",
       "      <td>5.86</td>\n",
       "      <td>0.36</td>\n",
       "      <td>2.38</td>\n",
       "      <td>NaN</td>\n",
       "      <td>NaN</td>\n",
       "      <td>unknown</td>\n",
       "      <td>14.63</td>\n",
       "    </tr>\n",
       "    <tr>\n",
       "      <th>33</th>\n",
       "      <td>Pokemon X/Pokemon Y</td>\n",
       "      <td>3DS</td>\n",
       "      <td>2013.0</td>\n",
       "      <td>Role-Playing</td>\n",
       "      <td>5.28</td>\n",
       "      <td>4.19</td>\n",
       "      <td>4.35</td>\n",
       "      <td>0.78</td>\n",
       "      <td>NaN</td>\n",
       "      <td>NaN</td>\n",
       "      <td>unknown</td>\n",
       "      <td>14.60</td>\n",
       "    </tr>\n",
       "    <tr>\n",
       "      <th>42</th>\n",
       "      <td>Grand Theft Auto V</td>\n",
       "      <td>PS4</td>\n",
       "      <td>2014.0</td>\n",
       "      <td>Action</td>\n",
       "      <td>3.96</td>\n",
       "      <td>6.31</td>\n",
       "      <td>0.38</td>\n",
       "      <td>1.97</td>\n",
       "      <td>97.0</td>\n",
       "      <td>8.3</td>\n",
       "      <td>M</td>\n",
       "      <td>12.62</td>\n",
       "    </tr>\n",
       "    <tr>\n",
       "      <th>...</th>\n",
       "      <td>...</td>\n",
       "      <td>...</td>\n",
       "      <td>...</td>\n",
       "      <td>...</td>\n",
       "      <td>...</td>\n",
       "      <td>...</td>\n",
       "      <td>...</td>\n",
       "      <td>...</td>\n",
       "      <td>...</td>\n",
       "      <td>...</td>\n",
       "      <td>...</td>\n",
       "      <td>...</td>\n",
       "    </tr>\n",
       "    <tr>\n",
       "      <th>16703</th>\n",
       "      <td>Strawberry Nauts</td>\n",
       "      <td>PSV</td>\n",
       "      <td>2016.0</td>\n",
       "      <td>Adventure</td>\n",
       "      <td>0.00</td>\n",
       "      <td>0.00</td>\n",
       "      <td>0.01</td>\n",
       "      <td>0.00</td>\n",
       "      <td>NaN</td>\n",
       "      <td>NaN</td>\n",
       "      <td>unknown</td>\n",
       "      <td>0.01</td>\n",
       "    </tr>\n",
       "    <tr>\n",
       "      <th>16707</th>\n",
       "      <td>Aiyoku no Eustia</td>\n",
       "      <td>PSV</td>\n",
       "      <td>2014.0</td>\n",
       "      <td>Misc</td>\n",
       "      <td>0.00</td>\n",
       "      <td>0.00</td>\n",
       "      <td>0.01</td>\n",
       "      <td>0.00</td>\n",
       "      <td>NaN</td>\n",
       "      <td>NaN</td>\n",
       "      <td>unknown</td>\n",
       "      <td>0.01</td>\n",
       "    </tr>\n",
       "    <tr>\n",
       "      <th>16710</th>\n",
       "      <td>Samurai Warriors: Sanada Maru</td>\n",
       "      <td>PS3</td>\n",
       "      <td>2016.0</td>\n",
       "      <td>Action</td>\n",
       "      <td>0.00</td>\n",
       "      <td>0.00</td>\n",
       "      <td>0.01</td>\n",
       "      <td>0.00</td>\n",
       "      <td>NaN</td>\n",
       "      <td>NaN</td>\n",
       "      <td>unknown</td>\n",
       "      <td>0.01</td>\n",
       "    </tr>\n",
       "    <tr>\n",
       "      <th>16712</th>\n",
       "      <td>Haitaka no Psychedelica</td>\n",
       "      <td>PSV</td>\n",
       "      <td>2016.0</td>\n",
       "      <td>Adventure</td>\n",
       "      <td>0.00</td>\n",
       "      <td>0.00</td>\n",
       "      <td>0.01</td>\n",
       "      <td>0.00</td>\n",
       "      <td>NaN</td>\n",
       "      <td>NaN</td>\n",
       "      <td>unknown</td>\n",
       "      <td>0.01</td>\n",
       "    </tr>\n",
       "    <tr>\n",
       "      <th>16714</th>\n",
       "      <td>Winning Post 8 2016</td>\n",
       "      <td>PSV</td>\n",
       "      <td>2016.0</td>\n",
       "      <td>Simulation</td>\n",
       "      <td>0.00</td>\n",
       "      <td>0.00</td>\n",
       "      <td>0.01</td>\n",
       "      <td>0.00</td>\n",
       "      <td>NaN</td>\n",
       "      <td>NaN</td>\n",
       "      <td>unknown</td>\n",
       "      <td>0.01</td>\n",
       "    </tr>\n",
       "  </tbody>\n",
       "</table>\n",
       "<p>2233 rows × 12 columns</p>\n",
       "</div>"
      ],
      "text/plain": [
       "                                name platform  year_of_release         genre  \\\n",
       "16                Grand Theft Auto V      PS3           2013.0        Action   \n",
       "23                Grand Theft Auto V     X360           2013.0        Action   \n",
       "31         Call of Duty: Black Ops 3      PS4           2015.0       Shooter   \n",
       "33               Pokemon X/Pokemon Y      3DS           2013.0  Role-Playing   \n",
       "42                Grand Theft Auto V      PS4           2014.0        Action   \n",
       "...                              ...      ...              ...           ...   \n",
       "16703               Strawberry Nauts      PSV           2016.0     Adventure   \n",
       "16707               Aiyoku no Eustia      PSV           2014.0          Misc   \n",
       "16710  Samurai Warriors: Sanada Maru      PS3           2016.0        Action   \n",
       "16712        Haitaka no Psychedelica      PSV           2016.0     Adventure   \n",
       "16714            Winning Post 8 2016      PSV           2016.0    Simulation   \n",
       "\n",
       "       na_sales  eu_sales  jp_sales  other_sales  critic_score  user_score  \\\n",
       "16         7.02      9.09      0.98         3.96          97.0         8.2   \n",
       "23         9.66      5.14      0.06         1.41          97.0         8.1   \n",
       "31         6.03      5.86      0.36         2.38           NaN         NaN   \n",
       "33         5.28      4.19      4.35         0.78           NaN         NaN   \n",
       "42         3.96      6.31      0.38         1.97          97.0         8.3   \n",
       "...         ...       ...       ...          ...           ...         ...   \n",
       "16703      0.00      0.00      0.01         0.00           NaN         NaN   \n",
       "16707      0.00      0.00      0.01         0.00           NaN         NaN   \n",
       "16710      0.00      0.00      0.01         0.00           NaN         NaN   \n",
       "16712      0.00      0.00      0.01         0.00           NaN         NaN   \n",
       "16714      0.00      0.00      0.01         0.00           NaN         NaN   \n",
       "\n",
       "        rating  total_sales  \n",
       "16           M        21.05  \n",
       "23           M        16.27  \n",
       "31     unknown        14.63  \n",
       "33     unknown        14.60  \n",
       "42           M        12.62  \n",
       "...        ...          ...  \n",
       "16703  unknown         0.01  \n",
       "16707  unknown         0.01  \n",
       "16710  unknown         0.01  \n",
       "16712  unknown         0.01  \n",
       "16714  unknown         0.01  \n",
       "\n",
       "[2233 rows x 12 columns]"
      ]
     },
     "execution_count": 14,
     "metadata": {},
     "output_type": "execute_result"
    }
   ],
   "source": [
    "df_up_to_date = df[df['year_of_release']>=2013] #выбор актуального периода\n",
    "df_up_to_date\n"
   ]
  },
  {
   "cell_type": "markdown",
   "metadata": {},
   "source": [
    "Построим графики динамики продаж по годам для различных платформ для актуального периода."
   ]
  },
  {
   "cell_type": "code",
   "execution_count": 15,
   "metadata": {},
   "outputs": [
    {
     "data": {
      "text/html": [
       "<div>\n",
       "<style scoped>\n",
       "    .dataframe tbody tr th:only-of-type {\n",
       "        vertical-align: middle;\n",
       "    }\n",
       "\n",
       "    .dataframe tbody tr th {\n",
       "        vertical-align: top;\n",
       "    }\n",
       "\n",
       "    .dataframe thead th {\n",
       "        text-align: right;\n",
       "    }\n",
       "</style>\n",
       "<table border=\"1\" class=\"dataframe\">\n",
       "  <thead>\n",
       "    <tr style=\"text-align: right;\">\n",
       "      <th></th>\n",
       "      <th></th>\n",
       "      <th>total_sales</th>\n",
       "    </tr>\n",
       "    <tr>\n",
       "      <th>platform</th>\n",
       "      <th>year_of_release</th>\n",
       "      <th></th>\n",
       "    </tr>\n",
       "  </thead>\n",
       "  <tbody>\n",
       "    <tr>\n",
       "      <th rowspan=\"4\" valign=\"top\">3DS</th>\n",
       "      <th>2013.0</th>\n",
       "      <td>56.57</td>\n",
       "    </tr>\n",
       "    <tr>\n",
       "      <th>2014.0</th>\n",
       "      <td>43.76</td>\n",
       "    </tr>\n",
       "    <tr>\n",
       "      <th>2015.0</th>\n",
       "      <td>27.78</td>\n",
       "    </tr>\n",
       "    <tr>\n",
       "      <th>2016.0</th>\n",
       "      <td>15.14</td>\n",
       "    </tr>\n",
       "    <tr>\n",
       "      <th>DS</th>\n",
       "      <th>2013.0</th>\n",
       "      <td>1.54</td>\n",
       "    </tr>\n",
       "    <tr>\n",
       "      <th rowspan=\"4\" valign=\"top\">PC</th>\n",
       "      <th>2013.0</th>\n",
       "      <td>12.38</td>\n",
       "    </tr>\n",
       "    <tr>\n",
       "      <th>2014.0</th>\n",
       "      <td>13.28</td>\n",
       "    </tr>\n",
       "    <tr>\n",
       "      <th>2015.0</th>\n",
       "      <td>8.52</td>\n",
       "    </tr>\n",
       "    <tr>\n",
       "      <th>2016.0</th>\n",
       "      <td>5.25</td>\n",
       "    </tr>\n",
       "    <tr>\n",
       "      <th rowspan=\"4\" valign=\"top\">PS3</th>\n",
       "      <th>2013.0</th>\n",
       "      <td>113.25</td>\n",
       "    </tr>\n",
       "    <tr>\n",
       "      <th>2014.0</th>\n",
       "      <td>47.76</td>\n",
       "    </tr>\n",
       "    <tr>\n",
       "      <th>2015.0</th>\n",
       "      <td>16.82</td>\n",
       "    </tr>\n",
       "    <tr>\n",
       "      <th>2016.0</th>\n",
       "      <td>3.60</td>\n",
       "    </tr>\n",
       "    <tr>\n",
       "      <th rowspan=\"4\" valign=\"top\">PS4</th>\n",
       "      <th>2013.0</th>\n",
       "      <td>25.99</td>\n",
       "    </tr>\n",
       "    <tr>\n",
       "      <th>2014.0</th>\n",
       "      <td>100.00</td>\n",
       "    </tr>\n",
       "    <tr>\n",
       "      <th>2015.0</th>\n",
       "      <td>118.90</td>\n",
       "    </tr>\n",
       "    <tr>\n",
       "      <th>2016.0</th>\n",
       "      <td>69.25</td>\n",
       "    </tr>\n",
       "    <tr>\n",
       "      <th rowspan=\"3\" valign=\"top\">PSP</th>\n",
       "      <th>2013.0</th>\n",
       "      <td>3.14</td>\n",
       "    </tr>\n",
       "    <tr>\n",
       "      <th>2014.0</th>\n",
       "      <td>0.24</td>\n",
       "    </tr>\n",
       "    <tr>\n",
       "      <th>2015.0</th>\n",
       "      <td>0.12</td>\n",
       "    </tr>\n",
       "    <tr>\n",
       "      <th rowspan=\"4\" valign=\"top\">PSV</th>\n",
       "      <th>2013.0</th>\n",
       "      <td>10.59</td>\n",
       "    </tr>\n",
       "    <tr>\n",
       "      <th>2014.0</th>\n",
       "      <td>11.90</td>\n",
       "    </tr>\n",
       "    <tr>\n",
       "      <th>2015.0</th>\n",
       "      <td>6.25</td>\n",
       "    </tr>\n",
       "    <tr>\n",
       "      <th>2016.0</th>\n",
       "      <td>4.25</td>\n",
       "    </tr>\n",
       "    <tr>\n",
       "      <th rowspan=\"4\" valign=\"top\">Wii</th>\n",
       "      <th>2013.0</th>\n",
       "      <td>8.59</td>\n",
       "    </tr>\n",
       "    <tr>\n",
       "      <th>2014.0</th>\n",
       "      <td>3.75</td>\n",
       "    </tr>\n",
       "    <tr>\n",
       "      <th>2015.0</th>\n",
       "      <td>1.14</td>\n",
       "    </tr>\n",
       "    <tr>\n",
       "      <th>2016.0</th>\n",
       "      <td>0.18</td>\n",
       "    </tr>\n",
       "    <tr>\n",
       "      <th rowspan=\"4\" valign=\"top\">WiiU</th>\n",
       "      <th>2013.0</th>\n",
       "      <td>21.65</td>\n",
       "    </tr>\n",
       "    <tr>\n",
       "      <th>2014.0</th>\n",
       "      <td>22.03</td>\n",
       "    </tr>\n",
       "    <tr>\n",
       "      <th>2015.0</th>\n",
       "      <td>16.35</td>\n",
       "    </tr>\n",
       "    <tr>\n",
       "      <th>2016.0</th>\n",
       "      <td>4.60</td>\n",
       "    </tr>\n",
       "    <tr>\n",
       "      <th rowspan=\"4\" valign=\"top\">X360</th>\n",
       "      <th>2013.0</th>\n",
       "      <td>88.58</td>\n",
       "    </tr>\n",
       "    <tr>\n",
       "      <th>2014.0</th>\n",
       "      <td>34.74</td>\n",
       "    </tr>\n",
       "    <tr>\n",
       "      <th>2015.0</th>\n",
       "      <td>11.96</td>\n",
       "    </tr>\n",
       "    <tr>\n",
       "      <th>2016.0</th>\n",
       "      <td>1.52</td>\n",
       "    </tr>\n",
       "    <tr>\n",
       "      <th rowspan=\"4\" valign=\"top\">XOne</th>\n",
       "      <th>2013.0</th>\n",
       "      <td>18.96</td>\n",
       "    </tr>\n",
       "    <tr>\n",
       "      <th>2014.0</th>\n",
       "      <td>54.07</td>\n",
       "    </tr>\n",
       "    <tr>\n",
       "      <th>2015.0</th>\n",
       "      <td>60.14</td>\n",
       "    </tr>\n",
       "    <tr>\n",
       "      <th>2016.0</th>\n",
       "      <td>26.15</td>\n",
       "    </tr>\n",
       "  </tbody>\n",
       "</table>\n",
       "</div>"
      ],
      "text/plain": [
       "                          total_sales\n",
       "platform year_of_release             \n",
       "3DS      2013.0                 56.57\n",
       "         2014.0                 43.76\n",
       "         2015.0                 27.78\n",
       "         2016.0                 15.14\n",
       "DS       2013.0                  1.54\n",
       "PC       2013.0                 12.38\n",
       "         2014.0                 13.28\n",
       "         2015.0                  8.52\n",
       "         2016.0                  5.25\n",
       "PS3      2013.0                113.25\n",
       "         2014.0                 47.76\n",
       "         2015.0                 16.82\n",
       "         2016.0                  3.60\n",
       "PS4      2013.0                 25.99\n",
       "         2014.0                100.00\n",
       "         2015.0                118.90\n",
       "         2016.0                 69.25\n",
       "PSP      2013.0                  3.14\n",
       "         2014.0                  0.24\n",
       "         2015.0                  0.12\n",
       "PSV      2013.0                 10.59\n",
       "         2014.0                 11.90\n",
       "         2015.0                  6.25\n",
       "         2016.0                  4.25\n",
       "Wii      2013.0                  8.59\n",
       "         2014.0                  3.75\n",
       "         2015.0                  1.14\n",
       "         2016.0                  0.18\n",
       "WiiU     2013.0                 21.65\n",
       "         2014.0                 22.03\n",
       "         2015.0                 16.35\n",
       "         2016.0                  4.60\n",
       "X360     2013.0                 88.58\n",
       "         2014.0                 34.74\n",
       "         2015.0                 11.96\n",
       "         2016.0                  1.52\n",
       "XOne     2013.0                 18.96\n",
       "         2014.0                 54.07\n",
       "         2015.0                 60.14\n",
       "         2016.0                 26.15"
      ]
     },
     "execution_count": 15,
     "metadata": {},
     "output_type": "execute_result"
    }
   ],
   "source": [
    "piv_up_to_date= pd.pivot_table(df_up_to_date,index=[\"platform\",\"year_of_release\"],values='total_sales', aggfunc='sum')\n",
    "piv_up_to_date"
   ]
  },
  {
   "cell_type": "code",
   "execution_count": 16,
   "metadata": {},
   "outputs": [
    {
     "data": {
      "text/plain": [
       "<seaborn.axisgrid.FacetGrid at 0x7f08d38eaaf0>"
      ]
     },
     "execution_count": 16,
     "metadata": {},
     "output_type": "execute_result"
    },
    {
     "data": {
      "image/png": "[encoded data removed]",
      "text/plain": [
       "<Figure size 1142.5x360 with 1 Axes>"
      ]
     },
     "metadata": {
      "needs_background": "light"
     },
     "output_type": "display_data"
    }
   ],
   "source": [
    "sns.relplot(x=\"year_of_release\", \n",
    "            y='total_sales', \n",
    "            hue='platform',\n",
    "            kind='line',\n",
    "            style='platform',\n",
    "            markers=True,\n",
    "            height=5,\n",
    "            aspect=3,\n",
    "            data=piv_up_to_date).set(xlabel='Год',ylabel='Общие продажи, млн',title='Динамика продаж по годам для разлиных платформ')            "
   ]
  },
  {
   "cell_type": "markdown",
   "metadata": {},
   "source": [
    "####  Очевидно, что продажи по всем платформам падают. Потенциально прибыльными платформами на конец 2016 года являются 'PS4', 'XOne', '3DS'."
   ]
  },
  {
   "cell_type": "markdown",
   "metadata": {},
   "source": [
    "Построим диаграммы размаха по общим продажам игр в разбивке по платформам."
   ]
  },
  {
   "cell_type": "code",
   "execution_count": 17,
   "metadata": {},
   "outputs": [
    {
     "data": {
      "image/png": "[encoded data removed]",
      "text/plain": [
       "<Figure size 432x288 with 1 Axes>"
      ]
     },
     "metadata": {
      "needs_background": "light"
     },
     "output_type": "display_data"
    },
    {
     "name": "stdout",
     "output_type": "stream",
     "text": [
      "count    2233.000000\n",
      "mean        0.488442\n",
      "std         1.235226\n",
      "min         0.010000\n",
      "25%         0.030000\n",
      "50%         0.110000\n",
      "75%         0.400000\n",
      "max        21.050000\n",
      "Name: total_sales, dtype: float64\n",
      "1090.69\n"
     ]
    }
   ],
   "source": [
    "df_up_to_date.boxplot(column=['total_sales'])\n",
    "plt.title('Диаграммы размаха по общим продажам игр')\n",
    "plt.ylabel(\"Общие продажи, млн. копий\")\n",
    "plt.ylim(0,1)\n",
    "plt.show()\n",
    "print(df_up_to_date['total_sales'].describe())\n",
    "print(df_up_to_date['total_sales'].sum())"
   ]
  },
  {
   "cell_type": "markdown",
   "metadata": {},
   "source": [
    "#### В период с 2013 года по 2016 год было выпущено приблизительно  2,2 тыс. игр,  продано приблизительно 1 миллиарда копий игр. В среднем, продажи  каждой игры составляют 0,5  млн копий, медиана - 0,11  миллиона копий. Есть хиты, продажи которых в десятки  раз превышают среднее значение."
   ]
  },
  {
   "cell_type": "code",
   "execution_count": 18,
   "metadata": {},
   "outputs": [
    {
     "data": {
      "text/plain": [
       "(0.0, 1.0)"
      ]
     },
     "execution_count": 18,
     "metadata": {},
     "output_type": "execute_result"
    },
    {
     "data": {
      "image/png": "[encoded data removed]",
      "text/plain": [
       "<Figure size 1080x360 with 1 Axes>"
      ]
     },
     "metadata": {
      "needs_background": "light"
     },
     "output_type": "display_data"
    }
   ],
   "source": [
    "sns.catplot(x='platform', y=\"total_sales\", kind=\"box\",height=5, aspect=3, data=df_up_to_date)\n",
    "plt.xlabel(\"Платформа\")\n",
    "plt.ylabel(\"Общие продажи, млн. копий\")\n",
    "plt.title(\"Диаграммы размаха по общим продажам игр в разбивке по платформам\")\n",
    "plt.ylim(0,1)"
   ]
  },
  {
   "cell_type": "markdown",
   "metadata": {},
   "source": [
    "#### Наибольшие медианные продажи  показывают  платформы X360, XOne, WiiU, Wii, PS4.  Медианные продажи 0,2 -0,3 млн. копий. Многие платформы  имеют выбросы - это игры, которые \"выстрелили\". Платформа PSP имеет самые маленькие продажи."
   ]
  },
  {
   "cell_type": "markdown",
   "metadata": {},
   "source": [
    "Оценим влияние отзывов пользователей и критиков на продажи. Исследования проведем на основе данных для платформ 'X360','XOne', 'PS4'."
   ]
  },
  {
   "cell_type": "code",
   "execution_count": 19,
   "metadata": {
    "scrolled": false
   },
   "outputs": [
    {
     "name": "stdout",
     "output_type": "stream",
     "text": [
      "Платформа X360\n",
      "              critic_score  user_score  total_sales\n",
      "critic_score      1.000000    0.520946     0.350345\n",
      "user_score        0.520946    1.000000    -0.011742\n",
      "total_sales       0.350345   -0.011742     1.000000\n"
     ]
    },
    {
     "data": {
      "image/png": "[encoded data removed]",
      "text/plain": [
       "<Figure size 540x540 with 12 Axes>"
      ]
     },
     "metadata": {
      "needs_background": "light"
     },
     "output_type": "display_data"
    },
    {
     "name": "stdout",
     "output_type": "stream",
     "text": [
      "Платформа XOne\n",
      "              critic_score  user_score  total_sales\n",
      "critic_score      1.000000    0.472462     0.416998\n",
      "user_score        0.472462    1.000000    -0.068925\n",
      "total_sales       0.416998   -0.068925     1.000000\n"
     ]
    },
    {
     "data": {
      "image/png": "[encoded data removed]",
      "text/plain": [
       "<Figure size 540x540 with 12 Axes>"
      ]
     },
     "metadata": {
      "needs_background": "light"
     },
     "output_type": "display_data"
    },
    {
     "name": "stdout",
     "output_type": "stream",
     "text": [
      "Платформа PS4\n",
      "              critic_score  user_score  total_sales\n",
      "critic_score      1.000000    0.557654     0.406568\n",
      "user_score        0.557654    1.000000    -0.031957\n",
      "total_sales       0.406568   -0.031957     1.000000\n"
     ]
    },
    {
     "data": {
      "image/png": "[encoded data removed]",
      "text/plain": [
       "<Figure size 540x540 with 12 Axes>"
      ]
     },
     "metadata": {
      "needs_background": "light"
     },
     "output_type": "display_data"
    }
   ],
   "source": [
    "for platform in ['X360','XOne', 'PS4']:\n",
    "    print ('Платформа ' + platform )\n",
    "    sns.pairplot(df_up_to_date[df_up_to_date.platform == platform][['critic_score', 'user_score','total_sales']])\n",
    "    print(df_up_to_date[df_up_to_date.platform == platform][['critic_score', 'user_score','total_sales']].corr())\n",
    "    plt.show()\n",
    "    "
   ]
  },
  {
   "cell_type": "markdown",
   "metadata": {},
   "source": [
    "#### Высокая оценка критиков как правило увеличивает продажу игры, в то время как оценка пользователей практически не влияет на продажи. Наблюдается слабая кореляция между оценками критиков и продажами игр, корреляция между оценками пользователей  и продажами отсутсвует.  Коэффициент   корреляция между total_sales и critic_score равен  0.35-0.42."
   ]
  },
  {
   "cell_type": "markdown",
   "metadata": {},
   "source": [
    "Посмотрим на  распределение проданных игр по жанрам. Исследуем  медианы продаж."
   ]
  },
  {
   "cell_type": "code",
   "execution_count": 20,
   "metadata": {},
   "outputs": [
    {
     "data": {
      "image/png": "[encoded data removed]",
      "text/plain": [
       "<Figure size 1080x360 with 1 Axes>"
      ]
     },
     "metadata": {
      "needs_background": "light"
     },
     "output_type": "display_data"
    }
   ],
   "source": [
    "df_up_to_date.groupby('genre')['total_sales'].median().sort_values(ascending= False).plot(kind='bar',figsize=(15, 5))\n",
    "plt.xlabel(\"Жанр игры\")\n",
    "plt.ylabel(\"Продажи\")\n",
    "plt.title(\"Распределение продаж игр по жанрам, функция агрегации- медиана\")\n",
    "plt.show()"
   ]
  },
  {
   "cell_type": "markdown",
   "metadata": {},
   "source": [
    "#### Больше всего  поклонников у игр жанра Shooter, затем идут Sports и Platform. Аутсайдерами по продажам являются жанры Strategy,\tPuzzle,  Adventure.  \n"
   ]
  },
  {
   "cell_type": "markdown",
   "metadata": {},
   "source": [
    "### Составим портрет пользователя каждого региона"
   ]
  },
  {
   "cell_type": "markdown",
   "metadata": {},
   "source": [
    "Определим топ-5 платформ для каждого региона."
   ]
  },
  {
   "cell_type": "code",
   "execution_count": 21,
   "metadata": {},
   "outputs": [
    {
     "data": {
      "text/html": [
       "<div>\n",
       "<style scoped>\n",
       "    .dataframe tbody tr th:only-of-type {\n",
       "        vertical-align: middle;\n",
       "    }\n",
       "\n",
       "    .dataframe tbody tr th {\n",
       "        vertical-align: top;\n",
       "    }\n",
       "\n",
       "    .dataframe thead th {\n",
       "        text-align: right;\n",
       "    }\n",
       "</style>\n",
       "<table border=\"1\" class=\"dataframe\">\n",
       "  <thead>\n",
       "    <tr style=\"text-align: right;\">\n",
       "      <th></th>\n",
       "      <th>eu_sales</th>\n",
       "      <th>jp_sales</th>\n",
       "      <th>na_sales</th>\n",
       "    </tr>\n",
       "    <tr>\n",
       "      <th>platform</th>\n",
       "      <th></th>\n",
       "      <th></th>\n",
       "      <th></th>\n",
       "    </tr>\n",
       "  </thead>\n",
       "  <tbody>\n",
       "    <tr>\n",
       "      <th>3DS</th>\n",
       "      <td>30.96</td>\n",
       "      <td>67.81</td>\n",
       "      <td>38.20</td>\n",
       "    </tr>\n",
       "    <tr>\n",
       "      <th>DS</th>\n",
       "      <td>0.85</td>\n",
       "      <td>0.00</td>\n",
       "      <td>0.57</td>\n",
       "    </tr>\n",
       "    <tr>\n",
       "      <th>PC</th>\n",
       "      <td>25.36</td>\n",
       "      <td>0.00</td>\n",
       "      <td>11.11</td>\n",
       "    </tr>\n",
       "    <tr>\n",
       "      <th>PS3</th>\n",
       "      <td>67.81</td>\n",
       "      <td>23.35</td>\n",
       "      <td>63.50</td>\n",
       "    </tr>\n",
       "    <tr>\n",
       "      <th>PS4</th>\n",
       "      <td>141.09</td>\n",
       "      <td>15.96</td>\n",
       "      <td>108.74</td>\n",
       "    </tr>\n",
       "    <tr>\n",
       "      <th>PSP</th>\n",
       "      <td>0.17</td>\n",
       "      <td>3.29</td>\n",
       "      <td>0.00</td>\n",
       "    </tr>\n",
       "    <tr>\n",
       "      <th>PSV</th>\n",
       "      <td>6.10</td>\n",
       "      <td>18.59</td>\n",
       "      <td>5.04</td>\n",
       "    </tr>\n",
       "    <tr>\n",
       "      <th>Wii</th>\n",
       "      <td>5.93</td>\n",
       "      <td>0.05</td>\n",
       "      <td>6.56</td>\n",
       "    </tr>\n",
       "    <tr>\n",
       "      <th>WiiU</th>\n",
       "      <td>19.85</td>\n",
       "      <td>10.88</td>\n",
       "      <td>29.21</td>\n",
       "    </tr>\n",
       "    <tr>\n",
       "      <th>X360</th>\n",
       "      <td>42.52</td>\n",
       "      <td>0.51</td>\n",
       "      <td>81.66</td>\n",
       "    </tr>\n",
       "    <tr>\n",
       "      <th>XOne</th>\n",
       "      <td>51.59</td>\n",
       "      <td>0.34</td>\n",
       "      <td>93.12</td>\n",
       "    </tr>\n",
       "  </tbody>\n",
       "</table>\n",
       "</div>"
      ],
      "text/plain": [
       "          eu_sales  jp_sales  na_sales\n",
       "platform                              \n",
       "3DS          30.96     67.81     38.20\n",
       "DS            0.85      0.00      0.57\n",
       "PC           25.36      0.00     11.11\n",
       "PS3          67.81     23.35     63.50\n",
       "PS4         141.09     15.96    108.74\n",
       "PSP           0.17      3.29      0.00\n",
       "PSV           6.10     18.59      5.04\n",
       "Wii           5.93      0.05      6.56\n",
       "WiiU         19.85     10.88     29.21\n",
       "X360         42.52      0.51     81.66\n",
       "XOne         51.59      0.34     93.12"
      ]
     },
     "execution_count": 21,
     "metadata": {},
     "output_type": "execute_result"
    }
   ],
   "source": [
    "piv_region= pd.pivot_table(df_up_to_date,index=\"platform\",values=['na_sales','eu_sales','jp_sales'], aggfunc='sum')\n",
    "piv_region"
   ]
  },
  {
   "cell_type": "code",
   "execution_count": 22,
   "metadata": {},
   "outputs": [
    {
     "data": {
      "image/png": "[encoded data removed]",
      "text/plain": [
       "<Figure size 1080x360 with 1 Axes>"
      ]
     },
     "metadata": {
      "needs_background": "light"
     },
     "output_type": "display_data"
    },
    {
     "data": {
      "image/png": "[encoded data removed]",
      "text/plain": [
       "<Figure size 1080x360 with 1 Axes>"
      ]
     },
     "metadata": {
      "needs_background": "light"
     },
     "output_type": "display_data"
    },
    {
     "data": {
      "image/png": "[encoded data removed]",
      "text/plain": [
       "<Figure size 1080x360 with 1 Axes>"
      ]
     },
     "metadata": {
      "needs_background": "light"
     },
     "output_type": "display_data"
    }
   ],
   "source": [
    "for region in ['na','eu', 'jp']:\n",
    "    df_up_to_date.groupby('platform')[region+ '_sales'].sum().sort_values(ascending= False)[:5].plot(kind='bar',figsize=(15, 5))\n",
    "    plt.xlabel(\"Платформа\")\n",
    "    plt.ylabel(\"Общие продажи, млн копий\")\n",
    "    plt.title(\"Топ-5 продаж платформ \" + region.upper())\n",
    "    plt.show()\n",
    "    "
   ]
  },
  {
   "cell_type": "code",
   "execution_count": 23,
   "metadata": {},
   "outputs": [
    {
     "data": {
      "image/png": "[encoded data removed]",
      "text/plain": [
       "<Figure size 1080x360 with 3 Axes>"
      ]
     },
     "metadata": {
      "needs_background": "light"
     },
     "output_type": "display_data"
    }
   ],
   "source": [
    "fig, ax = plt.subplots(1, 3, figsize=(15, 5))\n",
    "num= 0\n",
    "for region in ['na','eu', 'jp']:\n",
    "    df_up_to_date.groupby('platform')[region+ '_sales'].sum().sort_values(ascending= False)[:5].plot(kind='bar',figsize=(15, 5),ax = ax[num])\n",
    "    ax[num].set_title(\"Топ-5 продаж платформ \" + region.upper())\n",
    "    num +=1  \n",
    "     \n"
   ]
  },
  {
   "cell_type": "markdown",
   "metadata": {},
   "source": [
    "#### В Северной Америке  популярны приставки PS4, XOne и X360.\n",
    "#### Европейцы предпочитают PS4, PS3 и XOne.\n",
    "#### В Японии популярны 3DS, PS3 и PSV."
   ]
  },
  {
   "cell_type": "markdown",
   "metadata": {},
   "source": [
    "Определим самые популярные жанры игр для каждого региона."
   ]
  },
  {
   "cell_type": "code",
   "execution_count": 24,
   "metadata": {},
   "outputs": [
    {
     "data": {
      "image/png": "[encoded data removed]",
      "text/plain": [
       "<Figure size 1080x360 with 1 Axes>"
      ]
     },
     "metadata": {
      "needs_background": "light"
     },
     "output_type": "display_data"
    },
    {
     "data": {
      "image/png": "[encoded data removed]",
      "text/plain": [
       "<Figure size 1080x360 with 1 Axes>"
      ]
     },
     "metadata": {
      "needs_background": "light"
     },
     "output_type": "display_data"
    },
    {
     "data": {
      "image/png": "[encoded data removed]",
      "text/plain": [
       "<Figure size 1080x360 with 1 Axes>"
      ]
     },
     "metadata": {
      "needs_background": "light"
     },
     "output_type": "display_data"
    }
   ],
   "source": [
    "for region in ['na','eu', 'jp']:\n",
    "    df_up_to_date.groupby('genre')[region+ '_sales'].sum().sort_values(ascending= False)[:5].plot(kind='bar',figsize=(15, 5))\n",
    "    plt.xlabel(\"Жанр игры\")\n",
    "    plt.ylabel(\"Общие продажи, млн копий\")\n",
    "    plt.title(\"Топ-5 популярных жанров \" + region.upper())\n",
    "    plt.show()"
   ]
  },
  {
   "cell_type": "markdown",
   "metadata": {},
   "source": [
    "#### В Северной Америке и Европе предпочитают игры жанра Action, Sports и Shooter. В Северной Америке больше играют в Misc, в Европе же чаще выбирают Racing.\n",
    "#### В Японии с большим отрывом лидируют  жанры Role-Playing и Action.  Далее Misc.\n"
   ]
  },
  {
   "cell_type": "markdown",
   "metadata": {},
   "source": [
    "Опредлеим влияние рейтинга ESRB на продажи в каждом регионе."
   ]
  },
  {
   "cell_type": "code",
   "execution_count": 25,
   "metadata": {},
   "outputs": [
    {
     "data": {
      "image/png": "[encoded data removed]",
      "text/plain": [
       "<Figure size 1080x360 with 1 Axes>"
      ]
     },
     "metadata": {
      "needs_background": "light"
     },
     "output_type": "display_data"
    }
   ],
   "source": [
    "df_up_to_date.groupby('rating')['na_sales'].sum().plot(kind='bar',figsize=(15, 5), alpha = 0.5,color = '#E69F00', label='NA')\n",
    "df_up_to_date.groupby('rating')['eu_sales'].sum().plot(kind='bar',figsize=(15, 5), alpha = 0.5, color = '#56B4E9',label='EU')\n",
    "df_up_to_date.groupby('rating')['jp_sales'].sum().plot(kind='bar',figsize=(15, 5), alpha = 0.5,color = '#F0E442', label='JP')\n",
    "plt.legend(loc='upper right')\n",
    "plt.show()\n",
    "    "
   ]
  },
  {
   "cell_type": "code",
   "execution_count": 26,
   "metadata": {},
   "outputs": [
    {
     "data": {
      "image/png": "[encoded data removed]",
      "text/plain": [
       "<Figure size 1080x360 with 1 Axes>"
      ]
     },
     "metadata": {
      "needs_background": "light"
     },
     "output_type": "display_data"
    },
    {
     "data": {
      "image/png": "[encoded data removed]",
      "text/plain": [
       "<Figure size 1080x360 with 1 Axes>"
      ]
     },
     "metadata": {
      "needs_background": "light"
     },
     "output_type": "display_data"
    },
    {
     "data": {
      "image/png": "[encoded data removed]",
      "text/plain": [
       "<Figure size 1080x360 with 1 Axes>"
      ]
     },
     "metadata": {
      "needs_background": "light"
     },
     "output_type": "display_data"
    }
   ],
   "source": [
    "for region in ['na','eu', 'jp']:\n",
    "    df_up_to_date.groupby('rating')[region+ '_sales'].sum().sort_values(ascending= False)[:5].plot(kind='bar',figsize=(15, 5))\n",
    "    plt.xlabel(\"Pейтинг ESRB\")\n",
    "    plt.ylabel(\"Общие продажи, млн копий\")\n",
    "    plt.title(\"Топ-5 продаж \" + region.upper())\n",
    "    plt.show()"
   ]
  },
  {
   "cell_type": "markdown",
   "metadata": {},
   "source": [
    "#### В Северной Америке и в Европе больше всего игр продается с рейтингом \"для лиц старше 17 лет\", игры с рейтингом \"для всех возрастных категорий\" и игры с неизвестным рейтингом.\n",
    "\n",
    "#### В Японии лидируют продажи  игр  с неизвестным рейтингом (т.к. система ESRB существует только в США, Канаде и Мексике),  на втором месте   игры \"для лиц от 13 лет\" и затем игры  \"для всех возрастных категорий\"."
   ]
  },
  {
   "cell_type": "markdown",
   "metadata": {},
   "source": [
    "### Проверка гипотез"
   ]
  },
  {
   "cell_type": "markdown",
   "metadata": {},
   "source": [
    "Проверим гипотезу:\n",
    "* Средние пользовательские рейтинги платформ Xbox One и PC одинаковые"
   ]
  },
  {
   "cell_type": "markdown",
   "metadata": {},
   "source": [
    "Для проверки  гипотезы будем использовать t-критерий Стьюдента. Определим пороговое значение alpha = 0.05\n",
    "* Н0 (нулевая гипотеза) - средние пользовательские рейтинги платформ Xbox One и PC одинаковые.\n",
    "* Н1 (альтернативная гипотеза) - средние пользовательские рейтинги платформ Xbox One и PC отличаются между собой."
   ]
  },
  {
   "cell_type": "code",
   "execution_count": 27,
   "metadata": {},
   "outputs": [
    {
     "name": "stdout",
     "output_type": "stream",
     "text": [
      "p-значение:  0.14012658403611647\n",
      "Не получилось отвергнуть нулевую гипотезу\n"
     ]
    }
   ],
   "source": [
    "xbox_one = df_up_to_date[df_up_to_date['platform'] == 'XOne']['user_score'].dropna() # удалим пустые значения\n",
    "pc = df_up_to_date[df_up_to_date['platform'] == 'PC']['user_score'].dropna()\n",
    "results = st.ttest_ind(xbox_one, pc)\n",
    "print('p-значение: ', results.pvalue) # вывод значения p-value на экран \n",
    "alpha =.05 # alpha =  значение уровня значимости\n",
    "if results.pvalue < alpha:\n",
    "    print(\"Отвергаем нулевую гипотезу\")\n",
    "else:\n",
    "    print(\"Не получилось отвергнуть нулевую гипотезу\")"
   ]
  },
  {
   "cell_type": "markdown",
   "metadata": {},
   "source": [
    "#### Cредняя оценка пользователей платформы XBox One не  отличается от средней оценки пользователей платформы PC. Гипотеза  подтвердилась."
   ]
  },
  {
   "cell_type": "markdown",
   "metadata": {},
   "source": [
    "Проверим гипотезу:\n",
    "* Средние пользовательские рейтинги жанров Action  и Sports  разные"
   ]
  },
  {
   "cell_type": "markdown",
   "metadata": {},
   "source": [
    "* Н0 (нулевая гипотеза) - средние пользовательские рейтинги жанров Action и Sports одинаковые.\n",
    "* Н1 (альтернативная гипотеза) - средние пользовательские рейтинги жанров Action и Sports отличаются между собой."
   ]
  },
  {
   "cell_type": "code",
   "execution_count": 28,
   "metadata": {},
   "outputs": [
    {
     "name": "stdout",
     "output_type": "stream",
     "text": [
      "p-значение:  1.4460039700704315e-20\n",
      "Отвергаем нулевую гипотезу\n"
     ]
    }
   ],
   "source": [
    "action = df_up_to_date[df_up_to_date['genre'] == 'Action']['user_score'].dropna() # удалим пустые значения\n",
    "sport = df_up_to_date[df_up_to_date['genre'] == 'Sports']['user_score'].dropna()\n",
    "results = st.ttest_ind(action, sport, equal_var = False)\n",
    "print('p-значение: ', results.pvalue) # вывод значения p-value на экран \n",
    "alpha =.05 # alpha =  значение уровня значимости\n",
    "if results.pvalue < alpha:\n",
    "    print(\"Отвергаем нулевую гипотезу\")\n",
    "else:\n",
    "    print(\"Не получилось отвергнуть нулевую гипотезу\")"
   ]
  },
  {
   "cell_type": "markdown",
   "metadata": {},
   "source": [
    "#### Средние пользовательские рейтинги жанров Action и Sports разные. Гипотеза подтверилась."
   ]
  },
  {
   "cell_type": "markdown",
   "metadata": {},
   "source": [
    "### Общий вывод"
   ]
  },
  {
   "cell_type": "markdown",
   "metadata": {},
   "source": [
    "* Резкий рост выпуска игр приходится на 2000-2002 год, а пик на 2008-2009 годы.С 2010 года наблюдается спад в производсве игр.\n",
    "* Характерный срок жизни платформы - 10 лет\n",
    "* Потенциально прибыльными платформами на конец 2016 года являются 'PS4', 'XOne', '3DS'.\n",
    "* Наибольшие медианные продажи показывают платформы X360, XOne, WiiU, Wii, PS4. Медианные продажи 0,2 -0,3 млн. копий. Многие платформы имеют выбросы - это игры, которые \"выстрелили\". Платформа PSP имеет самые маленькие продажи\n",
    "* Оценки критиков слабо влияют на общие продажи, оценки пользователей не влияют совсем.\n",
    "* Больше всего поклонников у игр жанра Shooter, затем идут Sports и Platform. Аутсайдерами по продажам являются жанры Strategy, Puzzle, Adventure.\n",
    "* В Северной Америке популярны приставки PS4, XOne и X360. Европейцы предпочитают PS4, PS3 и XOne.В Японии популярны 3DS, PS3 и PSV.\n",
    "* В Северной Америке и Европе предпочитают игры жанра Action, Sports и Shooter. В Японии с большим отрывом лидируют  жанры Role-Playing и Action.\n",
    "* В Северной Америке и в Европе больше всего игр продается с рейтингом \"для лиц старше 17 лет\" и игры с рейтингом \"для всех возрастных категорий\". В Японии лидируют продажи игр с неизвестным рейтингом ,т.к. система ESRB существует только в США, Канаде и Мексике, на втором месте игры \"для лиц от 13 лет\" и затем игры \"для всех возрастных категорий\"..\n",
    "* Cредняя оценка пользователей платформы XBox One не отличается от средней оценки пользователей платформы PC.\n",
    "* Средние пользовательские рейтинги жанров Action и Sports разные.\n"
   ]
  }
 ],
 "metadata": {
  "ExecuteTimeLog": [
   {
    "duration": 3,
    "start_time": "2023-01-17T03:11:16.988Z"
   },
   {
    "duration": 1354,
    "start_time": "2023-01-17T03:13:49.309Z"
   },
   {
    "duration": 203,
    "start_time": "2023-01-17T03:16:12.050Z"
   },
   {
    "duration": 14,
    "start_time": "2023-01-17T03:17:21.000Z"
   },
   {
    "duration": 9,
    "start_time": "2023-01-17T03:37:29.106Z"
   },
   {
    "duration": 4,
    "start_time": "2023-01-17T03:59:18.925Z"
   },
   {
    "duration": 4,
    "start_time": "2023-01-17T03:59:23.898Z"
   },
   {
    "duration": 19,
    "start_time": "2023-01-17T03:59:40.823Z"
   },
   {
    "duration": 3,
    "start_time": "2023-01-17T04:00:07.794Z"
   },
   {
    "duration": 21,
    "start_time": "2023-01-17T04:01:31.435Z"
   },
   {
    "duration": 47,
    "start_time": "2023-01-17T04:09:48.344Z"
   },
   {
    "duration": 7,
    "start_time": "2023-01-17T04:12:35.076Z"
   },
   {
    "duration": 5,
    "start_time": "2023-01-17T04:15:25.407Z"
   },
   {
    "duration": 18,
    "start_time": "2023-01-17T04:23:15.103Z"
   },
   {
    "duration": 5,
    "start_time": "2023-01-17T04:25:10.813Z"
   },
   {
    "duration": 14,
    "start_time": "2023-01-17T04:27:14.122Z"
   },
   {
    "duration": 4,
    "start_time": "2023-01-17T04:32:49.789Z"
   },
   {
    "duration": 13,
    "start_time": "2023-01-17T04:32:54.851Z"
   },
   {
    "duration": 25,
    "start_time": "2023-01-17T04:33:59.396Z"
   },
   {
    "duration": 17,
    "start_time": "2023-01-17T04:34:15.350Z"
   },
   {
    "duration": 4,
    "start_time": "2023-01-17T04:34:49.911Z"
   },
   {
    "duration": 5,
    "start_time": "2023-01-17T04:35:08.977Z"
   },
   {
    "duration": 4,
    "start_time": "2023-01-17T04:35:32.326Z"
   },
   {
    "duration": 14,
    "start_time": "2023-01-17T04:35:39.552Z"
   },
   {
    "duration": 5,
    "start_time": "2023-01-17T04:36:41.709Z"
   },
   {
    "duration": 6,
    "start_time": "2023-01-17T05:00:44.528Z"
   },
   {
    "duration": 22,
    "start_time": "2023-01-17T05:01:52.360Z"
   },
   {
    "duration": 4,
    "start_time": "2023-01-17T05:03:20.570Z"
   },
   {
    "duration": 7,
    "start_time": "2023-01-17T05:16:51.871Z"
   },
   {
    "duration": 21,
    "start_time": "2023-01-17T05:22:21.351Z"
   },
   {
    "duration": 65,
    "start_time": "2023-01-17T05:22:55.366Z"
   },
   {
    "duration": 1567,
    "start_time": "2023-01-17T05:23:01.814Z"
   },
   {
    "duration": 59,
    "start_time": "2023-01-17T05:23:42.688Z"
   },
   {
    "duration": 1392,
    "start_time": "2023-01-17T05:23:47.913Z"
   },
   {
    "duration": 60,
    "start_time": "2023-01-17T05:24:49.910Z"
   },
   {
    "duration": 14,
    "start_time": "2023-01-17T05:24:52.574Z"
   },
   {
    "duration": 10,
    "start_time": "2023-01-17T05:24:54.970Z"
   },
   {
    "duration": 20,
    "start_time": "2023-01-17T05:24:58.376Z"
   },
   {
    "duration": 5,
    "start_time": "2023-01-17T05:25:05.057Z"
   },
   {
    "duration": 20,
    "start_time": "2023-01-17T05:25:08.076Z"
   },
   {
    "duration": 20,
    "start_time": "2023-01-17T05:25:50.636Z"
   },
   {
    "duration": 19,
    "start_time": "2023-01-17T05:28:44.633Z"
   },
   {
    "duration": 6,
    "start_time": "2023-01-17T05:29:39.857Z"
   },
   {
    "duration": 8,
    "start_time": "2023-01-17T05:29:45.283Z"
   },
   {
    "duration": 23,
    "start_time": "2023-01-17T05:29:51.936Z"
   },
   {
    "duration": 7,
    "start_time": "2023-01-17T05:30:28.206Z"
   },
   {
    "duration": 8,
    "start_time": "2023-01-17T05:30:42.507Z"
   },
   {
    "duration": 22,
    "start_time": "2023-01-17T05:31:36.035Z"
   },
   {
    "duration": 9,
    "start_time": "2023-01-17T05:31:58.853Z"
   },
   {
    "duration": 7,
    "start_time": "2023-01-17T05:32:31.811Z"
   },
   {
    "duration": 7,
    "start_time": "2023-01-17T05:35:36.555Z"
   },
   {
    "duration": 8,
    "start_time": "2023-01-17T05:35:45.297Z"
   },
   {
    "duration": 9,
    "start_time": "2023-01-17T05:35:59.304Z"
   },
   {
    "duration": 18,
    "start_time": "2023-01-17T05:40:40.495Z"
   },
   {
    "duration": 13,
    "start_time": "2023-01-17T05:40:46.747Z"
   },
   {
    "duration": 20,
    "start_time": "2023-01-17T05:41:02.862Z"
   },
   {
    "duration": 19,
    "start_time": "2023-01-17T05:41:47.616Z"
   },
   {
    "duration": 63,
    "start_time": "2023-01-17T05:43:24.959Z"
   },
   {
    "duration": 767,
    "start_time": "2023-01-17T05:45:29.344Z"
   },
   {
    "duration": 687,
    "start_time": "2023-01-17T05:46:16.023Z"
   },
   {
    "duration": 20,
    "start_time": "2023-01-17T05:46:48.056Z"
   },
   {
    "duration": 13,
    "start_time": "2023-01-17T05:47:31.711Z"
   },
   {
    "duration": 10,
    "start_time": "2023-01-17T05:47:50.461Z"
   },
   {
    "duration": 9,
    "start_time": "2023-01-17T05:48:10.691Z"
   },
   {
    "duration": 26,
    "start_time": "2023-01-17T05:48:31.659Z"
   },
   {
    "duration": 16,
    "start_time": "2023-01-17T05:49:10.301Z"
   },
   {
    "duration": 18,
    "start_time": "2023-01-17T05:52:18.706Z"
   },
   {
    "duration": 15,
    "start_time": "2023-01-17T05:53:20.762Z"
   },
   {
    "duration": 19,
    "start_time": "2023-01-17T05:53:42.414Z"
   },
   {
    "duration": 16,
    "start_time": "2023-01-17T05:54:10.364Z"
   },
   {
    "duration": 17,
    "start_time": "2023-01-17T05:54:29.213Z"
   },
   {
    "duration": 25,
    "start_time": "2023-01-17T05:56:05.314Z"
   },
   {
    "duration": 25,
    "start_time": "2023-01-17T05:57:18.210Z"
   },
   {
    "duration": 52,
    "start_time": "2023-01-17T06:05:27.359Z"
   },
   {
    "duration": 9,
    "start_time": "2023-01-17T06:09:25.639Z"
   },
   {
    "duration": 22,
    "start_time": "2023-01-17T06:09:31.560Z"
   },
   {
    "duration": 8,
    "start_time": "2023-01-17T06:10:14.183Z"
   },
   {
    "duration": 7,
    "start_time": "2023-01-17T06:10:18.662Z"
   },
   {
    "duration": 35,
    "start_time": "2023-01-17T06:10:22.856Z"
   },
   {
    "duration": 16,
    "start_time": "2023-01-17T06:12:12.020Z"
   },
   {
    "duration": 22,
    "start_time": "2023-01-17T06:38:47.753Z"
   },
   {
    "duration": 21,
    "start_time": "2023-01-17T07:24:42.951Z"
   },
   {
    "duration": 7,
    "start_time": "2023-01-17T07:27:03.198Z"
   },
   {
    "duration": 4,
    "start_time": "2023-01-17T07:33:50.884Z"
   },
   {
    "duration": 19,
    "start_time": "2023-01-17T07:34:16.071Z"
   },
   {
    "duration": 37,
    "start_time": "2023-01-17T07:34:39.959Z"
   },
   {
    "duration": 7,
    "start_time": "2023-01-17T07:36:53.687Z"
   },
   {
    "duration": 33,
    "start_time": "2023-01-17T07:37:17.561Z"
   },
   {
    "duration": 8,
    "start_time": "2023-01-17T07:38:21.699Z"
   },
   {
    "duration": 37,
    "start_time": "2023-01-17T07:41:38.430Z"
   },
   {
    "duration": 36,
    "start_time": "2023-01-17T07:43:34.278Z"
   },
   {
    "duration": 8,
    "start_time": "2023-01-17T07:45:50.003Z"
   },
   {
    "duration": 307,
    "start_time": "2023-01-17T07:47:46.149Z"
   },
   {
    "duration": 9,
    "start_time": "2023-01-17T07:48:06.793Z"
   },
   {
    "duration": 31,
    "start_time": "2023-01-17T07:50:33.619Z"
   },
   {
    "duration": 8,
    "start_time": "2023-01-17T07:51:12.127Z"
   },
   {
    "duration": 13,
    "start_time": "2023-01-17T07:53:35.842Z"
   },
   {
    "duration": 9,
    "start_time": "2023-01-17T07:53:54.913Z"
   },
   {
    "duration": 14,
    "start_time": "2023-01-17T07:54:20.672Z"
   },
   {
    "duration": 464,
    "start_time": "2023-01-17T08:16:00.999Z"
   },
   {
    "duration": 343,
    "start_time": "2023-01-17T08:18:26.049Z"
   },
   {
    "duration": 376,
    "start_time": "2023-01-17T08:21:45.572Z"
   },
   {
    "duration": 18,
    "start_time": "2023-01-17T08:42:33.399Z"
   },
   {
    "duration": 7,
    "start_time": "2023-01-17T08:47:27.118Z"
   },
   {
    "duration": 430,
    "start_time": "2023-01-17T08:51:02.947Z"
   },
   {
    "duration": 372,
    "start_time": "2023-01-17T08:55:12.588Z"
   },
   {
    "duration": 335,
    "start_time": "2023-01-17T08:56:08.411Z"
   },
   {
    "duration": 373,
    "start_time": "2023-01-17T08:56:35.019Z"
   },
   {
    "duration": 322,
    "start_time": "2023-01-17T09:02:09.887Z"
   },
   {
    "duration": 409,
    "start_time": "2023-01-17T09:05:08.210Z"
   },
   {
    "duration": 323,
    "start_time": "2023-01-17T09:05:18.134Z"
   },
   {
    "duration": 322,
    "start_time": "2023-01-17T09:06:18.995Z"
   },
   {
    "duration": 322,
    "start_time": "2023-01-17T09:10:46.326Z"
   },
   {
    "duration": 317,
    "start_time": "2023-01-17T09:10:57.394Z"
   },
   {
    "duration": 316,
    "start_time": "2023-01-17T09:11:31.989Z"
   },
   {
    "duration": 421,
    "start_time": "2023-01-17T09:11:48.770Z"
   },
   {
    "duration": 297,
    "start_time": "2023-01-17T09:12:05.378Z"
   },
   {
    "duration": 311,
    "start_time": "2023-01-17T09:13:40.195Z"
   },
   {
    "duration": 311,
    "start_time": "2023-01-17T09:18:24.534Z"
   },
   {
    "duration": 297,
    "start_time": "2023-01-17T09:20:09.404Z"
   },
   {
    "duration": 300,
    "start_time": "2023-01-17T09:20:34.376Z"
   },
   {
    "duration": 247,
    "start_time": "2023-01-17T09:42:48.406Z"
   },
   {
    "duration": 257,
    "start_time": "2023-01-17T09:44:38.955Z"
   },
   {
    "duration": 11,
    "start_time": "2023-01-17T09:50:59.532Z"
   },
   {
    "duration": 251,
    "start_time": "2023-01-17T09:51:35.840Z"
   },
   {
    "duration": 412,
    "start_time": "2023-01-17T09:51:45.457Z"
   },
   {
    "duration": 327,
    "start_time": "2023-01-17T09:52:06.264Z"
   },
   {
    "duration": 252,
    "start_time": "2023-01-17T09:52:39.934Z"
   },
   {
    "duration": 238,
    "start_time": "2023-01-17T09:52:59.538Z"
   },
   {
    "duration": 268,
    "start_time": "2023-01-17T09:56:28.182Z"
   },
   {
    "duration": 8,
    "start_time": "2023-01-17T10:03:48.687Z"
   },
   {
    "duration": 8,
    "start_time": "2023-01-17T10:13:13.045Z"
   },
   {
    "duration": 6,
    "start_time": "2023-01-17T10:24:11.215Z"
   },
   {
    "duration": 7,
    "start_time": "2023-01-17T10:24:56.971Z"
   },
   {
    "duration": 6,
    "start_time": "2023-01-17T10:31:24.984Z"
   },
   {
    "duration": 12,
    "start_time": "2023-01-17T10:50:52.819Z"
   },
   {
    "duration": 11,
    "start_time": "2023-01-17T10:50:55.083Z"
   },
   {
    "duration": 6,
    "start_time": "2023-01-17T10:51:40.154Z"
   },
   {
    "duration": 9,
    "start_time": "2023-01-17T11:06:21.823Z"
   },
   {
    "duration": 179,
    "start_time": "2023-01-17T11:07:42.952Z"
   },
   {
    "duration": 167,
    "start_time": "2023-01-17T11:08:30.999Z"
   },
   {
    "duration": 199,
    "start_time": "2023-01-17T11:09:00.118Z"
   },
   {
    "duration": 124,
    "start_time": "2023-01-17T11:16:40.560Z"
   },
   {
    "duration": 240,
    "start_time": "2023-01-17T11:17:19.473Z"
   },
   {
    "duration": 939,
    "start_time": "2023-01-17T11:22:27.279Z"
   },
   {
    "duration": 894,
    "start_time": "2023-01-17T11:29:14.901Z"
   },
   {
    "duration": 844,
    "start_time": "2023-01-17T11:29:28.923Z"
   },
   {
    "duration": 864,
    "start_time": "2023-01-17T11:30:18.513Z"
   },
   {
    "duration": 6,
    "start_time": "2023-01-17T11:57:29.547Z"
   },
   {
    "duration": 5,
    "start_time": "2023-01-17T12:38:18.886Z"
   },
   {
    "duration": 11,
    "start_time": "2023-01-17T13:10:30.329Z"
   },
   {
    "duration": 9,
    "start_time": "2023-01-17T13:11:29.620Z"
   },
   {
    "duration": 15,
    "start_time": "2023-01-17T13:12:00.193Z"
   },
   {
    "duration": 5,
    "start_time": "2023-01-17T13:12:47.977Z"
   },
   {
    "duration": 12,
    "start_time": "2023-01-17T13:12:50.529Z"
   },
   {
    "duration": 14,
    "start_time": "2023-01-17T13:13:22.039Z"
   },
   {
    "duration": 17,
    "start_time": "2023-01-17T13:13:37.899Z"
   },
   {
    "duration": 72,
    "start_time": "2023-01-17T13:15:05.702Z"
   },
   {
    "duration": 20,
    "start_time": "2023-01-17T13:15:12.614Z"
   },
   {
    "duration": 14,
    "start_time": "2023-01-17T13:15:18.776Z"
   },
   {
    "duration": 14,
    "start_time": "2023-01-17T13:15:46.287Z"
   },
   {
    "duration": 59,
    "start_time": "2023-01-17T13:16:08.061Z"
   },
   {
    "duration": 737,
    "start_time": "2023-01-17T13:16:20.011Z"
   },
   {
    "duration": 785,
    "start_time": "2023-01-17T13:16:26.907Z"
   },
   {
    "duration": 849,
    "start_time": "2023-01-17T13:16:52.174Z"
   },
   {
    "duration": 60,
    "start_time": "2023-01-17T13:17:08.066Z"
   },
   {
    "duration": 14,
    "start_time": "2023-01-17T13:17:12.056Z"
   },
   {
    "duration": 9,
    "start_time": "2023-01-17T13:17:14.418Z"
   },
   {
    "duration": 19,
    "start_time": "2023-01-17T13:17:18.080Z"
   },
   {
    "duration": 29,
    "start_time": "2023-01-17T13:17:22.359Z"
   },
   {
    "duration": 17,
    "start_time": "2023-01-17T13:17:26.261Z"
   },
   {
    "duration": 22,
    "start_time": "2023-01-17T13:17:29.792Z"
   },
   {
    "duration": 349,
    "start_time": "2023-01-17T13:17:39.064Z"
   },
   {
    "duration": 300,
    "start_time": "2023-01-17T13:17:44.114Z"
   },
   {
    "duration": 5,
    "start_time": "2023-01-17T13:17:49.174Z"
   },
   {
    "duration": 6,
    "start_time": "2023-01-17T13:17:54.805Z"
   },
   {
    "duration": 17,
    "start_time": "2023-01-17T13:17:58.623Z"
   },
   {
    "duration": 7,
    "start_time": "2023-01-17T13:19:06.427Z"
   },
   {
    "duration": 5,
    "start_time": "2023-01-17T13:19:49.345Z"
   },
   {
    "duration": 122,
    "start_time": "2023-01-17T13:19:52.651Z"
   },
   {
    "duration": 56,
    "start_time": "2023-01-17T13:21:15.852Z"
   },
   {
    "duration": 310,
    "start_time": "2023-01-17T13:27:25.707Z"
   },
   {
    "duration": 48,
    "start_time": "2023-01-17T13:31:08.604Z"
   },
   {
    "duration": 1003,
    "start_time": "2023-01-17T13:37:23.841Z"
   },
   {
    "duration": 1138,
    "start_time": "2023-01-17T13:38:20.303Z"
   },
   {
    "duration": 1101,
    "start_time": "2023-01-17T13:41:28.134Z"
   },
   {
    "duration": 10,
    "start_time": "2023-01-17T13:42:15.156Z"
   },
   {
    "duration": 982,
    "start_time": "2023-01-17T13:42:31.964Z"
   },
   {
    "duration": 1044,
    "start_time": "2023-01-17T13:43:16.665Z"
   },
   {
    "duration": 1275,
    "start_time": "2023-01-17T13:45:38.135Z"
   },
   {
    "duration": 5,
    "start_time": "2023-01-17T13:46:06.406Z"
   },
   {
    "duration": 59,
    "start_time": "2023-01-17T13:47:18.860Z"
   },
   {
    "duration": 13,
    "start_time": "2023-01-17T13:47:25.168Z"
   },
   {
    "duration": 11,
    "start_time": "2023-01-17T13:47:47.322Z"
   },
   {
    "duration": 58,
    "start_time": "2023-01-17T13:48:07.304Z"
   },
   {
    "duration": 15,
    "start_time": "2023-01-17T13:48:10.781Z"
   },
   {
    "duration": 9,
    "start_time": "2023-01-17T13:48:13.854Z"
   },
   {
    "duration": 20,
    "start_time": "2023-01-17T13:48:18.529Z"
   },
   {
    "duration": 20,
    "start_time": "2023-01-17T13:48:23.235Z"
   },
   {
    "duration": 19,
    "start_time": "2023-01-17T13:48:28.707Z"
   },
   {
    "duration": 24,
    "start_time": "2023-01-17T13:48:33.039Z"
   },
   {
    "duration": 320,
    "start_time": "2023-01-17T13:48:36.966Z"
   },
   {
    "duration": 256,
    "start_time": "2023-01-17T13:48:41.283Z"
   },
   {
    "duration": 5,
    "start_time": "2023-01-17T13:48:46.797Z"
   },
   {
    "duration": 5,
    "start_time": "2023-01-17T13:48:51.606Z"
   },
   {
    "duration": 1083,
    "start_time": "2023-01-17T13:48:56.504Z"
   },
   {
    "duration": 5,
    "start_time": "2023-01-17T13:49:08.870Z"
   },
   {
    "duration": 851,
    "start_time": "2023-01-17T13:49:45.515Z"
   },
   {
    "duration": 912,
    "start_time": "2023-01-17T13:50:49.881Z"
   },
   {
    "duration": 1150,
    "start_time": "2023-01-17T13:51:42.219Z"
   },
   {
    "duration": 16,
    "start_time": "2023-01-17T13:57:31.417Z"
   },
   {
    "duration": 15,
    "start_time": "2023-01-17T13:57:44.706Z"
   },
   {
    "duration": 17,
    "start_time": "2023-01-17T13:59:01.008Z"
   },
   {
    "duration": 811,
    "start_time": "2023-01-17T14:00:43.882Z"
   },
   {
    "duration": 10,
    "start_time": "2023-01-17T14:03:19.523Z"
   },
   {
    "duration": 15,
    "start_time": "2023-01-17T14:03:36.214Z"
   },
   {
    "duration": 51,
    "start_time": "2023-01-17T14:04:37.401Z"
   },
   {
    "duration": 9,
    "start_time": "2023-01-17T14:04:55.769Z"
   },
   {
    "duration": 959,
    "start_time": "2023-01-17T14:05:17.609Z"
   },
   {
    "duration": 63,
    "start_time": "2023-01-17T14:09:19.206Z"
   },
   {
    "duration": 9,
    "start_time": "2023-01-17T14:09:22.545Z"
   },
   {
    "duration": 20,
    "start_time": "2023-01-17T14:09:25.950Z"
   },
   {
    "duration": 20,
    "start_time": "2023-01-17T14:09:30.555Z"
   },
   {
    "duration": 312,
    "start_time": "2023-01-17T14:10:48.289Z"
   },
   {
    "duration": 14,
    "start_time": "2023-01-17T14:11:22.171Z"
   },
   {
    "duration": 25,
    "start_time": "2023-01-17T14:11:36.273Z"
   },
   {
    "duration": 551,
    "start_time": "2023-01-17T14:11:45.821Z"
   },
   {
    "duration": 276,
    "start_time": "2023-01-17T14:11:50.114Z"
   },
   {
    "duration": 5,
    "start_time": "2023-01-17T14:11:59.743Z"
   },
   {
    "duration": 841,
    "start_time": "2023-01-17T14:12:12.733Z"
   },
   {
    "duration": 61,
    "start_time": "2023-01-17T14:14:30.197Z"
   },
   {
    "duration": 14,
    "start_time": "2023-01-17T14:14:37.658Z"
   },
   {
    "duration": 12,
    "start_time": "2023-01-17T14:14:39.923Z"
   },
   {
    "duration": 20,
    "start_time": "2023-01-17T14:14:44.642Z"
   },
   {
    "duration": 21,
    "start_time": "2023-01-17T14:14:48.201Z"
   },
   {
    "duration": 5,
    "start_time": "2023-01-17T14:19:15.571Z"
   },
   {
    "duration": 22,
    "start_time": "2023-01-17T14:20:48.466Z"
   },
   {
    "duration": 57,
    "start_time": "2023-01-17T14:20:56.881Z"
   },
   {
    "duration": 13,
    "start_time": "2023-01-17T14:21:00.856Z"
   },
   {
    "duration": 9,
    "start_time": "2023-01-17T14:21:03.515Z"
   },
   {
    "duration": 19,
    "start_time": "2023-01-17T14:21:07.657Z"
   },
   {
    "duration": 21,
    "start_time": "2023-01-17T14:21:11.448Z"
   },
   {
    "duration": 16,
    "start_time": "2023-01-17T14:22:13.752Z"
   },
   {
    "duration": 24,
    "start_time": "2023-01-17T14:22:53.313Z"
   },
   {
    "duration": 14,
    "start_time": "2023-01-17T14:23:04.800Z"
   },
   {
    "duration": 14,
    "start_time": "2023-01-17T14:24:03.938Z"
   },
   {
    "duration": 16,
    "start_time": "2023-01-17T14:24:14.418Z"
   },
   {
    "duration": 15,
    "start_time": "2023-01-17T14:24:32.077Z"
   },
   {
    "duration": 13,
    "start_time": "2023-01-17T14:24:39.718Z"
   },
   {
    "duration": 15,
    "start_time": "2023-01-17T14:25:13.534Z"
   },
   {
    "duration": 14,
    "start_time": "2023-01-17T14:25:43.503Z"
   },
   {
    "duration": 259,
    "start_time": "2023-01-17T14:25:51.118Z"
   },
   {
    "duration": 22,
    "start_time": "2023-01-17T14:26:47.955Z"
   },
   {
    "duration": 17,
    "start_time": "2023-01-17T14:26:52.818Z"
   },
   {
    "duration": 17,
    "start_time": "2023-01-17T14:27:03.342Z"
   },
   {
    "duration": 21,
    "start_time": "2023-01-17T14:27:09.021Z"
   },
   {
    "duration": 324,
    "start_time": "2023-01-17T14:27:15.325Z"
   },
   {
    "duration": 5,
    "start_time": "2023-01-17T14:27:29.122Z"
   },
   {
    "duration": 842,
    "start_time": "2023-01-17T14:27:31.525Z"
   },
   {
    "duration": 297,
    "start_time": "2023-01-17T14:27:42.767Z"
   },
   {
    "duration": 10,
    "start_time": "2023-01-17T14:33:15.047Z"
   },
   {
    "duration": 23,
    "start_time": "2023-01-17T14:36:19.903Z"
   },
   {
    "duration": 19,
    "start_time": "2023-01-17T14:37:49.278Z"
   },
   {
    "duration": 61,
    "start_time": "2023-01-17T14:38:37.304Z"
   },
   {
    "duration": 1002,
    "start_time": "2023-01-17T14:39:31.974Z"
   },
   {
    "duration": 6,
    "start_time": "2023-01-17T14:43:43.782Z"
   },
   {
    "duration": 1256,
    "start_time": "2023-01-17T14:43:51.065Z"
   },
   {
    "duration": 913,
    "start_time": "2023-01-17T14:44:26.864Z"
   },
   {
    "duration": 1006,
    "start_time": "2023-01-17T14:45:03.933Z"
   },
   {
    "duration": 6,
    "start_time": "2023-01-17T14:45:27.871Z"
   },
   {
    "duration": 6,
    "start_time": "2023-01-17T14:45:44.684Z"
   },
   {
    "duration": 9,
    "start_time": "2023-01-17T14:46:35.667Z"
   },
   {
    "duration": 71,
    "start_time": "2023-01-17T14:48:17.415Z"
   },
   {
    "duration": 57,
    "start_time": "2023-01-17T14:49:35.250Z"
   },
   {
    "duration": 65,
    "start_time": "2023-01-17T14:50:22.343Z"
   },
   {
    "duration": 43,
    "start_time": "2023-01-17T14:50:53.924Z"
   },
   {
    "duration": 57,
    "start_time": "2023-01-17T14:51:23.912Z"
   },
   {
    "duration": 79,
    "start_time": "2023-01-17T14:51:49.191Z"
   },
   {
    "duration": 1538,
    "start_time": "2023-01-17T14:52:24.182Z"
   },
   {
    "duration": 23,
    "start_time": "2023-01-17T14:54:13.491Z"
   },
   {
    "duration": 765,
    "start_time": "2023-01-17T14:55:41.207Z"
   },
   {
    "duration": 1190,
    "start_time": "2023-01-17T14:56:30.241Z"
   },
   {
    "duration": 92,
    "start_time": "2023-01-17T14:57:28.942Z"
   },
   {
    "duration": 8,
    "start_time": "2023-01-17T14:57:40.842Z"
   },
   {
    "duration": 11,
    "start_time": "2023-01-17T14:59:10.885Z"
   },
   {
    "duration": 11,
    "start_time": "2023-01-17T15:04:16.036Z"
   },
   {
    "duration": 10,
    "start_time": "2023-01-17T15:05:07.622Z"
   },
   {
    "duration": 10,
    "start_time": "2023-01-17T15:06:23.041Z"
   },
   {
    "duration": 12,
    "start_time": "2023-01-17T15:07:56.149Z"
   },
   {
    "duration": 18,
    "start_time": "2023-01-17T15:12:05.429Z"
   },
   {
    "duration": 18,
    "start_time": "2023-01-17T15:12:27.711Z"
   },
   {
    "duration": 56,
    "start_time": "2023-01-17T15:12:43.173Z"
   },
   {
    "duration": 17,
    "start_time": "2023-01-17T15:13:38.496Z"
   },
   {
    "duration": 19,
    "start_time": "2023-01-17T15:15:38.714Z"
   },
   {
    "duration": 17,
    "start_time": "2023-01-17T15:17:11.577Z"
   },
   {
    "duration": 18,
    "start_time": "2023-01-17T15:17:54.203Z"
   },
   {
    "duration": 14,
    "start_time": "2023-01-17T15:18:08.363Z"
   },
   {
    "duration": 15,
    "start_time": "2023-01-17T15:19:08.850Z"
   },
   {
    "duration": 87,
    "start_time": "2023-01-17T15:19:40.004Z"
   },
   {
    "duration": 17,
    "start_time": "2023-01-17T15:19:52.915Z"
   },
   {
    "duration": 64,
    "start_time": "2023-01-17T15:21:33.761Z"
   },
   {
    "duration": 741,
    "start_time": "2023-01-17T15:21:55.899Z"
   },
   {
    "duration": 16,
    "start_time": "2023-01-17T15:26:59.827Z"
   },
   {
    "duration": 3,
    "start_time": "2023-01-17T15:27:33.811Z"
   },
   {
    "duration": 14,
    "start_time": "2023-01-17T15:27:51.196Z"
   },
   {
    "duration": 8,
    "start_time": "2023-01-17T15:37:16.418Z"
   },
   {
    "duration": 15,
    "start_time": "2023-01-17T15:39:26.912Z"
   },
   {
    "duration": 9,
    "start_time": "2023-01-17T15:41:20.808Z"
   },
   {
    "duration": 8,
    "start_time": "2023-01-17T15:42:00.276Z"
   },
   {
    "duration": 8,
    "start_time": "2023-01-17T15:52:01.223Z"
   },
   {
    "duration": 8,
    "start_time": "2023-01-17T15:53:04.436Z"
   },
   {
    "duration": 7,
    "start_time": "2023-01-17T16:05:35.154Z"
   },
   {
    "duration": 7,
    "start_time": "2023-01-17T16:06:40.439Z"
   },
   {
    "duration": 7,
    "start_time": "2023-01-17T16:07:31.522Z"
   },
   {
    "duration": 791,
    "start_time": "2023-01-17T16:09:32.853Z"
   },
   {
    "duration": 729,
    "start_time": "2023-01-17T16:10:28.165Z"
   },
   {
    "duration": 19,
    "start_time": "2023-01-17T16:11:02.033Z"
   },
   {
    "duration": 24,
    "start_time": "2023-01-17T16:11:45.515Z"
   },
   {
    "duration": 11,
    "start_time": "2023-01-17T16:13:10.735Z"
   },
   {
    "duration": 13,
    "start_time": "2023-01-17T16:13:30.074Z"
   },
   {
    "duration": 51,
    "start_time": "2023-01-17T16:13:44.046Z"
   },
   {
    "duration": 10,
    "start_time": "2023-01-17T16:14:08.068Z"
   },
   {
    "duration": 21,
    "start_time": "2023-01-17T16:17:29.899Z"
   },
   {
    "duration": 19,
    "start_time": "2023-01-17T16:18:20.626Z"
   },
   {
    "duration": 19,
    "start_time": "2023-01-17T16:20:08.412Z"
   },
   {
    "duration": 19,
    "start_time": "2023-01-17T16:22:02.024Z"
   },
   {
    "duration": 685,
    "start_time": "2023-01-17T16:25:31.752Z"
   },
   {
    "duration": 24,
    "start_time": "2023-01-17T16:26:25.593Z"
   },
   {
    "duration": 56,
    "start_time": "2023-01-17T16:27:40.760Z"
   },
   {
    "duration": 20,
    "start_time": "2023-01-17T16:27:54.607Z"
   },
   {
    "duration": 10,
    "start_time": "2023-01-17T16:29:10.826Z"
   },
   {
    "duration": 10,
    "start_time": "2023-01-17T16:29:59.524Z"
   },
   {
    "duration": 20,
    "start_time": "2023-01-17T16:37:46.759Z"
   },
   {
    "duration": 45,
    "start_time": "2023-01-18T04:13:31.675Z"
   },
   {
    "duration": 1495,
    "start_time": "2023-01-18T04:13:40.851Z"
   },
   {
    "duration": 10,
    "start_time": "2023-01-18T04:13:45.090Z"
   },
   {
    "duration": 20,
    "start_time": "2023-01-18T04:13:51.528Z"
   },
   {
    "duration": 20,
    "start_time": "2023-01-18T04:13:56.983Z"
   },
   {
    "duration": 17,
    "start_time": "2023-01-18T04:14:05.609Z"
   },
   {
    "duration": 27,
    "start_time": "2023-01-18T04:14:11.064Z"
   },
   {
    "duration": 338,
    "start_time": "2023-01-18T04:14:16.491Z"
   },
   {
    "duration": 304,
    "start_time": "2023-01-18T04:14:20.015Z"
   },
   {
    "duration": 9,
    "start_time": "2023-01-18T04:14:27.860Z"
   },
   {
    "duration": 26,
    "start_time": "2023-01-18T04:14:32.820Z"
   },
   {
    "duration": 603,
    "start_time": "2023-01-18T04:14:35.984Z"
   },
   {
    "duration": 427,
    "start_time": "2023-01-18T04:29:54.167Z"
   },
   {
    "duration": 21,
    "start_time": "2023-01-18T04:32:46.753Z"
   },
   {
    "duration": 20,
    "start_time": "2023-01-18T04:33:04.962Z"
   },
   {
    "duration": 62,
    "start_time": "2023-01-18T04:33:09.957Z"
   },
   {
    "duration": 9,
    "start_time": "2023-01-18T04:33:13.567Z"
   },
   {
    "duration": 19,
    "start_time": "2023-01-18T04:33:16.822Z"
   },
   {
    "duration": 22,
    "start_time": "2023-01-18T04:33:21.626Z"
   },
   {
    "duration": 17,
    "start_time": "2023-01-18T04:33:25.671Z"
   },
   {
    "duration": 21,
    "start_time": "2023-01-18T04:33:29.422Z"
   },
   {
    "duration": 310,
    "start_time": "2023-01-18T04:33:33.058Z"
   },
   {
    "duration": 367,
    "start_time": "2023-01-18T04:33:36.659Z"
   },
   {
    "duration": 6,
    "start_time": "2023-01-18T04:33:47.544Z"
   },
   {
    "duration": 21,
    "start_time": "2023-01-18T04:33:52.057Z"
   },
   {
    "duration": 514,
    "start_time": "2023-01-18T04:33:54.991Z"
   },
   {
    "duration": 19,
    "start_time": "2023-01-18T04:47:05.465Z"
   },
   {
    "duration": 61,
    "start_time": "2023-01-18T04:47:52.627Z"
   },
   {
    "duration": 9,
    "start_time": "2023-01-18T04:47:56.348Z"
   },
   {
    "duration": 19,
    "start_time": "2023-01-18T04:48:00.267Z"
   },
   {
    "duration": 19,
    "start_time": "2023-01-18T04:48:05.156Z"
   },
   {
    "duration": 14,
    "start_time": "2023-01-18T04:53:53.788Z"
   },
   {
    "duration": 18,
    "start_time": "2023-01-18T04:54:12.261Z"
   },
   {
    "duration": 21,
    "start_time": "2023-01-18T04:57:49.279Z"
   },
   {
    "duration": 24,
    "start_time": "2023-01-18T04:58:29.064Z"
   },
   {
    "duration": 19,
    "start_time": "2023-01-18T04:58:55.686Z"
   },
   {
    "duration": 14,
    "start_time": "2023-01-18T04:59:07.939Z"
   },
   {
    "duration": 14,
    "start_time": "2023-01-18T04:59:29.934Z"
   },
   {
    "duration": 69,
    "start_time": "2023-01-18T04:59:40.278Z"
   },
   {
    "duration": 17,
    "start_time": "2023-01-18T04:59:44.150Z"
   },
   {
    "duration": 12,
    "start_time": "2023-01-18T04:59:46.908Z"
   },
   {
    "duration": 20,
    "start_time": "2023-01-18T04:59:50.405Z"
   },
   {
    "duration": 14,
    "start_time": "2023-01-18T04:59:53.787Z"
   },
   {
    "duration": 17,
    "start_time": "2023-01-18T05:09:21.481Z"
   },
   {
    "duration": 14,
    "start_time": "2023-01-18T05:09:30.110Z"
   },
   {
    "duration": 16,
    "start_time": "2023-01-18T05:09:40.627Z"
   },
   {
    "duration": 16,
    "start_time": "2023-01-18T05:09:51.757Z"
   },
   {
    "duration": 29,
    "start_time": "2023-01-18T05:10:15.144Z"
   },
   {
    "duration": 13,
    "start_time": "2023-01-18T05:10:19.777Z"
   },
   {
    "duration": 16,
    "start_time": "2023-01-18T05:10:22.996Z"
   },
   {
    "duration": 23,
    "start_time": "2023-01-18T05:10:27.149Z"
   },
   {
    "duration": 315,
    "start_time": "2023-01-18T05:10:31.624Z"
   },
   {
    "duration": 284,
    "start_time": "2023-01-18T05:10:34.916Z"
   },
   {
    "duration": 7,
    "start_time": "2023-01-18T05:10:42.828Z"
   },
   {
    "duration": 21,
    "start_time": "2023-01-18T05:10:46.990Z"
   },
   {
    "duration": 2186,
    "start_time": "2023-01-18T05:10:49.546Z"
   },
   {
    "duration": 626,
    "start_time": "2023-01-18T05:18:52.374Z"
   },
   {
    "duration": 15,
    "start_time": "2023-01-18T05:23:44.476Z"
   },
   {
    "duration": 24,
    "start_time": "2023-01-18T05:25:54.770Z"
   },
   {
    "duration": 15,
    "start_time": "2023-01-18T05:27:20.031Z"
   },
   {
    "duration": 22,
    "start_time": "2023-01-18T06:12:00.107Z"
   },
   {
    "duration": 26,
    "start_time": "2023-01-18T06:23:46.262Z"
   },
   {
    "duration": 18,
    "start_time": "2023-01-18T06:24:43.799Z"
   },
   {
    "duration": 12,
    "start_time": "2023-01-18T06:26:09.417Z"
   },
   {
    "duration": 15,
    "start_time": "2023-01-18T06:27:23.986Z"
   },
   {
    "duration": 20,
    "start_time": "2023-01-18T06:29:06.483Z"
   },
   {
    "duration": 19,
    "start_time": "2023-01-18T06:30:10.433Z"
   },
   {
    "duration": 11,
    "start_time": "2023-01-18T06:30:53.527Z"
   },
   {
    "duration": 20,
    "start_time": "2023-01-18T06:31:14.523Z"
   },
   {
    "duration": 9,
    "start_time": "2023-01-18T06:32:39.931Z"
   },
   {
    "duration": 777,
    "start_time": "2023-01-18T06:33:08.222Z"
   },
   {
    "duration": 703,
    "start_time": "2023-01-18T06:39:22.184Z"
   },
   {
    "duration": 819,
    "start_time": "2023-01-18T06:39:54.312Z"
   },
   {
    "duration": 826,
    "start_time": "2023-01-18T06:47:47.120Z"
   },
   {
    "duration": 79,
    "start_time": "2023-01-18T06:51:49.366Z"
   },
   {
    "duration": 759,
    "start_time": "2023-01-18T06:52:13.319Z"
   },
   {
    "duration": 46,
    "start_time": "2023-01-18T06:52:36.182Z"
   },
   {
    "duration": 43,
    "start_time": "2023-01-18T06:54:29.173Z"
   },
   {
    "duration": 666,
    "start_time": "2023-01-18T06:54:44.663Z"
   },
   {
    "duration": 47,
    "start_time": "2023-01-18T06:55:20.015Z"
   },
   {
    "duration": 680,
    "start_time": "2023-01-18T06:55:52.556Z"
   },
   {
    "duration": 694,
    "start_time": "2023-01-18T07:46:07.700Z"
   },
   {
    "duration": 829,
    "start_time": "2023-01-18T07:48:51.864Z"
   },
   {
    "duration": 20,
    "start_time": "2023-01-18T07:50:31.967Z"
   },
   {
    "duration": 17,
    "start_time": "2023-01-18T07:51:05.860Z"
   },
   {
    "duration": 21,
    "start_time": "2023-01-18T07:51:31.857Z"
   },
   {
    "duration": 11,
    "start_time": "2023-01-18T07:52:06.704Z"
   },
   {
    "duration": 23,
    "start_time": "2023-01-18T07:55:05.627Z"
   },
   {
    "duration": 22,
    "start_time": "2023-01-18T08:01:58.996Z"
   },
   {
    "duration": 819,
    "start_time": "2023-01-18T08:14:40.130Z"
   },
   {
    "duration": 820,
    "start_time": "2023-01-18T08:15:43.605Z"
   },
   {
    "duration": 891,
    "start_time": "2023-01-18T08:16:05.933Z"
   },
   {
    "duration": 22,
    "start_time": "2023-01-18T08:16:50.330Z"
   },
   {
    "duration": 758,
    "start_time": "2023-01-18T08:32:25.479Z"
   },
   {
    "duration": 700,
    "start_time": "2023-01-18T08:34:10.865Z"
   },
   {
    "duration": 68,
    "start_time": "2023-01-18T08:39:49.348Z"
   },
   {
    "duration": 777,
    "start_time": "2023-01-18T08:40:05.664Z"
   },
   {
    "duration": 774,
    "start_time": "2023-01-18T08:40:49.219Z"
   },
   {
    "duration": 759,
    "start_time": "2023-01-18T08:41:32.019Z"
   },
   {
    "duration": 754,
    "start_time": "2023-01-18T08:41:42.373Z"
   },
   {
    "duration": 820,
    "start_time": "2023-01-18T08:42:18.201Z"
   },
   {
    "duration": 41,
    "start_time": "2023-01-18T08:44:41.306Z"
   },
   {
    "duration": 968,
    "start_time": "2023-01-18T08:46:13.431Z"
   },
   {
    "duration": 772,
    "start_time": "2023-01-18T08:46:29.045Z"
   },
   {
    "duration": 778,
    "start_time": "2023-01-18T08:46:59.363Z"
   },
   {
    "duration": 20,
    "start_time": "2023-01-18T08:50:24.516Z"
   },
   {
    "duration": 847,
    "start_time": "2023-01-18T08:59:07.243Z"
   },
   {
    "duration": 799,
    "start_time": "2023-01-18T09:00:10.114Z"
   },
   {
    "duration": 528,
    "start_time": "2023-01-18T09:05:19.108Z"
   },
   {
    "duration": 52,
    "start_time": "2023-01-18T09:13:22.312Z"
   },
   {
    "duration": 700,
    "start_time": "2023-01-18T09:13:34.186Z"
   },
   {
    "duration": 529,
    "start_time": "2023-01-18T09:14:05.536Z"
   },
   {
    "duration": 670,
    "start_time": "2023-01-18T09:27:57.840Z"
   },
   {
    "duration": 509,
    "start_time": "2023-01-18T09:28:14.879Z"
   },
   {
    "duration": 743,
    "start_time": "2023-01-18T09:32:40.812Z"
   },
   {
    "duration": 488,
    "start_time": "2023-01-18T09:33:03.320Z"
   },
   {
    "duration": 513,
    "start_time": "2023-01-18T09:33:12.516Z"
   },
   {
    "duration": 446,
    "start_time": "2023-01-18T09:33:57.582Z"
   },
   {
    "duration": 68,
    "start_time": "2023-01-18T09:34:19.399Z"
   },
   {
    "duration": 701,
    "start_time": "2023-01-18T09:34:47.165Z"
   },
   {
    "duration": 1966,
    "start_time": "2023-01-18T10:15:47.078Z"
   },
   {
    "duration": 1943,
    "start_time": "2023-01-18T10:22:06.608Z"
   },
   {
    "duration": 2279,
    "start_time": "2023-01-18T10:22:44.422Z"
   },
   {
    "duration": 1883,
    "start_time": "2023-01-18T10:23:07.765Z"
   },
   {
    "duration": 1951,
    "start_time": "2023-01-18T10:27:52.032Z"
   },
   {
    "duration": 57,
    "start_time": "2023-01-18T10:38:27.039Z"
   },
   {
    "duration": 209,
    "start_time": "2023-01-18T10:38:37.799Z"
   },
   {
    "duration": 515,
    "start_time": "2023-01-18T10:39:15.282Z"
   },
   {
    "duration": 61,
    "start_time": "2023-01-18T10:40:36.463Z"
   },
   {
    "duration": 77,
    "start_time": "2023-01-18T10:40:45.690Z"
   },
   {
    "duration": 205,
    "start_time": "2023-01-18T10:41:28.963Z"
   },
   {
    "duration": 13,
    "start_time": "2023-01-18T10:41:41.987Z"
   },
   {
    "duration": 232,
    "start_time": "2023-01-18T10:42:35.368Z"
   },
   {
    "duration": 14,
    "start_time": "2023-01-18T10:44:34.325Z"
   },
   {
    "duration": 206,
    "start_time": "2023-01-18T10:46:22.377Z"
   },
   {
    "duration": 196,
    "start_time": "2023-01-18T10:46:47.190Z"
   },
   {
    "duration": 5,
    "start_time": "2023-01-18T11:41:11.675Z"
   },
   {
    "duration": 55,
    "start_time": "2023-01-18T13:02:01.513Z"
   },
   {
    "duration": 17,
    "start_time": "2023-01-18T13:02:13.977Z"
   },
   {
    "duration": 12,
    "start_time": "2023-01-18T13:04:21.755Z"
   },
   {
    "duration": 10,
    "start_time": "2023-01-18T13:09:58.591Z"
   },
   {
    "duration": 11,
    "start_time": "2023-01-18T13:10:07.772Z"
   },
   {
    "duration": 12,
    "start_time": "2023-01-18T13:10:14.748Z"
   },
   {
    "duration": 22,
    "start_time": "2023-01-18T13:10:33.684Z"
   },
   {
    "duration": 404,
    "start_time": "2023-01-18T13:10:37.522Z"
   },
   {
    "duration": 169,
    "start_time": "2023-01-18T13:17:22.257Z"
   },
   {
    "duration": 240,
    "start_time": "2023-01-18T13:19:03.963Z"
   },
   {
    "duration": 13,
    "start_time": "2023-01-18T13:25:31.226Z"
   },
   {
    "duration": 13,
    "start_time": "2023-01-18T13:26:15.949Z"
   },
   {
    "duration": 414,
    "start_time": "2023-01-18T13:26:23.827Z"
   },
   {
    "duration": 506,
    "start_time": "2023-01-18T13:27:43.553Z"
   },
   {
    "duration": 68,
    "start_time": "2023-01-18T13:28:16.988Z"
   },
   {
    "duration": 52,
    "start_time": "2023-01-18T13:29:48.260Z"
   },
   {
    "duration": 52,
    "start_time": "2023-01-18T13:30:12.520Z"
   },
   {
    "duration": 96,
    "start_time": "2023-01-18T13:30:35.708Z"
   },
   {
    "duration": 11,
    "start_time": "2023-01-18T13:31:06.451Z"
   },
   {
    "duration": 377,
    "start_time": "2023-01-18T13:31:18.843Z"
   },
   {
    "duration": 220,
    "start_time": "2023-01-18T13:36:17.959Z"
   },
   {
    "duration": 39,
    "start_time": "2023-01-18T13:38:40.355Z"
   },
   {
    "duration": 13,
    "start_time": "2023-01-18T13:38:55.670Z"
   },
   {
    "duration": 12,
    "start_time": "2023-01-18T13:39:45.787Z"
   },
   {
    "duration": 455,
    "start_time": "2023-01-18T13:40:00.299Z"
   },
   {
    "duration": 947,
    "start_time": "2023-01-18T14:10:19.676Z"
   },
   {
    "duration": 17,
    "start_time": "2023-01-18T14:10:41.824Z"
   },
   {
    "duration": 427,
    "start_time": "2023-01-18T14:10:45.303Z"
   },
   {
    "duration": 1154,
    "start_time": "2023-01-18T14:10:55.374Z"
   },
   {
    "duration": 1006,
    "start_time": "2023-01-18T14:11:47.891Z"
   },
   {
    "duration": 17,
    "start_time": "2023-01-18T14:15:02.975Z"
   },
   {
    "duration": 18,
    "start_time": "2023-01-18T14:15:38.006Z"
   },
   {
    "duration": 1051,
    "start_time": "2023-01-18T14:23:32.772Z"
   },
   {
    "duration": 1239,
    "start_time": "2023-01-18T14:25:23.439Z"
   },
   {
    "duration": 989,
    "start_time": "2023-01-18T14:25:48.219Z"
   },
   {
    "duration": 685,
    "start_time": "2023-01-18T14:28:56.975Z"
   },
   {
    "duration": 774,
    "start_time": "2023-01-18T14:29:30.875Z"
   },
   {
    "duration": 23,
    "start_time": "2023-01-18T14:30:56.736Z"
   },
   {
    "duration": 362,
    "start_time": "2023-01-18T14:31:34.867Z"
   },
   {
    "duration": 910,
    "start_time": "2023-01-18T14:42:31.372Z"
   },
   {
    "duration": 50,
    "start_time": "2023-01-18T14:55:19.022Z"
   },
   {
    "duration": 224,
    "start_time": "2023-01-18T14:55:29.669Z"
   },
   {
    "duration": 779,
    "start_time": "2023-01-18T14:56:26.600Z"
   },
   {
    "duration": 379,
    "start_time": "2023-01-18T14:57:48.960Z"
   },
   {
    "duration": 399,
    "start_time": "2023-01-18T14:59:56.168Z"
   },
   {
    "duration": 51,
    "start_time": "2023-01-19T03:46:16.616Z"
   },
   {
    "duration": 8,
    "start_time": "2023-01-19T03:46:37.245Z"
   },
   {
    "duration": 1604,
    "start_time": "2023-01-19T03:46:52.489Z"
   },
   {
    "duration": 11,
    "start_time": "2023-01-19T03:46:54.999Z"
   },
   {
    "duration": 24,
    "start_time": "2023-01-19T03:46:58.363Z"
   },
   {
    "duration": 6,
    "start_time": "2023-01-19T03:47:01.863Z"
   },
   {
    "duration": 21,
    "start_time": "2023-01-19T03:47:04.235Z"
   },
   {
    "duration": 22,
    "start_time": "2023-01-19T03:47:08.043Z"
   },
   {
    "duration": 32,
    "start_time": "2023-01-19T03:47:11.215Z"
   },
   {
    "duration": 357,
    "start_time": "2023-01-19T03:47:15.021Z"
   },
   {
    "duration": 316,
    "start_time": "2023-01-19T03:47:18.211Z"
   },
   {
    "duration": 7,
    "start_time": "2023-01-19T03:47:22.867Z"
   },
   {
    "duration": 1034,
    "start_time": "2023-01-19T03:47:24.752Z"
   },
   {
    "duration": 25,
    "start_time": "2023-01-19T03:47:30.463Z"
   },
   {
    "duration": 38,
    "start_time": "2023-01-19T03:47:34.142Z"
   },
   {
    "duration": 616,
    "start_time": "2023-01-19T03:47:37.385Z"
   },
   {
    "duration": 1795,
    "start_time": "2023-01-19T03:47:41.001Z"
   },
   {
    "duration": 255,
    "start_time": "2023-01-19T03:47:48.967Z"
   },
   {
    "duration": 20,
    "start_time": "2023-01-19T03:47:52.260Z"
   },
   {
    "duration": 325,
    "start_time": "2023-01-19T03:47:55.824Z"
   },
   {
    "duration": 459,
    "start_time": "2023-01-19T03:48:14.692Z"
   },
   {
    "duration": 440,
    "start_time": "2023-01-19T03:54:44.465Z"
   },
   {
    "duration": 456,
    "start_time": "2023-01-19T03:55:47.374Z"
   },
   {
    "duration": 439,
    "start_time": "2023-01-19T03:56:15.258Z"
   },
   {
    "duration": 50,
    "start_time": "2023-01-19T04:48:03.454Z"
   },
   {
    "duration": 11,
    "start_time": "2023-01-19T04:48:37.941Z"
   },
   {
    "duration": 609,
    "start_time": "2023-01-19T04:49:22.834Z"
   },
   {
    "duration": 434,
    "start_time": "2023-01-19T04:53:02.589Z"
   },
   {
    "duration": 513,
    "start_time": "2023-01-19T04:53:28.968Z"
   },
   {
    "duration": 452,
    "start_time": "2023-01-19T05:08:56.840Z"
   },
   {
    "duration": 154,
    "start_time": "2023-01-19T05:15:23.679Z"
   },
   {
    "duration": 168,
    "start_time": "2023-01-19T05:16:17.706Z"
   },
   {
    "duration": 168,
    "start_time": "2023-01-19T05:17:24.547Z"
   },
   {
    "duration": 184,
    "start_time": "2023-01-19T05:18:15.510Z"
   },
   {
    "duration": 276,
    "start_time": "2023-01-19T05:18:45.780Z"
   },
   {
    "duration": 216,
    "start_time": "2023-01-19T05:22:40.190Z"
   },
   {
    "duration": 234,
    "start_time": "2023-01-19T05:42:06.236Z"
   },
   {
    "duration": 218,
    "start_time": "2023-01-19T05:43:06.604Z"
   },
   {
    "duration": 248,
    "start_time": "2023-01-19T05:44:06.413Z"
   },
   {
    "duration": 281,
    "start_time": "2023-01-19T05:45:12.449Z"
   },
   {
    "duration": 227,
    "start_time": "2023-01-19T05:58:38.104Z"
   },
   {
    "duration": 161,
    "start_time": "2023-01-19T05:58:58.320Z"
   },
   {
    "duration": 228,
    "start_time": "2023-01-19T05:59:44.201Z"
   },
   {
    "duration": 231,
    "start_time": "2023-01-19T06:00:13.395Z"
   },
   {
    "duration": 219,
    "start_time": "2023-01-19T06:00:36.387Z"
   },
   {
    "duration": 328,
    "start_time": "2023-01-19T06:00:55.904Z"
   },
   {
    "duration": 431,
    "start_time": "2023-01-19T06:02:21.495Z"
   },
   {
    "duration": 457,
    "start_time": "2023-01-19T06:10:55.391Z"
   },
   {
    "duration": 410,
    "start_time": "2023-01-19T06:11:37.448Z"
   },
   {
    "duration": 434,
    "start_time": "2023-01-19T06:11:49.871Z"
   },
   {
    "duration": 400,
    "start_time": "2023-01-19T06:16:16.557Z"
   },
   {
    "duration": 12,
    "start_time": "2023-01-19T06:21:34.070Z"
   },
   {
    "duration": 5,
    "start_time": "2023-01-19T06:22:56.128Z"
   },
   {
    "duration": 11,
    "start_time": "2023-01-19T06:23:30.437Z"
   },
   {
    "duration": 6,
    "start_time": "2023-01-19T06:24:40.516Z"
   },
   {
    "duration": 12,
    "start_time": "2023-01-19T06:24:48.127Z"
   },
   {
    "duration": 4,
    "start_time": "2023-01-19T06:25:30.201Z"
   },
   {
    "duration": 5,
    "start_time": "2023-01-19T06:25:36.066Z"
   },
   {
    "duration": 32,
    "start_time": "2023-01-19T06:25:56.612Z"
   },
   {
    "duration": 9,
    "start_time": "2023-01-19T06:26:14.189Z"
   },
   {
    "duration": 4,
    "start_time": "2023-01-19T06:26:17.529Z"
   },
   {
    "duration": 5,
    "start_time": "2023-01-19T06:26:34.591Z"
   },
   {
    "duration": 5,
    "start_time": "2023-01-19T06:27:13.469Z"
   },
   {
    "duration": 66,
    "start_time": "2023-01-19T06:27:43.463Z"
   },
   {
    "duration": 15,
    "start_time": "2023-01-19T06:27:48.548Z"
   },
   {
    "duration": 11,
    "start_time": "2023-01-19T06:27:52.718Z"
   },
   {
    "duration": 22,
    "start_time": "2023-01-19T06:27:56.694Z"
   },
   {
    "duration": 6,
    "start_time": "2023-01-19T06:28:00.268Z"
   },
   {
    "duration": 19,
    "start_time": "2023-01-19T06:28:07.940Z"
   },
   {
    "duration": 18,
    "start_time": "2023-01-19T06:28:11.445Z"
   },
   {
    "duration": 27,
    "start_time": "2023-01-19T06:28:54.092Z"
   },
   {
    "duration": 439,
    "start_time": "2023-01-19T06:29:05.805Z"
   },
   {
    "duration": 282,
    "start_time": "2023-01-19T06:29:18.173Z"
   },
   {
    "duration": 9,
    "start_time": "2023-01-19T06:29:24.179Z"
   },
   {
    "duration": 1014,
    "start_time": "2023-01-19T06:29:27.690Z"
   },
   {
    "duration": 27,
    "start_time": "2023-01-19T06:29:42.912Z"
   },
   {
    "duration": 6,
    "start_time": "2023-01-19T06:29:46.944Z"
   },
   {
    "duration": 6,
    "start_time": "2023-01-19T06:30:07.058Z"
   },
   {
    "duration": 10,
    "start_time": "2023-01-19T06:30:54.621Z"
   },
   {
    "duration": 18,
    "start_time": "2023-01-19T06:31:05.274Z"
   },
   {
    "duration": 3,
    "start_time": "2023-01-19T07:31:47.438Z"
   },
   {
    "duration": 64,
    "start_time": "2023-01-19T07:47:05.470Z"
   },
   {
    "duration": 16,
    "start_time": "2023-01-19T07:47:19.344Z"
   },
   {
    "duration": 11,
    "start_time": "2023-01-19T07:47:32.067Z"
   },
   {
    "duration": 22,
    "start_time": "2023-01-19T08:22:36.689Z"
   },
   {
    "duration": 7,
    "start_time": "2023-01-19T08:26:17.438Z"
   },
   {
    "duration": 18,
    "start_time": "2023-01-19T08:27:33.987Z"
   },
   {
    "duration": 20,
    "start_time": "2023-01-19T08:31:00.988Z"
   },
   {
    "duration": 20,
    "start_time": "2023-01-19T08:38:20.621Z"
   },
   {
    "duration": 12,
    "start_time": "2023-01-19T08:38:29.281Z"
   },
   {
    "duration": 65,
    "start_time": "2023-01-19T08:38:36.767Z"
   },
   {
    "duration": 14,
    "start_time": "2023-01-19T08:38:40.184Z"
   },
   {
    "duration": 10,
    "start_time": "2023-01-19T08:38:43.004Z"
   },
   {
    "duration": 24,
    "start_time": "2023-01-19T08:38:47.296Z"
   },
   {
    "duration": 7,
    "start_time": "2023-01-19T08:38:50.432Z"
   },
   {
    "duration": 18,
    "start_time": "2023-01-19T08:39:08.390Z"
   },
   {
    "duration": 19,
    "start_time": "2023-01-19T08:39:17.867Z"
   },
   {
    "duration": 23,
    "start_time": "2023-01-19T08:39:31.134Z"
   },
   {
    "duration": 410,
    "start_time": "2023-01-19T08:39:35.509Z"
   },
   {
    "duration": 290,
    "start_time": "2023-01-19T08:39:39.451Z"
   },
   {
    "duration": 310,
    "start_time": "2023-01-19T08:40:22.490Z"
   },
   {
    "duration": 420,
    "start_time": "2023-01-19T08:40:40.397Z"
   },
   {
    "duration": 281,
    "start_time": "2023-01-19T08:40:54.468Z"
   },
   {
    "duration": 303,
    "start_time": "2023-01-19T08:41:02.900Z"
   },
   {
    "duration": 290,
    "start_time": "2023-01-19T08:41:39.122Z"
   },
   {
    "duration": 305,
    "start_time": "2023-01-19T08:42:02.974Z"
   },
   {
    "duration": 9,
    "start_time": "2023-01-19T08:42:38.721Z"
   },
   {
    "duration": 1006,
    "start_time": "2023-01-19T08:42:51.732Z"
   },
   {
    "duration": 991,
    "start_time": "2023-01-19T08:43:25.069Z"
   },
   {
    "duration": 272,
    "start_time": "2023-01-19T08:43:48.676Z"
   },
   {
    "duration": 8,
    "start_time": "2023-01-19T08:44:18.286Z"
   },
   {
    "duration": 23,
    "start_time": "2023-01-19T08:45:41.414Z"
   },
   {
    "duration": 641,
    "start_time": "2023-01-19T09:22:16.447Z"
   },
   {
    "duration": 184,
    "start_time": "2023-01-19T09:30:29.725Z"
   },
   {
    "duration": 148,
    "start_time": "2023-01-19T09:31:09.126Z"
   },
   {
    "duration": 132,
    "start_time": "2023-01-19T09:31:29.425Z"
   },
   {
    "duration": 171,
    "start_time": "2023-01-19T09:31:38.343Z"
   },
   {
    "duration": 112,
    "start_time": "2023-01-19T09:32:37.107Z"
   },
   {
    "duration": 171,
    "start_time": "2023-01-19T09:33:22.429Z"
   },
   {
    "duration": 135,
    "start_time": "2023-01-19T09:34:15.129Z"
   },
   {
    "duration": 109,
    "start_time": "2023-01-19T09:35:30.969Z"
   },
   {
    "duration": 288,
    "start_time": "2023-01-19T09:37:17.824Z"
   },
   {
    "duration": 112,
    "start_time": "2023-01-19T09:38:35.916Z"
   },
   {
    "duration": 125,
    "start_time": "2023-01-19T09:48:52.942Z"
   },
   {
    "duration": 126,
    "start_time": "2023-01-19T09:59:04.738Z"
   },
   {
    "duration": 298,
    "start_time": "2023-01-19T10:17:54.076Z"
   },
   {
    "duration": 532,
    "start_time": "2023-01-19T10:18:11.737Z"
   },
   {
    "duration": 49,
    "start_time": "2023-01-19T12:32:48.751Z"
   },
   {
    "duration": 1643,
    "start_time": "2023-01-19T12:33:12.951Z"
   },
   {
    "duration": 1574,
    "start_time": "2023-01-19T12:33:20.445Z"
   },
   {
    "duration": 18,
    "start_time": "2023-01-19T12:34:25.359Z"
   },
   {
    "duration": 19,
    "start_time": "2023-01-19T12:34:28.452Z"
   },
   {
    "duration": 1538,
    "start_time": "2023-01-20T02:35:14.836Z"
   },
   {
    "duration": 18,
    "start_time": "2023-01-20T02:35:16.376Z"
   },
   {
    "duration": 12,
    "start_time": "2023-01-20T02:35:16.395Z"
   },
   {
    "duration": 23,
    "start_time": "2023-01-20T02:35:16.409Z"
   },
   {
    "duration": 15,
    "start_time": "2023-01-20T02:35:16.433Z"
   },
   {
    "duration": 15,
    "start_time": "2023-01-20T02:35:16.450Z"
   },
   {
    "duration": 15,
    "start_time": "2023-01-20T02:35:16.467Z"
   },
   {
    "duration": 22,
    "start_time": "2023-01-20T02:35:16.484Z"
   },
   {
    "duration": 343,
    "start_time": "2023-01-20T02:35:16.508Z"
   },
   {
    "duration": 252,
    "start_time": "2023-01-20T02:35:16.854Z"
   },
   {
    "duration": 8,
    "start_time": "2023-01-20T02:35:17.108Z"
   },
   {
    "duration": 848,
    "start_time": "2023-01-20T02:35:17.118Z"
   },
   {
    "duration": 21,
    "start_time": "2023-01-20T02:35:17.968Z"
   },
   {
    "duration": 19,
    "start_time": "2023-01-20T02:35:17.990Z"
   },
   {
    "duration": 114,
    "start_time": "2023-01-20T02:35:18.010Z"
   },
   {
    "duration": 0,
    "start_time": "2023-01-20T02:35:18.125Z"
   },
   {
    "duration": 0,
    "start_time": "2023-01-20T02:35:18.126Z"
   },
   {
    "duration": 0,
    "start_time": "2023-01-20T02:35:18.127Z"
   },
   {
    "duration": 0,
    "start_time": "2023-01-20T02:35:18.128Z"
   },
   {
    "duration": 0,
    "start_time": "2023-01-20T02:35:18.129Z"
   },
   {
    "duration": 0,
    "start_time": "2023-01-20T02:35:18.130Z"
   },
   {
    "duration": 0,
    "start_time": "2023-01-20T02:35:18.131Z"
   },
   {
    "duration": 0,
    "start_time": "2023-01-20T02:35:18.132Z"
   },
   {
    "duration": 0,
    "start_time": "2023-01-20T02:35:18.148Z"
   },
   {
    "duration": 194,
    "start_time": "2023-01-20T02:35:37.123Z"
   },
   {
    "duration": 407,
    "start_time": "2023-01-20T02:35:40.224Z"
   },
   {
    "duration": 11,
    "start_time": "2023-01-20T02:44:52.407Z"
   },
   {
    "duration": 810,
    "start_time": "2023-01-20T02:45:06.189Z"
   },
   {
    "duration": 181,
    "start_time": "2023-01-20T02:45:54.788Z"
   },
   {
    "duration": 20,
    "start_time": "2023-01-20T02:46:22.868Z"
   },
   {
    "duration": 397,
    "start_time": "2023-01-20T02:46:38.804Z"
   },
   {
    "duration": 499,
    "start_time": "2023-01-20T02:46:57.834Z"
   },
   {
    "duration": 180,
    "start_time": "2023-01-20T02:47:57.763Z"
   },
   {
    "duration": 387,
    "start_time": "2023-01-20T02:48:10.870Z"
   },
   {
    "duration": 11,
    "start_time": "2023-01-20T03:05:13.303Z"
   },
   {
    "duration": 13,
    "start_time": "2023-01-20T03:05:31.503Z"
   },
   {
    "duration": 58,
    "start_time": "2023-01-20T03:06:17.814Z"
   },
   {
    "duration": 13,
    "start_time": "2023-01-20T03:06:27.544Z"
   },
   {
    "duration": 10,
    "start_time": "2023-01-20T03:06:58.212Z"
   },
   {
    "duration": 77,
    "start_time": "2023-01-20T03:11:41.415Z"
   },
   {
    "duration": 9,
    "start_time": "2023-01-20T03:12:59.630Z"
   },
   {
    "duration": 19,
    "start_time": "2023-01-20T03:18:20.406Z"
   },
   {
    "duration": 10,
    "start_time": "2023-01-20T03:18:57.683Z"
   },
   {
    "duration": 9,
    "start_time": "2023-01-20T03:33:44.340Z"
   },
   {
    "duration": 9,
    "start_time": "2023-01-20T03:40:55.734Z"
   },
   {
    "duration": 9,
    "start_time": "2023-01-20T03:48:38.381Z"
   },
   {
    "duration": 12,
    "start_time": "2023-01-20T03:49:23.362Z"
   },
   {
    "duration": 10,
    "start_time": "2023-01-20T03:51:43.477Z"
   },
   {
    "duration": 8,
    "start_time": "2023-01-20T03:52:30.448Z"
   },
   {
    "duration": 11,
    "start_time": "2023-01-20T03:52:53.216Z"
   },
   {
    "duration": 9,
    "start_time": "2023-01-20T03:53:04.243Z"
   },
   {
    "duration": 9,
    "start_time": "2023-01-20T03:53:16.080Z"
   },
   {
    "duration": 12,
    "start_time": "2023-01-20T03:54:08.274Z"
   },
   {
    "duration": 21,
    "start_time": "2023-01-20T03:58:01.479Z"
   },
   {
    "duration": 12,
    "start_time": "2023-01-20T03:58:21.889Z"
   },
   {
    "duration": 2,
    "start_time": "2023-01-20T04:06:38.548Z"
   },
   {
    "duration": 1801,
    "start_time": "2023-01-20T04:17:10.831Z"
   },
   {
    "duration": 199,
    "start_time": "2023-01-20T04:23:22.017Z"
   },
   {
    "duration": 577,
    "start_time": "2023-01-20T04:24:55.000Z"
   },
   {
    "duration": 105,
    "start_time": "2023-01-20T04:25:00.514Z"
   },
   {
    "duration": 1154,
    "start_time": "2023-01-20T05:01:47.338Z"
   },
   {
    "duration": 13,
    "start_time": "2023-01-20T05:01:48.493Z"
   },
   {
    "duration": 14,
    "start_time": "2023-01-20T05:01:48.507Z"
   },
   {
    "duration": 29,
    "start_time": "2023-01-20T05:01:48.523Z"
   },
   {
    "duration": 11,
    "start_time": "2023-01-20T05:01:48.553Z"
   },
   {
    "duration": 25,
    "start_time": "2023-01-20T05:01:48.566Z"
   },
   {
    "duration": 20,
    "start_time": "2023-01-20T05:01:48.592Z"
   },
   {
    "duration": 44,
    "start_time": "2023-01-20T05:01:48.614Z"
   },
   {
    "duration": 322,
    "start_time": "2023-01-20T05:01:48.659Z"
   },
   {
    "duration": 255,
    "start_time": "2023-01-20T05:01:48.983Z"
   },
   {
    "duration": 5,
    "start_time": "2023-01-20T05:01:49.240Z"
   },
   {
    "duration": 828,
    "start_time": "2023-01-20T05:01:49.248Z"
   },
   {
    "duration": 22,
    "start_time": "2023-01-20T05:01:50.078Z"
   },
   {
    "duration": 20,
    "start_time": "2023-01-20T05:01:50.102Z"
   },
   {
    "duration": 787,
    "start_time": "2023-01-20T05:01:50.124Z"
   },
   {
    "duration": 109,
    "start_time": "2023-01-20T05:01:50.912Z"
   },
   {
    "duration": 502,
    "start_time": "2023-01-20T05:01:51.022Z"
   },
   {
    "duration": 1648,
    "start_time": "2023-01-20T05:01:51.526Z"
   },
   {
    "duration": 175,
    "start_time": "2023-01-20T05:01:53.176Z"
   },
   {
    "duration": 17,
    "start_time": "2023-01-20T05:01:53.352Z"
   },
   {
    "duration": 406,
    "start_time": "2023-01-20T05:01:53.371Z"
   },
   {
    "duration": 442,
    "start_time": "2023-01-20T05:01:53.779Z"
   },
   {
    "duration": 194,
    "start_time": "2023-01-20T05:01:54.223Z"
   },
   {
    "duration": 393,
    "start_time": "2023-01-20T05:01:54.419Z"
   },
   {
    "duration": 10,
    "start_time": "2023-01-20T05:01:54.813Z"
   },
   {
    "duration": 11,
    "start_time": "2023-01-20T05:01:54.825Z"
   },
   {
    "duration": 62,
    "start_time": "2023-01-20T05:02:40.844Z"
   },
   {
    "duration": 13,
    "start_time": "2023-01-20T05:02:48.784Z"
   },
   {
    "duration": 9,
    "start_time": "2023-01-20T05:02:52.945Z"
   },
   {
    "duration": 22,
    "start_time": "2023-01-20T05:03:33.826Z"
   },
   {
    "duration": 5,
    "start_time": "2023-01-20T05:04:09.199Z"
   },
   {
    "duration": 16,
    "start_time": "2023-01-20T05:04:21.496Z"
   },
   {
    "duration": 18,
    "start_time": "2023-01-20T05:04:50.387Z"
   },
   {
    "duration": 32,
    "start_time": "2023-01-20T05:05:15.083Z"
   },
   {
    "duration": 358,
    "start_time": "2023-01-20T05:06:27.995Z"
   },
   {
    "duration": 784,
    "start_time": "2023-01-20T05:07:32.216Z"
   },
   {
    "duration": 23,
    "start_time": "2023-01-20T05:07:59.187Z"
   },
   {
    "duration": 712,
    "start_time": "2023-01-20T05:08:55.997Z"
   },
   {
    "duration": 515,
    "start_time": "2023-01-20T05:12:09.893Z"
   },
   {
    "duration": 1852,
    "start_time": "2023-01-20T05:12:15.324Z"
   },
   {
    "duration": 201,
    "start_time": "2023-01-20T05:14:01.442Z"
   },
   {
    "duration": 19,
    "start_time": "2023-01-20T05:14:15.029Z"
   },
   {
    "duration": 504,
    "start_time": "2023-01-20T05:15:34.483Z"
   },
   {
    "duration": 1129,
    "start_time": "2023-01-20T05:17:37.883Z"
   },
   {
    "duration": 15,
    "start_time": "2023-01-20T05:17:39.014Z"
   },
   {
    "duration": 10,
    "start_time": "2023-01-20T05:17:39.031Z"
   },
   {
    "duration": 35,
    "start_time": "2023-01-20T05:17:39.044Z"
   },
   {
    "duration": 22,
    "start_time": "2023-01-20T05:17:39.081Z"
   },
   {
    "duration": 28,
    "start_time": "2023-01-20T05:17:39.105Z"
   },
   {
    "duration": 23,
    "start_time": "2023-01-20T05:17:39.135Z"
   },
   {
    "duration": 33,
    "start_time": "2023-01-20T05:17:39.160Z"
   },
   {
    "duration": 389,
    "start_time": "2023-01-20T05:17:39.195Z"
   },
   {
    "duration": 265,
    "start_time": "2023-01-20T05:17:39.588Z"
   },
   {
    "duration": 8,
    "start_time": "2023-01-20T05:17:39.854Z"
   },
   {
    "duration": 932,
    "start_time": "2023-01-20T05:17:39.864Z"
   },
   {
    "duration": 24,
    "start_time": "2023-01-20T05:17:40.798Z"
   },
   {
    "duration": 34,
    "start_time": "2023-01-20T05:17:40.824Z"
   },
   {
    "duration": 747,
    "start_time": "2023-01-20T05:17:40.860Z"
   },
   {
    "duration": 119,
    "start_time": "2023-01-20T05:17:41.609Z"
   },
   {
    "duration": 530,
    "start_time": "2023-01-20T05:17:41.729Z"
   },
   {
    "duration": 1794,
    "start_time": "2023-01-20T05:17:42.261Z"
   },
   {
    "duration": 241,
    "start_time": "2023-01-20T05:17:44.057Z"
   },
   {
    "duration": 17,
    "start_time": "2023-01-20T05:17:44.300Z"
   },
   {
    "duration": 447,
    "start_time": "2023-01-20T05:17:44.319Z"
   },
   {
    "duration": 657,
    "start_time": "2023-01-20T05:17:44.768Z"
   },
   {
    "duration": 205,
    "start_time": "2023-01-20T05:17:45.427Z"
   },
   {
    "duration": 498,
    "start_time": "2023-01-20T05:17:45.634Z"
   },
   {
    "duration": 18,
    "start_time": "2023-01-20T05:17:46.134Z"
   },
   {
    "duration": 16,
    "start_time": "2023-01-20T05:17:46.154Z"
   },
   {
    "duration": 1538,
    "start_time": "2023-01-21T05:17:23.633Z"
   },
   {
    "duration": 14,
    "start_time": "2023-01-21T05:17:25.174Z"
   },
   {
    "duration": 22,
    "start_time": "2023-01-21T05:17:25.189Z"
   },
   {
    "duration": 39,
    "start_time": "2023-01-21T05:17:25.213Z"
   },
   {
    "duration": 26,
    "start_time": "2023-01-21T05:17:25.254Z"
   },
   {
    "duration": 28,
    "start_time": "2023-01-21T05:17:25.282Z"
   },
   {
    "duration": 38,
    "start_time": "2023-01-21T05:17:25.312Z"
   },
   {
    "duration": 27,
    "start_time": "2023-01-21T05:17:25.352Z"
   },
   {
    "duration": 355,
    "start_time": "2023-01-21T05:17:25.381Z"
   },
   {
    "duration": 265,
    "start_time": "2023-01-21T05:17:25.738Z"
   },
   {
    "duration": 7,
    "start_time": "2023-01-21T05:17:26.005Z"
   },
   {
    "duration": 905,
    "start_time": "2023-01-21T05:17:26.014Z"
   },
   {
    "duration": 34,
    "start_time": "2023-01-21T05:17:26.921Z"
   },
   {
    "duration": 21,
    "start_time": "2023-01-21T05:17:26.959Z"
   },
   {
    "duration": 829,
    "start_time": "2023-01-21T05:17:26.982Z"
   },
   {
    "duration": 112,
    "start_time": "2023-01-21T05:17:27.813Z"
   },
   {
    "duration": 563,
    "start_time": "2023-01-21T05:17:27.927Z"
   },
   {
    "duration": 1749,
    "start_time": "2023-01-21T05:17:28.492Z"
   },
   {
    "duration": 186,
    "start_time": "2023-01-21T05:17:30.243Z"
   },
   {
    "duration": 21,
    "start_time": "2023-01-21T05:17:30.430Z"
   },
   {
    "duration": 442,
    "start_time": "2023-01-21T05:17:30.452Z"
   },
   {
    "duration": 455,
    "start_time": "2023-01-21T05:17:30.896Z"
   },
   {
    "duration": 213,
    "start_time": "2023-01-21T05:17:31.353Z"
   },
   {
    "duration": 425,
    "start_time": "2023-01-21T05:17:31.568Z"
   },
   {
    "duration": 10,
    "start_time": "2023-01-21T05:17:31.994Z"
   },
   {
    "duration": 10,
    "start_time": "2023-01-21T05:17:32.005Z"
   },
   {
    "duration": 46,
    "start_time": "2023-01-21T14:06:22.130Z"
   },
   {
    "duration": 1506,
    "start_time": "2023-01-22T05:51:14.462Z"
   },
   {
    "duration": 14,
    "start_time": "2023-01-22T05:51:15.970Z"
   },
   {
    "duration": 19,
    "start_time": "2023-01-22T05:51:15.986Z"
   },
   {
    "duration": 41,
    "start_time": "2023-01-22T05:51:16.008Z"
   },
   {
    "duration": 32,
    "start_time": "2023-01-22T05:51:16.051Z"
   },
   {
    "duration": 6,
    "start_time": "2023-01-22T05:51:16.085Z"
   },
   {
    "duration": 17,
    "start_time": "2023-01-22T05:51:16.093Z"
   },
   {
    "duration": 45,
    "start_time": "2023-01-22T05:51:16.111Z"
   },
   {
    "duration": 35,
    "start_time": "2023-01-22T05:51:16.159Z"
   },
   {
    "duration": 477,
    "start_time": "2023-01-22T05:51:16.197Z"
   },
   {
    "duration": 293,
    "start_time": "2023-01-22T05:51:16.676Z"
   },
   {
    "duration": 6,
    "start_time": "2023-01-22T05:51:16.971Z"
   },
   {
    "duration": 933,
    "start_time": "2023-01-22T05:51:16.979Z"
   },
   {
    "duration": 21,
    "start_time": "2023-01-22T05:51:17.914Z"
   },
   {
    "duration": 36,
    "start_time": "2023-01-22T05:51:17.950Z"
   },
   {
    "duration": 828,
    "start_time": "2023-01-22T05:51:17.988Z"
   },
   {
    "duration": 112,
    "start_time": "2023-01-22T05:51:18.818Z"
   },
   {
    "duration": 567,
    "start_time": "2023-01-22T05:51:18.931Z"
   },
   {
    "duration": 1782,
    "start_time": "2023-01-22T05:51:19.500Z"
   },
   {
    "duration": 197,
    "start_time": "2023-01-22T05:51:21.284Z"
   },
   {
    "duration": 22,
    "start_time": "2023-01-22T05:51:21.484Z"
   },
   {
    "duration": 481,
    "start_time": "2023-01-22T05:51:21.508Z"
   },
   {
    "duration": 448,
    "start_time": "2023-01-22T05:51:21.991Z"
   },
   {
    "duration": 235,
    "start_time": "2023-01-22T05:51:22.440Z"
   },
   {
    "duration": 459,
    "start_time": "2023-01-22T05:51:22.676Z"
   },
   {
    "duration": 16,
    "start_time": "2023-01-22T05:51:23.137Z"
   },
   {
    "duration": 17,
    "start_time": "2023-01-22T05:51:23.158Z"
   },
   {
    "duration": 18,
    "start_time": "2023-01-22T06:41:18.413Z"
   },
   {
    "duration": 29,
    "start_time": "2023-01-22T06:42:26.061Z"
   },
   {
    "duration": 23,
    "start_time": "2023-01-22T06:44:12.874Z"
   },
   {
    "duration": 20,
    "start_time": "2023-01-22T06:44:26.425Z"
   },
   {
    "duration": 18,
    "start_time": "2023-01-22T06:45:00.887Z"
   },
   {
    "duration": 1201,
    "start_time": "2023-01-22T06:45:21.798Z"
   },
   {
    "duration": 13,
    "start_time": "2023-01-22T06:45:23.001Z"
   },
   {
    "duration": 11,
    "start_time": "2023-01-22T06:45:23.015Z"
   },
   {
    "duration": 34,
    "start_time": "2023-01-22T06:45:23.028Z"
   },
   {
    "duration": 21,
    "start_time": "2023-01-22T06:45:23.063Z"
   },
   {
    "duration": 5,
    "start_time": "2023-01-22T06:45:23.085Z"
   },
   {
    "duration": 16,
    "start_time": "2023-01-22T06:45:23.091Z"
   },
   {
    "duration": 42,
    "start_time": "2023-01-22T06:45:23.108Z"
   },
   {
    "duration": 29,
    "start_time": "2023-01-22T06:45:23.152Z"
   },
   {
    "duration": 384,
    "start_time": "2023-01-22T06:45:23.183Z"
   },
   {
    "duration": 274,
    "start_time": "2023-01-22T06:45:23.569Z"
   },
   {
    "duration": 31,
    "start_time": "2023-01-22T06:45:23.845Z"
   },
   {
    "duration": 919,
    "start_time": "2023-01-22T06:45:23.878Z"
   },
   {
    "duration": 21,
    "start_time": "2023-01-22T06:45:24.799Z"
   },
   {
    "duration": 19,
    "start_time": "2023-01-22T06:45:24.821Z"
   },
   {
    "duration": 763,
    "start_time": "2023-01-22T06:45:24.848Z"
   },
   {
    "duration": 136,
    "start_time": "2023-01-22T06:45:25.613Z"
   },
   {
    "duration": 532,
    "start_time": "2023-01-22T06:45:25.760Z"
   },
   {
    "duration": 1731,
    "start_time": "2023-01-22T06:45:26.294Z"
   },
   {
    "duration": 184,
    "start_time": "2023-01-22T06:45:28.026Z"
   },
   {
    "duration": 17,
    "start_time": "2023-01-22T06:45:28.211Z"
   },
   {
    "duration": 455,
    "start_time": "2023-01-22T06:45:28.229Z"
   },
   {
    "duration": 475,
    "start_time": "2023-01-22T06:45:28.686Z"
   },
   {
    "duration": 209,
    "start_time": "2023-01-22T06:45:29.162Z"
   },
   {
    "duration": 465,
    "start_time": "2023-01-22T06:45:29.373Z"
   },
   {
    "duration": 9,
    "start_time": "2023-01-22T06:45:29.840Z"
   },
   {
    "duration": 14,
    "start_time": "2023-01-22T06:45:29.852Z"
   },
   {
    "duration": 23,
    "start_time": "2023-01-22T06:45:44.211Z"
   },
   {
    "duration": 1248,
    "start_time": "2023-01-22T06:46:00.479Z"
   },
   {
    "duration": 14,
    "start_time": "2023-01-22T06:46:01.729Z"
   },
   {
    "duration": 29,
    "start_time": "2023-01-22T06:46:01.745Z"
   },
   {
    "duration": 29,
    "start_time": "2023-01-22T06:46:01.776Z"
   },
   {
    "duration": 20,
    "start_time": "2023-01-22T06:46:01.808Z"
   },
   {
    "duration": 6,
    "start_time": "2023-01-22T06:46:01.830Z"
   },
   {
    "duration": 37,
    "start_time": "2023-01-22T06:46:01.837Z"
   },
   {
    "duration": 25,
    "start_time": "2023-01-22T06:46:01.876Z"
   },
   {
    "duration": 24,
    "start_time": "2023-01-22T06:46:01.903Z"
   },
   {
    "duration": 376,
    "start_time": "2023-01-22T06:46:01.928Z"
   },
   {
    "duration": 295,
    "start_time": "2023-01-22T06:46:02.306Z"
   },
   {
    "duration": 8,
    "start_time": "2023-01-22T06:46:02.604Z"
   },
   {
    "duration": 984,
    "start_time": "2023-01-22T06:46:02.613Z"
   },
   {
    "duration": 31,
    "start_time": "2023-01-22T06:46:03.601Z"
   },
   {
    "duration": 32,
    "start_time": "2023-01-22T06:46:03.648Z"
   },
   {
    "duration": 842,
    "start_time": "2023-01-22T06:46:03.682Z"
   },
   {
    "duration": 127,
    "start_time": "2023-01-22T06:46:04.526Z"
   },
   {
    "duration": 559,
    "start_time": "2023-01-22T06:46:04.655Z"
   },
   {
    "duration": 2020,
    "start_time": "2023-01-22T06:46:05.215Z"
   },
   {
    "duration": 207,
    "start_time": "2023-01-22T06:46:07.237Z"
   },
   {
    "duration": 26,
    "start_time": "2023-01-22T06:46:07.451Z"
   },
   {
    "duration": 520,
    "start_time": "2023-01-22T06:46:07.479Z"
   },
   {
    "duration": 493,
    "start_time": "2023-01-22T06:46:08.001Z"
   },
   {
    "duration": 221,
    "start_time": "2023-01-22T06:46:08.496Z"
   },
   {
    "duration": 458,
    "start_time": "2023-01-22T06:46:08.719Z"
   },
   {
    "duration": 13,
    "start_time": "2023-01-22T06:46:09.178Z"
   },
   {
    "duration": 13,
    "start_time": "2023-01-22T06:46:09.193Z"
   },
   {
    "duration": 79,
    "start_time": "2023-01-22T06:49:51.628Z"
   },
   {
    "duration": 32,
    "start_time": "2023-01-22T06:50:04.096Z"
   },
   {
    "duration": 39,
    "start_time": "2023-01-22T06:50:38.133Z"
   },
   {
    "duration": 17,
    "start_time": "2023-01-22T06:54:38.610Z"
   },
   {
    "duration": 36,
    "start_time": "2023-01-22T07:07:58.447Z"
   },
   {
    "duration": 20,
    "start_time": "2023-01-22T07:09:29.518Z"
   },
   {
    "duration": 811,
    "start_time": "2023-01-22T07:10:53.963Z"
   },
   {
    "duration": 25,
    "start_time": "2023-01-22T07:11:09.950Z"
   },
   {
    "duration": 36,
    "start_time": "2023-01-22T07:11:13.925Z"
   },
   {
    "duration": 661,
    "start_time": "2023-01-22T07:11:17.240Z"
   },
   {
    "duration": 678,
    "start_time": "2023-01-22T07:12:15.561Z"
   },
   {
    "duration": 468,
    "start_time": "2023-01-22T07:13:30.945Z"
   },
   {
    "duration": 123,
    "start_time": "2023-01-22T07:16:19.957Z"
   },
   {
    "duration": 111,
    "start_time": "2023-01-22T07:17:07.160Z"
   },
   {
    "duration": 963,
    "start_time": "2023-01-22T07:50:09.284Z"
   },
   {
    "duration": 1933,
    "start_time": "2023-01-22T07:50:55.583Z"
   },
   {
    "duration": 1522,
    "start_time": "2023-01-22T07:51:43.980Z"
   },
   {
    "duration": 3365,
    "start_time": "2023-01-22T07:52:36.196Z"
   },
   {
    "duration": 4978,
    "start_time": "2023-01-22T07:53:49.282Z"
   },
   {
    "duration": 10264,
    "start_time": "2023-01-22T07:58:00.014Z"
   },
   {
    "duration": 5219,
    "start_time": "2023-01-22T07:58:52.574Z"
   },
   {
    "duration": 1729,
    "start_time": "2023-01-22T08:00:35.236Z"
   },
   {
    "duration": 1870,
    "start_time": "2023-01-22T08:01:35.993Z"
   },
   {
    "duration": 5028,
    "start_time": "2023-01-22T08:01:57.691Z"
   },
   {
    "duration": 5146,
    "start_time": "2023-01-22T08:05:27.779Z"
   },
   {
    "duration": 5393,
    "start_time": "2023-01-22T08:05:46.376Z"
   },
   {
    "duration": 5496,
    "start_time": "2023-01-22T08:10:47.074Z"
   },
   {
    "duration": 5816,
    "start_time": "2023-01-22T08:11:41.691Z"
   },
   {
    "duration": 1648,
    "start_time": "2023-01-22T08:14:25.446Z"
   },
   {
    "duration": 126,
    "start_time": "2023-01-22T08:15:19.083Z"
   },
   {
    "duration": 107,
    "start_time": "2023-01-22T08:15:41.793Z"
   },
   {
    "duration": 5696,
    "start_time": "2023-01-22T08:16:01.101Z"
   },
   {
    "duration": 5036,
    "start_time": "2023-01-22T08:18:27.276Z"
   },
   {
    "duration": 4923,
    "start_time": "2023-01-22T08:20:48.273Z"
   },
   {
    "duration": 4883,
    "start_time": "2023-01-22T08:20:58.719Z"
   },
   {
    "duration": 198,
    "start_time": "2023-01-22T08:25:30.994Z"
   },
   {
    "duration": 211,
    "start_time": "2023-01-22T08:26:34.670Z"
   },
   {
    "duration": 481,
    "start_time": "2023-01-22T08:26:58.270Z"
   },
   {
    "duration": 558,
    "start_time": "2023-01-22T08:28:30.320Z"
   },
   {
    "duration": 625,
    "start_time": "2023-01-22T08:29:11.500Z"
   },
   {
    "duration": 14,
    "start_time": "2023-01-22T08:30:11.337Z"
   },
   {
    "duration": 8,
    "start_time": "2023-01-22T08:31:33.378Z"
   },
   {
    "duration": 6,
    "start_time": "2023-01-22T09:16:27.511Z"
   },
   {
    "duration": 8,
    "start_time": "2023-01-22T09:16:45.076Z"
   },
   {
    "duration": 9,
    "start_time": "2023-01-22T09:23:37.376Z"
   },
   {
    "duration": 5,
    "start_time": "2023-01-22T09:24:12.420Z"
   },
   {
    "duration": 5,
    "start_time": "2023-01-22T09:25:54.927Z"
   },
   {
    "duration": 16,
    "start_time": "2023-01-22T10:32:40.125Z"
   },
   {
    "duration": 23,
    "start_time": "2023-01-22T11:07:03.968Z"
   },
   {
    "duration": 7,
    "start_time": "2023-01-22T11:07:27.034Z"
   },
   {
    "duration": 1523,
    "start_time": "2023-01-22T13:55:52.707Z"
   },
   {
    "duration": 19,
    "start_time": "2023-01-22T13:55:54.232Z"
   },
   {
    "duration": 34,
    "start_time": "2023-01-22T13:55:54.253Z"
   },
   {
    "duration": 36,
    "start_time": "2023-01-22T13:55:54.289Z"
   },
   {
    "duration": 21,
    "start_time": "2023-01-22T13:55:54.327Z"
   },
   {
    "duration": 32,
    "start_time": "2023-01-22T13:55:54.357Z"
   },
   {
    "duration": 26,
    "start_time": "2023-01-22T13:55:54.390Z"
   },
   {
    "duration": 18,
    "start_time": "2023-01-22T13:55:54.418Z"
   },
   {
    "duration": 30,
    "start_time": "2023-01-22T13:55:54.437Z"
   },
   {
    "duration": 378,
    "start_time": "2023-01-22T13:55:54.469Z"
   },
   {
    "duration": 286,
    "start_time": "2023-01-22T13:55:54.850Z"
   },
   {
    "duration": 27,
    "start_time": "2023-01-22T13:55:55.138Z"
   },
   {
    "duration": 935,
    "start_time": "2023-01-22T13:55:55.172Z"
   },
   {
    "duration": 23,
    "start_time": "2023-01-22T13:55:56.108Z"
   },
   {
    "duration": 38,
    "start_time": "2023-01-22T13:55:56.133Z"
   },
   {
    "duration": 730,
    "start_time": "2023-01-22T13:55:56.172Z"
   },
   {
    "duration": 141,
    "start_time": "2023-01-22T13:55:56.904Z"
   },
   {
    "duration": 623,
    "start_time": "2023-01-22T13:55:57.048Z"
   },
   {
    "duration": 4875,
    "start_time": "2023-01-22T13:55:57.672Z"
   },
   {
    "duration": 302,
    "start_time": "2023-01-22T13:56:02.548Z"
   },
   {
    "duration": 29,
    "start_time": "2023-01-22T13:56:02.855Z"
   },
   {
    "duration": 484,
    "start_time": "2023-01-22T13:56:02.888Z"
   },
   {
    "duration": 560,
    "start_time": "2023-01-22T13:56:03.377Z"
   },
   {
    "duration": 138,
    "start_time": "2023-01-22T13:56:03.939Z"
   },
   {
    "duration": 0,
    "start_time": "2023-01-22T13:56:04.083Z"
   },
   {
    "duration": 0,
    "start_time": "2023-01-22T13:56:04.084Z"
   },
   {
    "duration": 0,
    "start_time": "2023-01-22T13:56:04.086Z"
   },
   {
    "duration": 0,
    "start_time": "2023-01-22T13:56:04.087Z"
   },
   {
    "duration": 9,
    "start_time": "2023-01-22T13:56:08.126Z"
   },
   {
    "duration": 12,
    "start_time": "2023-01-22T13:56:28.473Z"
   },
   {
    "duration": 36,
    "start_time": "2023-01-22T14:01:26.484Z"
   },
   {
    "duration": 1390,
    "start_time": "2023-01-22T14:01:49.296Z"
   },
   {
    "duration": 17,
    "start_time": "2023-01-22T14:01:50.689Z"
   },
   {
    "duration": 46,
    "start_time": "2023-01-22T14:01:50.709Z"
   },
   {
    "duration": 80,
    "start_time": "2023-01-22T14:01:50.762Z"
   },
   {
    "duration": 47,
    "start_time": "2023-01-22T14:01:50.846Z"
   },
   {
    "duration": 33,
    "start_time": "2023-01-22T14:01:50.894Z"
   },
   {
    "duration": 30,
    "start_time": "2023-01-22T14:01:50.929Z"
   },
   {
    "duration": 56,
    "start_time": "2023-01-22T14:01:50.960Z"
   },
   {
    "duration": 47,
    "start_time": "2023-01-22T14:01:51.018Z"
   },
   {
    "duration": 479,
    "start_time": "2023-01-22T14:01:51.068Z"
   },
   {
    "duration": 315,
    "start_time": "2023-01-22T14:01:51.549Z"
   },
   {
    "duration": 11,
    "start_time": "2023-01-22T14:01:51.869Z"
   },
   {
    "duration": 1133,
    "start_time": "2023-01-22T14:01:51.885Z"
   },
   {
    "duration": 44,
    "start_time": "2023-01-22T14:01:53.021Z"
   },
   {
    "duration": 31,
    "start_time": "2023-01-22T14:01:53.070Z"
   },
   {
    "duration": 889,
    "start_time": "2023-01-22T14:01:53.103Z"
   },
   {
    "duration": 135,
    "start_time": "2023-01-22T14:01:53.995Z"
   },
   {
    "duration": 553,
    "start_time": "2023-01-22T14:01:54.132Z"
   },
   {
    "duration": 5484,
    "start_time": "2023-01-22T14:01:54.693Z"
   },
   {
    "duration": 323,
    "start_time": "2023-01-22T14:02:00.184Z"
   },
   {
    "duration": 22,
    "start_time": "2023-01-22T14:02:00.509Z"
   },
   {
    "duration": 521,
    "start_time": "2023-01-22T14:02:00.533Z"
   },
   {
    "duration": 513,
    "start_time": "2023-01-22T14:02:01.071Z"
   },
   {
    "duration": 123,
    "start_time": "2023-01-22T14:02:01.586Z"
   },
   {
    "duration": 0,
    "start_time": "2023-01-22T14:02:01.711Z"
   },
   {
    "duration": 0,
    "start_time": "2023-01-22T14:02:01.714Z"
   },
   {
    "duration": 0,
    "start_time": "2023-01-22T14:02:01.715Z"
   },
   {
    "duration": 0,
    "start_time": "2023-01-22T14:02:01.716Z"
   },
   {
    "duration": 39,
    "start_time": "2023-01-22T14:02:49.919Z"
   },
   {
    "duration": 7,
    "start_time": "2023-01-22T14:03:53.380Z"
   },
   {
    "duration": 37,
    "start_time": "2023-01-22T14:03:58.675Z"
   },
   {
    "duration": 1496,
    "start_time": "2023-01-22T14:04:30.777Z"
   },
   {
    "duration": 21,
    "start_time": "2023-01-22T14:04:32.275Z"
   },
   {
    "duration": 13,
    "start_time": "2023-01-22T14:04:32.298Z"
   },
   {
    "duration": 45,
    "start_time": "2023-01-22T14:04:32.314Z"
   },
   {
    "duration": 34,
    "start_time": "2023-01-22T14:04:32.361Z"
   },
   {
    "duration": 5,
    "start_time": "2023-01-22T14:04:32.397Z"
   },
   {
    "duration": 19,
    "start_time": "2023-01-22T14:04:32.404Z"
   },
   {
    "duration": 51,
    "start_time": "2023-01-22T14:04:32.425Z"
   },
   {
    "duration": 39,
    "start_time": "2023-01-22T14:04:32.478Z"
   },
   {
    "duration": 417,
    "start_time": "2023-01-22T14:04:32.520Z"
   },
   {
    "duration": 302,
    "start_time": "2023-01-22T14:04:32.939Z"
   },
   {
    "duration": 14,
    "start_time": "2023-01-22T14:04:33.243Z"
   },
   {
    "duration": 1080,
    "start_time": "2023-01-22T14:04:33.260Z"
   },
   {
    "duration": 37,
    "start_time": "2023-01-22T14:04:34.342Z"
   },
   {
    "duration": 41,
    "start_time": "2023-01-22T14:04:34.381Z"
   },
   {
    "duration": 755,
    "start_time": "2023-01-22T14:04:34.424Z"
   },
   {
    "duration": 126,
    "start_time": "2023-01-22T14:04:35.184Z"
   },
   {
    "duration": 559,
    "start_time": "2023-01-22T14:04:35.312Z"
   },
   {
    "duration": 5316,
    "start_time": "2023-01-22T14:04:35.875Z"
   },
   {
    "duration": 396,
    "start_time": "2023-01-22T14:04:41.196Z"
   },
   {
    "duration": 23,
    "start_time": "2023-01-22T14:04:41.594Z"
   },
   {
    "duration": 499,
    "start_time": "2023-01-22T14:04:41.620Z"
   },
   {
    "duration": 659,
    "start_time": "2023-01-22T14:04:42.121Z"
   },
   {
    "duration": 148,
    "start_time": "2023-01-22T14:04:42.782Z"
   },
   {
    "duration": 0,
    "start_time": "2023-01-22T14:04:42.932Z"
   },
   {
    "duration": 0,
    "start_time": "2023-01-22T14:04:42.934Z"
   },
   {
    "duration": 0,
    "start_time": "2023-01-22T14:04:42.935Z"
   },
   {
    "duration": 0,
    "start_time": "2023-01-22T14:04:42.937Z"
   },
   {
    "duration": 14,
    "start_time": "2023-01-22T14:05:13.677Z"
   },
   {
    "duration": 2012,
    "start_time": "2023-01-22T14:18:44.097Z"
   },
   {
    "duration": 18,
    "start_time": "2023-01-22T14:19:24.741Z"
   },
   {
    "duration": 48,
    "start_time": "2023-01-22T14:20:31.923Z"
   },
   {
    "duration": 51,
    "start_time": "2023-01-22T14:21:32.021Z"
   },
   {
    "duration": 32,
    "start_time": "2023-01-22T14:21:35.905Z"
   },
   {
    "duration": 62,
    "start_time": "2023-01-22T14:22:17.733Z"
   },
   {
    "duration": 66,
    "start_time": "2023-01-22T14:22:25.020Z"
   },
   {
    "duration": 1479,
    "start_time": "2023-01-22T14:24:07.784Z"
   },
   {
    "duration": 39,
    "start_time": "2023-01-22T14:24:09.273Z"
   },
   {
    "duration": 18,
    "start_time": "2023-01-22T14:24:09.318Z"
   },
   {
    "duration": 57,
    "start_time": "2023-01-22T14:24:09.338Z"
   },
   {
    "duration": 74,
    "start_time": "2023-01-22T14:24:09.398Z"
   },
   {
    "duration": 105,
    "start_time": "2023-01-22T14:24:09.474Z"
   },
   {
    "duration": 81,
    "start_time": "2023-01-22T14:24:09.580Z"
   },
   {
    "duration": 39,
    "start_time": "2023-01-22T14:24:09.662Z"
   },
   {
    "duration": 44,
    "start_time": "2023-01-22T14:24:09.707Z"
   },
   {
    "duration": 85,
    "start_time": "2023-01-22T14:24:09.752Z"
   },
   {
    "duration": 491,
    "start_time": "2023-01-22T14:24:09.839Z"
   },
   {
    "duration": 369,
    "start_time": "2023-01-22T14:24:10.332Z"
   },
   {
    "duration": 11,
    "start_time": "2023-01-22T14:24:10.702Z"
   },
   {
    "duration": 1098,
    "start_time": "2023-01-22T14:24:10.718Z"
   },
   {
    "duration": 37,
    "start_time": "2023-01-22T14:24:11.818Z"
   },
   {
    "duration": 36,
    "start_time": "2023-01-22T14:24:11.859Z"
   },
   {
    "duration": 908,
    "start_time": "2023-01-22T14:24:11.897Z"
   },
   {
    "duration": 149,
    "start_time": "2023-01-22T14:24:12.807Z"
   },
   {
    "duration": 553,
    "start_time": "2023-01-22T14:24:12.958Z"
   },
   {
    "duration": 5850,
    "start_time": "2023-01-22T14:24:13.517Z"
   },
   {
    "duration": 396,
    "start_time": "2023-01-22T14:24:19.377Z"
   },
   {
    "duration": 33,
    "start_time": "2023-01-22T14:24:19.777Z"
   },
   {
    "duration": 611,
    "start_time": "2023-01-22T14:24:19.816Z"
   },
   {
    "duration": 739,
    "start_time": "2023-01-22T14:24:20.430Z"
   },
   {
    "duration": 142,
    "start_time": "2023-01-22T14:24:21.171Z"
   },
   {
    "duration": 0,
    "start_time": "2023-01-22T14:24:21.318Z"
   },
   {
    "duration": 0,
    "start_time": "2023-01-22T14:24:21.321Z"
   },
   {
    "duration": 0,
    "start_time": "2023-01-22T14:24:21.322Z"
   },
   {
    "duration": 0,
    "start_time": "2023-01-22T14:24:21.323Z"
   },
   {
    "duration": 443,
    "start_time": "2023-01-22T14:25:16.123Z"
   },
   {
    "duration": 25,
    "start_time": "2023-01-22T14:26:02.601Z"
   },
   {
    "duration": 39,
    "start_time": "2023-01-22T14:27:04.392Z"
   },
   {
    "duration": 412,
    "start_time": "2023-01-22T14:27:12.883Z"
   },
   {
    "duration": 39,
    "start_time": "2023-01-22T14:27:20.948Z"
   },
   {
    "duration": 37,
    "start_time": "2023-01-22T14:29:22.591Z"
   },
   {
    "duration": 31,
    "start_time": "2023-01-22T14:29:30.385Z"
   },
   {
    "duration": 17,
    "start_time": "2023-01-22T14:29:52.886Z"
   },
   {
    "duration": 88,
    "start_time": "2023-01-22T14:30:07.370Z"
   },
   {
    "duration": 21,
    "start_time": "2023-01-22T14:30:14.084Z"
   },
   {
    "duration": 21,
    "start_time": "2023-01-22T14:30:16.479Z"
   },
   {
    "duration": 31,
    "start_time": "2023-01-22T14:30:22.615Z"
   },
   {
    "duration": 26,
    "start_time": "2023-01-22T14:30:25.592Z"
   },
   {
    "duration": 10,
    "start_time": "2023-01-22T14:30:29.680Z"
   },
   {
    "duration": 17,
    "start_time": "2023-01-22T14:30:32.813Z"
   },
   {
    "duration": 49,
    "start_time": "2023-01-22T14:30:41.731Z"
   },
   {
    "duration": 38,
    "start_time": "2023-01-22T14:30:46.613Z"
   },
   {
    "duration": 34,
    "start_time": "2023-01-22T14:30:51.583Z"
   },
   {
    "duration": 101,
    "start_time": "2023-01-22T14:35:03.752Z"
   },
   {
    "duration": 6,
    "start_time": "2023-01-22T14:35:16.630Z"
   },
   {
    "duration": 20,
    "start_time": "2023-01-22T14:35:32.119Z"
   },
   {
    "duration": 11,
    "start_time": "2023-01-22T14:35:42.536Z"
   },
   {
    "duration": 2614,
    "start_time": "2023-01-22T14:35:59.918Z"
   },
   {
    "duration": 29,
    "start_time": "2023-01-22T14:36:02.535Z"
   },
   {
    "duration": 56,
    "start_time": "2023-01-22T14:36:02.566Z"
   },
   {
    "duration": 41,
    "start_time": "2023-01-22T14:36:02.626Z"
   },
   {
    "duration": 32,
    "start_time": "2023-01-22T14:36:02.670Z"
   },
   {
    "duration": 33,
    "start_time": "2023-01-22T14:36:02.704Z"
   },
   {
    "duration": 81,
    "start_time": "2023-01-22T14:36:02.740Z"
   },
   {
    "duration": 28,
    "start_time": "2023-01-22T14:36:02.823Z"
   },
   {
    "duration": 4,
    "start_time": "2023-01-22T14:36:02.853Z"
   },
   {
    "duration": 277,
    "start_time": "2023-01-22T14:36:02.859Z"
   },
   {
    "duration": 0,
    "start_time": "2023-01-22T14:36:03.138Z"
   },
   {
    "duration": 0,
    "start_time": "2023-01-22T14:36:03.140Z"
   },
   {
    "duration": 0,
    "start_time": "2023-01-22T14:36:03.141Z"
   },
   {
    "duration": 0,
    "start_time": "2023-01-22T14:36:03.142Z"
   },
   {
    "duration": 0,
    "start_time": "2023-01-22T14:36:03.143Z"
   },
   {
    "duration": 0,
    "start_time": "2023-01-22T14:36:03.144Z"
   },
   {
    "duration": 0,
    "start_time": "2023-01-22T14:36:03.145Z"
   },
   {
    "duration": 0,
    "start_time": "2023-01-22T14:36:03.147Z"
   },
   {
    "duration": 0,
    "start_time": "2023-01-22T14:36:03.148Z"
   },
   {
    "duration": 0,
    "start_time": "2023-01-22T14:36:03.149Z"
   },
   {
    "duration": 0,
    "start_time": "2023-01-22T14:36:03.150Z"
   },
   {
    "duration": 0,
    "start_time": "2023-01-22T14:36:03.150Z"
   },
   {
    "duration": 1,
    "start_time": "2023-01-22T14:36:03.151Z"
   },
   {
    "duration": 0,
    "start_time": "2023-01-22T14:36:03.153Z"
   },
   {
    "duration": 0,
    "start_time": "2023-01-22T14:36:03.154Z"
   },
   {
    "duration": 0,
    "start_time": "2023-01-22T14:36:03.156Z"
   },
   {
    "duration": 0,
    "start_time": "2023-01-22T14:36:03.157Z"
   },
   {
    "duration": 0,
    "start_time": "2023-01-22T14:36:03.159Z"
   },
   {
    "duration": 0,
    "start_time": "2023-01-22T14:36:03.160Z"
   },
   {
    "duration": 12,
    "start_time": "2023-01-22T14:36:15.109Z"
   },
   {
    "duration": 134,
    "start_time": "2023-01-22T14:36:26.462Z"
   },
   {
    "duration": 13,
    "start_time": "2023-01-22T14:36:29.630Z"
   },
   {
    "duration": 51,
    "start_time": "2023-01-22T14:36:33.176Z"
   },
   {
    "duration": 24,
    "start_time": "2023-01-22T14:36:35.623Z"
   },
   {
    "duration": 8,
    "start_time": "2023-01-22T14:36:38.911Z"
   },
   {
    "duration": 25,
    "start_time": "2023-01-22T14:36:41.488Z"
   },
   {
    "duration": 31,
    "start_time": "2023-01-22T14:36:51.169Z"
   },
   {
    "duration": 22,
    "start_time": "2023-01-22T14:37:03.296Z"
   },
   {
    "duration": 34,
    "start_time": "2023-01-22T14:37:16.640Z"
   },
   {
    "duration": 8,
    "start_time": "2023-01-22T14:37:47.632Z"
   },
   {
    "duration": 11,
    "start_time": "2023-01-22T14:38:00.175Z"
   },
   {
    "duration": 52,
    "start_time": "2023-01-22T14:38:10.489Z"
   },
   {
    "duration": 36,
    "start_time": "2023-01-22T14:38:24.810Z"
   },
   {
    "duration": 6,
    "start_time": "2023-01-22T14:38:32.886Z"
   },
   {
    "duration": 1560,
    "start_time": "2023-01-22T14:38:41.577Z"
   },
   {
    "duration": 1701,
    "start_time": "2023-01-22T14:38:55.977Z"
   },
   {
    "duration": 94,
    "start_time": "2023-01-22T14:39:28.823Z"
   },
   {
    "duration": 10,
    "start_time": "2023-01-22T14:39:32.604Z"
   },
   {
    "duration": 39,
    "start_time": "2023-01-22T14:39:37.476Z"
   },
   {
    "duration": 29,
    "start_time": "2023-01-22T14:39:40.513Z"
   },
   {
    "duration": 8,
    "start_time": "2023-01-22T14:39:44.125Z"
   },
   {
    "duration": 34,
    "start_time": "2023-01-22T14:39:47.876Z"
   },
   {
    "duration": 19,
    "start_time": "2023-01-22T14:39:53.413Z"
   },
   {
    "duration": 11,
    "start_time": "2023-01-22T14:39:57.986Z"
   },
   {
    "duration": 1404,
    "start_time": "2023-01-22T14:40:03.228Z"
   },
   {
    "duration": 58,
    "start_time": "2023-01-22T14:40:26.074Z"
   },
   {
    "duration": 11,
    "start_time": "2023-01-22T14:40:49.412Z"
   },
   {
    "duration": 1365,
    "start_time": "2023-01-22T14:41:10.702Z"
   },
   {
    "duration": 24,
    "start_time": "2023-01-22T14:41:12.069Z"
   },
   {
    "duration": 31,
    "start_time": "2023-01-22T14:41:12.095Z"
   },
   {
    "duration": 39,
    "start_time": "2023-01-22T14:41:12.128Z"
   },
   {
    "duration": 40,
    "start_time": "2023-01-22T14:41:12.171Z"
   },
   {
    "duration": 12,
    "start_time": "2023-01-22T14:41:12.213Z"
   },
   {
    "duration": 33,
    "start_time": "2023-01-22T14:41:12.227Z"
   },
   {
    "duration": 32,
    "start_time": "2023-01-22T14:41:12.261Z"
   },
   {
    "duration": 13,
    "start_time": "2023-01-22T14:41:12.300Z"
   },
   {
    "duration": 1519,
    "start_time": "2023-01-22T14:41:12.315Z"
   },
   {
    "duration": 0,
    "start_time": "2023-01-22T14:41:13.836Z"
   },
   {
    "duration": 0,
    "start_time": "2023-01-22T14:41:13.837Z"
   },
   {
    "duration": 0,
    "start_time": "2023-01-22T14:41:13.839Z"
   },
   {
    "duration": 0,
    "start_time": "2023-01-22T14:41:13.841Z"
   },
   {
    "duration": 0,
    "start_time": "2023-01-22T14:41:13.842Z"
   },
   {
    "duration": 0,
    "start_time": "2023-01-22T14:41:13.843Z"
   },
   {
    "duration": 0,
    "start_time": "2023-01-22T14:41:13.845Z"
   },
   {
    "duration": 0,
    "start_time": "2023-01-22T14:41:13.846Z"
   },
   {
    "duration": 0,
    "start_time": "2023-01-22T14:41:13.847Z"
   },
   {
    "duration": 0,
    "start_time": "2023-01-22T14:41:13.849Z"
   },
   {
    "duration": 0,
    "start_time": "2023-01-22T14:41:13.849Z"
   },
   {
    "duration": 0,
    "start_time": "2023-01-22T14:41:13.850Z"
   },
   {
    "duration": 0,
    "start_time": "2023-01-22T14:41:13.850Z"
   },
   {
    "duration": 0,
    "start_time": "2023-01-22T14:41:13.855Z"
   },
   {
    "duration": 0,
    "start_time": "2023-01-22T14:41:13.856Z"
   },
   {
    "duration": 0,
    "start_time": "2023-01-22T14:41:13.857Z"
   },
   {
    "duration": 0,
    "start_time": "2023-01-22T14:41:13.859Z"
   },
   {
    "duration": 0,
    "start_time": "2023-01-22T14:41:13.862Z"
   },
   {
    "duration": 0,
    "start_time": "2023-01-22T14:41:13.864Z"
   },
   {
    "duration": 6,
    "start_time": "2023-01-22T14:41:22.401Z"
   },
   {
    "duration": 17,
    "start_time": "2023-01-22T14:41:28.767Z"
   },
   {
    "duration": 115,
    "start_time": "2023-01-22T14:41:42.280Z"
   },
   {
    "duration": 14,
    "start_time": "2023-01-22T14:41:45.011Z"
   },
   {
    "duration": 25,
    "start_time": "2023-01-22T14:41:47.579Z"
   },
   {
    "duration": 28,
    "start_time": "2023-01-22T14:41:52.012Z"
   },
   {
    "duration": 21,
    "start_time": "2023-01-22T14:41:54.821Z"
   },
   {
    "duration": 14,
    "start_time": "2023-01-22T14:41:58.978Z"
   },
   {
    "duration": 17,
    "start_time": "2023-01-22T14:42:02.711Z"
   },
   {
    "duration": 24,
    "start_time": "2023-01-22T14:42:10.585Z"
   },
   {
    "duration": 6,
    "start_time": "2023-01-22T14:42:17.912Z"
   },
   {
    "duration": 1254,
    "start_time": "2023-01-22T14:42:22.101Z"
   },
   {
    "duration": 1342,
    "start_time": "2023-01-22T14:42:40.702Z"
   },
   {
    "duration": 1288,
    "start_time": "2023-01-22T14:43:08.420Z"
   },
   {
    "duration": 1243,
    "start_time": "2023-01-22T14:43:13.606Z"
   },
   {
    "duration": 9,
    "start_time": "2023-01-22T14:43:23.291Z"
   },
   {
    "duration": 86,
    "start_time": "2023-01-22T14:43:30.432Z"
   },
   {
    "duration": 20,
    "start_time": "2023-01-22T14:43:33.301Z"
   },
   {
    "duration": 15,
    "start_time": "2023-01-22T14:43:36.084Z"
   },
   {
    "duration": 32,
    "start_time": "2023-01-22T14:43:40.426Z"
   },
   {
    "duration": 22,
    "start_time": "2023-01-22T14:43:43.193Z"
   },
   {
    "duration": 5,
    "start_time": "2023-01-22T14:43:47.134Z"
   },
   {
    "duration": 26,
    "start_time": "2023-01-22T14:43:49.977Z"
   },
   {
    "duration": 14,
    "start_time": "2023-01-22T14:43:54.425Z"
   },
   {
    "duration": 13,
    "start_time": "2023-01-22T14:43:58.377Z"
   },
   {
    "duration": 27,
    "start_time": "2023-01-22T14:44:15.876Z"
   },
   {
    "duration": 392,
    "start_time": "2023-01-22T14:44:21.120Z"
   },
   {
    "duration": 2517,
    "start_time": "2023-01-23T01:06:19.825Z"
   },
   {
    "duration": 16,
    "start_time": "2023-01-23T01:06:22.345Z"
   },
   {
    "duration": 11,
    "start_time": "2023-01-23T01:06:22.362Z"
   },
   {
    "duration": 42,
    "start_time": "2023-01-23T01:06:22.375Z"
   },
   {
    "duration": 42,
    "start_time": "2023-01-23T01:06:22.420Z"
   },
   {
    "duration": 10,
    "start_time": "2023-01-23T01:06:22.464Z"
   },
   {
    "duration": 67,
    "start_time": "2023-01-23T01:06:22.476Z"
   },
   {
    "duration": 33,
    "start_time": "2023-01-23T01:06:22.545Z"
   },
   {
    "duration": 7,
    "start_time": "2023-01-23T01:06:22.580Z"
   },
   {
    "duration": 73,
    "start_time": "2023-01-23T01:06:22.591Z"
   },
   {
    "duration": 430,
    "start_time": "2023-01-23T01:06:22.667Z"
   },
   {
    "duration": 333,
    "start_time": "2023-01-23T01:06:23.098Z"
   },
   {
    "duration": 8,
    "start_time": "2023-01-23T01:06:23.433Z"
   },
   {
    "duration": 1030,
    "start_time": "2023-01-23T01:06:23.444Z"
   },
   {
    "duration": 38,
    "start_time": "2023-01-23T01:06:24.476Z"
   },
   {
    "duration": 47,
    "start_time": "2023-01-23T01:06:24.516Z"
   },
   {
    "duration": 826,
    "start_time": "2023-01-23T01:06:24.564Z"
   },
   {
    "duration": 141,
    "start_time": "2023-01-23T01:06:25.391Z"
   },
   {
    "duration": 512,
    "start_time": "2023-01-23T01:06:25.534Z"
   },
   {
    "duration": 5006,
    "start_time": "2023-01-23T01:06:26.048Z"
   },
   {
    "duration": 370,
    "start_time": "2023-01-23T01:06:31.055Z"
   },
   {
    "duration": 17,
    "start_time": "2023-01-23T01:06:31.427Z"
   },
   {
    "duration": 526,
    "start_time": "2023-01-23T01:06:31.446Z"
   },
   {
    "duration": 550,
    "start_time": "2023-01-23T01:06:31.974Z"
   },
   {
    "duration": 120,
    "start_time": "2023-01-23T01:06:32.526Z"
   },
   {
    "duration": 0,
    "start_time": "2023-01-23T01:06:32.648Z"
   },
   {
    "duration": 0,
    "start_time": "2023-01-23T01:06:32.650Z"
   },
   {
    "duration": 0,
    "start_time": "2023-01-23T01:06:32.651Z"
   },
   {
    "duration": 0,
    "start_time": "2023-01-23T01:06:32.653Z"
   },
   {
    "duration": 87,
    "start_time": "2023-01-23T01:06:44.239Z"
   },
   {
    "duration": 21,
    "start_time": "2023-01-23T01:06:47.908Z"
   },
   {
    "duration": 14,
    "start_time": "2023-01-23T01:06:52.190Z"
   },
   {
    "duration": 43,
    "start_time": "2023-01-23T01:06:58.446Z"
   },
   {
    "duration": 24,
    "start_time": "2023-01-23T01:07:02.906Z"
   },
   {
    "duration": 8,
    "start_time": "2023-01-23T01:07:08.725Z"
   },
   {
    "duration": 18,
    "start_time": "2023-01-23T01:07:18.610Z"
   },
   {
    "duration": 19,
    "start_time": "2023-01-23T01:07:45.535Z"
   },
   {
    "duration": 24,
    "start_time": "2023-01-23T01:07:55.775Z"
   },
   {
    "duration": 7,
    "start_time": "2023-01-23T01:08:04.675Z"
   },
   {
    "duration": 6,
    "start_time": "2023-01-23T01:08:09.962Z"
   },
   {
    "duration": 38,
    "start_time": "2023-01-23T01:08:26.742Z"
   },
   {
    "duration": 24,
    "start_time": "2023-01-23T01:08:40.801Z"
   },
   {
    "duration": 41,
    "start_time": "2023-01-23T01:18:48.717Z"
   },
   {
    "duration": 265,
    "start_time": "2023-01-23T01:36:11.102Z"
   },
   {
    "duration": 488,
    "start_time": "2023-01-23T01:36:45.425Z"
   },
   {
    "duration": 9,
    "start_time": "2023-01-23T01:44:10.509Z"
   },
   {
    "duration": 8,
    "start_time": "2023-01-23T01:44:30.938Z"
   },
   {
    "duration": 9,
    "start_time": "2023-01-23T01:44:45.818Z"
   },
   {
    "duration": 7,
    "start_time": "2023-01-23T01:57:37.410Z"
   },
   {
    "duration": 9,
    "start_time": "2023-01-23T02:31:51.009Z"
   },
   {
    "duration": 1241,
    "start_time": "2023-01-23T02:38:05.703Z"
   },
   {
    "duration": 13,
    "start_time": "2023-01-23T02:38:06.946Z"
   },
   {
    "duration": 11,
    "start_time": "2023-01-23T02:38:06.960Z"
   },
   {
    "duration": 61,
    "start_time": "2023-01-23T02:38:06.973Z"
   },
   {
    "duration": 19,
    "start_time": "2023-01-23T02:38:07.037Z"
   },
   {
    "duration": 4,
    "start_time": "2023-01-23T02:38:07.057Z"
   },
   {
    "duration": 16,
    "start_time": "2023-01-23T02:38:07.063Z"
   },
   {
    "duration": 25,
    "start_time": "2023-01-23T02:38:07.081Z"
   },
   {
    "duration": 14,
    "start_time": "2023-01-23T02:38:07.108Z"
   },
   {
    "duration": 28,
    "start_time": "2023-01-23T02:38:07.123Z"
   },
   {
    "duration": 360,
    "start_time": "2023-01-23T02:38:07.153Z"
   },
   {
    "duration": 5,
    "start_time": "2023-01-23T02:40:30.326Z"
   },
   {
    "duration": 1203,
    "start_time": "2023-01-23T02:40:41.912Z"
   },
   {
    "duration": 14,
    "start_time": "2023-01-23T02:40:43.117Z"
   },
   {
    "duration": 16,
    "start_time": "2023-01-23T02:40:43.132Z"
   },
   {
    "duration": 42,
    "start_time": "2023-01-23T02:40:43.149Z"
   },
   {
    "duration": 37,
    "start_time": "2023-01-23T02:40:43.193Z"
   },
   {
    "duration": 15,
    "start_time": "2023-01-23T02:40:43.232Z"
   },
   {
    "duration": 35,
    "start_time": "2023-01-23T02:40:43.248Z"
   },
   {
    "duration": 58,
    "start_time": "2023-01-23T02:40:43.288Z"
   },
   {
    "duration": 14,
    "start_time": "2023-01-23T02:40:43.348Z"
   },
   {
    "duration": 74,
    "start_time": "2023-01-23T02:40:43.364Z"
   },
   {
    "duration": 350,
    "start_time": "2023-01-23T02:40:43.440Z"
   },
   {
    "duration": 299,
    "start_time": "2023-01-23T02:40:43.797Z"
   },
   {
    "duration": 10,
    "start_time": "2023-01-23T02:40:44.098Z"
   },
   {
    "duration": 996,
    "start_time": "2023-01-23T02:40:44.110Z"
   },
   {
    "duration": 24,
    "start_time": "2023-01-23T02:40:45.109Z"
   },
   {
    "duration": 59,
    "start_time": "2023-01-23T02:40:45.134Z"
   },
   {
    "duration": 717,
    "start_time": "2023-01-23T02:40:45.199Z"
   },
   {
    "duration": 130,
    "start_time": "2023-01-23T02:40:45.918Z"
   },
   {
    "duration": 571,
    "start_time": "2023-01-23T02:40:46.050Z"
   },
   {
    "duration": 4780,
    "start_time": "2023-01-23T02:40:46.623Z"
   },
   {
    "duration": 287,
    "start_time": "2023-01-23T02:40:51.406Z"
   },
   {
    "duration": 22,
    "start_time": "2023-01-23T02:40:51.694Z"
   },
   {
    "duration": 451,
    "start_time": "2023-01-23T02:40:51.718Z"
   },
   {
    "duration": 467,
    "start_time": "2023-01-23T02:40:52.171Z"
   },
   {
    "duration": 211,
    "start_time": "2023-01-23T02:40:52.641Z"
   },
   {
    "duration": 489,
    "start_time": "2023-01-23T02:40:52.854Z"
   },
   {
    "duration": 8,
    "start_time": "2023-01-23T02:40:53.345Z"
   },
   {
    "duration": 23,
    "start_time": "2023-01-23T02:40:53.354Z"
   },
   {
    "duration": 8,
    "start_time": "2023-01-23T02:41:31.532Z"
   },
   {
    "duration": 26,
    "start_time": "2023-01-23T02:41:38.524Z"
   },
   {
    "duration": 5,
    "start_time": "2023-01-23T02:42:32.822Z"
   },
   {
    "duration": 444,
    "start_time": "2023-01-23T02:42:51.616Z"
   },
   {
    "duration": 14,
    "start_time": "2023-01-23T02:43:28.757Z"
   },
   {
    "duration": 38,
    "start_time": "2023-01-23T02:43:49.803Z"
   },
   {
    "duration": 25,
    "start_time": "2023-01-23T02:43:56.245Z"
   },
   {
    "duration": 5,
    "start_time": "2023-01-23T02:44:00.870Z"
   },
   {
    "duration": 93,
    "start_time": "2023-01-23T02:44:49.960Z"
   },
   {
    "duration": 20,
    "start_time": "2023-01-23T02:44:53.069Z"
   },
   {
    "duration": 34,
    "start_time": "2023-01-23T02:44:56.677Z"
   },
   {
    "duration": 29,
    "start_time": "2023-01-23T02:45:02.425Z"
   },
   {
    "duration": 30,
    "start_time": "2023-01-23T02:45:07.541Z"
   },
   {
    "duration": 13,
    "start_time": "2023-01-23T02:45:12.214Z"
   },
   {
    "duration": 16,
    "start_time": "2023-01-23T02:45:14.829Z"
   },
   {
    "duration": 22,
    "start_time": "2023-01-23T02:45:20.517Z"
   },
   {
    "duration": 5,
    "start_time": "2023-01-23T02:45:28.123Z"
   },
   {
    "duration": 7,
    "start_time": "2023-01-23T02:45:43.281Z"
   },
   {
    "duration": 30,
    "start_time": "2023-01-23T02:45:53.400Z"
   },
   {
    "duration": 380,
    "start_time": "2023-01-23T02:46:01.259Z"
   },
   {
    "duration": 294,
    "start_time": "2023-01-23T02:46:09.463Z"
   },
   {
    "duration": 20,
    "start_time": "2023-01-23T02:46:16.013Z"
   },
   {
    "duration": 47,
    "start_time": "2023-01-23T02:46:27.253Z"
   },
   {
    "duration": 22,
    "start_time": "2023-01-23T02:46:31.422Z"
   },
   {
    "duration": 729,
    "start_time": "2023-01-23T02:46:34.864Z"
   },
   {
    "duration": 4927,
    "start_time": "2023-01-23T02:46:48.796Z"
   },
   {
    "duration": 29,
    "start_time": "2023-01-23T02:47:48.216Z"
   },
   {
    "duration": 7,
    "start_time": "2023-01-23T02:47:54.610Z"
   },
   {
    "duration": 27,
    "start_time": "2023-01-23T02:48:20.851Z"
   },
   {
    "duration": 1603,
    "start_time": "2023-01-23T02:48:56.244Z"
   },
   {
    "duration": 11,
    "start_time": "2023-01-23T02:48:59.721Z"
   },
   {
    "duration": 34,
    "start_time": "2023-01-23T02:49:02.607Z"
   },
   {
    "duration": 24,
    "start_time": "2023-01-23T02:49:05.423Z"
   },
   {
    "duration": 12,
    "start_time": "2023-01-23T02:49:09.706Z"
   },
   {
    "duration": 26,
    "start_time": "2023-01-23T02:49:13.311Z"
   },
   {
    "duration": 26,
    "start_time": "2023-01-23T02:49:16.768Z"
   },
   {
    "duration": 5,
    "start_time": "2023-01-23T02:49:23.125Z"
   },
   {
    "duration": 37,
    "start_time": "2023-01-23T02:49:30.613Z"
   },
   {
    "duration": 400,
    "start_time": "2023-01-23T02:49:46.799Z"
   },
   {
    "duration": 1263,
    "start_time": "2023-01-23T02:50:03.038Z"
   },
   {
    "duration": 23,
    "start_time": "2023-01-23T02:50:04.312Z"
   },
   {
    "duration": 24,
    "start_time": "2023-01-23T02:50:04.337Z"
   },
   {
    "duration": 43,
    "start_time": "2023-01-23T02:50:04.363Z"
   },
   {
    "duration": 39,
    "start_time": "2023-01-23T02:50:04.409Z"
   },
   {
    "duration": 14,
    "start_time": "2023-01-23T02:50:04.450Z"
   },
   {
    "duration": 33,
    "start_time": "2023-01-23T02:50:04.466Z"
   },
   {
    "duration": 31,
    "start_time": "2023-01-23T02:50:04.501Z"
   },
   {
    "duration": 5,
    "start_time": "2023-01-23T02:50:04.534Z"
   },
   {
    "duration": 32,
    "start_time": "2023-01-23T02:50:04.541Z"
   },
   {
    "duration": 389,
    "start_time": "2023-01-23T02:50:04.575Z"
   },
   {
    "duration": 299,
    "start_time": "2023-01-23T02:50:04.966Z"
   },
   {
    "duration": 7,
    "start_time": "2023-01-23T02:50:05.267Z"
   },
   {
    "duration": 1060,
    "start_time": "2023-01-23T02:50:05.282Z"
   },
   {
    "duration": 30,
    "start_time": "2023-01-23T02:50:06.352Z"
   },
   {
    "duration": 44,
    "start_time": "2023-01-23T02:50:06.398Z"
   },
   {
    "duration": 760,
    "start_time": "2023-01-23T02:50:06.444Z"
   },
   {
    "duration": 129,
    "start_time": "2023-01-23T02:50:07.206Z"
   },
   {
    "duration": 560,
    "start_time": "2023-01-23T02:50:07.337Z"
   },
   {
    "duration": 4764,
    "start_time": "2023-01-23T02:50:07.902Z"
   },
   {
    "duration": 309,
    "start_time": "2023-01-23T02:50:12.669Z"
   },
   {
    "duration": 19,
    "start_time": "2023-01-23T02:50:12.982Z"
   },
   {
    "duration": 492,
    "start_time": "2023-01-23T02:50:13.002Z"
   },
   {
    "duration": 483,
    "start_time": "2023-01-23T02:50:13.496Z"
   },
   {
    "duration": 232,
    "start_time": "2023-01-23T02:50:13.983Z"
   },
   {
    "duration": 493,
    "start_time": "2023-01-23T02:50:14.218Z"
   },
   {
    "duration": 13,
    "start_time": "2023-01-23T02:50:14.712Z"
   },
   {
    "duration": 26,
    "start_time": "2023-01-23T02:50:14.728Z"
   },
   {
    "duration": 23,
    "start_time": "2023-01-23T02:50:37.630Z"
   },
   {
    "duration": 7,
    "start_time": "2023-01-23T02:51:00.420Z"
   },
   {
    "duration": 27,
    "start_time": "2023-01-23T02:51:05.937Z"
   },
   {
    "duration": 601,
    "start_time": "2023-01-23T02:52:02.017Z"
   },
   {
    "duration": 7,
    "start_time": "2023-01-23T02:52:40.502Z"
   },
   {
    "duration": 30,
    "start_time": "2023-01-23T02:52:43.960Z"
   },
   {
    "duration": 48,
    "start_time": "2023-01-23T02:52:58.153Z"
   },
   {
    "duration": 32,
    "start_time": "2023-01-23T02:53:04.913Z"
   },
   {
    "duration": 16,
    "start_time": "2023-01-23T02:53:09.611Z"
   },
   {
    "duration": 35,
    "start_time": "2023-01-23T02:53:16.632Z"
   },
   {
    "duration": 24,
    "start_time": "2023-01-23T02:54:24.342Z"
   },
   {
    "duration": 34,
    "start_time": "2023-01-23T02:54:40.371Z"
   },
   {
    "duration": 4670,
    "start_time": "2023-01-23T02:54:54.319Z"
   },
   {
    "duration": 28,
    "start_time": "2023-01-23T02:55:13.612Z"
   },
   {
    "duration": 27,
    "start_time": "2023-01-23T02:56:50.942Z"
   },
   {
    "duration": 6,
    "start_time": "2023-01-23T02:57:52.265Z"
   },
   {
    "duration": 1267,
    "start_time": "2023-01-23T02:57:58.869Z"
   },
   {
    "duration": 14,
    "start_time": "2023-01-23T02:58:00.138Z"
   },
   {
    "duration": 8,
    "start_time": "2023-01-23T02:58:00.154Z"
   },
   {
    "duration": 60,
    "start_time": "2023-01-23T02:58:00.164Z"
   },
   {
    "duration": 22,
    "start_time": "2023-01-23T02:58:00.226Z"
   },
   {
    "duration": 13,
    "start_time": "2023-01-23T02:58:00.250Z"
   },
   {
    "duration": 44,
    "start_time": "2023-01-23T02:58:00.265Z"
   },
   {
    "duration": 34,
    "start_time": "2023-01-23T02:58:00.310Z"
   },
   {
    "duration": 4,
    "start_time": "2023-01-23T02:58:00.346Z"
   },
   {
    "duration": 44,
    "start_time": "2023-01-23T02:58:00.353Z"
   },
   {
    "duration": 403,
    "start_time": "2023-01-23T02:58:00.400Z"
   },
   {
    "duration": 314,
    "start_time": "2023-01-23T02:58:00.805Z"
   },
   {
    "duration": 12,
    "start_time": "2023-01-23T02:58:01.125Z"
   },
   {
    "duration": 991,
    "start_time": "2023-01-23T02:58:01.139Z"
   },
   {
    "duration": 27,
    "start_time": "2023-01-23T02:58:02.132Z"
   },
   {
    "duration": 78,
    "start_time": "2023-01-23T02:58:02.160Z"
   },
   {
    "duration": 760,
    "start_time": "2023-01-23T02:58:02.240Z"
   },
   {
    "duration": 124,
    "start_time": "2023-01-23T02:58:03.002Z"
   },
   {
    "duration": 477,
    "start_time": "2023-01-23T02:58:03.128Z"
   },
   {
    "duration": 4831,
    "start_time": "2023-01-23T02:58:03.606Z"
   },
   {
    "duration": 300,
    "start_time": "2023-01-23T02:58:08.438Z"
   },
   {
    "duration": 18,
    "start_time": "2023-01-23T02:58:08.740Z"
   },
   {
    "duration": 506,
    "start_time": "2023-01-23T02:58:08.760Z"
   },
   {
    "duration": 502,
    "start_time": "2023-01-23T02:58:09.268Z"
   },
   {
    "duration": 202,
    "start_time": "2023-01-23T02:58:09.772Z"
   },
   {
    "duration": 464,
    "start_time": "2023-01-23T02:58:09.981Z"
   },
   {
    "duration": 8,
    "start_time": "2023-01-23T02:58:10.446Z"
   },
   {
    "duration": 8,
    "start_time": "2023-01-23T02:58:10.457Z"
   },
   {
    "duration": 8,
    "start_time": "2023-01-23T03:02:02.378Z"
   },
   {
    "duration": 101,
    "start_time": "2023-01-23T03:02:28.914Z"
   },
   {
    "duration": 20,
    "start_time": "2023-01-23T03:02:32.246Z"
   },
   {
    "duration": 1425,
    "start_time": "2023-01-23T03:02:44.982Z"
   },
   {
    "duration": 29,
    "start_time": "2023-01-23T03:02:46.409Z"
   },
   {
    "duration": 19,
    "start_time": "2023-01-23T03:02:46.440Z"
   },
   {
    "duration": 43,
    "start_time": "2023-01-23T03:02:46.463Z"
   },
   {
    "duration": 56,
    "start_time": "2023-01-23T03:02:46.513Z"
   },
   {
    "duration": 5,
    "start_time": "2023-01-23T03:02:46.573Z"
   },
   {
    "duration": 79,
    "start_time": "2023-01-23T03:02:46.580Z"
   },
   {
    "duration": 18,
    "start_time": "2023-01-23T03:02:46.661Z"
   },
   {
    "duration": 19,
    "start_time": "2023-01-23T03:02:46.681Z"
   },
   {
    "duration": 70,
    "start_time": "2023-01-23T03:02:46.703Z"
   },
   {
    "duration": 460,
    "start_time": "2023-01-23T03:02:46.775Z"
   },
   {
    "duration": 321,
    "start_time": "2023-01-23T03:02:47.237Z"
   },
   {
    "duration": 6,
    "start_time": "2023-01-23T03:02:47.560Z"
   },
   {
    "duration": 1099,
    "start_time": "2023-01-23T03:02:47.568Z"
   },
   {
    "duration": 49,
    "start_time": "2023-01-23T03:02:48.668Z"
   },
   {
    "duration": 22,
    "start_time": "2023-01-23T03:02:48.722Z"
   },
   {
    "duration": 816,
    "start_time": "2023-01-23T03:02:48.745Z"
   },
   {
    "duration": 137,
    "start_time": "2023-01-23T03:02:49.563Z"
   },
   {
    "duration": 487,
    "start_time": "2023-01-23T03:02:49.702Z"
   },
   {
    "duration": 5243,
    "start_time": "2023-01-23T03:02:50.191Z"
   },
   {
    "duration": 339,
    "start_time": "2023-01-23T03:02:55.435Z"
   },
   {
    "duration": 41,
    "start_time": "2023-01-23T03:02:55.776Z"
   },
   {
    "duration": 538,
    "start_time": "2023-01-23T03:02:55.822Z"
   },
   {
    "duration": 664,
    "start_time": "2023-01-23T03:02:56.364Z"
   },
   {
    "duration": 228,
    "start_time": "2023-01-23T03:02:57.035Z"
   },
   {
    "duration": 563,
    "start_time": "2023-01-23T03:02:57.265Z"
   },
   {
    "duration": 9,
    "start_time": "2023-01-23T03:02:57.830Z"
   },
   {
    "duration": 9,
    "start_time": "2023-01-23T03:02:57.842Z"
   },
   {
    "duration": 25,
    "start_time": "2023-01-23T03:03:22.042Z"
   },
   {
    "duration": 5,
    "start_time": "2023-01-23T03:03:39.161Z"
   },
   {
    "duration": 101,
    "start_time": "2023-01-23T03:04:08.261Z"
   },
   {
    "duration": 5,
    "start_time": "2023-01-23T03:04:14.928Z"
   },
   {
    "duration": 26,
    "start_time": "2023-01-23T03:04:29.214Z"
   },
   {
    "duration": 1302,
    "start_time": "2023-01-23T03:05:04.827Z"
   },
   {
    "duration": 14,
    "start_time": "2023-01-23T03:05:06.131Z"
   },
   {
    "duration": 9,
    "start_time": "2023-01-23T03:05:06.147Z"
   },
   {
    "duration": 75,
    "start_time": "2023-01-23T03:05:06.157Z"
   },
   {
    "duration": 23,
    "start_time": "2023-01-23T03:05:06.235Z"
   },
   {
    "duration": 7,
    "start_time": "2023-01-23T03:05:06.259Z"
   },
   {
    "duration": 27,
    "start_time": "2023-01-23T03:05:06.268Z"
   },
   {
    "duration": 53,
    "start_time": "2023-01-23T03:05:06.304Z"
   },
   {
    "duration": 37,
    "start_time": "2023-01-23T03:05:06.359Z"
   },
   {
    "duration": 476,
    "start_time": "2023-01-23T03:05:06.397Z"
   },
   {
    "duration": 300,
    "start_time": "2023-01-23T03:05:06.875Z"
   },
   {
    "duration": 11,
    "start_time": "2023-01-23T03:05:07.177Z"
   },
   {
    "duration": 1038,
    "start_time": "2023-01-23T03:05:07.195Z"
   },
   {
    "duration": 23,
    "start_time": "2023-01-23T03:05:08.236Z"
   },
   {
    "duration": 46,
    "start_time": "2023-01-23T03:05:08.261Z"
   },
   {
    "duration": 750,
    "start_time": "2023-01-23T03:05:08.311Z"
   },
   {
    "duration": 150,
    "start_time": "2023-01-23T03:05:09.063Z"
   },
   {
    "duration": 451,
    "start_time": "2023-01-23T03:05:09.215Z"
   },
   {
    "duration": 5050,
    "start_time": "2023-01-23T03:05:09.668Z"
   },
   {
    "duration": 331,
    "start_time": "2023-01-23T03:05:14.719Z"
   },
   {
    "duration": 18,
    "start_time": "2023-01-23T03:05:15.052Z"
   },
   {
    "duration": 553,
    "start_time": "2023-01-23T03:05:15.094Z"
   },
   {
    "duration": 514,
    "start_time": "2023-01-23T03:05:15.649Z"
   },
   {
    "duration": 305,
    "start_time": "2023-01-23T03:05:16.165Z"
   },
   {
    "duration": 598,
    "start_time": "2023-01-23T03:05:16.472Z"
   },
   {
    "duration": 28,
    "start_time": "2023-01-23T03:05:17.073Z"
   },
   {
    "duration": 39,
    "start_time": "2023-01-23T03:05:17.109Z"
   },
   {
    "duration": 5,
    "start_time": "2023-01-23T03:05:38.845Z"
   },
   {
    "duration": 46,
    "start_time": "2023-01-23T03:05:59.280Z"
   },
   {
    "duration": 29,
    "start_time": "2023-01-23T03:06:09.530Z"
   },
   {
    "duration": 4832,
    "start_time": "2023-01-23T03:07:19.532Z"
   },
   {
    "duration": 24,
    "start_time": "2023-01-23T03:11:10.830Z"
   },
   {
    "duration": 45,
    "start_time": "2023-01-23T03:13:22.371Z"
   },
   {
    "duration": 1278,
    "start_time": "2023-01-23T03:13:30.712Z"
   },
   {
    "duration": 21,
    "start_time": "2023-01-23T03:13:31.992Z"
   },
   {
    "duration": 28,
    "start_time": "2023-01-23T03:13:32.018Z"
   },
   {
    "duration": 49,
    "start_time": "2023-01-23T03:13:32.048Z"
   },
   {
    "duration": 26,
    "start_time": "2023-01-23T03:13:32.112Z"
   },
   {
    "duration": 12,
    "start_time": "2023-01-23T03:13:32.140Z"
   },
   {
    "duration": 21,
    "start_time": "2023-01-23T03:13:32.154Z"
   },
   {
    "duration": 18,
    "start_time": "2023-01-23T03:13:32.176Z"
   },
   {
    "duration": 30,
    "start_time": "2023-01-23T03:13:32.196Z"
   },
   {
    "duration": 33,
    "start_time": "2023-01-23T03:13:32.227Z"
   },
   {
    "duration": 402,
    "start_time": "2023-01-23T03:13:32.262Z"
   },
   {
    "duration": 296,
    "start_time": "2023-01-23T03:13:32.666Z"
   },
   {
    "duration": 7,
    "start_time": "2023-01-23T03:13:32.963Z"
   },
   {
    "duration": 954,
    "start_time": "2023-01-23T03:13:32.980Z"
   },
   {
    "duration": 22,
    "start_time": "2023-01-23T03:13:33.936Z"
   },
   {
    "duration": 38,
    "start_time": "2023-01-23T03:13:33.960Z"
   },
   {
    "duration": 698,
    "start_time": "2023-01-23T03:13:34.000Z"
   },
   {
    "duration": 130,
    "start_time": "2023-01-23T03:13:34.700Z"
   },
   {
    "duration": 440,
    "start_time": "2023-01-23T03:13:34.832Z"
   },
   {
    "duration": 4558,
    "start_time": "2023-01-23T03:13:35.274Z"
   },
   {
    "duration": 308,
    "start_time": "2023-01-23T03:13:39.834Z"
   },
   {
    "duration": 16,
    "start_time": "2023-01-23T03:13:40.143Z"
   },
   {
    "duration": 506,
    "start_time": "2023-01-23T03:13:40.161Z"
   },
   {
    "duration": 479,
    "start_time": "2023-01-23T03:13:40.669Z"
   },
   {
    "duration": 198,
    "start_time": "2023-01-23T03:13:41.150Z"
   },
   {
    "duration": 497,
    "start_time": "2023-01-23T03:13:41.349Z"
   },
   {
    "duration": 8,
    "start_time": "2023-01-23T03:13:41.847Z"
   },
   {
    "duration": 12,
    "start_time": "2023-01-23T03:13:41.857Z"
   },
   {
    "duration": 24,
    "start_time": "2023-01-23T03:13:42.424Z"
   },
   {
    "duration": 26,
    "start_time": "2023-01-23T03:14:00.641Z"
   },
   {
    "duration": 1340,
    "start_time": "2023-01-23T03:17:25.465Z"
   },
   {
    "duration": 27,
    "start_time": "2023-01-23T03:17:26.807Z"
   },
   {
    "duration": 26,
    "start_time": "2023-01-23T03:17:26.836Z"
   },
   {
    "duration": 43,
    "start_time": "2023-01-23T03:17:26.864Z"
   },
   {
    "duration": 33,
    "start_time": "2023-01-23T03:17:26.913Z"
   },
   {
    "duration": 5,
    "start_time": "2023-01-23T03:17:26.948Z"
   },
   {
    "duration": 31,
    "start_time": "2023-01-23T03:17:26.954Z"
   },
   {
    "duration": 18,
    "start_time": "2023-01-23T03:17:26.991Z"
   },
   {
    "duration": 45,
    "start_time": "2023-01-23T03:17:27.011Z"
   },
   {
    "duration": 42,
    "start_time": "2023-01-23T03:17:27.059Z"
   },
   {
    "duration": 391,
    "start_time": "2023-01-23T03:17:27.103Z"
   },
   {
    "duration": 323,
    "start_time": "2023-01-23T03:17:27.497Z"
   },
   {
    "duration": 12,
    "start_time": "2023-01-23T03:17:27.823Z"
   },
   {
    "duration": 985,
    "start_time": "2023-01-23T03:17:27.837Z"
   },
   {
    "duration": 21,
    "start_time": "2023-01-23T03:17:28.824Z"
   },
   {
    "duration": 23,
    "start_time": "2023-01-23T03:17:28.847Z"
   },
   {
    "duration": 698,
    "start_time": "2023-01-23T03:17:28.871Z"
   },
   {
    "duration": 154,
    "start_time": "2023-01-23T03:17:29.570Z"
   },
   {
    "duration": 430,
    "start_time": "2023-01-23T03:17:29.726Z"
   },
   {
    "duration": 4889,
    "start_time": "2023-01-23T03:17:30.158Z"
   },
   {
    "duration": 296,
    "start_time": "2023-01-23T03:17:35.049Z"
   },
   {
    "duration": 17,
    "start_time": "2023-01-23T03:17:35.347Z"
   },
   {
    "duration": 491,
    "start_time": "2023-01-23T03:17:35.365Z"
   },
   {
    "duration": 535,
    "start_time": "2023-01-23T03:17:35.858Z"
   },
   {
    "duration": 240,
    "start_time": "2023-01-23T03:17:36.398Z"
   },
   {
    "duration": 533,
    "start_time": "2023-01-23T03:17:36.641Z"
   },
   {
    "duration": 19,
    "start_time": "2023-01-23T03:17:37.181Z"
   },
   {
    "duration": 33,
    "start_time": "2023-01-23T03:17:37.205Z"
   },
   {
    "duration": 23,
    "start_time": "2023-01-23T03:17:47.238Z"
   },
   {
    "duration": 26,
    "start_time": "2023-01-23T03:18:22.033Z"
   },
   {
    "duration": 44,
    "start_time": "2023-01-23T03:19:46.185Z"
   },
   {
    "duration": 58,
    "start_time": "2023-01-23T03:41:49.209Z"
   },
   {
    "duration": 13,
    "start_time": "2023-01-23T03:41:52.707Z"
   },
   {
    "duration": 11,
    "start_time": "2023-01-23T03:41:55.555Z"
   },
   {
    "duration": 47,
    "start_time": "2023-01-23T03:41:59.352Z"
   },
   {
    "duration": 21,
    "start_time": "2023-01-23T03:42:02.014Z"
   },
   {
    "duration": 5,
    "start_time": "2023-01-23T03:42:06.253Z"
   },
   {
    "duration": 26,
    "start_time": "2023-01-23T03:42:08.791Z"
   },
   {
    "duration": 23,
    "start_time": "2023-01-23T03:42:15.394Z"
   },
   {
    "duration": 27,
    "start_time": "2023-01-23T03:42:18.563Z"
   },
   {
    "duration": 39,
    "start_time": "2023-01-23T03:42:30.770Z"
   },
   {
    "duration": 2,
    "start_time": "2023-01-23T03:45:15.904Z"
   },
   {
    "duration": 22,
    "start_time": "2023-01-23T03:47:06.025Z"
   },
   {
    "duration": 7,
    "start_time": "2023-01-23T03:51:30.975Z"
   },
   {
    "duration": 23,
    "start_time": "2023-01-23T03:51:42.206Z"
   },
   {
    "duration": 1311,
    "start_time": "2023-01-23T03:51:51.568Z"
   },
   {
    "duration": 24,
    "start_time": "2023-01-23T03:51:52.881Z"
   },
   {
    "duration": 17,
    "start_time": "2023-01-23T03:51:52.907Z"
   },
   {
    "duration": 30,
    "start_time": "2023-01-23T03:51:52.926Z"
   },
   {
    "duration": 38,
    "start_time": "2023-01-23T03:51:52.958Z"
   },
   {
    "duration": 20,
    "start_time": "2023-01-23T03:51:52.998Z"
   },
   {
    "duration": 31,
    "start_time": "2023-01-23T03:51:53.019Z"
   },
   {
    "duration": 17,
    "start_time": "2023-01-23T03:51:53.052Z"
   },
   {
    "duration": 30,
    "start_time": "2023-01-23T03:51:53.070Z"
   },
   {
    "duration": 24,
    "start_time": "2023-01-23T03:51:53.102Z"
   },
   {
    "duration": 371,
    "start_time": "2023-01-23T03:51:53.128Z"
   },
   {
    "duration": 296,
    "start_time": "2023-01-23T03:51:53.501Z"
   },
   {
    "duration": 7,
    "start_time": "2023-01-23T03:51:53.799Z"
   },
   {
    "duration": 910,
    "start_time": "2023-01-23T03:51:53.808Z"
   },
   {
    "duration": 22,
    "start_time": "2023-01-23T03:51:54.720Z"
   },
   {
    "duration": 24,
    "start_time": "2023-01-23T03:51:54.744Z"
   },
   {
    "duration": 691,
    "start_time": "2023-01-23T03:51:54.770Z"
   },
   {
    "duration": 113,
    "start_time": "2023-01-23T03:51:55.462Z"
   },
   {
    "duration": 438,
    "start_time": "2023-01-23T03:51:55.592Z"
   },
   {
    "duration": 4644,
    "start_time": "2023-01-23T03:51:56.031Z"
   },
   {
    "duration": 302,
    "start_time": "2023-01-23T03:52:00.677Z"
   },
   {
    "duration": 17,
    "start_time": "2023-01-23T03:52:00.988Z"
   },
   {
    "duration": 445,
    "start_time": "2023-01-23T03:52:01.006Z"
   },
   {
    "duration": 449,
    "start_time": "2023-01-23T03:52:01.452Z"
   },
   {
    "duration": 208,
    "start_time": "2023-01-23T03:52:01.902Z"
   },
   {
    "duration": 463,
    "start_time": "2023-01-23T03:52:02.111Z"
   },
   {
    "duration": 18,
    "start_time": "2023-01-23T03:52:02.575Z"
   },
   {
    "duration": 10,
    "start_time": "2023-01-23T03:52:02.596Z"
   },
   {
    "duration": 33,
    "start_time": "2023-01-23T03:52:09.080Z"
   },
   {
    "duration": 26,
    "start_time": "2023-01-23T03:52:59.396Z"
   },
   {
    "duration": 32,
    "start_time": "2023-01-23T03:53:16.581Z"
   },
   {
    "duration": 2,
    "start_time": "2023-01-23T03:57:27.460Z"
   },
   {
    "duration": 27,
    "start_time": "2023-01-23T03:57:30.571Z"
   },
   {
    "duration": 26,
    "start_time": "2023-01-23T03:58:32.521Z"
   },
   {
    "duration": 21,
    "start_time": "2023-01-23T03:59:30.480Z"
   },
   {
    "duration": 32,
    "start_time": "2023-01-23T04:01:28.641Z"
   },
   {
    "duration": 18,
    "start_time": "2023-01-23T04:01:35.714Z"
   },
   {
    "duration": 4,
    "start_time": "2023-01-23T04:01:48.614Z"
   },
   {
    "duration": 5,
    "start_time": "2023-01-23T04:01:55.554Z"
   },
   {
    "duration": 25,
    "start_time": "2023-01-23T04:01:58.563Z"
   },
   {
    "duration": 4,
    "start_time": "2023-01-23T04:02:48.947Z"
   },
   {
    "duration": 23,
    "start_time": "2023-01-23T04:02:54.946Z"
   },
   {
    "duration": 662,
    "start_time": "2023-01-23T04:06:38.014Z"
   },
   {
    "duration": 7,
    "start_time": "2023-01-23T04:07:36.813Z"
   },
   {
    "duration": 769,
    "start_time": "2023-01-23T04:08:35.412Z"
   },
   {
    "duration": 829,
    "start_time": "2023-01-23T04:10:45.018Z"
   },
   {
    "duration": 975,
    "start_time": "2023-01-23T04:16:01.976Z"
   },
   {
    "duration": 59,
    "start_time": "2023-01-23T04:16:11.220Z"
   },
   {
    "duration": 13,
    "start_time": "2023-01-23T04:16:13.824Z"
   },
   {
    "duration": 9,
    "start_time": "2023-01-23T04:16:16.770Z"
   },
   {
    "duration": 695,
    "start_time": "2023-01-23T04:16:21.374Z"
   },
   {
    "duration": 21,
    "start_time": "2023-01-23T04:16:36.686Z"
   },
   {
    "duration": 4,
    "start_time": "2023-01-23T04:16:40.097Z"
   },
   {
    "duration": 19,
    "start_time": "2023-01-23T04:16:42.272Z"
   },
   {
    "duration": 16,
    "start_time": "2023-01-23T04:16:45.564Z"
   },
   {
    "duration": 4,
    "start_time": "2023-01-23T04:16:49.626Z"
   },
   {
    "duration": 24,
    "start_time": "2023-01-23T04:17:05.782Z"
   },
   {
    "duration": 25,
    "start_time": "2023-01-23T04:17:11.776Z"
   },
   {
    "duration": 1159,
    "start_time": "2023-01-23T04:17:29.462Z"
   },
   {
    "duration": 13,
    "start_time": "2023-01-23T04:17:30.622Z"
   },
   {
    "duration": 18,
    "start_time": "2023-01-23T04:17:30.637Z"
   },
   {
    "duration": 671,
    "start_time": "2023-01-23T04:17:30.657Z"
   },
   {
    "duration": 20,
    "start_time": "2023-01-23T04:17:31.330Z"
   },
   {
    "duration": 16,
    "start_time": "2023-01-23T04:17:31.352Z"
   },
   {
    "duration": 45,
    "start_time": "2023-01-23T04:17:31.370Z"
   },
   {
    "duration": 25,
    "start_time": "2023-01-23T04:17:31.416Z"
   },
   {
    "duration": 24,
    "start_time": "2023-01-23T04:17:31.443Z"
   },
   {
    "duration": 43,
    "start_time": "2023-01-23T04:17:31.468Z"
   },
   {
    "duration": 319,
    "start_time": "2023-01-23T04:17:31.512Z"
   },
   {
    "duration": 250,
    "start_time": "2023-01-23T04:17:31.833Z"
   },
   {
    "duration": 6,
    "start_time": "2023-01-23T04:17:32.084Z"
   },
   {
    "duration": 801,
    "start_time": "2023-01-23T04:17:32.093Z"
   },
   {
    "duration": 23,
    "start_time": "2023-01-23T04:17:32.896Z"
   },
   {
    "duration": 19,
    "start_time": "2023-01-23T04:17:32.921Z"
   },
   {
    "duration": 687,
    "start_time": "2023-01-23T04:17:32.942Z"
   },
   {
    "duration": 99,
    "start_time": "2023-01-23T04:17:33.631Z"
   },
   {
    "duration": 430,
    "start_time": "2023-01-23T04:17:33.732Z"
   },
   {
    "duration": 4550,
    "start_time": "2023-01-23T04:17:34.163Z"
   },
   {
    "duration": 173,
    "start_time": "2023-01-23T04:17:38.714Z"
   },
   {
    "duration": 16,
    "start_time": "2023-01-23T04:17:38.888Z"
   },
   {
    "duration": 427,
    "start_time": "2023-01-23T04:17:38.906Z"
   },
   {
    "duration": 456,
    "start_time": "2023-01-23T04:17:39.335Z"
   },
   {
    "duration": 204,
    "start_time": "2023-01-23T04:17:39.793Z"
   },
   {
    "duration": 550,
    "start_time": "2023-01-23T04:17:39.999Z"
   },
   {
    "duration": 8,
    "start_time": "2023-01-23T04:17:40.551Z"
   },
   {
    "duration": 45,
    "start_time": "2023-01-23T04:17:40.561Z"
   },
   {
    "duration": 23,
    "start_time": "2023-01-23T04:17:45.576Z"
   },
   {
    "duration": 833,
    "start_time": "2023-01-23T04:20:16.493Z"
   },
   {
    "duration": 48,
    "start_time": "2023-01-23T04:20:41.302Z"
   },
   {
    "duration": 848,
    "start_time": "2023-01-23T04:20:52.040Z"
   },
   {
    "duration": 936,
    "start_time": "2023-01-23T04:21:13.037Z"
   },
   {
    "duration": 994,
    "start_time": "2023-01-23T04:21:26.034Z"
   },
   {
    "duration": 24,
    "start_time": "2023-01-23T04:21:48.456Z"
   },
   {
    "duration": 60,
    "start_time": "2023-01-23T04:22:00.562Z"
   },
   {
    "duration": 12,
    "start_time": "2023-01-23T04:22:03.793Z"
   },
   {
    "duration": 10,
    "start_time": "2023-01-23T04:22:06.604Z"
   },
   {
    "duration": 782,
    "start_time": "2023-01-23T04:22:10.309Z"
   },
   {
    "duration": 26,
    "start_time": "2023-01-23T04:22:17.843Z"
   },
   {
    "duration": 5,
    "start_time": "2023-01-23T04:22:21.121Z"
   },
   {
    "duration": 22,
    "start_time": "2023-01-23T04:22:27.283Z"
   },
   {
    "duration": 14,
    "start_time": "2023-01-23T04:22:33.039Z"
   },
   {
    "duration": 25,
    "start_time": "2023-01-23T04:22:35.854Z"
   },
   {
    "duration": 32,
    "start_time": "2023-01-23T04:22:43.953Z"
   },
   {
    "duration": 1043,
    "start_time": "2023-01-23T04:24:10.473Z"
   },
   {
    "duration": 867,
    "start_time": "2023-01-23T04:24:30.442Z"
   },
   {
    "duration": 34,
    "start_time": "2023-01-23T04:25:03.341Z"
   },
   {
    "duration": 63,
    "start_time": "2023-01-23T04:30:34.696Z"
   },
   {
    "duration": 884,
    "start_time": "2023-01-23T04:30:40.848Z"
   },
   {
    "duration": 26,
    "start_time": "2023-01-23T04:30:47.326Z"
   },
   {
    "duration": 18,
    "start_time": "2023-01-23T04:30:58.008Z"
   },
   {
    "duration": 20,
    "start_time": "2023-01-23T04:31:02.213Z"
   },
   {
    "duration": 23,
    "start_time": "2023-01-23T04:31:07.073Z"
   },
   {
    "duration": 25,
    "start_time": "2023-01-23T04:31:25.401Z"
   },
   {
    "duration": 59,
    "start_time": "2023-01-23T04:41:25.883Z"
   },
   {
    "duration": 12,
    "start_time": "2023-01-23T04:41:29.214Z"
   },
   {
    "duration": 11,
    "start_time": "2023-01-23T04:41:32.599Z"
   },
   {
    "duration": 664,
    "start_time": "2023-01-23T04:41:37.882Z"
   },
   {
    "duration": 20,
    "start_time": "2023-01-23T04:41:42.542Z"
   },
   {
    "duration": 5,
    "start_time": "2023-01-23T04:41:46.811Z"
   },
   {
    "duration": 26,
    "start_time": "2023-01-23T04:41:50.159Z"
   },
   {
    "duration": 21,
    "start_time": "2023-01-23T04:41:55.594Z"
   },
   {
    "duration": 32,
    "start_time": "2023-01-23T04:42:02.000Z"
   },
   {
    "duration": 26,
    "start_time": "2023-01-23T04:42:11.124Z"
   },
   {
    "duration": 333,
    "start_time": "2023-01-23T04:42:21.165Z"
   },
   {
    "duration": 276,
    "start_time": "2023-01-23T04:42:33.690Z"
   },
   {
    "duration": 8,
    "start_time": "2023-01-23T04:42:39.376Z"
   },
   {
    "duration": 23,
    "start_time": "2023-01-23T04:42:57.628Z"
   },
   {
    "duration": 20,
    "start_time": "2023-01-23T04:43:05.810Z"
   },
   {
    "duration": 661,
    "start_time": "2023-01-23T04:43:13.724Z"
   },
   {
    "duration": 237,
    "start_time": "2023-01-23T04:44:02.932Z"
   },
   {
    "duration": 524,
    "start_time": "2023-01-23T04:45:16.257Z"
   },
   {
    "duration": 4468,
    "start_time": "2023-01-23T04:46:55.357Z"
   },
   {
    "duration": 168,
    "start_time": "2023-01-23T04:55:54.579Z"
   },
   {
    "duration": 173,
    "start_time": "2023-01-23T04:56:12.361Z"
   },
   {
    "duration": 418,
    "start_time": "2023-01-23T05:00:52.422Z"
   },
   {
    "duration": 129,
    "start_time": "2023-01-23T05:14:56.190Z"
   },
   {
    "duration": 278,
    "start_time": "2023-01-23T05:24:09.593Z"
   },
   {
    "duration": 194,
    "start_time": "2023-01-23T05:26:55.351Z"
   },
   {
    "duration": 120,
    "start_time": "2023-01-23T05:27:53.552Z"
   },
   {
    "duration": 143,
    "start_time": "2023-01-23T05:28:59.390Z"
   },
   {
    "duration": 121,
    "start_time": "2023-01-23T05:29:19.852Z"
   },
   {
    "duration": 132,
    "start_time": "2023-01-23T05:29:46.229Z"
   },
   {
    "duration": 79,
    "start_time": "2023-01-23T05:35:36.036Z"
   },
   {
    "duration": 5,
    "start_time": "2023-01-23T05:35:42.642Z"
   },
   {
    "duration": 6,
    "start_time": "2023-01-23T05:35:58.273Z"
   },
   {
    "duration": 8,
    "start_time": "2023-01-23T05:36:59.838Z"
   },
   {
    "duration": 246,
    "start_time": "2023-01-23T05:54:04.728Z"
   },
   {
    "duration": 625,
    "start_time": "2023-01-23T05:58:05.874Z"
   },
   {
    "duration": 563,
    "start_time": "2023-01-23T05:58:49.298Z"
   },
   {
    "duration": 317,
    "start_time": "2023-01-23T05:58:59.020Z"
   },
   {
    "duration": 1034,
    "start_time": "2023-01-23T05:59:27.769Z"
   },
   {
    "duration": 730,
    "start_time": "2023-01-23T05:59:43.778Z"
   },
   {
    "duration": 288,
    "start_time": "2023-01-23T06:00:07.345Z"
   },
   {
    "duration": 550,
    "start_time": "2023-01-23T06:00:41.776Z"
   },
   {
    "duration": 735,
    "start_time": "2023-01-23T06:00:58.009Z"
   },
   {
    "duration": 215,
    "start_time": "2023-01-23T06:01:18.410Z"
   },
   {
    "duration": 258,
    "start_time": "2023-01-23T06:01:28.255Z"
   },
   {
    "duration": 591,
    "start_time": "2023-01-23T06:02:54.734Z"
   },
   {
    "duration": 69,
    "start_time": "2023-01-23T06:06:04.808Z"
   },
   {
    "duration": 379,
    "start_time": "2023-01-23T06:06:37.793Z"
   },
   {
    "duration": 1721,
    "start_time": "2023-01-23T06:07:15.566Z"
   },
   {
    "duration": 414,
    "start_time": "2023-01-23T06:07:30.242Z"
   },
   {
    "duration": 610,
    "start_time": "2023-01-23T06:09:52.821Z"
   },
   {
    "duration": 456,
    "start_time": "2023-01-23T06:16:23.655Z"
   },
   {
    "duration": 441,
    "start_time": "2023-01-23T06:17:56.273Z"
   },
   {
    "duration": 280,
    "start_time": "2023-01-23T06:18:20.958Z"
   },
   {
    "duration": 97,
    "start_time": "2023-01-23T06:18:37.907Z"
   },
   {
    "duration": 349,
    "start_time": "2023-01-23T06:19:00.545Z"
   },
   {
    "duration": 575,
    "start_time": "2023-01-23T06:19:49.210Z"
   },
   {
    "duration": 349,
    "start_time": "2023-01-23T06:21:09.037Z"
   },
   {
    "duration": 360,
    "start_time": "2023-01-23T06:21:17.041Z"
   },
   {
    "duration": 353,
    "start_time": "2023-01-23T06:22:12.262Z"
   },
   {
    "duration": 350,
    "start_time": "2023-01-23T06:22:37.852Z"
   },
   {
    "duration": 351,
    "start_time": "2023-01-23T06:23:19.603Z"
   },
   {
    "duration": 369,
    "start_time": "2023-01-23T06:24:35.907Z"
   },
   {
    "duration": 390,
    "start_time": "2023-01-23T06:27:46.032Z"
   },
   {
    "duration": 493,
    "start_time": "2023-01-23T06:28:14.562Z"
   },
   {
    "duration": 349,
    "start_time": "2023-01-23T06:28:53.827Z"
   },
   {
    "duration": 397,
    "start_time": "2023-01-23T06:29:08.223Z"
   },
   {
    "duration": 26,
    "start_time": "2023-01-23T06:29:30.297Z"
   },
   {
    "duration": 1222,
    "start_time": "2023-01-23T06:29:44.137Z"
   },
   {
    "duration": 13,
    "start_time": "2023-01-23T06:29:45.361Z"
   },
   {
    "duration": 12,
    "start_time": "2023-01-23T06:29:45.376Z"
   },
   {
    "duration": 703,
    "start_time": "2023-01-23T06:29:45.390Z"
   },
   {
    "duration": 22,
    "start_time": "2023-01-23T06:29:46.095Z"
   },
   {
    "duration": 8,
    "start_time": "2023-01-23T06:29:46.119Z"
   },
   {
    "duration": 18,
    "start_time": "2023-01-23T06:29:46.128Z"
   },
   {
    "duration": 38,
    "start_time": "2023-01-23T06:29:46.148Z"
   },
   {
    "duration": 32,
    "start_time": "2023-01-23T06:29:46.188Z"
   },
   {
    "duration": 33,
    "start_time": "2023-01-23T06:29:46.221Z"
   },
   {
    "duration": 418,
    "start_time": "2023-01-23T06:29:46.256Z"
   },
   {
    "duration": 264,
    "start_time": "2023-01-23T06:29:46.676Z"
   },
   {
    "duration": 7,
    "start_time": "2023-01-23T06:29:46.942Z"
   },
   {
    "duration": 863,
    "start_time": "2023-01-23T06:29:46.952Z"
   },
   {
    "duration": 23,
    "start_time": "2023-01-23T06:29:47.816Z"
   },
   {
    "duration": 40,
    "start_time": "2023-01-23T06:29:47.841Z"
   },
   {
    "duration": 669,
    "start_time": "2023-01-23T06:29:47.884Z"
   },
   {
    "duration": 108,
    "start_time": "2023-01-23T06:29:48.555Z"
   },
   {
    "duration": 441,
    "start_time": "2023-01-23T06:29:48.664Z"
   },
   {
    "duration": 4740,
    "start_time": "2023-01-23T06:29:49.107Z"
   },
   {
    "duration": 196,
    "start_time": "2023-01-23T06:29:53.849Z"
   },
   {
    "duration": 20,
    "start_time": "2023-01-23T06:29:54.046Z"
   },
   {
    "duration": 449,
    "start_time": "2023-01-23T06:29:54.081Z"
   },
   {
    "duration": 359,
    "start_time": "2023-01-23T06:29:54.532Z"
   },
   {
    "duration": 588,
    "start_time": "2023-01-23T06:29:54.893Z"
   },
   {
    "duration": 231,
    "start_time": "2023-01-23T06:29:55.483Z"
   },
   {
    "duration": 471,
    "start_time": "2023-01-23T06:29:55.716Z"
   },
   {
    "duration": 9,
    "start_time": "2023-01-23T06:29:56.189Z"
   },
   {
    "duration": 11,
    "start_time": "2023-01-23T06:29:56.200Z"
   },
   {
    "duration": 30,
    "start_time": "2023-01-23T06:30:10.716Z"
   },
   {
    "duration": 63,
    "start_time": "2023-01-23T06:32:01.537Z"
   },
   {
    "duration": 30,
    "start_time": "2023-01-23T06:32:09.440Z"
   },
   {
    "duration": 25,
    "start_time": "2023-01-23T06:32:15.413Z"
   },
   {
    "duration": 27,
    "start_time": "2023-01-23T06:32:26.849Z"
   },
   {
    "duration": 66,
    "start_time": "2023-01-23T06:35:30.630Z"
   },
   {
    "duration": 16,
    "start_time": "2023-01-23T06:35:37.647Z"
   },
   {
    "duration": 9,
    "start_time": "2023-01-23T06:35:41.010Z"
   },
   {
    "duration": 733,
    "start_time": "2023-01-23T06:35:50.109Z"
   },
   {
    "duration": 22,
    "start_time": "2023-01-23T06:35:54.994Z"
   },
   {
    "duration": 5,
    "start_time": "2023-01-23T06:35:58.517Z"
   },
   {
    "duration": 17,
    "start_time": "2023-01-23T06:36:02.884Z"
   },
   {
    "duration": 17,
    "start_time": "2023-01-23T06:36:06.318Z"
   },
   {
    "duration": 25,
    "start_time": "2023-01-23T06:36:09.589Z"
   },
   {
    "duration": 25,
    "start_time": "2023-01-23T06:36:55.184Z"
   },
   {
    "duration": 38,
    "start_time": "2023-01-23T06:37:56.356Z"
   },
   {
    "duration": 63,
    "start_time": "2023-01-23T06:38:03.265Z"
   },
   {
    "duration": 1461,
    "start_time": "2023-01-23T06:38:10.897Z"
   },
   {
    "duration": 69,
    "start_time": "2023-01-23T06:38:33.263Z"
   },
   {
    "duration": 14,
    "start_time": "2023-01-23T06:38:35.814Z"
   },
   {
    "duration": 9,
    "start_time": "2023-01-23T06:38:38.550Z"
   },
   {
    "duration": 824,
    "start_time": "2023-01-23T06:38:41.578Z"
   },
   {
    "duration": 26,
    "start_time": "2023-01-23T06:38:46.877Z"
   },
   {
    "duration": 5,
    "start_time": "2023-01-23T06:38:50.103Z"
   },
   {
    "duration": 15,
    "start_time": "2023-01-23T06:38:52.621Z"
   },
   {
    "duration": 15,
    "start_time": "2023-01-23T06:38:56.756Z"
   },
   {
    "duration": 26,
    "start_time": "2023-01-23T06:39:00.364Z"
   },
   {
    "duration": 1180,
    "start_time": "2023-01-23T06:54:50.316Z"
   },
   {
    "duration": 13,
    "start_time": "2023-01-23T06:54:51.498Z"
   },
   {
    "duration": 9,
    "start_time": "2023-01-23T06:54:51.512Z"
   },
   {
    "duration": 729,
    "start_time": "2023-01-23T06:54:51.523Z"
   },
   {
    "duration": 28,
    "start_time": "2023-01-23T06:54:52.255Z"
   },
   {
    "duration": 14,
    "start_time": "2023-01-23T06:54:52.285Z"
   },
   {
    "duration": 21,
    "start_time": "2023-01-23T06:54:52.301Z"
   },
   {
    "duration": 17,
    "start_time": "2023-01-23T06:54:52.323Z"
   },
   {
    "duration": 47,
    "start_time": "2023-01-23T06:54:52.341Z"
   },
   {
    "duration": 28,
    "start_time": "2023-01-23T06:54:52.389Z"
   },
   {
    "duration": 347,
    "start_time": "2023-01-23T06:54:52.418Z"
   },
   {
    "duration": 270,
    "start_time": "2023-01-23T06:54:52.766Z"
   },
   {
    "duration": 7,
    "start_time": "2023-01-23T06:54:53.038Z"
   },
   {
    "duration": 918,
    "start_time": "2023-01-23T06:54:53.047Z"
   },
   {
    "duration": 35,
    "start_time": "2023-01-23T06:54:53.967Z"
   },
   {
    "duration": 22,
    "start_time": "2023-01-23T06:54:54.004Z"
   },
   {
    "duration": 721,
    "start_time": "2023-01-23T06:54:54.028Z"
   },
   {
    "duration": 102,
    "start_time": "2023-01-23T06:54:54.751Z"
   },
   {
    "duration": 430,
    "start_time": "2023-01-23T06:54:54.855Z"
   },
   {
    "duration": 4640,
    "start_time": "2023-01-23T06:54:55.287Z"
   },
   {
    "duration": 193,
    "start_time": "2023-01-23T06:54:59.929Z"
   },
   {
    "duration": 16,
    "start_time": "2023-01-23T06:55:00.124Z"
   },
   {
    "duration": 480,
    "start_time": "2023-01-23T06:55:00.142Z"
   },
   {
    "duration": 337,
    "start_time": "2023-01-23T06:55:00.624Z"
   },
   {
    "duration": 569,
    "start_time": "2023-01-23T06:55:00.962Z"
   },
   {
    "duration": 213,
    "start_time": "2023-01-23T06:55:01.533Z"
   },
   {
    "duration": 440,
    "start_time": "2023-01-23T06:55:01.747Z"
   },
   {
    "duration": 9,
    "start_time": "2023-01-23T06:55:02.189Z"
   },
   {
    "duration": 33,
    "start_time": "2023-01-23T06:55:02.200Z"
   },
   {
    "duration": 61,
    "start_time": "2023-01-23T07:07:03.556Z"
   },
   {
    "duration": 1504,
    "start_time": "2023-01-23T07:07:16.014Z"
   },
   {
    "duration": 1233,
    "start_time": "2023-01-23T07:07:33.133Z"
   },
   {
    "duration": 15,
    "start_time": "2023-01-23T07:07:34.368Z"
   },
   {
    "duration": 10,
    "start_time": "2023-01-23T07:07:34.385Z"
   },
   {
    "duration": 767,
    "start_time": "2023-01-23T07:07:34.396Z"
   },
   {
    "duration": 28,
    "start_time": "2023-01-23T07:07:35.165Z"
   },
   {
    "duration": 6,
    "start_time": "2023-01-23T07:07:35.194Z"
   },
   {
    "duration": 29,
    "start_time": "2023-01-23T07:07:35.202Z"
   },
   {
    "duration": 28,
    "start_time": "2023-01-23T07:07:35.233Z"
   },
   {
    "duration": 31,
    "start_time": "2023-01-23T07:07:35.263Z"
   },
   {
    "duration": 26,
    "start_time": "2023-01-23T07:07:35.295Z"
   },
   {
    "duration": 375,
    "start_time": "2023-01-23T07:07:35.322Z"
   },
   {
    "duration": 293,
    "start_time": "2023-01-23T07:07:35.699Z"
   },
   {
    "duration": 7,
    "start_time": "2023-01-23T07:07:35.995Z"
   },
   {
    "duration": 981,
    "start_time": "2023-01-23T07:07:36.005Z"
   },
   {
    "duration": 22,
    "start_time": "2023-01-23T07:07:36.988Z"
   },
   {
    "duration": 19,
    "start_time": "2023-01-23T07:07:37.012Z"
   },
   {
    "duration": 784,
    "start_time": "2023-01-23T07:07:37.032Z"
   },
   {
    "duration": 128,
    "start_time": "2023-01-23T07:07:37.818Z"
   },
   {
    "duration": 476,
    "start_time": "2023-01-23T07:07:37.947Z"
   },
   {
    "duration": 4669,
    "start_time": "2023-01-23T07:07:38.425Z"
   },
   {
    "duration": 195,
    "start_time": "2023-01-23T07:07:43.095Z"
   },
   {
    "duration": 18,
    "start_time": "2023-01-23T07:07:43.291Z"
   },
   {
    "duration": 490,
    "start_time": "2023-01-23T07:07:43.310Z"
   },
   {
    "duration": 333,
    "start_time": "2023-01-23T07:07:43.803Z"
   },
   {
    "duration": 539,
    "start_time": "2023-01-23T07:07:44.138Z"
   },
   {
    "duration": 209,
    "start_time": "2023-01-23T07:07:44.680Z"
   },
   {
    "duration": 451,
    "start_time": "2023-01-23T07:07:44.891Z"
   },
   {
    "duration": 8,
    "start_time": "2023-01-23T07:07:45.345Z"
   },
   {
    "duration": 26,
    "start_time": "2023-01-23T07:07:45.355Z"
   },
   {
    "duration": 25,
    "start_time": "2023-01-23T07:10:45.831Z"
   },
   {
    "duration": 30,
    "start_time": "2023-01-23T07:11:15.553Z"
   },
   {
    "duration": 1142,
    "start_time": "2023-01-23T07:11:34.304Z"
   },
   {
    "duration": 13,
    "start_time": "2023-01-23T07:11:35.448Z"
   },
   {
    "duration": 17,
    "start_time": "2023-01-23T07:11:35.462Z"
   },
   {
    "duration": 713,
    "start_time": "2023-01-23T07:11:35.480Z"
   },
   {
    "duration": 25,
    "start_time": "2023-01-23T07:11:36.197Z"
   },
   {
    "duration": 28,
    "start_time": "2023-01-23T07:11:36.223Z"
   },
   {
    "duration": 51,
    "start_time": "2023-01-23T07:11:36.253Z"
   },
   {
    "duration": 31,
    "start_time": "2023-01-23T07:11:36.308Z"
   },
   {
    "duration": 70,
    "start_time": "2023-01-23T07:11:36.340Z"
   },
   {
    "duration": 49,
    "start_time": "2023-01-23T07:11:36.412Z"
   },
   {
    "duration": 344,
    "start_time": "2023-01-23T07:11:36.464Z"
   },
   {
    "duration": 321,
    "start_time": "2023-01-23T07:11:36.810Z"
   },
   {
    "duration": 6,
    "start_time": "2023-01-23T07:11:37.133Z"
   },
   {
    "duration": 957,
    "start_time": "2023-01-23T07:11:37.141Z"
   },
   {
    "duration": 22,
    "start_time": "2023-01-23T07:11:38.100Z"
   },
   {
    "duration": 42,
    "start_time": "2023-01-23T07:11:38.124Z"
   },
   {
    "duration": 662,
    "start_time": "2023-01-23T07:11:38.167Z"
   },
   {
    "duration": 96,
    "start_time": "2023-01-23T07:11:38.830Z"
   },
   {
    "duration": 418,
    "start_time": "2023-01-23T07:11:38.927Z"
   },
   {
    "duration": 4391,
    "start_time": "2023-01-23T07:11:39.347Z"
   },
   {
    "duration": 193,
    "start_time": "2023-01-23T07:11:43.740Z"
   },
   {
    "duration": 17,
    "start_time": "2023-01-23T07:11:43.934Z"
   },
   {
    "duration": 416,
    "start_time": "2023-01-23T07:11:43.953Z"
   },
   {
    "duration": 322,
    "start_time": "2023-01-23T07:11:44.370Z"
   },
   {
    "duration": 522,
    "start_time": "2023-01-23T07:11:44.693Z"
   },
   {
    "duration": 186,
    "start_time": "2023-01-23T07:11:45.217Z"
   },
   {
    "duration": 431,
    "start_time": "2023-01-23T07:11:45.404Z"
   },
   {
    "duration": 8,
    "start_time": "2023-01-23T07:11:45.837Z"
   },
   {
    "duration": 13,
    "start_time": "2023-01-23T07:11:45.846Z"
   },
   {
    "duration": 25,
    "start_time": "2023-01-23T07:12:15.848Z"
   },
   {
    "duration": 1115,
    "start_time": "2023-01-23T07:12:28.029Z"
   },
   {
    "duration": 13,
    "start_time": "2023-01-23T07:12:29.145Z"
   },
   {
    "duration": 11,
    "start_time": "2023-01-23T07:12:29.160Z"
   },
   {
    "duration": 701,
    "start_time": "2023-01-23T07:12:29.173Z"
   },
   {
    "duration": 23,
    "start_time": "2023-01-23T07:12:29.877Z"
   },
   {
    "duration": 17,
    "start_time": "2023-01-23T07:12:29.901Z"
   },
   {
    "duration": 31,
    "start_time": "2023-01-23T07:12:29.919Z"
   },
   {
    "duration": 21,
    "start_time": "2023-01-23T07:12:29.952Z"
   },
   {
    "duration": 45,
    "start_time": "2023-01-23T07:12:29.975Z"
   },
   {
    "duration": 25,
    "start_time": "2023-01-23T07:12:30.022Z"
   },
   {
    "duration": 342,
    "start_time": "2023-01-23T07:12:30.048Z"
   },
   {
    "duration": 264,
    "start_time": "2023-01-23T07:12:30.392Z"
   },
   {
    "duration": 8,
    "start_time": "2023-01-23T07:12:30.657Z"
   },
   {
    "duration": 913,
    "start_time": "2023-01-23T07:12:30.682Z"
   },
   {
    "duration": 24,
    "start_time": "2023-01-23T07:12:31.597Z"
   },
   {
    "duration": 45,
    "start_time": "2023-01-23T07:12:31.622Z"
   },
   {
    "duration": 653,
    "start_time": "2023-01-23T07:12:31.668Z"
   },
   {
    "duration": 116,
    "start_time": "2023-01-23T07:12:32.323Z"
   },
   {
    "duration": 456,
    "start_time": "2023-01-23T07:12:32.441Z"
   },
   {
    "duration": 4582,
    "start_time": "2023-01-23T07:12:32.899Z"
   },
   {
    "duration": 180,
    "start_time": "2023-01-23T07:12:37.483Z"
   },
   {
    "duration": 25,
    "start_time": "2023-01-23T07:12:37.664Z"
   },
   {
    "duration": 411,
    "start_time": "2023-01-23T07:12:37.691Z"
   },
   {
    "duration": 307,
    "start_time": "2023-01-23T07:12:38.103Z"
   },
   {
    "duration": 518,
    "start_time": "2023-01-23T07:12:38.413Z"
   },
   {
    "duration": 196,
    "start_time": "2023-01-23T07:12:38.933Z"
   },
   {
    "duration": 425,
    "start_time": "2023-01-23T07:12:39.131Z"
   },
   {
    "duration": 8,
    "start_time": "2023-01-23T07:12:39.558Z"
   },
   {
    "duration": 25,
    "start_time": "2023-01-23T07:12:39.567Z"
   },
   {
    "duration": 22,
    "start_time": "2023-01-23T07:12:51.132Z"
   },
   {
    "duration": 1297,
    "start_time": "2023-01-23T07:13:32.284Z"
   },
   {
    "duration": 15,
    "start_time": "2023-01-23T07:13:33.583Z"
   },
   {
    "duration": 27,
    "start_time": "2023-01-23T07:13:33.600Z"
   },
   {
    "duration": 731,
    "start_time": "2023-01-23T07:13:33.631Z"
   },
   {
    "duration": 29,
    "start_time": "2023-01-23T07:13:34.365Z"
   },
   {
    "duration": 6,
    "start_time": "2023-01-23T07:13:34.396Z"
   },
   {
    "duration": 29,
    "start_time": "2023-01-23T07:13:34.404Z"
   },
   {
    "duration": 17,
    "start_time": "2023-01-23T07:13:34.435Z"
   },
   {
    "duration": 50,
    "start_time": "2023-01-23T07:13:34.454Z"
   },
   {
    "duration": 27,
    "start_time": "2023-01-23T07:13:34.507Z"
   },
   {
    "duration": 369,
    "start_time": "2023-01-23T07:13:34.536Z"
   },
   {
    "duration": 280,
    "start_time": "2023-01-23T07:13:34.907Z"
   },
   {
    "duration": 8,
    "start_time": "2023-01-23T07:13:35.189Z"
   },
   {
    "duration": 970,
    "start_time": "2023-01-23T07:13:35.199Z"
   },
   {
    "duration": 36,
    "start_time": "2023-01-23T07:13:36.171Z"
   },
   {
    "duration": 21,
    "start_time": "2023-01-23T07:13:36.209Z"
   },
   {
    "duration": 754,
    "start_time": "2023-01-23T07:13:36.231Z"
   },
   {
    "duration": 120,
    "start_time": "2023-01-23T07:13:36.987Z"
   },
   {
    "duration": 491,
    "start_time": "2023-01-23T07:13:37.109Z"
   },
   {
    "duration": 4858,
    "start_time": "2023-01-23T07:13:37.602Z"
   },
   {
    "duration": 195,
    "start_time": "2023-01-23T07:13:42.462Z"
   },
   {
    "duration": 27,
    "start_time": "2023-01-23T07:13:42.660Z"
   },
   {
    "duration": 444,
    "start_time": "2023-01-23T07:13:42.689Z"
   },
   {
    "duration": 335,
    "start_time": "2023-01-23T07:13:43.134Z"
   },
   {
    "duration": 554,
    "start_time": "2023-01-23T07:13:43.471Z"
   },
   {
    "duration": 198,
    "start_time": "2023-01-23T07:13:44.026Z"
   },
   {
    "duration": 455,
    "start_time": "2023-01-23T07:13:44.226Z"
   },
   {
    "duration": 9,
    "start_time": "2023-01-23T07:13:44.686Z"
   },
   {
    "duration": 17,
    "start_time": "2023-01-23T07:13:44.697Z"
   },
   {
    "duration": 24,
    "start_time": "2023-01-23T07:14:35.380Z"
   },
   {
    "duration": 24,
    "start_time": "2023-01-23T07:14:47.026Z"
   },
   {
    "duration": 78,
    "start_time": "2023-01-23T07:14:56.397Z"
   },
   {
    "duration": 21,
    "start_time": "2023-01-23T07:15:05.056Z"
   },
   {
    "duration": 25,
    "start_time": "2023-01-23T07:15:11.290Z"
   },
   {
    "duration": 16,
    "start_time": "2023-01-23T07:15:31.358Z"
   },
   {
    "duration": 24,
    "start_time": "2023-01-23T07:15:34.704Z"
   },
   {
    "duration": 17,
    "start_time": "2023-01-23T07:16:04.995Z"
   },
   {
    "duration": 24,
    "start_time": "2023-01-23T07:16:08.597Z"
   },
   {
    "duration": 25,
    "start_time": "2023-01-23T07:16:35.707Z"
   },
   {
    "duration": 1192,
    "start_time": "2023-01-23T07:16:44.030Z"
   },
   {
    "duration": 13,
    "start_time": "2023-01-23T07:16:45.223Z"
   },
   {
    "duration": 8,
    "start_time": "2023-01-23T07:16:45.237Z"
   },
   {
    "duration": 728,
    "start_time": "2023-01-23T07:16:45.247Z"
   },
   {
    "duration": 24,
    "start_time": "2023-01-23T07:16:45.977Z"
   },
   {
    "duration": 6,
    "start_time": "2023-01-23T07:16:46.002Z"
   },
   {
    "duration": 21,
    "start_time": "2023-01-23T07:16:46.009Z"
   },
   {
    "duration": 9,
    "start_time": "2023-01-23T07:16:46.032Z"
   },
   {
    "duration": 57,
    "start_time": "2023-01-23T07:16:46.043Z"
   },
   {
    "duration": 34,
    "start_time": "2023-01-23T07:16:46.102Z"
   },
   {
    "duration": 421,
    "start_time": "2023-01-23T07:16:46.137Z"
   },
   {
    "duration": 296,
    "start_time": "2023-01-23T07:16:46.561Z"
   },
   {
    "duration": 8,
    "start_time": "2023-01-23T07:16:46.859Z"
   },
   {
    "duration": 920,
    "start_time": "2023-01-23T07:16:46.880Z"
   },
   {
    "duration": 26,
    "start_time": "2023-01-23T07:16:47.802Z"
   },
   {
    "duration": 21,
    "start_time": "2023-01-23T07:16:47.830Z"
   },
   {
    "duration": 720,
    "start_time": "2023-01-23T07:16:47.853Z"
   },
   {
    "duration": 128,
    "start_time": "2023-01-23T07:16:48.575Z"
   },
   {
    "duration": 414,
    "start_time": "2023-01-23T07:16:48.705Z"
   },
   {
    "duration": 4585,
    "start_time": "2023-01-23T07:16:49.121Z"
   },
   {
    "duration": 188,
    "start_time": "2023-01-23T07:16:53.707Z"
   },
   {
    "duration": 17,
    "start_time": "2023-01-23T07:16:53.896Z"
   },
   {
    "duration": 449,
    "start_time": "2023-01-23T07:16:53.915Z"
   },
   {
    "duration": 337,
    "start_time": "2023-01-23T07:16:54.365Z"
   },
   {
    "duration": 533,
    "start_time": "2023-01-23T07:16:54.704Z"
   },
   {
    "duration": 190,
    "start_time": "2023-01-23T07:16:55.238Z"
   },
   {
    "duration": 446,
    "start_time": "2023-01-23T07:16:55.429Z"
   },
   {
    "duration": 9,
    "start_time": "2023-01-23T07:16:55.876Z"
   },
   {
    "duration": 12,
    "start_time": "2023-01-23T07:16:55.887Z"
   },
   {
    "duration": 17,
    "start_time": "2023-01-23T07:26:42.632Z"
   },
   {
    "duration": 33,
    "start_time": "2023-01-23T07:26:55.367Z"
   },
   {
    "duration": 13,
    "start_time": "2023-01-23T07:27:07.984Z"
   },
   {
    "duration": 36,
    "start_time": "2023-01-23T07:27:11.692Z"
   },
   {
    "duration": 1165,
    "start_time": "2023-01-23T07:27:27.128Z"
   },
   {
    "duration": 13,
    "start_time": "2023-01-23T07:27:28.295Z"
   },
   {
    "duration": 8,
    "start_time": "2023-01-23T07:27:28.310Z"
   },
   {
    "duration": 748,
    "start_time": "2023-01-23T07:27:28.321Z"
   },
   {
    "duration": 27,
    "start_time": "2023-01-23T07:27:29.071Z"
   },
   {
    "duration": 9,
    "start_time": "2023-01-23T07:27:29.100Z"
   },
   {
    "duration": 25,
    "start_time": "2023-01-23T07:27:29.110Z"
   },
   {
    "duration": 8,
    "start_time": "2023-01-23T07:27:29.137Z"
   },
   {
    "duration": 51,
    "start_time": "2023-01-23T07:27:29.147Z"
   },
   {
    "duration": 26,
    "start_time": "2023-01-23T07:27:29.202Z"
   },
   {
    "duration": 387,
    "start_time": "2023-01-23T07:27:29.230Z"
   },
   {
    "duration": 274,
    "start_time": "2023-01-23T07:27:29.619Z"
   },
   {
    "duration": 7,
    "start_time": "2023-01-23T07:27:29.895Z"
   },
   {
    "duration": 936,
    "start_time": "2023-01-23T07:27:29.905Z"
   },
   {
    "duration": 24,
    "start_time": "2023-01-23T07:27:30.843Z"
   },
   {
    "duration": 53,
    "start_time": "2023-01-23T07:27:30.868Z"
   },
   {
    "duration": 771,
    "start_time": "2023-01-23T07:27:30.922Z"
   },
   {
    "duration": 120,
    "start_time": "2023-01-23T07:27:31.695Z"
   },
   {
    "duration": 427,
    "start_time": "2023-01-23T07:27:31.817Z"
   },
   {
    "duration": 4809,
    "start_time": "2023-01-23T07:27:32.246Z"
   },
   {
    "duration": 248,
    "start_time": "2023-01-23T07:27:37.057Z"
   },
   {
    "duration": 18,
    "start_time": "2023-01-23T07:27:37.306Z"
   },
   {
    "duration": 560,
    "start_time": "2023-01-23T07:27:37.326Z"
   },
   {
    "duration": 402,
    "start_time": "2023-01-23T07:27:37.888Z"
   },
   {
    "duration": 552,
    "start_time": "2023-01-23T07:27:38.292Z"
   },
   {
    "duration": 205,
    "start_time": "2023-01-23T07:27:38.846Z"
   },
   {
    "duration": 503,
    "start_time": "2023-01-23T07:27:39.053Z"
   },
   {
    "duration": 10,
    "start_time": "2023-01-23T07:27:39.561Z"
   },
   {
    "duration": 31,
    "start_time": "2023-01-23T07:27:39.582Z"
   },
   {
    "duration": 48,
    "start_time": "2023-01-23T07:29:24.057Z"
   },
   {
    "duration": 30,
    "start_time": "2023-01-23T07:29:27.875Z"
   },
   {
    "duration": 25,
    "start_time": "2023-01-23T07:29:42.469Z"
   },
   {
    "duration": 1219,
    "start_time": "2023-01-23T07:29:52.930Z"
   },
   {
    "duration": 14,
    "start_time": "2023-01-23T07:29:54.151Z"
   },
   {
    "duration": 10,
    "start_time": "2023-01-23T07:29:54.167Z"
   },
   {
    "duration": 680,
    "start_time": "2023-01-23T07:29:54.178Z"
   },
   {
    "duration": 28,
    "start_time": "2023-01-23T07:29:54.861Z"
   },
   {
    "duration": 8,
    "start_time": "2023-01-23T07:29:54.891Z"
   },
   {
    "duration": 21,
    "start_time": "2023-01-23T07:29:54.900Z"
   },
   {
    "duration": 9,
    "start_time": "2023-01-23T07:29:54.923Z"
   },
   {
    "duration": 25,
    "start_time": "2023-01-23T07:29:54.934Z"
   },
   {
    "duration": 28,
    "start_time": "2023-01-23T07:29:54.982Z"
   },
   {
    "duration": 342,
    "start_time": "2023-01-23T07:29:55.013Z"
   },
   {
    "duration": 280,
    "start_time": "2023-01-23T07:29:55.357Z"
   },
   {
    "duration": 8,
    "start_time": "2023-01-23T07:29:55.638Z"
   },
   {
    "duration": 1066,
    "start_time": "2023-01-23T07:29:55.648Z"
   },
   {
    "duration": 25,
    "start_time": "2023-01-23T07:29:56.715Z"
   },
   {
    "duration": 40,
    "start_time": "2023-01-23T07:29:56.742Z"
   },
   {
    "duration": 697,
    "start_time": "2023-01-23T07:29:56.784Z"
   },
   {
    "duration": 123,
    "start_time": "2023-01-23T07:29:57.482Z"
   },
   {
    "duration": 430,
    "start_time": "2023-01-23T07:29:57.607Z"
   },
   {
    "duration": 4762,
    "start_time": "2023-01-23T07:29:58.039Z"
   },
   {
    "duration": 201,
    "start_time": "2023-01-23T07:30:02.803Z"
   },
   {
    "duration": 17,
    "start_time": "2023-01-23T07:30:03.006Z"
   },
   {
    "duration": 441,
    "start_time": "2023-01-23T07:30:03.025Z"
   },
   {
    "duration": 343,
    "start_time": "2023-01-23T07:30:03.468Z"
   },
   {
    "duration": 551,
    "start_time": "2023-01-23T07:30:03.813Z"
   },
   {
    "duration": 215,
    "start_time": "2023-01-23T07:30:04.366Z"
   },
   {
    "duration": 451,
    "start_time": "2023-01-23T07:30:04.582Z"
   },
   {
    "duration": 8,
    "start_time": "2023-01-23T07:30:05.035Z"
   },
   {
    "duration": 13,
    "start_time": "2023-01-23T07:30:05.045Z"
   },
   {
    "duration": 1214,
    "start_time": "2023-01-23T07:32:43.365Z"
   },
   {
    "duration": 13,
    "start_time": "2023-01-23T07:32:44.581Z"
   },
   {
    "duration": 8,
    "start_time": "2023-01-23T07:32:44.595Z"
   },
   {
    "duration": 706,
    "start_time": "2023-01-23T07:32:44.604Z"
   },
   {
    "duration": 23,
    "start_time": "2023-01-23T07:32:45.313Z"
   },
   {
    "duration": 10,
    "start_time": "2023-01-23T07:32:45.337Z"
   },
   {
    "duration": 36,
    "start_time": "2023-01-23T07:32:45.350Z"
   },
   {
    "duration": 23,
    "start_time": "2023-01-23T07:32:45.388Z"
   },
   {
    "duration": 26,
    "start_time": "2023-01-23T07:32:45.414Z"
   },
   {
    "duration": 357,
    "start_time": "2023-01-23T07:32:45.442Z"
   },
   {
    "duration": 280,
    "start_time": "2023-01-23T07:32:45.801Z"
   },
   {
    "duration": 7,
    "start_time": "2023-01-23T07:32:46.083Z"
   },
   {
    "duration": 1030,
    "start_time": "2023-01-23T07:32:46.092Z"
   },
   {
    "duration": 24,
    "start_time": "2023-01-23T07:32:47.124Z"
   },
   {
    "duration": 36,
    "start_time": "2023-01-23T07:32:47.150Z"
   },
   {
    "duration": 700,
    "start_time": "2023-01-23T07:32:47.188Z"
   },
   {
    "duration": 121,
    "start_time": "2023-01-23T07:32:47.891Z"
   },
   {
    "duration": 462,
    "start_time": "2023-01-23T07:32:48.014Z"
   },
   {
    "duration": 4747,
    "start_time": "2023-01-23T07:32:48.477Z"
   },
   {
    "duration": 203,
    "start_time": "2023-01-23T07:32:53.226Z"
   },
   {
    "duration": 19,
    "start_time": "2023-01-23T07:32:53.431Z"
   },
   {
    "duration": 479,
    "start_time": "2023-01-23T07:32:53.452Z"
   },
   {
    "duration": 345,
    "start_time": "2023-01-23T07:32:53.932Z"
   },
   {
    "duration": 551,
    "start_time": "2023-01-23T07:32:54.279Z"
   },
   {
    "duration": 196,
    "start_time": "2023-01-23T07:32:54.831Z"
   },
   {
    "duration": 435,
    "start_time": "2023-01-23T07:32:55.029Z"
   },
   {
    "duration": 16,
    "start_time": "2023-01-23T07:32:55.466Z"
   },
   {
    "duration": 13,
    "start_time": "2023-01-23T07:32:55.484Z"
   }
  ],
  "kernelspec": {
   "display_name": "Python 3 (ipykernel)",
   "language": "python",
   "name": "python3"
  },
  "language_info": {
   "codemirror_mode": {
    "name": "ipython",
    "version": 3
   },
   "file_extension": ".py",
   "mimetype": "text/x-python",
   "name": "python",
   "nbconvert_exporter": "python",
   "pygments_lexer": "ipython3",
   "version": "3.9.13"
  },
  "toc": {
   "base_numbering": 1,
   "nav_menu": {},
   "number_sections": false,
   "sideBar": true,
   "skip_h1_title": true,
   "title_cell": "Table of Contents",
   "title_sidebar": "Contents",
   "toc_cell": false,
   "toc_position": {},
   "toc_section_display": true,
   "toc_window_display": false
  }
 },
 "nbformat": 4,
 "nbformat_minor": 2
}

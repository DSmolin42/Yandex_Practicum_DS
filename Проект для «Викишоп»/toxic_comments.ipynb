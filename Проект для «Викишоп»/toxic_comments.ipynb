{
 "cells": [
  {
   "cell_type": "markdown",
   "metadata": {
    "id": "4qwl6KnCnNqI",
    "toc": true
   },
   "source": [
    "<h1>Содержание<span class=\"tocSkip\"></span></h1>\n",
    "<div class=\"toc\"><ul class=\"toc-item\"><li><span><a href=\"#Подготовка\" data-toc-modified-id=\"Подготовка-1\"><span class=\"toc-item-num\">1&nbsp;&nbsp;</span>Подготовка</a></span><ul class=\"toc-item\"><li><span><a href=\"#Датасет-содержит-159292-тысяч-записей-с-размеченными-комментариями.-Дубликатов-нет.-Пропущенных-значений-нет.-Доля-токсичных-комментариев-в-общем-объеме-данных---10%.-При-обучении-модели-следует-учитывать-то,-что--классы-несбалансированы.\" data-toc-modified-id=\"Датасет-содержит-159292-тысяч-записей-с-размеченными-комментариями.-Дубликатов-нет.-Пропущенных-значений-нет.-Доля-токсичных-комментариев-в-общем-объеме-данных---10%.-При-обучении-модели-следует-учитывать-то,-что--классы-несбалансированы.-1.1\"><span class=\"toc-item-num\">1.1&nbsp;&nbsp;</span>Датасет содержит 159292 тысяч записей с размеченными комментариями. Дубликатов нет. Пропущенных значений нет. Доля токсичных комментариев в общем объеме данных - 10%. При обучении модели следует учитывать то, что  классы несбалансированы.</a></span></li><li><span><a href=\"#Очистка-текста-от-неалфавитных-символов\" data-toc-modified-id=\"Очистка-текста-от-неалфавитных-символов-1.2\"><span class=\"toc-item-num\">1.2&nbsp;&nbsp;</span>Очистка текста от неалфавитных символов</a></span></li><li><span><a href=\"#Лемматизация--и-удаление-стоп-слов.\" data-toc-modified-id=\"Лемматизация--и-удаление-стоп-слов.-1.3\"><span class=\"toc-item-num\">1.3&nbsp;&nbsp;</span>Лемматизация  и удаление стоп-слов.</a></span></li><li><span><a href=\"#Выделим-в-исходном-наборе-данных-обучающую-и-тестовую-выборки-со-стратификацией-по-целевому-признаку.\" data-toc-modified-id=\"Выделим-в-исходном-наборе-данных-обучающую-и-тестовую-выборки-со-стратификацией-по-целевому-признаку.-1.4\"><span class=\"toc-item-num\">1.4&nbsp;&nbsp;</span>Выделим в исходном наборе данных обучающую и тестовую выборки со стратификацией по целевому признаку.</a></span></li></ul></li><li><span><a href=\"#Обучение\" data-toc-modified-id=\"Обучение-2\"><span class=\"toc-item-num\">2&nbsp;&nbsp;</span>Обучение</a></span><ul class=\"toc-item\"><li><ul class=\"toc-item\"><li><span><a href=\"#Создадим-и-обучим-различные-модели.-Рассчитаем-метрику-F1-на-обучающей-выборке.-Для-векторизации-текста-используем-метод-TF-IDF.\" data-toc-modified-id=\"Создадим-и-обучим-различные-модели.-Рассчитаем-метрику-F1-на-обучающей-выборке.-Для-векторизации-текста-используем-метод-TF-IDF.-2.0.1\"><span class=\"toc-item-num\">2.0.1&nbsp;&nbsp;</span>Создадим и обучим различные модели. Рассчитаем метрику F1 на обучающей выборке. Для векторизации текста используем метод TF-IDF.</a></span></li><li><span><a href=\"#Линейная-регрессия\" data-toc-modified-id=\"Линейная-регрессия-2.0.2\"><span class=\"toc-item-num\">2.0.2&nbsp;&nbsp;</span>Линейная регрессия</a></span></li><li><span><a href=\"#DecisionTreeClassifier\" data-toc-modified-id=\"DecisionTreeClassifier-2.0.3\"><span class=\"toc-item-num\">2.0.3&nbsp;&nbsp;</span>DecisionTreeClassifier</a></span></li><li><span><a href=\"#LightGBM\" data-toc-modified-id=\"LightGBM-2.0.4\"><span class=\"toc-item-num\">2.0.4&nbsp;&nbsp;</span>LightGBM</a></span></li><li><span><a href=\"#Выберем--лучшую-модель-по-результатам-кросс-валидации.\" data-toc-modified-id=\"Выберем--лучшую-модель-по-результатам-кросс-валидации.-2.0.5\"><span class=\"toc-item-num\">2.0.5&nbsp;&nbsp;</span>Выберем  лучшую модель по результатам кросс валидации.</a></span></li></ul></li><li><span><a href=\"#Из-итоговой-таблицы-можно-сделать-вывод,-что--лучшая-модель---это-Линейная-регрессия.-Проведем-тестирование-и-посчитаем-метрику-F1-для-нашей-лучшей-модели-на--тестовой-выборке.\" data-toc-modified-id=\"Из-итоговой-таблицы-можно-сделать-вывод,-что--лучшая-модель---это-Линейная-регрессия.-Проведем-тестирование-и-посчитаем-метрику-F1-для-нашей-лучшей-модели-на--тестовой-выборке.-2.1\"><span class=\"toc-item-num\">2.1&nbsp;&nbsp;</span>Из итоговой таблицы можно сделать вывод, что  лучшая модель - это Линейная регрессия. Проведем тестирование и посчитаем метрику F1 для нашей лучшей модели на  тестовой выборке.</a></span></li></ul></li><li><span><a href=\"#Выводы\" data-toc-modified-id=\"Выводы-3\"><span class=\"toc-item-num\">3&nbsp;&nbsp;</span>Выводы</a></span><ul class=\"toc-item\"><li><span><a href=\"#Мы-построили-модель-способную-классифицировать-комментарии-на-позитивные-и-негативные.--Значение-метрики-F1-на-тестовой-выборке-нашей--модели--не-превышает-75.\" data-toc-modified-id=\"Мы-построили-модель-способную-классифицировать-комментарии-на-позитивные-и-негативные.--Значение-метрики-F1-на-тестовой-выборке-нашей--модели--не-превышает-75.-3.1\"><span class=\"toc-item-num\">3.1&nbsp;&nbsp;</span>Мы построили модель способную классифицировать комментарии на позитивные и негативные.  Значение метрики F1 на тестовой выборке нашей  модели  не превышает 75.</a></span></li><li><span><a href=\"#В-ходе-работы-над-проектом-было-сделано:\" data-toc-modified-id=\"В-ходе-работы-над-проектом-было-сделано:-3.2\"><span class=\"toc-item-num\">3.2&nbsp;&nbsp;</span>В ходе работы над проектом было сделано:</a></span></li></ul></li><li><span><a href=\"#Чек-лист-проверки\" data-toc-modified-id=\"Чек-лист-проверки-4\"><span class=\"toc-item-num\">4&nbsp;&nbsp;</span>Чек-лист проверки</a></span></li></ul></div>"
   ]
  },
  {
   "cell_type": "markdown",
   "metadata": {
    "id": "eEW38FOBnNqL"
   },
   "source": [
    "# Проект для «Викишоп»"
   ]
  },
  {
   "cell_type": "markdown",
   "metadata": {
    "id": "0ItqZfZAnNqL"
   },
   "source": [
    "Интернет-магазин «Викишоп» запускает новый сервис. Теперь пользователи могут редактировать и дополнять описания товаров, как в вики-сообществах. То есть клиенты предлагают свои правки и комментируют изменения других. Магазину нужен инструмент, который будет искать токсичные комментарии и отправлять их на модерацию. \n",
    "\n",
    "Обучите модель классифицировать комментарии на позитивные и негативные. В вашем распоряжении набор данных с разметкой о токсичности правок.\n",
    "\n",
    "Постройте модель со значением метрики качества *F1* не меньше 0.75. \n",
    "\n",
    "**Инструкция по выполнению проекта**\n",
    "\n",
    "1. Загрузите и подготовьте данные.\n",
    "2. Обучите разные модели. \n",
    "3. Сделайте выводы.\n",
    "\n",
    "Для выполнения проекта применять *BERT* необязательно, но вы можете попробовать.\n",
    "\n",
    "**Описание данных**\n",
    "\n",
    "Данные находятся в файле `toxic_comments.csv`. Столбец *text* в нём содержит текст комментария, а *toxic* — целевой признак."
   ]
  },
  {
   "cell_type": "markdown",
   "metadata": {
    "id": "Xqva8ar6nNqM"
   },
   "source": [
    "## Подготовка"
   ]
  },
  {
   "cell_type": "code",
   "execution_count": 1,
   "metadata": {
    "executionInfo": {
     "elapsed": 23823,
     "status": "ok",
     "timestamp": 1683684850151,
     "user": {
      "displayName": "Дмитрий Александров",
      "userId": "16727890091467267660"
     },
     "user_tz": -420
    },
    "id": "0mvbiiWinNqM"
   },
   "outputs": [],
   "source": [
    "import pandas as pd\n",
    "import re\n",
    "import spacy\n",
    "from sklearn.model_selection import train_test_split\n",
    "from sklearn.pipeline import Pipeline\n",
    "from sklearn.feature_extraction.text import TfidfVectorizer\n",
    "from sklearn.linear_model import LogisticRegression\n",
    "from sklearn.metrics import f1_score\n",
    "from sklearn.model_selection import train_test_split, GridSearchCV\n",
    "from sklearn.preprocessing import StandardScaler\n",
    "import lightgbm as lgb\n",
    "from lightgbm import LGBMClassifier\n",
    "from sklearn.tree import DecisionTreeClassifier \n"
   ]
  },
  {
   "cell_type": "code",
   "execution_count": 2,
   "metadata": {
    "executionInfo": {
     "elapsed": 5126,
     "status": "ok",
     "timestamp": 1683684855266,
     "user": {
      "displayName": "Дмитрий Александров",
      "userId": "16727890091467267660"
     },
     "user_tz": -420
    },
    "id": "uLmPlTranNqO"
   },
   "outputs": [],
   "source": [
    "try:\n",
    "    df = pd.read_csv('https://code.s3.yandex.net/datasets/toxic_comments.csv')\n",
    "except:\n",
    "    df = pd.read_csv('/datasets/toxic_comments.csv')"
   ]
  },
  {
   "cell_type": "code",
   "execution_count": 3,
   "metadata": {
    "colab": {
     "base_uri": "https://localhost:8080/",
     "height": 206
    },
    "executionInfo": {
     "elapsed": 17,
     "status": "ok",
     "timestamp": 1683684855266,
     "user": {
      "displayName": "Дмитрий Александров",
      "userId": "16727890091467267660"
     },
     "user_tz": -420
    },
    "id": "CXbC3eFbnNqO",
    "outputId": "e1e51221-cdfa-4cad-f786-ec773eb339ac"
   },
   "outputs": [
    {
     "data": {
      "text/html": [
       "\n",
       "  <div id=\"df-dc04ef1b-9316-4ecd-af09-071f8c4bd7b7\">\n",
       "    <div class=\"colab-df-container\">\n",
       "      <div>\n",
       "<style scoped>\n",
       "    .dataframe tbody tr th:only-of-type {\n",
       "        vertical-align: middle;\n",
       "    }\n",
       "\n",
       "    .dataframe tbody tr th {\n",
       "        vertical-align: top;\n",
       "    }\n",
       "\n",
       "    .dataframe thead th {\n",
       "        text-align: right;\n",
       "    }\n",
       "</style>\n",
       "<table border=\"1\" class=\"dataframe\">\n",
       "  <thead>\n",
       "    <tr style=\"text-align: right;\">\n",
       "      <th></th>\n",
       "      <th>Unnamed: 0</th>\n",
       "      <th>text</th>\n",
       "      <th>toxic</th>\n",
       "    </tr>\n",
       "  </thead>\n",
       "  <tbody>\n",
       "    <tr>\n",
       "      <th>0</th>\n",
       "      <td>0</td>\n",
       "      <td>Explanation\\nWhy the edits made under my usern...</td>\n",
       "      <td>0</td>\n",
       "    </tr>\n",
       "    <tr>\n",
       "      <th>1</th>\n",
       "      <td>1</td>\n",
       "      <td>D'aww! He matches this background colour I'm s...</td>\n",
       "      <td>0</td>\n",
       "    </tr>\n",
       "    <tr>\n",
       "      <th>2</th>\n",
       "      <td>2</td>\n",
       "      <td>Hey man, I'm really not trying to edit war. It...</td>\n",
       "      <td>0</td>\n",
       "    </tr>\n",
       "    <tr>\n",
       "      <th>3</th>\n",
       "      <td>3</td>\n",
       "      <td>\"\\nMore\\nI can't make any real suggestions on ...</td>\n",
       "      <td>0</td>\n",
       "    </tr>\n",
       "    <tr>\n",
       "      <th>4</th>\n",
       "      <td>4</td>\n",
       "      <td>You, sir, are my hero. Any chance you remember...</td>\n",
       "      <td>0</td>\n",
       "    </tr>\n",
       "  </tbody>\n",
       "</table>\n",
       "</div>\n",
       "      <button class=\"colab-df-convert\" onclick=\"convertToInteractive('df-dc04ef1b-9316-4ecd-af09-071f8c4bd7b7')\"\n",
       "              title=\"Convert this dataframe to an interactive table.\"\n",
       "              style=\"display:none;\">\n",
       "        \n",
       "  <svg xmlns=\"http://www.w3.org/2000/svg\" height=\"24px\"viewBox=\"0 0 24 24\"\n",
       "       width=\"24px\">\n",
       "    <path d=\"M0 0h24v24H0V0z\" fill=\"none\"/>\n",
       "    <path d=\"M18.56 5.44l.94 2.06.94-2.06 2.06-.94-2.06-.94-.94-2.06-.94 2.06-2.06.94zm-11 1L8.5 8.5l.94-2.06 2.06-.94-2.06-.94L8.5 2.5l-.94 2.06-2.06.94zm10 10l.94 2.06.94-2.06 2.06-.94-2.06-.94-.94-2.06-.94 2.06-2.06.94z\"/><path d=\"M17.41 7.96l-1.37-1.37c-.4-.4-.92-.59-1.43-.59-.52 0-1.04.2-1.43.59L10.3 9.45l-7.72 7.72c-.78.78-.78 2.05 0 2.83L4 21.41c.39.39.9.59 1.41.59.51 0 1.02-.2 1.41-.59l7.78-7.78 2.81-2.81c.8-.78.8-2.07 0-2.86zM5.41 20L4 18.59l7.72-7.72 1.47 1.35L5.41 20z\"/>\n",
       "  </svg>\n",
       "      </button>\n",
       "      \n",
       "  <style>\n",
       "    .colab-df-container {\n",
       "      display:flex;\n",
       "      flex-wrap:wrap;\n",
       "      gap: 12px;\n",
       "    }\n",
       "\n",
       "    .colab-df-convert {\n",
       "      background-color: #E8F0FE;\n",
       "      border: none;\n",
       "      border-radius: 50%;\n",
       "      cursor: pointer;\n",
       "      display: none;\n",
       "      fill: #1967D2;\n",
       "      height: 32px;\n",
       "      padding: 0 0 0 0;\n",
       "      width: 32px;\n",
       "    }\n",
       "\n",
       "    .colab-df-convert:hover {\n",
       "      background-color: #E2EBFA;\n",
       "      box-shadow: 0px 1px 2px rgba(60, 64, 67, 0.3), 0px 1px 3px 1px rgba(60, 64, 67, 0.15);\n",
       "      fill: #174EA6;\n",
       "    }\n",
       "\n",
       "    [theme=dark] .colab-df-convert {\n",
       "      background-color: #3B4455;\n",
       "      fill: #D2E3FC;\n",
       "    }\n",
       "\n",
       "    [theme=dark] .colab-df-convert:hover {\n",
       "      background-color: #434B5C;\n",
       "      box-shadow: 0px 1px 3px 1px rgba(0, 0, 0, 0.15);\n",
       "      filter: drop-shadow(0px 1px 2px rgba(0, 0, 0, 0.3));\n",
       "      fill: #FFFFFF;\n",
       "    }\n",
       "  </style>\n",
       "\n",
       "      <script>\n",
       "        const buttonEl =\n",
       "          document.querySelector('#df-dc04ef1b-9316-4ecd-af09-071f8c4bd7b7 button.colab-df-convert');\n",
       "        buttonEl.style.display =\n",
       "          google.colab.kernel.accessAllowed ? 'block' : 'none';\n",
       "\n",
       "        async function convertToInteractive(key) {\n",
       "          const element = document.querySelector('#df-dc04ef1b-9316-4ecd-af09-071f8c4bd7b7');\n",
       "          const dataTable =\n",
       "            await google.colab.kernel.invokeFunction('convertToInteractive',\n",
       "                                                     [key], {});\n",
       "          if (!dataTable) return;\n",
       "\n",
       "          const docLinkHtml = 'Like what you see? Visit the ' +\n",
       "            '<a target=\"_blank\" href=https://colab.research.google.com/notebooks/data_table.ipynb>data table notebook</a>'\n",
       "            + ' to learn more about interactive tables.';\n",
       "          element.innerHTML = '';\n",
       "          dataTable['output_type'] = 'display_data';\n",
       "          await google.colab.output.renderOutput(dataTable, element);\n",
       "          const docLink = document.createElement('div');\n",
       "          docLink.innerHTML = docLinkHtml;\n",
       "          element.appendChild(docLink);\n",
       "        }\n",
       "      </script>\n",
       "    </div>\n",
       "  </div>\n",
       "  "
      ],
      "text/plain": [
       "   Unnamed: 0                                               text  toxic\n",
       "0           0  Explanation\\nWhy the edits made under my usern...      0\n",
       "1           1  D'aww! He matches this background colour I'm s...      0\n",
       "2           2  Hey man, I'm really not trying to edit war. It...      0\n",
       "3           3  \"\\nMore\\nI can't make any real suggestions on ...      0\n",
       "4           4  You, sir, are my hero. Any chance you remember...      0"
      ]
     },
     "execution_count": 3,
     "metadata": {},
     "output_type": "execute_result"
    }
   ],
   "source": [
    "df.head()"
   ]
  },
  {
   "cell_type": "code",
   "execution_count": 4,
   "metadata": {
    "colab": {
     "base_uri": "https://localhost:8080/"
    },
    "executionInfo": {
     "elapsed": 9,
     "status": "ok",
     "timestamp": 1683684855267,
     "user": {
      "displayName": "Дмитрий Александров",
      "userId": "16727890091467267660"
     },
     "user_tz": -420
    },
    "id": "0BBtxv1RnNqP",
    "outputId": "5645ec08-d86d-4898-c344-6f2ea6a15841"
   },
   "outputs": [
    {
     "name": "stdout",
     "output_type": "stream",
     "text": [
      "<class 'pandas.core.frame.DataFrame'>\n",
      "RangeIndex: 159292 entries, 0 to 159291\n",
      "Data columns (total 3 columns):\n",
      " #   Column      Non-Null Count   Dtype \n",
      "---  ------      --------------   ----- \n",
      " 0   Unnamed: 0  159292 non-null  int64 \n",
      " 1   text        159292 non-null  object\n",
      " 2   toxic       159292 non-null  int64 \n",
      "dtypes: int64(2), object(1)\n",
      "memory usage: 3.6+ MB\n"
     ]
    }
   ],
   "source": [
    "df.info()"
   ]
  },
  {
   "cell_type": "code",
   "execution_count": 5,
   "metadata": {
    "colab": {
     "base_uri": "https://localhost:8080/"
    },
    "executionInfo": {
     "elapsed": 7,
     "status": "ok",
     "timestamp": 1683684855267,
     "user": {
      "displayName": "Дмитрий Александров",
      "userId": "16727890091467267660"
     },
     "user_tz": -420
    },
    "id": "J7ACKWB8nNqP",
    "outputId": "27ea2249-2787-4366-94d4-306325d2933e"
   },
   "outputs": [
    {
     "data": {
      "text/plain": [
       "Unnamed: 0    0\n",
       "text          0\n",
       "toxic         0\n",
       "dtype: int64"
      ]
     },
     "execution_count": 5,
     "metadata": {},
     "output_type": "execute_result"
    }
   ],
   "source": [
    "df.isna().sum()"
   ]
  },
  {
   "cell_type": "code",
   "execution_count": 6,
   "metadata": {
    "colab": {
     "base_uri": "https://localhost:8080/"
    },
    "executionInfo": {
     "elapsed": 431,
     "status": "ok",
     "timestamp": 1683684855693,
     "user": {
      "displayName": "Дмитрий Александров",
      "userId": "16727890091467267660"
     },
     "user_tz": -420
    },
    "id": "RD2Co7yenNqP",
    "outputId": "4a8a2fbc-08f6-414c-d91f-5c16440f33d4"
   },
   "outputs": [
    {
     "data": {
      "text/plain": [
       "0"
      ]
     },
     "execution_count": 6,
     "metadata": {},
     "output_type": "execute_result"
    }
   ],
   "source": [
    "df.duplicated().sum()"
   ]
  },
  {
   "cell_type": "code",
   "execution_count": 7,
   "metadata": {
    "colab": {
     "base_uri": "https://localhost:8080/",
     "height": 52
    },
    "executionInfo": {
     "elapsed": 7,
     "status": "ok",
     "timestamp": 1683684855693,
     "user": {
      "displayName": "Дмитрий Александров",
      "userId": "16727890091467267660"
     },
     "user_tz": -420
    },
    "id": "arXCJym1nNqQ",
    "outputId": "062a5a64-f0bd-4b86-b41b-fd99027ac4c4",
    "scrolled": true
   },
   "outputs": [
    {
     "data": {
      "text/plain": [
       "0.10161213369158527"
      ]
     },
     "metadata": {},
     "output_type": "display_data"
    },
    {
     "data": {
      "text/plain": [
       "8.841344371679229"
      ]
     },
     "execution_count": 7,
     "metadata": {},
     "output_type": "execute_result"
    }
   ],
   "source": [
    "display(df['toxic'].mean())\n",
    "class_ratio = df['toxic'].value_counts()[0] / df['toxic'].value_counts()[1]\n",
    "class_ratio"
   ]
  },
  {
   "cell_type": "markdown",
   "metadata": {
    "id": "09y7sA1FUPOE"
   },
   "source": [
    "### Датасет содержит 159292 тысяч записей с размеченными комментариями. Дубликатов нет. Пропущенных значений нет. Доля токсичных комментариев в общем объеме данных - 10%. При обучении модели следует учитывать то, что  классы несбалансированы."
   ]
  },
  {
   "cell_type": "markdown",
   "metadata": {
    "id": "eMazbe0mnNqQ"
   },
   "source": [
    "### Очистка текста от неалфавитных символов"
   ]
  },
  {
   "cell_type": "code",
   "execution_count": 8,
   "metadata": {
    "colab": {
     "base_uri": "https://localhost:8080/",
     "height": 53
    },
    "executionInfo": {
     "elapsed": 5466,
     "status": "ok",
     "timestamp": 1683684861155,
     "user": {
      "displayName": "Дмитрий Александров",
      "userId": "16727890091467267660"
     },
     "user_tz": -420
    },
    "id": "rU0mpPu3nNqQ",
    "outputId": "f412c5c8-ccb4-45eb-91ef-2aba0213c59b"
   },
   "outputs": [
    {
     "data": {
      "application/vnd.google.colaboratory.intrinsic+json": {
       "type": "string"
      },
      "text/plain": [
       "'explanation why the edits made under my username hardcore metallica fan were reverted they weren t vandalisms just closure on some gas after i voted at new york dolls fac and please don t remove the template from the talk page since i m retired now'"
      ]
     },
     "execution_count": 8,
     "metadata": {},
     "output_type": "execute_result"
    }
   ],
   "source": [
    "def clear_text(text):\n",
    "    text = re.sub(r'[^a-zA-Z]', ' ', text)\n",
    "    \n",
    "    return \" \".join(text.split())\n",
    "df['clear_text'] = df['text'].str.lower().apply(clear_text)\n",
    "df['clear_text'][0]"
   ]
  },
  {
   "cell_type": "markdown",
   "metadata": {
    "id": "Dro5rFYXnNqR"
   },
   "source": [
    "### Лемматизация  и удаление стоп-слов."
   ]
  },
  {
   "cell_type": "code",
   "execution_count": 9,
   "metadata": {
    "executionInfo": {
     "elapsed": 1863,
     "status": "ok",
     "timestamp": 1683684863017,
     "user": {
      "displayName": "Дмитрий Александров",
      "userId": "16727890091467267660"
     },
     "user_tz": -420
    },
    "id": "CHet9AB3nNqR"
   },
   "outputs": [],
   "source": [
    "nlp = spacy.load('en_core_web_sm', disable=['parser', 'ner'])\n"
   ]
  },
  {
   "cell_type": "code",
   "execution_count": 10,
   "metadata": {
    "executionInfo": {
     "elapsed": 4,
     "status": "ok",
     "timestamp": 1683684863017,
     "user": {
      "displayName": "Дмитрий Александров",
      "userId": "16727890091467267660"
     },
     "user_tz": -420
    },
    "id": "JM3hQFZRnNqR"
   },
   "outputs": [],
   "source": [
    "def lemm_text(text):\n",
    "    doc = nlp(text)\n",
    "    lemm_text = \" \".join([token.lemma_ for token in doc if not token.is_stop])\n",
    "    return lemm_text"
   ]
  },
  {
   "cell_type": "code",
   "execution_count": 11,
   "metadata": {
    "executionInfo": {
     "elapsed": 1257493,
     "status": "ok",
     "timestamp": 1683686120506,
     "user": {
      "displayName": "Дмитрий Александров",
      "userId": "16727890091467267660"
     },
     "user_tz": -420
    },
    "id": "yd4jG_uinNqR"
   },
   "outputs": [],
   "source": [
    "df['lemm_text']= df['clear_text'].apply(lemm_text)"
   ]
  },
  {
   "cell_type": "code",
   "execution_count": 12,
   "metadata": {
    "colab": {
     "base_uri": "https://localhost:8080/",
     "height": 35
    },
    "executionInfo": {
     "elapsed": 10,
     "status": "ok",
     "timestamp": 1683686120507,
     "user": {
      "displayName": "Дмитрий Александров",
      "userId": "16727890091467267660"
     },
     "user_tz": -420
    },
    "id": "V2yUYoZ9nNqS",
    "outputId": "4a2d0783-e558-4aed-9a8d-d606c988cf31"
   },
   "outputs": [
    {
     "data": {
      "application/vnd.google.colaboratory.intrinsic+json": {
       "type": "string"
      },
      "text/plain": [
       "'explanation edit username hardcore metallica fan revert weren t vandalism closure gas vote new york dolls fac don t remove template talk page m retire'"
      ]
     },
     "execution_count": 12,
     "metadata": {},
     "output_type": "execute_result"
    }
   ],
   "source": [
    "df['lemm_text'][0]"
   ]
  },
  {
   "cell_type": "markdown",
   "metadata": {
    "id": "YN05U-jGU-SR"
   },
   "source": [
    "### Выделим в исходном наборе данных обучающую и тестовую выборки со стратификацией по целевому признаку."
   ]
  },
  {
   "cell_type": "code",
   "execution_count": 13,
   "metadata": {
    "executionInfo": {
     "elapsed": 9,
     "status": "ok",
     "timestamp": 1683686120508,
     "user": {
      "displayName": "Дмитрий Александров",
      "userId": "16727890091467267660"
     },
     "user_tz": -420
    },
    "id": "_eU1xKCn2LtK"
   },
   "outputs": [],
   "source": [
    "x = df['lemm_text']\n",
    "y = df['toxic']\n",
    "features_train, features_test, target_train, target_test = train_test_split(x, y, test_size = 0.2, random_state = 12345, stratify=df['toxic'])"
   ]
  },
  {
   "cell_type": "code",
   "execution_count": 14,
   "metadata": {
    "colab": {
     "base_uri": "https://localhost:8080/"
    },
    "executionInfo": {
     "elapsed": 9,
     "status": "ok",
     "timestamp": 1683686120508,
     "user": {
      "displayName": "Дмитрий Александров",
      "userId": "16727890091467267660"
     },
     "user_tz": -420
    },
    "id": "S62ExgsC2ivU",
    "outputId": "d65d6026-f294-49e7-c8c0-d8a0b8bdac72"
   },
   "outputs": [
    {
     "name": "stdout",
     "output_type": "stream",
     "text": [
      "(127433,)\n",
      "(31859,)\n"
     ]
    }
   ],
   "source": [
    "print(features_train.shape)\n",
    "print(target_test.shape)"
   ]
  },
  {
   "cell_type": "markdown",
   "metadata": {
    "id": "AXseoYcDnNqS"
   },
   "source": [
    "## Обучение"
   ]
  },
  {
   "cell_type": "markdown",
   "metadata": {
    "id": "bc7-CBBxZlas"
   },
   "source": [
    "#### Создадим и обучим различные модели. Рассчитаем метрику F1 на обучающей выборке. Для векторизации текста используем метод TF-IDF."
   ]
  },
  {
   "cell_type": "markdown",
   "metadata": {
    "id": "GROUM3b_XMmF"
   },
   "source": [
    "#### Линейная регрессия"
   ]
  },
  {
   "cell_type": "code",
   "execution_count": 15,
   "metadata": {
    "colab": {
     "base_uri": "https://localhost:8080/"
    },
    "executionInfo": {
     "elapsed": 254593,
     "status": "ok",
     "timestamp": 1683686375095,
     "user": {
      "displayName": "Дмитрий Александров",
      "userId": "16727890091467267660"
     },
     "user_tz": -420
    },
    "id": "ZMhzpLeE3F-V",
    "outputId": "457acfd0-5fcb-47ae-ba16-7755cb228df4"
   },
   "outputs": [
    {
     "name": "stdout",
     "output_type": "stream",
     "text": [
      "Fitting 5 folds for each of 6 candidates, totalling 30 fits\n",
      "[CV 1/5] END model_LR__C=0.1, model_LR__class_weight=balanced, model_LR__solver=newton-cg;, score=0.721 total time=   8.2s\n",
      "[CV 2/5] END model_LR__C=0.1, model_LR__class_weight=balanced, model_LR__solver=newton-cg;, score=0.715 total time=   6.9s\n",
      "[CV 3/5] END model_LR__C=0.1, model_LR__class_weight=balanced, model_LR__solver=newton-cg;, score=0.706 total time=   8.4s\n",
      "[CV 4/5] END model_LR__C=0.1, model_LR__class_weight=balanced, model_LR__solver=newton-cg;, score=0.718 total time=   8.2s\n",
      "[CV 5/5] END model_LR__C=0.1, model_LR__class_weight=balanced, model_LR__solver=newton-cg;, score=0.706 total time=   7.0s\n",
      "[CV 1/5] END model_LR__C=0.1, model_LR__class_weight=balanced, model_LR__solver=liblinear;, score=0.721 total time=   6.5s\n",
      "[CV 2/5] END model_LR__C=0.1, model_LR__class_weight=balanced, model_LR__solver=liblinear;, score=0.715 total time=   5.3s\n",
      "[CV 3/5] END model_LR__C=0.1, model_LR__class_weight=balanced, model_LR__solver=liblinear;, score=0.705 total time=   6.6s\n",
      "[CV 4/5] END model_LR__C=0.1, model_LR__class_weight=balanced, model_LR__solver=liblinear;, score=0.718 total time=   5.3s\n",
      "[CV 5/5] END model_LR__C=0.1, model_LR__class_weight=balanced, model_LR__solver=liblinear;, score=0.705 total time=   5.3s\n",
      "[CV 1/5] END model_LR__C=1, model_LR__class_weight=balanced, model_LR__solver=newton-cg;, score=0.751 total time=   9.1s\n",
      "[CV 2/5] END model_LR__C=1, model_LR__class_weight=balanced, model_LR__solver=newton-cg;, score=0.751 total time=   9.6s\n",
      "[CV 3/5] END model_LR__C=1, model_LR__class_weight=balanced, model_LR__solver=newton-cg;, score=0.748 total time=   9.4s\n",
      "[CV 4/5] END model_LR__C=1, model_LR__class_weight=balanced, model_LR__solver=newton-cg;, score=0.753 total time=   7.8s\n",
      "[CV 5/5] END model_LR__C=1, model_LR__class_weight=balanced, model_LR__solver=newton-cg;, score=0.748 total time=   9.2s\n",
      "[CV 1/5] END model_LR__C=1, model_LR__class_weight=balanced, model_LR__solver=liblinear;, score=0.751 total time=   6.4s\n",
      "[CV 2/5] END model_LR__C=1, model_LR__class_weight=balanced, model_LR__solver=liblinear;, score=0.751 total time=   6.9s\n",
      "[CV 3/5] END model_LR__C=1, model_LR__class_weight=balanced, model_LR__solver=liblinear;, score=0.748 total time=   7.8s\n",
      "[CV 4/5] END model_LR__C=1, model_LR__class_weight=balanced, model_LR__solver=liblinear;, score=0.753 total time=   6.1s\n",
      "[CV 5/5] END model_LR__C=1, model_LR__class_weight=balanced, model_LR__solver=liblinear;, score=0.748 total time=   7.3s\n",
      "[CV 1/5] END model_LR__C=10, model_LR__class_weight=balanced, model_LR__solver=newton-cg;, score=0.765 total time=   9.7s\n",
      "[CV 2/5] END model_LR__C=10, model_LR__class_weight=balanced, model_LR__solver=newton-cg;, score=0.758 total time=  10.9s\n",
      "[CV 3/5] END model_LR__C=10, model_LR__class_weight=balanced, model_LR__solver=newton-cg;, score=0.764 total time=  10.3s\n",
      "[CV 4/5] END model_LR__C=10, model_LR__class_weight=balanced, model_LR__solver=newton-cg;, score=0.764 total time=  10.7s\n",
      "[CV 5/5] END model_LR__C=10, model_LR__class_weight=balanced, model_LR__solver=newton-cg;, score=0.758 total time=  10.8s\n",
      "[CV 1/5] END model_LR__C=10, model_LR__class_weight=balanced, model_LR__solver=liblinear;, score=0.765 total time=   7.5s\n",
      "[CV 2/5] END model_LR__C=10, model_LR__class_weight=balanced, model_LR__solver=liblinear;, score=0.758 total time=   8.8s\n",
      "[CV 3/5] END model_LR__C=10, model_LR__class_weight=balanced, model_LR__solver=liblinear;, score=0.764 total time=   9.2s\n",
      "[CV 4/5] END model_LR__C=10, model_LR__class_weight=balanced, model_LR__solver=liblinear;, score=0.764 total time=   7.7s\n",
      "[CV 5/5] END model_LR__C=10, model_LR__class_weight=balanced, model_LR__solver=liblinear;, score=0.758 total time=   9.1s\n",
      "{'model_LR__C': 10, 'model_LR__class_weight': 'balanced', 'model_LR__solver': 'newton-cg'}\n",
      "0.7616922418436431\n"
     ]
    }
   ],
   "source": [
    "pipeline_LR = Pipeline([\n",
    "           ('vect', TfidfVectorizer()),\n",
    "           ('model_LR', LogisticRegression(random_state=12345)),\n",
    "])\n",
    "dict_classes={0:1, 1:8.83}\n",
    "param_grid_LR = [{'model_LR__solver':['newton-cg', 'liblinear'],\n",
    "                'model_LR__C':[0.1, 1, 10],\n",
    "                'model_LR__class_weight' : ['balanced']}]\n",
    "\n",
    "grid_LR = GridSearchCV(pipeline_LR, param_grid_LR, scoring='f1', verbose = 3)\n",
    "grid_LR.fit(features_train, target_train)\n",
    "\n",
    "print(grid_LR.best_params_)\n",
    "print(grid_LR.best_score_)               "
   ]
  },
  {
   "cell_type": "markdown",
   "metadata": {
    "id": "en5aTANVXYIl"
   },
   "source": [
    "#### DecisionTreeClassifier"
   ]
  },
  {
   "cell_type": "code",
   "execution_count": 16,
   "metadata": {
    "colab": {
     "base_uri": "https://localhost:8080/"
    },
    "executionInfo": {
     "elapsed": 340307,
     "status": "ok",
     "timestamp": 1683686715399,
     "user": {
      "displayName": "Дмитрий Александров",
      "userId": "16727890091467267660"
     },
     "user_tz": -420
    },
    "id": "9AJ1kWPQm-wn",
    "outputId": "9a689056-ca2c-42b5-9ff3-6abfaf64b838"
   },
   "outputs": [
    {
     "name": "stdout",
     "output_type": "stream",
     "text": [
      "Fitting 5 folds for each of 9 candidates, totalling 45 fits\n",
      "[CV 1/5] END model_DT__class_weight=balanced, model_DT__max_depth=1;, score=0.279 total time=   4.6s\n",
      "[CV 2/5] END model_DT__class_weight=balanced, model_DT__max_depth=1;, score=0.285 total time=   6.0s\n",
      "[CV 3/5] END model_DT__class_weight=balanced, model_DT__max_depth=1;, score=0.294 total time=   4.7s\n",
      "[CV 4/5] END model_DT__class_weight=balanced, model_DT__max_depth=1;, score=0.283 total time=   5.5s\n",
      "[CV 5/5] END model_DT__class_weight=balanced, model_DT__max_depth=1;, score=0.281 total time=   4.6s\n",
      "[CV 1/5] END model_DT__class_weight=balanced, model_DT__max_depth=2;, score=0.218 total time=   5.2s\n",
      "[CV 2/5] END model_DT__class_weight=balanced, model_DT__max_depth=2;, score=0.218 total time=   6.4s\n",
      "[CV 3/5] END model_DT__class_weight=balanced, model_DT__max_depth=2;, score=0.216 total time=   5.2s\n",
      "[CV 4/5] END model_DT__class_weight=balanced, model_DT__max_depth=2;, score=0.218 total time=   6.2s\n",
      "[CV 5/5] END model_DT__class_weight=balanced, model_DT__max_depth=2;, score=0.217 total time=   5.0s\n",
      "[CV 1/5] END model_DT__class_weight=balanced, model_DT__max_depth=3;, score=0.369 total time=   6.2s\n",
      "[CV 2/5] END model_DT__class_weight=balanced, model_DT__max_depth=3;, score=0.377 total time=   5.6s\n",
      "[CV 3/5] END model_DT__class_weight=balanced, model_DT__max_depth=3;, score=0.377 total time=   6.6s\n",
      "[CV 4/5] END model_DT__class_weight=balanced, model_DT__max_depth=3;, score=0.380 total time=   5.4s\n",
      "[CV 5/5] END model_DT__class_weight=balanced, model_DT__max_depth=3;, score=0.369 total time=   6.2s\n",
      "[CV 1/5] END model_DT__class_weight=balanced, model_DT__max_depth=4;, score=0.424 total time=   6.4s\n",
      "[CV 2/5] END model_DT__class_weight=balanced, model_DT__max_depth=4;, score=0.238 total time=   7.2s\n",
      "[CV 3/5] END model_DT__class_weight=balanced, model_DT__max_depth=4;, score=0.235 total time=   6.1s\n",
      "[CV 4/5] END model_DT__class_weight=balanced, model_DT__max_depth=4;, score=0.431 total time=   6.9s\n",
      "[CV 5/5] END model_DT__class_weight=balanced, model_DT__max_depth=4;, score=0.237 total time=   6.2s\n",
      "[CV 1/5] END model_DT__class_weight=balanced, model_DT__max_depth=5;, score=0.479 total time=   7.8s\n",
      "[CV 2/5] END model_DT__class_weight=balanced, model_DT__max_depth=5;, score=0.439 total time=   6.7s\n",
      "[CV 3/5] END model_DT__class_weight=balanced, model_DT__max_depth=5;, score=0.435 total time=   8.3s\n",
      "[CV 4/5] END model_DT__class_weight=balanced, model_DT__max_depth=5;, score=0.433 total time=   7.5s\n",
      "[CV 5/5] END model_DT__class_weight=balanced, model_DT__max_depth=5;, score=0.433 total time=   7.7s\n",
      "[CV 1/5] END model_DT__class_weight=balanced, model_DT__max_depth=6;, score=0.510 total time=   8.6s\n",
      "[CV 2/5] END model_DT__class_weight=balanced, model_DT__max_depth=6;, score=0.486 total time=   7.5s\n",
      "[CV 3/5] END model_DT__class_weight=balanced, model_DT__max_depth=6;, score=0.476 total time=   8.5s\n",
      "[CV 4/5] END model_DT__class_weight=balanced, model_DT__max_depth=6;, score=0.485 total time=   7.7s\n",
      "[CV 5/5] END model_DT__class_weight=balanced, model_DT__max_depth=6;, score=0.484 total time=   7.1s\n",
      "[CV 1/5] END model_DT__class_weight=balanced, model_DT__max_depth=7;, score=0.511 total time=   8.6s\n",
      "[CV 2/5] END model_DT__class_weight=balanced, model_DT__max_depth=7;, score=0.522 total time=   8.7s\n",
      "[CV 3/5] END model_DT__class_weight=balanced, model_DT__max_depth=7;, score=0.510 total time=   7.6s\n",
      "[CV 4/5] END model_DT__class_weight=balanced, model_DT__max_depth=7;, score=0.527 total time=   8.5s\n",
      "[CV 5/5] END model_DT__class_weight=balanced, model_DT__max_depth=7;, score=0.516 total time=   8.4s\n",
      "[CV 1/5] END model_DT__class_weight=balanced, model_DT__max_depth=8;, score=0.540 total time=   8.6s\n",
      "[CV 2/5] END model_DT__class_weight=balanced, model_DT__max_depth=8;, score=0.554 total time=   9.4s\n",
      "[CV 3/5] END model_DT__class_weight=balanced, model_DT__max_depth=8;, score=0.541 total time=   9.1s\n",
      "[CV 4/5] END model_DT__class_weight=balanced, model_DT__max_depth=8;, score=0.551 total time=   8.3s\n",
      "[CV 5/5] END model_DT__class_weight=balanced, model_DT__max_depth=8;, score=0.544 total time=   9.6s\n",
      "[CV 1/5] END model_DT__class_weight=balanced, model_DT__max_depth=9;, score=0.571 total time=   9.5s\n",
      "[CV 2/5] END model_DT__class_weight=balanced, model_DT__max_depth=9;, score=0.579 total time=   9.9s\n",
      "[CV 3/5] END model_DT__class_weight=balanced, model_DT__max_depth=9;, score=0.563 total time=   8.9s\n",
      "[CV 4/5] END model_DT__class_weight=balanced, model_DT__max_depth=9;, score=0.571 total time=  10.2s\n",
      "[CV 5/5] END model_DT__class_weight=balanced, model_DT__max_depth=9;, score=0.569 total time=   9.8s\n",
      "{'model_DT__class_weight': 'balanced', 'model_DT__max_depth': 9}\n",
      "0.5704818281515972\n"
     ]
    }
   ],
   "source": [
    "pipeline_DT = Pipeline([\n",
    "           ('vect_DT', TfidfVectorizer()),\n",
    "           ('model_DT', DecisionTreeClassifier(random_state=12345)),\n",
    "])\n",
    "dict_classes={0:1, 1:8.83}\n",
    "param_grid_DT = [{'model_DT__max_depth':range (1,10),\n",
    "                'model_DT__class_weight' : ['balanced']}]\n",
    "\n",
    "grid_DT = GridSearchCV(pipeline_DT, param_grid_DT, scoring='f1', verbose = 3)\n",
    "grid_DT.fit(features_train, target_train)\n",
    "\n",
    "print(grid_DT.best_params_)\n",
    "print(grid_DT.best_score_)"
   ]
  },
  {
   "cell_type": "markdown",
   "metadata": {
    "id": "KTBORk2xYF8K"
   },
   "source": [
    "#### LightGBM"
   ]
  },
  {
   "cell_type": "code",
   "execution_count": 17,
   "metadata": {
    "colab": {
     "base_uri": "https://localhost:8080/"
    },
    "executionInfo": {
     "elapsed": 1449869,
     "status": "ok",
     "timestamp": 1683688165257,
     "user": {
      "displayName": "Дмитрий Александров",
      "userId": "16727890091467267660"
     },
     "user_tz": -420
    },
    "id": "W2AP-UYOEZNd",
    "outputId": "5517a96c-a7c5-478e-c71b-a82fe2a51ea7"
   },
   "outputs": [
    {
     "name": "stdout",
     "output_type": "stream",
     "text": [
      "Fitting 5 folds for each of 4 candidates, totalling 20 fits\n",
      "[CV 1/5] END model_lgbm__class_weight=balanced, model_lgbm__max_depth=10, model_lgbm__n_estimators=100;, score=0.738 total time=  57.2s\n",
      "[CV 2/5] END model_lgbm__class_weight=balanced, model_lgbm__max_depth=10, model_lgbm__n_estimators=100;, score=0.746 total time=  56.9s\n",
      "[CV 3/5] END model_lgbm__class_weight=balanced, model_lgbm__max_depth=10, model_lgbm__n_estimators=100;, score=0.738 total time=  55.9s\n",
      "[CV 4/5] END model_lgbm__class_weight=balanced, model_lgbm__max_depth=10, model_lgbm__n_estimators=100;, score=0.728 total time=  53.9s\n",
      "[CV 5/5] END model_lgbm__class_weight=balanced, model_lgbm__max_depth=10, model_lgbm__n_estimators=100;, score=0.727 total time=  55.2s\n",
      "[CV 1/5] END model_lgbm__class_weight=balanced, model_lgbm__max_depth=10, model_lgbm__n_estimators=150;, score=0.755 total time= 1.0min\n",
      "[CV 2/5] END model_lgbm__class_weight=balanced, model_lgbm__max_depth=10, model_lgbm__n_estimators=150;, score=0.753 total time= 1.1min\n",
      "[CV 3/5] END model_lgbm__class_weight=balanced, model_lgbm__max_depth=10, model_lgbm__n_estimators=150;, score=0.751 total time= 1.0min\n",
      "[CV 4/5] END model_lgbm__class_weight=balanced, model_lgbm__max_depth=10, model_lgbm__n_estimators=150;, score=0.738 total time= 1.1min\n",
      "[CV 5/5] END model_lgbm__class_weight=balanced, model_lgbm__max_depth=10, model_lgbm__n_estimators=150;, score=0.741 total time=  59.6s\n",
      "[CV 1/5] END model_lgbm__class_weight=balanced, model_lgbm__max_depth=15, model_lgbm__n_estimators=100;, score=0.749 total time= 1.0min\n",
      "[CV 2/5] END model_lgbm__class_weight=balanced, model_lgbm__max_depth=15, model_lgbm__n_estimators=100;, score=0.753 total time=  58.2s\n",
      "[CV 3/5] END model_lgbm__class_weight=balanced, model_lgbm__max_depth=15, model_lgbm__n_estimators=100;, score=0.744 total time= 1.2min\n",
      "[CV 4/5] END model_lgbm__class_weight=balanced, model_lgbm__max_depth=15, model_lgbm__n_estimators=100;, score=0.736 total time= 1.2min\n",
      "[CV 5/5] END model_lgbm__class_weight=balanced, model_lgbm__max_depth=15, model_lgbm__n_estimators=100;, score=0.736 total time= 1.2min\n",
      "[CV 1/5] END model_lgbm__class_weight=balanced, model_lgbm__max_depth=15, model_lgbm__n_estimators=150;, score=0.761 total time= 1.7min\n",
      "[CV 2/5] END model_lgbm__class_weight=balanced, model_lgbm__max_depth=15, model_lgbm__n_estimators=150;, score=0.758 total time= 1.4min\n",
      "[CV 3/5] END model_lgbm__class_weight=balanced, model_lgbm__max_depth=15, model_lgbm__n_estimators=150;, score=0.751 total time= 1.5min\n",
      "[CV 4/5] END model_lgbm__class_weight=balanced, model_lgbm__max_depth=15, model_lgbm__n_estimators=150;, score=0.744 total time= 1.4min\n",
      "[CV 5/5] END model_lgbm__class_weight=balanced, model_lgbm__max_depth=15, model_lgbm__n_estimators=150;, score=0.746 total time= 1.4min\n",
      "{'model_lgbm__class_weight': 'balanced', 'model_lgbm__max_depth': 15, 'model_lgbm__n_estimators': 150}\n",
      "0.751916035012743\n"
     ]
    }
   ],
   "source": [
    "pipeline_lgbm = Pipeline([\n",
    "           ('vect_lgbm', TfidfVectorizer()),\n",
    "           ('model_lgbm', LGBMClassifier(random_state=12345)),\n",
    "])\n",
    "dict_classes={0:1, 1:class_ratio}\n",
    "param_grid_lgbm = [{'model_lgbm__n_estimators': [100, 150],\n",
    "                    'model_lgbm__max_depth': [10, 15],\n",
    "                    'model_lgbm__class_weight' : ['balanced']}]\n",
    "\n",
    "grid_lgbm = GridSearchCV (pipeline_lgbm, param_grid_lgbm, scoring='f1', verbose = 3)\n",
    "grid_lgbm.fit(features_train, target_train)\n",
    "\n",
    "print(grid_lgbm.best_params_)\n",
    "print(grid_lgbm.best_score_)               "
   ]
  },
  {
   "cell_type": "markdown",
   "metadata": {
    "id": "RPGAu1mdbCTz"
   },
   "source": [
    " #### Выберем  лучшую модель по результатам кросс валидации."
   ]
  },
  {
   "cell_type": "code",
   "execution_count": 19,
   "metadata": {
    "colab": {
     "base_uri": "https://localhost:8080/",
     "height": 143
    },
    "executionInfo": {
     "elapsed": 5,
     "status": "ok",
     "timestamp": 1683688268430,
     "user": {
      "displayName": "Дмитрий Александров",
      "userId": "16727890091467267660"
     },
     "user_tz": -420
    },
    "id": "ZYyAzNiJmdpj",
    "outputId": "3769aa28-49da-4449-db1f-80d6e7c256f3"
   },
   "outputs": [
    {
     "data": {
      "text/html": [
       "\n",
       "  <div id=\"df-a7e2a479-5b84-4664-81e6-8a424ecd551c\">\n",
       "    <div class=\"colab-df-container\">\n",
       "      <div>\n",
       "<style scoped>\n",
       "    .dataframe tbody tr th:only-of-type {\n",
       "        vertical-align: middle;\n",
       "    }\n",
       "\n",
       "    .dataframe tbody tr th {\n",
       "        vertical-align: top;\n",
       "    }\n",
       "\n",
       "    .dataframe thead th {\n",
       "        text-align: right;\n",
       "    }\n",
       "</style>\n",
       "<table border=\"1\" class=\"dataframe\">\n",
       "  <thead>\n",
       "    <tr style=\"text-align: right;\">\n",
       "      <th></th>\n",
       "      <th>F1</th>\n",
       "    </tr>\n",
       "  </thead>\n",
       "  <tbody>\n",
       "    <tr>\n",
       "      <th>LR</th>\n",
       "      <td>0.761692</td>\n",
       "    </tr>\n",
       "    <tr>\n",
       "      <th>DecisionTrees</th>\n",
       "      <td>0.570482</td>\n",
       "    </tr>\n",
       "    <tr>\n",
       "      <th>LGBM</th>\n",
       "      <td>0.751916</td>\n",
       "    </tr>\n",
       "  </tbody>\n",
       "</table>\n",
       "</div>\n",
       "      <button class=\"colab-df-convert\" onclick=\"convertToInteractive('df-a7e2a479-5b84-4664-81e6-8a424ecd551c')\"\n",
       "              title=\"Convert this dataframe to an interactive table.\"\n",
       "              style=\"display:none;\">\n",
       "        \n",
       "  <svg xmlns=\"http://www.w3.org/2000/svg\" height=\"24px\"viewBox=\"0 0 24 24\"\n",
       "       width=\"24px\">\n",
       "    <path d=\"M0 0h24v24H0V0z\" fill=\"none\"/>\n",
       "    <path d=\"M18.56 5.44l.94 2.06.94-2.06 2.06-.94-2.06-.94-.94-2.06-.94 2.06-2.06.94zm-11 1L8.5 8.5l.94-2.06 2.06-.94-2.06-.94L8.5 2.5l-.94 2.06-2.06.94zm10 10l.94 2.06.94-2.06 2.06-.94-2.06-.94-.94-2.06-.94 2.06-2.06.94z\"/><path d=\"M17.41 7.96l-1.37-1.37c-.4-.4-.92-.59-1.43-.59-.52 0-1.04.2-1.43.59L10.3 9.45l-7.72 7.72c-.78.78-.78 2.05 0 2.83L4 21.41c.39.39.9.59 1.41.59.51 0 1.02-.2 1.41-.59l7.78-7.78 2.81-2.81c.8-.78.8-2.07 0-2.86zM5.41 20L4 18.59l7.72-7.72 1.47 1.35L5.41 20z\"/>\n",
       "  </svg>\n",
       "      </button>\n",
       "      \n",
       "  <style>\n",
       "    .colab-df-container {\n",
       "      display:flex;\n",
       "      flex-wrap:wrap;\n",
       "      gap: 12px;\n",
       "    }\n",
       "\n",
       "    .colab-df-convert {\n",
       "      background-color: #E8F0FE;\n",
       "      border: none;\n",
       "      border-radius: 50%;\n",
       "      cursor: pointer;\n",
       "      display: none;\n",
       "      fill: #1967D2;\n",
       "      height: 32px;\n",
       "      padding: 0 0 0 0;\n",
       "      width: 32px;\n",
       "    }\n",
       "\n",
       "    .colab-df-convert:hover {\n",
       "      background-color: #E2EBFA;\n",
       "      box-shadow: 0px 1px 2px rgba(60, 64, 67, 0.3), 0px 1px 3px 1px rgba(60, 64, 67, 0.15);\n",
       "      fill: #174EA6;\n",
       "    }\n",
       "\n",
       "    [theme=dark] .colab-df-convert {\n",
       "      background-color: #3B4455;\n",
       "      fill: #D2E3FC;\n",
       "    }\n",
       "\n",
       "    [theme=dark] .colab-df-convert:hover {\n",
       "      background-color: #434B5C;\n",
       "      box-shadow: 0px 1px 3px 1px rgba(0, 0, 0, 0.15);\n",
       "      filter: drop-shadow(0px 1px 2px rgba(0, 0, 0, 0.3));\n",
       "      fill: #FFFFFF;\n",
       "    }\n",
       "  </style>\n",
       "\n",
       "      <script>\n",
       "        const buttonEl =\n",
       "          document.querySelector('#df-a7e2a479-5b84-4664-81e6-8a424ecd551c button.colab-df-convert');\n",
       "        buttonEl.style.display =\n",
       "          google.colab.kernel.accessAllowed ? 'block' : 'none';\n",
       "\n",
       "        async function convertToInteractive(key) {\n",
       "          const element = document.querySelector('#df-a7e2a479-5b84-4664-81e6-8a424ecd551c');\n",
       "          const dataTable =\n",
       "            await google.colab.kernel.invokeFunction('convertToInteractive',\n",
       "                                                     [key], {});\n",
       "          if (!dataTable) return;\n",
       "\n",
       "          const docLinkHtml = 'Like what you see? Visit the ' +\n",
       "            '<a target=\"_blank\" href=https://colab.research.google.com/notebooks/data_table.ipynb>data table notebook</a>'\n",
       "            + ' to learn more about interactive tables.';\n",
       "          element.innerHTML = '';\n",
       "          dataTable['output_type'] = 'display_data';\n",
       "          await google.colab.output.renderOutput(dataTable, element);\n",
       "          const docLink = document.createElement('div');\n",
       "          docLink.innerHTML = docLinkHtml;\n",
       "          element.appendChild(docLink);\n",
       "        }\n",
       "      </script>\n",
       "    </div>\n",
       "  </div>\n",
       "  "
      ],
      "text/plain": [
       "                     F1\n",
       "LR             0.761692\n",
       "DecisionTrees  0.570482\n",
       "LGBM           0.751916"
      ]
     },
     "metadata": {},
     "output_type": "display_data"
    }
   ],
   "source": [
    "table = pd.DataFrame([grid_LR.best_score_, grid_DT.best_score_, grid_lgbm .best_score_], \n",
    "             columns=['F1'], \n",
    "             index=['LR','DecisionTrees','LGBM' ])\n",
    "display(table)"
   ]
  },
  {
   "cell_type": "markdown",
   "metadata": {
    "id": "LX9WlEBzqkXz"
   },
   "source": [
    "### Из итоговой таблицы можно сделать вывод, что  лучшая модель - это Линейная регрессия. Проведем тестирование и посчитаем метрику F1 для нашей лучшей модели на  тестовой выборке."
   ]
  },
  {
   "cell_type": "code",
   "execution_count": 20,
   "metadata": {
    "colab": {
     "base_uri": "https://localhost:8080/"
    },
    "executionInfo": {
     "elapsed": 1435,
     "status": "ok",
     "timestamp": 1683688801038,
     "user": {
      "displayName": "Дмитрий Александров",
      "userId": "16727890091467267660"
     },
     "user_tz": -420
    },
    "id": "qPzG4OwfjNsM",
    "outputId": "875f5c2e-3c2c-4629-98db-6c8b777847c1"
   },
   "outputs": [
    {
     "name": "stdout",
     "output_type": "stream",
     "text": [
      "F1 модели LR на  тестовой выборке 0.7732193732193732\n"
     ]
    }
   ],
   "source": [
    "predict = grid_LR.predict(features_test)\n",
    "print('F1 модели LR на  тестовой выборке', f1_score(target_test, predict))"
   ]
  },
  {
   "cell_type": "markdown",
   "metadata": {
    "id": "S1AgjCgsnNqS"
   },
   "source": [
    "## Выводы"
   ]
  },
  {
   "cell_type": "markdown",
   "metadata": {
    "id": "JQJfiy-WrZqE"
   },
   "source": [
    "###  Мы построили модель способную классифицировать комментарии на позитивные и негативные.  Значение метрики F1 на тестовой выборке нашей  модели  не превышает 75."
   ]
  },
  {
   "cell_type": "markdown",
   "metadata": {},
   "source": [
    "### В ходе работы над проектом было сделано:\n",
    "\n",
    "1. Загружены и изучены данные 159292 записей с размеченными комментариями пользователей интернет-магазин «Викишоп». Установлено, что доля токсичных комментариев в общем объеме данных - 10%.\n",
    "2. Произведена обработка текста комментрариев с ипользованием библиотеки SpaCy: очистка текста от неалфавитных символов, лемматизация и удаление стоп-слов. Для векторизации текста использовался метод TF-IDF.\n",
    "3. Созданы и обучены модели: Linear regression, DecisionTreeClassifier и LightGBM. Модели обучались с учетом дисбаланса классов и с использованием метрики качества F1.\n",
    "4. По реультатам кросс-валидации на обучающей выборке лучшие результаты показала  модель Linear regression. Значение метрики F1 равно 0.76. Значение метрики F1 для модели LGBM равно 0.75.\n",
    "5. Значение метрики F1 для модели Linear regression на тестовой выборке составляет 0.77. Таким образом  мы построили модель   способную классифицировать комментарии на позитивные и негативные со значением метрики качества F1 не меньше 0.75."
   ]
  },
  {
   "cell_type": "code",
   "execution_count": null,
   "metadata": {
    "id": "Zpmu2Wj0sQzE"
   },
   "outputs": [],
   "source": []
  }
 ],
 "metadata": {
  "colab": {
   "provenance": [
    {
     "file_id": "1fLJkxHocVIrxSB1bBW6d_R-pkyCQQMxT",
     "timestamp": 1683641776592
    }
   ]
  },
  "kernelspec": {
   "display_name": "Python 3 (ipykernel)",
   "language": "python",
   "name": "python3"
  },
  "language_info": {
   "codemirror_mode": {
    "name": "ipython",
    "version": 3
   },
   "file_extension": ".py",
   "mimetype": "text/x-python",
   "name": "python",
   "nbconvert_exporter": "python",
   "pygments_lexer": "ipython3",
   "version": "3.9.13"
  },
  "toc": {
   "base_numbering": 1,
   "nav_menu": {},
   "number_sections": true,
   "sideBar": true,
   "skip_h1_title": true,
   "title_cell": "Содержание",
   "title_sidebar": "Contents",
   "toc_cell": true,
   "toc_position": {
    "height": "calc(100% - 180px)",
    "left": "10px",
    "top": "150px",
    "width": "302.391px"
   },
   "toc_section_display": true,
   "toc_window_display": false
  }
 },
 "nbformat": 4,
 "nbformat_minor": 1
}

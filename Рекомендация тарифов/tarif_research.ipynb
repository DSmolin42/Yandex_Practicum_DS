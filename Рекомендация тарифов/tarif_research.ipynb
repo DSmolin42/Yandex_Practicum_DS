{
 "cells": [
  {
   "cell_type": "markdown",
   "metadata": {},
   "source": [
    "# Рекомендация тарифов"
   ]
  },
  {
   "cell_type": "markdown",
   "metadata": {},
   "source": [
    "В вашем распоряжении данные о поведении клиентов, которые уже перешли на эти тарифы (из проекта курса «Статистический анализ данных»). Нужно построить модель для задачи классификации, которая выберет подходящий тариф. Предобработка данных не понадобится — вы её уже сделали.\n",
    "\n",
    "Постройте модель с максимально большим значением *accuracy*. Чтобы сдать проект успешно, нужно довести долю правильных ответов по крайней мере до 0.75. Проверьте *accuracy* на тестовой выборке самостоятельно."
   ]
  },
  {
   "cell_type": "markdown",
   "metadata": {},
   "source": [
    "## Откроем и изучим файл"
   ]
  },
  {
   "cell_type": "code",
   "execution_count": 1,
   "metadata": {},
   "outputs": [],
   "source": [
    "# импортируем библиотеки \n",
    "import pandas as pd\n",
    "from sklearn.tree import DecisionTreeClassifier\n",
    "from sklearn.ensemble import RandomForestClassifier\n",
    "from sklearn.linear_model import LogisticRegression\n",
    "from sklearn.metrics import accuracy_score\n",
    "from sklearn.model_selection import train_test_split"
   ]
  },
  {
   "cell_type": "code",
   "execution_count": 2,
   "metadata": {},
   "outputs": [],
   "source": [
    "df = pd.read_csv('/datasets/users_behavior.csv')"
   ]
  },
  {
   "cell_type": "code",
   "execution_count": 3,
   "metadata": {},
   "outputs": [
    {
     "data": {
      "text/html": [
       "<div>\n",
       "<style scoped>\n",
       "    .dataframe tbody tr th:only-of-type {\n",
       "        vertical-align: middle;\n",
       "    }\n",
       "\n",
       "    .dataframe tbody tr th {\n",
       "        vertical-align: top;\n",
       "    }\n",
       "\n",
       "    .dataframe thead th {\n",
       "        text-align: right;\n",
       "    }\n",
       "</style>\n",
       "<table border=\"1\" class=\"dataframe\">\n",
       "  <thead>\n",
       "    <tr style=\"text-align: right;\">\n",
       "      <th></th>\n",
       "      <th>calls</th>\n",
       "      <th>minutes</th>\n",
       "      <th>messages</th>\n",
       "      <th>mb_used</th>\n",
       "      <th>is_ultra</th>\n",
       "    </tr>\n",
       "  </thead>\n",
       "  <tbody>\n",
       "    <tr>\n",
       "      <th>0</th>\n",
       "      <td>40.0</td>\n",
       "      <td>311.90</td>\n",
       "      <td>83.0</td>\n",
       "      <td>19915.42</td>\n",
       "      <td>0</td>\n",
       "    </tr>\n",
       "    <tr>\n",
       "      <th>1</th>\n",
       "      <td>85.0</td>\n",
       "      <td>516.75</td>\n",
       "      <td>56.0</td>\n",
       "      <td>22696.96</td>\n",
       "      <td>0</td>\n",
       "    </tr>\n",
       "    <tr>\n",
       "      <th>2</th>\n",
       "      <td>77.0</td>\n",
       "      <td>467.66</td>\n",
       "      <td>86.0</td>\n",
       "      <td>21060.45</td>\n",
       "      <td>0</td>\n",
       "    </tr>\n",
       "    <tr>\n",
       "      <th>3</th>\n",
       "      <td>106.0</td>\n",
       "      <td>745.53</td>\n",
       "      <td>81.0</td>\n",
       "      <td>8437.39</td>\n",
       "      <td>1</td>\n",
       "    </tr>\n",
       "    <tr>\n",
       "      <th>4</th>\n",
       "      <td>66.0</td>\n",
       "      <td>418.74</td>\n",
       "      <td>1.0</td>\n",
       "      <td>14502.75</td>\n",
       "      <td>0</td>\n",
       "    </tr>\n",
       "  </tbody>\n",
       "</table>\n",
       "</div>"
      ],
      "text/plain": [
       "   calls  minutes  messages   mb_used  is_ultra\n",
       "0   40.0   311.90      83.0  19915.42         0\n",
       "1   85.0   516.75      56.0  22696.96         0\n",
       "2   77.0   467.66      86.0  21060.45         0\n",
       "3  106.0   745.53      81.0   8437.39         1\n",
       "4   66.0   418.74       1.0  14502.75         0"
      ]
     },
     "execution_count": 3,
     "metadata": {},
     "output_type": "execute_result"
    }
   ],
   "source": [
    "df.head()"
   ]
  },
  {
   "cell_type": "code",
   "execution_count": 4,
   "metadata": {},
   "outputs": [
    {
     "data": {
      "text/plain": [
       "(3214, 5)"
      ]
     },
     "execution_count": 4,
     "metadata": {},
     "output_type": "execute_result"
    }
   ],
   "source": [
    "df.shape"
   ]
  },
  {
   "cell_type": "code",
   "execution_count": 5,
   "metadata": {},
   "outputs": [
    {
     "data": {
      "text/plain": [
       "calls       0\n",
       "minutes     0\n",
       "messages    0\n",
       "mb_used     0\n",
       "is_ultra    0\n",
       "dtype: int64"
      ]
     },
     "execution_count": 5,
     "metadata": {},
     "output_type": "execute_result"
    }
   ],
   "source": [
    "# пропущенные значения\n",
    "df.isna().sum()"
   ]
  },
  {
   "cell_type": "code",
   "execution_count": 6,
   "metadata": {},
   "outputs": [
    {
     "data": {
      "text/plain": [
       "0"
      ]
     },
     "execution_count": 6,
     "metadata": {},
     "output_type": "execute_result"
    }
   ],
   "source": [
    "# дубликаты\n",
    "df.duplicated().sum()"
   ]
  },
  {
   "cell_type": "code",
   "execution_count": 7,
   "metadata": {},
   "outputs": [
    {
     "name": "stdout",
     "output_type": "stream",
     "text": [
      "<class 'pandas.core.frame.DataFrame'>\n",
      "RangeIndex: 3214 entries, 0 to 3213\n",
      "Data columns (total 5 columns):\n",
      " #   Column    Non-Null Count  Dtype  \n",
      "---  ------    --------------  -----  \n",
      " 0   calls     3214 non-null   float64\n",
      " 1   minutes   3214 non-null   float64\n",
      " 2   messages  3214 non-null   float64\n",
      " 3   mb_used   3214 non-null   float64\n",
      " 4   is_ultra  3214 non-null   int64  \n",
      "dtypes: float64(4), int64(1)\n",
      "memory usage: 125.7 KB\n"
     ]
    }
   ],
   "source": [
    "df.info()"
   ]
  },
  {
   "cell_type": "code",
   "execution_count": 8,
   "metadata": {},
   "outputs": [
    {
     "data": {
      "text/html": [
       "<div>\n",
       "<style scoped>\n",
       "    .dataframe tbody tr th:only-of-type {\n",
       "        vertical-align: middle;\n",
       "    }\n",
       "\n",
       "    .dataframe tbody tr th {\n",
       "        vertical-align: top;\n",
       "    }\n",
       "\n",
       "    .dataframe thead th {\n",
       "        text-align: right;\n",
       "    }\n",
       "</style>\n",
       "<table border=\"1\" class=\"dataframe\">\n",
       "  <thead>\n",
       "    <tr style=\"text-align: right;\">\n",
       "      <th></th>\n",
       "      <th>calls</th>\n",
       "      <th>minutes</th>\n",
       "      <th>messages</th>\n",
       "      <th>mb_used</th>\n",
       "      <th>is_ultra</th>\n",
       "    </tr>\n",
       "  </thead>\n",
       "  <tbody>\n",
       "    <tr>\n",
       "      <th>count</th>\n",
       "      <td>3214.000000</td>\n",
       "      <td>3214.000000</td>\n",
       "      <td>3214.000000</td>\n",
       "      <td>3214.000000</td>\n",
       "      <td>3214.000000</td>\n",
       "    </tr>\n",
       "    <tr>\n",
       "      <th>mean</th>\n",
       "      <td>63.038892</td>\n",
       "      <td>438.208787</td>\n",
       "      <td>38.281269</td>\n",
       "      <td>17207.673836</td>\n",
       "      <td>0.306472</td>\n",
       "    </tr>\n",
       "    <tr>\n",
       "      <th>std</th>\n",
       "      <td>33.236368</td>\n",
       "      <td>234.569872</td>\n",
       "      <td>36.148326</td>\n",
       "      <td>7570.968246</td>\n",
       "      <td>0.461100</td>\n",
       "    </tr>\n",
       "    <tr>\n",
       "      <th>min</th>\n",
       "      <td>0.000000</td>\n",
       "      <td>0.000000</td>\n",
       "      <td>0.000000</td>\n",
       "      <td>0.000000</td>\n",
       "      <td>0.000000</td>\n",
       "    </tr>\n",
       "    <tr>\n",
       "      <th>25%</th>\n",
       "      <td>40.000000</td>\n",
       "      <td>274.575000</td>\n",
       "      <td>9.000000</td>\n",
       "      <td>12491.902500</td>\n",
       "      <td>0.000000</td>\n",
       "    </tr>\n",
       "    <tr>\n",
       "      <th>50%</th>\n",
       "      <td>62.000000</td>\n",
       "      <td>430.600000</td>\n",
       "      <td>30.000000</td>\n",
       "      <td>16943.235000</td>\n",
       "      <td>0.000000</td>\n",
       "    </tr>\n",
       "    <tr>\n",
       "      <th>75%</th>\n",
       "      <td>82.000000</td>\n",
       "      <td>571.927500</td>\n",
       "      <td>57.000000</td>\n",
       "      <td>21424.700000</td>\n",
       "      <td>1.000000</td>\n",
       "    </tr>\n",
       "    <tr>\n",
       "      <th>max</th>\n",
       "      <td>244.000000</td>\n",
       "      <td>1632.060000</td>\n",
       "      <td>224.000000</td>\n",
       "      <td>49745.730000</td>\n",
       "      <td>1.000000</td>\n",
       "    </tr>\n",
       "  </tbody>\n",
       "</table>\n",
       "</div>"
      ],
      "text/plain": [
       "             calls      minutes     messages       mb_used     is_ultra\n",
       "count  3214.000000  3214.000000  3214.000000   3214.000000  3214.000000\n",
       "mean     63.038892   438.208787    38.281269  17207.673836     0.306472\n",
       "std      33.236368   234.569872    36.148326   7570.968246     0.461100\n",
       "min       0.000000     0.000000     0.000000      0.000000     0.000000\n",
       "25%      40.000000   274.575000     9.000000  12491.902500     0.000000\n",
       "50%      62.000000   430.600000    30.000000  16943.235000     0.000000\n",
       "75%      82.000000   571.927500    57.000000  21424.700000     1.000000\n",
       "max     244.000000  1632.060000   224.000000  49745.730000     1.000000"
      ]
     },
     "execution_count": 8,
     "metadata": {},
     "output_type": "execute_result"
    }
   ],
   "source": [
    "df.describe()"
   ]
  },
  {
   "cell_type": "markdown",
   "metadata": {},
   "source": [
    "####  Датафрейм содержит данные  о поведении  3214 клиентов, поведение каждого клиента  описывается 5 параметрами. Имена столбцов заданы корректно, типы данных в столбцах в порядке. Дубликатов строк и пропущенных значений в столбцах нет."
   ]
  },
  {
   "cell_type": "markdown",
   "metadata": {},
   "source": [
    "## Разобьем данные на выборки"
   ]
  },
  {
   "cell_type": "code",
   "execution_count": 9,
   "metadata": {},
   "outputs": [],
   "source": [
    "# 60% - обучающая выборка, 40% - валидационная + тестовая \n",
    "df_train, df_valid_test = train_test_split(df, test_size=0.4, random_state=12345)\n",
    "# матрица исходных данных и целевой столбец для обучайющей выборки\n",
    "features_train = df_train.drop('is_ultra', axis=1) \n",
    "target_train = df_train['is_ultra'] \n",
    "# матрица исходных данных и целевой столбец для валидационной + тестовой выборки\n",
    "features_valid_test = df_valid_test.drop('is_ultra', axis=1) \n",
    "target_valid_test = df_valid_test['is_ultra']\n",
    "# разделим на тестовую и валидационную\n",
    "features_valid, features_test, target_valid, target_test = train_test_split(features_valid_test, target_valid_test,\n",
    "                                                                            test_size=0.5, random_state=12345)"
   ]
  },
  {
   "cell_type": "markdown",
   "metadata": {},
   "source": [
    "#### Разбили данные на обучающую (60%),валидационную (20%) и тестовою (20%) выборки. Разделили  каждую  выборку на  матрицу исходных данных и целевую переменную.\n",
    "* features_train, target_train - обучающая выборка \n",
    "* features_valid, target_valid - валидационная выборка \n",
    "* features_test, target_test - тестовая выборка "
   ]
  },
  {
   "cell_type": "markdown",
   "metadata": {},
   "source": [
    "## Исследуем модели"
   ]
  },
  {
   "cell_type": "markdown",
   "metadata": {},
   "source": [
    "###  Метод Decision Tree"
   ]
  },
  {
   "cell_type": "code",
   "execution_count": 10,
   "metadata": {},
   "outputs": [
    {
     "name": "stdout",
     "output_type": "stream",
     "text": [
      "Глубина дерева: 3  Accuracy лучшей модели: 0.7853810264385692\n"
     ]
    }
   ],
   "source": [
    "best_model_DT = None\n",
    "best_result_DT = 0\n",
    "for depth in range(1, 26):\n",
    "    model = DecisionTreeClassifier(random_state=12345, max_depth= depth) # обучение модели с заданной глубиной дерева\n",
    "    model.fit(features_train, target_train) # обучение модели\n",
    "    result = model.score(features_valid, target_valid)\n",
    "    if result > best_result_DT:\n",
    "        best_model_DT = model\n",
    "        best_result_DT = result\n",
    "        best_depth_DT = depth\n",
    "        \n",
    "print(\"Глубина дерева:\", best_depth_DT, \" Accuracy лучшей модели:\", best_result_DT)\n",
    "    "
   ]
  },
  {
   "cell_type": "markdown",
   "metadata": {},
   "source": [
    "### Метод Random Forest"
   ]
  },
  {
   "cell_type": "code",
   "execution_count": 11,
   "metadata": {},
   "outputs": [
    {
     "name": "stdout",
     "output_type": "stream",
     "text": [
      "Количество деревьев: 40  Глубина дерева: 8  Accuracy лучшей модели: 0.8087091757387247\n"
     ]
    }
   ],
   "source": [
    "best_model_RF = None\n",
    "best_result_RF = 0\n",
    "for est in range(5,50,5):\n",
    "    for depth in range(1, 10):\n",
    "        model = RandomForestClassifier(random_state=12345, n_estimators=est, max_depth=depth)\n",
    "        model.fit(features_train, target_train)\n",
    "        result = model.score(features_valid, target_valid)\n",
    "        if result > best_result_RF:\n",
    "            best_model_RF = model\n",
    "            best_result_RF = result\n",
    "            best_est_RF = est\n",
    "            best_depth_RF = depth\n",
    "        \n",
    "print(\"Количество деревьев:\", best_est_RF, \" Глубина дерева:\", best_depth_RF, \" Accuracy лучшей модели:\", best_result_RF)               "
   ]
  },
  {
   "cell_type": "markdown",
   "metadata": {},
   "source": [
    "### Метод Logistic Regression"
   ]
  },
  {
   "cell_type": "code",
   "execution_count": 12,
   "metadata": {},
   "outputs": [
    {
     "name": "stdout",
     "output_type": "stream",
     "text": [
      "Accuracy: 0.7107309486780715\n"
     ]
    }
   ],
   "source": [
    "model_LR = LogisticRegression(random_state=12345, solver='lbfgs', max_iter=1000)\n",
    "model_LR.fit(features_train, target_train)\n",
    "accuracy_LR = model_LR.score(features_valid, target_valid)\n",
    "print(\"Accuracy:\", accuracy_LR)"
   ]
  },
  {
   "cell_type": "markdown",
   "metadata": {},
   "source": [
    "#### На валидациооной выборке  наилучший прогноз дает Random Forest,  согласно показателя Accuracy. "
   ]
  },
  {
   "cell_type": "markdown",
   "metadata": {},
   "source": [
    "## Проверим модель на тестовой выборке"
   ]
  },
  {
   "cell_type": "code",
   "execution_count": 13,
   "metadata": {},
   "outputs": [
    {
     "name": "stdout",
     "output_type": "stream",
     "text": [
      "Accuracy Random Forest: 0.7962674961119751\n"
     ]
    }
   ],
   "source": [
    "print(\"Accuracy Random Forest:\", best_model_RF.score(features_test, target_test))"
   ]
  },
  {
   "cell_type": "markdown",
   "metadata": {},
   "source": [
    "#### На тестовой выборке наша модель Random Forest показывает точность 0.796,  достигается при использовании  гиперпараметрамов max_depth=8 , n_estimators=40"
   ]
  },
  {
   "cell_type": "markdown",
   "metadata": {},
   "source": [
    "## Проверим модели на адекватность"
   ]
  },
  {
   "cell_type": "markdown",
   "metadata": {},
   "source": [
    "### Посчитаем фактическую долю клиентов использующих тариф Ультра и сравним с предсказаниями наших моделей. Исследования проведем на тестовой выборке."
   ]
  },
  {
   "cell_type": "code",
   "execution_count": 14,
   "metadata": {},
   "outputs": [
    {
     "name": "stdout",
     "output_type": "stream",
     "text": [
      "Фактическая доля клиентов: 0.3157076205287714\n",
      "Предсказания Logistic Regressionis: 0.024883359253499222\n",
      "Предсказания Decision Tree: 0.19440124416796267\n",
      "Предсказания Random Forest: 0.223950233281493\n"
     ]
    }
   ],
   "source": [
    "is_ultra_fact = pd.Series(target_test).mean() # фактическая доля клиентов\n",
    "print(\"Фактическая доля клиентов:\",is_ultra_fact)\n",
    "is_ultra_LR = model_LR.predict(features_test).mean()\n",
    "print(\"Предсказания Logistic Regressionis:\",is_ultra_LR)\n",
    "is_ultra_DT = best_model_DT.predict(features_test).mean()\n",
    "print(\"Предсказания Decision Tree:\", is_ultra_DT)\n",
    "is_ultra_RF = best_model_RF.predict(features_test).mean()\n",
    "print(\"Предсказания Random Forest:\",is_ultra_RF)"
   ]
  },
  {
   "cell_type": "markdown",
   "metadata": {},
   "source": [
    "#### Наилучшие предсказания по доли клиентов использующих тариф Ультра дает модель Random Forest. Предсказания модели Logistic Regressionis значительно отличаются от фактического значения. Модель Logistic Regressionis нельзя назвать адекватной.  \n"
   ]
  }
 ],
 "metadata": {
  "ExecuteTimeLog": [
   {
    "duration": 57,
    "start_time": "2023-02-02T06:54:12.446Z"
   },
   {
    "duration": 1270,
    "start_time": "2023-02-02T06:54:15.026Z"
   },
   {
    "duration": 124,
    "start_time": "2023-02-02T06:54:18.119Z"
   },
   {
    "duration": 14,
    "start_time": "2023-02-02T06:54:48.802Z"
   },
   {
    "duration": 17,
    "start_time": "2023-02-02T06:55:29.669Z"
   },
   {
    "duration": 6,
    "start_time": "2023-02-02T06:57:53.805Z"
   },
   {
    "duration": 14,
    "start_time": "2023-02-02T06:58:26.332Z"
   },
   {
    "duration": 5,
    "start_time": "2023-02-02T06:59:07.096Z"
   },
   {
    "duration": 11,
    "start_time": "2023-02-02T06:59:36.727Z"
   },
   {
    "duration": 7,
    "start_time": "2023-02-02T07:02:57.315Z"
   },
   {
    "duration": 25,
    "start_time": "2023-02-02T07:06:51.651Z"
   },
   {
    "duration": 73,
    "start_time": "2023-02-02T09:25:14.263Z"
   },
   {
    "duration": 9,
    "start_time": "2023-02-02T09:25:18.017Z"
   },
   {
    "duration": 11,
    "start_time": "2023-02-02T09:25:22.709Z"
   },
   {
    "duration": 9,
    "start_time": "2023-02-02T09:31:50.962Z"
   },
   {
    "duration": 245,
    "start_time": "2023-02-02T09:31:55.355Z"
   },
   {
    "duration": 247,
    "start_time": "2023-02-02T09:35:13.526Z"
   },
   {
    "duration": 245,
    "start_time": "2023-02-02T09:35:19.367Z"
   },
   {
    "duration": 252,
    "start_time": "2023-02-02T09:35:30.619Z"
   },
   {
    "duration": 256,
    "start_time": "2023-02-02T09:36:52.579Z"
   },
   {
    "duration": 258,
    "start_time": "2023-02-02T09:38:14.071Z"
   },
   {
    "duration": 243,
    "start_time": "2023-02-02T09:38:30.807Z"
   },
   {
    "duration": 1159,
    "start_time": "2023-02-02T09:59:40.147Z"
   },
   {
    "duration": 30,
    "start_time": "2023-02-02T09:59:41.308Z"
   },
   {
    "duration": 17,
    "start_time": "2023-02-02T09:59:41.340Z"
   },
   {
    "duration": 4,
    "start_time": "2023-02-02T09:59:41.358Z"
   },
   {
    "duration": 7,
    "start_time": "2023-02-02T09:59:41.364Z"
   },
   {
    "duration": 9,
    "start_time": "2023-02-02T09:59:41.373Z"
   },
   {
    "duration": 11,
    "start_time": "2023-02-02T09:59:41.384Z"
   },
   {
    "duration": 42,
    "start_time": "2023-02-02T09:59:41.397Z"
   },
   {
    "duration": 10,
    "start_time": "2023-02-02T09:59:41.441Z"
   },
   {
    "duration": 250,
    "start_time": "2023-02-02T09:59:41.453Z"
   },
   {
    "duration": 1205,
    "start_time": "2023-02-02T10:01:48.212Z"
   },
   {
    "duration": 31,
    "start_time": "2023-02-02T10:01:49.419Z"
   },
   {
    "duration": 21,
    "start_time": "2023-02-02T10:01:49.452Z"
   },
   {
    "duration": 20,
    "start_time": "2023-02-02T10:01:49.475Z"
   },
   {
    "duration": 19,
    "start_time": "2023-02-02T10:01:49.498Z"
   },
   {
    "duration": 22,
    "start_time": "2023-02-02T10:01:49.519Z"
   },
   {
    "duration": 30,
    "start_time": "2023-02-02T10:01:49.543Z"
   },
   {
    "duration": 43,
    "start_time": "2023-02-02T10:01:49.574Z"
   },
   {
    "duration": 10,
    "start_time": "2023-02-02T10:01:49.619Z"
   },
   {
    "duration": 269,
    "start_time": "2023-02-02T10:01:49.630Z"
   },
   {
    "duration": 1214,
    "start_time": "2023-02-02T10:03:20.330Z"
   },
   {
    "duration": 29,
    "start_time": "2023-02-02T10:03:21.547Z"
   },
   {
    "duration": 18,
    "start_time": "2023-02-02T10:03:21.578Z"
   },
   {
    "duration": 5,
    "start_time": "2023-02-02T10:03:21.597Z"
   },
   {
    "duration": 7,
    "start_time": "2023-02-02T10:03:21.604Z"
   },
   {
    "duration": 12,
    "start_time": "2023-02-02T10:03:21.613Z"
   },
   {
    "duration": 13,
    "start_time": "2023-02-02T10:03:21.627Z"
   },
   {
    "duration": 28,
    "start_time": "2023-02-02T10:03:21.642Z"
   },
   {
    "duration": 8,
    "start_time": "2023-02-02T10:03:21.672Z"
   },
   {
    "duration": 255,
    "start_time": "2023-02-02T10:03:21.682Z"
   },
   {
    "duration": 161,
    "start_time": "2023-02-02T10:03:21.939Z"
   },
   {
    "duration": 72,
    "start_time": "2023-02-02T10:07:38.664Z"
   },
   {
    "duration": 5366,
    "start_time": "2023-02-02T10:07:54.794Z"
   },
   {
    "duration": 133,
    "start_time": "2023-02-02T10:16:30.382Z"
   },
   {
    "duration": 28,
    "start_time": "2023-02-02T10:16:40.354Z"
   },
   {
    "duration": 36,
    "start_time": "2023-02-02T10:19:04.666Z"
   },
   {
    "duration": 26,
    "start_time": "2023-02-02T10:32:43.164Z"
   },
   {
    "duration": 30,
    "start_time": "2023-02-02T10:36:03.541Z"
   },
   {
    "duration": 6,
    "start_time": "2023-02-02T10:38:43.125Z"
   },
   {
    "duration": 19,
    "start_time": "2023-02-02T10:40:34.001Z"
   },
   {
    "duration": 39,
    "start_time": "2023-02-02T10:44:17.508Z"
   },
   {
    "duration": 36,
    "start_time": "2023-02-02T10:44:27.450Z"
   },
   {
    "duration": 29,
    "start_time": "2023-02-02T10:46:59.553Z"
   },
   {
    "duration": 38,
    "start_time": "2023-02-02T10:47:49.998Z"
   },
   {
    "duration": 33,
    "start_time": "2023-02-02T10:55:15.617Z"
   },
   {
    "duration": 28,
    "start_time": "2023-02-02T10:55:34.954Z"
   },
   {
    "duration": 36,
    "start_time": "2023-02-02T11:00:04.736Z"
   },
   {
    "duration": 35,
    "start_time": "2023-02-02T11:00:34.869Z"
   },
   {
    "duration": 7,
    "start_time": "2023-02-02T11:43:18.194Z"
   },
   {
    "duration": 5,
    "start_time": "2023-02-02T11:43:35.891Z"
   },
   {
    "duration": 6,
    "start_time": "2023-02-02T11:43:58.659Z"
   },
   {
    "duration": 6,
    "start_time": "2023-02-02T11:45:15.025Z"
   },
   {
    "duration": 6,
    "start_time": "2023-02-02T11:46:20.773Z"
   },
   {
    "duration": 5,
    "start_time": "2023-02-02T11:46:42.495Z"
   },
   {
    "duration": 19,
    "start_time": "2023-02-02T11:48:26.867Z"
   },
   {
    "duration": 6,
    "start_time": "2023-02-02T11:48:36.306Z"
   },
   {
    "duration": 56,
    "start_time": "2023-02-02T11:50:10.272Z"
   },
   {
    "duration": 52,
    "start_time": "2023-02-02T11:50:30.388Z"
   },
   {
    "duration": 26,
    "start_time": "2023-02-02T11:50:48.891Z"
   },
   {
    "duration": 22,
    "start_time": "2023-02-02T11:50:52.025Z"
   },
   {
    "duration": 6,
    "start_time": "2023-02-02T11:54:33.140Z"
   },
   {
    "duration": 1273,
    "start_time": "2023-02-02T12:02:31.695Z"
   },
   {
    "duration": 46,
    "start_time": "2023-02-02T12:02:32.970Z"
   },
   {
    "duration": 19,
    "start_time": "2023-02-02T12:02:33.017Z"
   },
   {
    "duration": 37,
    "start_time": "2023-02-02T12:02:33.037Z"
   },
   {
    "duration": 43,
    "start_time": "2023-02-02T12:02:33.077Z"
   },
   {
    "duration": 14,
    "start_time": "2023-02-02T12:02:33.122Z"
   },
   {
    "duration": 27,
    "start_time": "2023-02-02T12:02:33.138Z"
   },
   {
    "duration": 50,
    "start_time": "2023-02-02T12:02:33.167Z"
   },
   {
    "duration": 14,
    "start_time": "2023-02-02T12:02:33.218Z"
   },
   {
    "duration": 291,
    "start_time": "2023-02-02T12:02:33.234Z"
   },
   {
    "duration": 5548,
    "start_time": "2023-02-02T12:02:33.528Z"
   },
   {
    "duration": 26,
    "start_time": "2023-02-02T12:02:39.078Z"
   },
   {
    "duration": 31,
    "start_time": "2023-02-02T12:02:39.106Z"
   },
   {
    "duration": 7,
    "start_time": "2023-02-02T12:02:39.139Z"
   },
   {
    "duration": 5,
    "start_time": "2023-02-02T12:05:29.323Z"
   },
   {
    "duration": 26,
    "start_time": "2023-02-02T12:07:36.677Z"
   },
   {
    "duration": 26,
    "start_time": "2023-02-02T12:15:41.004Z"
   },
   {
    "duration": 29,
    "start_time": "2023-02-02T12:16:04.838Z"
   },
   {
    "duration": 27,
    "start_time": "2023-02-02T12:16:17.908Z"
   },
   {
    "duration": 25,
    "start_time": "2023-02-02T12:17:11.532Z"
   },
   {
    "duration": 27,
    "start_time": "2023-02-02T12:17:32.961Z"
   },
   {
    "duration": 25,
    "start_time": "2023-02-02T12:17:41.679Z"
   },
   {
    "duration": 25,
    "start_time": "2023-02-02T12:18:05.818Z"
   },
   {
    "duration": 42,
    "start_time": "2023-02-03T02:33:38.235Z"
   },
   {
    "duration": 1001,
    "start_time": "2023-02-03T02:33:51.475Z"
   },
   {
    "duration": 126,
    "start_time": "2023-02-03T02:33:52.477Z"
   },
   {
    "duration": 14,
    "start_time": "2023-02-03T02:33:52.605Z"
   },
   {
    "duration": 3,
    "start_time": "2023-02-03T02:33:52.620Z"
   },
   {
    "duration": 7,
    "start_time": "2023-02-03T02:33:52.625Z"
   },
   {
    "duration": 8,
    "start_time": "2023-02-03T02:33:52.633Z"
   },
   {
    "duration": 9,
    "start_time": "2023-02-03T02:33:52.642Z"
   },
   {
    "duration": 20,
    "start_time": "2023-02-03T02:33:52.653Z"
   },
   {
    "duration": 8,
    "start_time": "2023-02-03T02:33:52.674Z"
   },
   {
    "duration": 227,
    "start_time": "2023-02-03T02:33:52.683Z"
   },
   {
    "duration": 4489,
    "start_time": "2023-02-03T02:33:52.911Z"
   },
   {
    "duration": 34,
    "start_time": "2023-02-03T02:33:57.402Z"
   },
   {
    "duration": 13,
    "start_time": "2023-02-03T02:33:57.438Z"
   },
   {
    "duration": 4,
    "start_time": "2023-02-03T02:33:57.453Z"
   },
   {
    "duration": 5,
    "start_time": "2023-02-03T02:43:43.772Z"
   },
   {
    "duration": 86,
    "start_time": "2023-02-03T02:43:56.692Z"
   },
   {
    "duration": 4,
    "start_time": "2023-02-03T02:44:39.532Z"
   },
   {
    "duration": 5,
    "start_time": "2023-02-03T02:44:57.701Z"
   },
   {
    "duration": 14,
    "start_time": "2023-02-03T02:49:06.026Z"
   },
   {
    "duration": 10,
    "start_time": "2023-02-03T02:50:03.848Z"
   },
   {
    "duration": 5,
    "start_time": "2023-02-03T02:50:43.917Z"
   },
   {
    "duration": 6,
    "start_time": "2023-02-03T02:51:25.539Z"
   },
   {
    "duration": 9,
    "start_time": "2023-02-03T02:53:39.878Z"
   },
   {
    "duration": 13,
    "start_time": "2023-02-03T02:54:18.973Z"
   },
   {
    "duration": 22,
    "start_time": "2023-02-03T02:55:18.413Z"
   },
   {
    "duration": 75,
    "start_time": "2023-02-03T03:11:59.046Z"
   },
   {
    "duration": 16,
    "start_time": "2023-02-03T03:12:10.343Z"
   },
   {
    "duration": 1019,
    "start_time": "2023-02-03T03:49:15.460Z"
   },
   {
    "duration": 30,
    "start_time": "2023-02-03T03:49:16.481Z"
   },
   {
    "duration": 15,
    "start_time": "2023-02-03T03:49:16.512Z"
   },
   {
    "duration": 4,
    "start_time": "2023-02-03T03:49:16.528Z"
   },
   {
    "duration": 9,
    "start_time": "2023-02-03T03:49:16.533Z"
   },
   {
    "duration": 9,
    "start_time": "2023-02-03T03:49:16.543Z"
   },
   {
    "duration": 13,
    "start_time": "2023-02-03T03:49:16.553Z"
   },
   {
    "duration": 23,
    "start_time": "2023-02-03T03:49:16.568Z"
   },
   {
    "duration": 7,
    "start_time": "2023-02-03T03:49:16.592Z"
   },
   {
    "duration": 210,
    "start_time": "2023-02-03T03:49:16.601Z"
   },
   {
    "duration": 4392,
    "start_time": "2023-02-03T03:49:16.813Z"
   },
   {
    "duration": 30,
    "start_time": "2023-02-03T03:49:21.206Z"
   },
   {
    "duration": 11,
    "start_time": "2023-02-03T03:49:21.238Z"
   },
   {
    "duration": 14,
    "start_time": "2023-02-03T03:49:21.251Z"
   },
   {
    "duration": 1072,
    "start_time": "2023-02-03T14:17:57.894Z"
   },
   {
    "duration": 119,
    "start_time": "2023-02-03T14:17:58.968Z"
   },
   {
    "duration": 16,
    "start_time": "2023-02-03T14:17:59.089Z"
   },
   {
    "duration": 5,
    "start_time": "2023-02-03T14:17:59.106Z"
   },
   {
    "duration": 10,
    "start_time": "2023-02-03T14:17:59.113Z"
   },
   {
    "duration": 6,
    "start_time": "2023-02-03T14:17:59.125Z"
   },
   {
    "duration": 10,
    "start_time": "2023-02-03T14:17:59.133Z"
   },
   {
    "duration": 20,
    "start_time": "2023-02-03T14:17:59.145Z"
   },
   {
    "duration": 38,
    "start_time": "2023-02-03T14:17:59.167Z"
   },
   {
    "duration": 209,
    "start_time": "2023-02-03T14:17:59.206Z"
   },
   {
    "duration": 4740,
    "start_time": "2023-02-03T14:17:59.417Z"
   },
   {
    "duration": 21,
    "start_time": "2023-02-03T14:18:04.159Z"
   },
   {
    "duration": 25,
    "start_time": "2023-02-03T14:18:04.182Z"
   },
   {
    "duration": 15,
    "start_time": "2023-02-03T14:18:04.209Z"
   }
  ],
  "kernelspec": {
   "display_name": "Python 3 (ipykernel)",
   "language": "python",
   "name": "python3"
  },
  "language_info": {
   "codemirror_mode": {
    "name": "ipython",
    "version": 3
   },
   "file_extension": ".py",
   "mimetype": "text/x-python",
   "name": "python",
   "nbconvert_exporter": "python",
   "pygments_lexer": "ipython3",
   "version": "3.9.13"
  },
  "toc": {
   "base_numbering": 1,
   "nav_menu": {},
   "number_sections": false,
   "sideBar": true,
   "skip_h1_title": true,
   "title_cell": "Table of Contents",
   "title_sidebar": "Contents",
   "toc_cell": false,
   "toc_position": {},
   "toc_section_display": true,
   "toc_window_display": false
  }
 },
 "nbformat": 4,
 "nbformat_minor": 2
}

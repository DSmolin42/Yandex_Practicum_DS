{
 "cells": [
  {
   "cell_type": "markdown",
   "metadata": {},
   "source": [
    "# Выбор локации для скважины"
   ]
  },
  {
   "cell_type": "markdown",
   "metadata": {},
   "source": [
    "Допустим, вы работаете в добывающей компании «ГлавРосГосНефть». Нужно решить, где бурить новую скважину.\n",
    "\n",
    "Вам предоставлены пробы нефти в трёх регионах: в каждом 10 000 месторождений, где измерили качество нефти и объём её запасов. Постройте модель машинного обучения, которая поможет определить регион, где добыча принесёт наибольшую прибыль. Проанализируйте возможную прибыль и риски техникой *Bootstrap.*\n",
    "\n",
    "Шаги для выбора локации:\n",
    "\n",
    "- В избранном регионе ищут месторождения, для каждого определяют значения признаков;\n",
    "- Строят модель и оценивают объём запасов;\n",
    "- Выбирают месторождения с самым высокими оценками значений. Количество месторождений зависит от бюджета компании и стоимости разработки одной скважины;\n",
    "- Прибыль равна суммарной прибыли отобранных месторождений."
   ]
  },
  {
   "cell_type": "markdown",
   "metadata": {},
   "source": [
    "## Загрузка и подготовка данных"
   ]
  },
  {
   "cell_type": "code",
   "execution_count": 1,
   "metadata": {},
   "outputs": [],
   "source": [
    "## импортируем необходимые  библиотеки\n",
    "import pandas as pd\n",
    "import matplotlib.pyplot as plt\n",
    "import seaborn as sns\n",
    "import scipy.stats as stats\n",
    "from sklearn.model_selection import train_test_split\n",
    "from sklearn.linear_model import LinearRegression\n",
    "from sklearn.metrics import mean_squared_error\n",
    "import numpy as np\n",
    "\n",
    "import warnings\n",
    "warnings.filterwarnings('ignore')\n"
   ]
  },
  {
   "cell_type": "code",
   "execution_count": 2,
   "metadata": {},
   "outputs": [],
   "source": [
    "df_0 = pd.read_csv('/datasets/geo_data_0.csv')\n",
    "df_1 = pd.read_csv('/datasets/geo_data_1.csv')\n",
    "df_2 = pd.read_csv('/datasets/geo_data_2.csv')"
   ]
  },
  {
   "cell_type": "code",
   "execution_count": 3,
   "metadata": {},
   "outputs": [],
   "source": [
    "data_list = [df_0, df_1, df_2]\n",
    "region_list = ['Первый регион', 'Второй регион', 'Третий регион']"
   ]
  },
  {
   "cell_type": "code",
   "execution_count": 4,
   "metadata": {
    "scrolled": false
   },
   "outputs": [
    {
     "name": "stdout",
     "output_type": "stream",
     "text": [
      "Первый регион\n"
     ]
    },
    {
     "data": {
      "text/html": [
       "<div>\n",
       "<style scoped>\n",
       "    .dataframe tbody tr th:only-of-type {\n",
       "        vertical-align: middle;\n",
       "    }\n",
       "\n",
       "    .dataframe tbody tr th {\n",
       "        vertical-align: top;\n",
       "    }\n",
       "\n",
       "    .dataframe thead th {\n",
       "        text-align: right;\n",
       "    }\n",
       "</style>\n",
       "<table border=\"1\" class=\"dataframe\">\n",
       "  <thead>\n",
       "    <tr style=\"text-align: right;\">\n",
       "      <th></th>\n",
       "      <th>id</th>\n",
       "      <th>f0</th>\n",
       "      <th>f1</th>\n",
       "      <th>f2</th>\n",
       "      <th>product</th>\n",
       "    </tr>\n",
       "  </thead>\n",
       "  <tbody>\n",
       "    <tr>\n",
       "      <th>0</th>\n",
       "      <td>txEyH</td>\n",
       "      <td>0.705745</td>\n",
       "      <td>-0.497823</td>\n",
       "      <td>1.221170</td>\n",
       "      <td>105.280062</td>\n",
       "    </tr>\n",
       "    <tr>\n",
       "      <th>1</th>\n",
       "      <td>2acmU</td>\n",
       "      <td>1.334711</td>\n",
       "      <td>-0.340164</td>\n",
       "      <td>4.365080</td>\n",
       "      <td>73.037750</td>\n",
       "    </tr>\n",
       "    <tr>\n",
       "      <th>2</th>\n",
       "      <td>409Wp</td>\n",
       "      <td>1.022732</td>\n",
       "      <td>0.151990</td>\n",
       "      <td>1.419926</td>\n",
       "      <td>85.265647</td>\n",
       "    </tr>\n",
       "    <tr>\n",
       "      <th>3</th>\n",
       "      <td>iJLyR</td>\n",
       "      <td>-0.032172</td>\n",
       "      <td>0.139033</td>\n",
       "      <td>2.978566</td>\n",
       "      <td>168.620776</td>\n",
       "    </tr>\n",
       "    <tr>\n",
       "      <th>4</th>\n",
       "      <td>Xdl7t</td>\n",
       "      <td>1.988431</td>\n",
       "      <td>0.155413</td>\n",
       "      <td>4.751769</td>\n",
       "      <td>154.036647</td>\n",
       "    </tr>\n",
       "  </tbody>\n",
       "</table>\n",
       "</div>"
      ],
      "text/plain": [
       "      id        f0        f1        f2     product\n",
       "0  txEyH  0.705745 -0.497823  1.221170  105.280062\n",
       "1  2acmU  1.334711 -0.340164  4.365080   73.037750\n",
       "2  409Wp  1.022732  0.151990  1.419926   85.265647\n",
       "3  iJLyR -0.032172  0.139033  2.978566  168.620776\n",
       "4  Xdl7t  1.988431  0.155413  4.751769  154.036647"
      ]
     },
     "metadata": {},
     "output_type": "display_data"
    },
    {
     "name": "stdout",
     "output_type": "stream",
     "text": [
      "<class 'pandas.core.frame.DataFrame'>\n",
      "RangeIndex: 100000 entries, 0 to 99999\n",
      "Data columns (total 5 columns):\n",
      " #   Column   Non-Null Count   Dtype  \n",
      "---  ------   --------------   -----  \n",
      " 0   id       100000 non-null  object \n",
      " 1   f0       100000 non-null  float64\n",
      " 2   f1       100000 non-null  float64\n",
      " 3   f2       100000 non-null  float64\n",
      " 4   product  100000 non-null  float64\n",
      "dtypes: float64(4), object(1)\n",
      "memory usage: 3.8+ MB\n"
     ]
    },
    {
     "data": {
      "text/plain": [
       "None"
      ]
     },
     "metadata": {},
     "output_type": "display_data"
    },
    {
     "name": "stdout",
     "output_type": "stream",
     "text": [
      "Размерность: (100000, 5)\n"
     ]
    },
    {
     "data": {
      "text/plain": [
       "'Количество пропущенных значений:'"
      ]
     },
     "metadata": {},
     "output_type": "display_data"
    },
    {
     "data": {
      "text/plain": [
       "id         0\n",
       "f0         0\n",
       "f1         0\n",
       "f2         0\n",
       "product    0\n",
       "dtype: int64"
      ]
     },
     "metadata": {},
     "output_type": "display_data"
    },
    {
     "name": "stdout",
     "output_type": "stream",
     "text": [
      "Количество  дубликатов строк: 0\n",
      "Количество  дубликатов ID: 10\n",
      "Второй регион\n"
     ]
    },
    {
     "data": {
      "text/html": [
       "<div>\n",
       "<style scoped>\n",
       "    .dataframe tbody tr th:only-of-type {\n",
       "        vertical-align: middle;\n",
       "    }\n",
       "\n",
       "    .dataframe tbody tr th {\n",
       "        vertical-align: top;\n",
       "    }\n",
       "\n",
       "    .dataframe thead th {\n",
       "        text-align: right;\n",
       "    }\n",
       "</style>\n",
       "<table border=\"1\" class=\"dataframe\">\n",
       "  <thead>\n",
       "    <tr style=\"text-align: right;\">\n",
       "      <th></th>\n",
       "      <th>id</th>\n",
       "      <th>f0</th>\n",
       "      <th>f1</th>\n",
       "      <th>f2</th>\n",
       "      <th>product</th>\n",
       "    </tr>\n",
       "  </thead>\n",
       "  <tbody>\n",
       "    <tr>\n",
       "      <th>0</th>\n",
       "      <td>kBEdx</td>\n",
       "      <td>-15.001348</td>\n",
       "      <td>-8.276000</td>\n",
       "      <td>-0.005876</td>\n",
       "      <td>3.179103</td>\n",
       "    </tr>\n",
       "    <tr>\n",
       "      <th>1</th>\n",
       "      <td>62mP7</td>\n",
       "      <td>14.272088</td>\n",
       "      <td>-3.475083</td>\n",
       "      <td>0.999183</td>\n",
       "      <td>26.953261</td>\n",
       "    </tr>\n",
       "    <tr>\n",
       "      <th>2</th>\n",
       "      <td>vyE1P</td>\n",
       "      <td>6.263187</td>\n",
       "      <td>-5.948386</td>\n",
       "      <td>5.001160</td>\n",
       "      <td>134.766305</td>\n",
       "    </tr>\n",
       "    <tr>\n",
       "      <th>3</th>\n",
       "      <td>KcrkZ</td>\n",
       "      <td>-13.081196</td>\n",
       "      <td>-11.506057</td>\n",
       "      <td>4.999415</td>\n",
       "      <td>137.945408</td>\n",
       "    </tr>\n",
       "    <tr>\n",
       "      <th>4</th>\n",
       "      <td>AHL4O</td>\n",
       "      <td>12.702195</td>\n",
       "      <td>-8.147433</td>\n",
       "      <td>5.004363</td>\n",
       "      <td>134.766305</td>\n",
       "    </tr>\n",
       "  </tbody>\n",
       "</table>\n",
       "</div>"
      ],
      "text/plain": [
       "      id         f0         f1        f2     product\n",
       "0  kBEdx -15.001348  -8.276000 -0.005876    3.179103\n",
       "1  62mP7  14.272088  -3.475083  0.999183   26.953261\n",
       "2  vyE1P   6.263187  -5.948386  5.001160  134.766305\n",
       "3  KcrkZ -13.081196 -11.506057  4.999415  137.945408\n",
       "4  AHL4O  12.702195  -8.147433  5.004363  134.766305"
      ]
     },
     "metadata": {},
     "output_type": "display_data"
    },
    {
     "name": "stdout",
     "output_type": "stream",
     "text": [
      "<class 'pandas.core.frame.DataFrame'>\n",
      "RangeIndex: 100000 entries, 0 to 99999\n",
      "Data columns (total 5 columns):\n",
      " #   Column   Non-Null Count   Dtype  \n",
      "---  ------   --------------   -----  \n",
      " 0   id       100000 non-null  object \n",
      " 1   f0       100000 non-null  float64\n",
      " 2   f1       100000 non-null  float64\n",
      " 3   f2       100000 non-null  float64\n",
      " 4   product  100000 non-null  float64\n",
      "dtypes: float64(4), object(1)\n",
      "memory usage: 3.8+ MB\n"
     ]
    },
    {
     "data": {
      "text/plain": [
       "None"
      ]
     },
     "metadata": {},
     "output_type": "display_data"
    },
    {
     "name": "stdout",
     "output_type": "stream",
     "text": [
      "Размерность: (100000, 5)\n"
     ]
    },
    {
     "data": {
      "text/plain": [
       "'Количество пропущенных значений:'"
      ]
     },
     "metadata": {},
     "output_type": "display_data"
    },
    {
     "data": {
      "text/plain": [
       "id         0\n",
       "f0         0\n",
       "f1         0\n",
       "f2         0\n",
       "product    0\n",
       "dtype: int64"
      ]
     },
     "metadata": {},
     "output_type": "display_data"
    },
    {
     "name": "stdout",
     "output_type": "stream",
     "text": [
      "Количество  дубликатов строк: 0\n",
      "Количество  дубликатов ID: 4\n",
      "Третий регион\n"
     ]
    },
    {
     "data": {
      "text/html": [
       "<div>\n",
       "<style scoped>\n",
       "    .dataframe tbody tr th:only-of-type {\n",
       "        vertical-align: middle;\n",
       "    }\n",
       "\n",
       "    .dataframe tbody tr th {\n",
       "        vertical-align: top;\n",
       "    }\n",
       "\n",
       "    .dataframe thead th {\n",
       "        text-align: right;\n",
       "    }\n",
       "</style>\n",
       "<table border=\"1\" class=\"dataframe\">\n",
       "  <thead>\n",
       "    <tr style=\"text-align: right;\">\n",
       "      <th></th>\n",
       "      <th>id</th>\n",
       "      <th>f0</th>\n",
       "      <th>f1</th>\n",
       "      <th>f2</th>\n",
       "      <th>product</th>\n",
       "    </tr>\n",
       "  </thead>\n",
       "  <tbody>\n",
       "    <tr>\n",
       "      <th>0</th>\n",
       "      <td>fwXo0</td>\n",
       "      <td>-1.146987</td>\n",
       "      <td>0.963328</td>\n",
       "      <td>-0.828965</td>\n",
       "      <td>27.758673</td>\n",
       "    </tr>\n",
       "    <tr>\n",
       "      <th>1</th>\n",
       "      <td>WJtFt</td>\n",
       "      <td>0.262778</td>\n",
       "      <td>0.269839</td>\n",
       "      <td>-2.530187</td>\n",
       "      <td>56.069697</td>\n",
       "    </tr>\n",
       "    <tr>\n",
       "      <th>2</th>\n",
       "      <td>ovLUW</td>\n",
       "      <td>0.194587</td>\n",
       "      <td>0.289035</td>\n",
       "      <td>-5.586433</td>\n",
       "      <td>62.871910</td>\n",
       "    </tr>\n",
       "    <tr>\n",
       "      <th>3</th>\n",
       "      <td>q6cA6</td>\n",
       "      <td>2.236060</td>\n",
       "      <td>-0.553760</td>\n",
       "      <td>0.930038</td>\n",
       "      <td>114.572842</td>\n",
       "    </tr>\n",
       "    <tr>\n",
       "      <th>4</th>\n",
       "      <td>WPMUX</td>\n",
       "      <td>-0.515993</td>\n",
       "      <td>1.716266</td>\n",
       "      <td>5.899011</td>\n",
       "      <td>149.600746</td>\n",
       "    </tr>\n",
       "  </tbody>\n",
       "</table>\n",
       "</div>"
      ],
      "text/plain": [
       "      id        f0        f1        f2     product\n",
       "0  fwXo0 -1.146987  0.963328 -0.828965   27.758673\n",
       "1  WJtFt  0.262778  0.269839 -2.530187   56.069697\n",
       "2  ovLUW  0.194587  0.289035 -5.586433   62.871910\n",
       "3  q6cA6  2.236060 -0.553760  0.930038  114.572842\n",
       "4  WPMUX -0.515993  1.716266  5.899011  149.600746"
      ]
     },
     "metadata": {},
     "output_type": "display_data"
    },
    {
     "name": "stdout",
     "output_type": "stream",
     "text": [
      "<class 'pandas.core.frame.DataFrame'>\n",
      "RangeIndex: 100000 entries, 0 to 99999\n",
      "Data columns (total 5 columns):\n",
      " #   Column   Non-Null Count   Dtype  \n",
      "---  ------   --------------   -----  \n",
      " 0   id       100000 non-null  object \n",
      " 1   f0       100000 non-null  float64\n",
      " 2   f1       100000 non-null  float64\n",
      " 3   f2       100000 non-null  float64\n",
      " 4   product  100000 non-null  float64\n",
      "dtypes: float64(4), object(1)\n",
      "memory usage: 3.8+ MB\n"
     ]
    },
    {
     "data": {
      "text/plain": [
       "None"
      ]
     },
     "metadata": {},
     "output_type": "display_data"
    },
    {
     "name": "stdout",
     "output_type": "stream",
     "text": [
      "Размерность: (100000, 5)\n"
     ]
    },
    {
     "data": {
      "text/plain": [
       "'Количество пропущенных значений:'"
      ]
     },
     "metadata": {},
     "output_type": "display_data"
    },
    {
     "data": {
      "text/plain": [
       "id         0\n",
       "f0         0\n",
       "f1         0\n",
       "f2         0\n",
       "product    0\n",
       "dtype: int64"
      ]
     },
     "metadata": {},
     "output_type": "display_data"
    },
    {
     "name": "stdout",
     "output_type": "stream",
     "text": [
      "Количество  дубликатов строк: 0\n",
      "Количество  дубликатов ID: 4\n"
     ]
    }
   ],
   "source": [
    "for data, region in zip(data_list, region_list):\n",
    "    \n",
    "    print (region)\n",
    "    display (data.head())\n",
    "    display (data.info())\n",
    "    print ('Размерность:', data.shape)\n",
    "    display ('Количество пропущенных значений:', data.isna().sum())\n",
    "    print ('Количество  дубликатов строк:', data.duplicated().sum())\n",
    "    print ('Количество  дубликатов ID:', data['id'].duplicated().sum())"
   ]
  },
  {
   "cell_type": "markdown",
   "metadata": {},
   "source": [
    "#### Представлены данные о качестве нефти и объёмов её запасов для  трех разных регионов. Каждый из трех датасетов  содержит  100 000 строк. Пропуски в данных отсутсвуют. Дубликатов строк не обнаружено. Есть дубликаты в колонке ID (уникальный идентификатор скважины). Удалим строки, где дублируются ID скважин. \n"
   ]
  },
  {
   "cell_type": "code",
   "execution_count": 5,
   "metadata": {},
   "outputs": [
    {
     "name": "stdout",
     "output_type": "stream",
     "text": [
      "(99990, 5)\n",
      "(99996, 5)\n",
      "(99996, 5)\n"
     ]
    }
   ],
   "source": [
    "for data, region in zip(data_list, region_list):\n",
    "    data.drop_duplicates('id', inplace=True)\n",
    "    print(data.shape) "
   ]
  },
  {
   "cell_type": "markdown",
   "metadata": {},
   "source": [
    "#### Удалим стобец id во всех датафреймах. Он уникален для каждой скважины и не нужен для дальнейших исследований."
   ]
  },
  {
   "cell_type": "code",
   "execution_count": 6,
   "metadata": {},
   "outputs": [
    {
     "name": "stdout",
     "output_type": "stream",
     "text": [
      "Первый регион\n"
     ]
    },
    {
     "data": {
      "text/html": [
       "<div>\n",
       "<style scoped>\n",
       "    .dataframe tbody tr th:only-of-type {\n",
       "        vertical-align: middle;\n",
       "    }\n",
       "\n",
       "    .dataframe tbody tr th {\n",
       "        vertical-align: top;\n",
       "    }\n",
       "\n",
       "    .dataframe thead th {\n",
       "        text-align: right;\n",
       "    }\n",
       "</style>\n",
       "<table border=\"1\" class=\"dataframe\">\n",
       "  <thead>\n",
       "    <tr style=\"text-align: right;\">\n",
       "      <th></th>\n",
       "      <th>f0</th>\n",
       "      <th>f1</th>\n",
       "      <th>f2</th>\n",
       "      <th>product</th>\n",
       "    </tr>\n",
       "  </thead>\n",
       "  <tbody>\n",
       "    <tr>\n",
       "      <th>0</th>\n",
       "      <td>0.705745</td>\n",
       "      <td>-0.497823</td>\n",
       "      <td>1.221170</td>\n",
       "      <td>105.280062</td>\n",
       "    </tr>\n",
       "    <tr>\n",
       "      <th>1</th>\n",
       "      <td>1.334711</td>\n",
       "      <td>-0.340164</td>\n",
       "      <td>4.365080</td>\n",
       "      <td>73.037750</td>\n",
       "    </tr>\n",
       "    <tr>\n",
       "      <th>2</th>\n",
       "      <td>1.022732</td>\n",
       "      <td>0.151990</td>\n",
       "      <td>1.419926</td>\n",
       "      <td>85.265647</td>\n",
       "    </tr>\n",
       "    <tr>\n",
       "      <th>3</th>\n",
       "      <td>-0.032172</td>\n",
       "      <td>0.139033</td>\n",
       "      <td>2.978566</td>\n",
       "      <td>168.620776</td>\n",
       "    </tr>\n",
       "    <tr>\n",
       "      <th>4</th>\n",
       "      <td>1.988431</td>\n",
       "      <td>0.155413</td>\n",
       "      <td>4.751769</td>\n",
       "      <td>154.036647</td>\n",
       "    </tr>\n",
       "  </tbody>\n",
       "</table>\n",
       "</div>"
      ],
      "text/plain": [
       "         f0        f1        f2     product\n",
       "0  0.705745 -0.497823  1.221170  105.280062\n",
       "1  1.334711 -0.340164  4.365080   73.037750\n",
       "2  1.022732  0.151990  1.419926   85.265647\n",
       "3 -0.032172  0.139033  2.978566  168.620776\n",
       "4  1.988431  0.155413  4.751769  154.036647"
      ]
     },
     "metadata": {},
     "output_type": "display_data"
    },
    {
     "name": "stdout",
     "output_type": "stream",
     "text": [
      "Второй регион\n"
     ]
    },
    {
     "data": {
      "text/html": [
       "<div>\n",
       "<style scoped>\n",
       "    .dataframe tbody tr th:only-of-type {\n",
       "        vertical-align: middle;\n",
       "    }\n",
       "\n",
       "    .dataframe tbody tr th {\n",
       "        vertical-align: top;\n",
       "    }\n",
       "\n",
       "    .dataframe thead th {\n",
       "        text-align: right;\n",
       "    }\n",
       "</style>\n",
       "<table border=\"1\" class=\"dataframe\">\n",
       "  <thead>\n",
       "    <tr style=\"text-align: right;\">\n",
       "      <th></th>\n",
       "      <th>f0</th>\n",
       "      <th>f1</th>\n",
       "      <th>f2</th>\n",
       "      <th>product</th>\n",
       "    </tr>\n",
       "  </thead>\n",
       "  <tbody>\n",
       "    <tr>\n",
       "      <th>0</th>\n",
       "      <td>-15.001348</td>\n",
       "      <td>-8.276000</td>\n",
       "      <td>-0.005876</td>\n",
       "      <td>3.179103</td>\n",
       "    </tr>\n",
       "    <tr>\n",
       "      <th>1</th>\n",
       "      <td>14.272088</td>\n",
       "      <td>-3.475083</td>\n",
       "      <td>0.999183</td>\n",
       "      <td>26.953261</td>\n",
       "    </tr>\n",
       "    <tr>\n",
       "      <th>2</th>\n",
       "      <td>6.263187</td>\n",
       "      <td>-5.948386</td>\n",
       "      <td>5.001160</td>\n",
       "      <td>134.766305</td>\n",
       "    </tr>\n",
       "    <tr>\n",
       "      <th>3</th>\n",
       "      <td>-13.081196</td>\n",
       "      <td>-11.506057</td>\n",
       "      <td>4.999415</td>\n",
       "      <td>137.945408</td>\n",
       "    </tr>\n",
       "    <tr>\n",
       "      <th>4</th>\n",
       "      <td>12.702195</td>\n",
       "      <td>-8.147433</td>\n",
       "      <td>5.004363</td>\n",
       "      <td>134.766305</td>\n",
       "    </tr>\n",
       "  </tbody>\n",
       "</table>\n",
       "</div>"
      ],
      "text/plain": [
       "          f0         f1        f2     product\n",
       "0 -15.001348  -8.276000 -0.005876    3.179103\n",
       "1  14.272088  -3.475083  0.999183   26.953261\n",
       "2   6.263187  -5.948386  5.001160  134.766305\n",
       "3 -13.081196 -11.506057  4.999415  137.945408\n",
       "4  12.702195  -8.147433  5.004363  134.766305"
      ]
     },
     "metadata": {},
     "output_type": "display_data"
    },
    {
     "name": "stdout",
     "output_type": "stream",
     "text": [
      "Третий регион\n"
     ]
    },
    {
     "data": {
      "text/html": [
       "<div>\n",
       "<style scoped>\n",
       "    .dataframe tbody tr th:only-of-type {\n",
       "        vertical-align: middle;\n",
       "    }\n",
       "\n",
       "    .dataframe tbody tr th {\n",
       "        vertical-align: top;\n",
       "    }\n",
       "\n",
       "    .dataframe thead th {\n",
       "        text-align: right;\n",
       "    }\n",
       "</style>\n",
       "<table border=\"1\" class=\"dataframe\">\n",
       "  <thead>\n",
       "    <tr style=\"text-align: right;\">\n",
       "      <th></th>\n",
       "      <th>f0</th>\n",
       "      <th>f1</th>\n",
       "      <th>f2</th>\n",
       "      <th>product</th>\n",
       "    </tr>\n",
       "  </thead>\n",
       "  <tbody>\n",
       "    <tr>\n",
       "      <th>0</th>\n",
       "      <td>-1.146987</td>\n",
       "      <td>0.963328</td>\n",
       "      <td>-0.828965</td>\n",
       "      <td>27.758673</td>\n",
       "    </tr>\n",
       "    <tr>\n",
       "      <th>1</th>\n",
       "      <td>0.262778</td>\n",
       "      <td>0.269839</td>\n",
       "      <td>-2.530187</td>\n",
       "      <td>56.069697</td>\n",
       "    </tr>\n",
       "    <tr>\n",
       "      <th>2</th>\n",
       "      <td>0.194587</td>\n",
       "      <td>0.289035</td>\n",
       "      <td>-5.586433</td>\n",
       "      <td>62.871910</td>\n",
       "    </tr>\n",
       "    <tr>\n",
       "      <th>3</th>\n",
       "      <td>2.236060</td>\n",
       "      <td>-0.553760</td>\n",
       "      <td>0.930038</td>\n",
       "      <td>114.572842</td>\n",
       "    </tr>\n",
       "    <tr>\n",
       "      <th>4</th>\n",
       "      <td>-0.515993</td>\n",
       "      <td>1.716266</td>\n",
       "      <td>5.899011</td>\n",
       "      <td>149.600746</td>\n",
       "    </tr>\n",
       "  </tbody>\n",
       "</table>\n",
       "</div>"
      ],
      "text/plain": [
       "         f0        f1        f2     product\n",
       "0 -1.146987  0.963328 -0.828965   27.758673\n",
       "1  0.262778  0.269839 -2.530187   56.069697\n",
       "2  0.194587  0.289035 -5.586433   62.871910\n",
       "3  2.236060 -0.553760  0.930038  114.572842\n",
       "4 -0.515993  1.716266  5.899011  149.600746"
      ]
     },
     "metadata": {},
     "output_type": "display_data"
    }
   ],
   "source": [
    "for data, region in zip(data_list, region_list):\n",
    "    data.drop(['id'], axis=1, inplace=True)\n",
    "    print(region)\n",
    "    display (data.head())\n"
   ]
  },
  {
   "cell_type": "markdown",
   "metadata": {},
   "source": [
    "#### Посмотрим на сновные статистические показатели для каждого датафрейма."
   ]
  },
  {
   "cell_type": "code",
   "execution_count": 7,
   "metadata": {
    "scrolled": false
   },
   "outputs": [
    {
     "name": "stdout",
     "output_type": "stream",
     "text": [
      "Первый регион\n"
     ]
    },
    {
     "data": {
      "text/html": [
       "<div>\n",
       "<style scoped>\n",
       "    .dataframe tbody tr th:only-of-type {\n",
       "        vertical-align: middle;\n",
       "    }\n",
       "\n",
       "    .dataframe tbody tr th {\n",
       "        vertical-align: top;\n",
       "    }\n",
       "\n",
       "    .dataframe thead th {\n",
       "        text-align: right;\n",
       "    }\n",
       "</style>\n",
       "<table border=\"1\" class=\"dataframe\">\n",
       "  <thead>\n",
       "    <tr style=\"text-align: right;\">\n",
       "      <th></th>\n",
       "      <th>f0</th>\n",
       "      <th>f1</th>\n",
       "      <th>f2</th>\n",
       "      <th>product</th>\n",
       "    </tr>\n",
       "  </thead>\n",
       "  <tbody>\n",
       "    <tr>\n",
       "      <th>count</th>\n",
       "      <td>99990.000000</td>\n",
       "      <td>99990.000000</td>\n",
       "      <td>99990.000000</td>\n",
       "      <td>99990.000000</td>\n",
       "    </tr>\n",
       "    <tr>\n",
       "      <th>mean</th>\n",
       "      <td>0.500454</td>\n",
       "      <td>0.250141</td>\n",
       "      <td>2.502629</td>\n",
       "      <td>92.499684</td>\n",
       "    </tr>\n",
       "    <tr>\n",
       "      <th>std</th>\n",
       "      <td>0.871844</td>\n",
       "      <td>0.504430</td>\n",
       "      <td>3.248149</td>\n",
       "      <td>44.288304</td>\n",
       "    </tr>\n",
       "    <tr>\n",
       "      <th>min</th>\n",
       "      <td>-1.408605</td>\n",
       "      <td>-0.848218</td>\n",
       "      <td>-12.088328</td>\n",
       "      <td>0.000000</td>\n",
       "    </tr>\n",
       "    <tr>\n",
       "      <th>25%</th>\n",
       "      <td>-0.072572</td>\n",
       "      <td>-0.200877</td>\n",
       "      <td>0.287784</td>\n",
       "      <td>56.497069</td>\n",
       "    </tr>\n",
       "    <tr>\n",
       "      <th>50%</th>\n",
       "      <td>0.502405</td>\n",
       "      <td>0.250252</td>\n",
       "      <td>2.515969</td>\n",
       "      <td>91.847928</td>\n",
       "    </tr>\n",
       "    <tr>\n",
       "      <th>75%</th>\n",
       "      <td>1.073626</td>\n",
       "      <td>0.700640</td>\n",
       "      <td>4.715035</td>\n",
       "      <td>128.563699</td>\n",
       "    </tr>\n",
       "    <tr>\n",
       "      <th>max</th>\n",
       "      <td>2.362331</td>\n",
       "      <td>1.343769</td>\n",
       "      <td>16.003790</td>\n",
       "      <td>185.364347</td>\n",
       "    </tr>\n",
       "  </tbody>\n",
       "</table>\n",
       "</div>"
      ],
      "text/plain": [
       "                 f0            f1            f2       product\n",
       "count  99990.000000  99990.000000  99990.000000  99990.000000\n",
       "mean       0.500454      0.250141      2.502629     92.499684\n",
       "std        0.871844      0.504430      3.248149     44.288304\n",
       "min       -1.408605     -0.848218    -12.088328      0.000000\n",
       "25%       -0.072572     -0.200877      0.287784     56.497069\n",
       "50%        0.502405      0.250252      2.515969     91.847928\n",
       "75%        1.073626      0.700640      4.715035    128.563699\n",
       "max        2.362331      1.343769     16.003790    185.364347"
      ]
     },
     "metadata": {},
     "output_type": "display_data"
    },
    {
     "data": {
      "image/png": "[encoded data removed]",
      "text/plain": [
       "<Figure size 1800x360 with 4 Axes>"
      ]
     },
     "metadata": {
      "needs_background": "light"
     },
     "output_type": "display_data"
    },
    {
     "name": "stdout",
     "output_type": "stream",
     "text": [
      "Второй регион\n"
     ]
    },
    {
     "data": {
      "text/html": [
       "<div>\n",
       "<style scoped>\n",
       "    .dataframe tbody tr th:only-of-type {\n",
       "        vertical-align: middle;\n",
       "    }\n",
       "\n",
       "    .dataframe tbody tr th {\n",
       "        vertical-align: top;\n",
       "    }\n",
       "\n",
       "    .dataframe thead th {\n",
       "        text-align: right;\n",
       "    }\n",
       "</style>\n",
       "<table border=\"1\" class=\"dataframe\">\n",
       "  <thead>\n",
       "    <tr style=\"text-align: right;\">\n",
       "      <th></th>\n",
       "      <th>f0</th>\n",
       "      <th>f1</th>\n",
       "      <th>f2</th>\n",
       "      <th>product</th>\n",
       "    </tr>\n",
       "  </thead>\n",
       "  <tbody>\n",
       "    <tr>\n",
       "      <th>count</th>\n",
       "      <td>99996.000000</td>\n",
       "      <td>99996.000000</td>\n",
       "      <td>99996.000000</td>\n",
       "      <td>99996.000000</td>\n",
       "    </tr>\n",
       "    <tr>\n",
       "      <th>mean</th>\n",
       "      <td>1.141209</td>\n",
       "      <td>-4.796608</td>\n",
       "      <td>2.494501</td>\n",
       "      <td>68.823916</td>\n",
       "    </tr>\n",
       "    <tr>\n",
       "      <th>std</th>\n",
       "      <td>8.965815</td>\n",
       "      <td>5.119906</td>\n",
       "      <td>1.703579</td>\n",
       "      <td>45.944663</td>\n",
       "    </tr>\n",
       "    <tr>\n",
       "      <th>min</th>\n",
       "      <td>-31.609576</td>\n",
       "      <td>-26.358598</td>\n",
       "      <td>-0.018144</td>\n",
       "      <td>0.000000</td>\n",
       "    </tr>\n",
       "    <tr>\n",
       "      <th>25%</th>\n",
       "      <td>-6.298551</td>\n",
       "      <td>-8.267985</td>\n",
       "      <td>1.000021</td>\n",
       "      <td>26.953261</td>\n",
       "    </tr>\n",
       "    <tr>\n",
       "      <th>50%</th>\n",
       "      <td>1.153055</td>\n",
       "      <td>-4.813172</td>\n",
       "      <td>2.011475</td>\n",
       "      <td>57.085625</td>\n",
       "    </tr>\n",
       "    <tr>\n",
       "      <th>75%</th>\n",
       "      <td>8.620964</td>\n",
       "      <td>-1.332816</td>\n",
       "      <td>3.999904</td>\n",
       "      <td>107.813044</td>\n",
       "    </tr>\n",
       "    <tr>\n",
       "      <th>max</th>\n",
       "      <td>29.421755</td>\n",
       "      <td>18.734063</td>\n",
       "      <td>5.019721</td>\n",
       "      <td>137.945408</td>\n",
       "    </tr>\n",
       "  </tbody>\n",
       "</table>\n",
       "</div>"
      ],
      "text/plain": [
       "                 f0            f1            f2       product\n",
       "count  99996.000000  99996.000000  99996.000000  99996.000000\n",
       "mean       1.141209     -4.796608      2.494501     68.823916\n",
       "std        8.965815      5.119906      1.703579     45.944663\n",
       "min      -31.609576    -26.358598     -0.018144      0.000000\n",
       "25%       -6.298551     -8.267985      1.000021     26.953261\n",
       "50%        1.153055     -4.813172      2.011475     57.085625\n",
       "75%        8.620964     -1.332816      3.999904    107.813044\n",
       "max       29.421755     18.734063      5.019721    137.945408"
      ]
     },
     "metadata": {},
     "output_type": "display_data"
    },
    {
     "data": {
      "image/png": "[encoded data removed]",
      "text/plain": [
       "<Figure size 1800x360 with 4 Axes>"
      ]
     },
     "metadata": {
      "needs_background": "light"
     },
     "output_type": "display_data"
    },
    {
     "name": "stdout",
     "output_type": "stream",
     "text": [
      "Третий регион\n"
     ]
    },
    {
     "data": {
      "text/html": [
       "<div>\n",
       "<style scoped>\n",
       "    .dataframe tbody tr th:only-of-type {\n",
       "        vertical-align: middle;\n",
       "    }\n",
       "\n",
       "    .dataframe tbody tr th {\n",
       "        vertical-align: top;\n",
       "    }\n",
       "\n",
       "    .dataframe thead th {\n",
       "        text-align: right;\n",
       "    }\n",
       "</style>\n",
       "<table border=\"1\" class=\"dataframe\">\n",
       "  <thead>\n",
       "    <tr style=\"text-align: right;\">\n",
       "      <th></th>\n",
       "      <th>f0</th>\n",
       "      <th>f1</th>\n",
       "      <th>f2</th>\n",
       "      <th>product</th>\n",
       "    </tr>\n",
       "  </thead>\n",
       "  <tbody>\n",
       "    <tr>\n",
       "      <th>count</th>\n",
       "      <td>99996.000000</td>\n",
       "      <td>99996.000000</td>\n",
       "      <td>99996.000000</td>\n",
       "      <td>99996.000000</td>\n",
       "    </tr>\n",
       "    <tr>\n",
       "      <th>mean</th>\n",
       "      <td>0.002002</td>\n",
       "      <td>-0.002159</td>\n",
       "      <td>2.495084</td>\n",
       "      <td>94.998342</td>\n",
       "    </tr>\n",
       "    <tr>\n",
       "      <th>std</th>\n",
       "      <td>1.732052</td>\n",
       "      <td>1.730397</td>\n",
       "      <td>3.473482</td>\n",
       "      <td>44.749573</td>\n",
       "    </tr>\n",
       "    <tr>\n",
       "      <th>min</th>\n",
       "      <td>-8.760004</td>\n",
       "      <td>-7.084020</td>\n",
       "      <td>-11.970335</td>\n",
       "      <td>0.000000</td>\n",
       "    </tr>\n",
       "    <tr>\n",
       "      <th>25%</th>\n",
       "      <td>-1.162328</td>\n",
       "      <td>-1.174841</td>\n",
       "      <td>0.130269</td>\n",
       "      <td>59.450028</td>\n",
       "    </tr>\n",
       "    <tr>\n",
       "      <th>50%</th>\n",
       "      <td>0.009424</td>\n",
       "      <td>-0.009661</td>\n",
       "      <td>2.484236</td>\n",
       "      <td>94.925026</td>\n",
       "    </tr>\n",
       "    <tr>\n",
       "      <th>75%</th>\n",
       "      <td>1.158477</td>\n",
       "      <td>1.163523</td>\n",
       "      <td>4.858720</td>\n",
       "      <td>130.586815</td>\n",
       "    </tr>\n",
       "    <tr>\n",
       "      <th>max</th>\n",
       "      <td>7.238262</td>\n",
       "      <td>7.844801</td>\n",
       "      <td>16.739402</td>\n",
       "      <td>190.029838</td>\n",
       "    </tr>\n",
       "  </tbody>\n",
       "</table>\n",
       "</div>"
      ],
      "text/plain": [
       "                 f0            f1            f2       product\n",
       "count  99996.000000  99996.000000  99996.000000  99996.000000\n",
       "mean       0.002002     -0.002159      2.495084     94.998342\n",
       "std        1.732052      1.730397      3.473482     44.749573\n",
       "min       -8.760004     -7.084020    -11.970335      0.000000\n",
       "25%       -1.162328     -1.174841      0.130269     59.450028\n",
       "50%        0.009424     -0.009661      2.484236     94.925026\n",
       "75%        1.158477      1.163523      4.858720    130.586815\n",
       "max        7.238262      7.844801     16.739402    190.029838"
      ]
     },
     "metadata": {},
     "output_type": "display_data"
    },
    {
     "data": {
      "image/png": "[encoded data removed]",
      "text/plain": [
       "<Figure size 1800x360 with 4 Axes>"
      ]
     },
     "metadata": {
      "needs_background": "light"
     },
     "output_type": "display_data"
    }
   ],
   "source": [
    "for data, region in zip(data_list, region_list):\n",
    "    \n",
    "    print(region)\n",
    "    display (data.describe(include='all'))\n",
    "    fig, axes = plt.subplots(1, 4,  figsize=(25,5))\n",
    "    sns.boxplot(data=data, y ='f0',ax=axes[0])\n",
    "    sns.boxplot(data=data, y ='f1',ax=axes[1])\n",
    "    sns.boxplot(data=data, y ='f2',ax=axes[2])\n",
    "    sns.boxplot(data=data, y ='product',ax=axes[3])\n",
    "    plt.show()\n",
    "    "
   ]
  },
  {
   "cell_type": "markdown",
   "metadata": {},
   "source": [
    "####  В некоторых столбцах  датафреймов есть выбросы. Эти данные  необходимо удалить."
   ]
  },
  {
   "cell_type": "code",
   "execution_count": 8,
   "metadata": {
    "scrolled": false
   },
   "outputs": [
    {
     "name": "stdout",
     "output_type": "stream",
     "text": [
      "Количество удаленных строк:  506\n",
      "Количество удаленных строк:  637\n",
      "Количество удаленных строк:  1996\n",
      "Первый регион\n"
     ]
    },
    {
     "data": {
      "image/png": "[encoded data removed]",
      "text/plain": [
       "<Figure size 1800x360 with 4 Axes>"
      ]
     },
     "metadata": {
      "needs_background": "light"
     },
     "output_type": "display_data"
    },
    {
     "name": "stdout",
     "output_type": "stream",
     "text": [
      "Второй регион\n"
     ]
    },
    {
     "data": {
      "image/png": "[encoded data removed]",
      "text/plain": [
       "<Figure size 1800x360 with 4 Axes>"
      ]
     },
     "metadata": {
      "needs_background": "light"
     },
     "output_type": "display_data"
    },
    {
     "name": "stdout",
     "output_type": "stream",
     "text": [
      "Третий регион\n"
     ]
    },
    {
     "data": {
      "image/png": "[encoded data removed]",
      "text/plain": [
       "<Figure size 1800x360 with 4 Axes>"
      ]
     },
     "metadata": {
      "needs_background": "light"
     },
     "output_type": "display_data"
    }
   ],
   "source": [
    "# считаем выбросами значения > Q3 + 1,5*IQR или Q1 – 1,5*IQR\n",
    "# наишем  функцию  обнаруживающую и удаляющие выбросы из датафрейма\n",
    "def remove_ouliers(df):\n",
    "        df1 = df.copy()\n",
    "        del_index = []       \n",
    "        for col in df.columns:\n",
    "            q1 = df[col].quantile(0.25)\n",
    "            q3 = df[col].quantile(0.75)\n",
    "            iqr = q3 - q1\n",
    "            lower_bound = q1 -(1.5 * iqr) \n",
    "            upper_bound = q3 +(1.5 * iqr)\n",
    "            for index, value in zip(df[col].index, df[col]):\n",
    "                if value < lower_bound or value > upper_bound:            \n",
    "                    if index not in del_index:\n",
    "                        del_index.append(index) \n",
    "       \n",
    "                \n",
    "        print('Количество удаленных строк: ', len(del_index))\n",
    "        df1.drop(del_index, axis = 0, inplace = True)\n",
    "        return(df1)\n",
    "# Применим  функцию к датафреймам \n",
    "df_0_clean = remove_ouliers(df_0)\n",
    "df_1_clean = remove_ouliers(df_1)\n",
    "df_2_clean = remove_ouliers(df_2)\n",
    "\n",
    "data_list_clean =[df_0_clean, df_1_clean, df_2_clean]\n",
    "# выполним проверку\n",
    "for data, region in zip(data_list_clean, region_list):\n",
    "    print(region)\n",
    "    fig, axes = plt.subplots(1, 4,  figsize=(25,5))\n",
    "    sns.boxplot(data=data, y ='f0',ax=axes[0])\n",
    "    sns.boxplot(data=data, y ='f1',ax=axes[1])\n",
    "    sns.boxplot(data=data, y ='f2',ax=axes[2])\n",
    "    sns.boxplot(data=data, y ='product',ax=axes[3])\n",
    "    plt.show()"
   ]
  },
  {
   "cell_type": "markdown",
   "metadata": {},
   "source": [
    "#### Проверим корреляцию между признаками для каждого датафрейма. "
   ]
  },
  {
   "cell_type": "code",
   "execution_count": 9,
   "metadata": {},
   "outputs": [
    {
     "name": "stdout",
     "output_type": "stream",
     "text": [
      "Первый регион\n"
     ]
    },
    {
     "data": {
      "text/html": [
       "<div>\n",
       "<style scoped>\n",
       "    .dataframe tbody tr th:only-of-type {\n",
       "        vertical-align: middle;\n",
       "    }\n",
       "\n",
       "    .dataframe tbody tr th {\n",
       "        vertical-align: top;\n",
       "    }\n",
       "\n",
       "    .dataframe thead th {\n",
       "        text-align: right;\n",
       "    }\n",
       "</style>\n",
       "<table border=\"1\" class=\"dataframe\">\n",
       "  <thead>\n",
       "    <tr style=\"text-align: right;\">\n",
       "      <th></th>\n",
       "      <th>f0</th>\n",
       "      <th>f1</th>\n",
       "      <th>f2</th>\n",
       "      <th>product</th>\n",
       "    </tr>\n",
       "  </thead>\n",
       "  <tbody>\n",
       "    <tr>\n",
       "      <th>f0</th>\n",
       "      <td>1.000000</td>\n",
       "      <td>-0.440710</td>\n",
       "      <td>-0.003399</td>\n",
       "      <td>0.143558</td>\n",
       "    </tr>\n",
       "    <tr>\n",
       "      <th>f1</th>\n",
       "      <td>-0.440710</td>\n",
       "      <td>1.000000</td>\n",
       "      <td>0.001139</td>\n",
       "      <td>-0.192743</td>\n",
       "    </tr>\n",
       "    <tr>\n",
       "      <th>f2</th>\n",
       "      <td>-0.003399</td>\n",
       "      <td>0.001139</td>\n",
       "      <td>1.000000</td>\n",
       "      <td>0.480125</td>\n",
       "    </tr>\n",
       "    <tr>\n",
       "      <th>product</th>\n",
       "      <td>0.143558</td>\n",
       "      <td>-0.192743</td>\n",
       "      <td>0.480125</td>\n",
       "      <td>1.000000</td>\n",
       "    </tr>\n",
       "  </tbody>\n",
       "</table>\n",
       "</div>"
      ],
      "text/plain": [
       "               f0        f1        f2   product\n",
       "f0       1.000000 -0.440710 -0.003399  0.143558\n",
       "f1      -0.440710  1.000000  0.001139 -0.192743\n",
       "f2      -0.003399  0.001139  1.000000  0.480125\n",
       "product  0.143558 -0.192743  0.480125  1.000000"
      ]
     },
     "metadata": {},
     "output_type": "display_data"
    },
    {
     "name": "stdout",
     "output_type": "stream",
     "text": [
      "Второй регион\n"
     ]
    },
    {
     "data": {
      "text/html": [
       "<div>\n",
       "<style scoped>\n",
       "    .dataframe tbody tr th:only-of-type {\n",
       "        vertical-align: middle;\n",
       "    }\n",
       "\n",
       "    .dataframe tbody tr th {\n",
       "        vertical-align: top;\n",
       "    }\n",
       "\n",
       "    .dataframe thead th {\n",
       "        text-align: right;\n",
       "    }\n",
       "</style>\n",
       "<table border=\"1\" class=\"dataframe\">\n",
       "  <thead>\n",
       "    <tr style=\"text-align: right;\">\n",
       "      <th></th>\n",
       "      <th>f0</th>\n",
       "      <th>f1</th>\n",
       "      <th>f2</th>\n",
       "      <th>product</th>\n",
       "    </tr>\n",
       "  </thead>\n",
       "  <tbody>\n",
       "    <tr>\n",
       "      <th>f0</th>\n",
       "      <td>1.000000</td>\n",
       "      <td>0.178928</td>\n",
       "      <td>-0.001671</td>\n",
       "      <td>-0.030390</td>\n",
       "    </tr>\n",
       "    <tr>\n",
       "      <th>f1</th>\n",
       "      <td>0.178928</td>\n",
       "      <td>1.000000</td>\n",
       "      <td>-0.002765</td>\n",
       "      <td>-0.010185</td>\n",
       "    </tr>\n",
       "    <tr>\n",
       "      <th>f2</th>\n",
       "      <td>-0.001671</td>\n",
       "      <td>-0.002765</td>\n",
       "      <td>1.000000</td>\n",
       "      <td>0.999397</td>\n",
       "    </tr>\n",
       "    <tr>\n",
       "      <th>product</th>\n",
       "      <td>-0.030390</td>\n",
       "      <td>-0.010185</td>\n",
       "      <td>0.999397</td>\n",
       "      <td>1.000000</td>\n",
       "    </tr>\n",
       "  </tbody>\n",
       "</table>\n",
       "</div>"
      ],
      "text/plain": [
       "               f0        f1        f2   product\n",
       "f0       1.000000  0.178928 -0.001671 -0.030390\n",
       "f1       0.178928  1.000000 -0.002765 -0.010185\n",
       "f2      -0.001671 -0.002765  1.000000  0.999397\n",
       "product -0.030390 -0.010185  0.999397  1.000000"
      ]
     },
     "metadata": {},
     "output_type": "display_data"
    },
    {
     "name": "stdout",
     "output_type": "stream",
     "text": [
      "Третий регион\n"
     ]
    },
    {
     "data": {
      "text/html": [
       "<div>\n",
       "<style scoped>\n",
       "    .dataframe tbody tr th:only-of-type {\n",
       "        vertical-align: middle;\n",
       "    }\n",
       "\n",
       "    .dataframe tbody tr th {\n",
       "        vertical-align: top;\n",
       "    }\n",
       "\n",
       "    .dataframe thead th {\n",
       "        text-align: right;\n",
       "    }\n",
       "</style>\n",
       "<table border=\"1\" class=\"dataframe\">\n",
       "  <thead>\n",
       "    <tr style=\"text-align: right;\">\n",
       "      <th></th>\n",
       "      <th>f0</th>\n",
       "      <th>f1</th>\n",
       "      <th>f2</th>\n",
       "      <th>product</th>\n",
       "    </tr>\n",
       "  </thead>\n",
       "  <tbody>\n",
       "    <tr>\n",
       "      <th>f0</th>\n",
       "      <td>1.000000</td>\n",
       "      <td>0.000606</td>\n",
       "      <td>0.000457</td>\n",
       "      <td>-0.002947</td>\n",
       "    </tr>\n",
       "    <tr>\n",
       "      <th>f1</th>\n",
       "      <td>0.000606</td>\n",
       "      <td>1.000000</td>\n",
       "      <td>0.000728</td>\n",
       "      <td>-0.000961</td>\n",
       "    </tr>\n",
       "    <tr>\n",
       "      <th>f2</th>\n",
       "      <td>0.000457</td>\n",
       "      <td>0.000728</td>\n",
       "      <td>1.000000</td>\n",
       "      <td>0.441187</td>\n",
       "    </tr>\n",
       "    <tr>\n",
       "      <th>product</th>\n",
       "      <td>-0.002947</td>\n",
       "      <td>-0.000961</td>\n",
       "      <td>0.441187</td>\n",
       "      <td>1.000000</td>\n",
       "    </tr>\n",
       "  </tbody>\n",
       "</table>\n",
       "</div>"
      ],
      "text/plain": [
       "               f0        f1        f2   product\n",
       "f0       1.000000  0.000606  0.000457 -0.002947\n",
       "f1       0.000606  1.000000  0.000728 -0.000961\n",
       "f2       0.000457  0.000728  1.000000  0.441187\n",
       "product -0.002947 -0.000961  0.441187  1.000000"
      ]
     },
     "metadata": {},
     "output_type": "display_data"
    }
   ],
   "source": [
    "for data, region in zip(data_list_clean, region_list):\n",
    "    print(region)\n",
    "    display(data.corr())"
   ]
  },
  {
   "cell_type": "markdown",
   "metadata": {},
   "source": [
    "####  Для третьего региона корреляция между признаками f0, f1 и f2 отсутсвует. Для второго региона наблюдается  очень слабая  положительная корреляция  между признакасм f0 и f1, коэффициент корреляции равен 0,18. Для первого региона наблюдается слабая отрицательная корреляция между  f0  и  f1,  коэффициент корреляции равен -0,44.  Коэффициенты корреляции малы и  корреляции между признаками f0, f1 и f2 мы не будем принимать в расчет.  Заметим, что для второго реоиона  наблюдается сильная положительная корреляция между  признаком f2  и целевой переменной product, коэффициент корреляции равен 1, отмечается высокая степень связи между переменными."
   ]
  },
  {
   "cell_type": "markdown",
   "metadata": {},
   "source": [
    "### Изучили и подготовили данные для дальнейших исследований\n",
    "*  Пропуски и дубликаты в данных отсутсвуют. \n",
    "*  Типы столбцов, названия столбцов - корректны.\n",
    "*  Удален столбец \"id\" не несущиЙ  ценности для дальнейшего  исследования. \n",
    "*  Удалены выбросы в данных, потери в данных составили менее 2%. \n",
    "*  Изучена корреляция между признаками. Корреляции между признаками f0, f1 и f2 мы не будем принимать в расчет."
   ]
  },
  {
   "cell_type": "markdown",
   "metadata": {},
   "source": [
    "## Обучение и проверка модели"
   ]
  },
  {
   "cell_type": "markdown",
   "metadata": {},
   "source": [
    "####  Проведем разделение данных  на обучающую и валидационную выборки для каждого региона в соотношении 75/25."
   ]
  },
  {
   "cell_type": "code",
   "execution_count": 10,
   "metadata": {},
   "outputs": [
    {
     "name": "stdout",
     "output_type": "stream",
     "text": [
      "(74613, 3) (24871, 3) (74613,) (24871,)\n",
      "(74519, 3) (24840, 3) (74519,) (24840,)\n",
      "(73500, 3) (24500, 3) (73500,) (24500,)\n"
     ]
    }
   ],
   "source": [
    "def split_data(df, target):\n",
    "        features = df.drop(target, axis=1) \n",
    "        target = df[target]\n",
    "        features_train, features_valid, target_train, target_valid = train_test_split(features, target,\n",
    "                                                                            test_size=0.25, random_state=12345)\n",
    "        return features_train, features_valid, target_train, target_valid\n",
    "    \n",
    "features_train_0, features_valid_0, target_train_0, target_valid_0 = split_data(df_0_clean , 'product')\n",
    "features_train_1, features_valid_1, target_train_1, target_valid_1 = split_data(df_1_clean , 'product')\n",
    "features_train_2, features_valid_2, target_train_2, target_valid_2 = split_data(df_2_clean , 'product')\n",
    "\n",
    "print(features_train_0.shape, features_valid_0.shape, target_train_0.shape, target_valid_0.shape)\n",
    "print(features_train_1.shape, features_valid_1.shape, target_train_1.shape, target_valid_1.shape)\n",
    "print(features_train_2.shape, features_valid_2.shape, target_train_2.shape, target_valid_2.shape)\n"
   ]
  },
  {
   "cell_type": "markdown",
   "metadata": {},
   "source": [
    "####  Мы планируем использовать для обучения модели метод линейной регресии.   Метод линейной регрессии  не требует масштабирования признаков, поэтому масштабирование признаков мы производить не будем."
   ]
  },
  {
   "cell_type": "markdown",
   "metadata": {},
   "source": [
    "#### Обучим  модель  методом линейной регресии на обучающей выборке. Сделаем предсказания на валидационной выборке. Посчитаем средний объем запасов в скважине и RMSE модели. Для каждого региона создадим новый датафрейм содержащий  значения реальной добычи и предсказанных значений."
   ]
  },
  {
   "cell_type": "code",
   "execution_count": 11,
   "metadata": {},
   "outputs": [
    {
     "name": "stdout",
     "output_type": "stream",
     "text": [
      "   real_product  predicted_product\n",
      "0    145.394715          91.482070\n",
      "1     91.092807         104.962312\n",
      "2     19.882164          61.012668\n",
      "3    132.684080          90.976450\n",
      "4     96.000233         124.541000\n",
      "   real_product  predicted_product\n",
      "0     53.906522          52.875698\n",
      "1     30.132364          29.678760\n",
      "2    137.945408         137.712802\n",
      "3     80.859783          80.186640\n",
      "4    110.992147         110.567415\n",
      "   real_product  predicted_product\n",
      "0     66.042218          98.874316\n",
      "1    131.964461         129.013976\n",
      "2      5.848186          63.876508\n",
      "3     62.546089          96.280096\n",
      "4     46.289429          61.685399\n"
     ]
    }
   ],
   "source": [
    "def model_calculate (features_train, features_valid, target_train, target_valid):\n",
    "    model = LinearRegression()\n",
    "    model.fit(features_train, target_train)\n",
    "    predictions = model.predict(features_valid)\n",
    "    predictions_mean = predictions.mean()\n",
    "    rmse = mean_squared_error(target_valid, predictions) ** 0.5\n",
    "    data = {'real_product' : target_valid,\n",
    "            'predicted_product' : predictions}\n",
    "    df = pd.DataFrame(data)\n",
    "    df.reset_index(drop=True, inplace=True)\n",
    "    return df, predictions_mean, rmse\n",
    "\n",
    "df_0, predictions_mean_0, rmse_0 = model_calculate (features_train_0, features_valid_0, target_train_0, target_valid_0)\n",
    "df_1, predictions_mean_1, rmse_1 = model_calculate (features_train_1, features_valid_1, target_train_1, target_valid_1)\n",
    "df_2, predictions_mean_2, rmse_2 = model_calculate (features_train_2, features_valid_2, target_train_2, target_valid_2)\n",
    "\n",
    "print(df_0.head())\n",
    "print(df_1.head())\n",
    "print(df_2.head())"
   ]
  },
  {
   "cell_type": "code",
   "execution_count": 12,
   "metadata": {},
   "outputs": [
    {
     "data": {
      "text/html": [
       "<div>\n",
       "<style scoped>\n",
       "    .dataframe tbody tr th:only-of-type {\n",
       "        vertical-align: middle;\n",
       "    }\n",
       "\n",
       "    .dataframe tbody tr th {\n",
       "        vertical-align: top;\n",
       "    }\n",
       "\n",
       "    .dataframe thead th {\n",
       "        text-align: right;\n",
       "    }\n",
       "</style>\n",
       "<table border=\"1\" class=\"dataframe\">\n",
       "  <thead>\n",
       "    <tr style=\"text-align: right;\">\n",
       "      <th></th>\n",
       "      <th>Параметр</th>\n",
       "      <th>Первый регион</th>\n",
       "      <th>Второй регион</th>\n",
       "      <th>Третий регилн</th>\n",
       "    </tr>\n",
       "  </thead>\n",
       "  <tbody>\n",
       "    <tr>\n",
       "      <th>0</th>\n",
       "      <td>Средний предсказанный запас сырья</td>\n",
       "      <td>92.490393</td>\n",
       "      <td>68.829535</td>\n",
       "      <td>94.541696</td>\n",
       "    </tr>\n",
       "    <tr>\n",
       "      <th>1</th>\n",
       "      <td>RMSE модели</td>\n",
       "      <td>37.828145</td>\n",
       "      <td>0.890832</td>\n",
       "      <td>40.434291</td>\n",
       "    </tr>\n",
       "  </tbody>\n",
       "</table>\n",
       "</div>"
      ],
      "text/plain": [
       "                            Параметр  Первый регион  Второй регион   \\\n",
       "0  Средний предсказанный запас сырья      92.490393       68.829535   \n",
       "1                        RMSE модели      37.828145        0.890832   \n",
       "\n",
       "   Третий регилн  \n",
       "0      94.541696  \n",
       "1      40.434291  "
      ]
     },
     "metadata": {},
     "output_type": "display_data"
    }
   ],
   "source": [
    "table = pd.DataFrame({'Параметр':['Средний предсказанный запас сырья', 'RMSE модели'],\n",
    "                      'Первый регион':[predictions_mean_0, rmse_0],\n",
    "                      'Второй регион ':[predictions_mean_1, rmse_1],\n",
    "                      'Третий регилн':[predictions_mean_2, rmse_2]})\n",
    "display(table)\n"
   ]
  },
  {
   "cell_type": "markdown",
   "metadata": {},
   "source": [
    "### Для второго региона средний предсказанный запас сырья в скважине 68,8 тыс. баррелей значительно меньше других регионов (92,5 тыс. баррелей  и 94,5  тыс. баррелей для первого и третьего регинов соответсвенно) , однако  RMSE модели второго региона имеет самое низкое значение 0,89  в отличие от других регионов, где RMSE составляет 38- 40."
   ]
  },
  {
   "cell_type": "markdown",
   "metadata": {},
   "source": [
    "## Подготовка к расчёту прибыли"
   ]
  },
  {
   "cell_type": "markdown",
   "metadata": {},
   "source": [
    "#### Расчитаем объем добычи продукта для безубыточной разработки региона. И найдем среднее количество продукта в месторождениях необходимое для этого."
   ]
  },
  {
   "cell_type": "code",
   "execution_count": 13,
   "metadata": {},
   "outputs": [
    {
     "name": "stdout",
     "output_type": "stream",
     "text": [
      "Объем добычи для безубыточной разработки региона, тыс. баррелей 22222.22\n",
      "Объем добычи для безубыточной разработки скважины, тыс. баррелей 111.11\n"
     ]
    }
   ],
   "source": [
    "budget_per_region = 10000000 # бюджет на разработку в регионе, тыс.руб\n",
    "wells_total = 500 # 500 точек при исследовании\n",
    "wells_selected = 200 # 200 лучших для разработки скважин\n",
    "product_income = 450 # доход с каждой единицы продукта (1 тыс. баррелей), тыс. руб.\n",
    "damage_threshold = 0.025 # порог убытков\n",
    "non_damage_per_region = (budget_per_region/product_income)  # объем добычи   в регионе для безубыточной разработки\n",
    "non_damage_well = non_damage_per_region/wells_selected # объем добычи скважины для безубыточной разработки\n",
    "print(\"Объем добычи для безубыточной разработки региона, тыс. баррелей\", round(non_damage_per_region,2))\n",
    "print(\"Объем добычи для безубыточной разработки скважины, тыс. баррелей\", round(non_damage_well,2))"
   ]
  },
  {
   "cell_type": "markdown",
   "metadata": {},
   "source": [
    "#### Напишем функцию для расчета прибыли:"
   ]
  },
  {
   "cell_type": "code",
   "execution_count": 14,
   "metadata": {},
   "outputs": [],
   "source": [
    "def revenue(true_target, pred_target, count):\n",
    "    pred_target_sorted = pred_target.sort_values(ascending=False)\n",
    "    selected = true_target[pred_target_sorted.index][:count]\n",
    "    return product_income * selected.sum() - budget_per_region"
   ]
  },
  {
   "cell_type": "markdown",
   "metadata": {},
   "source": [
    "\n",
    "<div class=\"alert alert-block alert-success\">\n",
    "<b>Успех:</b> Ф-ция для подсчета прибыли определена верно\n",
    "</div>\n"
   ]
  },
  {
   "cell_type": "markdown",
   "metadata": {},
   "source": [
    "### Минимальное количество баррелей нефти для безубыточной разработки составило  111.11 тыс баррелей. Это больше средних предсказанных запасов продукта в каждом регионе (92.5 тыс. баррелей в первом регионе; 68.8 тыс. баррелей во втором регионе и 94.5 тыс. баррелей в в третьем регионе ). Но в регионах есть как хорошие, так и плохие скважины, и нам нужно выбрать 200 скважин, приносящих наибольшую прибыль."
   ]
  },
  {
   "cell_type": "markdown",
   "metadata": {},
   "source": [
    "<div class=\"alert alert-block alert-success\">\n",
    "<b>Успех:</b> Значение для безубыточной разработки посчитано верно, с выводом согласен  \n",
    "</div>\n"
   ]
  },
  {
   "cell_type": "markdown",
   "metadata": {},
   "source": [
    "## Расчёт прибыли и рисков "
   ]
  },
  {
   "cell_type": "markdown",
   "metadata": {},
   "source": [
    "#### Применим технику Bootstrap с 1000 выборок, чтобы найти  среднюю прибыль, 95%-й доверительный интервал и риск убытков для каждого региона."
   ]
  },
  {
   "cell_type": "code",
   "execution_count": 15,
   "metadata": {},
   "outputs": [],
   "source": [
    "# cгенерируем 1000 выборок по 500 случайных скважин в каждой\n",
    "# найдем предсказания модели, соответствующие этим скважинам\n",
    "# посчитаем суммарную прибыль с 200 лучших скважин\n",
    "state = np.random.RandomState(12345)\n",
    "def bootstrap (target, probs):\n",
    "    \n",
    "    values = []\n",
    "    count = 0  # убыточные скважины\n",
    "    for i in range(1000):\n",
    "        target_subsample = target.sample(500, replace=True, random_state=state)\n",
    "        probs_subsample = probs[target_subsample.index] \n",
    "        profit = revenue(target_subsample, probs_subsample, 200)\n",
    "        if profit< 0:  #  убытки\n",
    "            count += 1  \n",
    "        values.append(profit)\n",
    "    \n",
    "    values = pd.Series(values)\n",
    "    lower = values.quantile(0.025)\n",
    "    upper = values.quantile(0.975)\n",
    "    medium = values.mean()\n",
    "    risk = count / 1000\n",
    "    return medium, lower, upper, risk"
   ]
  },
  {
   "cell_type": "markdown",
   "metadata": {},
   "source": [
    "<div class=\"alert alert-block alert-success\">\n",
    "<b>Успех:</b> С бутстрапом тоже все в порядке, метрики считаются верным образом!  \n",
    "</div>"
   ]
  },
  {
   "cell_type": "code",
   "execution_count": 16,
   "metadata": {},
   "outputs": [],
   "source": [
    "\n",
    "medium_0, lower_0, upper_0, risk_0 = bootstrap(df_0['real_product'], df_0['predicted_product'])\n",
    "medium_1, lower_1, upper_1, risk_1 = bootstrap(df_1['real_product'],df_1['predicted_product'])\n",
    "medium_2, lower_2, upper_2, risk_2 = bootstrap(df_2['real_product'], df_2['predicted_product'])"
   ]
  },
  {
   "cell_type": "code",
   "execution_count": 17,
   "metadata": {},
   "outputs": [
    {
     "data": {
      "text/html": [
       "<div>\n",
       "<style scoped>\n",
       "    .dataframe tbody tr th:only-of-type {\n",
       "        vertical-align: middle;\n",
       "    }\n",
       "\n",
       "    .dataframe tbody tr th {\n",
       "        vertical-align: top;\n",
       "    }\n",
       "\n",
       "    .dataframe thead th {\n",
       "        text-align: right;\n",
       "    }\n",
       "</style>\n",
       "<table border=\"1\" class=\"dataframe\">\n",
       "  <thead>\n",
       "    <tr style=\"text-align: right;\">\n",
       "      <th></th>\n",
       "      <th>Параметр</th>\n",
       "      <th>Первый регион</th>\n",
       "      <th>Второй регион</th>\n",
       "      <th>Третий регион</th>\n",
       "    </tr>\n",
       "  </thead>\n",
       "  <tbody>\n",
       "    <tr>\n",
       "      <th>0</th>\n",
       "      <td>Средняя прибыль, тыс.руб.</td>\n",
       "      <td>382521.378132</td>\n",
       "      <td>512038.452985</td>\n",
       "      <td>339845.949187</td>\n",
       "    </tr>\n",
       "    <tr>\n",
       "      <th>1</th>\n",
       "      <td>Начало доверительного интервала</td>\n",
       "      <td>-129462.771589</td>\n",
       "      <td>87444.540553</td>\n",
       "      <td>-206970.354384</td>\n",
       "    </tr>\n",
       "    <tr>\n",
       "      <th>2</th>\n",
       "      <td>Конец доверительного интервала</td>\n",
       "      <td>890340.081364</td>\n",
       "      <td>932953.307486</td>\n",
       "      <td>873527.368339</td>\n",
       "    </tr>\n",
       "    <tr>\n",
       "      <th>3</th>\n",
       "      <td>Риск убытков</td>\n",
       "      <td>0.080000</td>\n",
       "      <td>0.010000</td>\n",
       "      <td>0.105000</td>\n",
       "    </tr>\n",
       "  </tbody>\n",
       "</table>\n",
       "</div>"
      ],
      "text/plain": [
       "                          Параметр  Первый регион  Второй регион  \\\n",
       "0        Средняя прибыль, тыс.руб.  382521.378132  512038.452985   \n",
       "1  Начало доверительного интервала -129462.771589   87444.540553   \n",
       "2   Конец доверительного интервала  890340.081364  932953.307486   \n",
       "3                     Риск убытков       0.080000       0.010000   \n",
       "\n",
       "   Третий регион  \n",
       "0  339845.949187  \n",
       "1 -206970.354384  \n",
       "2  873527.368339  \n",
       "3       0.105000  "
      ]
     },
     "metadata": {},
     "output_type": "display_data"
    }
   ],
   "source": [
    "table_final = pd.DataFrame({'Параметр':['Средняя прибыль, тыс.руб.', 'Начало доверительного интервала',\n",
    "                                        'Конец доверительного интервала', 'Риск убытков'],\n",
    "                            'Первый регион':[medium_0, lower_0, upper_0, risk_0],\n",
    "                            'Второй регион':[medium_1, lower_1, upper_1, risk_1],\n",
    "                            'Третий регион':[medium_2, lower_2, upper_2, risk_2]})\n",
    "\n",
    "display(table_final)"
   ]
  },
  {
   "cell_type": "markdown",
   "metadata": {},
   "source": [
    "### Наиболее выгодным  для разработки является  второй регион, имеющий наибольшую среднюю прибыль 512 мил. рублей.  С вероятностью 95% прибыль  второго региона окажется в промежутке от 87,4 до 932,9 млн руб.  В этом регионе самые маленькие риски убытков - 1%.  В первом и третьем регионах приьбыль меньше (382,5 мил. рублей, 339,8 мил. рублей)  и риски убытков выше (8% и 10,5% соответсвенно)"
   ]
  },
  {
   "cell_type": "code",
   "execution_count": null,
   "metadata": {},
   "outputs": [],
   "source": []
  }
 ],
 "metadata": {
  "ExecuteTimeLog": [
   {
    "duration": 1097,
    "start_time": "2023-03-02T07:01:21.199Z"
   },
   {
    "duration": 1562,
    "start_time": "2023-03-02T07:02:45.492Z"
   },
   {
    "duration": 25,
    "start_time": "2023-03-02T07:03:40.724Z"
   },
   {
    "duration": 126,
    "start_time": "2023-03-02T08:48:18.083Z"
   },
   {
    "duration": 8,
    "start_time": "2023-03-02T08:48:32.392Z"
   },
   {
    "duration": 459,
    "start_time": "2023-03-02T08:48:41.571Z"
   },
   {
    "duration": 3,
    "start_time": "2023-03-02T08:48:43.777Z"
   },
   {
    "duration": 14,
    "start_time": "2023-03-02T08:48:47.751Z"
   },
   {
    "duration": 20,
    "start_time": "2023-03-02T08:48:50.059Z"
   },
   {
    "duration": 12,
    "start_time": "2023-03-02T08:49:06.109Z"
   },
   {
    "duration": 24,
    "start_time": "2023-03-02T08:51:10.054Z"
   },
   {
    "duration": 23,
    "start_time": "2023-03-02T08:53:22.456Z"
   },
   {
    "duration": 79,
    "start_time": "2023-03-02T08:53:41.925Z"
   },
   {
    "duration": 142,
    "start_time": "2023-03-02T08:54:20.270Z"
   },
   {
    "duration": 94,
    "start_time": "2023-03-02T08:55:09.397Z"
   },
   {
    "duration": 87,
    "start_time": "2023-03-02T08:57:17.905Z"
   },
   {
    "duration": 30,
    "start_time": "2023-03-02T09:05:29.787Z"
   },
   {
    "duration": 83,
    "start_time": "2023-03-02T09:05:46.927Z"
   },
   {
    "duration": 13,
    "start_time": "2023-03-02T09:06:28.938Z"
   },
   {
    "duration": 31,
    "start_time": "2023-03-02T09:06:42.781Z"
   },
   {
    "duration": 52,
    "start_time": "2023-03-02T09:09:23.357Z"
   },
   {
    "duration": 207,
    "start_time": "2023-03-02T09:11:57.144Z"
   },
   {
    "duration": 220,
    "start_time": "2023-03-02T09:15:13.739Z"
   },
   {
    "duration": 195,
    "start_time": "2023-03-02T09:15:41.715Z"
   },
   {
    "duration": 235,
    "start_time": "2023-03-02T09:17:04.907Z"
   },
   {
    "duration": 280,
    "start_time": "2023-03-02T09:17:20.524Z"
   },
   {
    "duration": 51,
    "start_time": "2023-03-02T09:17:57.633Z"
   },
   {
    "duration": 295,
    "start_time": "2023-03-02T09:18:15.475Z"
   },
   {
    "duration": 219,
    "start_time": "2023-03-02T09:19:56.179Z"
   },
   {
    "duration": 192,
    "start_time": "2023-03-02T09:20:22.010Z"
   },
   {
    "duration": 235,
    "start_time": "2023-03-02T09:21:10.680Z"
   },
   {
    "duration": 253,
    "start_time": "2023-03-02T09:21:36.127Z"
   },
   {
    "duration": 263,
    "start_time": "2023-03-02T09:21:47.994Z"
   },
   {
    "duration": 234,
    "start_time": "2023-03-02T09:22:23.185Z"
   },
   {
    "duration": 216,
    "start_time": "2023-03-02T09:22:51.986Z"
   },
   {
    "duration": 241,
    "start_time": "2023-03-02T09:23:52.924Z"
   },
   {
    "duration": 226,
    "start_time": "2023-03-02T09:24:20.758Z"
   },
   {
    "duration": 528,
    "start_time": "2023-03-02T09:28:33.014Z"
   },
   {
    "duration": 526,
    "start_time": "2023-03-02T09:30:59.511Z"
   },
   {
    "duration": 873,
    "start_time": "2023-03-02T09:59:44.283Z"
   },
   {
    "duration": 177,
    "start_time": "2023-03-02T10:30:41.820Z"
   },
   {
    "duration": 5,
    "start_time": "2023-03-02T10:30:57.983Z"
   },
   {
    "duration": 390,
    "start_time": "2023-03-02T10:31:03.753Z"
   },
   {
    "duration": 2576,
    "start_time": "2023-03-02T10:31:48.802Z"
   },
   {
    "duration": 385,
    "start_time": "2023-03-02T10:32:47.414Z"
   },
   {
    "duration": 408,
    "start_time": "2023-03-02T10:37:48.364Z"
   },
   {
    "duration": 412,
    "start_time": "2023-03-02T10:38:20.708Z"
   },
   {
    "duration": 2023,
    "start_time": "2023-03-02T10:41:28.158Z"
   },
   {
    "duration": 170,
    "start_time": "2023-03-02T10:45:03.355Z"
   },
   {
    "duration": 156,
    "start_time": "2023-03-02T10:45:43.179Z"
   },
   {
    "duration": 2032,
    "start_time": "2023-03-02T10:48:37.353Z"
   },
   {
    "duration": 151,
    "start_time": "2023-03-02T10:50:03.267Z"
   },
   {
    "duration": 496,
    "start_time": "2023-03-02T10:57:55.544Z"
   },
   {
    "duration": 1765,
    "start_time": "2023-03-02T10:58:18.791Z"
   },
   {
    "duration": 1356,
    "start_time": "2023-03-02T10:58:45.931Z"
   },
   {
    "duration": 389,
    "start_time": "2023-03-02T11:04:40.970Z"
   },
   {
    "duration": 2310,
    "start_time": "2023-03-02T11:05:07.247Z"
   },
   {
    "duration": 2612,
    "start_time": "2023-03-02T11:06:16.904Z"
   },
   {
    "duration": 401,
    "start_time": "2023-03-02T11:07:12.753Z"
   },
   {
    "duration": 452,
    "start_time": "2023-03-02T11:11:24.444Z"
   },
   {
    "duration": 100,
    "start_time": "2023-03-02T11:33:11.135Z"
   },
   {
    "duration": 58,
    "start_time": "2023-03-02T11:36:27.217Z"
   },
   {
    "duration": 59,
    "start_time": "2023-03-02T11:36:34.965Z"
   },
   {
    "duration": 58,
    "start_time": "2023-03-02T11:37:18.826Z"
   },
   {
    "duration": 31,
    "start_time": "2023-03-02T11:54:49.311Z"
   },
   {
    "duration": 5,
    "start_time": "2023-03-02T11:55:23.817Z"
   },
   {
    "duration": 1170,
    "start_time": "2023-03-02T11:55:28.517Z"
   },
   {
    "duration": 1593,
    "start_time": "2023-03-03T03:02:14.037Z"
   },
   {
    "duration": 793,
    "start_time": "2023-03-03T03:02:15.632Z"
   },
   {
    "duration": 3,
    "start_time": "2023-03-03T03:02:18.049Z"
   },
   {
    "duration": 1649,
    "start_time": "2023-03-03T03:02:33.853Z"
   },
   {
    "duration": 74,
    "start_time": "2023-03-03T03:06:12.545Z"
   },
   {
    "duration": 1488,
    "start_time": "2023-03-03T03:06:34.256Z"
   },
   {
    "duration": 463,
    "start_time": "2023-03-03T03:07:15.141Z"
   },
   {
    "duration": 361,
    "start_time": "2023-03-03T03:07:47.363Z"
   },
   {
    "duration": 78,
    "start_time": "2023-03-03T03:09:33.415Z"
   },
   {
    "duration": 417,
    "start_time": "2023-03-03T03:10:01.894Z"
   },
   {
    "duration": 409,
    "start_time": "2023-03-03T03:11:35.210Z"
   },
   {
    "duration": 1562,
    "start_time": "2023-03-03T03:12:47.861Z"
   },
   {
    "duration": 1271,
    "start_time": "2023-03-03T03:18:16.412Z"
   },
   {
    "duration": 1399,
    "start_time": "2023-03-03T03:20:52.676Z"
   },
   {
    "duration": 1409,
    "start_time": "2023-03-03T03:21:13.941Z"
   },
   {
    "duration": 1489,
    "start_time": "2023-03-03T03:23:33.634Z"
   },
   {
    "duration": 1576,
    "start_time": "2023-03-03T03:24:10.248Z"
   },
   {
    "duration": 1373,
    "start_time": "2023-03-03T03:24:42.902Z"
   },
   {
    "duration": 506,
    "start_time": "2023-03-03T03:27:57.902Z"
   },
   {
    "duration": 1430,
    "start_time": "2023-03-03T03:29:27.918Z"
   },
   {
    "duration": 110,
    "start_time": "2023-03-03T03:34:36.622Z"
   },
   {
    "duration": 1805,
    "start_time": "2023-03-03T03:35:43.837Z"
   },
   {
    "duration": 1550,
    "start_time": "2023-03-03T03:36:21.092Z"
   },
   {
    "duration": 1655,
    "start_time": "2023-03-03T03:36:47.922Z"
   },
   {
    "duration": 1499,
    "start_time": "2023-03-03T04:10:23.614Z"
   },
   {
    "duration": 1644,
    "start_time": "2023-03-03T04:11:21.814Z"
   },
   {
    "duration": 1420,
    "start_time": "2023-03-03T04:11:49.575Z"
   },
   {
    "duration": 1824,
    "start_time": "2023-03-03T04:12:08.445Z"
   },
   {
    "duration": 1788,
    "start_time": "2023-03-03T04:13:28.578Z"
   },
   {
    "duration": 1962,
    "start_time": "2023-03-03T04:14:03.555Z"
   },
   {
    "duration": 1809,
    "start_time": "2023-03-03T04:14:19.942Z"
   },
   {
    "duration": 1633,
    "start_time": "2023-03-03T04:15:06.845Z"
   },
   {
    "duration": 1666,
    "start_time": "2023-03-03T04:37:42.382Z"
   },
   {
    "duration": 1488,
    "start_time": "2023-03-03T04:38:16.174Z"
   },
   {
    "duration": 2375,
    "start_time": "2023-03-03T04:47:26.094Z"
   },
   {
    "duration": 47,
    "start_time": "2023-03-03T04:59:02.889Z"
   },
   {
    "duration": 5742,
    "start_time": "2023-03-03T05:14:32.702Z"
   },
   {
    "duration": 2283,
    "start_time": "2023-03-03T05:15:33.954Z"
   },
   {
    "duration": 5382,
    "start_time": "2023-03-03T05:15:53.866Z"
   },
   {
    "duration": 5167,
    "start_time": "2023-03-03T05:16:49.766Z"
   },
   {
    "duration": 0,
    "start_time": "2023-03-03T05:18:31.384Z"
   },
   {
    "duration": 15754,
    "start_time": "2023-03-03T05:20:39.613Z"
   },
   {
    "duration": 15747,
    "start_time": "2023-03-03T05:21:45.856Z"
   },
   {
    "duration": 15696,
    "start_time": "2023-03-03T05:46:00.919Z"
   },
   {
    "duration": 18198,
    "start_time": "2023-03-03T05:50:57.494Z"
   },
   {
    "duration": 37,
    "start_time": "2023-03-03T05:59:11.090Z"
   },
   {
    "duration": 11403,
    "start_time": "2023-03-03T06:00:24.322Z"
   },
   {
    "duration": 20,
    "start_time": "2023-03-03T06:03:15.955Z"
   },
   {
    "duration": 12588,
    "start_time": "2023-03-03T06:06:57.692Z"
   },
   {
    "duration": 1642,
    "start_time": "2023-03-03T06:12:32.998Z"
   },
   {
    "duration": 12017,
    "start_time": "2023-03-03T06:15:40.798Z"
   },
   {
    "duration": 12028,
    "start_time": "2023-03-03T06:17:40.790Z"
   },
   {
    "duration": 26,
    "start_time": "2023-03-03T06:24:28.566Z"
   },
   {
    "duration": 24,
    "start_time": "2023-03-03T06:25:06.470Z"
   },
   {
    "duration": 12449,
    "start_time": "2023-03-03T06:25:51.424Z"
   },
   {
    "duration": 12168,
    "start_time": "2023-03-03T06:26:16.519Z"
   },
   {
    "duration": 1460,
    "start_time": "2023-03-03T06:35:07.020Z"
   },
   {
    "duration": 1926,
    "start_time": "2023-03-03T06:35:53.084Z"
   },
   {
    "duration": 19,
    "start_time": "2023-03-03T06:36:34.444Z"
   },
   {
    "duration": 18,
    "start_time": "2023-03-03T06:36:45.258Z"
   },
   {
    "duration": 13,
    "start_time": "2023-03-03T06:37:08.755Z"
   },
   {
    "duration": 11,
    "start_time": "2023-03-03T06:37:43.066Z"
   },
   {
    "duration": 15,
    "start_time": "2023-03-03T06:38:12.245Z"
   },
   {
    "duration": 1482,
    "start_time": "2023-03-03T06:38:20.628Z"
   },
   {
    "duration": 404,
    "start_time": "2023-03-03T06:38:22.113Z"
   },
   {
    "duration": 4,
    "start_time": "2023-03-03T06:38:22.519Z"
   },
   {
    "duration": 2504,
    "start_time": "2023-03-03T06:38:22.525Z"
   },
   {
    "duration": 45,
    "start_time": "2023-03-03T06:38:25.031Z"
   },
   {
    "duration": 3242,
    "start_time": "2023-03-03T06:38:25.078Z"
   },
   {
    "duration": 3332,
    "start_time": "2023-03-03T06:41:58.774Z"
   },
   {
    "duration": 3211,
    "start_time": "2023-03-03T06:42:32.222Z"
   },
   {
    "duration": 1356,
    "start_time": "2023-03-03T06:42:55.903Z"
   },
   {
    "duration": 1244,
    "start_time": "2023-03-03T06:43:10.895Z"
   },
   {
    "duration": 1250,
    "start_time": "2023-03-03T06:43:28.995Z"
   },
   {
    "duration": 1382,
    "start_time": "2023-03-03T06:43:55.190Z"
   },
   {
    "duration": 395,
    "start_time": "2023-03-03T06:43:56.574Z"
   },
   {
    "duration": 4,
    "start_time": "2023-03-03T06:43:56.971Z"
   },
   {
    "duration": 2326,
    "start_time": "2023-03-03T06:43:56.977Z"
   },
   {
    "duration": 44,
    "start_time": "2023-03-03T06:43:59.305Z"
   },
   {
    "duration": 3189,
    "start_time": "2023-03-03T06:43:59.350Z"
   },
   {
    "duration": 3172,
    "start_time": "2023-03-03T06:44:11.715Z"
   },
   {
    "duration": 71,
    "start_time": "2023-03-03T06:46:41.273Z"
   },
   {
    "duration": 1334,
    "start_time": "2023-03-03T06:46:50.209Z"
   },
   {
    "duration": 1426,
    "start_time": "2023-03-03T06:46:58.452Z"
   },
   {
    "duration": 406,
    "start_time": "2023-03-03T06:46:59.881Z"
   },
   {
    "duration": 3,
    "start_time": "2023-03-03T06:47:00.289Z"
   },
   {
    "duration": 2592,
    "start_time": "2023-03-03T06:47:00.294Z"
   },
   {
    "duration": 76,
    "start_time": "2023-03-03T06:47:02.889Z"
   },
   {
    "duration": 3387,
    "start_time": "2023-03-03T06:47:02.967Z"
   },
   {
    "duration": 1302,
    "start_time": "2023-03-03T06:48:59.218Z"
   },
   {
    "duration": 1329,
    "start_time": "2023-03-03T06:52:04.550Z"
   },
   {
    "duration": 1391,
    "start_time": "2023-03-03T06:52:12.999Z"
   },
   {
    "duration": 385,
    "start_time": "2023-03-03T06:52:14.392Z"
   },
   {
    "duration": 3,
    "start_time": "2023-03-03T06:52:14.779Z"
   },
   {
    "duration": 2467,
    "start_time": "2023-03-03T06:52:14.784Z"
   },
   {
    "duration": 43,
    "start_time": "2023-03-03T06:52:17.252Z"
   },
   {
    "duration": 3239,
    "start_time": "2023-03-03T06:52:17.298Z"
   },
   {
    "duration": 3241,
    "start_time": "2023-03-03T06:53:03.010Z"
   },
   {
    "duration": 1218,
    "start_time": "2023-03-03T06:56:45.819Z"
   },
   {
    "duration": 3069,
    "start_time": "2023-03-03T06:57:16.712Z"
   },
   {
    "duration": 1353,
    "start_time": "2023-03-03T07:21:43.983Z"
   },
   {
    "duration": 1330,
    "start_time": "2023-03-03T07:21:59.844Z"
   },
   {
    "duration": 402,
    "start_time": "2023-03-03T07:22:01.176Z"
   },
   {
    "duration": 3,
    "start_time": "2023-03-03T07:22:01.580Z"
   },
   {
    "duration": 2369,
    "start_time": "2023-03-03T07:22:01.584Z"
   },
   {
    "duration": 33,
    "start_time": "2023-03-03T07:22:03.955Z"
   },
   {
    "duration": 3337,
    "start_time": "2023-03-03T07:22:03.990Z"
   },
   {
    "duration": 3186,
    "start_time": "2023-03-03T07:22:21.843Z"
   },
   {
    "duration": 4666,
    "start_time": "2023-03-03T07:24:54.469Z"
   },
   {
    "duration": 1473,
    "start_time": "2023-03-03T07:25:32.333Z"
   },
   {
    "duration": 414,
    "start_time": "2023-03-03T07:25:33.808Z"
   },
   {
    "duration": 3,
    "start_time": "2023-03-03T07:25:34.224Z"
   },
   {
    "duration": 2453,
    "start_time": "2023-03-03T07:25:34.229Z"
   },
   {
    "duration": 35,
    "start_time": "2023-03-03T07:25:36.684Z"
   },
   {
    "duration": 10616,
    "start_time": "2023-03-03T07:25:36.721Z"
   },
   {
    "duration": 1396,
    "start_time": "2023-03-03T07:25:56.179Z"
   },
   {
    "duration": 1403,
    "start_time": "2023-03-03T07:27:08.599Z"
   },
   {
    "duration": 388,
    "start_time": "2023-03-03T07:27:10.004Z"
   },
   {
    "duration": 3,
    "start_time": "2023-03-03T07:27:10.394Z"
   },
   {
    "duration": 2274,
    "start_time": "2023-03-03T07:27:10.400Z"
   },
   {
    "duration": 33,
    "start_time": "2023-03-03T07:27:12.675Z"
   },
   {
    "duration": 10171,
    "start_time": "2023-03-03T07:27:12.710Z"
   },
   {
    "duration": 1785,
    "start_time": "2023-03-03T07:31:22.190Z"
   },
   {
    "duration": 1406,
    "start_time": "2023-03-03T07:32:53.918Z"
   },
   {
    "duration": 1280,
    "start_time": "2023-03-03T07:33:15.973Z"
   },
   {
    "duration": 1391,
    "start_time": "2023-03-03T07:33:46.402Z"
   },
   {
    "duration": 405,
    "start_time": "2023-03-03T07:33:47.795Z"
   },
   {
    "duration": 3,
    "start_time": "2023-03-03T07:33:48.202Z"
   },
   {
    "duration": 2459,
    "start_time": "2023-03-03T07:33:48.207Z"
   },
   {
    "duration": 34,
    "start_time": "2023-03-03T07:33:50.668Z"
   },
   {
    "duration": 11186,
    "start_time": "2023-03-03T07:33:50.704Z"
   },
   {
    "duration": 11204,
    "start_time": "2023-03-03T07:34:25.265Z"
   },
   {
    "duration": 11088,
    "start_time": "2023-03-03T07:34:40.192Z"
   },
   {
    "duration": 11329,
    "start_time": "2023-03-03T07:37:21.358Z"
   },
   {
    "duration": 12060,
    "start_time": "2023-03-03T07:39:12.207Z"
   },
   {
    "duration": 1925,
    "start_time": "2023-03-03T07:39:33.188Z"
   },
   {
    "duration": 1369,
    "start_time": "2023-03-03T07:39:41.925Z"
   },
   {
    "duration": 1557,
    "start_time": "2023-03-03T07:40:01.565Z"
   },
   {
    "duration": 469,
    "start_time": "2023-03-03T07:40:03.124Z"
   },
   {
    "duration": 3,
    "start_time": "2023-03-03T07:40:03.595Z"
   },
   {
    "duration": 2768,
    "start_time": "2023-03-03T07:40:03.600Z"
   },
   {
    "duration": 38,
    "start_time": "2023-03-03T07:40:06.371Z"
   },
   {
    "duration": 11168,
    "start_time": "2023-03-03T07:40:06.411Z"
   },
   {
    "duration": 11293,
    "start_time": "2023-03-03T07:44:17.205Z"
   },
   {
    "duration": 10658,
    "start_time": "2023-03-03T07:46:14.114Z"
   },
   {
    "duration": 11538,
    "start_time": "2023-03-03T07:46:59.466Z"
   },
   {
    "duration": 11131,
    "start_time": "2023-03-03T07:48:30.104Z"
   },
   {
    "duration": 11282,
    "start_time": "2023-03-03T07:49:36.463Z"
   },
   {
    "duration": 3,
    "start_time": "2023-03-03T08:23:54.570Z"
   },
   {
    "duration": 96,
    "start_time": "2023-03-03T08:24:09.611Z"
   },
   {
    "duration": 91,
    "start_time": "2023-03-03T08:25:12.838Z"
   },
   {
    "duration": 116,
    "start_time": "2023-03-03T08:25:39.971Z"
   },
   {
    "duration": 4,
    "start_time": "2023-03-03T08:25:53.428Z"
   },
   {
    "duration": 4,
    "start_time": "2023-03-03T08:27:04.640Z"
   },
   {
    "duration": 7,
    "start_time": "2023-03-03T08:27:29.953Z"
   },
   {
    "duration": 3,
    "start_time": "2023-03-03T08:27:48.511Z"
   },
   {
    "duration": 4,
    "start_time": "2023-03-03T08:28:12.664Z"
   },
   {
    "duration": 4,
    "start_time": "2023-03-03T08:28:36.270Z"
   },
   {
    "duration": 77,
    "start_time": "2023-03-03T08:29:22.412Z"
   },
   {
    "duration": 11,
    "start_time": "2023-03-03T08:29:39.086Z"
   },
   {
    "duration": 30,
    "start_time": "2023-03-03T08:30:15.839Z"
   },
   {
    "duration": 5,
    "start_time": "2023-03-03T08:30:40.601Z"
   },
   {
    "duration": 10,
    "start_time": "2023-03-03T08:31:06.893Z"
   },
   {
    "duration": 14,
    "start_time": "2023-03-03T08:31:25.328Z"
   },
   {
    "duration": 10,
    "start_time": "2023-03-03T08:32:37.372Z"
   },
   {
    "duration": 22,
    "start_time": "2023-03-03T08:40:31.486Z"
   },
   {
    "duration": 15,
    "start_time": "2023-03-03T08:41:29.586Z"
   },
   {
    "duration": 41,
    "start_time": "2023-03-03T08:43:23.984Z"
   },
   {
    "duration": 47,
    "start_time": "2023-03-03T08:43:45.212Z"
   },
   {
    "duration": 35,
    "start_time": "2023-03-03T08:44:08.403Z"
   },
   {
    "duration": 29,
    "start_time": "2023-03-03T08:45:01.195Z"
   },
   {
    "duration": 4,
    "start_time": "2023-03-03T09:41:24.902Z"
   },
   {
    "duration": 14,
    "start_time": "2023-03-03T09:47:28.892Z"
   },
   {
    "duration": 1536,
    "start_time": "2023-03-03T09:48:28.765Z"
   },
   {
    "duration": 401,
    "start_time": "2023-03-03T09:48:30.303Z"
   },
   {
    "duration": 2,
    "start_time": "2023-03-03T09:48:30.706Z"
   },
   {
    "duration": 2387,
    "start_time": "2023-03-03T09:48:30.710Z"
   },
   {
    "duration": 52,
    "start_time": "2023-03-03T09:48:33.099Z"
   },
   {
    "duration": 10125,
    "start_time": "2023-03-03T09:48:33.153Z"
   },
   {
    "duration": 150,
    "start_time": "2023-03-03T09:48:43.280Z"
   },
   {
    "duration": 126,
    "start_time": "2023-03-03T09:48:43.432Z"
   },
   {
    "duration": 98,
    "start_time": "2023-03-03T09:48:43.560Z"
   },
   {
    "duration": 110,
    "start_time": "2023-03-03T10:28:07.506Z"
   },
   {
    "duration": 4,
    "start_time": "2023-03-03T10:29:02.009Z"
   },
   {
    "duration": 5,
    "start_time": "2023-03-03T10:29:39.976Z"
   },
   {
    "duration": 4,
    "start_time": "2023-03-03T10:31:21.577Z"
   },
   {
    "duration": 4,
    "start_time": "2023-03-03T10:32:28.027Z"
   },
   {
    "duration": 5,
    "start_time": "2023-03-03T10:36:30.684Z"
   },
   {
    "duration": 1677,
    "start_time": "2023-03-06T05:00:43.818Z"
   },
   {
    "duration": 1105,
    "start_time": "2023-03-06T05:00:45.497Z"
   },
   {
    "duration": 3,
    "start_time": "2023-03-06T05:00:46.603Z"
   },
   {
    "duration": 206,
    "start_time": "2023-03-06T05:00:46.609Z"
   },
   {
    "duration": 2055,
    "start_time": "2023-03-06T05:00:46.817Z"
   },
   {
    "duration": 30,
    "start_time": "2023-03-06T05:00:48.876Z"
   },
   {
    "duration": 10954,
    "start_time": "2023-03-06T05:00:48.907Z"
   },
   {
    "duration": 164,
    "start_time": "2023-03-06T05:00:59.868Z"
   },
   {
    "duration": 122,
    "start_time": "2023-03-06T05:01:00.034Z"
   },
   {
    "duration": 91,
    "start_time": "2023-03-06T05:01:00.160Z"
   },
   {
    "duration": 164,
    "start_time": "2023-03-06T05:01:00.268Z"
   },
   {
    "duration": 0,
    "start_time": "2023-03-06T05:01:00.433Z"
   },
   {
    "duration": 149,
    "start_time": "2023-03-06T05:01:35.139Z"
   },
   {
    "duration": 2062,
    "start_time": "2023-03-06T05:03:59.881Z"
   },
   {
    "duration": 201,
    "start_time": "2023-03-06T05:06:04.624Z"
   },
   {
    "duration": 159,
    "start_time": "2023-03-06T05:07:29.311Z"
   },
   {
    "duration": 186,
    "start_time": "2023-03-06T05:08:17.421Z"
   },
   {
    "duration": 167,
    "start_time": "2023-03-06T05:09:09.093Z"
   },
   {
    "duration": 216,
    "start_time": "2023-03-06T05:09:33.147Z"
   },
   {
    "duration": 148,
    "start_time": "2023-03-06T05:10:43.878Z"
   },
   {
    "duration": 1413,
    "start_time": "2023-03-06T05:11:41.867Z"
   },
   {
    "duration": 407,
    "start_time": "2023-03-06T05:11:43.285Z"
   },
   {
    "duration": 3,
    "start_time": "2023-03-06T05:11:43.693Z"
   },
   {
    "duration": 294,
    "start_time": "2023-03-06T05:11:43.698Z"
   },
   {
    "duration": 2342,
    "start_time": "2023-03-06T05:11:43.994Z"
   },
   {
    "duration": 47,
    "start_time": "2023-03-06T05:11:46.348Z"
   },
   {
    "duration": 11034,
    "start_time": "2023-03-06T05:11:46.397Z"
   },
   {
    "duration": 176,
    "start_time": "2023-03-06T05:11:57.433Z"
   },
   {
    "duration": 165,
    "start_time": "2023-03-06T05:11:57.611Z"
   },
   {
    "duration": 173,
    "start_time": "2023-03-06T05:11:57.779Z"
   },
   {
    "duration": 141,
    "start_time": "2023-03-06T05:11:57.954Z"
   },
   {
    "duration": 0,
    "start_time": "2023-03-06T05:11:58.097Z"
   },
   {
    "duration": 108,
    "start_time": "2023-03-06T05:28:49.303Z"
   },
   {
    "duration": 1832,
    "start_time": "2023-03-06T05:29:03.189Z"
   },
   {
    "duration": 118,
    "start_time": "2023-03-06T05:30:04.510Z"
   },
   {
    "duration": 4,
    "start_time": "2023-03-06T05:57:36.850Z"
   },
   {
    "duration": 1232,
    "start_time": "2023-03-06T05:57:38.795Z"
   },
   {
    "duration": 4,
    "start_time": "2023-03-06T05:58:03.153Z"
   },
   {
    "duration": 368,
    "start_time": "2023-03-06T05:58:04.901Z"
   },
   {
    "duration": 3,
    "start_time": "2023-03-06T05:58:06.820Z"
   },
   {
    "duration": 1371,
    "start_time": "2023-03-06T05:58:22.469Z"
   },
   {
    "duration": 391,
    "start_time": "2023-03-06T05:58:23.842Z"
   },
   {
    "duration": 3,
    "start_time": "2023-03-06T05:58:24.234Z"
   },
   {
    "duration": 364,
    "start_time": "2023-03-06T05:58:24.239Z"
   },
   {
    "duration": 110,
    "start_time": "2023-03-06T05:58:24.606Z"
   },
   {
    "duration": 0,
    "start_time": "2023-03-06T05:58:24.718Z"
   },
   {
    "duration": 0,
    "start_time": "2023-03-06T05:58:24.719Z"
   },
   {
    "duration": 0,
    "start_time": "2023-03-06T05:58:24.720Z"
   },
   {
    "duration": 0,
    "start_time": "2023-03-06T05:58:24.722Z"
   },
   {
    "duration": 0,
    "start_time": "2023-03-06T05:58:24.723Z"
   },
   {
    "duration": 0,
    "start_time": "2023-03-06T05:58:24.724Z"
   },
   {
    "duration": 0,
    "start_time": "2023-03-06T05:58:24.725Z"
   },
   {
    "duration": 100,
    "start_time": "2023-03-06T06:42:22.320Z"
   },
   {
    "duration": 80,
    "start_time": "2023-03-06T06:42:49.828Z"
   },
   {
    "duration": 2181,
    "start_time": "2023-03-06T06:44:06.250Z"
   },
   {
    "duration": 34,
    "start_time": "2023-03-06T06:44:59.831Z"
   },
   {
    "duration": 19,
    "start_time": "2023-03-06T06:45:35.861Z"
   },
   {
    "duration": 15,
    "start_time": "2023-03-06T06:48:13.570Z"
   },
   {
    "duration": 17,
    "start_time": "2023-03-06T06:48:43.337Z"
   },
   {
    "duration": 1656,
    "start_time": "2023-03-06T06:49:45.352Z"
   },
   {
    "duration": 368,
    "start_time": "2023-03-06T06:49:47.011Z"
   },
   {
    "duration": 3,
    "start_time": "2023-03-06T06:49:47.381Z"
   },
   {
    "duration": 291,
    "start_time": "2023-03-06T06:49:47.386Z"
   },
   {
    "duration": 96,
    "start_time": "2023-03-06T06:49:47.679Z"
   },
   {
    "duration": 44,
    "start_time": "2023-03-06T06:49:47.777Z"
   },
   {
    "duration": 138,
    "start_time": "2023-03-06T06:49:47.823Z"
   },
   {
    "duration": 0,
    "start_time": "2023-03-06T06:49:47.963Z"
   },
   {
    "duration": 0,
    "start_time": "2023-03-06T06:49:47.965Z"
   },
   {
    "duration": 0,
    "start_time": "2023-03-06T06:49:47.966Z"
   },
   {
    "duration": 0,
    "start_time": "2023-03-06T06:49:47.968Z"
   },
   {
    "duration": 0,
    "start_time": "2023-03-06T06:49:47.970Z"
   },
   {
    "duration": 0,
    "start_time": "2023-03-06T06:49:47.972Z"
   },
   {
    "duration": 1186,
    "start_time": "2023-03-06T07:02:39.803Z"
   },
   {
    "duration": 2101,
    "start_time": "2023-03-06T07:07:52.443Z"
   },
   {
    "duration": 9,
    "start_time": "2023-03-06T07:10:43.827Z"
   },
   {
    "duration": 2337,
    "start_time": "2023-03-06T07:11:55.177Z"
   },
   {
    "duration": 2369,
    "start_time": "2023-03-06T07:15:41.909Z"
   },
   {
    "duration": 1489,
    "start_time": "2023-03-06T07:26:50.450Z"
   },
   {
    "duration": 8,
    "start_time": "2023-03-06T07:27:25.703Z"
   },
   {
    "duration": 25,
    "start_time": "2023-03-06T07:34:19.455Z"
   },
   {
    "duration": 29,
    "start_time": "2023-03-06T07:37:02.065Z"
   },
   {
    "duration": 1456,
    "start_time": "2023-03-06T07:37:19.351Z"
   },
   {
    "duration": 377,
    "start_time": "2023-03-06T07:37:20.809Z"
   },
   {
    "duration": 3,
    "start_time": "2023-03-06T07:37:21.188Z"
   },
   {
    "duration": 325,
    "start_time": "2023-03-06T07:37:21.194Z"
   },
   {
    "duration": 101,
    "start_time": "2023-03-06T07:37:21.522Z"
   },
   {
    "duration": 54,
    "start_time": "2023-03-06T07:37:21.625Z"
   },
   {
    "duration": 1204,
    "start_time": "2023-03-06T07:37:21.681Z"
   },
   {
    "duration": 127,
    "start_time": "2023-03-06T07:37:22.887Z"
   },
   {
    "duration": 0,
    "start_time": "2023-03-06T07:37:23.016Z"
   },
   {
    "duration": 0,
    "start_time": "2023-03-06T07:37:23.017Z"
   },
   {
    "duration": 0,
    "start_time": "2023-03-06T07:37:23.018Z"
   },
   {
    "duration": 0,
    "start_time": "2023-03-06T07:37:23.019Z"
   },
   {
    "duration": 0,
    "start_time": "2023-03-06T07:37:23.020Z"
   },
   {
    "duration": 1359,
    "start_time": "2023-03-06T07:37:48.411Z"
   },
   {
    "duration": 28,
    "start_time": "2023-03-06T07:41:36.434Z"
   },
   {
    "duration": 1339,
    "start_time": "2023-03-06T07:47:13.188Z"
   },
   {
    "duration": 1060,
    "start_time": "2023-03-06T07:56:04.982Z"
   },
   {
    "duration": 28,
    "start_time": "2023-03-06T07:59:14.655Z"
   },
   {
    "duration": 1422,
    "start_time": "2023-03-06T08:01:50.118Z"
   },
   {
    "duration": 96,
    "start_time": "2023-03-06T08:13:59.719Z"
   },
   {
    "duration": 160,
    "start_time": "2023-03-06T08:14:51.291Z"
   },
   {
    "duration": 181,
    "start_time": "2023-03-06T08:15:14.906Z"
   },
   {
    "duration": 165,
    "start_time": "2023-03-06T08:15:38.952Z"
   },
   {
    "duration": 91,
    "start_time": "2023-03-06T08:18:37.186Z"
   },
   {
    "duration": 164,
    "start_time": "2023-03-06T08:18:48.460Z"
   },
   {
    "duration": 5,
    "start_time": "2023-03-06T08:31:50.428Z"
   },
   {
    "duration": 1668,
    "start_time": "2023-03-06T08:43:46.174Z"
   },
   {
    "duration": 1769,
    "start_time": "2023-03-06T08:46:39.216Z"
   },
   {
    "duration": 1579,
    "start_time": "2023-03-06T08:47:03.904Z"
   },
   {
    "duration": 1824,
    "start_time": "2023-03-06T08:50:35.300Z"
   },
   {
    "duration": 50,
    "start_time": "2023-03-06T09:03:34.106Z"
   },
   {
    "duration": 56,
    "start_time": "2023-03-06T10:12:48.411Z"
   },
   {
    "duration": 194,
    "start_time": "2023-03-06T10:24:24.338Z"
   },
   {
    "duration": 12,
    "start_time": "2023-03-06T10:25:15.093Z"
   },
   {
    "duration": 19,
    "start_time": "2023-03-06T10:32:20.020Z"
   },
   {
    "duration": 5,
    "start_time": "2023-03-06T10:33:36.325Z"
   },
   {
    "duration": 3,
    "start_time": "2023-03-06T11:53:54.959Z"
   },
   {
    "duration": 108,
    "start_time": "2023-03-06T11:53:57.261Z"
   },
   {
    "duration": 75,
    "start_time": "2023-03-06T11:54:14.628Z"
   },
   {
    "duration": 13,
    "start_time": "2023-03-06T11:55:18.389Z"
   },
   {
    "duration": 3,
    "start_time": "2023-03-06T11:56:16.550Z"
   },
   {
    "duration": 8,
    "start_time": "2023-03-06T11:56:26.090Z"
   },
   {
    "duration": 17,
    "start_time": "2023-03-06T12:14:32.095Z"
   },
   {
    "duration": 30,
    "start_time": "2023-03-06T12:17:00.427Z"
   },
   {
    "duration": 6,
    "start_time": "2023-03-06T12:27:41.796Z"
   },
   {
    "duration": 30,
    "start_time": "2023-03-06T12:27:43.915Z"
   },
   {
    "duration": 5,
    "start_time": "2023-03-06T12:28:48.646Z"
   },
   {
    "duration": 16,
    "start_time": "2023-03-06T12:28:56.050Z"
   },
   {
    "duration": 3,
    "start_time": "2023-03-06T12:29:21.108Z"
   },
   {
    "duration": 4,
    "start_time": "2023-03-06T13:02:46.798Z"
   },
   {
    "duration": 21,
    "start_time": "2023-03-06T13:02:52.972Z"
   },
   {
    "duration": 66,
    "start_time": "2023-03-06T13:03:58.484Z"
   },
   {
    "duration": 250,
    "start_time": "2023-03-06T13:08:54.697Z"
   },
   {
    "duration": 215,
    "start_time": "2023-03-06T13:10:27.455Z"
   },
   {
    "duration": 6,
    "start_time": "2023-03-06T13:15:17.016Z"
   },
   {
    "duration": 20,
    "start_time": "2023-03-06T13:15:20.970Z"
   },
   {
    "duration": 59,
    "start_time": "2023-03-06T13:18:43.606Z"
   },
   {
    "duration": 10,
    "start_time": "2023-03-06T13:18:46.673Z"
   },
   {
    "duration": 1474,
    "start_time": "2023-03-06T13:18:51.775Z"
   },
   {
    "duration": 358,
    "start_time": "2023-03-06T13:19:30.725Z"
   },
   {
    "duration": 4687,
    "start_time": "2023-03-06T13:19:38.375Z"
   },
   {
    "duration": 18,
    "start_time": "2023-03-06T13:19:54.429Z"
   },
   {
    "duration": 11,
    "start_time": "2023-03-06T13:20:09.275Z"
   },
   {
    "duration": 1609,
    "start_time": "2023-03-06T13:54:20.079Z"
   },
   {
    "duration": 527,
    "start_time": "2023-03-06T13:54:21.693Z"
   },
   {
    "duration": 3,
    "start_time": "2023-03-06T13:54:22.222Z"
   },
   {
    "duration": 453,
    "start_time": "2023-03-06T13:54:22.232Z"
   },
   {
    "duration": 98,
    "start_time": "2023-03-06T13:54:22.687Z"
   },
   {
    "duration": 59,
    "start_time": "2023-03-06T13:54:22.787Z"
   },
   {
    "duration": 1420,
    "start_time": "2023-03-06T13:54:22.848Z"
   },
   {
    "duration": 1922,
    "start_time": "2023-03-06T13:54:24.271Z"
   },
   {
    "duration": 64,
    "start_time": "2023-03-06T13:54:26.195Z"
   },
   {
    "duration": 47,
    "start_time": "2023-03-06T13:54:26.262Z"
   },
   {
    "duration": 330,
    "start_time": "2023-03-06T13:54:26.312Z"
   },
   {
    "duration": 89,
    "start_time": "2023-03-06T13:54:26.646Z"
   },
   {
    "duration": 41,
    "start_time": "2023-03-06T13:54:26.739Z"
   },
   {
    "duration": 12,
    "start_time": "2023-03-06T13:54:26.782Z"
   },
   {
    "duration": 14,
    "start_time": "2023-03-06T13:54:26.796Z"
   },
   {
    "duration": 4221,
    "start_time": "2023-03-06T13:54:26.812Z"
   },
   {
    "duration": 14,
    "start_time": "2023-03-06T13:54:31.036Z"
   },
   {
    "duration": 10,
    "start_time": "2023-03-06T14:01:46.276Z"
   },
   {
    "duration": 181,
    "start_time": "2023-03-06T14:01:49.295Z"
   },
   {
    "duration": 274,
    "start_time": "2023-03-06T14:02:52.673Z"
   },
   {
    "duration": 33,
    "start_time": "2023-03-06T14:04:07.774Z"
   },
   {
    "duration": 8,
    "start_time": "2023-03-06T14:04:16.381Z"
   },
   {
    "duration": 4082,
    "start_time": "2023-03-06T14:04:21.127Z"
   },
   {
    "duration": 309,
    "start_time": "2023-03-06T14:27:48.326Z"
   },
   {
    "duration": 68,
    "start_time": "2023-03-06T14:27:58.790Z"
   },
   {
    "duration": 119,
    "start_time": "2023-03-06T14:29:47.224Z"
   },
   {
    "duration": 44,
    "start_time": "2023-03-06T14:43:12.027Z"
   },
   {
    "duration": 34,
    "start_time": "2023-03-06T14:45:40.307Z"
   },
   {
    "duration": 357,
    "start_time": "2023-03-06T14:51:21.385Z"
   },
   {
    "duration": 208,
    "start_time": "2023-03-06T14:53:36.128Z"
   },
   {
    "duration": 205,
    "start_time": "2023-03-06T14:53:49.457Z"
   },
   {
    "duration": 340,
    "start_time": "2023-03-06T14:54:02.204Z"
   },
   {
    "duration": 299,
    "start_time": "2023-03-06T14:56:13.152Z"
   },
   {
    "duration": 13,
    "start_time": "2023-03-06T14:58:04.388Z"
   },
   {
    "duration": 12,
    "start_time": "2023-03-06T14:58:19.648Z"
   },
   {
    "duration": 25,
    "start_time": "2023-03-06T14:58:22.700Z"
   },
   {
    "duration": 72,
    "start_time": "2023-03-06T15:01:40.005Z"
   },
   {
    "duration": 24,
    "start_time": "2023-03-06T15:02:09.876Z"
   },
   {
    "duration": 224,
    "start_time": "2023-03-06T15:07:39.415Z"
   },
   {
    "duration": 130,
    "start_time": "2023-03-06T15:15:39.509Z"
   },
   {
    "duration": 31,
    "start_time": "2023-03-06T15:16:01.669Z"
   },
   {
    "duration": 187,
    "start_time": "2023-03-06T15:22:25.753Z"
   },
   {
    "duration": 1371,
    "start_time": "2023-03-06T15:22:34.179Z"
   },
   {
    "duration": 3931,
    "start_time": "2023-03-06T15:23:13.504Z"
   },
   {
    "duration": 11,
    "start_time": "2023-03-06T15:23:21.451Z"
   },
   {
    "duration": 5,
    "start_time": "2023-03-06T15:23:42.675Z"
   },
   {
    "duration": 1492,
    "start_time": "2023-03-06T15:23:53.715Z"
   },
   {
    "duration": 383,
    "start_time": "2023-03-06T15:23:55.209Z"
   },
   {
    "duration": 2,
    "start_time": "2023-03-06T15:23:55.594Z"
   },
   {
    "duration": 300,
    "start_time": "2023-03-06T15:23:55.598Z"
   },
   {
    "duration": 85,
    "start_time": "2023-03-06T15:23:55.900Z"
   },
   {
    "duration": 51,
    "start_time": "2023-03-06T15:23:55.986Z"
   },
   {
    "duration": 1284,
    "start_time": "2023-03-06T15:23:56.041Z"
   },
   {
    "duration": 1532,
    "start_time": "2023-03-06T15:23:57.327Z"
   },
   {
    "duration": 36,
    "start_time": "2023-03-06T15:23:58.860Z"
   },
   {
    "duration": 73,
    "start_time": "2023-03-06T15:23:58.898Z"
   },
   {
    "duration": 79,
    "start_time": "2023-03-06T15:23:58.973Z"
   },
   {
    "duration": 188,
    "start_time": "2023-03-06T15:23:59.054Z"
   },
   {
    "duration": 10,
    "start_time": "2023-03-06T15:23:59.245Z"
   },
   {
    "duration": 5,
    "start_time": "2023-03-06T15:23:59.258Z"
   },
   {
    "duration": 6,
    "start_time": "2023-03-06T15:23:59.265Z"
   },
   {
    "duration": 3849,
    "start_time": "2023-03-06T15:23:59.272Z"
   },
   {
    "duration": 16,
    "start_time": "2023-03-06T15:24:03.123Z"
   },
   {
    "duration": 10,
    "start_time": "2023-03-06T15:27:16.571Z"
   },
   {
    "duration": 3647,
    "start_time": "2023-03-06T15:33:18.990Z"
   },
   {
    "duration": 10,
    "start_time": "2023-03-06T15:33:25.015Z"
   },
   {
    "duration": 1597,
    "start_time": "2023-03-07T02:19:00.091Z"
   },
   {
    "duration": 740,
    "start_time": "2023-03-07T02:19:01.689Z"
   },
   {
    "duration": 4,
    "start_time": "2023-03-07T02:19:02.430Z"
   },
   {
    "duration": 270,
    "start_time": "2023-03-07T02:19:02.436Z"
   },
   {
    "duration": 84,
    "start_time": "2023-03-07T02:19:02.707Z"
   },
   {
    "duration": 44,
    "start_time": "2023-03-07T02:19:02.792Z"
   },
   {
    "duration": 1138,
    "start_time": "2023-03-07T02:19:02.838Z"
   },
   {
    "duration": 1523,
    "start_time": "2023-03-07T02:19:03.978Z"
   },
   {
    "duration": 48,
    "start_time": "2023-03-07T02:19:05.503Z"
   },
   {
    "duration": 35,
    "start_time": "2023-03-07T02:19:05.554Z"
   },
   {
    "duration": 475,
    "start_time": "2023-03-07T02:19:05.591Z"
   },
   {
    "duration": 0,
    "start_time": "2023-03-07T02:19:06.067Z"
   },
   {
    "duration": 0,
    "start_time": "2023-03-07T02:19:06.069Z"
   },
   {
    "duration": 0,
    "start_time": "2023-03-07T02:19:06.070Z"
   },
   {
    "duration": 0,
    "start_time": "2023-03-07T02:19:06.071Z"
   },
   {
    "duration": 0,
    "start_time": "2023-03-07T02:19:06.072Z"
   },
   {
    "duration": 0,
    "start_time": "2023-03-07T02:19:06.073Z"
   },
   {
    "duration": 152,
    "start_time": "2023-03-07T02:19:29.180Z"
   },
   {
    "duration": 51,
    "start_time": "2023-03-07T02:20:38.392Z"
   },
   {
    "duration": 117,
    "start_time": "2023-03-07T02:21:00.223Z"
   },
   {
    "duration": 9,
    "start_time": "2023-03-07T02:21:54.785Z"
   },
   {
    "duration": 68,
    "start_time": "2023-03-07T02:23:16.710Z"
   },
   {
    "duration": 9,
    "start_time": "2023-03-07T02:24:05.197Z"
   },
   {
    "duration": 10,
    "start_time": "2023-03-07T02:24:48.052Z"
   },
   {
    "duration": 9,
    "start_time": "2023-03-07T02:25:25.917Z"
   },
   {
    "duration": 5,
    "start_time": "2023-03-07T02:25:50.985Z"
   },
   {
    "duration": 10,
    "start_time": "2023-03-07T02:32:49.954Z"
   },
   {
    "duration": 1316,
    "start_time": "2023-03-07T02:33:10.811Z"
   },
   {
    "duration": 336,
    "start_time": "2023-03-07T02:33:12.129Z"
   },
   {
    "duration": 4,
    "start_time": "2023-03-07T02:33:12.467Z"
   },
   {
    "duration": 274,
    "start_time": "2023-03-07T02:33:12.473Z"
   },
   {
    "duration": 83,
    "start_time": "2023-03-07T02:33:12.749Z"
   },
   {
    "duration": 32,
    "start_time": "2023-03-07T02:33:12.833Z"
   },
   {
    "duration": 1100,
    "start_time": "2023-03-07T02:33:12.866Z"
   },
   {
    "duration": 1385,
    "start_time": "2023-03-07T02:33:13.967Z"
   },
   {
    "duration": 34,
    "start_time": "2023-03-07T02:33:15.353Z"
   },
   {
    "duration": 54,
    "start_time": "2023-03-07T02:33:15.389Z"
   },
   {
    "duration": 189,
    "start_time": "2023-03-07T02:33:15.445Z"
   },
   {
    "duration": 100,
    "start_time": "2023-03-07T02:33:15.636Z"
   },
   {
    "duration": 96,
    "start_time": "2023-03-07T02:33:15.738Z"
   },
   {
    "duration": 5,
    "start_time": "2023-03-07T02:33:15.836Z"
   },
   {
    "duration": 7,
    "start_time": "2023-03-07T02:33:15.842Z"
   },
   {
    "duration": 3506,
    "start_time": "2023-03-07T02:33:15.851Z"
   },
   {
    "duration": 73,
    "start_time": "2023-03-07T02:33:19.359Z"
   },
   {
    "duration": 90,
    "start_time": "2023-03-07T02:33:38.266Z"
   },
   {
    "duration": 86,
    "start_time": "2023-03-07T02:34:30.437Z"
   },
   {
    "duration": 10,
    "start_time": "2023-03-07T02:34:51.550Z"
   },
   {
    "duration": 127,
    "start_time": "2023-03-07T03:23:52.708Z"
   },
   {
    "duration": 1293,
    "start_time": "2023-03-07T04:38:58.755Z"
   },
   {
    "duration": 374,
    "start_time": "2023-03-07T04:39:00.050Z"
   },
   {
    "duration": 5,
    "start_time": "2023-03-07T04:39:00.426Z"
   },
   {
    "duration": 333,
    "start_time": "2023-03-07T04:39:00.434Z"
   },
   {
    "duration": 95,
    "start_time": "2023-03-07T04:39:00.769Z"
   },
   {
    "duration": 39,
    "start_time": "2023-03-07T04:39:00.867Z"
   },
   {
    "duration": 1180,
    "start_time": "2023-03-07T04:39:00.908Z"
   },
   {
    "duration": 1436,
    "start_time": "2023-03-07T04:39:02.090Z"
   },
   {
    "duration": 37,
    "start_time": "2023-03-07T04:39:03.531Z"
   },
   {
    "duration": 35,
    "start_time": "2023-03-07T04:39:03.570Z"
   },
   {
    "duration": 227,
    "start_time": "2023-03-07T04:39:03.607Z"
   },
   {
    "duration": 99,
    "start_time": "2023-03-07T04:39:03.835Z"
   },
   {
    "duration": 9,
    "start_time": "2023-03-07T04:39:03.936Z"
   },
   {
    "duration": 5,
    "start_time": "2023-03-07T04:39:03.947Z"
   },
   {
    "duration": 6,
    "start_time": "2023-03-07T04:39:03.953Z"
   },
   {
    "duration": 3629,
    "start_time": "2023-03-07T04:39:03.960Z"
   },
   {
    "duration": 9,
    "start_time": "2023-03-07T04:39:07.591Z"
   },
   {
    "duration": 1334,
    "start_time": "2023-03-07T04:47:29.498Z"
   },
   {
    "duration": 358,
    "start_time": "2023-03-07T04:47:30.835Z"
   },
   {
    "duration": 2,
    "start_time": "2023-03-07T04:47:31.195Z"
   },
   {
    "duration": 272,
    "start_time": "2023-03-07T04:47:31.198Z"
   },
   {
    "duration": 85,
    "start_time": "2023-03-07T04:47:31.472Z"
   },
   {
    "duration": 33,
    "start_time": "2023-03-07T04:47:31.558Z"
   },
   {
    "duration": 1116,
    "start_time": "2023-03-07T04:47:31.593Z"
   },
   {
    "duration": 1437,
    "start_time": "2023-03-07T04:47:32.711Z"
   },
   {
    "duration": 40,
    "start_time": "2023-03-07T04:47:34.149Z"
   },
   {
    "duration": 59,
    "start_time": "2023-03-07T04:47:34.191Z"
   },
   {
    "duration": 189,
    "start_time": "2023-03-07T04:47:34.252Z"
   },
   {
    "duration": 100,
    "start_time": "2023-03-07T04:47:34.534Z"
   },
   {
    "duration": 30,
    "start_time": "2023-03-07T04:47:34.636Z"
   },
   {
    "duration": 23,
    "start_time": "2023-03-07T04:47:34.669Z"
   },
   {
    "duration": 20,
    "start_time": "2023-03-07T04:47:34.693Z"
   },
   {
    "duration": 3740,
    "start_time": "2023-03-07T04:47:34.714Z"
   },
   {
    "duration": 9,
    "start_time": "2023-03-07T04:47:38.456Z"
   },
   {
    "duration": 3353,
    "start_time": "2023-03-07T10:07:45.618Z"
   },
   {
    "duration": 399,
    "start_time": "2023-03-07T10:07:48.974Z"
   },
   {
    "duration": 3,
    "start_time": "2023-03-07T10:07:49.375Z"
   },
   {
    "duration": 300,
    "start_time": "2023-03-07T10:07:49.379Z"
   },
   {
    "duration": 94,
    "start_time": "2023-03-07T10:07:49.681Z"
   },
   {
    "duration": 51,
    "start_time": "2023-03-07T10:07:49.777Z"
   },
   {
    "duration": 1401,
    "start_time": "2023-03-07T10:07:49.830Z"
   },
   {
    "duration": 1658,
    "start_time": "2023-03-07T10:07:51.232Z"
   },
   {
    "duration": 56,
    "start_time": "2023-03-07T10:07:52.892Z"
   },
   {
    "duration": 53,
    "start_time": "2023-03-07T10:07:52.950Z"
   },
   {
    "duration": 299,
    "start_time": "2023-03-07T10:07:53.005Z"
   },
   {
    "duration": 14,
    "start_time": "2023-03-07T10:07:53.306Z"
   },
   {
    "duration": 10,
    "start_time": "2023-03-07T10:07:53.321Z"
   },
   {
    "duration": 6,
    "start_time": "2023-03-07T10:07:53.333Z"
   },
   {
    "duration": 73,
    "start_time": "2023-03-07T10:07:53.340Z"
   },
   {
    "duration": 4217,
    "start_time": "2023-03-07T10:07:53.414Z"
   },
   {
    "duration": 10,
    "start_time": "2023-03-07T10:07:57.633Z"
   },
   {
    "duration": 13,
    "start_time": "2023-03-07T10:08:10.601Z"
   }
  ],
  "kernelspec": {
   "display_name": "Python 3 (ipykernel)",
   "language": "python",
   "name": "python3"
  },
  "language_info": {
   "codemirror_mode": {
    "name": "ipython",
    "version": 3
   },
   "file_extension": ".py",
   "mimetype": "text/x-python",
   "name": "python",
   "nbconvert_exporter": "python",
   "pygments_lexer": "ipython3",
   "version": "3.9.13"
  },
  "toc": {
   "base_numbering": 1,
   "nav_menu": {
    "height": "14px",
    "width": "160px"
   },
   "number_sections": false,
   "sideBar": true,
   "skip_h1_title": true,
   "title_cell": "Table of Contents",
   "title_sidebar": "Contents",
   "toc_cell": false,
   "toc_position": {},
   "toc_section_display": true,
   "toc_window_display": false
  }
 },
 "nbformat": 4,
 "nbformat_minor": 2
}

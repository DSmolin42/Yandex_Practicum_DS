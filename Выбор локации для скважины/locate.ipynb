{
 "cells": [
  {
   "cell_type": "markdown",
   "metadata": {
    "toc": true
   },
   "source": [
    "<h1>Содержание<span class=\"tocSkip\"></span></h1>\n",
    "<div class=\"toc\"><ul class=\"toc-item\"><li><span><a href=\"#Подготовка-данных\" data-toc-modified-id=\"Подготовка-данных-1\">Подготовка данных</a></span><ul class=\"toc-item\"><li><ul class=\"toc-item\"><li><span><a href=\"#Датасет-содержит--информацию--о-10000-клиентах,-дубликатов-строк--не-обнаружено.-Дупликатов-в-столбце-CustomerId-(уникальный-идентификатор-клиента)-не-обнаружено.-Столбец-Tenure-(сколько-лет-человек-является-клиентом-банка)-содержит-пропущенные-значения,-которые-необходимо-обработать.-Столбцы-RowNumber,-CustomerId,-Surname-не-несут-ценности-для-дальнейшего--исследования,-поэтому-их-можно-удалить.-Столбцы-Geography,-Gender--содержат-категориальные-данные,-необходимо--выполнить-кодирование.\" data-toc-modified-id=\"Датасет-содержит--информацию--о-10000-клиентах,-дубликатов-строк--не-обнаружено.-Дупликатов-в-столбце-CustomerId-(уникальный-идентификатор-клиента)-не-обнаружено.-Столбец-Tenure-(сколько-лет-человек-является-клиентом-банка)-содержит-пропущенные-значения,-которые-необходимо-обработать.-Столбцы-RowNumber,-CustomerId,-Surname-не-несут-ценности-для-дальнейшего--исследования,-поэтому-их-можно-удалить.-Столбцы-Geography,-Gender--содержат-категориальные-данные,-необходимо--выполнить-кодирование.-1.0.1\">Датасет содержит  информацию  о 10000 клиентах, дубликатов строк  не обнаружено. Дупликатов в столбце CustomerId (уникальный идентификатор клиента) не обнаружено. Столбец Tenure (сколько лет человек является клиентом банка) содержит пропущенные значения, которые необходимо обработать. Столбцы RowNumber, CustomerId, Surname не несут ценности для дальнейшего  исследования, поэтому их можно удалить. Столбцы Geography, Gender  содержат категориальные данные, необходимо  выполнить кодирование.</a></span></li><li><span><a href=\"#Удалим-столбцы'RowNumber','CustomerId',-'Surname'.\" data-toc-modified-id=\"Удалим-столбцы'RowNumber','CustomerId',-'Surname'.-1.0.2\">Удалим столбцы'RowNumber','CustomerId', 'Surname'.</a></span></li><li><span><a href=\"#Заполним-пропущенные-значения--в-стобце-Tenure--медианной.\" data-toc-modified-id=\"Заполним-пропущенные-значения--в-стобце-Tenure--медианной.-1.0.3\">Заполним пропущенные значения  в стобце Tenure  медианной.</a></span></li><li><span><a href=\"#Преобразуем--категориальные-признаки--в-стобцах-Geography,-Gender-в-численные-с-помощью-техники-прямого-кодирования.\" data-toc-modified-id=\"Преобразуем--категориальные-признаки--в-стобцах-Geography,-Gender-в-численные-с-помощью-техники-прямого-кодирования.-1.0.4\">Преобразуем  категориальные признаки  в стобцах Geography, Gender в численные с помощью техники прямого кодирования.</a></span></li><li><span><a href=\"#Разобьем--данные-на-обучающую-(60%),валидационную-(20%)-и-тестовою-(20%)-выборки.-Разделим--каждую--выборку-на--матрицу-исходных-данных-и-целевую-переменную.\" data-toc-modified-id=\"Разобьем--данные-на-обучающую-(60%),валидационную-(20%)-и-тестовою-(20%)-выборки.-Разделим--каждую--выборку-на--матрицу-исходных-данных-и-целевую-переменную.-1.0.5\">Разобьем  данные на обучающую (60%),валидационную (20%) и тестовою (20%) выборки. Разделим  каждую  выборку на  матрицу исходных данных и целевую переменную.</a></span></li><li><span><a href=\"#Преобразуем--категориальные-признаки--в-стобцах-Geography,-Gender-в-численные-с-помощью-OneHotEncoder.\" data-toc-modified-id=\"Преобразуем--категориальные-признаки--в-стобцах-Geography,-Gender-в-численные-с-помощью-OneHotEncoder.-1.0.6\">Преобразуем  категориальные признаки  в стобцах Geography, Gender в численные с помощью OneHotEncoder.</a></span></li><li><span><a href=\"#Произведем-масштабирование-числовых--признаков-для-выборок.\" data-toc-modified-id=\"Произведем-масштабирование-числовых--признаков-для-выборок.-1.0.7\">Произведем масштабирование числовых  признаков для выборок.</a></span></li><li><span><a href=\"#Изучили-и-подготовили-данные-для-дальнейших-исследований\" data-toc-modified-id=\"Изучили-и-подготовили-данные-для-дальнейших-исследований-1.0.8\">Изучили и подготовили данные для дальнейших исследований</a></span></li></ul></li></ul></li><li><span><a href=\"#Исследование-задачи\" data-toc-modified-id=\"Исследование-задачи-2\">Исследование задачи</a></span><ul class=\"toc-item\"><li><ul class=\"toc-item\"><li><span><a href=\"#Исследуем-баланс-классов-на-тестовой-и-валидационной-выборке.\" data-toc-modified-id=\"Исследуем-баланс-классов-на-тестовой-и-валидационной-выборке.-2.0.1\">Исследуем баланс классов на тестовой и валидационной выборке.</a></span></li><li><span><a href=\"#У-обучающией-и-валидационной-выборок-существует-заметный-дисбаланс-класов.-Ответы-0-≈80%-,-1-≈-20%.\" data-toc-modified-id=\"У-обучающией-и-валидационной-выборок-существует-заметный-дисбаланс-класов.-Ответы-0-≈80%-,-1-≈-20%.-2.0.2\">У обучающией и валидационной выборок существует заметный дисбаланс класов. Ответы 0 ≈80% , 1 ≈ 20%.</a></span></li><li><span><a href=\"#Изучим-модели-без-учёта-дисбаланса.-Будем-использовать-метрику-F1--для-подбора-гиперпараметров.-Вычислим-матрицы-ошибок,-значения-точности,-значения-полноты-для-различных-моделей.\" data-toc-modified-id=\"Изучим-модели-без-учёта-дисбаланса.-Будем-использовать-метрику-F1--для-подбора-гиперпараметров.-Вычислим-матрицы-ошибок,-значения-точности,-значения-полноты-для-различных-моделей.-2.0.3\">Изучим модели без учёта дисбаланса. Будем использовать метрику F1  для подбора гиперпараметров. Вычислим матрицы ошибок, значения точности, значения полноты для различных моделей.</a></span></li><li><span><a href=\"#Метод-Decision-Tree\" data-toc-modified-id=\"Метод-Decision-Tree-2.0.4\">Метод Decision Tree</a></span></li><li><span><a href=\"#Метод-Random-Forest\" data-toc-modified-id=\"Метод-Random-Forest-2.0.5\">Метод Random Forest</a></span></li><li><span><a href=\"#Метод-Logistic-Regression\" data-toc-modified-id=\"Метод-Logistic-Regression-2.0.6\">Метод Logistic Regression</a></span></li><li><span><a href=\"#На-несбалансированных-данных-все-модели-показывают-низкое-значние-F1--меры,-что-свидетельствует-о-низком-качестве-моделей.-Низкое-значение-полноты-свидетельствует-о-том,-что-модели--&quot;пропускают&quot;-уходящего-абонента--и-ошибочно-принимают-его-за-лояльного.-Лучшие-результаты-показала-модель--Random-Forest,--F1-лучшей-модели:-0.59.\" data-toc-modified-id=\"На-несбалансированных-данных-все-модели-показывают-низкое-значние-F1--меры,-что-свидетельствует-о-низком-качестве-моделей.-Низкое-значение-полноты-свидетельствует-о-том,-что-модели--&quot;пропускают&quot;-уходящего-абонента--и-ошибочно-принимают-его-за-лояльного.-Лучшие-результаты-показала-модель--Random-Forest,--F1-лучшей-модели:-0.59.-2.0.7\">На несбалансированных данных все модели показывают низкое значние F1- меры, что свидетельствует о низком качестве моделей. Низкое значение полноты свидетельствует о том, что модели  \"пропускают\" уходящего абонента  и ошибочно принимают его за лояльного. Лучшие результаты показала модель  Random Forest,  F1 лучшей модели: 0.59.</a></span></li></ul></li></ul></li><li><span><a href=\"#Борьба-с-дисбалансом\" data-toc-modified-id=\"Борьба-с-дисбалансом-3\">Борьба с дисбалансом</a></span><ul class=\"toc-item\"><li><ul class=\"toc-item\"><li><span><a href=\"#Устраним-дисбаланс-классов-в-обучающей-выборке-методом-upsampling.Увеличим-количество-значений-позитивного-класса-в-4-раза.\" data-toc-modified-id=\"Устраним-дисбаланс-классов-в-обучающей-выборке-методом-upsampling.Увеличим-количество-значений-позитивного-класса-в-4-раза.-3.0.1\">Устраним дисбаланс классов в обучающей выборке методом upsampling.Увеличим количество значений позитивного класса в 4 раза.</a></span></li><li><span><a href=\"#Устранение-дисбаланса-можно-сделать-техникой-downsampling.-Уберём-часть-объектов-большего-класса.\" data-toc-modified-id=\"Устранение-дисбаланса-можно-сделать-техникой-downsampling.-Уберём-часть-объектов-большего-класса.-3.0.2\">Устранение дисбаланса можно сделать техникой downsampling. Уберём часть объектов большего класса.</a></span></li><li><span><a href=\"#Изучим-модели-Random-Forest,-обученные--на-сбалансированных-данных.\" data-toc-modified-id=\"Изучим-модели-Random-Forest,-обученные--на-сбалансированных-данных.-3.0.3\">Изучим модели Random Forest, обученные  на сбалансированных данных.</a></span></li><li><span><a href=\"#Лучший-результат--показала-модель-Random-Forest,-обученная-на-сбалансированных-данных--методом--upsampling.-Удалось-достичь-значения-F1-меры-0,628-на-валидационной-выборке.\" data-toc-modified-id=\"Лучший-результат--показала-модель-Random-Forest,-обученная-на-сбалансированных-данных--методом--upsampling.-Удалось-достичь-значения-F1-меры-0,628-на-валидационной-выборке.-3.0.4\">Лучший результат  показала модель Random Forest, обученная на сбалансированных данных  методом  upsampling. Удалось достичь значения F1-меры 0,628 на валидационной выборке.</a></span></li></ul></li></ul></li><li><span><a href=\"#Тестирование-модели\" data-toc-modified-id=\"Тестирование-модели-4\">Тестирование модели</a></span><ul class=\"toc-item\"><li><ul class=\"toc-item\"><li><span><a href=\"#Посчитаем--метрики-нашей-лучшей-модели-на-тестовой-выборке.\" data-toc-modified-id=\"Посчитаем--метрики-нашей-лучшей-модели-на-тестовой-выборке.-4.0.1\">Посчитаем  метрики нашей лучшей модели на тестовой выборке.</a></span></li><li><span><a href=\"#На-тестовой-выборке-модель-показывает-реультат-F1-=-0.608,-удалось-достичь-F1-меры-не-менее-0.59.-Модель-имеет--показатель-полноты-=-0.67,-поэтому-она-с-высокой-вероятностью-предскажит-уход-клиента-из-банка.-Показатель-точности--=-0.56--—-только-половина-предсказанных-моделью-уходящих--клиентов-уйдут,-модель-принимает--лояльного-клиента-за-уходящего.\" data-toc-modified-id=\"На-тестовой-выборке-модель-показывает-реультат-F1-=-0.608,-удалось-достичь-F1-меры-не-менее-0.59.-Модель-имеет--показатель-полноты-=-0.67,-поэтому-она-с-высокой-вероятностью-предскажит-уход-клиента-из-банка.-Показатель-точности--=-0.56--—-только-половина-предсказанных-моделью-уходящих--клиентов-уйдут,-модель-принимает--лояльного-клиента-за-уходящего.-4.0.2\">На тестовой выборке модель показывает реультат F1 = 0.608, удалось достичь F1-меры не менее 0.59. Модель имеет  показатель полноты = 0.67, поэтому она с высокой вероятностью предскажит уход клиента из банка. Показатель точности  = 0.56  — только половина предсказанных моделью уходящих  клиентов уйдут, модель принимает  лояльного клиента за уходящего.</a></span></li><li><span><a href=\"#Cравним-нашу-модель--с-константной-моделью.-В-константной-модели-значение-целевой-переменной--устанавливаем-в-&quot;1&quot;.\" data-toc-modified-id=\"Cравним-нашу-модель--с-константной-моделью.-В-константной-модели-значение-целевой-переменной--устанавливаем-в-&quot;1&quot;.-4.0.3\">Cравним нашу модель  с константной моделью. В константной модели значение целевой переменной  устанавливаем в \"1\".</a></span></li><li><span><a href=\"#Значение-метрики-recall-нашей-модели-значительно-(более,-чем-в-три-раза)-превышает-recall-константной-модели.-Наша-модель-с-вероятнойстью-67%-обнаружит-уходящего-клиента,--в-то-время,--как-константная--модель--обнаружит-ууходящего-клиента-с-вероятность-~21%.\" data-toc-modified-id=\"Значение-метрики-recall-нашей-модели-значительно-(более,-чем-в-три-раза)-превышает-recall-константной-модели.-Наша-модель-с-вероятнойстью-67%-обнаружит-уходящего-клиента,--в-то-время,--как-константная--модель--обнаружит-ууходящего-клиента-с-вероятность-~21%.-4.0.4\">Значение метрики recall нашей модели значительно (более, чем в три раза) превышает recall константной модели. Наша модель с вероятнойстью 67% обнаружит уходящего клиента,  в то время,  как константная  модель  обнаружит ууходящего клиента с вероятность ~21%.</a></span></li></ul></li><li><span><a href=\"#Результаты-исследования\" data-toc-modified-id=\"Результаты-исследования-4.1\">Результаты исследования</a></span><ul class=\"toc-item\"><li><span><a href=\"#Подготовленны-и-исследованы-данные.-В-исходных-данных-наблюдался-дисбаланс-классов,-80%-ответов-целевого-признака-были-&quot;0&quot;-и--20%-позитивными.\" data-toc-modified-id=\"Подготовленны-и-исследованы-данные.-В-исходных-данных-наблюдался-дисбаланс-классов,-80%-ответов-целевого-признака-были-&quot;0&quot;-и--20%-позитивными.-4.1.1\">Подготовленны и исследованы данные. В исходных данных наблюдался дисбаланс классов, 80% ответов целевого признака были \"0\" и  20% позитивными.</a></span></li><li><span><a href=\"#На-несбалансированных-исходных-данных--модели-показывают-низкое-значние-F1-меры,-что-свидетельствует-о-низком-качестве-моделей\" data-toc-modified-id=\"На-несбалансированных-исходных-данных--модели-показывают-низкое-значние-F1-меры,-что-свидетельствует-о-низком-качестве-моделей-4.1.2\">На несбалансированных исходных данных  модели показывают низкое значние F1-меры, что свидетельствует о низком качестве моделей</a></span></li><li><span><a href=\"#Был-устранен--дисбаланс-классов-в-обучающей-выборке-методом-upsampling-и-downsampling.\" data-toc-modified-id=\"Был-устранен--дисбаланс-классов-в-обучающей-выборке-методом-upsampling-и-downsampling.-4.1.3\">Был устранен  дисбаланс классов в обучающей выборке методом upsampling и downsampling.</a></span></li><li><span><a href=\"#На-сбалансированных--данных--модели-показали-результат-выше,-чем-на-несбалансированной-выборке.-Лучшие-метрики--у-модели-Random-Forest-(Количество-деревьев:-110,--Глубина-дерева:-10),-обученной-на-сбалансированных-данных-методом-upsampling.-Удалось-достичь-значения-F1-меры-0,628-на-валидационной-выборке.\" data-toc-modified-id=\"На-сбалансированных--данных--модели-показали-результат-выше,-чем-на-несбалансированной-выборке.-Лучшие-метрики--у-модели-Random-Forest-(Количество-деревьев:-110,--Глубина-дерева:-10),-обученной-на-сбалансированных-данных-методом-upsampling.-Удалось-достичь-значения-F1-меры-0,628-на-валидационной-выборке.-4.1.4\">На сбалансированных  данных  модели показали результат выше, чем на несбалансированной выборке. Лучшие метрики  у модели Random Forest (Количество деревьев: 110,  Глубина дерева: 10), обученной на сбалансированных данных методом upsampling. Удалось достичь значения F1-меры 0,628 на валидационной выборке.</a></span></li><li><span><a href=\"#На-тестовой-выборке-лучшая-модель-показала-метрики:\" data-toc-modified-id=\"На-тестовой-выборке-лучшая-модель-показала-метрики:-4.1.5\">На тестовой выборке лучшая модель показала метрики:</a></span></li></ul></li></ul></li><li><span><a href=\"#Чек-лист-готовности-проекта\" data-toc-modified-id=\"Чек-лист-готовности-проекта-5\">Чек-лист готовности проекта</a></span></li></ul></div>"
   ]
  },
  {
   "cell_type": "markdown",
   "metadata": {},
   "source": [
    "# Отток клиентов"
   ]
  },
  {
   "cell_type": "markdown",
   "metadata": {},
   "source": [
    "Из «Бета-Банка» стали уходить клиенты. Каждый месяц. Немного, но заметно. Банковские маркетологи посчитали: сохранять текущих клиентов дешевле, чем привлекать новых.\n",
    "\n",
    "Нужно спрогнозировать, уйдёт клиент из банка в ближайшее время или нет. Вам предоставлены исторические данные о поведении клиентов и расторжении договоров с банком. \n",
    "\n",
    "Постройте модель с предельно большим значением *F1*-меры. Чтобы сдать проект успешно, нужно довести метрику до 0.59. Проверьте *F1*-меру на тестовой выборке самостоятельно.\n",
    "\n",
    "Дополнительно измеряйте *AUC-ROC*, сравнивайте её значение с *F1*-мерой.\n",
    "\n",
    "Источник данных: [https://www.kaggle.com/barelydedicated/bank-customer-churn-modeling](https://www.kaggle.com/barelydedicated/bank-customer-churn-modeling)"
   ]
  },
  {
   "cell_type": "markdown",
   "metadata": {},
   "source": [
    "## Подготовка данных"
   ]
  },
  {
   "cell_type": "code",
   "execution_count": 1,
   "metadata": {},
   "outputs": [
    {
     "name": "stdout",
     "output_type": "stream",
     "text": [
      "Requirement already satisfied: scikit-learn==1.1.3 in /opt/conda/lib/python3.9/site-packages (1.1.3)\n",
      "Requirement already satisfied: scipy>=1.3.2 in /opt/conda/lib/python3.9/site-packages (from scikit-learn==1.1.3) (1.9.1)\n",
      "Requirement already satisfied: numpy>=1.17.3 in /opt/conda/lib/python3.9/site-packages (from scikit-learn==1.1.3) (1.21.1)\n",
      "Requirement already satisfied: joblib>=1.0.0 in /opt/conda/lib/python3.9/site-packages (from scikit-learn==1.1.3) (1.1.0)\n",
      "Requirement already satisfied: threadpoolctl>=2.0.0 in /opt/conda/lib/python3.9/site-packages (from scikit-learn==1.1.3) (3.1.0)\n"
     ]
    }
   ],
   "source": [
    "## импортируем необходимые  библиотеки\n",
    "!pip install scikit-learn==1.1.3\n",
    "import pandas as pd\n",
    "from sklearn.utils import shuffle\n",
    "from sklearn.model_selection import train_test_split\n",
    "from sklearn.metrics import (\n",
    "    accuracy_score,\n",
    "    f1_score,\n",
    "    precision_score,\n",
    "    precision_recall_curve,\n",
    "    recall_score,\n",
    "    confusion_matrix,\n",
    "    roc_curve,\n",
    "    roc_auc_score\n",
    ")\n",
    "from sklearn.tree import DecisionTreeClassifier\n",
    "from sklearn.linear_model import LogisticRegression\n",
    "from sklearn.ensemble import RandomForestClassifier\n",
    "from sklearn.preprocessing import (\n",
    "    StandardScaler,\n",
    "    OneHotEncoder\n",
    ")\n",
    "import matplotlib.pyplot as plt\n",
    "from sklearn.dummy import DummyClassifier\n",
    "import warnings\n",
    "warnings.filterwarnings('ignore')\n"
   ]
  },
  {
   "cell_type": "code",
   "execution_count": 2,
   "metadata": {},
   "outputs": [],
   "source": [
    "df = pd.read_csv('/datasets/Churn.csv')"
   ]
  },
  {
   "cell_type": "code",
   "execution_count": 3,
   "metadata": {},
   "outputs": [
    {
     "data": {
      "text/html": [
       "<div>\n",
       "<style scoped>\n",
       "    .dataframe tbody tr th:only-of-type {\n",
       "        vertical-align: middle;\n",
       "    }\n",
       "\n",
       "    .dataframe tbody tr th {\n",
       "        vertical-align: top;\n",
       "    }\n",
       "\n",
       "    .dataframe thead th {\n",
       "        text-align: right;\n",
       "    }\n",
       "</style>\n",
       "<table border=\"1\" class=\"dataframe\">\n",
       "  <thead>\n",
       "    <tr style=\"text-align: right;\">\n",
       "      <th></th>\n",
       "      <th>RowNumber</th>\n",
       "      <th>CustomerId</th>\n",
       "      <th>Surname</th>\n",
       "      <th>CreditScore</th>\n",
       "      <th>Geography</th>\n",
       "      <th>Gender</th>\n",
       "      <th>Age</th>\n",
       "      <th>Tenure</th>\n",
       "      <th>Balance</th>\n",
       "      <th>NumOfProducts</th>\n",
       "      <th>HasCrCard</th>\n",
       "      <th>IsActiveMember</th>\n",
       "      <th>EstimatedSalary</th>\n",
       "      <th>Exited</th>\n",
       "    </tr>\n",
       "  </thead>\n",
       "  <tbody>\n",
       "    <tr>\n",
       "      <th>0</th>\n",
       "      <td>1</td>\n",
       "      <td>15634602</td>\n",
       "      <td>Hargrave</td>\n",
       "      <td>619</td>\n",
       "      <td>France</td>\n",
       "      <td>Female</td>\n",
       "      <td>42</td>\n",
       "      <td>2.0</td>\n",
       "      <td>0.00</td>\n",
       "      <td>1</td>\n",
       "      <td>1</td>\n",
       "      <td>1</td>\n",
       "      <td>101348.88</td>\n",
       "      <td>1</td>\n",
       "    </tr>\n",
       "    <tr>\n",
       "      <th>1</th>\n",
       "      <td>2</td>\n",
       "      <td>15647311</td>\n",
       "      <td>Hill</td>\n",
       "      <td>608</td>\n",
       "      <td>Spain</td>\n",
       "      <td>Female</td>\n",
       "      <td>41</td>\n",
       "      <td>1.0</td>\n",
       "      <td>83807.86</td>\n",
       "      <td>1</td>\n",
       "      <td>0</td>\n",
       "      <td>1</td>\n",
       "      <td>112542.58</td>\n",
       "      <td>0</td>\n",
       "    </tr>\n",
       "    <tr>\n",
       "      <th>2</th>\n",
       "      <td>3</td>\n",
       "      <td>15619304</td>\n",
       "      <td>Onio</td>\n",
       "      <td>502</td>\n",
       "      <td>France</td>\n",
       "      <td>Female</td>\n",
       "      <td>42</td>\n",
       "      <td>8.0</td>\n",
       "      <td>159660.80</td>\n",
       "      <td>3</td>\n",
       "      <td>1</td>\n",
       "      <td>0</td>\n",
       "      <td>113931.57</td>\n",
       "      <td>1</td>\n",
       "    </tr>\n",
       "    <tr>\n",
       "      <th>3</th>\n",
       "      <td>4</td>\n",
       "      <td>15701354</td>\n",
       "      <td>Boni</td>\n",
       "      <td>699</td>\n",
       "      <td>France</td>\n",
       "      <td>Female</td>\n",
       "      <td>39</td>\n",
       "      <td>1.0</td>\n",
       "      <td>0.00</td>\n",
       "      <td>2</td>\n",
       "      <td>0</td>\n",
       "      <td>0</td>\n",
       "      <td>93826.63</td>\n",
       "      <td>0</td>\n",
       "    </tr>\n",
       "    <tr>\n",
       "      <th>4</th>\n",
       "      <td>5</td>\n",
       "      <td>15737888</td>\n",
       "      <td>Mitchell</td>\n",
       "      <td>850</td>\n",
       "      <td>Spain</td>\n",
       "      <td>Female</td>\n",
       "      <td>43</td>\n",
       "      <td>2.0</td>\n",
       "      <td>125510.82</td>\n",
       "      <td>1</td>\n",
       "      <td>1</td>\n",
       "      <td>1</td>\n",
       "      <td>79084.10</td>\n",
       "      <td>0</td>\n",
       "    </tr>\n",
       "  </tbody>\n",
       "</table>\n",
       "</div>"
      ],
      "text/plain": [
       "   RowNumber  CustomerId   Surname  CreditScore Geography  Gender  Age  \\\n",
       "0          1    15634602  Hargrave          619    France  Female   42   \n",
       "1          2    15647311      Hill          608     Spain  Female   41   \n",
       "2          3    15619304      Onio          502    France  Female   42   \n",
       "3          4    15701354      Boni          699    France  Female   39   \n",
       "4          5    15737888  Mitchell          850     Spain  Female   43   \n",
       "\n",
       "   Tenure    Balance  NumOfProducts  HasCrCard  IsActiveMember  \\\n",
       "0     2.0       0.00              1          1               1   \n",
       "1     1.0   83807.86              1          0               1   \n",
       "2     8.0  159660.80              3          1               0   \n",
       "3     1.0       0.00              2          0               0   \n",
       "4     2.0  125510.82              1          1               1   \n",
       "\n",
       "   EstimatedSalary  Exited  \n",
       "0        101348.88       1  \n",
       "1        112542.58       0  \n",
       "2        113931.57       1  \n",
       "3         93826.63       0  \n",
       "4         79084.10       0  "
      ]
     },
     "execution_count": 3,
     "metadata": {},
     "output_type": "execute_result"
    }
   ],
   "source": [
    "df.head()"
   ]
  },
  {
   "cell_type": "code",
   "execution_count": 4,
   "metadata": {},
   "outputs": [
    {
     "data": {
      "text/plain": [
       "(10000, 14)"
      ]
     },
     "execution_count": 4,
     "metadata": {},
     "output_type": "execute_result"
    }
   ],
   "source": [
    "df.shape"
   ]
  },
  {
   "cell_type": "code",
   "execution_count": 5,
   "metadata": {},
   "outputs": [
    {
     "data": {
      "text/plain": [
       "RowNumber            0\n",
       "CustomerId           0\n",
       "Surname              0\n",
       "CreditScore          0\n",
       "Geography            0\n",
       "Gender               0\n",
       "Age                  0\n",
       "Tenure             909\n",
       "Balance              0\n",
       "NumOfProducts        0\n",
       "HasCrCard            0\n",
       "IsActiveMember       0\n",
       "EstimatedSalary      0\n",
       "Exited               0\n",
       "dtype: int64"
      ]
     },
     "execution_count": 5,
     "metadata": {},
     "output_type": "execute_result"
    }
   ],
   "source": [
    "# пропущенные значения\n",
    "df.isna().sum()"
   ]
  },
  {
   "cell_type": "code",
   "execution_count": 6,
   "metadata": {},
   "outputs": [
    {
     "name": "stdout",
     "output_type": "stream",
     "text": [
      "0\n",
      "10000\n"
     ]
    }
   ],
   "source": [
    "# дубликаты\n",
    "print(df.duplicated().sum())\n",
    "print(df['CustomerId'].value_counts().sum())"
   ]
  },
  {
   "cell_type": "code",
   "execution_count": 7,
   "metadata": {},
   "outputs": [
    {
     "name": "stdout",
     "output_type": "stream",
     "text": [
      "<class 'pandas.core.frame.DataFrame'>\n",
      "RangeIndex: 10000 entries, 0 to 9999\n",
      "Data columns (total 14 columns):\n",
      " #   Column           Non-Null Count  Dtype  \n",
      "---  ------           --------------  -----  \n",
      " 0   RowNumber        10000 non-null  int64  \n",
      " 1   CustomerId       10000 non-null  int64  \n",
      " 2   Surname          10000 non-null  object \n",
      " 3   CreditScore      10000 non-null  int64  \n",
      " 4   Geography        10000 non-null  object \n",
      " 5   Gender           10000 non-null  object \n",
      " 6   Age              10000 non-null  int64  \n",
      " 7   Tenure           9091 non-null   float64\n",
      " 8   Balance          10000 non-null  float64\n",
      " 9   NumOfProducts    10000 non-null  int64  \n",
      " 10  HasCrCard        10000 non-null  int64  \n",
      " 11  IsActiveMember   10000 non-null  int64  \n",
      " 12  EstimatedSalary  10000 non-null  float64\n",
      " 13  Exited           10000 non-null  int64  \n",
      "dtypes: float64(3), int64(8), object(3)\n",
      "memory usage: 1.1+ MB\n"
     ]
    }
   ],
   "source": [
    "df.info()"
   ]
  },
  {
   "cell_type": "code",
   "execution_count": 8,
   "metadata": {
    "scrolled": true
   },
   "outputs": [
    {
     "data": {
      "text/html": [
       "<div>\n",
       "<style scoped>\n",
       "    .dataframe tbody tr th:only-of-type {\n",
       "        vertical-align: middle;\n",
       "    }\n",
       "\n",
       "    .dataframe tbody tr th {\n",
       "        vertical-align: top;\n",
       "    }\n",
       "\n",
       "    .dataframe thead th {\n",
       "        text-align: right;\n",
       "    }\n",
       "</style>\n",
       "<table border=\"1\" class=\"dataframe\">\n",
       "  <thead>\n",
       "    <tr style=\"text-align: right;\">\n",
       "      <th></th>\n",
       "      <th>RowNumber</th>\n",
       "      <th>CustomerId</th>\n",
       "      <th>CreditScore</th>\n",
       "      <th>Age</th>\n",
       "      <th>Tenure</th>\n",
       "      <th>Balance</th>\n",
       "      <th>NumOfProducts</th>\n",
       "      <th>HasCrCard</th>\n",
       "      <th>IsActiveMember</th>\n",
       "      <th>EstimatedSalary</th>\n",
       "      <th>Exited</th>\n",
       "    </tr>\n",
       "  </thead>\n",
       "  <tbody>\n",
       "    <tr>\n",
       "      <th>count</th>\n",
       "      <td>10000.00000</td>\n",
       "      <td>1.000000e+04</td>\n",
       "      <td>10000.000000</td>\n",
       "      <td>10000.000000</td>\n",
       "      <td>9091.000000</td>\n",
       "      <td>10000.000000</td>\n",
       "      <td>10000.000000</td>\n",
       "      <td>10000.00000</td>\n",
       "      <td>10000.000000</td>\n",
       "      <td>10000.000000</td>\n",
       "      <td>10000.000000</td>\n",
       "    </tr>\n",
       "    <tr>\n",
       "      <th>mean</th>\n",
       "      <td>5000.50000</td>\n",
       "      <td>1.569094e+07</td>\n",
       "      <td>650.528800</td>\n",
       "      <td>38.921800</td>\n",
       "      <td>4.997690</td>\n",
       "      <td>76485.889288</td>\n",
       "      <td>1.530200</td>\n",
       "      <td>0.70550</td>\n",
       "      <td>0.515100</td>\n",
       "      <td>100090.239881</td>\n",
       "      <td>0.203700</td>\n",
       "    </tr>\n",
       "    <tr>\n",
       "      <th>std</th>\n",
       "      <td>2886.89568</td>\n",
       "      <td>7.193619e+04</td>\n",
       "      <td>96.653299</td>\n",
       "      <td>10.487806</td>\n",
       "      <td>2.894723</td>\n",
       "      <td>62397.405202</td>\n",
       "      <td>0.581654</td>\n",
       "      <td>0.45584</td>\n",
       "      <td>0.499797</td>\n",
       "      <td>57510.492818</td>\n",
       "      <td>0.402769</td>\n",
       "    </tr>\n",
       "    <tr>\n",
       "      <th>min</th>\n",
       "      <td>1.00000</td>\n",
       "      <td>1.556570e+07</td>\n",
       "      <td>350.000000</td>\n",
       "      <td>18.000000</td>\n",
       "      <td>0.000000</td>\n",
       "      <td>0.000000</td>\n",
       "      <td>1.000000</td>\n",
       "      <td>0.00000</td>\n",
       "      <td>0.000000</td>\n",
       "      <td>11.580000</td>\n",
       "      <td>0.000000</td>\n",
       "    </tr>\n",
       "    <tr>\n",
       "      <th>25%</th>\n",
       "      <td>2500.75000</td>\n",
       "      <td>1.562853e+07</td>\n",
       "      <td>584.000000</td>\n",
       "      <td>32.000000</td>\n",
       "      <td>2.000000</td>\n",
       "      <td>0.000000</td>\n",
       "      <td>1.000000</td>\n",
       "      <td>0.00000</td>\n",
       "      <td>0.000000</td>\n",
       "      <td>51002.110000</td>\n",
       "      <td>0.000000</td>\n",
       "    </tr>\n",
       "    <tr>\n",
       "      <th>50%</th>\n",
       "      <td>5000.50000</td>\n",
       "      <td>1.569074e+07</td>\n",
       "      <td>652.000000</td>\n",
       "      <td>37.000000</td>\n",
       "      <td>5.000000</td>\n",
       "      <td>97198.540000</td>\n",
       "      <td>1.000000</td>\n",
       "      <td>1.00000</td>\n",
       "      <td>1.000000</td>\n",
       "      <td>100193.915000</td>\n",
       "      <td>0.000000</td>\n",
       "    </tr>\n",
       "    <tr>\n",
       "      <th>75%</th>\n",
       "      <td>7500.25000</td>\n",
       "      <td>1.575323e+07</td>\n",
       "      <td>718.000000</td>\n",
       "      <td>44.000000</td>\n",
       "      <td>7.000000</td>\n",
       "      <td>127644.240000</td>\n",
       "      <td>2.000000</td>\n",
       "      <td>1.00000</td>\n",
       "      <td>1.000000</td>\n",
       "      <td>149388.247500</td>\n",
       "      <td>0.000000</td>\n",
       "    </tr>\n",
       "    <tr>\n",
       "      <th>max</th>\n",
       "      <td>10000.00000</td>\n",
       "      <td>1.581569e+07</td>\n",
       "      <td>850.000000</td>\n",
       "      <td>92.000000</td>\n",
       "      <td>10.000000</td>\n",
       "      <td>250898.090000</td>\n",
       "      <td>4.000000</td>\n",
       "      <td>1.00000</td>\n",
       "      <td>1.000000</td>\n",
       "      <td>199992.480000</td>\n",
       "      <td>1.000000</td>\n",
       "    </tr>\n",
       "  </tbody>\n",
       "</table>\n",
       "</div>"
      ],
      "text/plain": [
       "         RowNumber    CustomerId   CreditScore           Age       Tenure  \\\n",
       "count  10000.00000  1.000000e+04  10000.000000  10000.000000  9091.000000   \n",
       "mean    5000.50000  1.569094e+07    650.528800     38.921800     4.997690   \n",
       "std     2886.89568  7.193619e+04     96.653299     10.487806     2.894723   \n",
       "min        1.00000  1.556570e+07    350.000000     18.000000     0.000000   \n",
       "25%     2500.75000  1.562853e+07    584.000000     32.000000     2.000000   \n",
       "50%     5000.50000  1.569074e+07    652.000000     37.000000     5.000000   \n",
       "75%     7500.25000  1.575323e+07    718.000000     44.000000     7.000000   \n",
       "max    10000.00000  1.581569e+07    850.000000     92.000000    10.000000   \n",
       "\n",
       "             Balance  NumOfProducts    HasCrCard  IsActiveMember  \\\n",
       "count   10000.000000   10000.000000  10000.00000    10000.000000   \n",
       "mean    76485.889288       1.530200      0.70550        0.515100   \n",
       "std     62397.405202       0.581654      0.45584        0.499797   \n",
       "min         0.000000       1.000000      0.00000        0.000000   \n",
       "25%         0.000000       1.000000      0.00000        0.000000   \n",
       "50%     97198.540000       1.000000      1.00000        1.000000   \n",
       "75%    127644.240000       2.000000      1.00000        1.000000   \n",
       "max    250898.090000       4.000000      1.00000        1.000000   \n",
       "\n",
       "       EstimatedSalary        Exited  \n",
       "count     10000.000000  10000.000000  \n",
       "mean     100090.239881      0.203700  \n",
       "std       57510.492818      0.402769  \n",
       "min          11.580000      0.000000  \n",
       "25%       51002.110000      0.000000  \n",
       "50%      100193.915000      0.000000  \n",
       "75%      149388.247500      0.000000  \n",
       "max      199992.480000      1.000000  "
      ]
     },
     "execution_count": 8,
     "metadata": {},
     "output_type": "execute_result"
    }
   ],
   "source": [
    "df.describe()"
   ]
  },
  {
   "cell_type": "markdown",
   "metadata": {},
   "source": [
    "#### Датасет содержит  информацию  о 10000 клиентах, дубликатов строк  не обнаружено. Дупликатов в столбце CustomerId (уникальный идентификатор клиента) не обнаружено. Столбец Tenure (сколько лет человек является клиентом банка) содержит пропущенные значения, которые необходимо обработать. Столбцы RowNumber, CustomerId, Surname не несут ценности для дальнейшего  исследования, поэтому их можно удалить. Столбцы Geography, Gender  содержат категориальные данные, необходимо  выполнить кодирование."
   ]
  },
  {
   "cell_type": "markdown",
   "metadata": {},
   "source": [
    "#### Удалим столбцы'RowNumber','CustomerId', 'Surname'."
   ]
  },
  {
   "cell_type": "code",
   "execution_count": 9,
   "metadata": {},
   "outputs": [
    {
     "data": {
      "text/html": [
       "<div>\n",
       "<style scoped>\n",
       "    .dataframe tbody tr th:only-of-type {\n",
       "        vertical-align: middle;\n",
       "    }\n",
       "\n",
       "    .dataframe tbody tr th {\n",
       "        vertical-align: top;\n",
       "    }\n",
       "\n",
       "    .dataframe thead th {\n",
       "        text-align: right;\n",
       "    }\n",
       "</style>\n",
       "<table border=\"1\" class=\"dataframe\">\n",
       "  <thead>\n",
       "    <tr style=\"text-align: right;\">\n",
       "      <th></th>\n",
       "      <th>CreditScore</th>\n",
       "      <th>Geography</th>\n",
       "      <th>Gender</th>\n",
       "      <th>Age</th>\n",
       "      <th>Tenure</th>\n",
       "      <th>Balance</th>\n",
       "      <th>NumOfProducts</th>\n",
       "      <th>HasCrCard</th>\n",
       "      <th>IsActiveMember</th>\n",
       "      <th>EstimatedSalary</th>\n",
       "      <th>Exited</th>\n",
       "    </tr>\n",
       "  </thead>\n",
       "  <tbody>\n",
       "    <tr>\n",
       "      <th>0</th>\n",
       "      <td>619</td>\n",
       "      <td>France</td>\n",
       "      <td>Female</td>\n",
       "      <td>42</td>\n",
       "      <td>2.0</td>\n",
       "      <td>0.00</td>\n",
       "      <td>1</td>\n",
       "      <td>1</td>\n",
       "      <td>1</td>\n",
       "      <td>101348.88</td>\n",
       "      <td>1</td>\n",
       "    </tr>\n",
       "    <tr>\n",
       "      <th>1</th>\n",
       "      <td>608</td>\n",
       "      <td>Spain</td>\n",
       "      <td>Female</td>\n",
       "      <td>41</td>\n",
       "      <td>1.0</td>\n",
       "      <td>83807.86</td>\n",
       "      <td>1</td>\n",
       "      <td>0</td>\n",
       "      <td>1</td>\n",
       "      <td>112542.58</td>\n",
       "      <td>0</td>\n",
       "    </tr>\n",
       "    <tr>\n",
       "      <th>2</th>\n",
       "      <td>502</td>\n",
       "      <td>France</td>\n",
       "      <td>Female</td>\n",
       "      <td>42</td>\n",
       "      <td>8.0</td>\n",
       "      <td>159660.80</td>\n",
       "      <td>3</td>\n",
       "      <td>1</td>\n",
       "      <td>0</td>\n",
       "      <td>113931.57</td>\n",
       "      <td>1</td>\n",
       "    </tr>\n",
       "    <tr>\n",
       "      <th>3</th>\n",
       "      <td>699</td>\n",
       "      <td>France</td>\n",
       "      <td>Female</td>\n",
       "      <td>39</td>\n",
       "      <td>1.0</td>\n",
       "      <td>0.00</td>\n",
       "      <td>2</td>\n",
       "      <td>0</td>\n",
       "      <td>0</td>\n",
       "      <td>93826.63</td>\n",
       "      <td>0</td>\n",
       "    </tr>\n",
       "    <tr>\n",
       "      <th>4</th>\n",
       "      <td>850</td>\n",
       "      <td>Spain</td>\n",
       "      <td>Female</td>\n",
       "      <td>43</td>\n",
       "      <td>2.0</td>\n",
       "      <td>125510.82</td>\n",
       "      <td>1</td>\n",
       "      <td>1</td>\n",
       "      <td>1</td>\n",
       "      <td>79084.10</td>\n",
       "      <td>0</td>\n",
       "    </tr>\n",
       "  </tbody>\n",
       "</table>\n",
       "</div>"
      ],
      "text/plain": [
       "   CreditScore Geography  Gender  Age  Tenure    Balance  NumOfProducts  \\\n",
       "0          619    France  Female   42     2.0       0.00              1   \n",
       "1          608     Spain  Female   41     1.0   83807.86              1   \n",
       "2          502    France  Female   42     8.0  159660.80              3   \n",
       "3          699    France  Female   39     1.0       0.00              2   \n",
       "4          850     Spain  Female   43     2.0  125510.82              1   \n",
       "\n",
       "   HasCrCard  IsActiveMember  EstimatedSalary  Exited  \n",
       "0          1               1        101348.88       1  \n",
       "1          0               1        112542.58       0  \n",
       "2          1               0        113931.57       1  \n",
       "3          0               0         93826.63       0  \n",
       "4          1               1         79084.10       0  "
      ]
     },
     "execution_count": 9,
     "metadata": {},
     "output_type": "execute_result"
    }
   ],
   "source": [
    "df = df.drop(['RowNumber','CustomerId', 'Surname'], axis=1)\n",
    "df.head()"
   ]
  },
  {
   "cell_type": "markdown",
   "metadata": {},
   "source": [
    "#### Заполним пропущенные значения  в стобце Tenure  медианной."
   ]
  },
  {
   "cell_type": "code",
   "execution_count": 10,
   "metadata": {},
   "outputs": [
    {
     "data": {
      "text/plain": [
       "0"
      ]
     },
     "execution_count": 10,
     "metadata": {},
     "output_type": "execute_result"
    }
   ],
   "source": [
    "df['Tenure'] = df['Tenure'].fillna(df['Tenure'].median())\n",
    "df['Tenure'].isna().sum()# количество пропущенных значений после замены"
   ]
  },
  {
   "cell_type": "markdown",
   "metadata": {},
   "source": [
    "#### Преобразуем  категориальные признаки  в стобцах Geography, Gender в численные с помощью техники прямого кодирования."
   ]
  },
  {
   "cell_type": "code",
   "execution_count": 11,
   "metadata": {},
   "outputs": [],
   "source": [
    "#df = pd.get_dummies(df, drop_first=True)\n",
    "#df.head()"
   ]
  },
  {
   "cell_type": "markdown",
   "metadata": {},
   "source": [
    "#### Разобьем  данные на обучающую (60%),валидационную (20%) и тестовою (20%) выборки. Разделим  каждую  выборку на  матрицу исходных данных и целевую переменную.\n",
    "* features_train, target_train - обучающая выборка \n",
    "* features_valid, target_valid - валидационная выборка \n",
    "* features_test, target_test - тестовая выборка "
   ]
  },
  {
   "cell_type": "code",
   "execution_count": 12,
   "metadata": {},
   "outputs": [
    {
     "name": "stdout",
     "output_type": "stream",
     "text": [
      "(6000, 10) (6000,) (2000, 10) (2000,) (2000, 10) (2000,)\n"
     ]
    }
   ],
   "source": [
    "# 60% - обучающая выборка, 40% - валидационная + тестовая \n",
    "df_train, df_valid_test = train_test_split(df, test_size=0.4, random_state=12345)\n",
    "# матрица исходных данных и целевой столбец для обучайющей выборки\n",
    "features_train = df_train.drop('Exited', axis=1) \n",
    "target_train = df_train['Exited'] \n",
    "# матрица исходных данных и целевой столбец для валидационной + тестовой выборки\n",
    "features_valid_test = df_valid_test.drop('Exited', axis=1) \n",
    "target_valid_test = df_valid_test['Exited']\n",
    "# разделим на тестовую и валидационную\n",
    "features_valid, features_test, target_valid, target_test = train_test_split(features_valid_test, target_valid_test,\n",
    "                                                                            test_size=0.5, random_state=12345)\n",
    "print(features_train.shape, target_train.shape, features_valid.shape, target_valid.shape, features_test.shape, target_test.shape)"
   ]
  },
  {
   "cell_type": "markdown",
   "metadata": {},
   "source": [
    "#### Преобразуем  категориальные признаки  в стобцах Geography, Gender в численные с помощью OneHotEncoder."
   ]
  },
  {
   "cell_type": "code",
   "execution_count": 13,
   "metadata": {},
   "outputs": [],
   "source": [
    "#категориальные признаки для OHE \n",
    "ohe_features = features_train.select_dtypes(include='object').columns.to_list()\n",
    "encoder_ohe = OneHotEncoder(drop='first', handle_unknown='ignore', sparse=False)\n",
    "# обучаем энкодер на заданных категориальных признаках тренировочной выборки\n",
    "encoder_ohe.fit(features_train[ohe_features])\n",
    "# добавляем закодированные признаки\n",
    "features_train[encoder_ohe.get_feature_names_out()] = encoder_ohe.transform(features_train[ohe_features])\n",
    "# удаляем изначальные  колонки\n",
    "features_train= features_train.drop(ohe_features, axis=1)\n",
    "\n",
    "features_valid[encoder_ohe.get_feature_names_out()] = encoder_ohe.transform(features_valid[ohe_features])\n",
    "features_valid= features_valid.drop(ohe_features, axis=1)\n",
    "\n",
    "features_test[encoder_ohe.get_feature_names_out()] = encoder_ohe.transform(features_test[ohe_features])\n",
    "features_test = features_test.drop(ohe_features, axis=1)"
   ]
  },
  {
   "cell_type": "markdown",
   "metadata": {},
   "source": [
    "#### Произведем масштабирование числовых  признаков для выборок."
   ]
  },
  {
   "cell_type": "code",
   "execution_count": 14,
   "metadata": {},
   "outputs": [
    {
     "data": {
      "text/html": [
       "<div>\n",
       "<style scoped>\n",
       "    .dataframe tbody tr th:only-of-type {\n",
       "        vertical-align: middle;\n",
       "    }\n",
       "\n",
       "    .dataframe tbody tr th {\n",
       "        vertical-align: top;\n",
       "    }\n",
       "\n",
       "    .dataframe thead th {\n",
       "        text-align: right;\n",
       "    }\n",
       "</style>\n",
       "<table border=\"1\" class=\"dataframe\">\n",
       "  <thead>\n",
       "    <tr style=\"text-align: right;\">\n",
       "      <th></th>\n",
       "      <th>CreditScore</th>\n",
       "      <th>Age</th>\n",
       "      <th>Tenure</th>\n",
       "      <th>Balance</th>\n",
       "      <th>NumOfProducts</th>\n",
       "      <th>HasCrCard</th>\n",
       "      <th>IsActiveMember</th>\n",
       "      <th>EstimatedSalary</th>\n",
       "      <th>Geography_Germany</th>\n",
       "      <th>Geography_Spain</th>\n",
       "      <th>Gender_Male</th>\n",
       "    </tr>\n",
       "  </thead>\n",
       "  <tbody>\n",
       "    <tr>\n",
       "      <th>7479</th>\n",
       "      <td>-0.886751</td>\n",
       "      <td>-0.373192</td>\n",
       "      <td>1.082277</td>\n",
       "      <td>1.232271</td>\n",
       "      <td>-0.89156</td>\n",
       "      <td>1</td>\n",
       "      <td>0</td>\n",
       "      <td>-0.187705</td>\n",
       "      <td>0.0</td>\n",
       "      <td>1.0</td>\n",
       "      <td>1.0</td>\n",
       "    </tr>\n",
       "  </tbody>\n",
       "</table>\n",
       "</div>"
      ],
      "text/plain": [
       "      CreditScore       Age    Tenure   Balance  NumOfProducts  HasCrCard  \\\n",
       "7479    -0.886751 -0.373192  1.082277  1.232271       -0.89156          1   \n",
       "\n",
       "      IsActiveMember  EstimatedSalary  Geography_Germany  Geography_Spain  \\\n",
       "7479               0        -0.187705                0.0              1.0   \n",
       "\n",
       "      Gender_Male  \n",
       "7479          1.0  "
      ]
     },
     "metadata": {},
     "output_type": "display_data"
    },
    {
     "data": {
      "text/html": [
       "<div>\n",
       "<style scoped>\n",
       "    .dataframe tbody tr th:only-of-type {\n",
       "        vertical-align: middle;\n",
       "    }\n",
       "\n",
       "    .dataframe tbody tr th {\n",
       "        vertical-align: top;\n",
       "    }\n",
       "\n",
       "    .dataframe thead th {\n",
       "        text-align: right;\n",
       "    }\n",
       "</style>\n",
       "<table border=\"1\" class=\"dataframe\">\n",
       "  <thead>\n",
       "    <tr style=\"text-align: right;\">\n",
       "      <th></th>\n",
       "      <th>CreditScore</th>\n",
       "      <th>Age</th>\n",
       "      <th>Tenure</th>\n",
       "      <th>Balance</th>\n",
       "      <th>NumOfProducts</th>\n",
       "      <th>HasCrCard</th>\n",
       "      <th>IsActiveMember</th>\n",
       "      <th>EstimatedSalary</th>\n",
       "      <th>Geography_Germany</th>\n",
       "      <th>Geography_Spain</th>\n",
       "      <th>Gender_Male</th>\n",
       "    </tr>\n",
       "  </thead>\n",
       "  <tbody>\n",
       "    <tr>\n",
       "      <th>8532</th>\n",
       "      <td>-0.699824</td>\n",
       "      <td>-0.373192</td>\n",
       "      <td>-1.10169</td>\n",
       "      <td>-1.233163</td>\n",
       "      <td>0.830152</td>\n",
       "      <td>1</td>\n",
       "      <td>0</td>\n",
       "      <td>-0.015173</td>\n",
       "      <td>0.0</td>\n",
       "      <td>0.0</td>\n",
       "      <td>0.0</td>\n",
       "    </tr>\n",
       "  </tbody>\n",
       "</table>\n",
       "</div>"
      ],
      "text/plain": [
       "      CreditScore       Age   Tenure   Balance  NumOfProducts  HasCrCard  \\\n",
       "8532    -0.699824 -0.373192 -1.10169 -1.233163       0.830152          1   \n",
       "\n",
       "      IsActiveMember  EstimatedSalary  Geography_Germany  Geography_Spain  \\\n",
       "8532               0        -0.015173                0.0              0.0   \n",
       "\n",
       "      Gender_Male  \n",
       "8532          0.0  "
      ]
     },
     "metadata": {},
     "output_type": "display_data"
    },
    {
     "data": {
      "text/html": [
       "<div>\n",
       "<style scoped>\n",
       "    .dataframe tbody tr th:only-of-type {\n",
       "        vertical-align: middle;\n",
       "    }\n",
       "\n",
       "    .dataframe tbody tr th {\n",
       "        vertical-align: top;\n",
       "    }\n",
       "\n",
       "    .dataframe thead th {\n",
       "        text-align: right;\n",
       "    }\n",
       "</style>\n",
       "<table border=\"1\" class=\"dataframe\">\n",
       "  <thead>\n",
       "    <tr style=\"text-align: right;\">\n",
       "      <th></th>\n",
       "      <th>CreditScore</th>\n",
       "      <th>Age</th>\n",
       "      <th>Tenure</th>\n",
       "      <th>Balance</th>\n",
       "      <th>NumOfProducts</th>\n",
       "      <th>HasCrCard</th>\n",
       "      <th>IsActiveMember</th>\n",
       "      <th>EstimatedSalary</th>\n",
       "      <th>Geography_Germany</th>\n",
       "      <th>Geography_Spain</th>\n",
       "      <th>Gender_Male</th>\n",
       "    </tr>\n",
       "  </thead>\n",
       "  <tbody>\n",
       "    <tr>\n",
       "      <th>7041</th>\n",
       "      <td>-2.226392</td>\n",
       "      <td>-0.088482</td>\n",
       "      <td>-1.10169</td>\n",
       "      <td>-1.233163</td>\n",
       "      <td>0.830152</td>\n",
       "      <td>1</td>\n",
       "      <td>0</td>\n",
       "      <td>0.647083</td>\n",
       "      <td>0.0</td>\n",
       "      <td>0.0</td>\n",
       "      <td>1.0</td>\n",
       "    </tr>\n",
       "  </tbody>\n",
       "</table>\n",
       "</div>"
      ],
      "text/plain": [
       "      CreditScore       Age   Tenure   Balance  NumOfProducts  HasCrCard  \\\n",
       "7041    -2.226392 -0.088482 -1.10169 -1.233163       0.830152          1   \n",
       "\n",
       "      IsActiveMember  EstimatedSalary  Geography_Germany  Geography_Spain  \\\n",
       "7041               0         0.647083                0.0              0.0   \n",
       "\n",
       "      Gender_Male  \n",
       "7041          1.0  "
      ]
     },
     "metadata": {},
     "output_type": "display_data"
    }
   ],
   "source": [
    "# масштабирование признаков\n",
    "numeric = ['CreditScore', 'Age', 'Tenure', 'Balance', 'NumOfProducts', 'EstimatedSalary']\n",
    "scaler = StandardScaler() \n",
    "scaler.fit(features_train[numeric])\n",
    "features_train[numeric] = scaler.transform(features_train[numeric]) # стандартизация  обучающей выборки \n",
    "features_valid[numeric] = scaler.transform(features_valid[numeric]) # стандартизация  валидационной выборки\n",
    "features_test[numeric] = scaler.transform(features_test[numeric]) # стандартизация тестовой  выборки\n",
    "display(features_train.head(1))\n",
    "display(features_valid.head(1))\n",
    "display(features_test.head(1))"
   ]
  },
  {
   "cell_type": "markdown",
   "metadata": {},
   "source": [
    "#### Изучили и подготовили данные для дальнейших исследований\n",
    "*  Удалили столбцы RowNumber, CustomerId, Surname не несущие  ценности для дальнейшего  исследования.\n",
    "*  Заменили пропущенные значение в столбце Tenure медианным занчением. Медиана позволяет нивелировать влияние выбросов.\n",
    "*  Разбили  данные на обучающую (60%),валидационную (20%) и тестовою (20%) выборки. Разделили каждую выборку на матрицу     исходных данных и целевую переменную\n",
    "*  Выполнили кодирование категориальных данных в столбцах Geography и Gender  в численные с помощью OneHotEncoder.\n",
    "*  Произвели масштабирование числовых признаков для выборок."
   ]
  },
  {
   "cell_type": "markdown",
   "metadata": {},
   "source": [
    "## Исследование задачи"
   ]
  },
  {
   "cell_type": "markdown",
   "metadata": {},
   "source": [
    "#### Исследуем баланс классов на тестовой и валидационной выборке."
   ]
  },
  {
   "cell_type": "code",
   "execution_count": 15,
   "metadata": {},
   "outputs": [
    {
     "name": "stdout",
     "output_type": "stream",
     "text": [
      "0    0.7963\n",
      "1    0.2037\n",
      "Name: Exited, dtype: float64\n",
      "0    0.800667\n",
      "1    0.199333\n",
      "Name: Exited, dtype: float64\n"
     ]
    }
   ],
   "source": [
    "print(df['Exited'].value_counts(normalize = 1))\n",
    "print(target_train.value_counts(normalize = 1))"
   ]
  },
  {
   "cell_type": "markdown",
   "metadata": {},
   "source": [
    "#### У обучающией и валидационной выборок существует заметный дисбаланс класов. Ответы 0 ≈80% , 1 ≈ 20%."
   ]
  },
  {
   "cell_type": "markdown",
   "metadata": {},
   "source": [
    "####  Изучим модели без учёта дисбаланса. Будем использовать метрику F1  для подбора гиперпараметров. Вычислим матрицы ошибок, значения точности, значения полноты для различных моделей. \n"
   ]
  },
  {
   "cell_type": "markdown",
   "metadata": {},
   "source": [
    "####  Метод Decision Tree"
   ]
  },
  {
   "cell_type": "code",
   "execution_count": 16,
   "metadata": {},
   "outputs": [
    {
     "name": "stdout",
     "output_type": "stream",
     "text": [
      "Глубина дерева: 6  F1 лучшей модели: 0.5696969696969697\n",
      "Точность: 0.7768595041322314\n",
      "Полнота: 0.44976076555023925\n",
      "Матрица ошибок: [[1528   54]\n",
      " [ 230  188]]\n",
      "Площадь ROC-кривой: 0.8164631712023421\n"
     ]
    }
   ],
   "source": [
    "best_model_DT = None\n",
    "best_result_DT = 0\n",
    "for depth in range(1, 20):\n",
    "    model = DecisionTreeClassifier(random_state=12345, max_depth= depth) # обучение модели с заданной глубиной дерева\n",
    "    model.fit(features_train, target_train) # обучение модели\n",
    "    predicted_valid = model.predict(features_valid)\n",
    "    result = f1_score(target_valid, predicted_valid)\n",
    "    \n",
    "    if result > best_result_DT:\n",
    "        best_model_DT = model\n",
    "        best_result_DT = result\n",
    "        best_depth_DT = depth\n",
    "        \n",
    "print(\"Глубина дерева:\", best_depth_DT, \" F1 лучшей модели:\", best_result_DT)\n",
    "print(\"Точность:\", precision_score(target_valid, best_model_DT.predict(features_valid)))\n",
    "print(\"Полнота:\", recall_score(target_valid, best_model_DT.predict(features_valid)))\n",
    "print(\"Матрица ошибок:\", confusion_matrix(target_valid, best_model_DT.predict(features_valid)))\n",
    "\n",
    "probabilities = best_model_DT.predict_proba(features_valid)\n",
    "probabilities_one = probabilities[:, 1]\n",
    "print('Площадь ROC-кривой:', roc_auc_score(target_valid, probabilities_one))"
   ]
  },
  {
   "cell_type": "markdown",
   "metadata": {},
   "source": [
    "#### Метод Random Forest"
   ]
  },
  {
   "cell_type": "code",
   "execution_count": 17,
   "metadata": {},
   "outputs": [
    {
     "name": "stdout",
     "output_type": "stream",
     "text": [
      "Количество деревьев: 105  Глубина дерева: 12  F1 лучшей модели: 0.5909090909090908\n",
      "Точность: 0.8057851239669421\n",
      "Полнота: 0.4665071770334928\n",
      "Матрица ошибок: [[1535   47]\n",
      " [ 223  195]]\n",
      "Площадь ROC-кривой: 0.8488573606179567\n",
      "CPU times: user 1min 31s, sys: 480 ms, total: 1min 31s\n",
      "Wall time: 1min 31s\n"
     ]
    }
   ],
   "source": [
    "%%time\n",
    "best_model_RF = None\n",
    "best_result_RF = 0\n",
    "for est in range(100,150,5):\n",
    "    for depth in range(1, 16, 1):\n",
    "        model = RandomForestClassifier(random_state=12345, n_estimators=est, max_depth=depth)\n",
    "        model.fit(features_train, target_train)\n",
    "        predicted_valid = model.predict(features_valid)\n",
    "        result = f1_score(target_valid, predicted_valid)\n",
    "                          \n",
    "        if result > best_result_RF:\n",
    "            best_model_RF = model\n",
    "            best_result_RF = result\n",
    "            best_est_RF = est\n",
    "            best_depth_RF = depth\n",
    "        \n",
    "print(\"Количество деревьев:\", best_est_RF, \" Глубина дерева:\", best_depth_RF, \" F1 лучшей модели:\", best_result_RF)\n",
    "print(\"Точность:\", precision_score(target_valid, best_model_RF.predict(features_valid)))\n",
    "print(\"Полнота:\", recall_score(target_valid, best_model_RF.predict(features_valid)))\n",
    "print(\"Матрица ошибок:\", confusion_matrix(target_valid, best_model_RF.predict(features_valid)))\n",
    "\n",
    "probabilities = best_model_RF.predict_proba(features_valid)\n",
    "probabilities_one = probabilities[:, 1]\n",
    "print('Площадь ROC-кривой:', roc_auc_score(target_valid, probabilities_one))"
   ]
  },
  {
   "cell_type": "markdown",
   "metadata": {},
   "source": [
    "#### Метод Logistic Regression"
   ]
  },
  {
   "cell_type": "code",
   "execution_count": 18,
   "metadata": {},
   "outputs": [
    {
     "name": "stdout",
     "output_type": "stream",
     "text": [
      "F1 модели: 0.33108108108108103\n",
      "Точность: 0.5632183908045977\n",
      "Полнота: 0.23444976076555024\n",
      "Матрица ошибок: [[1506   76]\n",
      " [ 320   98]]\n",
      "Площадь ROC-кривой: 0.7588026784580114\n"
     ]
    }
   ],
   "source": [
    "model_LR = LogisticRegression(random_state=12345, solver='lbfgs')\n",
    "model_LR.fit(features_train, target_train)\n",
    "predicted_valid = model_LR.predict(features_valid)\n",
    "result = f1_score(target_valid, predicted_valid)\n",
    "print(\"F1 модели:\", result)\n",
    "print(\"Точность:\", precision_score(target_valid, model_LR.predict(features_valid)))\n",
    "print(\"Полнота:\", recall_score(target_valid, model_LR.predict(features_valid)))\n",
    "print(\"Матрица ошибок:\", confusion_matrix(target_valid, model_LR.predict(features_valid)))\n",
    "\n",
    "probabilities = model_LR.predict_proba(features_valid)\n",
    "probabilities_one = probabilities[:, 1]\n",
    "print('Площадь ROC-кривой:', roc_auc_score(target_valid, probabilities_one))"
   ]
  },
  {
   "cell_type": "markdown",
   "metadata": {},
   "source": [
    "#### На несбалансированных данных все модели показывают низкое значние F1- меры, что свидетельствует о низком качестве моделей. Низкое значение полноты свидетельствует о том, что модели  \"пропускают\" уходящего абонента  и ошибочно принимают его за лояльного. Лучшие результаты показала модель  Random Forest,  F1 лучшей модели: 0.59."
   ]
  },
  {
   "cell_type": "markdown",
   "metadata": {},
   "source": [
    "## Борьба с дисбалансом"
   ]
  },
  {
   "cell_type": "markdown",
   "metadata": {},
   "source": [
    "#### Устраним дисбаланс классов в обучающей выборке методом upsampling.Увеличим количество значений позитивного класса в 4 раза."
   ]
  },
  {
   "cell_type": "code",
   "execution_count": 19,
   "metadata": {},
   "outputs": [
    {
     "name": "stdout",
     "output_type": "stream",
     "text": [
      "(9588, 11)\n",
      "(9588,)\n",
      "0    0.501043\n",
      "1    0.498957\n",
      "Name: Exited, dtype: float64\n"
     ]
    }
   ],
   "source": [
    "def upsample(features, target, repeat):\n",
    "    features_zeros = features[target == 0]\n",
    "    features_ones = features[target == 1]\n",
    "    target_zeros = target[target == 0]\n",
    "    target_ones = target[target == 1]\n",
    "\n",
    "    features_upsampled = pd.concat([features_zeros] + [features_ones] * repeat)\n",
    "    target_upsampled = pd.concat([target_zeros] + [target_ones] * repeat)\n",
    "    \n",
    "    features_upsampled, target_upsampled = shuffle(\n",
    "        features_upsampled, target_upsampled, random_state=12345)\n",
    "    \n",
    "    return features_upsampled, target_upsampled\n",
    "\n",
    "features_train_upsampled, target_train_upsampled = upsample(features_train, target_train, 4)\n",
    "print(features_train_upsampled.shape)\n",
    "print(target_train_upsampled.shape)\n",
    "print(target_train_upsampled.value_counts(normalize = 1))\n",
    "\n"
   ]
  },
  {
   "cell_type": "markdown",
   "metadata": {},
   "source": [
    "#### Устранение дисбаланса можно сделать техникой downsampling. Уберём часть объектов большего класса."
   ]
  },
  {
   "cell_type": "code",
   "execution_count": 20,
   "metadata": {},
   "outputs": [
    {
     "name": "stdout",
     "output_type": "stream",
     "text": [
      "(2397, 11)\n",
      "(2397,)\n",
      "0    0.501043\n",
      "1    0.498957\n",
      "Name: Exited, dtype: float64\n"
     ]
    }
   ],
   "source": [
    "def downsample(features, target, fraction):\n",
    "    features_zeros = features[target == 0]\n",
    "    features_ones = features[target == 1]\n",
    "    target_zeros = target[target == 0]\n",
    "    target_ones = target[target == 1]\n",
    "    features_downsampled = pd.concat([features_zeros.sample(frac=fraction, random_state=12345)] +[features_ones])\n",
    "    target_downsampled = pd.concat([target_zeros.sample(frac=fraction, random_state=12345)] + [target_ones]) \n",
    "    features_downsampled, target_downsampled = shuffle(\n",
    "        features_downsampled, target_downsampled, random_state=12345)\n",
    "    return features_downsampled, target_downsampled\n",
    "\n",
    "features_train_downsampled, target_train_downsampled = downsample(features_train, target_train, 0.25)\n",
    "\n",
    "print(features_train_downsampled.shape)\n",
    "print(target_train_downsampled.shape)\n",
    "print(target_train_downsampled.value_counts(normalize = 1))"
   ]
  },
  {
   "cell_type": "markdown",
   "metadata": {},
   "source": [
    "#### Изучим модели Random Forest, обученные  на сбалансированных данных."
   ]
  },
  {
   "cell_type": "code",
   "execution_count": 21,
   "metadata": {},
   "outputs": [
    {
     "name": "stdout",
     "output_type": "stream",
     "text": [
      "Количество деревьев: 110  Глубина дерева: 10  F1 лучшей модели  метод upsampled: 0.6284454244762954\n",
      "Точность: 0.5828220858895705\n",
      "Полнота: 0.6818181818181818\n",
      "Матрица ошибок: [[1378  204]\n",
      " [ 133  285]]\n",
      "Площадь ROC-кривой: 0.8536375129295484\n",
      "CPU times: user 2min 2s, sys: 564 ms, total: 2min 2s\n",
      "Wall time: 2min 3s\n"
     ]
    }
   ],
   "source": [
    "%%time\n",
    "best_model_RF_upsampled = None\n",
    "best_result_RF = 0\n",
    "for est in range(100,150,5):\n",
    "    for depth in range(1, 16, 1):\n",
    "        model = RandomForestClassifier(random_state=12345, n_estimators=est, max_depth=depth)\n",
    "        model.fit(features_train_upsampled, target_train_upsampled)\n",
    "        predicted_valid = model.predict(features_valid)\n",
    "        result = f1_score(target_valid, predicted_valid)\n",
    "                          \n",
    "        if result > best_result_RF:\n",
    "            best_model_RF_upsampled = model\n",
    "            best_result_RF = result\n",
    "            best_est_RF = est\n",
    "            best_depth_RF = depth\n",
    "        \n",
    "print(\"Количество деревьев:\", best_est_RF, \" Глубина дерева:\", best_depth_RF, \" F1 лучшей модели  метод upsampled:\", best_result_RF)\n",
    "print(\"Точность:\", precision_score(target_valid, best_model_RF_upsampled.predict(features_valid)))\n",
    "print(\"Полнота:\", recall_score(target_valid, best_model_RF_upsampled.predict(features_valid)))\n",
    "print(\"Матрица ошибок:\", confusion_matrix(target_valid, best_model_RF_upsampled.predict(features_valid)))\n",
    "\n",
    "probabilities = best_model_RF_upsampled.predict_proba(features_valid)\n",
    "probabilities_one = probabilities[:, 1]\n",
    "print('Площадь ROC-кривой:', roc_auc_score(target_valid, probabilities_one))"
   ]
  },
  {
   "cell_type": "code",
   "execution_count": 22,
   "metadata": {},
   "outputs": [
    {
     "name": "stdout",
     "output_type": "stream",
     "text": [
      "Количество деревьев: 100  Глубина дерева: 8  F1 лучшей модели  метод downsampled: 0.6072796934865899\n",
      "Точность: 0.5063897763578274\n",
      "Полнота: 0.7583732057416268\n",
      "Матрица ошибок: [[1273  309]\n",
      " [ 101  317]]\n",
      "Площадь ROC-кривой: 0.8496709392144883\n",
      "CPU times: user 54.4 s, sys: 392 ms, total: 54.8 s\n",
      "Wall time: 54.9 s\n"
     ]
    }
   ],
   "source": [
    "%%time\n",
    "best_model_RF_downsampled = None\n",
    "best_result_RF = 0\n",
    "for est in range(100,150,5):\n",
    "    for depth in range(1, 16, 1):\n",
    "        model = RandomForestClassifier(random_state=12345, n_estimators=est, max_depth=depth)\n",
    "        model.fit(features_train_downsampled, target_train_downsampled)\n",
    "        predicted_valid = model.predict(features_valid)\n",
    "        result = f1_score(target_valid, predicted_valid)\n",
    "                          \n",
    "        if result > best_result_RF:\n",
    "            best_model_RF_downsampled = model\n",
    "            best_result_RF = result\n",
    "            best_est_RF = est\n",
    "            best_depth_RF = depth\n",
    "        \n",
    "print(\"Количество деревьев:\", best_est_RF, \" Глубина дерева:\", best_depth_RF, \" F1 лучшей модели  метод downsampled:\", best_result_RF)\n",
    "print(\"Точность:\", precision_score(target_valid, best_model_RF_downsampled.predict(features_valid)))\n",
    "print(\"Полнота:\", recall_score(target_valid, best_model_RF_downsampled.predict(features_valid)))\n",
    "print(\"Матрица ошибок:\", confusion_matrix(target_valid, best_model_RF_downsampled.predict(features_valid)))\n",
    "\n",
    "probabilities = best_model_RF_downsampled.predict_proba(features_valid)\n",
    "probabilities_one = probabilities[:, 1]\n",
    "print('Площадь ROC-кривой:', roc_auc_score(target_valid, probabilities_one))"
   ]
  },
  {
   "cell_type": "markdown",
   "metadata": {},
   "source": [
    "#### Лучший результат  показала модель Random Forest, обученная на сбалансированных данных  методом  upsampling. Удалось достичь значения F1-меры 0,628 на валидационной выборке. \n",
    "Гиперпараметры модели: \n",
    "* Количество деревьев: 110  \n",
    "* Глубина дерева: 10 "
   ]
  },
  {
   "cell_type": "markdown",
   "metadata": {},
   "source": [
    "## Тестирование модели"
   ]
  },
  {
   "cell_type": "markdown",
   "metadata": {},
   "source": [
    "#### Посчитаем  метрики нашей лучшей модели на тестовой выборке."
   ]
  },
  {
   "cell_type": "code",
   "execution_count": 23,
   "metadata": {},
   "outputs": [
    {
     "name": "stdout",
     "output_type": "stream",
     "text": [
      "F1  модели : 0.6086021505376343\n",
      "Точность: 0.5581854043392505\n",
      "Полнота: 0.6690307328605201\n",
      "Матрица ошибок: [[1353  224]\n",
      " [ 140  283]]\n"
     ]
    }
   ],
   "source": [
    "predicted = best_model_RF_upsampled.predict(features_test)\n",
    "result = f1_score(target_test, predicted)\n",
    "print(\"F1  модели :\", result)\n",
    "print(\"Точность:\", precision_score(target_test, predicted))\n",
    "print(\"Полнота:\", recall_score(target_test, predicted))\n",
    "print(\"Матрица ошибок:\", confusion_matrix(target_test,predicted))"
   ]
  },
  {
   "cell_type": "code",
   "execution_count": 24,
   "metadata": {},
   "outputs": [
    {
     "data": {
      "image/png": "[encoded data removed]",
      "text/plain": [
       "<Figure size 432x288 with 1 Axes>"
      ]
     },
     "metadata": {
      "needs_background": "light"
     },
     "output_type": "display_data"
    },
    {
     "name": "stdout",
     "output_type": "stream",
     "text": [
      "AUC-ROC: 0.8559793485251195\n"
     ]
    }
   ],
   "source": [
    "probabilities_test = best_model_RF_upsampled.predict_proba(features_test)\n",
    "probabilities_one_test = probabilities_test[:, 1]\n",
    "fpr, tpr, thresholds = roc_curve(target_test, probabilities_one_test)\n",
    "plt.figure()\n",
    "plt.plot(fpr, tpr)\n",
    "plt.plot([0, 1], [0, 1], linestyle='--')\n",
    "plt.xlim([0.0, 1.0])\n",
    "plt.ylim([0.0, 1.0])\n",
    "plt.xlabel('False Positive Rate')\n",
    "plt.ylabel('True Positive Rate')\n",
    "plt.title('ROC-кривая')\n",
    "plt.show()\n",
    "print(\"AUC-ROC:\", roc_auc_score(target_test, probabilities_one_test))\n",
    "\n",
    "\n",
    "\n"
   ]
  },
  {
   "cell_type": "markdown",
   "metadata": {},
   "source": [
    "#### На тестовой выборке модель показывает реультат F1 = 0.608, удалось достичь F1-меры не менее 0.59. Модель имеет  показатель полноты = 0.67, поэтому она с высокой вероятностью предскажит уход клиента из банка. Показатель точности  = 0.56  — только половина предсказанных моделью уходящих  клиентов уйдут, модель принимает  лояльного клиента за уходящего."
   ]
  },
  {
   "cell_type": "markdown",
   "metadata": {},
   "source": [
    "#### Cравним нашу модель  с константной моделью. В константной модели значение целевой переменной  устанавливаем в \"1\"."
   ]
  },
  {
   "cell_type": "code",
   "execution_count": 25,
   "metadata": {},
   "outputs": [
    {
     "name": "stdout",
     "output_type": "stream",
     "text": [
      "F1 константной модели : 0.3491539413949649\n",
      "Точность константной модели: 1.0\n",
      "Полнота константной модели: 0.2115\n",
      "Матрица ошибок константной модели: [[   0    0]\n",
      " [1577  423]]\n"
     ]
    }
   ],
   "source": [
    "dummy_model = DummyClassifier(strategy='constant', constant=1)\n",
    "dummy_model.fit(features_train, target_train)\n",
    "f1_score(dummy_model.predict(features_test), target_test)\n",
    "print(\"F1 константной модели :\",f1_score(dummy_model.predict(features_test), target_test))\n",
    "print(\"Точность константной модели:\", precision_score(dummy_model.predict(features_test), target_test))\n",
    "print(\"Полнота константной модели:\", recall_score(dummy_model.predict(features_test), target_test))\n",
    "print(\"Матрица ошибок константной модели:\", confusion_matrix(dummy_model.predict(features_test), target_test))"
   ]
  },
  {
   "cell_type": "markdown",
   "metadata": {},
   "source": [
    "#### Значение метрики recall нашей модели значительно (более, чем в три раза) превышает recall константной модели. Наша модель с вероятнойстью 67% обнаружит уходящего клиента,  в то время,  как константная  модель  обнаружит ууходящего клиента с вероятность ~21%."
   ]
  },
  {
   "cell_type": "markdown",
   "metadata": {},
   "source": [
    "### Результаты исследования\n",
    "\n",
    "#### Подготовленны и исследованы данные. В исходных данных наблюдался дисбаланс классов, 80% ответов целевого признака были \"0\" и  20% позитивными.\n",
    "\n",
    "#### На несбалансированных исходных данных  модели показывают низкое значние F1-меры, что свидетельствует о низком качестве моделей \n",
    "* F1 модели Logistic Regression: 0.33\n",
    "* F1 модели Random Forest: 0.59\n",
    "* F1 модели Decision Tree: 0.57\n",
    "\n",
    "####  Был устранен  дисбаланс классов в обучающей выборке методом upsampling и downsampling.\n",
    "\n",
    "####  На сбалансированных  данных  модели показали результат выше, чем на несбалансированной выборке. Лучшие метрики  у модели Random Forest (Количество деревьев: 110,  Глубина дерева: 10), обученной на сбалансированных данных методом upsampling. Удалось достичь значения F1-меры 0,628 на валидационной выборке. \n",
    "* Точность: 0.5063897763578274\n",
    "* Полнота: 0.7583732057416268\n",
    "\n",
    "#### На тестовой выборке лучшая модель показала метрики: \n",
    "* F1  модели : 0.608\n",
    "* Точность: 0.558\n",
    "* Полнота: 0.669\n",
    "* AUC-ROC: 0.855"
   ]
  }
 ],
 "metadata": {
  "ExecuteTimeLog": [
   {
    "duration": 1128,
    "start_time": "2023-02-17T10:15:19.942Z"
   },
   {
    "duration": 77,
    "start_time": "2023-02-17T10:15:21.844Z"
   },
   {
    "duration": 9,
    "start_time": "2023-02-17T10:17:10.027Z"
   },
   {
    "duration": 15,
    "start_time": "2023-02-17T10:17:22.007Z"
   },
   {
    "duration": 4,
    "start_time": "2023-02-17T10:17:47.867Z"
   },
   {
    "duration": 8,
    "start_time": "2023-02-17T10:22:06.183Z"
   },
   {
    "duration": 12,
    "start_time": "2023-02-17T10:22:39.596Z"
   },
   {
    "duration": 15,
    "start_time": "2023-02-17T10:25:04.123Z"
   },
   {
    "duration": 41,
    "start_time": "2023-02-17T10:25:40.100Z"
   },
   {
    "duration": 100,
    "start_time": "2023-02-17T10:27:24.637Z"
   },
   {
    "duration": 14,
    "start_time": "2023-02-17T10:27:40.353Z"
   },
   {
    "duration": 11,
    "start_time": "2023-02-17T10:27:54.691Z"
   },
   {
    "duration": 16,
    "start_time": "2023-02-17T10:36:33.693Z"
   },
   {
    "duration": 13,
    "start_time": "2023-02-17T10:36:42.520Z"
   },
   {
    "duration": 39,
    "start_time": "2023-02-17T12:13:22.148Z"
   },
   {
    "duration": 9,
    "start_time": "2023-02-17T12:17:24.824Z"
   },
   {
    "duration": 1200,
    "start_time": "2023-02-17T12:17:59.289Z"
   },
   {
    "duration": 37,
    "start_time": "2023-02-17T12:18:00.491Z"
   },
   {
    "duration": 22,
    "start_time": "2023-02-17T12:18:00.530Z"
   },
   {
    "duration": 16,
    "start_time": "2023-02-17T12:18:00.554Z"
   },
   {
    "duration": 43,
    "start_time": "2023-02-17T12:18:00.572Z"
   },
   {
    "duration": 49,
    "start_time": "2023-02-17T12:18:00.617Z"
   },
   {
    "duration": 38,
    "start_time": "2023-02-17T12:18:00.669Z"
   },
   {
    "duration": 58,
    "start_time": "2023-02-17T12:18:00.708Z"
   },
   {
    "duration": 92,
    "start_time": "2023-02-17T12:18:00.768Z"
   },
   {
    "duration": 20,
    "start_time": "2023-02-17T12:22:48.307Z"
   },
   {
    "duration": 5,
    "start_time": "2023-02-17T12:44:15.417Z"
   },
   {
    "duration": 11,
    "start_time": "2023-02-17T12:46:06.847Z"
   },
   {
    "duration": 7,
    "start_time": "2023-02-17T12:46:20.825Z"
   },
   {
    "duration": 6,
    "start_time": "2023-02-17T12:47:56.519Z"
   },
   {
    "duration": 13,
    "start_time": "2023-02-17T13:19:23.715Z"
   },
   {
    "duration": 15,
    "start_time": "2023-02-17T13:23:30.343Z"
   },
   {
    "duration": 22,
    "start_time": "2023-02-17T13:44:36.443Z"
   },
   {
    "duration": 25,
    "start_time": "2023-02-17T13:49:47.338Z"
   },
   {
    "duration": 16,
    "start_time": "2023-02-17T13:49:53.846Z"
   },
   {
    "duration": 63,
    "start_time": "2023-02-18T08:10:09.141Z"
   },
   {
    "duration": 1272,
    "start_time": "2023-02-18T08:10:21.088Z"
   },
   {
    "duration": 183,
    "start_time": "2023-02-18T08:10:22.363Z"
   },
   {
    "duration": 28,
    "start_time": "2023-02-18T08:10:22.549Z"
   },
   {
    "duration": 4,
    "start_time": "2023-02-18T08:10:22.580Z"
   },
   {
    "duration": 20,
    "start_time": "2023-02-18T08:10:22.588Z"
   },
   {
    "duration": 14,
    "start_time": "2023-02-18T08:10:22.610Z"
   },
   {
    "duration": 29,
    "start_time": "2023-02-18T08:10:22.626Z"
   },
   {
    "duration": 71,
    "start_time": "2023-02-18T08:10:22.657Z"
   },
   {
    "duration": 21,
    "start_time": "2023-02-18T08:10:22.730Z"
   },
   {
    "duration": 47,
    "start_time": "2023-02-18T08:10:22.754Z"
   },
   {
    "duration": 63,
    "start_time": "2023-02-18T08:10:22.804Z"
   },
   {
    "duration": 20,
    "start_time": "2023-02-18T08:10:22.871Z"
   },
   {
    "duration": 148,
    "start_time": "2023-02-18T08:10:22.893Z"
   },
   {
    "duration": 12,
    "start_time": "2023-02-18T08:10:30.691Z"
   },
   {
    "duration": 4,
    "start_time": "2023-02-18T08:10:59.910Z"
   },
   {
    "duration": 7,
    "start_time": "2023-02-18T08:11:07.043Z"
   },
   {
    "duration": 56,
    "start_time": "2023-02-18T08:11:13.175Z"
   },
   {
    "duration": 45,
    "start_time": "2023-02-18T08:12:06.031Z"
   },
   {
    "duration": 41,
    "start_time": "2023-02-18T08:12:37.849Z"
   },
   {
    "duration": 38,
    "start_time": "2023-02-18T08:13:03.594Z"
   },
   {
    "duration": 53,
    "start_time": "2023-02-18T08:13:32.741Z"
   },
   {
    "duration": 33,
    "start_time": "2023-02-18T08:14:13.436Z"
   },
   {
    "duration": 5,
    "start_time": "2023-02-18T08:49:11.069Z"
   },
   {
    "duration": 1175,
    "start_time": "2023-02-18T08:56:54.436Z"
   },
   {
    "duration": 42,
    "start_time": "2023-02-18T08:56:55.613Z"
   },
   {
    "duration": 22,
    "start_time": "2023-02-18T08:56:55.656Z"
   },
   {
    "duration": 17,
    "start_time": "2023-02-18T08:56:55.680Z"
   },
   {
    "duration": 20,
    "start_time": "2023-02-18T08:56:55.699Z"
   },
   {
    "duration": 37,
    "start_time": "2023-02-18T08:56:55.721Z"
   },
   {
    "duration": 35,
    "start_time": "2023-02-18T08:56:55.761Z"
   },
   {
    "duration": 66,
    "start_time": "2023-02-18T08:56:55.797Z"
   },
   {
    "duration": 15,
    "start_time": "2023-02-18T08:56:55.865Z"
   },
   {
    "duration": 24,
    "start_time": "2023-02-18T08:56:55.882Z"
   },
   {
    "duration": 40,
    "start_time": "2023-02-18T08:56:55.908Z"
   },
   {
    "duration": 14,
    "start_time": "2023-02-18T08:56:55.949Z"
   },
   {
    "duration": 43,
    "start_time": "2023-02-18T08:56:55.965Z"
   },
   {
    "duration": 5,
    "start_time": "2023-02-18T08:56:56.010Z"
   },
   {
    "duration": 110,
    "start_time": "2023-02-18T08:57:55.503Z"
   },
   {
    "duration": 4,
    "start_time": "2023-02-18T08:59:17.649Z"
   },
   {
    "duration": 470,
    "start_time": "2023-02-18T08:59:24.273Z"
   },
   {
    "duration": 1122,
    "start_time": "2023-02-19T04:24:27.969Z"
   },
   {
    "duration": 79,
    "start_time": "2023-02-19T04:24:29.093Z"
   },
   {
    "duration": 21,
    "start_time": "2023-02-19T04:24:29.174Z"
   },
   {
    "duration": 4,
    "start_time": "2023-02-19T04:24:29.197Z"
   },
   {
    "duration": 11,
    "start_time": "2023-02-19T04:24:29.203Z"
   },
   {
    "duration": 14,
    "start_time": "2023-02-19T04:24:29.216Z"
   },
   {
    "duration": 14,
    "start_time": "2023-02-19T04:24:29.232Z"
   },
   {
    "duration": 57,
    "start_time": "2023-02-19T04:24:29.248Z"
   },
   {
    "duration": 12,
    "start_time": "2023-02-19T04:24:29.307Z"
   },
   {
    "duration": 10,
    "start_time": "2023-02-19T04:24:29.321Z"
   },
   {
    "duration": 18,
    "start_time": "2023-02-19T04:24:29.333Z"
   },
   {
    "duration": 12,
    "start_time": "2023-02-19T04:24:29.353Z"
   },
   {
    "duration": 55,
    "start_time": "2023-02-19T04:24:29.367Z"
   },
   {
    "duration": 439,
    "start_time": "2023-02-19T04:24:29.424Z"
   },
   {
    "duration": 113,
    "start_time": "2023-02-19T04:24:29.864Z"
   },
   {
    "duration": 9,
    "start_time": "2023-02-19T04:24:35.248Z"
   },
   {
    "duration": 1490,
    "start_time": "2023-02-19T04:25:26.940Z"
   },
   {
    "duration": 18154,
    "start_time": "2023-02-19T04:31:09.129Z"
   },
   {
    "duration": 29,
    "start_time": "2023-02-19T04:38:56.577Z"
   },
   {
    "duration": 23,
    "start_time": "2023-02-19T04:39:12.177Z"
   },
   {
    "duration": 28,
    "start_time": "2023-02-19T04:39:26.450Z"
   },
   {
    "duration": 664,
    "start_time": "2023-02-19T04:39:41.757Z"
   },
   {
    "duration": 19187,
    "start_time": "2023-02-19T04:40:46.374Z"
   },
   {
    "duration": 21167,
    "start_time": "2023-02-19T04:42:14.227Z"
   },
   {
    "duration": 28,
    "start_time": "2023-02-19T04:46:27.221Z"
   },
   {
    "duration": 36,
    "start_time": "2023-02-19T04:50:58.540Z"
   },
   {
    "duration": 28,
    "start_time": "2023-02-19T04:51:23.648Z"
   },
   {
    "duration": 1096,
    "start_time": "2023-02-19T04:52:20.262Z"
   },
   {
    "duration": 38,
    "start_time": "2023-02-19T04:52:21.360Z"
   },
   {
    "duration": 26,
    "start_time": "2023-02-19T04:52:21.400Z"
   },
   {
    "duration": 12,
    "start_time": "2023-02-19T04:52:21.428Z"
   },
   {
    "duration": 10,
    "start_time": "2023-02-19T04:52:21.442Z"
   },
   {
    "duration": 19,
    "start_time": "2023-02-19T04:52:21.454Z"
   },
   {
    "duration": 28,
    "start_time": "2023-02-19T04:52:21.475Z"
   },
   {
    "duration": 44,
    "start_time": "2023-02-19T04:52:21.512Z"
   },
   {
    "duration": 18,
    "start_time": "2023-02-19T04:52:21.558Z"
   },
   {
    "duration": 28,
    "start_time": "2023-02-19T04:52:21.578Z"
   },
   {
    "duration": 29,
    "start_time": "2023-02-19T04:52:21.614Z"
   },
   {
    "duration": 17,
    "start_time": "2023-02-19T04:52:21.645Z"
   },
   {
    "duration": 36,
    "start_time": "2023-02-19T04:52:21.665Z"
   },
   {
    "duration": 467,
    "start_time": "2023-02-19T04:52:21.704Z"
   },
   {
    "duration": 1644,
    "start_time": "2023-02-19T04:52:22.173Z"
   },
   {
    "duration": 27,
    "start_time": "2023-02-19T04:52:23.821Z"
   },
   {
    "duration": 1589,
    "start_time": "2023-02-19T04:52:37.361Z"
   },
   {
    "duration": 57,
    "start_time": "2023-02-19T04:57:26.281Z"
   },
   {
    "duration": 23,
    "start_time": "2023-02-19T04:57:53.244Z"
   },
   {
    "duration": 27,
    "start_time": "2023-02-19T04:58:41.873Z"
   },
   {
    "duration": 1133,
    "start_time": "2023-02-19T04:59:50.736Z"
   },
   {
    "duration": 46,
    "start_time": "2023-02-19T04:59:51.871Z"
   },
   {
    "duration": 24,
    "start_time": "2023-02-19T04:59:51.919Z"
   },
   {
    "duration": 4,
    "start_time": "2023-02-19T04:59:51.944Z"
   },
   {
    "duration": 11,
    "start_time": "2023-02-19T04:59:51.951Z"
   },
   {
    "duration": 23,
    "start_time": "2023-02-19T04:59:51.964Z"
   },
   {
    "duration": 29,
    "start_time": "2023-02-19T04:59:51.989Z"
   },
   {
    "duration": 51,
    "start_time": "2023-02-19T04:59:52.020Z"
   },
   {
    "duration": 12,
    "start_time": "2023-02-19T04:59:52.072Z"
   },
   {
    "duration": 12,
    "start_time": "2023-02-19T04:59:52.086Z"
   },
   {
    "duration": 62,
    "start_time": "2023-02-19T04:59:52.099Z"
   },
   {
    "duration": 14,
    "start_time": "2023-02-19T04:59:52.163Z"
   },
   {
    "duration": 47,
    "start_time": "2023-02-19T04:59:52.179Z"
   },
   {
    "duration": 516,
    "start_time": "2023-02-19T04:59:52.234Z"
   },
   {
    "duration": 27,
    "start_time": "2023-02-19T04:59:52.752Z"
   },
   {
    "duration": 1667,
    "start_time": "2023-02-19T05:00:12.580Z"
   },
   {
    "duration": 59,
    "start_time": "2023-02-19T05:01:13.319Z"
   },
   {
    "duration": 1603,
    "start_time": "2023-02-19T05:01:40.710Z"
   },
   {
    "duration": 92127,
    "start_time": "2023-02-19T05:02:14.571Z"
   },
   {
    "duration": 672,
    "start_time": "2023-02-19T05:11:14.059Z"
   },
   {
    "duration": 10,
    "start_time": "2023-02-19T06:17:53.752Z"
   },
   {
    "duration": 1227,
    "start_time": "2023-02-19T06:34:42.728Z"
   },
   {
    "duration": 38,
    "start_time": "2023-02-19T06:34:43.957Z"
   },
   {
    "duration": 41,
    "start_time": "2023-02-19T06:34:43.997Z"
   },
   {
    "duration": 4,
    "start_time": "2023-02-19T06:34:44.041Z"
   },
   {
    "duration": 8,
    "start_time": "2023-02-19T06:34:44.048Z"
   },
   {
    "duration": 15,
    "start_time": "2023-02-19T06:34:44.058Z"
   },
   {
    "duration": 12,
    "start_time": "2023-02-19T06:34:44.074Z"
   },
   {
    "duration": 58,
    "start_time": "2023-02-19T06:34:44.115Z"
   },
   {
    "duration": 15,
    "start_time": "2023-02-19T06:34:44.175Z"
   },
   {
    "duration": 36,
    "start_time": "2023-02-19T06:34:44.193Z"
   },
   {
    "duration": 87,
    "start_time": "2023-02-19T06:34:44.234Z"
   },
   {
    "duration": 24,
    "start_time": "2023-02-19T06:34:44.323Z"
   },
   {
    "duration": 35,
    "start_time": "2023-02-19T06:34:44.349Z"
   },
   {
    "duration": 12,
    "start_time": "2023-02-19T06:34:44.388Z"
   },
   {
    "duration": 523,
    "start_time": "2023-02-19T06:34:44.403Z"
   },
   {
    "duration": 912,
    "start_time": "2023-02-19T06:36:20.866Z"
   },
   {
    "duration": 96071,
    "start_time": "2023-02-19T06:39:33.164Z"
   },
   {
    "duration": 15,
    "start_time": "2023-02-19T07:14:32.647Z"
   },
   {
    "duration": 16,
    "start_time": "2023-02-19T07:15:50.032Z"
   },
   {
    "duration": 34,
    "start_time": "2023-02-19T07:19:14.022Z"
   },
   {
    "duration": 16,
    "start_time": "2023-02-19T07:20:59.175Z"
   },
   {
    "duration": 119,
    "start_time": "2023-02-19T07:23:20.846Z"
   },
   {
    "duration": 14,
    "start_time": "2023-02-19T07:24:18.966Z"
   },
   {
    "duration": 27,
    "start_time": "2023-02-19T07:25:15.897Z"
   },
   {
    "duration": 14,
    "start_time": "2023-02-19T07:28:30.229Z"
   },
   {
    "duration": 13,
    "start_time": "2023-02-19T07:28:38.340Z"
   },
   {
    "duration": 15,
    "start_time": "2023-02-19T07:28:47.050Z"
   },
   {
    "duration": 16,
    "start_time": "2023-02-19T07:29:03.239Z"
   },
   {
    "duration": 15,
    "start_time": "2023-02-19T07:29:51.256Z"
   },
   {
    "duration": 25,
    "start_time": "2023-02-19T07:29:59.094Z"
   },
   {
    "duration": 1324,
    "start_time": "2023-02-19T07:53:20.030Z"
   },
   {
    "duration": 1148,
    "start_time": "2023-02-19T07:55:33.034Z"
   },
   {
    "duration": 39,
    "start_time": "2023-02-19T07:57:45.232Z"
   },
   {
    "duration": 1413,
    "start_time": "2023-02-19T07:59:27.646Z"
   },
   {
    "duration": 42,
    "start_time": "2023-02-19T08:00:46.928Z"
   },
   {
    "duration": 696,
    "start_time": "2023-02-19T08:02:45.528Z"
   },
   {
    "duration": 995,
    "start_time": "2023-02-19T08:13:59.598Z"
   },
   {
    "duration": 72,
    "start_time": "2023-02-19T08:24:11.194Z"
   },
   {
    "duration": 5,
    "start_time": "2023-02-19T08:24:40.845Z"
   },
   {
    "duration": 68,
    "start_time": "2023-02-19T08:24:49.681Z"
   },
   {
    "duration": 549,
    "start_time": "2023-02-19T08:25:23.351Z"
   },
   {
    "duration": 229,
    "start_time": "2023-02-19T08:25:31.768Z"
   },
   {
    "duration": 249,
    "start_time": "2023-02-19T08:29:04.118Z"
   },
   {
    "duration": 214,
    "start_time": "2023-02-19T08:31:40.046Z"
   },
   {
    "duration": 220,
    "start_time": "2023-02-19T08:32:10.232Z"
   },
   {
    "duration": 213,
    "start_time": "2023-02-19T08:33:28.565Z"
   },
   {
    "duration": 1565,
    "start_time": "2023-02-20T06:01:40.084Z"
   },
   {
    "duration": 160,
    "start_time": "2023-02-20T06:01:41.652Z"
   },
   {
    "duration": 18,
    "start_time": "2023-02-20T06:01:41.814Z"
   },
   {
    "duration": 4,
    "start_time": "2023-02-20T06:01:41.834Z"
   },
   {
    "duration": 28,
    "start_time": "2023-02-20T06:01:41.840Z"
   },
   {
    "duration": 15,
    "start_time": "2023-02-20T06:01:41.870Z"
   },
   {
    "duration": 15,
    "start_time": "2023-02-20T06:01:41.887Z"
   },
   {
    "duration": 55,
    "start_time": "2023-02-20T06:01:41.903Z"
   },
   {
    "duration": 14,
    "start_time": "2023-02-20T06:01:41.960Z"
   },
   {
    "duration": 11,
    "start_time": "2023-02-20T06:01:41.975Z"
   },
   {
    "duration": 23,
    "start_time": "2023-02-20T06:01:41.988Z"
   },
   {
    "duration": 32,
    "start_time": "2023-02-20T06:01:42.013Z"
   },
   {
    "duration": 28,
    "start_time": "2023-02-20T06:01:42.047Z"
   },
   {
    "duration": 9,
    "start_time": "2023-02-20T06:01:42.078Z"
   },
   {
    "duration": 527,
    "start_time": "2023-02-20T06:01:42.088Z"
   },
   {
    "duration": 97705,
    "start_time": "2023-02-20T06:01:42.618Z"
   },
   {
    "duration": 432,
    "start_time": "2023-02-20T06:03:20.325Z"
   },
   {
    "duration": 15,
    "start_time": "2023-02-20T06:03:20.759Z"
   },
   {
    "duration": 14,
    "start_time": "2023-02-20T06:03:20.776Z"
   },
   {
    "duration": 1303,
    "start_time": "2023-02-20T06:03:20.793Z"
   },
   {
    "duration": 50,
    "start_time": "2023-02-20T06:03:22.099Z"
   },
   {
    "duration": 395,
    "start_time": "2023-02-20T06:03:22.152Z"
   },
   {
    "duration": 1020,
    "start_time": "2023-02-20T06:03:22.639Z"
   },
   {
    "duration": 194,
    "start_time": "2023-02-20T06:03:23.661Z"
   },
   {
    "duration": 7,
    "start_time": "2023-02-20T06:25:51.579Z"
   },
   {
    "duration": 93,
    "start_time": "2023-02-20T07:07:25.547Z"
   },
   {
    "duration": 626,
    "start_time": "2023-02-20T07:07:42.264Z"
   },
   {
    "duration": 5,
    "start_time": "2023-02-20T07:08:57.635Z"
   },
   {
    "duration": 466,
    "start_time": "2023-02-20T07:09:04.788Z"
   },
   {
    "duration": 4,
    "start_time": "2023-02-20T07:10:28.155Z"
   },
   {
    "duration": 463,
    "start_time": "2023-02-20T07:10:38.153Z"
   },
   {
    "duration": 4,
    "start_time": "2023-02-20T07:11:48.503Z"
   },
   {
    "duration": 147,
    "start_time": "2023-02-20T07:12:18.688Z"
   },
   {
    "duration": 462,
    "start_time": "2023-02-20T07:12:26.776Z"
   },
   {
    "duration": 98377,
    "start_time": "2023-02-20T07:26:41.903Z"
   },
   {
    "duration": 434,
    "start_time": "2023-02-20T07:33:31.013Z"
   },
   {
    "duration": 591,
    "start_time": "2023-02-20T07:46:27.965Z"
   },
   {
    "duration": 142696,
    "start_time": "2023-02-20T09:12:29.251Z"
   },
   {
    "duration": 60799,
    "start_time": "2023-02-20T09:19:58.236Z"
   },
   {
    "duration": 1229,
    "start_time": "2023-02-20T09:43:08.090Z"
   },
   {
    "duration": 131616,
    "start_time": "2023-02-20T10:08:17.618Z"
   },
   {
    "duration": 127564,
    "start_time": "2023-02-20T10:12:46.124Z"
   },
   {
    "duration": 55032,
    "start_time": "2023-02-20T10:15:20.894Z"
   },
   {
    "duration": 264,
    "start_time": "2023-02-20T10:25:58.293Z"
   },
   {
    "duration": 185,
    "start_time": "2023-02-20T10:54:42.028Z"
   },
   {
    "duration": 182,
    "start_time": "2023-02-20T10:55:51.246Z"
   },
   {
    "duration": 70,
    "start_time": "2023-02-20T10:58:50.599Z"
   },
   {
    "duration": 4,
    "start_time": "2023-02-20T10:59:40.633Z"
   },
   {
    "duration": 5,
    "start_time": "2023-02-20T11:00:07.660Z"
   },
   {
    "duration": 179,
    "start_time": "2023-02-20T11:00:14.947Z"
   },
   {
    "duration": 181,
    "start_time": "2023-02-20T11:01:41.858Z"
   },
   {
    "duration": 85,
    "start_time": "2023-02-20T14:23:58.668Z"
   },
   {
    "duration": 1534,
    "start_time": "2023-02-20T14:26:03.966Z"
   },
   {
    "duration": 81,
    "start_time": "2023-02-20T14:26:05.502Z"
   },
   {
    "duration": 19,
    "start_time": "2023-02-20T14:26:05.584Z"
   },
   {
    "duration": 7,
    "start_time": "2023-02-20T14:26:05.605Z"
   },
   {
    "duration": 12,
    "start_time": "2023-02-20T14:26:05.614Z"
   },
   {
    "duration": 19,
    "start_time": "2023-02-20T14:26:05.628Z"
   },
   {
    "duration": 24,
    "start_time": "2023-02-20T14:26:05.650Z"
   },
   {
    "duration": 42,
    "start_time": "2023-02-20T14:26:05.676Z"
   },
   {
    "duration": 20,
    "start_time": "2023-02-20T14:26:05.720Z"
   },
   {
    "duration": 11,
    "start_time": "2023-02-20T14:26:05.742Z"
   },
   {
    "duration": 19,
    "start_time": "2023-02-20T14:26:05.755Z"
   },
   {
    "duration": 12,
    "start_time": "2023-02-20T14:26:05.775Z"
   },
   {
    "duration": 27,
    "start_time": "2023-02-20T14:26:05.789Z"
   },
   {
    "duration": 33,
    "start_time": "2023-02-20T14:26:05.818Z"
   },
   {
    "duration": 455,
    "start_time": "2023-02-20T14:26:05.857Z"
   },
   {
    "duration": 88321,
    "start_time": "2023-02-20T14:26:06.313Z"
   },
   {
    "duration": 207,
    "start_time": "2023-02-20T14:27:34.637Z"
   },
   {
    "duration": 96,
    "start_time": "2023-02-20T14:27:34.848Z"
   },
   {
    "duration": 14,
    "start_time": "2023-02-20T14:27:34.949Z"
   },
   {
    "duration": 117791,
    "start_time": "2023-02-20T14:27:34.965Z"
   },
   {
    "duration": 50710,
    "start_time": "2023-02-20T14:29:32.758Z"
   },
   {
    "duration": 255,
    "start_time": "2023-02-20T14:30:23.470Z"
   },
   {
    "duration": 182,
    "start_time": "2023-02-20T14:30:23.727Z"
   },
   {
    "duration": 1245,
    "start_time": "2023-02-20T16:10:18.090Z"
   },
   {
    "duration": 36,
    "start_time": "2023-02-20T16:10:19.337Z"
   },
   {
    "duration": 16,
    "start_time": "2023-02-20T16:10:19.374Z"
   },
   {
    "duration": 5,
    "start_time": "2023-02-20T16:10:19.392Z"
   },
   {
    "duration": 8,
    "start_time": "2023-02-20T16:10:19.398Z"
   },
   {
    "duration": 17,
    "start_time": "2023-02-20T16:10:19.408Z"
   },
   {
    "duration": 13,
    "start_time": "2023-02-20T16:10:19.426Z"
   },
   {
    "duration": 47,
    "start_time": "2023-02-20T16:10:19.441Z"
   },
   {
    "duration": 12,
    "start_time": "2023-02-20T16:10:19.489Z"
   },
   {
    "duration": 9,
    "start_time": "2023-02-20T16:10:19.503Z"
   },
   {
    "duration": 42,
    "start_time": "2023-02-20T16:10:19.513Z"
   },
   {
    "duration": 16,
    "start_time": "2023-02-20T16:10:19.557Z"
   },
   {
    "duration": 32,
    "start_time": "2023-02-20T16:10:19.575Z"
   },
   {
    "duration": 28,
    "start_time": "2023-02-20T16:10:19.609Z"
   },
   {
    "duration": 415,
    "start_time": "2023-02-20T16:10:19.639Z"
   },
   {
    "duration": 81023,
    "start_time": "2023-02-20T16:10:20.055Z"
   },
   {
    "duration": 469,
    "start_time": "2023-02-20T16:11:41.079Z"
   },
   {
    "duration": 108,
    "start_time": "2023-02-20T16:11:41.638Z"
   },
   {
    "duration": 14,
    "start_time": "2023-02-20T16:11:41.747Z"
   },
   {
    "duration": 112748,
    "start_time": "2023-02-20T16:11:41.763Z"
   },
   {
    "duration": 50350,
    "start_time": "2023-02-20T16:13:34.512Z"
   },
   {
    "duration": 255,
    "start_time": "2023-02-20T16:14:24.863Z"
   },
   {
    "duration": 201,
    "start_time": "2023-02-20T16:14:25.120Z"
   },
   {
    "duration": 1467,
    "start_time": "2023-02-22T04:13:11.136Z"
   },
   {
    "duration": 1301,
    "start_time": "2023-02-22T04:13:17.948Z"
   },
   {
    "duration": 73,
    "start_time": "2023-02-22T04:13:19.251Z"
   },
   {
    "duration": 17,
    "start_time": "2023-02-22T04:13:19.326Z"
   },
   {
    "duration": 3,
    "start_time": "2023-02-22T04:13:19.346Z"
   },
   {
    "duration": 10,
    "start_time": "2023-02-22T04:13:19.350Z"
   },
   {
    "duration": 13,
    "start_time": "2023-02-22T04:13:19.362Z"
   },
   {
    "duration": 27,
    "start_time": "2023-02-22T04:13:19.376Z"
   },
   {
    "duration": 38,
    "start_time": "2023-02-22T04:13:19.405Z"
   },
   {
    "duration": 14,
    "start_time": "2023-02-22T04:13:19.445Z"
   },
   {
    "duration": 6,
    "start_time": "2023-02-22T04:13:19.462Z"
   },
   {
    "duration": 42,
    "start_time": "2023-02-22T04:13:19.470Z"
   },
   {
    "duration": 13,
    "start_time": "2023-02-22T04:13:19.514Z"
   },
   {
    "duration": 26,
    "start_time": "2023-02-22T04:13:19.528Z"
   },
   {
    "duration": 9,
    "start_time": "2023-02-22T04:13:19.556Z"
   },
   {
    "duration": 458,
    "start_time": "2023-02-22T04:13:19.567Z"
   },
   {
    "duration": 84864,
    "start_time": "2023-02-22T04:13:20.027Z"
   },
   {
    "duration": 312,
    "start_time": "2023-02-22T04:14:44.892Z"
   },
   {
    "duration": 103,
    "start_time": "2023-02-22T04:14:45.206Z"
   },
   {
    "duration": 14,
    "start_time": "2023-02-22T04:14:45.311Z"
   },
   {
    "duration": 116518,
    "start_time": "2023-02-22T04:14:45.327Z"
   },
   {
    "duration": 50764,
    "start_time": "2023-02-22T04:16:41.846Z"
   },
   {
    "duration": 259,
    "start_time": "2023-02-22T04:17:32.611Z"
   },
   {
    "duration": 206,
    "start_time": "2023-02-22T04:17:32.872Z"
   },
   {
    "duration": 120,
    "start_time": "2023-02-22T05:18:34.979Z"
   },
   {
    "duration": 10,
    "start_time": "2023-02-22T05:20:20.070Z"
   },
   {
    "duration": 9,
    "start_time": "2023-02-22T05:20:25.041Z"
   },
   {
    "duration": 3,
    "start_time": "2023-02-22T05:20:48.525Z"
   },
   {
    "duration": 10,
    "start_time": "2023-02-22T05:20:55.127Z"
   },
   {
    "duration": 17,
    "start_time": "2023-02-22T05:22:47.028Z"
   },
   {
    "duration": 4,
    "start_time": "2023-02-22T05:22:57.665Z"
   },
   {
    "duration": 25,
    "start_time": "2023-02-22T05:23:51.703Z"
   },
   {
    "duration": 1315,
    "start_time": "2023-02-22T05:24:05.053Z"
   },
   {
    "duration": 38,
    "start_time": "2023-02-22T05:24:06.370Z"
   },
   {
    "duration": 21,
    "start_time": "2023-02-22T05:24:06.412Z"
   },
   {
    "duration": 6,
    "start_time": "2023-02-22T05:24:06.435Z"
   },
   {
    "duration": 10,
    "start_time": "2023-02-22T05:24:06.442Z"
   },
   {
    "duration": 13,
    "start_time": "2023-02-22T05:24:06.453Z"
   },
   {
    "duration": 11,
    "start_time": "2023-02-22T05:24:06.467Z"
   },
   {
    "duration": 61,
    "start_time": "2023-02-22T05:24:06.479Z"
   },
   {
    "duration": 12,
    "start_time": "2023-02-22T05:24:06.542Z"
   },
   {
    "duration": 9,
    "start_time": "2023-02-22T05:24:06.557Z"
   },
   {
    "duration": 4,
    "start_time": "2023-02-22T05:24:06.567Z"
   },
   {
    "duration": 34,
    "start_time": "2023-02-22T05:24:06.572Z"
   },
   {
    "duration": 20,
    "start_time": "2023-02-22T05:24:06.609Z"
   },
   {
    "duration": 27,
    "start_time": "2023-02-22T05:24:06.632Z"
   },
   {
    "duration": 7,
    "start_time": "2023-02-22T05:24:06.661Z"
   },
   {
    "duration": 162,
    "start_time": "2023-02-22T05:24:06.670Z"
   },
   {
    "duration": 0,
    "start_time": "2023-02-22T05:24:06.834Z"
   },
   {
    "duration": 0,
    "start_time": "2023-02-22T05:24:06.835Z"
   },
   {
    "duration": 0,
    "start_time": "2023-02-22T05:24:06.837Z"
   },
   {
    "duration": 0,
    "start_time": "2023-02-22T05:24:06.839Z"
   },
   {
    "duration": 0,
    "start_time": "2023-02-22T05:24:06.840Z"
   },
   {
    "duration": 0,
    "start_time": "2023-02-22T05:24:06.842Z"
   },
   {
    "duration": 0,
    "start_time": "2023-02-22T05:24:06.843Z"
   },
   {
    "duration": 0,
    "start_time": "2023-02-22T05:24:06.845Z"
   },
   {
    "duration": 4,
    "start_time": "2023-02-22T05:25:50.656Z"
   },
   {
    "duration": 14,
    "start_time": "2023-02-22T05:33:45.657Z"
   },
   {
    "duration": 4,
    "start_time": "2023-02-22T05:35:19.528Z"
   },
   {
    "duration": 22,
    "start_time": "2023-02-22T05:35:50.525Z"
   },
   {
    "duration": 9873,
    "start_time": "2023-02-22T05:36:31.721Z"
   },
   {
    "duration": 3279,
    "start_time": "2023-02-22T05:36:44.583Z"
   },
   {
    "duration": 37,
    "start_time": "2023-02-22T05:36:47.864Z"
   },
   {
    "duration": 29,
    "start_time": "2023-02-22T05:36:47.903Z"
   },
   {
    "duration": 5,
    "start_time": "2023-02-22T05:36:47.933Z"
   },
   {
    "duration": 8,
    "start_time": "2023-02-22T05:36:47.940Z"
   },
   {
    "duration": 12,
    "start_time": "2023-02-22T05:36:47.950Z"
   },
   {
    "duration": 13,
    "start_time": "2023-02-22T05:36:47.964Z"
   },
   {
    "duration": 73,
    "start_time": "2023-02-22T05:36:47.979Z"
   },
   {
    "duration": 13,
    "start_time": "2023-02-22T05:36:48.054Z"
   },
   {
    "duration": 8,
    "start_time": "2023-02-22T05:36:48.068Z"
   },
   {
    "duration": 3,
    "start_time": "2023-02-22T05:36:48.078Z"
   },
   {
    "duration": 34,
    "start_time": "2023-02-22T05:36:48.083Z"
   },
   {
    "duration": 153,
    "start_time": "2023-02-22T05:36:48.119Z"
   },
   {
    "duration": 0,
    "start_time": "2023-02-22T05:36:48.274Z"
   },
   {
    "duration": 0,
    "start_time": "2023-02-22T05:36:48.275Z"
   },
   {
    "duration": 0,
    "start_time": "2023-02-22T05:36:48.276Z"
   },
   {
    "duration": 0,
    "start_time": "2023-02-22T05:36:48.277Z"
   },
   {
    "duration": 0,
    "start_time": "2023-02-22T05:36:48.278Z"
   },
   {
    "duration": 0,
    "start_time": "2023-02-22T05:36:48.278Z"
   },
   {
    "duration": 0,
    "start_time": "2023-02-22T05:36:48.279Z"
   },
   {
    "duration": 0,
    "start_time": "2023-02-22T05:36:48.280Z"
   },
   {
    "duration": 0,
    "start_time": "2023-02-22T05:36:48.281Z"
   },
   {
    "duration": 0,
    "start_time": "2023-02-22T05:36:48.282Z"
   },
   {
    "duration": 0,
    "start_time": "2023-02-22T05:36:48.282Z"
   },
   {
    "duration": 12,
    "start_time": "2023-02-22T05:43:28.622Z"
   },
   {
    "duration": 26,
    "start_time": "2023-02-22T05:45:36.744Z"
   },
   {
    "duration": 24,
    "start_time": "2023-02-22T05:48:50.663Z"
   },
   {
    "duration": 30,
    "start_time": "2023-02-22T05:49:06.099Z"
   },
   {
    "duration": 32,
    "start_time": "2023-02-22T05:49:28.785Z"
   },
   {
    "duration": 42,
    "start_time": "2023-02-22T05:50:06.711Z"
   },
   {
    "duration": 16,
    "start_time": "2023-02-22T05:53:22.267Z"
   },
   {
    "duration": 78,
    "start_time": "2023-02-22T05:53:35.403Z"
   },
   {
    "duration": 59,
    "start_time": "2023-02-22T05:55:35.958Z"
   },
   {
    "duration": 63,
    "start_time": "2023-02-22T05:57:28.395Z"
   },
   {
    "duration": 58,
    "start_time": "2023-02-22T05:59:32.599Z"
   },
   {
    "duration": 59,
    "start_time": "2023-02-22T06:00:08.780Z"
   },
   {
    "duration": 69,
    "start_time": "2023-02-22T06:00:19.131Z"
   },
   {
    "duration": 3279,
    "start_time": "2023-02-22T06:00:57.669Z"
   },
   {
    "duration": 34,
    "start_time": "2023-02-22T06:01:00.950Z"
   },
   {
    "duration": 42,
    "start_time": "2023-02-22T06:01:00.986Z"
   },
   {
    "duration": 44,
    "start_time": "2023-02-22T06:01:01.030Z"
   },
   {
    "duration": 56,
    "start_time": "2023-02-22T06:01:01.077Z"
   },
   {
    "duration": 45,
    "start_time": "2023-02-22T06:01:01.135Z"
   },
   {
    "duration": 33,
    "start_time": "2023-02-22T06:01:01.181Z"
   },
   {
    "duration": 98,
    "start_time": "2023-02-22T06:01:01.215Z"
   },
   {
    "duration": 33,
    "start_time": "2023-02-22T06:01:01.315Z"
   },
   {
    "duration": 21,
    "start_time": "2023-02-22T06:01:01.350Z"
   },
   {
    "duration": 25,
    "start_time": "2023-02-22T06:01:01.373Z"
   },
   {
    "duration": 71,
    "start_time": "2023-02-22T06:01:01.400Z"
   },
   {
    "duration": 122,
    "start_time": "2023-02-22T06:01:01.472Z"
   },
   {
    "duration": 36,
    "start_time": "2023-02-22T06:01:01.596Z"
   },
   {
    "duration": 40,
    "start_time": "2023-02-22T06:01:01.633Z"
   },
   {
    "duration": 168,
    "start_time": "2023-02-22T06:01:01.675Z"
   },
   {
    "duration": 0,
    "start_time": "2023-02-22T06:01:01.845Z"
   },
   {
    "duration": 0,
    "start_time": "2023-02-22T06:01:01.846Z"
   },
   {
    "duration": 0,
    "start_time": "2023-02-22T06:01:01.848Z"
   },
   {
    "duration": 0,
    "start_time": "2023-02-22T06:01:01.849Z"
   },
   {
    "duration": 0,
    "start_time": "2023-02-22T06:01:01.851Z"
   },
   {
    "duration": 0,
    "start_time": "2023-02-22T06:01:01.852Z"
   },
   {
    "duration": 0,
    "start_time": "2023-02-22T06:01:01.853Z"
   },
   {
    "duration": 0,
    "start_time": "2023-02-22T06:01:01.854Z"
   },
   {
    "duration": 27,
    "start_time": "2023-02-22T06:03:02.552Z"
   },
   {
    "duration": 30,
    "start_time": "2023-02-22T06:04:41.985Z"
   },
   {
    "duration": 3437,
    "start_time": "2023-02-22T06:05:01.525Z"
   },
   {
    "duration": 37,
    "start_time": "2023-02-22T06:05:04.965Z"
   },
   {
    "duration": 21,
    "start_time": "2023-02-22T06:05:05.006Z"
   },
   {
    "duration": 24,
    "start_time": "2023-02-22T06:05:05.029Z"
   },
   {
    "duration": 16,
    "start_time": "2023-02-22T06:05:05.056Z"
   },
   {
    "duration": 43,
    "start_time": "2023-02-22T06:05:05.074Z"
   },
   {
    "duration": 43,
    "start_time": "2023-02-22T06:05:05.123Z"
   },
   {
    "duration": 47,
    "start_time": "2023-02-22T06:05:05.168Z"
   },
   {
    "duration": 23,
    "start_time": "2023-02-22T06:05:05.217Z"
   },
   {
    "duration": 17,
    "start_time": "2023-02-22T06:05:05.242Z"
   },
   {
    "duration": 6,
    "start_time": "2023-02-22T06:05:05.261Z"
   },
   {
    "duration": 20,
    "start_time": "2023-02-22T06:05:05.269Z"
   },
   {
    "duration": 105,
    "start_time": "2023-02-22T06:05:05.291Z"
   },
   {
    "duration": 40,
    "start_time": "2023-02-22T06:05:05.398Z"
   },
   {
    "duration": 10,
    "start_time": "2023-02-22T06:05:05.440Z"
   },
   {
    "duration": 491,
    "start_time": "2023-02-22T06:05:05.452Z"
   },
   {
    "duration": 94588,
    "start_time": "2023-02-22T06:05:05.944Z"
   },
   {
    "duration": 287,
    "start_time": "2023-02-22T06:06:40.533Z"
   },
   {
    "duration": 104,
    "start_time": "2023-02-22T06:06:40.826Z"
   },
   {
    "duration": 14,
    "start_time": "2023-02-22T06:06:40.933Z"
   },
   {
    "duration": 3452,
    "start_time": "2023-02-22T06:08:31.045Z"
   },
   {
    "duration": 54,
    "start_time": "2023-02-22T06:08:34.498Z"
   },
   {
    "duration": 26,
    "start_time": "2023-02-22T06:08:34.554Z"
   },
   {
    "duration": 5,
    "start_time": "2023-02-22T06:08:34.582Z"
   },
   {
    "duration": 19,
    "start_time": "2023-02-22T06:08:34.589Z"
   },
   {
    "duration": 38,
    "start_time": "2023-02-22T06:08:34.611Z"
   },
   {
    "duration": 29,
    "start_time": "2023-02-22T06:08:34.650Z"
   },
   {
    "duration": 46,
    "start_time": "2023-02-22T06:08:34.682Z"
   },
   {
    "duration": 15,
    "start_time": "2023-02-22T06:08:34.730Z"
   },
   {
    "duration": 9,
    "start_time": "2023-02-22T06:08:34.746Z"
   },
   {
    "duration": 4,
    "start_time": "2023-02-22T06:08:34.756Z"
   },
   {
    "duration": 16,
    "start_time": "2023-02-22T06:08:34.761Z"
   },
   {
    "duration": 96,
    "start_time": "2023-02-22T06:08:34.779Z"
   },
   {
    "duration": 56,
    "start_time": "2023-02-22T06:08:34.877Z"
   },
   {
    "duration": 9,
    "start_time": "2023-02-22T06:08:34.936Z"
   },
   {
    "duration": 495,
    "start_time": "2023-02-22T06:08:34.946Z"
   },
   {
    "duration": 95314,
    "start_time": "2023-02-22T06:08:35.443Z"
   },
   {
    "duration": 1268,
    "start_time": "2023-02-22T06:10:10.759Z"
   },
   {
    "duration": 101,
    "start_time": "2023-02-22T06:10:12.035Z"
   },
   {
    "duration": 20,
    "start_time": "2023-02-22T06:10:12.142Z"
   },
   {
    "duration": 128979,
    "start_time": "2023-02-22T06:10:12.164Z"
   },
   {
    "duration": 54824,
    "start_time": "2023-02-22T06:12:21.145Z"
   },
   {
    "duration": 269,
    "start_time": "2023-02-22T06:13:15.972Z"
   },
   {
    "duration": 208,
    "start_time": "2023-02-22T06:13:16.243Z"
   },
   {
    "duration": 38,
    "start_time": "2023-02-22T06:30:01.861Z"
   },
   {
    "duration": 21,
    "start_time": "2023-02-22T06:32:07.400Z"
   },
   {
    "duration": 45,
    "start_time": "2023-02-22T06:32:12.832Z"
   },
   {
    "duration": 60,
    "start_time": "2023-02-22T06:32:18.756Z"
   },
   {
    "duration": 545,
    "start_time": "2023-02-22T07:10:58.130Z"
   },
   {
    "duration": 427,
    "start_time": "2023-02-22T07:11:53.603Z"
   },
   {
    "duration": 91216,
    "start_time": "2023-02-22T07:13:27.976Z"
   },
   {
    "duration": 246,
    "start_time": "2023-02-22T07:17:15.063Z"
   },
   {
    "duration": 259,
    "start_time": "2023-02-22T07:17:31.846Z"
   },
   {
    "duration": 119419,
    "start_time": "2023-02-22T07:19:49.966Z"
   },
   {
    "duration": 53637,
    "start_time": "2023-02-22T07:21:59.446Z"
   },
   {
    "duration": 211,
    "start_time": "2023-02-22T07:33:39.482Z"
   },
   {
    "duration": 193,
    "start_time": "2023-02-22T07:34:03.465Z"
   },
   {
    "duration": 3215,
    "start_time": "2023-02-22T07:34:51.855Z"
   },
   {
    "duration": 36,
    "start_time": "2023-02-22T07:34:55.072Z"
   },
   {
    "duration": 16,
    "start_time": "2023-02-22T07:34:55.110Z"
   },
   {
    "duration": 4,
    "start_time": "2023-02-22T07:34:55.127Z"
   },
   {
    "duration": 10,
    "start_time": "2023-02-22T07:34:55.133Z"
   },
   {
    "duration": 13,
    "start_time": "2023-02-22T07:34:55.144Z"
   },
   {
    "duration": 15,
    "start_time": "2023-02-22T07:34:55.159Z"
   },
   {
    "duration": 69,
    "start_time": "2023-02-22T07:34:55.176Z"
   },
   {
    "duration": 15,
    "start_time": "2023-02-22T07:34:55.248Z"
   },
   {
    "duration": 10,
    "start_time": "2023-02-22T07:34:55.265Z"
   },
   {
    "duration": 28,
    "start_time": "2023-02-22T07:34:55.276Z"
   },
   {
    "duration": 17,
    "start_time": "2023-02-22T07:34:55.306Z"
   },
   {
    "duration": 30,
    "start_time": "2023-02-22T07:34:55.325Z"
   },
   {
    "duration": 67,
    "start_time": "2023-02-22T07:34:55.358Z"
   },
   {
    "duration": 7,
    "start_time": "2023-02-22T07:34:55.427Z"
   },
   {
    "duration": 465,
    "start_time": "2023-02-22T07:34:55.435Z"
   },
   {
    "duration": 89578,
    "start_time": "2023-02-22T07:34:55.902Z"
   },
   {
    "duration": 234,
    "start_time": "2023-02-22T07:36:25.481Z"
   },
   {
    "duration": 96,
    "start_time": "2023-02-22T07:36:25.717Z"
   },
   {
    "duration": 17,
    "start_time": "2023-02-22T07:36:25.903Z"
   },
   {
    "duration": 120291,
    "start_time": "2023-02-22T07:36:25.922Z"
   },
   {
    "duration": 52585,
    "start_time": "2023-02-22T07:38:26.215Z"
   },
   {
    "duration": 202,
    "start_time": "2023-02-22T07:39:18.803Z"
   },
   {
    "duration": 198,
    "start_time": "2023-02-22T07:39:19.007Z"
   },
   {
    "duration": 213,
    "start_time": "2023-02-22T07:46:00.898Z"
   },
   {
    "duration": 46,
    "start_time": "2023-02-22T07:46:54.455Z"
   },
   {
    "duration": 54,
    "start_time": "2023-02-22T07:47:38.547Z"
   },
   {
    "duration": 1968,
    "start_time": "2023-02-22T07:52:11.727Z"
   },
   {
    "duration": 1915,
    "start_time": "2023-02-22T07:53:17.096Z"
   },
   {
    "duration": 2045,
    "start_time": "2023-02-22T07:53:43.406Z"
   },
   {
    "duration": 3137,
    "start_time": "2023-02-22T07:54:31.511Z"
   },
   {
    "duration": 37,
    "start_time": "2023-02-22T07:54:34.651Z"
   },
   {
    "duration": 19,
    "start_time": "2023-02-22T07:54:34.689Z"
   },
   {
    "duration": 4,
    "start_time": "2023-02-22T07:54:34.710Z"
   },
   {
    "duration": 8,
    "start_time": "2023-02-22T07:54:34.716Z"
   },
   {
    "duration": 13,
    "start_time": "2023-02-22T07:54:34.726Z"
   },
   {
    "duration": 12,
    "start_time": "2023-02-22T07:54:34.741Z"
   },
   {
    "duration": 73,
    "start_time": "2023-02-22T07:54:34.755Z"
   },
   {
    "duration": 13,
    "start_time": "2023-02-22T07:54:34.829Z"
   },
   {
    "duration": 8,
    "start_time": "2023-02-22T07:54:34.843Z"
   },
   {
    "duration": 9,
    "start_time": "2023-02-22T07:54:34.852Z"
   },
   {
    "duration": 36,
    "start_time": "2023-02-22T07:54:34.862Z"
   },
   {
    "duration": 29,
    "start_time": "2023-02-22T07:54:34.899Z"
   },
   {
    "duration": 53,
    "start_time": "2023-02-22T07:54:34.930Z"
   },
   {
    "duration": 21,
    "start_time": "2023-02-22T07:54:34.984Z"
   },
   {
    "duration": 449,
    "start_time": "2023-02-22T07:54:35.006Z"
   },
   {
    "duration": 87903,
    "start_time": "2023-02-22T07:54:35.457Z"
   },
   {
    "duration": 251,
    "start_time": "2023-02-22T07:56:03.361Z"
   },
   {
    "duration": 100,
    "start_time": "2023-02-22T07:56:03.704Z"
   },
   {
    "duration": 17,
    "start_time": "2023-02-22T07:56:03.806Z"
   },
   {
    "duration": 118466,
    "start_time": "2023-02-22T07:56:03.825Z"
   },
   {
    "duration": 50930,
    "start_time": "2023-02-22T07:58:02.293Z"
   },
   {
    "duration": 60,
    "start_time": "2023-02-22T07:58:53.225Z"
   },
   {
    "duration": 192,
    "start_time": "2023-02-22T07:58:53.287Z"
   },
   {
    "duration": 7,
    "start_time": "2023-02-22T07:58:53.480Z"
   },
   {
    "duration": 7,
    "start_time": "2023-02-22T08:02:24.844Z"
   },
   {
    "duration": 17,
    "start_time": "2023-02-22T08:04:17.702Z"
   },
   {
    "duration": 56,
    "start_time": "2023-02-22T08:30:08.855Z"
   },
   {
    "duration": 3337,
    "start_time": "2023-02-22T08:34:44.421Z"
   },
   {
    "duration": 40,
    "start_time": "2023-02-22T08:34:47.760Z"
   },
   {
    "duration": 19,
    "start_time": "2023-02-22T08:34:47.802Z"
   },
   {
    "duration": 4,
    "start_time": "2023-02-22T08:34:47.823Z"
   },
   {
    "duration": 10,
    "start_time": "2023-02-22T08:34:47.829Z"
   },
   {
    "duration": 19,
    "start_time": "2023-02-22T08:34:47.840Z"
   },
   {
    "duration": 49,
    "start_time": "2023-02-22T08:34:47.861Z"
   },
   {
    "duration": 42,
    "start_time": "2023-02-22T08:34:47.911Z"
   },
   {
    "duration": 14,
    "start_time": "2023-02-22T08:34:47.954Z"
   },
   {
    "duration": 12,
    "start_time": "2023-02-22T08:34:47.970Z"
   },
   {
    "duration": 3,
    "start_time": "2023-02-22T08:34:48.002Z"
   },
   {
    "duration": 17,
    "start_time": "2023-02-22T08:34:48.008Z"
   },
   {
    "duration": 31,
    "start_time": "2023-02-22T08:34:48.027Z"
   },
   {
    "duration": 79,
    "start_time": "2023-02-22T08:34:48.061Z"
   },
   {
    "duration": 9,
    "start_time": "2023-02-22T08:34:48.142Z"
   },
   {
    "duration": 480,
    "start_time": "2023-02-22T08:34:48.153Z"
   },
   {
    "duration": 91879,
    "start_time": "2023-02-22T08:34:48.635Z"
   },
   {
    "duration": 293,
    "start_time": "2023-02-22T08:36:20.515Z"
   },
   {
    "duration": 107,
    "start_time": "2023-02-22T08:36:20.809Z"
   },
   {
    "duration": 94,
    "start_time": "2023-02-22T08:36:20.917Z"
   },
   {
    "duration": 122056,
    "start_time": "2023-02-22T08:36:21.012Z"
   },
   {
    "duration": 53356,
    "start_time": "2023-02-22T08:38:23.070Z"
   },
   {
    "duration": 58,
    "start_time": "2023-02-22T08:39:16.428Z"
   },
   {
    "duration": 225,
    "start_time": "2023-02-22T08:39:16.488Z"
   },
   {
    "duration": 17,
    "start_time": "2023-02-22T08:39:16.715Z"
   },
   {
    "duration": 3262,
    "start_time": "2023-02-22T08:51:46.442Z"
   },
   {
    "duration": 35,
    "start_time": "2023-02-22T08:51:49.707Z"
   },
   {
    "duration": 18,
    "start_time": "2023-02-22T08:51:49.744Z"
   },
   {
    "duration": 4,
    "start_time": "2023-02-22T08:51:49.764Z"
   },
   {
    "duration": 23,
    "start_time": "2023-02-22T08:51:49.769Z"
   },
   {
    "duration": 17,
    "start_time": "2023-02-22T08:51:49.794Z"
   },
   {
    "duration": 11,
    "start_time": "2023-02-22T08:51:49.813Z"
   },
   {
    "duration": 42,
    "start_time": "2023-02-22T08:51:49.826Z"
   },
   {
    "duration": 34,
    "start_time": "2023-02-22T08:51:49.870Z"
   },
   {
    "duration": 10,
    "start_time": "2023-02-22T08:51:49.907Z"
   },
   {
    "duration": 2,
    "start_time": "2023-02-22T08:51:49.919Z"
   },
   {
    "duration": 14,
    "start_time": "2023-02-22T08:51:49.923Z"
   },
   {
    "duration": 31,
    "start_time": "2023-02-22T08:51:49.939Z"
   },
   {
    "duration": 83,
    "start_time": "2023-02-22T08:51:49.972Z"
   },
   {
    "duration": 8,
    "start_time": "2023-02-22T08:51:50.057Z"
   },
   {
    "duration": 489,
    "start_time": "2023-02-22T08:51:50.066Z"
   },
   {
    "duration": 92004,
    "start_time": "2023-02-22T08:51:50.557Z"
   },
   {
    "duration": 341,
    "start_time": "2023-02-22T08:53:22.563Z"
   },
   {
    "duration": 101,
    "start_time": "2023-02-22T08:53:22.906Z"
   },
   {
    "duration": 17,
    "start_time": "2023-02-22T08:53:23.009Z"
   },
   {
    "duration": 123084,
    "start_time": "2023-02-22T08:53:23.029Z"
   },
   {
    "duration": 54949,
    "start_time": "2023-02-22T08:55:26.115Z"
   },
   {
    "duration": 71,
    "start_time": "2023-02-22T08:56:21.066Z"
   },
   {
    "duration": 206,
    "start_time": "2023-02-22T08:56:21.139Z"
   },
   {
    "duration": 15,
    "start_time": "2023-02-22T08:56:21.347Z"
   }
  ],
  "kernelspec": {
   "display_name": "Python 3 (ipykernel)",
   "language": "python",
   "name": "python3"
  },
  "language_info": {
   "codemirror_mode": {
    "name": "ipython",
    "version": 3
   },
   "file_extension": ".py",
   "mimetype": "text/x-python",
   "name": "python",
   "nbconvert_exporter": "python",
   "pygments_lexer": "ipython3",
   "version": "3.9.13"
  },
  "toc": {
   "base_numbering": 1,
   "nav_menu": {
    "height": "16.9886px",
    "width": "160px"
   },
   "number_sections": false,
   "sideBar": true,
   "skip_h1_title": true,
   "title_cell": "Содержание",
   "title_sidebar": "Contents",
   "toc_cell": true,
   "toc_position": {
    "height": "calc(100% - 180px)",
    "left": "10px",
    "top": "150px",
    "width": "299.432px"
   },
   "toc_section_display": false,
   "toc_window_display": false
  }
 },
 "nbformat": 4,
 "nbformat_minor": 2
}

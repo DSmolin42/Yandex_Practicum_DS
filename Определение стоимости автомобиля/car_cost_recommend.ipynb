{
 "cells": [
  {
   "cell_type": "markdown",
   "metadata": {},
   "source": [
    "# Определение стоимости автомобилей"
   ]
  },
  {
   "cell_type": "markdown",
   "metadata": {},
   "source": [
    "Сервис по продаже автомобилей с пробегом «Не бит, не крашен» разрабатывает приложение для привлечения новых клиентов. В нём можно быстро узнать рыночную стоимость своего автомобиля. В вашем распоряжении исторические данные: технические характеристики, комплектации и цены автомобилей. Вам нужно построить модель для определения стоимости. \n",
    "\n",
    "Заказчику важны:\n",
    "\n",
    "- качество предсказания;\n",
    "- скорость предсказания;\n",
    "- время обучения."
   ]
  },
  {
   "cell_type": "markdown",
   "metadata": {},
   "source": [
    "## Подготовка данных"
   ]
  },
  {
   "cell_type": "code",
   "execution_count": 1,
   "metadata": {},
   "outputs": [
    {
     "name": "stdout",
     "output_type": "stream",
     "text": [
      "Requirement already satisfied: lightgbm in c:\\users\\dolphind\\anaconda3\\lib\\site-packages (3.3.5)\n",
      "Requirement already satisfied: wheel in c:\\users\\dolphind\\anaconda3\\lib\\site-packages (from lightgbm) (0.37.1)\n",
      "Requirement already satisfied: numpy in c:\\users\\dolphind\\anaconda3\\lib\\site-packages (from lightgbm) (1.21.5)\n",
      "Requirement already satisfied: scikit-learn!=0.22.0 in c:\\users\\dolphind\\anaconda3\\lib\\site-packages (from lightgbm) (1.0.2)\n",
      "Requirement already satisfied: scipy in c:\\users\\dolphind\\anaconda3\\lib\\site-packages (from lightgbm) (1.9.1)\n",
      "Requirement already satisfied: joblib>=0.11 in c:\\users\\dolphind\\anaconda3\\lib\\site-packages (from scikit-learn!=0.22.0->lightgbm) (1.1.0)\n",
      "Requirement already satisfied: threadpoolctl>=2.0.0 in c:\\users\\dolphind\\anaconda3\\lib\\site-packages (from scikit-learn!=0.22.0->lightgbm) (2.2.0)\n"
     ]
    }
   ],
   "source": [
    "!pip install lightgbm\n",
    "import pandas as pd\n",
    "import numpy as np\n",
    "import matplotlib.pyplot as plt\n",
    "import seaborn as sns\n",
    "from sklearn.model_selection import train_test_split, GridSearchCV, cross_val_score\n",
    "from sklearn.preprocessing import OneHotEncoder, OrdinalEncoder, StandardScaler\n",
    "from sklearn.metrics import mean_squared_error, make_scorer\n",
    "from sklearn.linear_model import LinearRegression\n",
    "from sklearn.ensemble import RandomForestRegressor\n",
    "from sklearn.tree import DecisionTreeRegressor\n",
    "from lightgbm import LGBMRegressor\n",
    "import time\n",
    "\n",
    "\n",
    "import warnings\n",
    "warnings.filterwarnings('ignore')"
   ]
  },
  {
   "cell_type": "code",
   "execution_count": 2,
   "metadata": {},
   "outputs": [],
   "source": [
    "try:\n",
    "    df = pd.read_csv('autos.csv')\n",
    "except:\n",
    "    df = pd.read_csv('/datasets/autos.csv')"
   ]
  },
  {
   "cell_type": "code",
   "execution_count": 3,
   "metadata": {},
   "outputs": [
    {
     "data": {
      "text/html": [
       "<div>\n",
       "<style scoped>\n",
       "    .dataframe tbody tr th:only-of-type {\n",
       "        vertical-align: middle;\n",
       "    }\n",
       "\n",
       "    .dataframe tbody tr th {\n",
       "        vertical-align: top;\n",
       "    }\n",
       "\n",
       "    .dataframe thead th {\n",
       "        text-align: right;\n",
       "    }\n",
       "</style>\n",
       "<table border=\"1\" class=\"dataframe\">\n",
       "  <thead>\n",
       "    <tr style=\"text-align: right;\">\n",
       "      <th></th>\n",
       "      <th>DateCrawled</th>\n",
       "      <th>Price</th>\n",
       "      <th>VehicleType</th>\n",
       "      <th>RegistrationYear</th>\n",
       "      <th>Gearbox</th>\n",
       "      <th>Power</th>\n",
       "      <th>Model</th>\n",
       "      <th>Kilometer</th>\n",
       "      <th>RegistrationMonth</th>\n",
       "      <th>FuelType</th>\n",
       "      <th>Brand</th>\n",
       "      <th>Repaired</th>\n",
       "      <th>DateCreated</th>\n",
       "      <th>NumberOfPictures</th>\n",
       "      <th>PostalCode</th>\n",
       "      <th>LastSeen</th>\n",
       "    </tr>\n",
       "  </thead>\n",
       "  <tbody>\n",
       "    <tr>\n",
       "      <th>297941</th>\n",
       "      <td>2016-03-11 11:48:56</td>\n",
       "      <td>5990</td>\n",
       "      <td>small</td>\n",
       "      <td>2009</td>\n",
       "      <td>manual</td>\n",
       "      <td>68</td>\n",
       "      <td>other</td>\n",
       "      <td>30000</td>\n",
       "      <td>9</td>\n",
       "      <td>petrol</td>\n",
       "      <td>toyota</td>\n",
       "      <td>no</td>\n",
       "      <td>2016-03-11 00:00:00</td>\n",
       "      <td>0</td>\n",
       "      <td>26127</td>\n",
       "      <td>2016-03-12 15:46:08</td>\n",
       "    </tr>\n",
       "    <tr>\n",
       "      <th>288769</th>\n",
       "      <td>2016-03-31 23:56:19</td>\n",
       "      <td>10000</td>\n",
       "      <td>sedan</td>\n",
       "      <td>2006</td>\n",
       "      <td>auto</td>\n",
       "      <td>204</td>\n",
       "      <td>c_klasse</td>\n",
       "      <td>80000</td>\n",
       "      <td>9</td>\n",
       "      <td>petrol</td>\n",
       "      <td>mercedes_benz</td>\n",
       "      <td>no</td>\n",
       "      <td>2016-03-31 00:00:00</td>\n",
       "      <td>0</td>\n",
       "      <td>30163</td>\n",
       "      <td>2016-04-07 04:16:31</td>\n",
       "    </tr>\n",
       "    <tr>\n",
       "      <th>10588</th>\n",
       "      <td>2016-03-21 19:54:02</td>\n",
       "      <td>4500</td>\n",
       "      <td>sedan</td>\n",
       "      <td>2008</td>\n",
       "      <td>manual</td>\n",
       "      <td>105</td>\n",
       "      <td>bravo</td>\n",
       "      <td>150000</td>\n",
       "      <td>8</td>\n",
       "      <td>gasoline</td>\n",
       "      <td>fiat</td>\n",
       "      <td>no</td>\n",
       "      <td>2016-03-21 00:00:00</td>\n",
       "      <td>0</td>\n",
       "      <td>6766</td>\n",
       "      <td>2016-03-21 19:54:02</td>\n",
       "    </tr>\n",
       "    <tr>\n",
       "      <th>229337</th>\n",
       "      <td>2016-03-29 16:42:49</td>\n",
       "      <td>3700</td>\n",
       "      <td>small</td>\n",
       "      <td>2009</td>\n",
       "      <td>manual</td>\n",
       "      <td>77</td>\n",
       "      <td>punto</td>\n",
       "      <td>100000</td>\n",
       "      <td>8</td>\n",
       "      <td>petrol</td>\n",
       "      <td>fiat</td>\n",
       "      <td>no</td>\n",
       "      <td>2016-03-29 00:00:00</td>\n",
       "      <td>0</td>\n",
       "      <td>86807</td>\n",
       "      <td>2016-04-06 02:15:49</td>\n",
       "    </tr>\n",
       "    <tr>\n",
       "      <th>218211</th>\n",
       "      <td>2016-04-01 01:57:43</td>\n",
       "      <td>1654</td>\n",
       "      <td>small</td>\n",
       "      <td>2001</td>\n",
       "      <td>manual</td>\n",
       "      <td>90</td>\n",
       "      <td>almera</td>\n",
       "      <td>150000</td>\n",
       "      <td>3</td>\n",
       "      <td>petrol</td>\n",
       "      <td>nissan</td>\n",
       "      <td>NaN</td>\n",
       "      <td>2016-04-01 00:00:00</td>\n",
       "      <td>0</td>\n",
       "      <td>46509</td>\n",
       "      <td>2016-04-07 05:15:43</td>\n",
       "    </tr>\n",
       "  </tbody>\n",
       "</table>\n",
       "</div>"
      ],
      "text/plain": [
       "                DateCrawled  Price VehicleType  RegistrationYear Gearbox  \\\n",
       "297941  2016-03-11 11:48:56   5990       small              2009  manual   \n",
       "288769  2016-03-31 23:56:19  10000       sedan              2006    auto   \n",
       "10588   2016-03-21 19:54:02   4500       sedan              2008  manual   \n",
       "229337  2016-03-29 16:42:49   3700       small              2009  manual   \n",
       "218211  2016-04-01 01:57:43   1654       small              2001  manual   \n",
       "\n",
       "        Power     Model  Kilometer  RegistrationMonth  FuelType  \\\n",
       "297941     68     other      30000                  9    petrol   \n",
       "288769    204  c_klasse      80000                  9    petrol   \n",
       "10588     105     bravo     150000                  8  gasoline   \n",
       "229337     77     punto     100000                  8    petrol   \n",
       "218211     90    almera     150000                  3    petrol   \n",
       "\n",
       "                Brand Repaired          DateCreated  NumberOfPictures  \\\n",
       "297941         toyota       no  2016-03-11 00:00:00                 0   \n",
       "288769  mercedes_benz       no  2016-03-31 00:00:00                 0   \n",
       "10588            fiat       no  2016-03-21 00:00:00                 0   \n",
       "229337           fiat       no  2016-03-29 00:00:00                 0   \n",
       "218211         nissan      NaN  2016-04-01 00:00:00                 0   \n",
       "\n",
       "        PostalCode             LastSeen  \n",
       "297941       26127  2016-03-12 15:46:08  \n",
       "288769       30163  2016-04-07 04:16:31  \n",
       "10588         6766  2016-03-21 19:54:02  \n",
       "229337       86807  2016-04-06 02:15:49  \n",
       "218211       46509  2016-04-07 05:15:43  "
      ]
     },
     "execution_count": 3,
     "metadata": {},
     "output_type": "execute_result"
    }
   ],
   "source": [
    "df.sample(5)"
   ]
  },
  {
   "cell_type": "code",
   "execution_count": 4,
   "metadata": {},
   "outputs": [
    {
     "name": "stdout",
     "output_type": "stream",
     "text": [
      "<class 'pandas.core.frame.DataFrame'>\n",
      "RangeIndex: 354369 entries, 0 to 354368\n",
      "Data columns (total 16 columns):\n",
      " #   Column             Non-Null Count   Dtype \n",
      "---  ------             --------------   ----- \n",
      " 0   DateCrawled        354369 non-null  object\n",
      " 1   Price              354369 non-null  int64 \n",
      " 2   VehicleType        316879 non-null  object\n",
      " 3   RegistrationYear   354369 non-null  int64 \n",
      " 4   Gearbox            334536 non-null  object\n",
      " 5   Power              354369 non-null  int64 \n",
      " 6   Model              334664 non-null  object\n",
      " 7   Kilometer          354369 non-null  int64 \n",
      " 8   RegistrationMonth  354369 non-null  int64 \n",
      " 9   FuelType           321474 non-null  object\n",
      " 10  Brand              354369 non-null  object\n",
      " 11  Repaired           283215 non-null  object\n",
      " 12  DateCreated        354369 non-null  object\n",
      " 13  NumberOfPictures   354369 non-null  int64 \n",
      " 14  PostalCode         354369 non-null  int64 \n",
      " 15  LastSeen           354369 non-null  object\n",
      "dtypes: int64(7), object(9)\n",
      "memory usage: 43.3+ MB\n"
     ]
    }
   ],
   "source": [
    "df.info()"
   ]
  },
  {
   "cell_type": "code",
   "execution_count": 5,
   "metadata": {},
   "outputs": [
    {
     "data": {
      "text/plain": [
       "DateCrawled          0.000000\n",
       "Price                0.000000\n",
       "VehicleType          0.105794\n",
       "RegistrationYear     0.000000\n",
       "Gearbox              0.055967\n",
       "Power                0.000000\n",
       "Model                0.055606\n",
       "Kilometer            0.000000\n",
       "RegistrationMonth    0.000000\n",
       "FuelType             0.092827\n",
       "Brand                0.000000\n",
       "Repaired             0.200791\n",
       "DateCreated          0.000000\n",
       "NumberOfPictures     0.000000\n",
       "PostalCode           0.000000\n",
       "LastSeen             0.000000\n",
       "dtype: float64"
      ]
     },
     "execution_count": 5,
     "metadata": {},
     "output_type": "execute_result"
    }
   ],
   "source": [
    "df.isna().mean()"
   ]
  },
  {
   "cell_type": "code",
   "execution_count": 6,
   "metadata": {},
   "outputs": [
    {
     "data": {
      "text/plain": [
       "4"
      ]
     },
     "execution_count": 6,
     "metadata": {},
     "output_type": "execute_result"
    }
   ],
   "source": [
    "df.duplicated().sum()"
   ]
  },
  {
   "cell_type": "code",
   "execution_count": 7,
   "metadata": {},
   "outputs": [
    {
     "data": {
      "text/plain": [
       "0"
      ]
     },
     "execution_count": 7,
     "metadata": {},
     "output_type": "execute_result"
    }
   ],
   "source": [
    "df = df.drop_duplicates() # удалим дубликаты строк\n",
    "df.duplicated().sum()"
   ]
  },
  {
   "cell_type": "code",
   "execution_count": 8,
   "metadata": {},
   "outputs": [
    {
     "data": {
      "text/html": [
       "<div>\n",
       "<style scoped>\n",
       "    .dataframe tbody tr th:only-of-type {\n",
       "        vertical-align: middle;\n",
       "    }\n",
       "\n",
       "    .dataframe tbody tr th {\n",
       "        vertical-align: top;\n",
       "    }\n",
       "\n",
       "    .dataframe thead th {\n",
       "        text-align: right;\n",
       "    }\n",
       "</style>\n",
       "<table border=\"1\" class=\"dataframe\">\n",
       "  <thead>\n",
       "    <tr style=\"text-align: right;\">\n",
       "      <th></th>\n",
       "      <th>DateCrawled</th>\n",
       "      <th>Price</th>\n",
       "      <th>VehicleType</th>\n",
       "      <th>RegistrationYear</th>\n",
       "      <th>Gearbox</th>\n",
       "      <th>Power</th>\n",
       "      <th>Model</th>\n",
       "      <th>Kilometer</th>\n",
       "      <th>RegistrationMonth</th>\n",
       "      <th>FuelType</th>\n",
       "      <th>Brand</th>\n",
       "      <th>Repaired</th>\n",
       "      <th>DateCreated</th>\n",
       "      <th>NumberOfPictures</th>\n",
       "      <th>PostalCode</th>\n",
       "      <th>LastSeen</th>\n",
       "    </tr>\n",
       "  </thead>\n",
       "  <tbody>\n",
       "    <tr>\n",
       "      <th>count</th>\n",
       "      <td>354365</td>\n",
       "      <td>354365.000000</td>\n",
       "      <td>316875</td>\n",
       "      <td>354365.000000</td>\n",
       "      <td>334532</td>\n",
       "      <td>354365.000000</td>\n",
       "      <td>334660</td>\n",
       "      <td>354365.000000</td>\n",
       "      <td>354365.000000</td>\n",
       "      <td>321470</td>\n",
       "      <td>354365</td>\n",
       "      <td>283211</td>\n",
       "      <td>354365</td>\n",
       "      <td>354365.0</td>\n",
       "      <td>354365.000000</td>\n",
       "      <td>354365</td>\n",
       "    </tr>\n",
       "    <tr>\n",
       "      <th>unique</th>\n",
       "      <td>271174</td>\n",
       "      <td>NaN</td>\n",
       "      <td>8</td>\n",
       "      <td>NaN</td>\n",
       "      <td>2</td>\n",
       "      <td>NaN</td>\n",
       "      <td>250</td>\n",
       "      <td>NaN</td>\n",
       "      <td>NaN</td>\n",
       "      <td>7</td>\n",
       "      <td>40</td>\n",
       "      <td>2</td>\n",
       "      <td>109</td>\n",
       "      <td>NaN</td>\n",
       "      <td>NaN</td>\n",
       "      <td>179150</td>\n",
       "    </tr>\n",
       "    <tr>\n",
       "      <th>top</th>\n",
       "      <td>2016-03-24 14:49:47</td>\n",
       "      <td>NaN</td>\n",
       "      <td>sedan</td>\n",
       "      <td>NaN</td>\n",
       "      <td>manual</td>\n",
       "      <td>NaN</td>\n",
       "      <td>golf</td>\n",
       "      <td>NaN</td>\n",
       "      <td>NaN</td>\n",
       "      <td>petrol</td>\n",
       "      <td>volkswagen</td>\n",
       "      <td>no</td>\n",
       "      <td>2016-04-03 00:00:00</td>\n",
       "      <td>NaN</td>\n",
       "      <td>NaN</td>\n",
       "      <td>2016-04-06 13:45:54</td>\n",
       "    </tr>\n",
       "    <tr>\n",
       "      <th>freq</th>\n",
       "      <td>7</td>\n",
       "      <td>NaN</td>\n",
       "      <td>91457</td>\n",
       "      <td>NaN</td>\n",
       "      <td>268249</td>\n",
       "      <td>NaN</td>\n",
       "      <td>29232</td>\n",
       "      <td>NaN</td>\n",
       "      <td>NaN</td>\n",
       "      <td>216349</td>\n",
       "      <td>77012</td>\n",
       "      <td>247158</td>\n",
       "      <td>13718</td>\n",
       "      <td>NaN</td>\n",
       "      <td>NaN</td>\n",
       "      <td>17</td>\n",
       "    </tr>\n",
       "    <tr>\n",
       "      <th>mean</th>\n",
       "      <td>NaN</td>\n",
       "      <td>4416.679830</td>\n",
       "      <td>NaN</td>\n",
       "      <td>2004.234481</td>\n",
       "      <td>NaN</td>\n",
       "      <td>110.093816</td>\n",
       "      <td>NaN</td>\n",
       "      <td>128211.363989</td>\n",
       "      <td>5.714650</td>\n",
       "      <td>NaN</td>\n",
       "      <td>NaN</td>\n",
       "      <td>NaN</td>\n",
       "      <td>NaN</td>\n",
       "      <td>0.0</td>\n",
       "      <td>50508.503800</td>\n",
       "      <td>NaN</td>\n",
       "    </tr>\n",
       "    <tr>\n",
       "      <th>std</th>\n",
       "      <td>NaN</td>\n",
       "      <td>4514.176349</td>\n",
       "      <td>NaN</td>\n",
       "      <td>90.228466</td>\n",
       "      <td>NaN</td>\n",
       "      <td>189.851330</td>\n",
       "      <td>NaN</td>\n",
       "      <td>37905.083858</td>\n",
       "      <td>3.726432</td>\n",
       "      <td>NaN</td>\n",
       "      <td>NaN</td>\n",
       "      <td>NaN</td>\n",
       "      <td>NaN</td>\n",
       "      <td>0.0</td>\n",
       "      <td>25783.100078</td>\n",
       "      <td>NaN</td>\n",
       "    </tr>\n",
       "    <tr>\n",
       "      <th>min</th>\n",
       "      <td>NaN</td>\n",
       "      <td>0.000000</td>\n",
       "      <td>NaN</td>\n",
       "      <td>1000.000000</td>\n",
       "      <td>NaN</td>\n",
       "      <td>0.000000</td>\n",
       "      <td>NaN</td>\n",
       "      <td>5000.000000</td>\n",
       "      <td>0.000000</td>\n",
       "      <td>NaN</td>\n",
       "      <td>NaN</td>\n",
       "      <td>NaN</td>\n",
       "      <td>NaN</td>\n",
       "      <td>0.0</td>\n",
       "      <td>1067.000000</td>\n",
       "      <td>NaN</td>\n",
       "    </tr>\n",
       "    <tr>\n",
       "      <th>25%</th>\n",
       "      <td>NaN</td>\n",
       "      <td>1050.000000</td>\n",
       "      <td>NaN</td>\n",
       "      <td>1999.000000</td>\n",
       "      <td>NaN</td>\n",
       "      <td>69.000000</td>\n",
       "      <td>NaN</td>\n",
       "      <td>125000.000000</td>\n",
       "      <td>3.000000</td>\n",
       "      <td>NaN</td>\n",
       "      <td>NaN</td>\n",
       "      <td>NaN</td>\n",
       "      <td>NaN</td>\n",
       "      <td>0.0</td>\n",
       "      <td>30165.000000</td>\n",
       "      <td>NaN</td>\n",
       "    </tr>\n",
       "    <tr>\n",
       "      <th>50%</th>\n",
       "      <td>NaN</td>\n",
       "      <td>2700.000000</td>\n",
       "      <td>NaN</td>\n",
       "      <td>2003.000000</td>\n",
       "      <td>NaN</td>\n",
       "      <td>105.000000</td>\n",
       "      <td>NaN</td>\n",
       "      <td>150000.000000</td>\n",
       "      <td>6.000000</td>\n",
       "      <td>NaN</td>\n",
       "      <td>NaN</td>\n",
       "      <td>NaN</td>\n",
       "      <td>NaN</td>\n",
       "      <td>0.0</td>\n",
       "      <td>49413.000000</td>\n",
       "      <td>NaN</td>\n",
       "    </tr>\n",
       "    <tr>\n",
       "      <th>75%</th>\n",
       "      <td>NaN</td>\n",
       "      <td>6400.000000</td>\n",
       "      <td>NaN</td>\n",
       "      <td>2008.000000</td>\n",
       "      <td>NaN</td>\n",
       "      <td>143.000000</td>\n",
       "      <td>NaN</td>\n",
       "      <td>150000.000000</td>\n",
       "      <td>9.000000</td>\n",
       "      <td>NaN</td>\n",
       "      <td>NaN</td>\n",
       "      <td>NaN</td>\n",
       "      <td>NaN</td>\n",
       "      <td>0.0</td>\n",
       "      <td>71083.000000</td>\n",
       "      <td>NaN</td>\n",
       "    </tr>\n",
       "    <tr>\n",
       "      <th>max</th>\n",
       "      <td>NaN</td>\n",
       "      <td>20000.000000</td>\n",
       "      <td>NaN</td>\n",
       "      <td>9999.000000</td>\n",
       "      <td>NaN</td>\n",
       "      <td>20000.000000</td>\n",
       "      <td>NaN</td>\n",
       "      <td>150000.000000</td>\n",
       "      <td>12.000000</td>\n",
       "      <td>NaN</td>\n",
       "      <td>NaN</td>\n",
       "      <td>NaN</td>\n",
       "      <td>NaN</td>\n",
       "      <td>0.0</td>\n",
       "      <td>99998.000000</td>\n",
       "      <td>NaN</td>\n",
       "    </tr>\n",
       "  </tbody>\n",
       "</table>\n",
       "</div>"
      ],
      "text/plain": [
       "                DateCrawled          Price VehicleType  RegistrationYear  \\\n",
       "count                354365  354365.000000      316875     354365.000000   \n",
       "unique               271174            NaN           8               NaN   \n",
       "top     2016-03-24 14:49:47            NaN       sedan               NaN   \n",
       "freq                      7            NaN       91457               NaN   \n",
       "mean                    NaN    4416.679830         NaN       2004.234481   \n",
       "std                     NaN    4514.176349         NaN         90.228466   \n",
       "min                     NaN       0.000000         NaN       1000.000000   \n",
       "25%                     NaN    1050.000000         NaN       1999.000000   \n",
       "50%                     NaN    2700.000000         NaN       2003.000000   \n",
       "75%                     NaN    6400.000000         NaN       2008.000000   \n",
       "max                     NaN   20000.000000         NaN       9999.000000   \n",
       "\n",
       "       Gearbox          Power   Model      Kilometer  RegistrationMonth  \\\n",
       "count   334532  354365.000000  334660  354365.000000      354365.000000   \n",
       "unique       2            NaN     250            NaN                NaN   \n",
       "top     manual            NaN    golf            NaN                NaN   \n",
       "freq    268249            NaN   29232            NaN                NaN   \n",
       "mean       NaN     110.093816     NaN  128211.363989           5.714650   \n",
       "std        NaN     189.851330     NaN   37905.083858           3.726432   \n",
       "min        NaN       0.000000     NaN    5000.000000           0.000000   \n",
       "25%        NaN      69.000000     NaN  125000.000000           3.000000   \n",
       "50%        NaN     105.000000     NaN  150000.000000           6.000000   \n",
       "75%        NaN     143.000000     NaN  150000.000000           9.000000   \n",
       "max        NaN   20000.000000     NaN  150000.000000          12.000000   \n",
       "\n",
       "       FuelType       Brand Repaired          DateCreated  NumberOfPictures  \\\n",
       "count    321470      354365   283211               354365          354365.0   \n",
       "unique        7          40        2                  109               NaN   \n",
       "top      petrol  volkswagen       no  2016-04-03 00:00:00               NaN   \n",
       "freq     216349       77012   247158                13718               NaN   \n",
       "mean        NaN         NaN      NaN                  NaN               0.0   \n",
       "std         NaN         NaN      NaN                  NaN               0.0   \n",
       "min         NaN         NaN      NaN                  NaN               0.0   \n",
       "25%         NaN         NaN      NaN                  NaN               0.0   \n",
       "50%         NaN         NaN      NaN                  NaN               0.0   \n",
       "75%         NaN         NaN      NaN                  NaN               0.0   \n",
       "max         NaN         NaN      NaN                  NaN               0.0   \n",
       "\n",
       "           PostalCode             LastSeen  \n",
       "count   354365.000000               354365  \n",
       "unique            NaN               179150  \n",
       "top               NaN  2016-04-06 13:45:54  \n",
       "freq              NaN                   17  \n",
       "mean     50508.503800                  NaN  \n",
       "std      25783.100078                  NaN  \n",
       "min       1067.000000                  NaN  \n",
       "25%      30165.000000                  NaN  \n",
       "50%      49413.000000                  NaN  \n",
       "75%      71083.000000                  NaN  \n",
       "max      99998.000000                  NaN  "
      ]
     },
     "execution_count": 8,
     "metadata": {},
     "output_type": "execute_result"
    }
   ],
   "source": [
    "df.describe(include='all')"
   ]
  },
  {
   "cell_type": "markdown",
   "metadata": {},
   "source": [
    "### Вывод\n",
    "\n",
    "1. Датасет содержит информацию  о 354369 автомобилях, 16 параметров для каждого авто.\n",
    "2. В столбцах VehicleType, Gearbox, Model, FuelType, NotRepaired есть  пропущенные значения, которые необходимо обработать.\n",
    "3. В столбце RegistrationYear есть аномальные значения, минимальный год выпуска 1000 год, а максимальный 9999. \n",
    "4. В столбце Price есть аномальное значение, минимальная стоимость авто равна 0.\n",
    "5. В столбце Power  максимальное значение  мощности аномально велико."
   ]
  },
  {
   "cell_type": "markdown",
   "metadata": {},
   "source": [
    "#### Изменим названия столбцов, переведем в  змеиный регистр."
   ]
  },
  {
   "cell_type": "code",
   "execution_count": 9,
   "metadata": {},
   "outputs": [
    {
     "data": {
      "text/html": [
       "<div>\n",
       "<style scoped>\n",
       "    .dataframe tbody tr th:only-of-type {\n",
       "        vertical-align: middle;\n",
       "    }\n",
       "\n",
       "    .dataframe tbody tr th {\n",
       "        vertical-align: top;\n",
       "    }\n",
       "\n",
       "    .dataframe thead th {\n",
       "        text-align: right;\n",
       "    }\n",
       "</style>\n",
       "<table border=\"1\" class=\"dataframe\">\n",
       "  <thead>\n",
       "    <tr style=\"text-align: right;\">\n",
       "      <th></th>\n",
       "      <th>date_crawled</th>\n",
       "      <th>price</th>\n",
       "      <th>vehicle_type</th>\n",
       "      <th>registration_year</th>\n",
       "      <th>gearbox</th>\n",
       "      <th>power</th>\n",
       "      <th>model</th>\n",
       "      <th>kilometer</th>\n",
       "      <th>registration_month</th>\n",
       "      <th>fuel_type</th>\n",
       "      <th>brand</th>\n",
       "      <th>repaired</th>\n",
       "      <th>date_created</th>\n",
       "      <th>number_of_pictures</th>\n",
       "      <th>postal_code</th>\n",
       "      <th>last_seen</th>\n",
       "    </tr>\n",
       "  </thead>\n",
       "  <tbody>\n",
       "    <tr>\n",
       "      <th>145913</th>\n",
       "      <td>2016-03-28 17:56:09</td>\n",
       "      <td>300</td>\n",
       "      <td>wagon</td>\n",
       "      <td>1997</td>\n",
       "      <td>auto</td>\n",
       "      <td>0</td>\n",
       "      <td>v40</td>\n",
       "      <td>150000</td>\n",
       "      <td>0</td>\n",
       "      <td>NaN</td>\n",
       "      <td>volvo</td>\n",
       "      <td>yes</td>\n",
       "      <td>2016-03-28 00:00:00</td>\n",
       "      <td>0</td>\n",
       "      <td>17111</td>\n",
       "      <td>2016-04-06 23:46:09</td>\n",
       "    </tr>\n",
       "    <tr>\n",
       "      <th>229847</th>\n",
       "      <td>2016-03-18 23:52:17</td>\n",
       "      <td>2999</td>\n",
       "      <td>small</td>\n",
       "      <td>2007</td>\n",
       "      <td>manual</td>\n",
       "      <td>68</td>\n",
       "      <td>clio</td>\n",
       "      <td>150000</td>\n",
       "      <td>7</td>\n",
       "      <td>gasoline</td>\n",
       "      <td>renault</td>\n",
       "      <td>no</td>\n",
       "      <td>2016-03-18 00:00:00</td>\n",
       "      <td>0</td>\n",
       "      <td>49716</td>\n",
       "      <td>2016-04-04 01:45:05</td>\n",
       "    </tr>\n",
       "    <tr>\n",
       "      <th>350332</th>\n",
       "      <td>2016-03-23 18:56:21</td>\n",
       "      <td>1350</td>\n",
       "      <td>bus</td>\n",
       "      <td>2006</td>\n",
       "      <td>manual</td>\n",
       "      <td>90</td>\n",
       "      <td>other</td>\n",
       "      <td>150000</td>\n",
       "      <td>6</td>\n",
       "      <td>gasoline</td>\n",
       "      <td>citroen</td>\n",
       "      <td>yes</td>\n",
       "      <td>2016-03-23 00:00:00</td>\n",
       "      <td>0</td>\n",
       "      <td>83676</td>\n",
       "      <td>2016-03-23 18:56:21</td>\n",
       "    </tr>\n",
       "    <tr>\n",
       "      <th>250918</th>\n",
       "      <td>2016-03-28 18:44:03</td>\n",
       "      <td>3500</td>\n",
       "      <td>wagon</td>\n",
       "      <td>2006</td>\n",
       "      <td>manual</td>\n",
       "      <td>75</td>\n",
       "      <td>kangoo</td>\n",
       "      <td>80000</td>\n",
       "      <td>5</td>\n",
       "      <td>petrol</td>\n",
       "      <td>renault</td>\n",
       "      <td>no</td>\n",
       "      <td>2016-03-28 00:00:00</td>\n",
       "      <td>0</td>\n",
       "      <td>13359</td>\n",
       "      <td>2016-04-01 03:44:25</td>\n",
       "    </tr>\n",
       "    <tr>\n",
       "      <th>119099</th>\n",
       "      <td>2016-03-24 18:51:41</td>\n",
       "      <td>5900</td>\n",
       "      <td>convertible</td>\n",
       "      <td>1997</td>\n",
       "      <td>auto</td>\n",
       "      <td>193</td>\n",
       "      <td>slk</td>\n",
       "      <td>150000</td>\n",
       "      <td>5</td>\n",
       "      <td>lpg</td>\n",
       "      <td>mercedes_benz</td>\n",
       "      <td>no</td>\n",
       "      <td>2016-03-24 00:00:00</td>\n",
       "      <td>0</td>\n",
       "      <td>30982</td>\n",
       "      <td>2016-04-07 13:15:48</td>\n",
       "    </tr>\n",
       "  </tbody>\n",
       "</table>\n",
       "</div>"
      ],
      "text/plain": [
       "               date_crawled  price vehicle_type  registration_year gearbox  \\\n",
       "145913  2016-03-28 17:56:09    300        wagon               1997    auto   \n",
       "229847  2016-03-18 23:52:17   2999        small               2007  manual   \n",
       "350332  2016-03-23 18:56:21   1350          bus               2006  manual   \n",
       "250918  2016-03-28 18:44:03   3500        wagon               2006  manual   \n",
       "119099  2016-03-24 18:51:41   5900  convertible               1997    auto   \n",
       "\n",
       "        power   model  kilometer  registration_month fuel_type          brand  \\\n",
       "145913      0     v40     150000                   0       NaN          volvo   \n",
       "229847     68    clio     150000                   7  gasoline        renault   \n",
       "350332     90   other     150000                   6  gasoline        citroen   \n",
       "250918     75  kangoo      80000                   5    petrol        renault   \n",
       "119099    193     slk     150000                   5       lpg  mercedes_benz   \n",
       "\n",
       "       repaired         date_created  number_of_pictures  postal_code  \\\n",
       "145913      yes  2016-03-28 00:00:00                   0        17111   \n",
       "229847       no  2016-03-18 00:00:00                   0        49716   \n",
       "350332      yes  2016-03-23 00:00:00                   0        83676   \n",
       "250918       no  2016-03-28 00:00:00                   0        13359   \n",
       "119099       no  2016-03-24 00:00:00                   0        30982   \n",
       "\n",
       "                  last_seen  \n",
       "145913  2016-04-06 23:46:09  \n",
       "229847  2016-04-04 01:45:05  \n",
       "350332  2016-03-23 18:56:21  \n",
       "250918  2016-04-01 03:44:25  \n",
       "119099  2016-04-07 13:15:48  "
      ]
     },
     "execution_count": 9,
     "metadata": {},
     "output_type": "execute_result"
    }
   ],
   "source": [
    "df.columns = df.columns.str.replace('(?!^)([A-Z])', r'_\\1').str.lower()\n",
    "df.sample(5)\n"
   ]
  },
  {
   "cell_type": "markdown",
   "metadata": {},
   "source": [
    "#### Посмотрим когда была создана последняя анкета.  "
   ]
  },
  {
   "cell_type": "code",
   "execution_count": 10,
   "metadata": {},
   "outputs": [
    {
     "data": {
      "text/html": [
       "<div>\n",
       "<style scoped>\n",
       "    .dataframe tbody tr th:only-of-type {\n",
       "        vertical-align: middle;\n",
       "    }\n",
       "\n",
       "    .dataframe tbody tr th {\n",
       "        vertical-align: top;\n",
       "    }\n",
       "\n",
       "    .dataframe thead th {\n",
       "        text-align: right;\n",
       "    }\n",
       "</style>\n",
       "<table border=\"1\" class=\"dataframe\">\n",
       "  <thead>\n",
       "    <tr style=\"text-align: right;\">\n",
       "      <th></th>\n",
       "      <th>date_crawled</th>\n",
       "      <th>price</th>\n",
       "      <th>vehicle_type</th>\n",
       "      <th>registration_year</th>\n",
       "      <th>gearbox</th>\n",
       "      <th>power</th>\n",
       "      <th>model</th>\n",
       "      <th>kilometer</th>\n",
       "      <th>registration_month</th>\n",
       "      <th>fuel_type</th>\n",
       "      <th>brand</th>\n",
       "      <th>repaired</th>\n",
       "      <th>date_created</th>\n",
       "      <th>number_of_pictures</th>\n",
       "      <th>postal_code</th>\n",
       "      <th>last_seen</th>\n",
       "    </tr>\n",
       "  </thead>\n",
       "  <tbody>\n",
       "    <tr>\n",
       "      <th>335002</th>\n",
       "      <td>2016-04-07 10:36:17</td>\n",
       "      <td>1500</td>\n",
       "      <td>sedan</td>\n",
       "      <td>1995</td>\n",
       "      <td>auto</td>\n",
       "      <td>101</td>\n",
       "      <td>a4</td>\n",
       "      <td>100000</td>\n",
       "      <td>9</td>\n",
       "      <td>petrol</td>\n",
       "      <td>audi</td>\n",
       "      <td>no</td>\n",
       "      <td>2016-04-07 00:00:00</td>\n",
       "      <td>0</td>\n",
       "      <td>73463</td>\n",
       "      <td>2016-04-07 10:36:17</td>\n",
       "    </tr>\n",
       "    <tr>\n",
       "      <th>124667</th>\n",
       "      <td>2016-04-07 03:36:36</td>\n",
       "      <td>15990</td>\n",
       "      <td>suv</td>\n",
       "      <td>2006</td>\n",
       "      <td>auto</td>\n",
       "      <td>232</td>\n",
       "      <td>q7</td>\n",
       "      <td>150000</td>\n",
       "      <td>6</td>\n",
       "      <td>gasoline</td>\n",
       "      <td>audi</td>\n",
       "      <td>yes</td>\n",
       "      <td>2016-04-07 00:00:00</td>\n",
       "      <td>0</td>\n",
       "      <td>82008</td>\n",
       "      <td>2016-04-07 03:36:36</td>\n",
       "    </tr>\n",
       "    <tr>\n",
       "      <th>38676</th>\n",
       "      <td>2016-04-07 11:25:37</td>\n",
       "      <td>0</td>\n",
       "      <td>NaN</td>\n",
       "      <td>1970</td>\n",
       "      <td>NaN</td>\n",
       "      <td>0</td>\n",
       "      <td>NaN</td>\n",
       "      <td>100000</td>\n",
       "      <td>0</td>\n",
       "      <td>NaN</td>\n",
       "      <td>volkswagen</td>\n",
       "      <td>NaN</td>\n",
       "      <td>2016-04-07 00:00:00</td>\n",
       "      <td>0</td>\n",
       "      <td>35753</td>\n",
       "      <td>2016-04-07 12:06:18</td>\n",
       "    </tr>\n",
       "    <tr>\n",
       "      <th>214934</th>\n",
       "      <td>2016-04-07 00:36:35</td>\n",
       "      <td>13899</td>\n",
       "      <td>suv</td>\n",
       "      <td>2010</td>\n",
       "      <td>auto</td>\n",
       "      <td>218</td>\n",
       "      <td>x_reihe</td>\n",
       "      <td>150000</td>\n",
       "      <td>2</td>\n",
       "      <td>gasoline</td>\n",
       "      <td>bmw</td>\n",
       "      <td>no</td>\n",
       "      <td>2016-04-07 00:00:00</td>\n",
       "      <td>0</td>\n",
       "      <td>65479</td>\n",
       "      <td>2016-04-07 07:25:17</td>\n",
       "    </tr>\n",
       "    <tr>\n",
       "      <th>316998</th>\n",
       "      <td>2016-04-07 12:36:21</td>\n",
       "      <td>16950</td>\n",
       "      <td>sedan</td>\n",
       "      <td>2012</td>\n",
       "      <td>manual</td>\n",
       "      <td>143</td>\n",
       "      <td>1er</td>\n",
       "      <td>80000</td>\n",
       "      <td>10</td>\n",
       "      <td>gasoline</td>\n",
       "      <td>bmw</td>\n",
       "      <td>no</td>\n",
       "      <td>2016-04-07 00:00:00</td>\n",
       "      <td>0</td>\n",
       "      <td>92421</td>\n",
       "      <td>2016-04-07 12:36:21</td>\n",
       "    </tr>\n",
       "    <tr>\n",
       "      <th>...</th>\n",
       "      <td>...</td>\n",
       "      <td>...</td>\n",
       "      <td>...</td>\n",
       "      <td>...</td>\n",
       "      <td>...</td>\n",
       "      <td>...</td>\n",
       "      <td>...</td>\n",
       "      <td>...</td>\n",
       "      <td>...</td>\n",
       "      <td>...</td>\n",
       "      <td>...</td>\n",
       "      <td>...</td>\n",
       "      <td>...</td>\n",
       "      <td>...</td>\n",
       "      <td>...</td>\n",
       "      <td>...</td>\n",
       "    </tr>\n",
       "    <tr>\n",
       "      <th>175103</th>\n",
       "      <td>2016-03-08 17:57:45</td>\n",
       "      <td>5200</td>\n",
       "      <td>convertible</td>\n",
       "      <td>2006</td>\n",
       "      <td>manual</td>\n",
       "      <td>109</td>\n",
       "      <td>2_reihe</td>\n",
       "      <td>80000</td>\n",
       "      <td>11</td>\n",
       "      <td>petrol</td>\n",
       "      <td>peugeot</td>\n",
       "      <td>no</td>\n",
       "      <td>2015-08-10 00:00:00</td>\n",
       "      <td>0</td>\n",
       "      <td>26382</td>\n",
       "      <td>2016-04-05 20:46:54</td>\n",
       "    </tr>\n",
       "    <tr>\n",
       "      <th>86601</th>\n",
       "      <td>2016-04-02 19:47:40</td>\n",
       "      <td>14250</td>\n",
       "      <td>convertible</td>\n",
       "      <td>2005</td>\n",
       "      <td>manual</td>\n",
       "      <td>163</td>\n",
       "      <td>slk</td>\n",
       "      <td>150000</td>\n",
       "      <td>6</td>\n",
       "      <td>petrol</td>\n",
       "      <td>mercedes_benz</td>\n",
       "      <td>no</td>\n",
       "      <td>2015-08-07 00:00:00</td>\n",
       "      <td>0</td>\n",
       "      <td>76228</td>\n",
       "      <td>2016-04-07 09:15:23</td>\n",
       "    </tr>\n",
       "    <tr>\n",
       "      <th>342275</th>\n",
       "      <td>2016-03-05 21:44:26</td>\n",
       "      <td>10400</td>\n",
       "      <td>bus</td>\n",
       "      <td>1993</td>\n",
       "      <td>NaN</td>\n",
       "      <td>0</td>\n",
       "      <td>ducato</td>\n",
       "      <td>30000</td>\n",
       "      <td>1</td>\n",
       "      <td>gasoline</td>\n",
       "      <td>fiat</td>\n",
       "      <td>NaN</td>\n",
       "      <td>2015-06-18 00:00:00</td>\n",
       "      <td>0</td>\n",
       "      <td>76275</td>\n",
       "      <td>2016-04-05 17:46:09</td>\n",
       "    </tr>\n",
       "    <tr>\n",
       "      <th>4001</th>\n",
       "      <td>2016-03-23 14:42:46</td>\n",
       "      <td>6000</td>\n",
       "      <td>bus</td>\n",
       "      <td>1995</td>\n",
       "      <td>auto</td>\n",
       "      <td>200</td>\n",
       "      <td>other</td>\n",
       "      <td>150000</td>\n",
       "      <td>0</td>\n",
       "      <td>petrol</td>\n",
       "      <td>chevrolet</td>\n",
       "      <td>no</td>\n",
       "      <td>2015-03-20 00:00:00</td>\n",
       "      <td>0</td>\n",
       "      <td>24558</td>\n",
       "      <td>2016-04-07 03:45:01</td>\n",
       "    </tr>\n",
       "    <tr>\n",
       "      <th>61207</th>\n",
       "      <td>2016-03-16 11:48:06</td>\n",
       "      <td>8999</td>\n",
       "      <td>NaN</td>\n",
       "      <td>2005</td>\n",
       "      <td>NaN</td>\n",
       "      <td>0</td>\n",
       "      <td>147</td>\n",
       "      <td>125000</td>\n",
       "      <td>0</td>\n",
       "      <td>petrol</td>\n",
       "      <td>alfa_romeo</td>\n",
       "      <td>NaN</td>\n",
       "      <td>2014-03-10 00:00:00</td>\n",
       "      <td>0</td>\n",
       "      <td>79669</td>\n",
       "      <td>2016-04-07 04:46:24</td>\n",
       "    </tr>\n",
       "  </tbody>\n",
       "</table>\n",
       "<p>354365 rows × 16 columns</p>\n",
       "</div>"
      ],
      "text/plain": [
       "               date_crawled  price vehicle_type  registration_year gearbox  \\\n",
       "335002  2016-04-07 10:36:17   1500        sedan               1995    auto   \n",
       "124667  2016-04-07 03:36:36  15990          suv               2006    auto   \n",
       "38676   2016-04-07 11:25:37      0          NaN               1970     NaN   \n",
       "214934  2016-04-07 00:36:35  13899          suv               2010    auto   \n",
       "316998  2016-04-07 12:36:21  16950        sedan               2012  manual   \n",
       "...                     ...    ...          ...                ...     ...   \n",
       "175103  2016-03-08 17:57:45   5200  convertible               2006  manual   \n",
       "86601   2016-04-02 19:47:40  14250  convertible               2005  manual   \n",
       "342275  2016-03-05 21:44:26  10400          bus               1993     NaN   \n",
       "4001    2016-03-23 14:42:46   6000          bus               1995    auto   \n",
       "61207   2016-03-16 11:48:06   8999          NaN               2005     NaN   \n",
       "\n",
       "        power    model  kilometer  registration_month fuel_type  \\\n",
       "335002    101       a4     100000                   9    petrol   \n",
       "124667    232       q7     150000                   6  gasoline   \n",
       "38676       0      NaN     100000                   0       NaN   \n",
       "214934    218  x_reihe     150000                   2  gasoline   \n",
       "316998    143      1er      80000                  10  gasoline   \n",
       "...       ...      ...        ...                 ...       ...   \n",
       "175103    109  2_reihe      80000                  11    petrol   \n",
       "86601     163      slk     150000                   6    petrol   \n",
       "342275      0   ducato      30000                   1  gasoline   \n",
       "4001      200    other     150000                   0    petrol   \n",
       "61207       0      147     125000                   0    petrol   \n",
       "\n",
       "                brand repaired         date_created  number_of_pictures  \\\n",
       "335002           audi       no  2016-04-07 00:00:00                   0   \n",
       "124667           audi      yes  2016-04-07 00:00:00                   0   \n",
       "38676      volkswagen      NaN  2016-04-07 00:00:00                   0   \n",
       "214934            bmw       no  2016-04-07 00:00:00                   0   \n",
       "316998            bmw       no  2016-04-07 00:00:00                   0   \n",
       "...               ...      ...                  ...                 ...   \n",
       "175103        peugeot       no  2015-08-10 00:00:00                   0   \n",
       "86601   mercedes_benz       no  2015-08-07 00:00:00                   0   \n",
       "342275           fiat      NaN  2015-06-18 00:00:00                   0   \n",
       "4001        chevrolet       no  2015-03-20 00:00:00                   0   \n",
       "61207      alfa_romeo      NaN  2014-03-10 00:00:00                   0   \n",
       "\n",
       "        postal_code            last_seen  \n",
       "335002        73463  2016-04-07 10:36:17  \n",
       "124667        82008  2016-04-07 03:36:36  \n",
       "38676         35753  2016-04-07 12:06:18  \n",
       "214934        65479  2016-04-07 07:25:17  \n",
       "316998        92421  2016-04-07 12:36:21  \n",
       "...             ...                  ...  \n",
       "175103        26382  2016-04-05 20:46:54  \n",
       "86601         76228  2016-04-07 09:15:23  \n",
       "342275        76275  2016-04-05 17:46:09  \n",
       "4001          24558  2016-04-07 03:45:01  \n",
       "61207         79669  2016-04-07 04:46:24  \n",
       "\n",
       "[354365 rows x 16 columns]"
      ]
     },
     "execution_count": 10,
     "metadata": {},
     "output_type": "execute_result"
    }
   ],
   "source": [
    "df.sort_values(by='date_created', ascending=False)"
   ]
  },
  {
   "cell_type": "markdown",
   "metadata": {},
   "source": [
    "#### Удалим столбцы не представляющие интереса для дальнейшего исследования."
   ]
  },
  {
   "cell_type": "code",
   "execution_count": 11,
   "metadata": {},
   "outputs": [
    {
     "data": {
      "text/html": [
       "<div>\n",
       "<style scoped>\n",
       "    .dataframe tbody tr th:only-of-type {\n",
       "        vertical-align: middle;\n",
       "    }\n",
       "\n",
       "    .dataframe tbody tr th {\n",
       "        vertical-align: top;\n",
       "    }\n",
       "\n",
       "    .dataframe thead th {\n",
       "        text-align: right;\n",
       "    }\n",
       "</style>\n",
       "<table border=\"1\" class=\"dataframe\">\n",
       "  <thead>\n",
       "    <tr style=\"text-align: right;\">\n",
       "      <th></th>\n",
       "      <th>price</th>\n",
       "      <th>vehicle_type</th>\n",
       "      <th>registration_year</th>\n",
       "      <th>gearbox</th>\n",
       "      <th>power</th>\n",
       "      <th>model</th>\n",
       "      <th>kilometer</th>\n",
       "      <th>fuel_type</th>\n",
       "      <th>brand</th>\n",
       "      <th>repaired</th>\n",
       "    </tr>\n",
       "  </thead>\n",
       "  <tbody>\n",
       "    <tr>\n",
       "      <th>132840</th>\n",
       "      <td>5000</td>\n",
       "      <td>convertible</td>\n",
       "      <td>2002</td>\n",
       "      <td>auto</td>\n",
       "      <td>163</td>\n",
       "      <td>slk</td>\n",
       "      <td>150000</td>\n",
       "      <td>petrol</td>\n",
       "      <td>mercedes_benz</td>\n",
       "      <td>no</td>\n",
       "    </tr>\n",
       "    <tr>\n",
       "      <th>338608</th>\n",
       "      <td>650</td>\n",
       "      <td>small</td>\n",
       "      <td>1996</td>\n",
       "      <td>manual</td>\n",
       "      <td>60</td>\n",
       "      <td>corsa</td>\n",
       "      <td>150000</td>\n",
       "      <td>petrol</td>\n",
       "      <td>opel</td>\n",
       "      <td>yes</td>\n",
       "    </tr>\n",
       "    <tr>\n",
       "      <th>126991</th>\n",
       "      <td>6700</td>\n",
       "      <td>small</td>\n",
       "      <td>2011</td>\n",
       "      <td>manual</td>\n",
       "      <td>69</td>\n",
       "      <td>ibiza</td>\n",
       "      <td>70000</td>\n",
       "      <td>petrol</td>\n",
       "      <td>seat</td>\n",
       "      <td>no</td>\n",
       "    </tr>\n",
       "    <tr>\n",
       "      <th>182240</th>\n",
       "      <td>4700</td>\n",
       "      <td>sedan</td>\n",
       "      <td>2010</td>\n",
       "      <td>manual</td>\n",
       "      <td>95</td>\n",
       "      <td>colt</td>\n",
       "      <td>90000</td>\n",
       "      <td>petrol</td>\n",
       "      <td>mitsubishi</td>\n",
       "      <td>no</td>\n",
       "    </tr>\n",
       "    <tr>\n",
       "      <th>155875</th>\n",
       "      <td>990</td>\n",
       "      <td>sedan</td>\n",
       "      <td>1995</td>\n",
       "      <td>manual</td>\n",
       "      <td>116</td>\n",
       "      <td>6_reihe</td>\n",
       "      <td>150000</td>\n",
       "      <td>petrol</td>\n",
       "      <td>mazda</td>\n",
       "      <td>no</td>\n",
       "    </tr>\n",
       "  </tbody>\n",
       "</table>\n",
       "</div>"
      ],
      "text/plain": [
       "        price vehicle_type  registration_year gearbox  power    model  \\\n",
       "132840   5000  convertible               2002    auto    163      slk   \n",
       "338608    650        small               1996  manual     60    corsa   \n",
       "126991   6700        small               2011  manual     69    ibiza   \n",
       "182240   4700        sedan               2010  manual     95     colt   \n",
       "155875    990        sedan               1995  manual    116  6_reihe   \n",
       "\n",
       "        kilometer fuel_type          brand repaired  \n",
       "132840     150000    petrol  mercedes_benz       no  \n",
       "338608     150000    petrol           opel      yes  \n",
       "126991      70000    petrol           seat       no  \n",
       "182240      90000    petrol     mitsubishi       no  \n",
       "155875     150000    petrol          mazda       no  "
      ]
     },
     "execution_count": 11,
     "metadata": {},
     "output_type": "execute_result"
    }
   ],
   "source": [
    "df = df.drop(['date_crawled','registration_month', 'date_created', 'number_of_pictures', 'postal_code', 'last_seen'], axis=1)\n",
    "df.sample(5)"
   ]
  },
  {
   "cell_type": "markdown",
   "metadata": {},
   "source": [
    "#### Обработаем пропуски в данных. Заполним пропуски  значением \"unknown\"."
   ]
  },
  {
   "cell_type": "code",
   "execution_count": 12,
   "metadata": {},
   "outputs": [
    {
     "data": {
      "text/plain": [
       "sedan          91457\n",
       "small          79830\n",
       "wagon          65165\n",
       "bus            28775\n",
       "convertible    20203\n",
       "coupe          16161\n",
       "suv            11996\n",
       "other           3288\n",
       "Name: vehicle_type, dtype: int64"
      ]
     },
     "execution_count": 12,
     "metadata": {},
     "output_type": "execute_result"
    }
   ],
   "source": [
    "df.vehicle_type.value_counts() # уникальные значения, проверка на релевантность данных "
   ]
  },
  {
   "cell_type": "code",
   "execution_count": 13,
   "metadata": {},
   "outputs": [
    {
     "data": {
      "text/plain": [
       "sedan          91457\n",
       "small          79830\n",
       "wagon          65165\n",
       "unknown        37490\n",
       "bus            28775\n",
       "convertible    20203\n",
       "coupe          16161\n",
       "suv            11996\n",
       "other           3288\n",
       "Name: vehicle_type, dtype: int64"
      ]
     },
     "execution_count": 13,
     "metadata": {},
     "output_type": "execute_result"
    }
   ],
   "source": [
    "df.vehicle_type.fillna('unknown', inplace=True)\n",
    "df.vehicle_type.value_counts()"
   ]
  },
  {
   "cell_type": "code",
   "execution_count": 14,
   "metadata": {},
   "outputs": [
    {
     "data": {
      "text/plain": [
       "manual    268249\n",
       "auto       66283\n",
       "Name: gearbox, dtype: int64"
      ]
     },
     "execution_count": 14,
     "metadata": {},
     "output_type": "execute_result"
    }
   ],
   "source": [
    "df.gearbox.value_counts()"
   ]
  },
  {
   "cell_type": "code",
   "execution_count": 15,
   "metadata": {},
   "outputs": [
    {
     "data": {
      "text/plain": [
       "manual     268249\n",
       "auto        66283\n",
       "unknown     19833\n",
       "Name: gearbox, dtype: int64"
      ]
     },
     "execution_count": 15,
     "metadata": {},
     "output_type": "execute_result"
    }
   ],
   "source": [
    "df.gearbox.fillna('unknown', inplace=True)\n",
    "df.gearbox.value_counts()"
   ]
  },
  {
   "cell_type": "code",
   "execution_count": 16,
   "metadata": {},
   "outputs": [
    {
     "data": {
      "text/plain": [
       "petrol      216349\n",
       "gasoline     98719\n",
       "lpg           5310\n",
       "cng            565\n",
       "hybrid         233\n",
       "other          204\n",
       "electric        90\n",
       "Name: fuel_type, dtype: int64"
      ]
     },
     "execution_count": 16,
     "metadata": {},
     "output_type": "execute_result"
    }
   ],
   "source": [
    "df.fuel_type.value_counts()"
   ]
  },
  {
   "cell_type": "code",
   "execution_count": 17,
   "metadata": {},
   "outputs": [
    {
     "data": {
      "text/plain": [
       "petrol      315068\n",
       "unknown      32895\n",
       "lpg           5310\n",
       "cng            565\n",
       "hybrid         233\n",
       "other          204\n",
       "electric        90\n",
       "Name: fuel_type, dtype: int64"
      ]
     },
     "execution_count": 17,
     "metadata": {},
     "output_type": "execute_result"
    }
   ],
   "source": [
    "df['fuel_type'] = df['fuel_type'].replace(['gasoline'],'petrol') # переименуем gasoline в petrol, т.к. это одно и тоже топливо, \n",
    "                                                                 # разные названия для Европы и США\n",
    "df.fuel_type.fillna('unknown', inplace=True)\n",
    "df.fuel_type.value_counts()"
   ]
  },
  {
   "cell_type": "code",
   "execution_count": 18,
   "metadata": {},
   "outputs": [
    {
     "data": {
      "text/plain": [
       "no     247158\n",
       "yes     36053\n",
       "Name: repaired, dtype: int64"
      ]
     },
     "execution_count": 18,
     "metadata": {},
     "output_type": "execute_result"
    }
   ],
   "source": [
    "df.repaired.value_counts()"
   ]
  },
  {
   "cell_type": "code",
   "execution_count": 19,
   "metadata": {},
   "outputs": [
    {
     "data": {
      "text/plain": [
       "golf                  29232\n",
       "other                 24420\n",
       "3er                   19761\n",
       "polo                  13066\n",
       "corsa                 12570\n",
       "                      ...  \n",
       "i3                        8\n",
       "serie_3                   4\n",
       "rangerover                4\n",
       "range_rover_evoque        2\n",
       "serie_1                   2\n",
       "Name: model, Length: 250, dtype: int64"
      ]
     },
     "execution_count": 19,
     "metadata": {},
     "output_type": "execute_result"
    }
   ],
   "source": [
    "df.model.value_counts()"
   ]
  },
  {
   "cell_type": "code",
   "execution_count": 20,
   "metadata": {},
   "outputs": [
    {
     "data": {
      "text/plain": [
       "golf                  29232\n",
       "other                 24420\n",
       "3er                   19761\n",
       "unknown               19705\n",
       "polo                  13066\n",
       "                      ...  \n",
       "i3                        8\n",
       "serie_3                   4\n",
       "rangerover                4\n",
       "range_rover_evoque        2\n",
       "serie_1                   2\n",
       "Name: model, Length: 251, dtype: int64"
      ]
     },
     "execution_count": 20,
     "metadata": {},
     "output_type": "execute_result"
    }
   ],
   "source": [
    "df[['model', 'repaired']] = df[['model', 'repaired']].fillna('unknown')\n",
    "df.model.value_counts()"
   ]
  },
  {
   "cell_type": "markdown",
   "metadata": {},
   "source": [
    "#### Проверим наличие пропусков."
   ]
  },
  {
   "cell_type": "code",
   "execution_count": 21,
   "metadata": {},
   "outputs": [
    {
     "data": {
      "text/plain": [
       "price                0\n",
       "vehicle_type         0\n",
       "registration_year    0\n",
       "gearbox              0\n",
       "power                0\n",
       "model                0\n",
       "kilometer            0\n",
       "fuel_type            0\n",
       "brand                0\n",
       "repaired             0\n",
       "dtype: int64"
      ]
     },
     "execution_count": 21,
     "metadata": {},
     "output_type": "execute_result"
    }
   ],
   "source": [
    "df.isna().sum()"
   ]
  },
  {
   "cell_type": "markdown",
   "metadata": {},
   "source": [
    "#### Изучим распределение цен на авто."
   ]
  },
  {
   "cell_type": "code",
   "execution_count": 22,
   "metadata": {},
   "outputs": [
    {
     "name": "stdout",
     "output_type": "stream",
     "text": [
      "0        10772\n",
      "500       5670\n",
      "1500      5394\n",
      "1000      4648\n",
      "1200      4594\n",
      "         ...  \n",
      "1368         1\n",
      "233          1\n",
      "11080        1\n",
      "16340        1\n",
      "10985        1\n",
      "Name: price, Length: 3731, dtype: int64\n"
     ]
    },
    {
     "data": {
      "image/png": "[encoded data removed]",
      "text/plain": [
       "<Figure size 1200x800 with 1 Axes>"
      ]
     },
     "metadata": {},
     "output_type": "display_data"
    }
   ],
   "source": [
    "print(df.price.value_counts())\n",
    "\n",
    "plt.figure(figsize=(12, 8))\n",
    "sns.histplot(data=df, x='price', kde=True, bins=50)\n",
    "plt.title('Цена авто')\n",
    "plt.xlabel('Цена' )\n",
    "plt.ylabel('Колличество')\n",
    "plt.show()\n",
    "\n"
   ]
  },
  {
   "cell_type": "markdown",
   "metadata": {},
   "source": [
    "#### Считаю , что стоимость авто менее 100 евро  - это аномальные значения. Удалим строки с  ценой менее 100 евро.\n"
   ]
  },
  {
   "cell_type": "code",
   "execution_count": 23,
   "metadata": {},
   "outputs": [
    {
     "name": "stdout",
     "output_type": "stream",
     "text": [
      "        price vehicle_type  registration_year  gearbox  power     model  \\\n",
      "221816    101        small               1999   manual     60     corsa   \n",
      "154988    101      unknown               2016  unknown      0    escort   \n",
      "332022    101        small               2015   manual     86   i_reihe   \n",
      "90696     101        small               2015   manual     85   i_reihe   \n",
      "25683     105        wagon               1994   manual     60      golf   \n",
      "...       ...          ...                ...      ...    ...       ...   \n",
      "310494  20000        sedan               2008     auto    286   x_reihe   \n",
      "288348  20000        sedan               2013     auto    110      golf   \n",
      "83020   20000        sedan               1950   manual      0   unknown   \n",
      "285893  20000        sedan               2012  unknown    184       3er   \n",
      "262000  20000        sedan               2011     auto    265  c_klasse   \n",
      "\n",
      "        kilometer fuel_type           brand repaired  \n",
      "221816     150000    petrol            opel      yes  \n",
      "154988     150000   unknown            ford      yes  \n",
      "332022       5000    petrol         hyundai       no  \n",
      "90696        5000    petrol         hyundai       no  \n",
      "25683        5000   unknown      volkswagen  unknown  \n",
      "...           ...       ...             ...      ...  \n",
      "310494     150000    petrol             bmw      yes  \n",
      "288348      30000    petrol      volkswagen       no  \n",
      "83020        5000    petrol  sonstige_autos  unknown  \n",
      "285893     100000    petrol             bmw       no  \n",
      "262000      50000    petrol   mercedes_benz       no  \n",
      "\n",
      "[340020 rows x 10 columns]\n"
     ]
    }
   ],
   "source": [
    "df = df.loc[df['price'] > 100]\n",
    "print(df.sort_values(by='price'))"
   ]
  },
  {
   "cell_type": "markdown",
   "metadata": {},
   "source": [
    "#### Изучим распределение данных по году выпуска автомобилей.   Возможно, что на торговой площадке продаются  и ретро автомобили. Однако, такие  раритетные автомобили имеют принципиально  другое ценообразование, поэтому  удалим все строки с датой выпуска автомобилей ранее 1970 года и  годом выпуска позднее 2016 года (год  последней заполненной анкеты)."
   ]
  },
  {
   "cell_type": "code",
   "execution_count": 24,
   "metadata": {},
   "outputs": [
    {
     "data": {
      "text/html": [
       "<div>\n",
       "<style scoped>\n",
       "    .dataframe tbody tr th:only-of-type {\n",
       "        vertical-align: middle;\n",
       "    }\n",
       "\n",
       "    .dataframe tbody tr th {\n",
       "        vertical-align: top;\n",
       "    }\n",
       "\n",
       "    .dataframe thead th {\n",
       "        text-align: right;\n",
       "    }\n",
       "</style>\n",
       "<table border=\"1\" class=\"dataframe\">\n",
       "  <thead>\n",
       "    <tr style=\"text-align: right;\">\n",
       "      <th></th>\n",
       "      <th>price</th>\n",
       "      <th>vehicle_type</th>\n",
       "      <th>registration_year</th>\n",
       "      <th>gearbox</th>\n",
       "      <th>power</th>\n",
       "      <th>model</th>\n",
       "      <th>kilometer</th>\n",
       "      <th>fuel_type</th>\n",
       "      <th>brand</th>\n",
       "      <th>repaired</th>\n",
       "    </tr>\n",
       "  </thead>\n",
       "  <tbody>\n",
       "    <tr>\n",
       "      <th>15</th>\n",
       "      <td>450</td>\n",
       "      <td>small</td>\n",
       "      <td>1910</td>\n",
       "      <td>unknown</td>\n",
       "      <td>0</td>\n",
       "      <td>ka</td>\n",
       "      <td>5000</td>\n",
       "      <td>petrol</td>\n",
       "      <td>ford</td>\n",
       "      <td>unknown</td>\n",
       "    </tr>\n",
       "    <tr>\n",
       "      <th>630</th>\n",
       "      <td>12000</td>\n",
       "      <td>sedan</td>\n",
       "      <td>1969</td>\n",
       "      <td>manual</td>\n",
       "      <td>140</td>\n",
       "      <td>s_klasse</td>\n",
       "      <td>80000</td>\n",
       "      <td>petrol</td>\n",
       "      <td>mercedes_benz</td>\n",
       "      <td>no</td>\n",
       "    </tr>\n",
       "    <tr>\n",
       "      <th>1794</th>\n",
       "      <td>12800</td>\n",
       "      <td>coupe</td>\n",
       "      <td>1965</td>\n",
       "      <td>manual</td>\n",
       "      <td>90</td>\n",
       "      <td>other</td>\n",
       "      <td>100000</td>\n",
       "      <td>petrol</td>\n",
       "      <td>ford</td>\n",
       "      <td>no</td>\n",
       "    </tr>\n",
       "    <tr>\n",
       "      <th>1928</th>\n",
       "      <td>7000</td>\n",
       "      <td>suv</td>\n",
       "      <td>1945</td>\n",
       "      <td>manual</td>\n",
       "      <td>48</td>\n",
       "      <td>other</td>\n",
       "      <td>150000</td>\n",
       "      <td>petrol</td>\n",
       "      <td>volkswagen</td>\n",
       "      <td>no</td>\n",
       "    </tr>\n",
       "    <tr>\n",
       "      <th>2262</th>\n",
       "      <td>6500</td>\n",
       "      <td>convertible</td>\n",
       "      <td>1965</td>\n",
       "      <td>auto</td>\n",
       "      <td>360</td>\n",
       "      <td>unknown</td>\n",
       "      <td>150000</td>\n",
       "      <td>petrol</td>\n",
       "      <td>sonstige_autos</td>\n",
       "      <td>unknown</td>\n",
       "    </tr>\n",
       "    <tr>\n",
       "      <th>...</th>\n",
       "      <td>...</td>\n",
       "      <td>...</td>\n",
       "      <td>...</td>\n",
       "      <td>...</td>\n",
       "      <td>...</td>\n",
       "      <td>...</td>\n",
       "      <td>...</td>\n",
       "      <td>...</td>\n",
       "      <td>...</td>\n",
       "      <td>...</td>\n",
       "    </tr>\n",
       "    <tr>\n",
       "      <th>353447</th>\n",
       "      <td>2900</td>\n",
       "      <td>small</td>\n",
       "      <td>1969</td>\n",
       "      <td>manual</td>\n",
       "      <td>18</td>\n",
       "      <td>500</td>\n",
       "      <td>5000</td>\n",
       "      <td>petrol</td>\n",
       "      <td>fiat</td>\n",
       "      <td>no</td>\n",
       "    </tr>\n",
       "    <tr>\n",
       "      <th>353531</th>\n",
       "      <td>6000</td>\n",
       "      <td>sedan</td>\n",
       "      <td>1937</td>\n",
       "      <td>manual</td>\n",
       "      <td>38</td>\n",
       "      <td>other</td>\n",
       "      <td>5000</td>\n",
       "      <td>petrol</td>\n",
       "      <td>mercedes_benz</td>\n",
       "      <td>unknown</td>\n",
       "    </tr>\n",
       "    <tr>\n",
       "      <th>353961</th>\n",
       "      <td>200</td>\n",
       "      <td>unknown</td>\n",
       "      <td>1910</td>\n",
       "      <td>unknown</td>\n",
       "      <td>0</td>\n",
       "      <td>unknown</td>\n",
       "      <td>5000</td>\n",
       "      <td>petrol</td>\n",
       "      <td>sonstige_autos</td>\n",
       "      <td>unknown</td>\n",
       "    </tr>\n",
       "    <tr>\n",
       "      <th>354037</th>\n",
       "      <td>10500</td>\n",
       "      <td>convertible</td>\n",
       "      <td>1968</td>\n",
       "      <td>manual</td>\n",
       "      <td>54</td>\n",
       "      <td>other</td>\n",
       "      <td>20000</td>\n",
       "      <td>unknown</td>\n",
       "      <td>renault</td>\n",
       "      <td>no</td>\n",
       "    </tr>\n",
       "    <tr>\n",
       "      <th>354316</th>\n",
       "      <td>3300</td>\n",
       "      <td>coupe</td>\n",
       "      <td>1957</td>\n",
       "      <td>manual</td>\n",
       "      <td>40</td>\n",
       "      <td>other</td>\n",
       "      <td>100000</td>\n",
       "      <td>petrol</td>\n",
       "      <td>trabant</td>\n",
       "      <td>no</td>\n",
       "    </tr>\n",
       "  </tbody>\n",
       "</table>\n",
       "<p>1111 rows × 10 columns</p>\n",
       "</div>"
      ],
      "text/plain": [
       "        price vehicle_type  registration_year  gearbox  power     model  \\\n",
       "15        450        small               1910  unknown      0        ka   \n",
       "630     12000        sedan               1969   manual    140  s_klasse   \n",
       "1794    12800        coupe               1965   manual     90     other   \n",
       "1928     7000          suv               1945   manual     48     other   \n",
       "2262     6500  convertible               1965     auto    360   unknown   \n",
       "...       ...          ...                ...      ...    ...       ...   \n",
       "353447   2900        small               1969   manual     18       500   \n",
       "353531   6000        sedan               1937   manual     38     other   \n",
       "353961    200      unknown               1910  unknown      0   unknown   \n",
       "354037  10500  convertible               1968   manual     54     other   \n",
       "354316   3300        coupe               1957   manual     40     other   \n",
       "\n",
       "        kilometer fuel_type           brand repaired  \n",
       "15           5000    petrol            ford  unknown  \n",
       "630         80000    petrol   mercedes_benz       no  \n",
       "1794       100000    petrol            ford       no  \n",
       "1928       150000    petrol      volkswagen       no  \n",
       "2262       150000    petrol  sonstige_autos  unknown  \n",
       "...           ...       ...             ...      ...  \n",
       "353447       5000    petrol            fiat       no  \n",
       "353531       5000    petrol   mercedes_benz  unknown  \n",
       "353961       5000    petrol  sonstige_autos  unknown  \n",
       "354037      20000   unknown         renault       no  \n",
       "354316     100000    petrol         trabant       no  \n",
       "\n",
       "[1111 rows x 10 columns]"
      ]
     },
     "execution_count": 24,
     "metadata": {},
     "output_type": "execute_result"
    }
   ],
   "source": [
    "df.loc[(df['registration_year'] < 1970)]"
   ]
  },
  {
   "cell_type": "code",
   "execution_count": 25,
   "metadata": {},
   "outputs": [
    {
     "data": {
      "image/png": "[encoded data removed]",
      "text/plain": [
       "<Figure size 1200x800 with 1 Axes>"
      ]
     },
     "metadata": {},
     "output_type": "display_data"
    }
   ],
   "source": [
    "df = df.loc[(df['registration_year'] >= 1970) & (df['registration_year'] <= 2016)]\n",
    "plt.figure(figsize=(12, 8))\n",
    "sns.histplot(data=df, x='registration_year', kde=True, bins=50)\n",
    "plt.title('Год выпуска авто')\n",
    "plt.xlabel('Год выпуска' )\n",
    "plt.ylabel('Колличество')\n",
    "plt.show()"
   ]
  },
  {
   "cell_type": "markdown",
   "metadata": {},
   "source": [
    "#### Изучим распределение данных по мощности автомобилей.   Автомобили с мощностью двигатеоя  более 600 л. сил - это суперкары. Суперкары  так же как и  ретро автомобили имеют   ценообразование отличное от  ценообразования серийных автомобилий. Поэтому  мы будем рассматривать автомобили с мощностью двигателя менее 600 л. сил. "
   ]
  },
  {
   "cell_type": "code",
   "execution_count": 26,
   "metadata": {
    "scrolled": false
   },
   "outputs": [
    {
     "data": {
      "image/png": "[encoded data removed]",
      "text/plain": [
       "<Figure size 1200x800 with 1 Axes>"
      ]
     },
     "metadata": {},
     "output_type": "display_data"
    }
   ],
   "source": [
    "df = df.loc[df['power'] <= 600 ]\n",
    "plt.figure(figsize=(12, 8))\n",
    "sns.histplot(data=df, x='power', kde=True, bins=50)\n",
    "plt.title('Мощность автомобиля')\n",
    "plt.xlabel('Мощность автомобиля')\n",
    "plt.ylabel('Колличество')\n",
    "plt.show()"
   ]
  },
  {
   "cell_type": "markdown",
   "metadata": {},
   "source": [
    "#### На графике присутсвует наличие выброса в районе 0. Возможно это автомобиль в разборе и не имеет двигателя на данный момент. Проверим наше предположение."
   ]
  },
  {
   "cell_type": "code",
   "execution_count": 27,
   "metadata": {},
   "outputs": [
    {
     "name": "stdout",
     "output_type": "stream",
     "text": [
      "Количество автомобилей  с нулевой  мощностью 30851\n",
      "Количество автомобилей  с нулевой  мощностью и побывавщих в ремонте 3676\n"
     ]
    }
   ],
   "source": [
    "print('Количество автомобилей  с нулевой  мощностью', + len(df.loc[df['power'] == 0]))\n",
    "print('Количество автомобилей  с нулевой  мощностью и побывавщих в ремонте', + len(df.loc[(df['power'] == 0) & (df['repaired'] == 'yes')]))"
   ]
  },
  {
   "cell_type": "code",
   "execution_count": 28,
   "metadata": {},
   "outputs": [],
   "source": [
    "#заполним  нулевые значения мощности  медианным значением по бренду авто\n",
    "df['power'] = df.groupby('brand')['power'].transform(lambda x: x.replace(0, x.median()))"
   ]
  },
  {
   "cell_type": "code",
   "execution_count": 29,
   "metadata": {},
   "outputs": [
    {
     "data": {
      "text/html": [
       "<div>\n",
       "<style scoped>\n",
       "    .dataframe tbody tr th:only-of-type {\n",
       "        vertical-align: middle;\n",
       "    }\n",
       "\n",
       "    .dataframe tbody tr th {\n",
       "        vertical-align: top;\n",
       "    }\n",
       "\n",
       "    .dataframe thead th {\n",
       "        text-align: right;\n",
       "    }\n",
       "</style>\n",
       "<table border=\"1\" class=\"dataframe\">\n",
       "  <thead>\n",
       "    <tr style=\"text-align: right;\">\n",
       "      <th></th>\n",
       "      <th>price</th>\n",
       "      <th>vehicle_type</th>\n",
       "      <th>registration_year</th>\n",
       "      <th>gearbox</th>\n",
       "      <th>power</th>\n",
       "      <th>model</th>\n",
       "      <th>kilometer</th>\n",
       "      <th>fuel_type</th>\n",
       "      <th>brand</th>\n",
       "      <th>repaired</th>\n",
       "    </tr>\n",
       "  </thead>\n",
       "  <tbody>\n",
       "    <tr>\n",
       "      <th>161180</th>\n",
       "      <td>1750</td>\n",
       "      <td>small</td>\n",
       "      <td>2002</td>\n",
       "      <td>manual</td>\n",
       "      <td>58.0</td>\n",
       "      <td>twingo</td>\n",
       "      <td>150000</td>\n",
       "      <td>petrol</td>\n",
       "      <td>renault</td>\n",
       "      <td>no</td>\n",
       "    </tr>\n",
       "    <tr>\n",
       "      <th>84274</th>\n",
       "      <td>1100</td>\n",
       "      <td>unknown</td>\n",
       "      <td>1995</td>\n",
       "      <td>unknown</td>\n",
       "      <td>143.0</td>\n",
       "      <td>100</td>\n",
       "      <td>150000</td>\n",
       "      <td>unknown</td>\n",
       "      <td>audi</td>\n",
       "      <td>unknown</td>\n",
       "    </tr>\n",
       "    <tr>\n",
       "      <th>2143</th>\n",
       "      <td>5000</td>\n",
       "      <td>coupe</td>\n",
       "      <td>2000</td>\n",
       "      <td>auto</td>\n",
       "      <td>306.0</td>\n",
       "      <td>cl</td>\n",
       "      <td>150000</td>\n",
       "      <td>lpg</td>\n",
       "      <td>mercedes_benz</td>\n",
       "      <td>no</td>\n",
       "    </tr>\n",
       "    <tr>\n",
       "      <th>77996</th>\n",
       "      <td>600</td>\n",
       "      <td>sedan</td>\n",
       "      <td>1997</td>\n",
       "      <td>manual</td>\n",
       "      <td>73.0</td>\n",
       "      <td>3_reihe</td>\n",
       "      <td>150000</td>\n",
       "      <td>petrol</td>\n",
       "      <td>mazda</td>\n",
       "      <td>no</td>\n",
       "    </tr>\n",
       "    <tr>\n",
       "      <th>344700</th>\n",
       "      <td>4190</td>\n",
       "      <td>small</td>\n",
       "      <td>2012</td>\n",
       "      <td>manual</td>\n",
       "      <td>69.0</td>\n",
       "      <td>punto</td>\n",
       "      <td>100000</td>\n",
       "      <td>petrol</td>\n",
       "      <td>fiat</td>\n",
       "      <td>no</td>\n",
       "    </tr>\n",
       "  </tbody>\n",
       "</table>\n",
       "</div>"
      ],
      "text/plain": [
       "        price vehicle_type  registration_year  gearbox  power    model  \\\n",
       "161180   1750        small               2002   manual   58.0   twingo   \n",
       "84274    1100      unknown               1995  unknown  143.0      100   \n",
       "2143     5000        coupe               2000     auto  306.0       cl   \n",
       "77996     600        sedan               1997   manual   73.0  3_reihe   \n",
       "344700   4190        small               2012   manual   69.0    punto   \n",
       "\n",
       "        kilometer fuel_type          brand repaired  \n",
       "161180     150000    petrol        renault       no  \n",
       "84274      150000   unknown           audi  unknown  \n",
       "2143       150000       lpg  mercedes_benz       no  \n",
       "77996      150000    petrol          mazda       no  \n",
       "344700     100000    petrol           fiat       no  "
      ]
     },
     "execution_count": 29,
     "metadata": {},
     "output_type": "execute_result"
    }
   ],
   "source": [
    "df.sample(5)"
   ]
  },
  {
   "cell_type": "markdown",
   "metadata": {},
   "source": [
    "#### Очевидно, что наше предположение неверно. Т.к. мы рассматриваем  автомобили, выпущенные после 1970 года, то будем рассматривать авто с мощностью двигателя более 30 лош. сил. "
   ]
  },
  {
   "cell_type": "code",
   "execution_count": 30,
   "metadata": {},
   "outputs": [
    {
     "data": {
      "image/png": "[encoded data removed]",
      "text/plain": [
       "<Figure size 1200x800 with 1 Axes>"
      ]
     },
     "metadata": {},
     "output_type": "display_data"
    }
   ],
   "source": [
    "df = df.loc[df['power'] > 30 ]\n",
    "plt.figure(figsize=(12, 8))\n",
    "sns.histplot(data=df, x='power', kde=True, bins=50)\n",
    "plt.title('Мощность автомобиля')\n",
    "plt.xlabel('Мощность автомобиля')\n",
    "plt.ylabel('Колличество')\n",
    "plt.show()"
   ]
  },
  {
   "cell_type": "code",
   "execution_count": 31,
   "metadata": {},
   "outputs": [
    {
     "name": "stdout",
     "output_type": "stream",
     "text": [
      "<class 'pandas.core.frame.DataFrame'>\n",
      "Int64Index: 324037 entries, 0 to 354368\n",
      "Data columns (total 10 columns):\n",
      " #   Column             Non-Null Count   Dtype  \n",
      "---  ------             --------------   -----  \n",
      " 0   price              324037 non-null  int64  \n",
      " 1   vehicle_type       324037 non-null  object \n",
      " 2   registration_year  324037 non-null  int64  \n",
      " 3   gearbox            324037 non-null  object \n",
      " 4   power              324037 non-null  float64\n",
      " 5   model              324037 non-null  object \n",
      " 6   kilometer          324037 non-null  int64  \n",
      " 7   fuel_type          324037 non-null  object \n",
      " 8   brand              324037 non-null  object \n",
      " 9   repaired           324037 non-null  object \n",
      "dtypes: float64(1), int64(3), object(6)\n",
      "memory usage: 27.2+ MB\n"
     ]
    }
   ],
   "source": [
    "df.info()"
   ]
  },
  {
   "cell_type": "code",
   "execution_count": 32,
   "metadata": {},
   "outputs": [
    {
     "data": {
      "text/plain": [
       "43084"
      ]
     },
     "execution_count": 32,
     "metadata": {},
     "output_type": "execute_result"
    }
   ],
   "source": [
    "df.duplicated().sum()\n"
   ]
  },
  {
   "cell_type": "code",
   "execution_count": 33,
   "metadata": {},
   "outputs": [
    {
     "name": "stdout",
     "output_type": "stream",
     "text": [
      "0\n"
     ]
    },
    {
     "data": {
      "text/html": [
       "<div>\n",
       "<style scoped>\n",
       "    .dataframe tbody tr th:only-of-type {\n",
       "        vertical-align: middle;\n",
       "    }\n",
       "\n",
       "    .dataframe tbody tr th {\n",
       "        vertical-align: top;\n",
       "    }\n",
       "\n",
       "    .dataframe thead th {\n",
       "        text-align: right;\n",
       "    }\n",
       "</style>\n",
       "<table border=\"1\" class=\"dataframe\">\n",
       "  <thead>\n",
       "    <tr style=\"text-align: right;\">\n",
       "      <th></th>\n",
       "      <th>price</th>\n",
       "      <th>vehicle_type</th>\n",
       "      <th>registration_year</th>\n",
       "      <th>gearbox</th>\n",
       "      <th>power</th>\n",
       "      <th>model</th>\n",
       "      <th>kilometer</th>\n",
       "      <th>fuel_type</th>\n",
       "      <th>brand</th>\n",
       "      <th>repaired</th>\n",
       "    </tr>\n",
       "  </thead>\n",
       "  <tbody>\n",
       "    <tr>\n",
       "      <th>210854</th>\n",
       "      <td>4450</td>\n",
       "      <td>wagon</td>\n",
       "      <td>2003</td>\n",
       "      <td>manual</td>\n",
       "      <td>116.0</td>\n",
       "      <td>avensis</td>\n",
       "      <td>150000</td>\n",
       "      <td>petrol</td>\n",
       "      <td>toyota</td>\n",
       "      <td>no</td>\n",
       "    </tr>\n",
       "    <tr>\n",
       "      <th>65606</th>\n",
       "      <td>2450</td>\n",
       "      <td>unknown</td>\n",
       "      <td>2016</td>\n",
       "      <td>manual</td>\n",
       "      <td>90.0</td>\n",
       "      <td>golf</td>\n",
       "      <td>150000</td>\n",
       "      <td>petrol</td>\n",
       "      <td>volkswagen</td>\n",
       "      <td>no</td>\n",
       "    </tr>\n",
       "    <tr>\n",
       "      <th>156564</th>\n",
       "      <td>999</td>\n",
       "      <td>bus</td>\n",
       "      <td>1999</td>\n",
       "      <td>manual</td>\n",
       "      <td>101.0</td>\n",
       "      <td>zafira</td>\n",
       "      <td>150000</td>\n",
       "      <td>petrol</td>\n",
       "      <td>opel</td>\n",
       "      <td>unknown</td>\n",
       "    </tr>\n",
       "    <tr>\n",
       "      <th>146812</th>\n",
       "      <td>700</td>\n",
       "      <td>sedan</td>\n",
       "      <td>1990</td>\n",
       "      <td>manual</td>\n",
       "      <td>110.0</td>\n",
       "      <td>3er</td>\n",
       "      <td>150000</td>\n",
       "      <td>petrol</td>\n",
       "      <td>bmw</td>\n",
       "      <td>yes</td>\n",
       "    </tr>\n",
       "    <tr>\n",
       "      <th>158387</th>\n",
       "      <td>480</td>\n",
       "      <td>small</td>\n",
       "      <td>1992</td>\n",
       "      <td>manual</td>\n",
       "      <td>90.0</td>\n",
       "      <td>corsa</td>\n",
       "      <td>125000</td>\n",
       "      <td>petrol</td>\n",
       "      <td>opel</td>\n",
       "      <td>unknown</td>\n",
       "    </tr>\n",
       "  </tbody>\n",
       "</table>\n",
       "</div>"
      ],
      "text/plain": [
       "        price vehicle_type  registration_year gearbox  power    model  \\\n",
       "210854   4450        wagon               2003  manual  116.0  avensis   \n",
       "65606    2450      unknown               2016  manual   90.0     golf   \n",
       "156564    999          bus               1999  manual  101.0   zafira   \n",
       "146812    700        sedan               1990  manual  110.0      3er   \n",
       "158387    480        small               1992  manual   90.0    corsa   \n",
       "\n",
       "        kilometer fuel_type       brand repaired  \n",
       "210854     150000    petrol      toyota       no  \n",
       "65606      150000    petrol  volkswagen       no  \n",
       "156564     150000    petrol        opel  unknown  \n",
       "146812     150000    petrol         bmw      yes  \n",
       "158387     125000    petrol        opel  unknown  "
      ]
     },
     "execution_count": 33,
     "metadata": {},
     "output_type": "execute_result"
    }
   ],
   "source": [
    "df = df.drop_duplicates().reset_index(drop=True)\n",
    "print(df.duplicated().sum())\n",
    "df.sample(5)"
   ]
  },
  {
   "cell_type": "markdown",
   "metadata": {},
   "source": [
    "### Мы произвели предобработку данных\n",
    "\n",
    "1. Перевели названия столбцов в змеиный регистр.\n",
    "2. Удалили столбцы не представляющие интереса для исследования.\n",
    "3. Заполнили  пропуски в столбцах VehicleType, Gearbox, Model, FuelType, NotRepaired.\n",
    "4. Избавилисть от аномальных значений в столбцах RegistrationYear, Price, Power. \n",
    "5. Удалили дубликаты."
   ]
  },
  {
   "cell_type": "markdown",
   "metadata": {},
   "source": [
    "## Обучение моделей"
   ]
  },
  {
   "cell_type": "markdown",
   "metadata": {},
   "source": [
    "#### Разделим данные на обучающую и тестовую выборки. "
   ]
  },
  {
   "cell_type": "code",
   "execution_count": 34,
   "metadata": {},
   "outputs": [
    {
     "name": "stdout",
     "output_type": "stream",
     "text": [
      "(210714, 9)\n",
      "(70239, 9)\n"
     ]
    },
    {
     "data": {
      "text/html": [
       "<div>\n",
       "<style scoped>\n",
       "    .dataframe tbody tr th:only-of-type {\n",
       "        vertical-align: middle;\n",
       "    }\n",
       "\n",
       "    .dataframe tbody tr th {\n",
       "        vertical-align: top;\n",
       "    }\n",
       "\n",
       "    .dataframe thead th {\n",
       "        text-align: right;\n",
       "    }\n",
       "</style>\n",
       "<table border=\"1\" class=\"dataframe\">\n",
       "  <thead>\n",
       "    <tr style=\"text-align: right;\">\n",
       "      <th></th>\n",
       "      <th>vehicle_type</th>\n",
       "      <th>registration_year</th>\n",
       "      <th>gearbox</th>\n",
       "      <th>power</th>\n",
       "      <th>model</th>\n",
       "      <th>kilometer</th>\n",
       "      <th>fuel_type</th>\n",
       "      <th>brand</th>\n",
       "      <th>repaired</th>\n",
       "    </tr>\n",
       "  </thead>\n",
       "  <tbody>\n",
       "    <tr>\n",
       "      <th>193038</th>\n",
       "      <td>small</td>\n",
       "      <td>2002</td>\n",
       "      <td>manual</td>\n",
       "      <td>60.0</td>\n",
       "      <td>punto</td>\n",
       "      <td>150000</td>\n",
       "      <td>petrol</td>\n",
       "      <td>fiat</td>\n",
       "      <td>no</td>\n",
       "    </tr>\n",
       "  </tbody>\n",
       "</table>\n",
       "</div>"
      ],
      "text/plain": [
       "       vehicle_type  registration_year gearbox  power  model  kilometer  \\\n",
       "193038        small               2002  manual   60.0  punto     150000   \n",
       "\n",
       "       fuel_type brand repaired  \n",
       "193038    petrol  fiat       no  "
      ]
     },
     "metadata": {},
     "output_type": "display_data"
    },
    {
     "data": {
      "text/html": [
       "<div>\n",
       "<style scoped>\n",
       "    .dataframe tbody tr th:only-of-type {\n",
       "        vertical-align: middle;\n",
       "    }\n",
       "\n",
       "    .dataframe tbody tr th {\n",
       "        vertical-align: top;\n",
       "    }\n",
       "\n",
       "    .dataframe thead th {\n",
       "        text-align: right;\n",
       "    }\n",
       "</style>\n",
       "<table border=\"1\" class=\"dataframe\">\n",
       "  <thead>\n",
       "    <tr style=\"text-align: right;\">\n",
       "      <th></th>\n",
       "      <th>vehicle_type</th>\n",
       "      <th>registration_year</th>\n",
       "      <th>gearbox</th>\n",
       "      <th>power</th>\n",
       "      <th>model</th>\n",
       "      <th>kilometer</th>\n",
       "      <th>fuel_type</th>\n",
       "      <th>brand</th>\n",
       "      <th>repaired</th>\n",
       "    </tr>\n",
       "  </thead>\n",
       "  <tbody>\n",
       "    <tr>\n",
       "      <th>160561</th>\n",
       "      <td>unknown</td>\n",
       "      <td>1995</td>\n",
       "      <td>unknown</td>\n",
       "      <td>180.0</td>\n",
       "      <td>golf</td>\n",
       "      <td>150000</td>\n",
       "      <td>unknown</td>\n",
       "      <td>volkswagen</td>\n",
       "      <td>unknown</td>\n",
       "    </tr>\n",
       "  </tbody>\n",
       "</table>\n",
       "</div>"
      ],
      "text/plain": [
       "       vehicle_type  registration_year  gearbox  power model  kilometer  \\\n",
       "160561      unknown               1995  unknown  180.0  golf     150000   \n",
       "\n",
       "       fuel_type       brand repaired  \n",
       "160561   unknown  volkswagen  unknown  "
      ]
     },
     "metadata": {},
     "output_type": "display_data"
    }
   ],
   "source": [
    "features_train, features_test, target_train, target_test = train_test_split(\n",
    "    df.drop(['price'], axis=1), df['price'], test_size=0.25, random_state=12345)\n",
    "print(features_train.shape)\n",
    "print(features_test.shape)\n",
    "display(features_train.head(1))\n",
    "display(features_test.head(1))\n"
   ]
  },
  {
   "cell_type": "markdown",
   "metadata": {},
   "source": [
    "#### Преобразуем  категориальные признаки  в численные с помощью OneHotEncoder. Это необходимо для  линейных моделей."
   ]
  },
  {
   "cell_type": "code",
   "execution_count": 35,
   "metadata": {},
   "outputs": [
    {
     "data": {
      "text/html": [
       "<div>\n",
       "<style scoped>\n",
       "    .dataframe tbody tr th:only-of-type {\n",
       "        vertical-align: middle;\n",
       "    }\n",
       "\n",
       "    .dataframe tbody tr th {\n",
       "        vertical-align: top;\n",
       "    }\n",
       "\n",
       "    .dataframe thead th {\n",
       "        text-align: right;\n",
       "    }\n",
       "</style>\n",
       "<table border=\"1\" class=\"dataframe\">\n",
       "  <thead>\n",
       "    <tr style=\"text-align: right;\">\n",
       "      <th></th>\n",
       "      <th>registration_year</th>\n",
       "      <th>power</th>\n",
       "      <th>kilometer</th>\n",
       "      <th>vehicle_type_convertible</th>\n",
       "      <th>vehicle_type_coupe</th>\n",
       "      <th>vehicle_type_other</th>\n",
       "      <th>vehicle_type_sedan</th>\n",
       "      <th>vehicle_type_small</th>\n",
       "      <th>vehicle_type_suv</th>\n",
       "      <th>vehicle_type_unknown</th>\n",
       "      <th>...</th>\n",
       "      <th>brand_smart</th>\n",
       "      <th>brand_sonstige_autos</th>\n",
       "      <th>brand_subaru</th>\n",
       "      <th>brand_suzuki</th>\n",
       "      <th>brand_toyota</th>\n",
       "      <th>brand_trabant</th>\n",
       "      <th>brand_volkswagen</th>\n",
       "      <th>brand_volvo</th>\n",
       "      <th>repaired_unknown</th>\n",
       "      <th>repaired_yes</th>\n",
       "    </tr>\n",
       "  </thead>\n",
       "  <tbody>\n",
       "    <tr>\n",
       "      <th>193038</th>\n",
       "      <td>2002</td>\n",
       "      <td>60.0</td>\n",
       "      <td>150000</td>\n",
       "      <td>0.0</td>\n",
       "      <td>0.0</td>\n",
       "      <td>0.0</td>\n",
       "      <td>0.0</td>\n",
       "      <td>1.0</td>\n",
       "      <td>0.0</td>\n",
       "      <td>0.0</td>\n",
       "      <td>...</td>\n",
       "      <td>0.0</td>\n",
       "      <td>0.0</td>\n",
       "      <td>0.0</td>\n",
       "      <td>0.0</td>\n",
       "      <td>0.0</td>\n",
       "      <td>0.0</td>\n",
       "      <td>0.0</td>\n",
       "      <td>0.0</td>\n",
       "      <td>0.0</td>\n",
       "      <td>0.0</td>\n",
       "    </tr>\n",
       "  </tbody>\n",
       "</table>\n",
       "<p>1 rows × 309 columns</p>\n",
       "</div>"
      ],
      "text/plain": [
       "        registration_year  power  kilometer  vehicle_type_convertible  \\\n",
       "193038               2002   60.0     150000                       0.0   \n",
       "\n",
       "        vehicle_type_coupe  vehicle_type_other  vehicle_type_sedan  \\\n",
       "193038                 0.0                 0.0                 0.0   \n",
       "\n",
       "        vehicle_type_small  vehicle_type_suv  vehicle_type_unknown  ...  \\\n",
       "193038                 1.0               0.0                   0.0  ...   \n",
       "\n",
       "        brand_smart  brand_sonstige_autos  brand_subaru  brand_suzuki  \\\n",
       "193038          0.0                   0.0           0.0           0.0   \n",
       "\n",
       "        brand_toyota  brand_trabant  brand_volkswagen  brand_volvo  \\\n",
       "193038           0.0            0.0               0.0          0.0   \n",
       "\n",
       "        repaired_unknown  repaired_yes  \n",
       "193038               0.0           0.0  \n",
       "\n",
       "[1 rows x 309 columns]"
      ]
     },
     "metadata": {},
     "output_type": "display_data"
    },
    {
     "data": {
      "text/html": [
       "<div>\n",
       "<style scoped>\n",
       "    .dataframe tbody tr th:only-of-type {\n",
       "        vertical-align: middle;\n",
       "    }\n",
       "\n",
       "    .dataframe tbody tr th {\n",
       "        vertical-align: top;\n",
       "    }\n",
       "\n",
       "    .dataframe thead th {\n",
       "        text-align: right;\n",
       "    }\n",
       "</style>\n",
       "<table border=\"1\" class=\"dataframe\">\n",
       "  <thead>\n",
       "    <tr style=\"text-align: right;\">\n",
       "      <th></th>\n",
       "      <th>registration_year</th>\n",
       "      <th>power</th>\n",
       "      <th>kilometer</th>\n",
       "      <th>vehicle_type_convertible</th>\n",
       "      <th>vehicle_type_coupe</th>\n",
       "      <th>vehicle_type_other</th>\n",
       "      <th>vehicle_type_sedan</th>\n",
       "      <th>vehicle_type_small</th>\n",
       "      <th>vehicle_type_suv</th>\n",
       "      <th>vehicle_type_unknown</th>\n",
       "      <th>...</th>\n",
       "      <th>brand_smart</th>\n",
       "      <th>brand_sonstige_autos</th>\n",
       "      <th>brand_subaru</th>\n",
       "      <th>brand_suzuki</th>\n",
       "      <th>brand_toyota</th>\n",
       "      <th>brand_trabant</th>\n",
       "      <th>brand_volkswagen</th>\n",
       "      <th>brand_volvo</th>\n",
       "      <th>repaired_unknown</th>\n",
       "      <th>repaired_yes</th>\n",
       "    </tr>\n",
       "  </thead>\n",
       "  <tbody>\n",
       "    <tr>\n",
       "      <th>160561</th>\n",
       "      <td>1995</td>\n",
       "      <td>180.0</td>\n",
       "      <td>150000</td>\n",
       "      <td>0.0</td>\n",
       "      <td>0.0</td>\n",
       "      <td>0.0</td>\n",
       "      <td>0.0</td>\n",
       "      <td>0.0</td>\n",
       "      <td>0.0</td>\n",
       "      <td>1.0</td>\n",
       "      <td>...</td>\n",
       "      <td>0.0</td>\n",
       "      <td>0.0</td>\n",
       "      <td>0.0</td>\n",
       "      <td>0.0</td>\n",
       "      <td>0.0</td>\n",
       "      <td>0.0</td>\n",
       "      <td>1.0</td>\n",
       "      <td>0.0</td>\n",
       "      <td>1.0</td>\n",
       "      <td>0.0</td>\n",
       "    </tr>\n",
       "  </tbody>\n",
       "</table>\n",
       "<p>1 rows × 309 columns</p>\n",
       "</div>"
      ],
      "text/plain": [
       "        registration_year  power  kilometer  vehicle_type_convertible  \\\n",
       "160561               1995  180.0     150000                       0.0   \n",
       "\n",
       "        vehicle_type_coupe  vehicle_type_other  vehicle_type_sedan  \\\n",
       "160561                 0.0                 0.0                 0.0   \n",
       "\n",
       "        vehicle_type_small  vehicle_type_suv  vehicle_type_unknown  ...  \\\n",
       "160561                 0.0               0.0                   1.0  ...   \n",
       "\n",
       "        brand_smart  brand_sonstige_autos  brand_subaru  brand_suzuki  \\\n",
       "160561          0.0                   0.0           0.0           0.0   \n",
       "\n",
       "        brand_toyota  brand_trabant  brand_volkswagen  brand_volvo  \\\n",
       "160561           0.0            0.0               1.0          0.0   \n",
       "\n",
       "        repaired_unknown  repaired_yes  \n",
       "160561               1.0           0.0  \n",
       "\n",
       "[1 rows x 309 columns]"
      ]
     },
     "metadata": {},
     "output_type": "display_data"
    }
   ],
   "source": [
    "features_train_ohe = features_train.copy()\n",
    "features_test_ohe = features_test.copy()\n",
    "target_train_ohe = target_train.copy()\n",
    "target_test_ohe = target_test.copy()\n",
    "\n",
    "#категориальные признаки для OHE \n",
    "ohe_features = features_train_ohe.select_dtypes(include='object').columns.to_list()\n",
    "encoder_ohe = OneHotEncoder(drop='first', handle_unknown='ignore', sparse=False)\n",
    "# обучаем энкодер на заданных категориальных признаках тренировочной выборки\n",
    "encoder_ohe.fit(features_train_ohe[ohe_features])\n",
    "# добавляем закодированные признаки\n",
    "features_train_ohe[encoder_ohe.get_feature_names_out()] = encoder_ohe.transform(features_train_ohe[ohe_features])\n",
    "# удаляем изначальные  колонки\n",
    "features_train_ohe = features_train_ohe.drop(ohe_features, axis=1)\n",
    "\n",
    "features_test_ohe[encoder_ohe.get_feature_names_out()] = encoder_ohe.transform(features_test_ohe[ohe_features])\n",
    "features_test_ohe = features_test_ohe.drop(ohe_features, axis=1)\n",
    "\n",
    "display(features_train_ohe.head(1))\n",
    "display(features_test_ohe.head(1))\n"
   ]
  },
  {
   "cell_type": "markdown",
   "metadata": {},
   "source": [
    "#### Произведем масштабирование  признаков для выборок."
   ]
  },
  {
   "cell_type": "code",
   "execution_count": 36,
   "metadata": {},
   "outputs": [
    {
     "data": {
      "text/html": [
       "<div>\n",
       "<style scoped>\n",
       "    .dataframe tbody tr th:only-of-type {\n",
       "        vertical-align: middle;\n",
       "    }\n",
       "\n",
       "    .dataframe tbody tr th {\n",
       "        vertical-align: top;\n",
       "    }\n",
       "\n",
       "    .dataframe thead th {\n",
       "        text-align: right;\n",
       "    }\n",
       "</style>\n",
       "<table border=\"1\" class=\"dataframe\">\n",
       "  <thead>\n",
       "    <tr style=\"text-align: right;\">\n",
       "      <th></th>\n",
       "      <th>registration_year</th>\n",
       "      <th>power</th>\n",
       "      <th>kilometer</th>\n",
       "      <th>vehicle_type_convertible</th>\n",
       "      <th>vehicle_type_coupe</th>\n",
       "      <th>vehicle_type_other</th>\n",
       "      <th>vehicle_type_sedan</th>\n",
       "      <th>vehicle_type_small</th>\n",
       "      <th>vehicle_type_suv</th>\n",
       "      <th>vehicle_type_unknown</th>\n",
       "      <th>...</th>\n",
       "      <th>brand_smart</th>\n",
       "      <th>brand_sonstige_autos</th>\n",
       "      <th>brand_subaru</th>\n",
       "      <th>brand_suzuki</th>\n",
       "      <th>brand_toyota</th>\n",
       "      <th>brand_trabant</th>\n",
       "      <th>brand_volkswagen</th>\n",
       "      <th>brand_volvo</th>\n",
       "      <th>repaired_unknown</th>\n",
       "      <th>repaired_yes</th>\n",
       "    </tr>\n",
       "  </thead>\n",
       "  <tbody>\n",
       "    <tr>\n",
       "      <th>193038</th>\n",
       "      <td>-0.855273</td>\n",
       "      <td>-60.407669</td>\n",
       "      <td>22402.094783</td>\n",
       "      <td>-0.062967</td>\n",
       "      <td>-0.049593</td>\n",
       "      <td>-0.009914</td>\n",
       "      <td>-0.267505</td>\n",
       "      <td>0.771425</td>\n",
       "      <td>-0.037159</td>\n",
       "      <td>-0.061002</td>\n",
       "      <td>...</td>\n",
       "      <td>-0.016212</td>\n",
       "      <td>-0.006701</td>\n",
       "      <td>-0.00242</td>\n",
       "      <td>-0.006972</td>\n",
       "      <td>-0.014299</td>\n",
       "      <td>-0.000076</td>\n",
       "      <td>-0.204305</td>\n",
       "      <td>-0.009572</td>\n",
       "      <td>-0.185151</td>\n",
       "      <td>-0.104502</td>\n",
       "    </tr>\n",
       "  </tbody>\n",
       "</table>\n",
       "<p>1 rows × 309 columns</p>\n",
       "</div>"
      ],
      "text/plain": [
       "        registration_year      power     kilometer  vehicle_type_convertible  \\\n",
       "193038          -0.855273 -60.407669  22402.094783                 -0.062967   \n",
       "\n",
       "        vehicle_type_coupe  vehicle_type_other  vehicle_type_sedan  \\\n",
       "193038           -0.049593           -0.009914           -0.267505   \n",
       "\n",
       "        vehicle_type_small  vehicle_type_suv  vehicle_type_unknown  ...  \\\n",
       "193038            0.771425         -0.037159             -0.061002  ...   \n",
       "\n",
       "        brand_smart  brand_sonstige_autos  brand_subaru  brand_suzuki  \\\n",
       "193038    -0.016212             -0.006701      -0.00242     -0.006972   \n",
       "\n",
       "        brand_toyota  brand_trabant  brand_volkswagen  brand_volvo  \\\n",
       "193038     -0.014299      -0.000076         -0.204305    -0.009572   \n",
       "\n",
       "        repaired_unknown  repaired_yes  \n",
       "193038         -0.185151     -0.104502  \n",
       "\n",
       "[1 rows x 309 columns]"
      ]
     },
     "metadata": {},
     "output_type": "display_data"
    },
    {
     "data": {
      "text/html": [
       "<div>\n",
       "<style scoped>\n",
       "    .dataframe tbody tr th:only-of-type {\n",
       "        vertical-align: middle;\n",
       "    }\n",
       "\n",
       "    .dataframe tbody tr th {\n",
       "        vertical-align: top;\n",
       "    }\n",
       "\n",
       "    .dataframe thead th {\n",
       "        text-align: right;\n",
       "    }\n",
       "</style>\n",
       "<table border=\"1\" class=\"dataframe\">\n",
       "  <thead>\n",
       "    <tr style=\"text-align: right;\">\n",
       "      <th></th>\n",
       "      <th>registration_year</th>\n",
       "      <th>power</th>\n",
       "      <th>kilometer</th>\n",
       "      <th>vehicle_type_convertible</th>\n",
       "      <th>vehicle_type_coupe</th>\n",
       "      <th>vehicle_type_other</th>\n",
       "      <th>vehicle_type_sedan</th>\n",
       "      <th>vehicle_type_small</th>\n",
       "      <th>vehicle_type_suv</th>\n",
       "      <th>vehicle_type_unknown</th>\n",
       "      <th>...</th>\n",
       "      <th>brand_smart</th>\n",
       "      <th>brand_sonstige_autos</th>\n",
       "      <th>brand_subaru</th>\n",
       "      <th>brand_suzuki</th>\n",
       "      <th>brand_toyota</th>\n",
       "      <th>brand_trabant</th>\n",
       "      <th>brand_volkswagen</th>\n",
       "      <th>brand_volvo</th>\n",
       "      <th>repaired_unknown</th>\n",
       "      <th>repaired_yes</th>\n",
       "    </tr>\n",
       "  </thead>\n",
       "  <tbody>\n",
       "    <tr>\n",
       "      <th>160561</th>\n",
       "      <td>-7.855273</td>\n",
       "      <td>59.592331</td>\n",
       "      <td>22402.094783</td>\n",
       "      <td>-0.062967</td>\n",
       "      <td>-0.049593</td>\n",
       "      <td>-0.009914</td>\n",
       "      <td>-0.267505</td>\n",
       "      <td>-0.228575</td>\n",
       "      <td>-0.037159</td>\n",
       "      <td>0.938998</td>\n",
       "      <td>...</td>\n",
       "      <td>-0.016212</td>\n",
       "      <td>-0.006701</td>\n",
       "      <td>-0.00242</td>\n",
       "      <td>-0.006972</td>\n",
       "      <td>-0.014299</td>\n",
       "      <td>-0.000076</td>\n",
       "      <td>0.795695</td>\n",
       "      <td>-0.009572</td>\n",
       "      <td>0.814849</td>\n",
       "      <td>-0.104502</td>\n",
       "    </tr>\n",
       "  </tbody>\n",
       "</table>\n",
       "<p>1 rows × 309 columns</p>\n",
       "</div>"
      ],
      "text/plain": [
       "        registration_year      power     kilometer  vehicle_type_convertible  \\\n",
       "160561          -7.855273  59.592331  22402.094783                 -0.062967   \n",
       "\n",
       "        vehicle_type_coupe  vehicle_type_other  vehicle_type_sedan  \\\n",
       "160561           -0.049593           -0.009914           -0.267505   \n",
       "\n",
       "        vehicle_type_small  vehicle_type_suv  vehicle_type_unknown  ...  \\\n",
       "160561           -0.228575         -0.037159              0.938998  ...   \n",
       "\n",
       "        brand_smart  brand_sonstige_autos  brand_subaru  brand_suzuki  \\\n",
       "160561    -0.016212             -0.006701      -0.00242     -0.006972   \n",
       "\n",
       "        brand_toyota  brand_trabant  brand_volkswagen  brand_volvo  \\\n",
       "160561     -0.014299      -0.000076          0.795695    -0.009572   \n",
       "\n",
       "        repaired_unknown  repaired_yes  \n",
       "160561          0.814849     -0.104502  \n",
       "\n",
       "[1 rows x 309 columns]"
      ]
     },
     "metadata": {},
     "output_type": "display_data"
    }
   ],
   "source": [
    "numeric = list(features_train_ohe)\n",
    "scaler = StandardScaler(with_std=False) \n",
    "scaler.fit(features_train_ohe[numeric])\n",
    "features_train_ohe[numeric] = scaler.transform(features_train_ohe[numeric]) # стандартизация  обучающей выборки \n",
    "features_test_ohe[numeric] = scaler.transform(features_test_ohe[numeric]) # стандартизация тестовой  выборки\n",
    "\n",
    "display(features_train_ohe.head(1))\n",
    "display(features_test_ohe.head(1))"
   ]
  },
  {
   "cell_type": "code",
   "execution_count": 37,
   "metadata": {},
   "outputs": [
    {
     "data": {
      "text/html": [
       "<div>\n",
       "<style scoped>\n",
       "    .dataframe tbody tr th:only-of-type {\n",
       "        vertical-align: middle;\n",
       "    }\n",
       "\n",
       "    .dataframe tbody tr th {\n",
       "        vertical-align: top;\n",
       "    }\n",
       "\n",
       "    .dataframe thead th {\n",
       "        text-align: right;\n",
       "    }\n",
       "</style>\n",
       "<table border=\"1\" class=\"dataframe\">\n",
       "  <thead>\n",
       "    <tr style=\"text-align: right;\">\n",
       "      <th></th>\n",
       "      <th>vehicle_type</th>\n",
       "      <th>registration_year</th>\n",
       "      <th>gearbox</th>\n",
       "      <th>power</th>\n",
       "      <th>model</th>\n",
       "      <th>kilometer</th>\n",
       "      <th>fuel_type</th>\n",
       "      <th>brand</th>\n",
       "      <th>repaired</th>\n",
       "    </tr>\n",
       "  </thead>\n",
       "  <tbody>\n",
       "    <tr>\n",
       "      <th>160561</th>\n",
       "      <td>unknown</td>\n",
       "      <td>1995</td>\n",
       "      <td>unknown</td>\n",
       "      <td>180.0</td>\n",
       "      <td>golf</td>\n",
       "      <td>150000</td>\n",
       "      <td>unknown</td>\n",
       "      <td>volkswagen</td>\n",
       "      <td>unknown</td>\n",
       "    </tr>\n",
       "    <tr>\n",
       "      <th>149554</th>\n",
       "      <td>convertible</td>\n",
       "      <td>2005</td>\n",
       "      <td>manual</td>\n",
       "      <td>109.0</td>\n",
       "      <td>2_reihe</td>\n",
       "      <td>90000</td>\n",
       "      <td>petrol</td>\n",
       "      <td>peugeot</td>\n",
       "      <td>unknown</td>\n",
       "    </tr>\n",
       "    <tr>\n",
       "      <th>6192</th>\n",
       "      <td>small</td>\n",
       "      <td>2009</td>\n",
       "      <td>auto</td>\n",
       "      <td>120.0</td>\n",
       "      <td>cooper</td>\n",
       "      <td>50000</td>\n",
       "      <td>petrol</td>\n",
       "      <td>mini</td>\n",
       "      <td>no</td>\n",
       "    </tr>\n",
       "    <tr>\n",
       "      <th>237229</th>\n",
       "      <td>small</td>\n",
       "      <td>2003</td>\n",
       "      <td>manual</td>\n",
       "      <td>75.0</td>\n",
       "      <td>polo</td>\n",
       "      <td>125000</td>\n",
       "      <td>petrol</td>\n",
       "      <td>volkswagen</td>\n",
       "      <td>no</td>\n",
       "    </tr>\n",
       "    <tr>\n",
       "      <th>34301</th>\n",
       "      <td>small</td>\n",
       "      <td>2007</td>\n",
       "      <td>manual</td>\n",
       "      <td>60.0</td>\n",
       "      <td>corsa</td>\n",
       "      <td>150000</td>\n",
       "      <td>petrol</td>\n",
       "      <td>opel</td>\n",
       "      <td>no</td>\n",
       "    </tr>\n",
       "  </tbody>\n",
       "</table>\n",
       "</div>"
      ],
      "text/plain": [
       "       vehicle_type  registration_year  gearbox  power    model  kilometer  \\\n",
       "160561      unknown               1995  unknown  180.0     golf     150000   \n",
       "149554  convertible               2005   manual  109.0  2_reihe      90000   \n",
       "6192          small               2009     auto  120.0   cooper      50000   \n",
       "237229        small               2003   manual   75.0     polo     125000   \n",
       "34301         small               2007   manual   60.0    corsa     150000   \n",
       "\n",
       "       fuel_type       brand repaired  \n",
       "160561   unknown  volkswagen  unknown  \n",
       "149554    petrol     peugeot  unknown  \n",
       "6192      petrol        mini       no  \n",
       "237229    petrol  volkswagen       no  \n",
       "34301     petrol        opel       no  "
      ]
     },
     "metadata": {},
     "output_type": "display_data"
    }
   ],
   "source": [
    "display(features_test.head())"
   ]
  },
  {
   "cell_type": "markdown",
   "metadata": {},
   "source": [
    "#### Перекодируем категориальные признаки используя порядковое кодирование (OrdinalEncoder)."
   ]
  },
  {
   "cell_type": "code",
   "execution_count": 38,
   "metadata": {},
   "outputs": [
    {
     "data": {
      "text/html": [
       "<div>\n",
       "<style scoped>\n",
       "    .dataframe tbody tr th:only-of-type {\n",
       "        vertical-align: middle;\n",
       "    }\n",
       "\n",
       "    .dataframe tbody tr th {\n",
       "        vertical-align: top;\n",
       "    }\n",
       "\n",
       "    .dataframe thead th {\n",
       "        text-align: right;\n",
       "    }\n",
       "</style>\n",
       "<table border=\"1\" class=\"dataframe\">\n",
       "  <thead>\n",
       "    <tr style=\"text-align: right;\">\n",
       "      <th></th>\n",
       "      <th>vehicle_type</th>\n",
       "      <th>registration_year</th>\n",
       "      <th>gearbox</th>\n",
       "      <th>power</th>\n",
       "      <th>model</th>\n",
       "      <th>kilometer</th>\n",
       "      <th>fuel_type</th>\n",
       "      <th>brand</th>\n",
       "      <th>repaired</th>\n",
       "    </tr>\n",
       "  </thead>\n",
       "  <tbody>\n",
       "    <tr>\n",
       "      <th>193038</th>\n",
       "      <td>5.0</td>\n",
       "      <td>2002</td>\n",
       "      <td>1.0</td>\n",
       "      <td>60.0</td>\n",
       "      <td>176.0</td>\n",
       "      <td>150000</td>\n",
       "      <td>5.0</td>\n",
       "      <td>9.0</td>\n",
       "      <td>0.0</td>\n",
       "    </tr>\n",
       "  </tbody>\n",
       "</table>\n",
       "</div>"
      ],
      "text/plain": [
       "        vehicle_type  registration_year  gearbox  power  model  kilometer  \\\n",
       "193038           5.0               2002      1.0   60.0  176.0     150000   \n",
       "\n",
       "        fuel_type  brand  repaired  \n",
       "193038        5.0    9.0       0.0  "
      ]
     },
     "metadata": {},
     "output_type": "display_data"
    },
    {
     "data": {
      "text/html": [
       "<div>\n",
       "<style scoped>\n",
       "    .dataframe tbody tr th:only-of-type {\n",
       "        vertical-align: middle;\n",
       "    }\n",
       "\n",
       "    .dataframe tbody tr th {\n",
       "        vertical-align: top;\n",
       "    }\n",
       "\n",
       "    .dataframe thead th {\n",
       "        text-align: right;\n",
       "    }\n",
       "</style>\n",
       "<table border=\"1\" class=\"dataframe\">\n",
       "  <thead>\n",
       "    <tr style=\"text-align: right;\">\n",
       "      <th></th>\n",
       "      <th>vehicle_type</th>\n",
       "      <th>registration_year</th>\n",
       "      <th>gearbox</th>\n",
       "      <th>power</th>\n",
       "      <th>model</th>\n",
       "      <th>kilometer</th>\n",
       "      <th>fuel_type</th>\n",
       "      <th>brand</th>\n",
       "      <th>repaired</th>\n",
       "    </tr>\n",
       "  </thead>\n",
       "  <tbody>\n",
       "    <tr>\n",
       "      <th>160561</th>\n",
       "      <td>7.0</td>\n",
       "      <td>1995</td>\n",
       "      <td>2.0</td>\n",
       "      <td>180.0</td>\n",
       "      <td>116.0</td>\n",
       "      <td>150000</td>\n",
       "      <td>6.0</td>\n",
       "      <td>38.0</td>\n",
       "      <td>1.0</td>\n",
       "    </tr>\n",
       "  </tbody>\n",
       "</table>\n",
       "</div>"
      ],
      "text/plain": [
       "        vehicle_type  registration_year  gearbox  power  model  kilometer  \\\n",
       "160561           7.0               1995      2.0  180.0  116.0     150000   \n",
       "\n",
       "        fuel_type  brand  repaired  \n",
       "160561        6.0   38.0       1.0  "
      ]
     },
     "metadata": {},
     "output_type": "display_data"
    }
   ],
   "source": [
    "enc = OrdinalEncoder(handle_unknown='use_encoded_value', unknown_value=-1)\n",
    "features_train[['vehicle_type', 'gearbox', 'model', 'fuel_type',\n",
    "            'brand', 'repaired']] = enc.fit_transform(features_train[['vehicle_type', 'gearbox', 'model', 'fuel_type',\n",
    "            'brand', 'repaired']])\n",
    "features_test[['vehicle_type', 'gearbox', 'model', 'fuel_type',\n",
    "            'brand', 'repaired']] = enc.transform(features_test[['vehicle_type', 'gearbox', 'model', 'fuel_type',\n",
    "            'brand', 'repaired']])\n",
    "display(features_train.head(1))\n",
    "display(features_test.head(1))"
   ]
  },
  {
   "cell_type": "markdown",
   "metadata": {},
   "source": [
    "#### Произведем масштабирование числовых  признаков для выборок."
   ]
  },
  {
   "cell_type": "code",
   "execution_count": 39,
   "metadata": {},
   "outputs": [
    {
     "data": {
      "text/html": [
       "<div>\n",
       "<style scoped>\n",
       "    .dataframe tbody tr th:only-of-type {\n",
       "        vertical-align: middle;\n",
       "    }\n",
       "\n",
       "    .dataframe tbody tr th {\n",
       "        vertical-align: top;\n",
       "    }\n",
       "\n",
       "    .dataframe thead th {\n",
       "        text-align: right;\n",
       "    }\n",
       "</style>\n",
       "<table border=\"1\" class=\"dataframe\">\n",
       "  <thead>\n",
       "    <tr style=\"text-align: right;\">\n",
       "      <th></th>\n",
       "      <th>vehicle_type</th>\n",
       "      <th>registration_year</th>\n",
       "      <th>gearbox</th>\n",
       "      <th>power</th>\n",
       "      <th>model</th>\n",
       "      <th>kilometer</th>\n",
       "      <th>fuel_type</th>\n",
       "      <th>brand</th>\n",
       "      <th>repaired</th>\n",
       "    </tr>\n",
       "  </thead>\n",
       "  <tbody>\n",
       "    <tr>\n",
       "      <th>193038</th>\n",
       "      <td>5.0</td>\n",
       "      <td>2002</td>\n",
       "      <td>1.0</td>\n",
       "      <td>-1.160833</td>\n",
       "      <td>176.0</td>\n",
       "      <td>0.595715</td>\n",
       "      <td>5.0</td>\n",
       "      <td>9.0</td>\n",
       "      <td>0.0</td>\n",
       "    </tr>\n",
       "  </tbody>\n",
       "</table>\n",
       "</div>"
      ],
      "text/plain": [
       "        vehicle_type  registration_year  gearbox     power  model  kilometer  \\\n",
       "193038           5.0               2002      1.0 -1.160833  176.0   0.595715   \n",
       "\n",
       "        fuel_type  brand  repaired  \n",
       "193038        5.0    9.0       0.0  "
      ]
     },
     "metadata": {},
     "output_type": "display_data"
    },
    {
     "data": {
      "text/html": [
       "<div>\n",
       "<style scoped>\n",
       "    .dataframe tbody tr th:only-of-type {\n",
       "        vertical-align: middle;\n",
       "    }\n",
       "\n",
       "    .dataframe tbody tr th {\n",
       "        vertical-align: top;\n",
       "    }\n",
       "\n",
       "    .dataframe thead th {\n",
       "        text-align: right;\n",
       "    }\n",
       "</style>\n",
       "<table border=\"1\" class=\"dataframe\">\n",
       "  <thead>\n",
       "    <tr style=\"text-align: right;\">\n",
       "      <th></th>\n",
       "      <th>vehicle_type</th>\n",
       "      <th>registration_year</th>\n",
       "      <th>gearbox</th>\n",
       "      <th>power</th>\n",
       "      <th>model</th>\n",
       "      <th>kilometer</th>\n",
       "      <th>fuel_type</th>\n",
       "      <th>brand</th>\n",
       "      <th>repaired</th>\n",
       "    </tr>\n",
       "  </thead>\n",
       "  <tbody>\n",
       "    <tr>\n",
       "      <th>160561</th>\n",
       "      <td>7.0</td>\n",
       "      <td>1995</td>\n",
       "      <td>2.0</td>\n",
       "      <td>1.145165</td>\n",
       "      <td>116.0</td>\n",
       "      <td>0.595715</td>\n",
       "      <td>6.0</td>\n",
       "      <td>38.0</td>\n",
       "      <td>1.0</td>\n",
       "    </tr>\n",
       "  </tbody>\n",
       "</table>\n",
       "</div>"
      ],
      "text/plain": [
       "        vehicle_type  registration_year  gearbox     power  model  kilometer  \\\n",
       "160561           7.0               1995      2.0  1.145165  116.0   0.595715   \n",
       "\n",
       "        fuel_type  brand  repaired  \n",
       "160561        6.0   38.0       1.0  "
      ]
     },
     "metadata": {},
     "output_type": "display_data"
    }
   ],
   "source": [
    "numeric = ['power', 'kilometer']\n",
    "scaler = StandardScaler() \n",
    "scaler.fit(features_train[numeric])\n",
    "features_train[numeric] = scaler.transform(features_train[numeric]) # стандартизация  обучающей выборки \n",
    "features_test[numeric] = scaler.transform(features_test[numeric]) # стандартизация тестовой  выборки\n",
    "display(features_train.head(1))\n",
    "display(features_test.head(1))"
   ]
  },
  {
   "cell_type": "markdown",
   "metadata": {},
   "source": [
    "#### Модель линейной регрессии"
   ]
  },
  {
   "cell_type": "code",
   "execution_count": 40,
   "metadata": {},
   "outputs": [],
   "source": [
    "def RMSE(target,predictions):\n",
    "    MSE = mean_squared_error(target, predictions)\n",
    "    return MSE ** 0.5\n",
    "RMSE_score = make_scorer(RMSE, greater_is_better=False)"
   ]
  },
  {
   "cell_type": "code",
   "execution_count": 41,
   "metadata": {},
   "outputs": [
    {
     "name": "stderr",
     "output_type": "stream",
     "text": [
      "[Parallel(n_jobs=1)]: Using backend SequentialBackend with 1 concurrent workers.\n"
     ]
    },
    {
     "name": "stdout",
     "output_type": "stream",
     "text": [
      "[CV] END ............................ score: (test=-2634.300) total time=   2.3s\n"
     ]
    },
    {
     "name": "stderr",
     "output_type": "stream",
     "text": [
      "[Parallel(n_jobs=1)]: Done   1 out of   1 | elapsed:    2.4s remaining:    0.0s\n"
     ]
    },
    {
     "name": "stdout",
     "output_type": "stream",
     "text": [
      "[CV] END ............................ score: (test=-2618.371) total time=   2.2s\n"
     ]
    },
    {
     "name": "stderr",
     "output_type": "stream",
     "text": [
      "[Parallel(n_jobs=1)]: Done   2 out of   2 | elapsed:    4.7s remaining:    0.0s\n"
     ]
    },
    {
     "name": "stdout",
     "output_type": "stream",
     "text": [
      "[CV] END ............................ score: (test=-2640.196) total time=   2.1s\n",
      "[CV] END ............................ score: (test=-2610.560) total time=   2.1s\n",
      "[CV] END ............................ score: (test=-2630.515) total time=   2.0s\n",
      "[-2634.30025906 -2618.37141514 -2640.19587735 -2610.56006028\n",
      " -2630.515161  ]\n",
      "Wall time: 11.3 s\n"
     ]
    },
    {
     "name": "stderr",
     "output_type": "stream",
     "text": [
      "[Parallel(n_jobs=1)]: Done   5 out of   5 | elapsed:   11.2s finished\n"
     ]
    }
   ],
   "source": [
    "%%time\n",
    "model = LinearRegression()\n",
    "#model.fit(features_train_ohe, target_train_ohe)\n",
    "#predictions_train_ohe = model.predict(features_train_ohe)\n",
    "#RMSE = mean_squared_error(target_train_ohe, predictions_train_ohe)**0.5\n",
    "#print(RMSE)\n",
    "#scores = cross_val_score(model, features_train_ohe, target_train_ohe,\n",
    "                         #scoring = mean_squared_error(features_train_ohe, target_train_ohe)**0.5, cv=5)\n",
    "\n",
    "scores = cross_val_score(model, features_train_ohe, target_train_ohe, scoring = RMSE_score, cv=5,verbose=3)\n",
    "print(scores)"
   ]
  },
  {
   "cell_type": "markdown",
   "metadata": {},
   "source": [
    "#### Используем GridSearchCV для подбора параметров  моделей RandomForest, DecisionTree и LightGBM."
   ]
  },
  {
   "cell_type": "markdown",
   "metadata": {},
   "source": [
    "#### Модель решающего дерева."
   ]
  },
  {
   "cell_type": "code",
   "execution_count": 42,
   "metadata": {},
   "outputs": [
    {
     "name": "stdout",
     "output_type": "stream",
     "text": [
      "{'max_depth': 9}\n",
      "-2067.490037279084\n",
      "Wall time: 6.82 s\n"
     ]
    }
   ],
   "source": [
    "%%time\n",
    "model_DT = DecisionTreeRegressor(random_state=12345)\n",
    "param_DT = {'max_depth':range (1,10)}\n",
    "grid_DT = GridSearchCV(model_DT, param_DT, scoring = RMSE_score)\n",
    "grid_DT.fit(features_train,target_train)\n",
    "\n",
    "print(grid_DT.best_params_)\n",
    "print(grid_DT.best_score_)\n"
   ]
  },
  {
   "cell_type": "markdown",
   "metadata": {},
   "source": [
    "#### Модель случайного леса."
   ]
  },
  {
   "cell_type": "code",
   "execution_count": 43,
   "metadata": {
    "scrolled": false
   },
   "outputs": [
    {
     "name": "stdout",
     "output_type": "stream",
     "text": [
      "Fitting 5 folds for each of 12 candidates, totalling 60 fits\n",
      "[CV 1/5] END .max_depth=3, n_estimators=100;, score=-2965.252 total time=   5.9s\n",
      "[CV 2/5] END .max_depth=3, n_estimators=100;, score=-2948.605 total time=   6.0s\n",
      "[CV 3/5] END .max_depth=3, n_estimators=100;, score=-2934.907 total time=   5.9s\n",
      "[CV 4/5] END .max_depth=3, n_estimators=100;, score=-2919.759 total time=   5.8s\n",
      "[CV 5/5] END .max_depth=3, n_estimators=100;, score=-2952.778 total time=   6.1s\n",
      "[CV 1/5] END .max_depth=3, n_estimators=200;, score=-2965.320 total time=  11.7s\n",
      "[CV 2/5] END .max_depth=3, n_estimators=200;, score=-2944.631 total time=  11.7s\n",
      "[CV 3/5] END .max_depth=3, n_estimators=200;, score=-2933.561 total time=  11.8s\n",
      "[CV 4/5] END .max_depth=3, n_estimators=200;, score=-2918.928 total time=  11.7s\n",
      "[CV 5/5] END .max_depth=3, n_estimators=200;, score=-2951.167 total time=  11.8s\n",
      "[CV 1/5] END .max_depth=6, n_estimators=100;, score=-2293.690 total time=  10.9s\n",
      "[CV 2/5] END .max_depth=6, n_estimators=100;, score=-2266.162 total time=  10.7s\n",
      "[CV 3/5] END .max_depth=6, n_estimators=100;, score=-2279.703 total time=  10.9s\n",
      "[CV 4/5] END .max_depth=6, n_estimators=100;, score=-2276.448 total time=  10.8s\n",
      "[CV 5/5] END .max_depth=6, n_estimators=100;, score=-2261.161 total time=  10.7s\n",
      "[CV 1/5] END .max_depth=6, n_estimators=200;, score=-2294.000 total time=  21.7s\n",
      "[CV 2/5] END .max_depth=6, n_estimators=200;, score=-2265.622 total time=  21.6s\n",
      "[CV 3/5] END .max_depth=6, n_estimators=200;, score=-2279.895 total time=  22.4s\n",
      "[CV 4/5] END .max_depth=6, n_estimators=200;, score=-2278.673 total time=  21.7s\n",
      "[CV 5/5] END .max_depth=6, n_estimators=200;, score=-2260.475 total time=  21.3s\n",
      "[CV 1/5] END .max_depth=9, n_estimators=100;, score=-1990.411 total time=  15.0s\n",
      "[CV 2/5] END .max_depth=9, n_estimators=100;, score=-1969.303 total time=  16.0s\n",
      "[CV 3/5] END .max_depth=9, n_estimators=100;, score=-1990.464 total time=  15.6s\n",
      "[CV 4/5] END .max_depth=9, n_estimators=100;, score=-1978.770 total time=  15.8s\n",
      "[CV 5/5] END .max_depth=9, n_estimators=100;, score=-1959.807 total time=  15.9s\n",
      "[CV 1/5] END .max_depth=9, n_estimators=200;, score=-1989.010 total time=  32.0s\n",
      "[CV 2/5] END .max_depth=9, n_estimators=200;, score=-1968.120 total time=  31.5s\n",
      "[CV 3/5] END .max_depth=9, n_estimators=200;, score=-1991.154 total time=  30.9s\n",
      "[CV 4/5] END .max_depth=9, n_estimators=200;, score=-1977.708 total time=  30.5s\n",
      "[CV 5/5] END .max_depth=9, n_estimators=200;, score=-1958.755 total time=  31.2s\n",
      "[CV 1/5] END max_depth=12, n_estimators=100;, score=-1804.949 total time=  19.7s\n",
      "[CV 2/5] END max_depth=12, n_estimators=100;, score=-1791.752 total time=  19.6s\n",
      "[CV 3/5] END max_depth=12, n_estimators=100;, score=-1811.775 total time=  19.5s\n",
      "[CV 4/5] END max_depth=12, n_estimators=100;, score=-1801.465 total time=  19.3s\n",
      "[CV 5/5] END max_depth=12, n_estimators=100;, score=-1782.758 total time=  19.2s\n",
      "[CV 1/5] END max_depth=12, n_estimators=200;, score=-1803.344 total time=  38.8s\n",
      "[CV 2/5] END max_depth=12, n_estimators=200;, score=-1790.233 total time=  37.8s\n",
      "[CV 3/5] END max_depth=12, n_estimators=200;, score=-1811.191 total time=  38.1s\n",
      "[CV 4/5] END max_depth=12, n_estimators=200;, score=-1798.836 total time=  38.2s\n",
      "[CV 5/5] END max_depth=12, n_estimators=200;, score=-1781.599 total time=  38.1s\n",
      "[CV 1/5] END max_depth=15, n_estimators=100;, score=-1710.670 total time=  22.9s\n",
      "[CV 2/5] END max_depth=15, n_estimators=100;, score=-1699.405 total time=  23.0s\n",
      "[CV 3/5] END max_depth=15, n_estimators=100;, score=-1722.134 total time=  22.8s\n",
      "[CV 4/5] END max_depth=15, n_estimators=100;, score=-1710.534 total time=  23.0s\n",
      "[CV 5/5] END max_depth=15, n_estimators=100;, score=-1699.744 total time=  22.7s\n",
      "[CV 1/5] END max_depth=15, n_estimators=200;, score=-1708.500 total time=  45.8s\n",
      "[CV 2/5] END max_depth=15, n_estimators=200;, score=-1699.110 total time=  46.3s\n",
      "[CV 3/5] END max_depth=15, n_estimators=200;, score=-1721.217 total time=  45.9s\n",
      "[CV 4/5] END max_depth=15, n_estimators=200;, score=-1707.122 total time=  45.7s\n",
      "[CV 5/5] END max_depth=15, n_estimators=200;, score=-1697.345 total time=  45.7s\n",
      "[CV 1/5] END max_depth=18, n_estimators=100;, score=-1694.349 total time=  26.6s\n",
      "[CV 2/5] END max_depth=18, n_estimators=100;, score=-1676.585 total time=  26.6s\n",
      "[CV 3/5] END max_depth=18, n_estimators=100;, score=-1702.302 total time=  26.7s\n",
      "[CV 4/5] END max_depth=18, n_estimators=100;, score=-1685.826 total time=  26.6s\n",
      "[CV 5/5] END max_depth=18, n_estimators=100;, score=-1681.020 total time=  26.9s\n",
      "[CV 1/5] END max_depth=18, n_estimators=200;, score=-1690.017 total time=  53.9s\n",
      "[CV 2/5] END max_depth=18, n_estimators=200;, score=-1675.465 total time=  53.4s\n",
      "[CV 3/5] END max_depth=18, n_estimators=200;, score=-1700.950 total time=  53.9s\n",
      "[CV 4/5] END max_depth=18, n_estimators=200;, score=-1682.544 total time=  53.5s\n",
      "[CV 5/5] END max_depth=18, n_estimators=200;, score=-1678.514 total time=  53.7s\n",
      "{'max_depth': 18, 'n_estimators': 200}\n",
      "-1685.4979294055497\n",
      "Wall time: 26min 32s\n"
     ]
    }
   ],
   "source": [
    "%%time\n",
    "model_RF = RandomForestRegressor(random_state=12345)\n",
    "param_RF = {'n_estimators':[100, 200],\n",
    "             'max_depth':range (3, 20, 3)}\n",
    "grid_RF = GridSearchCV(model_RF, param_RF, scoring = RMSE_score, verbose=3)\n",
    "grid_RF.fit(features_train,target_train)\n",
    "\n",
    "print(grid_RF.best_params_)\n",
    "print(grid_RF.best_score_)\n"
   ]
  },
  {
   "cell_type": "markdown",
   "metadata": {},
   "source": [
    "#### Модель LightGBM."
   ]
  },
  {
   "cell_type": "code",
   "execution_count": 44,
   "metadata": {},
   "outputs": [
    {
     "name": "stdout",
     "output_type": "stream",
     "text": [
      "<class 'pandas.core.frame.DataFrame'>\n",
      "Int64Index: 210714 entries, 193038 to 217570\n",
      "Data columns (total 9 columns):\n",
      " #   Column             Non-Null Count   Dtype   \n",
      "---  ------             --------------   -----   \n",
      " 0   vehicle_type       210714 non-null  category\n",
      " 1   registration_year  210714 non-null  category\n",
      " 2   gearbox            210714 non-null  category\n",
      " 3   power              210714 non-null  float64 \n",
      " 4   model              210714 non-null  category\n",
      " 5   kilometer          210714 non-null  float64 \n",
      " 6   fuel_type          210714 non-null  category\n",
      " 7   brand              210714 non-null  category\n",
      " 8   repaired           210714 non-null  category\n",
      "dtypes: category(7), float64(2)\n",
      "memory usage: 6.4 MB\n",
      "<class 'pandas.core.frame.DataFrame'>\n",
      "Int64Index: 70239 entries, 160561 to 28944\n",
      "Data columns (total 9 columns):\n",
      " #   Column             Non-Null Count  Dtype   \n",
      "---  ------             --------------  -----   \n",
      " 0   vehicle_type       70239 non-null  category\n",
      " 1   registration_year  70239 non-null  category\n",
      " 2   gearbox            70239 non-null  category\n",
      " 3   power              70239 non-null  float64 \n",
      " 4   model              70239 non-null  category\n",
      " 5   kilometer          70239 non-null  float64 \n",
      " 6   fuel_type          70239 non-null  category\n",
      " 7   brand              70239 non-null  category\n",
      " 8   repaired           70239 non-null  category\n",
      "dtypes: category(7), float64(2)\n",
      "memory usage: 2.2 MB\n"
     ]
    }
   ],
   "source": [
    "categorical_columns = ['vehicle_type','registration_year', 'gearbox', 'model', 'fuel_type',\n",
    "                       'brand', 'repaired']\n",
    "features_train[categorical_columns] = features_train[categorical_columns].astype('category')\n",
    "features_test[categorical_columns] = features_test[categorical_columns].astype('category')\n",
    "features_train.info()\n",
    "features_test.info()"
   ]
  },
  {
   "cell_type": "code",
   "execution_count": 45,
   "metadata": {
    "scrolled": false
   },
   "outputs": [
    {
     "name": "stdout",
     "output_type": "stream",
     "text": [
      "Fitting 5 folds for each of 18 candidates, totalling 90 fits\n",
      "[CV 1/5] END max_depth=15, n_estimators=100, num_leaves=20;, score=-1688.640 total time=   0.3s\n",
      "[CV 2/5] END max_depth=15, n_estimators=100, num_leaves=20;, score=-1661.142 total time=   0.3s\n",
      "[CV 3/5] END max_depth=15, n_estimators=100, num_leaves=20;, score=-1685.766 total time=   0.3s\n",
      "[CV 4/5] END max_depth=15, n_estimators=100, num_leaves=20;, score=-1670.692 total time=   0.3s\n",
      "[CV 5/5] END max_depth=15, n_estimators=100, num_leaves=20;, score=-1669.250 total time=   0.3s\n",
      "[CV 1/5] END max_depth=15, n_estimators=100, num_leaves=50;, score=-1645.323 total time=   0.4s\n",
      "[CV 2/5] END max_depth=15, n_estimators=100, num_leaves=50;, score=-1620.071 total time=   0.5s\n",
      "[CV 3/5] END max_depth=15, n_estimators=100, num_leaves=50;, score=-1641.040 total time=   0.4s\n",
      "[CV 4/5] END max_depth=15, n_estimators=100, num_leaves=50;, score=-1623.561 total time=   0.4s\n",
      "[CV 5/5] END max_depth=15, n_estimators=100, num_leaves=50;, score=-1626.187 total time=   0.4s\n",
      "[CV 1/5] END max_depth=15, n_estimators=100, num_leaves=100;, score=-1632.828 total time=   0.6s\n",
      "[CV 2/5] END max_depth=15, n_estimators=100, num_leaves=100;, score=-1594.829 total time=   0.6s\n",
      "[CV 3/5] END max_depth=15, n_estimators=100, num_leaves=100;, score=-1622.590 total time=   0.7s\n",
      "[CV 4/5] END max_depth=15, n_estimators=100, num_leaves=100;, score=-1604.849 total time=   0.7s\n",
      "[CV 5/5] END max_depth=15, n_estimators=100, num_leaves=100;, score=-1607.482 total time=   0.8s\n",
      "[CV 1/5] END max_depth=15, n_estimators=200, num_leaves=20;, score=-1653.915 total time=   0.5s\n",
      "[CV 2/5] END max_depth=15, n_estimators=200, num_leaves=20;, score=-1629.119 total time=   0.5s\n",
      "[CV 3/5] END max_depth=15, n_estimators=200, num_leaves=20;, score=-1652.973 total time=   0.5s\n",
      "[CV 4/5] END max_depth=15, n_estimators=200, num_leaves=20;, score=-1635.057 total time=   0.5s\n",
      "[CV 5/5] END max_depth=15, n_estimators=200, num_leaves=20;, score=-1635.662 total time=   0.5s\n",
      "[CV 1/5] END max_depth=15, n_estimators=200, num_leaves=50;, score=-1624.168 total time=   0.8s\n",
      "[CV 2/5] END max_depth=15, n_estimators=200, num_leaves=50;, score=-1600.492 total time=   0.7s\n",
      "[CV 3/5] END max_depth=15, n_estimators=200, num_leaves=50;, score=-1620.204 total time=   0.7s\n",
      "[CV 4/5] END max_depth=15, n_estimators=200, num_leaves=50;, score=-1601.114 total time=   0.8s\n",
      "[CV 5/5] END max_depth=15, n_estimators=200, num_leaves=50;, score=-1603.713 total time=   0.7s\n",
      "[CV 1/5] END max_depth=15, n_estimators=200, num_leaves=100;, score=-1618.172 total time=   1.1s\n",
      "[CV 2/5] END max_depth=15, n_estimators=200, num_leaves=100;, score=-1581.098 total time=   1.1s\n",
      "[CV 3/5] END max_depth=15, n_estimators=200, num_leaves=100;, score=-1606.896 total time=   0.9s\n",
      "[CV 4/5] END max_depth=15, n_estimators=200, num_leaves=100;, score=-1594.056 total time=   0.9s\n",
      "[CV 5/5] END max_depth=15, n_estimators=200, num_leaves=100;, score=-1592.085 total time=   0.9s\n",
      "[CV 1/5] END max_depth=15, n_estimators=500, num_leaves=20;, score=-1629.319 total time=   1.0s\n",
      "[CV 2/5] END max_depth=15, n_estimators=500, num_leaves=20;, score=-1602.462 total time=   1.2s\n",
      "[CV 3/5] END max_depth=15, n_estimators=500, num_leaves=20;, score=-1624.756 total time=   1.2s\n",
      "[CV 4/5] END max_depth=15, n_estimators=500, num_leaves=20;, score=-1606.668 total time=   1.0s\n",
      "[CV 5/5] END max_depth=15, n_estimators=500, num_leaves=20;, score=-1608.725 total time=   1.0s\n",
      "[CV 1/5] END max_depth=15, n_estimators=500, num_leaves=50;, score=-1613.093 total time=   1.7s\n",
      "[CV 2/5] END max_depth=15, n_estimators=500, num_leaves=50;, score=-1584.329 total time=   1.5s\n",
      "[CV 3/5] END max_depth=15, n_estimators=500, num_leaves=50;, score=-1608.115 total time=   1.6s\n",
      "[CV 4/5] END max_depth=15, n_estimators=500, num_leaves=50;, score=-1586.908 total time=   1.4s\n",
      "[CV 5/5] END max_depth=15, n_estimators=500, num_leaves=50;, score=-1589.084 total time=   1.5s\n",
      "[CV 1/5] END max_depth=15, n_estimators=500, num_leaves=100;, score=-1613.488 total time=   2.0s\n",
      "[CV 2/5] END max_depth=15, n_estimators=500, num_leaves=100;, score=-1577.344 total time=   2.7s\n",
      "[CV 3/5] END max_depth=15, n_estimators=500, num_leaves=100;, score=-1599.011 total time=   2.3s\n",
      "[CV 4/5] END max_depth=15, n_estimators=500, num_leaves=100;, score=-1588.702 total time=   1.9s\n",
      "[CV 5/5] END max_depth=15, n_estimators=500, num_leaves=100;, score=-1587.951 total time=   2.0s\n",
      "[CV 1/5] END max_depth=30, n_estimators=100, num_leaves=20;, score=-1688.640 total time=   0.3s\n",
      "[CV 2/5] END max_depth=30, n_estimators=100, num_leaves=20;, score=-1661.142 total time=   0.3s\n",
      "[CV 3/5] END max_depth=30, n_estimators=100, num_leaves=20;, score=-1685.766 total time=   0.3s\n",
      "[CV 4/5] END max_depth=30, n_estimators=100, num_leaves=20;, score=-1670.692 total time=   0.3s\n",
      "[CV 5/5] END max_depth=30, n_estimators=100, num_leaves=20;, score=-1669.250 total time=   0.2s\n",
      "[CV 1/5] END max_depth=30, n_estimators=100, num_leaves=50;, score=-1643.491 total time=   0.4s\n",
      "[CV 2/5] END max_depth=30, n_estimators=100, num_leaves=50;, score=-1620.136 total time=   0.4s\n",
      "[CV 3/5] END max_depth=30, n_estimators=100, num_leaves=50;, score=-1639.490 total time=   0.4s\n",
      "[CV 4/5] END max_depth=30, n_estimators=100, num_leaves=50;, score=-1625.319 total time=   0.4s\n",
      "[CV 5/5] END max_depth=30, n_estimators=100, num_leaves=50;, score=-1626.795 total time=   0.4s\n",
      "[CV 1/5] END max_depth=30, n_estimators=100, num_leaves=100;, score=-1632.193 total time=   0.5s\n",
      "[CV 2/5] END max_depth=30, n_estimators=100, num_leaves=100;, score=-1596.110 total time=   0.5s\n",
      "[CV 3/5] END max_depth=30, n_estimators=100, num_leaves=100;, score=-1621.636 total time=   0.6s\n",
      "[CV 4/5] END max_depth=30, n_estimators=100, num_leaves=100;, score=-1605.647 total time=   0.5s\n",
      "[CV 5/5] END max_depth=30, n_estimators=100, num_leaves=100;, score=-1606.527 total time=   0.6s\n",
      "[CV 1/5] END max_depth=30, n_estimators=200, num_leaves=20;, score=-1653.915 total time=   0.4s\n",
      "[CV 2/5] END max_depth=30, n_estimators=200, num_leaves=20;, score=-1629.119 total time=   0.7s\n",
      "[CV 3/5] END max_depth=30, n_estimators=200, num_leaves=20;, score=-1652.973 total time=   0.7s\n",
      "[CV 4/5] END max_depth=30, n_estimators=200, num_leaves=20;, score=-1635.057 total time=   0.5s\n",
      "[CV 5/5] END max_depth=30, n_estimators=200, num_leaves=20;, score=-1635.662 total time=   0.4s\n",
      "[CV 1/5] END max_depth=30, n_estimators=200, num_leaves=50;, score=-1624.793 total time=   0.7s\n",
      "[CV 2/5] END max_depth=30, n_estimators=200, num_leaves=50;, score=-1600.470 total time=   0.7s\n",
      "[CV 3/5] END max_depth=30, n_estimators=200, num_leaves=50;, score=-1620.396 total time=   0.7s\n",
      "[CV 4/5] END max_depth=30, n_estimators=200, num_leaves=50;, score=-1600.765 total time=   0.8s\n",
      "[CV 5/5] END max_depth=30, n_estimators=200, num_leaves=50;, score=-1605.230 total time=   0.7s\n",
      "[CV 1/5] END max_depth=30, n_estimators=200, num_leaves=100;, score=-1618.641 total time=   0.9s\n",
      "[CV 2/5] END max_depth=30, n_estimators=200, num_leaves=100;, score=-1584.040 total time=   0.9s\n",
      "[CV 3/5] END max_depth=30, n_estimators=200, num_leaves=100;, score=-1609.583 total time=   0.9s\n",
      "[CV 4/5] END max_depth=30, n_estimators=200, num_leaves=100;, score=-1591.007 total time=   0.9s\n",
      "[CV 5/5] END max_depth=30, n_estimators=200, num_leaves=100;, score=-1591.756 total time=   1.0s\n",
      "[CV 1/5] END max_depth=30, n_estimators=500, num_leaves=20;, score=-1629.319 total time=   0.9s\n",
      "[CV 2/5] END max_depth=30, n_estimators=500, num_leaves=20;, score=-1602.462 total time=   1.0s\n",
      "[CV 3/5] END max_depth=30, n_estimators=500, num_leaves=20;, score=-1624.756 total time=   1.0s\n",
      "[CV 4/5] END max_depth=30, n_estimators=500, num_leaves=20;, score=-1606.668 total time=   1.0s\n",
      "[CV 5/5] END max_depth=30, n_estimators=500, num_leaves=20;, score=-1608.725 total time=   1.4s\n",
      "[CV 1/5] END max_depth=30, n_estimators=500, num_leaves=50;, score=-1612.781 total time=   1.6s\n",
      "[CV 2/5] END max_depth=30, n_estimators=500, num_leaves=50;, score=-1587.409 total time=   1.8s\n",
      "[CV 3/5] END max_depth=30, n_estimators=500, num_leaves=50;, score=-1605.062 total time=   1.4s\n",
      "[CV 4/5] END max_depth=30, n_estimators=500, num_leaves=50;, score=-1588.307 total time=   1.5s\n",
      "[CV 5/5] END max_depth=30, n_estimators=500, num_leaves=50;, score=-1589.369 total time=   1.5s\n",
      "[CV 1/5] END max_depth=30, n_estimators=500, num_leaves=100;, score=-1611.629 total time=   2.0s\n",
      "[CV 2/5] END max_depth=30, n_estimators=500, num_leaves=100;, score=-1579.242 total time=   2.0s\n",
      "[CV 3/5] END max_depth=30, n_estimators=500, num_leaves=100;, score=-1599.896 total time=   2.1s\n",
      "[CV 4/5] END max_depth=30, n_estimators=500, num_leaves=100;, score=-1584.886 total time=   2.6s\n",
      "[CV 5/5] END max_depth=30, n_estimators=500, num_leaves=100;, score=-1585.721 total time=   2.2s\n",
      "{'max_depth': 30, 'n_estimators': 500, 'num_leaves': 100}\n",
      "-1592.2748454778518\n",
      "Wall time: 1min 35s\n"
     ]
    }
   ],
   "source": [
    "%%time\n",
    "model_lgbm = LGBMRegressor(random_state=12345)\n",
    "param_lgbm = {\n",
    "    'n_estimators': [100, 200, 500],\n",
    "    'max_depth': [15,30],\n",
    "    'num_leaves': [20, 50, 100]\n",
    "}\n",
    "grid_lgbm = GridSearchCV(model_lgbm, param_lgbm, scoring = RMSE_score, verbose=3)\n",
    "grid_lgbm.fit(features_train,target_train)\n",
    "\n",
    "print(grid_lgbm .best_params_)\n",
    "print(grid_lgbm .best_score_)\n"
   ]
  },
  {
   "cell_type": "markdown",
   "metadata": {},
   "source": [
    "### Мы построили модели и подобрали гиперпараметры. Посчитали показатель RMSE  для моделей на тестовой выборке. Оценили время  необходимое на подбор гиперпараметров.  \n",
    "\n",
    "1. Налучшие показатели RMSE у моделей  LightGBM и модели случайного леса\n",
    "2. Максимальное время подбора гиперпараметроа у модели случайного леса"
   ]
  },
  {
   "cell_type": "markdown",
   "metadata": {},
   "source": [
    "## Анализ моделей"
   ]
  },
  {
   "cell_type": "markdown",
   "metadata": {},
   "source": [
    "#### Создадим функцию  для вычисления времени обучения и предсказания для моделей  с подобранными выше гиперпараметрами. А так же значение  RMSE на тестовой выборке. "
   ]
  },
  {
   "cell_type": "code",
   "execution_count": 49,
   "metadata": {},
   "outputs": [],
   "source": [
    "def calc_time(model, features_train, target_train):\n",
    "    start_time = time.time()\n",
    "    model.fit(features_train, target_train)\n",
    "    first_time = time.time() - start_time\n",
    "    start_time = time.time()\n",
    "    predict = model.predict(features_train)\n",
    "    second_time = time.time() - start_time\n",
    "    return first_time, second_time"
   ]
  },
  {
   "cell_type": "markdown",
   "metadata": {},
   "source": [
    "#### Применим нашу функции к различным моделям. "
   ]
  },
  {
   "cell_type": "code",
   "execution_count": 50,
   "metadata": {},
   "outputs": [],
   "source": [
    "model_LR = calc_time(LinearRegression(), features_train_ohe, target_train_ohe)"
   ]
  },
  {
   "cell_type": "code",
   "execution_count": 52,
   "metadata": {},
   "outputs": [
    {
     "data": {
      "text/plain": [
       "(3.406480312347412, 0.056847572326660156)"
      ]
     },
     "execution_count": 52,
     "metadata": {},
     "output_type": "execute_result"
    }
   ],
   "source": [
    "model_LR"
   ]
  },
  {
   "cell_type": "code",
   "execution_count": 53,
   "metadata": {},
   "outputs": [],
   "source": [
    "model_DT = calc_time(DecisionTreeRegressor(random_state=12345,\n",
    "                                           max_depth=9), features_train, target_train)"
   ]
  },
  {
   "cell_type": "code",
   "execution_count": 54,
   "metadata": {},
   "outputs": [
    {
     "data": {
      "text/plain": [
       "(0.3042275905609131, 0.03191423416137695)"
      ]
     },
     "execution_count": 54,
     "metadata": {},
     "output_type": "execute_result"
    }
   ],
   "source": [
    "model_DT"
   ]
  },
  {
   "cell_type": "code",
   "execution_count": 56,
   "metadata": {},
   "outputs": [],
   "source": [
    "model_RF =calc_time(RandomForestRegressor(random_state=12345, n_estimators=200,\n",
    "                          max_depth = 18), features_train, target_train)"
   ]
  },
  {
   "cell_type": "code",
   "execution_count": 57,
   "metadata": {},
   "outputs": [
    {
     "data": {
      "text/plain": [
       "(67.06345582008362, 7.630826711654663)"
      ]
     },
     "execution_count": 57,
     "metadata": {},
     "output_type": "execute_result"
    }
   ],
   "source": [
    "model_RF"
   ]
  },
  {
   "cell_type": "code",
   "execution_count": 59,
   "metadata": {},
   "outputs": [],
   "source": [
    "model_lgbm =calc_time(LGBMRegressor(random_state=12345, n_estimators=500, num_leaves = 100,\n",
    "                          max_depth = 30), features_train, target_train)"
   ]
  },
  {
   "cell_type": "code",
   "execution_count": 60,
   "metadata": {},
   "outputs": [
    {
     "data": {
      "text/plain": [
       "(2.1946699619293213, 1.4950413703918457)"
      ]
     },
     "execution_count": 60,
     "metadata": {},
     "output_type": "execute_result"
    }
   ],
   "source": [
    "model_lgbm "
   ]
  },
  {
   "cell_type": "markdown",
   "metadata": {},
   "source": [
    "#### Финальные результаты."
   ]
  },
  {
   "cell_type": "code",
   "execution_count": 61,
   "metadata": {},
   "outputs": [
    {
     "data": {
      "text/html": [
       "<div>\n",
       "<style scoped>\n",
       "    .dataframe tbody tr th:only-of-type {\n",
       "        vertical-align: middle;\n",
       "    }\n",
       "\n",
       "    .dataframe tbody tr th {\n",
       "        vertical-align: top;\n",
       "    }\n",
       "\n",
       "    .dataframe thead th {\n",
       "        text-align: right;\n",
       "    }\n",
       "</style>\n",
       "<table border=\"1\" class=\"dataframe\">\n",
       "  <thead>\n",
       "    <tr style=\"text-align: right;\">\n",
       "      <th></th>\n",
       "      <th>Время обучения</th>\n",
       "      <th>Время предсказания</th>\n",
       "      <th>RMSE</th>\n",
       "    </tr>\n",
       "  </thead>\n",
       "  <tbody>\n",
       "    <tr>\n",
       "      <th>LR</th>\n",
       "      <td>0.304228</td>\n",
       "      <td>0.031914</td>\n",
       "      <td>2626.788555</td>\n",
       "    </tr>\n",
       "    <tr>\n",
       "      <th>DecisionTrees</th>\n",
       "      <td>0.304228</td>\n",
       "      <td>0.031914</td>\n",
       "      <td>2067.490037</td>\n",
       "    </tr>\n",
       "    <tr>\n",
       "      <th>RandomForest</th>\n",
       "      <td>67.063456</td>\n",
       "      <td>7.630827</td>\n",
       "      <td>1685.497929</td>\n",
       "    </tr>\n",
       "    <tr>\n",
       "      <th>LGBM</th>\n",
       "      <td>2.194670</td>\n",
       "      <td>1.495041</td>\n",
       "      <td>1592.274845</td>\n",
       "    </tr>\n",
       "  </tbody>\n",
       "</table>\n",
       "</div>"
      ],
      "text/plain": [
       "               Время обучения  Время предсказания         RMSE\n",
       "LR                   0.304228            0.031914  2626.788555\n",
       "DecisionTrees        0.304228            0.031914  2067.490037\n",
       "RandomForest        67.063456            7.630827  1685.497929\n",
       "LGBM                 2.194670            1.495041  1592.274845"
      ]
     },
     "metadata": {},
     "output_type": "display_data"
    }
   ],
   "source": [
    "table = pd.DataFrame([[model_DT[0], model_DT[1],(-1)*scores.mean()], [model_DT[0], model_DT[1], (-1)*grid_DT.best_score_], [model_RF[0], model_RF[1], (-1)*grid_RF.best_score_],\n",
    "                      [model_lgbm[0], model_lgbm[1], (-1)* grid_lgbm .best_score_]], \n",
    "             columns=['Время обучения', 'Время предсказания', 'RMSE'], \n",
    "                      index=['LR','DecisionTrees', 'RandomForest','LGBM' ])\n",
    "display(table)"
   ]
  },
  {
   "cell_type": "markdown",
   "metadata": {},
   "source": [
    "### Исходя из итоговой таблицы  можно сделать вывод:\n",
    "\n",
    "1. Самое высокое качество предсказания у модели LGBM.\n",
    "2. Модель RandomForest\tтак же имеет хороший показтель RMSE, однако модель имеет самое большое время обучения и предсказания.\n",
    "3. Модель линейной регрессии  и DecisionTrees имеют неплохие скорости обучения и предсказаний, но показатель RMSE значиельно выше, чем у модели LGBM.\t\n"
   ]
  },
  {
   "cell_type": "markdown",
   "metadata": {},
   "source": [
    "### Наилучшая модель для заказчика это LGBM."
   ]
  },
  {
   "cell_type": "code",
   "execution_count": 62,
   "metadata": {},
   "outputs": [
    {
     "name": "stdout",
     "output_type": "stream",
     "text": [
      "RMSE модели LGBM на  тестовой выборке 1592.6043373056293\n"
     ]
    }
   ],
   "source": [
    "predict = grid_lgbm.predict(features_test)\n",
    "print('RMSE модели LGBM на  тестовой выборке', RMSE(target_test, predict))"
   ]
  },
  {
   "cell_type": "code",
   "execution_count": null,
   "metadata": {},
   "outputs": [],
   "source": []
  }
 ],
 "metadata": {
  "ExecuteTimeLog": [
   {
    "duration": 376,
    "start_time": "2023-04-17T02:22:08.501Z"
   },
   {
    "duration": 2813,
    "start_time": "2023-04-17T02:22:10.129Z"
   },
   {
    "duration": 31,
    "start_time": "2023-04-17T02:22:12.944Z"
   },
   {
    "duration": 124,
    "start_time": "2023-04-17T02:22:43.127Z"
   },
   {
    "duration": 108,
    "start_time": "2023-04-17T02:23:28.185Z"
   },
   {
    "duration": 403,
    "start_time": "2023-04-17T02:24:07.697Z"
   },
   {
    "duration": 756,
    "start_time": "2023-04-17T02:24:39.744Z"
   },
   {
    "duration": 5,
    "start_time": "2023-04-17T02:46:47.304Z"
   },
   {
    "duration": 22,
    "start_time": "2023-04-17T02:47:15.619Z"
   },
   {
    "duration": 22,
    "start_time": "2023-04-17T03:09:34.331Z"
   },
   {
    "duration": 21,
    "start_time": "2023-04-17T03:09:48.319Z"
   },
   {
    "duration": 393,
    "start_time": "2023-04-17T03:10:32.925Z"
   },
   {
    "duration": 759,
    "start_time": "2023-04-17T03:10:33.320Z"
   },
   {
    "duration": 29,
    "start_time": "2023-04-17T03:10:34.080Z"
   },
   {
    "duration": 126,
    "start_time": "2023-04-17T03:10:34.111Z"
   },
   {
    "duration": 121,
    "start_time": "2023-04-17T03:10:34.239Z"
   },
   {
    "duration": 428,
    "start_time": "2023-04-17T03:10:34.361Z"
   },
   {
    "duration": 881,
    "start_time": "2023-04-17T03:10:34.791Z"
   },
   {
    "duration": 24,
    "start_time": "2023-04-17T03:10:35.674Z"
   },
   {
    "duration": 80,
    "start_time": "2023-04-17T03:23:46.965Z"
   },
   {
    "duration": 3,
    "start_time": "2023-04-17T03:23:53.646Z"
   },
   {
    "duration": 7,
    "start_time": "2023-04-17T03:23:57.741Z"
   },
   {
    "duration": 7,
    "start_time": "2023-04-17T03:36:03.127Z"
   },
   {
    "duration": 21,
    "start_time": "2023-04-17T03:45:44.703Z"
   },
   {
    "duration": 349,
    "start_time": "2023-04-17T03:47:12.402Z"
   },
   {
    "duration": 22,
    "start_time": "2023-04-17T03:47:58.800Z"
   },
   {
    "duration": 371,
    "start_time": "2023-04-17T03:48:20.000Z"
   },
   {
    "duration": 749,
    "start_time": "2023-04-17T03:48:20.373Z"
   },
   {
    "duration": 25,
    "start_time": "2023-04-17T03:48:21.123Z"
   },
   {
    "duration": 124,
    "start_time": "2023-04-17T03:48:21.149Z"
   },
   {
    "duration": 129,
    "start_time": "2023-04-17T03:48:21.276Z"
   },
   {
    "duration": 413,
    "start_time": "2023-04-17T03:48:21.407Z"
   },
   {
    "duration": 840,
    "start_time": "2023-04-17T03:48:21.822Z"
   },
   {
    "duration": 27,
    "start_time": "2023-04-17T03:48:22.663Z"
   },
   {
    "duration": 23,
    "start_time": "2023-04-17T03:55:17.428Z"
   },
   {
    "duration": 416,
    "start_time": "2023-04-17T03:55:29.137Z"
   },
   {
    "duration": 781,
    "start_time": "2023-04-17T03:55:29.555Z"
   },
   {
    "duration": 36,
    "start_time": "2023-04-17T03:55:30.337Z"
   },
   {
    "duration": 124,
    "start_time": "2023-04-17T03:55:30.375Z"
   },
   {
    "duration": 131,
    "start_time": "2023-04-17T03:55:30.501Z"
   },
   {
    "duration": 487,
    "start_time": "2023-04-17T03:55:30.633Z"
   },
   {
    "duration": 807,
    "start_time": "2023-04-17T03:55:31.122Z"
   },
   {
    "duration": 21,
    "start_time": "2023-04-17T03:55:31.930Z"
   },
   {
    "duration": 4,
    "start_time": "2023-04-17T03:57:07.222Z"
   },
   {
    "duration": 433,
    "start_time": "2023-04-17T03:57:17.351Z"
   },
   {
    "duration": 798,
    "start_time": "2023-04-17T03:57:17.786Z"
   },
   {
    "duration": 29,
    "start_time": "2023-04-17T03:57:18.586Z"
   },
   {
    "duration": 131,
    "start_time": "2023-04-17T03:57:18.617Z"
   },
   {
    "duration": 123,
    "start_time": "2023-04-17T03:57:18.750Z"
   },
   {
    "duration": 470,
    "start_time": "2023-04-17T03:57:18.874Z"
   },
   {
    "duration": 834,
    "start_time": "2023-04-17T03:57:19.345Z"
   },
   {
    "duration": 23,
    "start_time": "2023-04-17T03:57:20.181Z"
   },
   {
    "duration": 22,
    "start_time": "2023-04-17T04:04:19.524Z"
   },
   {
    "duration": 36,
    "start_time": "2023-04-17T04:04:45.079Z"
   },
   {
    "duration": 79,
    "start_time": "2023-04-17T04:05:16.345Z"
   },
   {
    "duration": 29,
    "start_time": "2023-04-17T04:05:26.088Z"
   },
   {
    "duration": 73,
    "start_time": "2023-04-17T04:18:29.454Z"
   },
   {
    "duration": 61,
    "start_time": "2023-04-17T04:18:45.852Z"
   },
   {
    "duration": 355,
    "start_time": "2023-04-17T04:45:21.534Z"
   },
   {
    "duration": 348,
    "start_time": "2023-04-17T04:50:04.508Z"
   },
   {
    "duration": 709,
    "start_time": "2023-04-17T04:50:04.858Z"
   },
   {
    "duration": 25,
    "start_time": "2023-04-17T04:50:05.569Z"
   },
   {
    "duration": 121,
    "start_time": "2023-04-17T04:50:05.596Z"
   },
   {
    "duration": 107,
    "start_time": "2023-04-17T04:50:05.718Z"
   },
   {
    "duration": 440,
    "start_time": "2023-04-17T04:50:05.826Z"
   },
   {
    "duration": 684,
    "start_time": "2023-04-17T04:50:06.268Z"
   },
   {
    "duration": 815,
    "start_time": "2023-04-17T04:50:06.953Z"
   },
   {
    "duration": 65,
    "start_time": "2023-04-17T04:50:07.772Z"
   },
   {
    "duration": 0,
    "start_time": "2023-04-17T04:50:07.839Z"
   },
   {
    "duration": 0,
    "start_time": "2023-04-17T04:50:07.839Z"
   },
   {
    "duration": 73,
    "start_time": "2023-04-17T04:51:35.025Z"
   },
   {
    "duration": 64,
    "start_time": "2023-04-17T04:52:45.197Z"
   },
   {
    "duration": 526,
    "start_time": "2023-04-17T04:55:01.588Z"
   },
   {
    "duration": 551,
    "start_time": "2023-04-17T04:55:59.456Z"
   },
   {
    "duration": 301,
    "start_time": "2023-04-17T04:57:16.974Z"
   },
   {
    "duration": 322,
    "start_time": "2023-04-17T04:58:38.491Z"
   },
   {
    "duration": 21,
    "start_time": "2023-04-17T05:05:28.288Z"
   },
   {
    "duration": 51,
    "start_time": "2023-04-17T05:05:31.946Z"
   },
   {
    "duration": 30,
    "start_time": "2023-04-17T05:15:43.910Z"
   },
   {
    "duration": 17,
    "start_time": "2023-04-17T05:16:59.424Z"
   },
   {
    "duration": 40,
    "start_time": "2023-04-17T05:17:12.658Z"
   },
   {
    "duration": 28,
    "start_time": "2023-04-17T05:18:40.800Z"
   },
   {
    "duration": 42,
    "start_time": "2023-04-17T05:19:41.724Z"
   },
   {
    "duration": 38,
    "start_time": "2023-04-17T05:20:00.126Z"
   },
   {
    "duration": 15,
    "start_time": "2023-04-17T05:30:31.683Z"
   },
   {
    "duration": 32,
    "start_time": "2023-04-17T05:31:38.504Z"
   },
   {
    "duration": 29,
    "start_time": "2023-04-17T05:33:46.629Z"
   },
   {
    "duration": 37,
    "start_time": "2023-04-17T05:35:01.528Z"
   },
   {
    "duration": 56,
    "start_time": "2023-04-17T05:35:52.626Z"
   },
   {
    "duration": 143,
    "start_time": "2023-04-17T05:37:23.987Z"
   },
   {
    "duration": 92,
    "start_time": "2023-04-17T05:40:42.707Z"
   },
   {
    "duration": 90,
    "start_time": "2023-04-17T05:40:46.909Z"
   },
   {
    "duration": 6,
    "start_time": "2023-04-17T05:42:01.286Z"
   },
   {
    "duration": 43,
    "start_time": "2023-04-17T05:42:10.188Z"
   },
   {
    "duration": 55,
    "start_time": "2023-04-17T05:42:26.702Z"
   },
   {
    "duration": 11,
    "start_time": "2023-04-17T05:43:03.752Z"
   },
   {
    "duration": 55,
    "start_time": "2023-04-17T05:44:48.130Z"
   },
   {
    "duration": 53,
    "start_time": "2023-04-17T05:45:16.917Z"
   },
   {
    "duration": 111,
    "start_time": "2023-04-17T05:45:22.736Z"
   },
   {
    "duration": 26,
    "start_time": "2023-04-17T05:46:08.481Z"
   },
   {
    "duration": 23,
    "start_time": "2023-04-17T06:12:50.734Z"
   },
   {
    "duration": 397,
    "start_time": "2023-04-17T06:13:19.455Z"
   },
   {
    "duration": 684,
    "start_time": "2023-04-17T06:13:19.853Z"
   },
   {
    "duration": 25,
    "start_time": "2023-04-17T06:13:20.539Z"
   },
   {
    "duration": 108,
    "start_time": "2023-04-17T06:13:20.572Z"
   },
   {
    "duration": 119,
    "start_time": "2023-04-17T06:13:20.682Z"
   },
   {
    "duration": 380,
    "start_time": "2023-04-17T06:13:20.803Z"
   },
   {
    "duration": 707,
    "start_time": "2023-04-17T06:13:21.184Z"
   },
   {
    "duration": 779,
    "start_time": "2023-04-17T06:13:21.893Z"
   },
   {
    "duration": 319,
    "start_time": "2023-04-17T06:13:22.674Z"
   },
   {
    "duration": 18,
    "start_time": "2023-04-17T06:13:22.995Z"
   },
   {
    "duration": 64,
    "start_time": "2023-04-17T06:13:23.014Z"
   },
   {
    "duration": 34,
    "start_time": "2023-04-17T06:13:23.080Z"
   },
   {
    "duration": 19,
    "start_time": "2023-04-17T06:13:23.116Z"
   },
   {
    "duration": 39,
    "start_time": "2023-04-17T06:13:23.137Z"
   },
   {
    "duration": 44,
    "start_time": "2023-04-17T06:13:23.177Z"
   },
   {
    "duration": 29,
    "start_time": "2023-04-17T06:13:23.222Z"
   },
   {
    "duration": 106,
    "start_time": "2023-04-17T06:13:23.253Z"
   },
   {
    "duration": 28,
    "start_time": "2023-04-17T06:13:23.360Z"
   },
   {
    "duration": 91,
    "start_time": "2023-04-17T06:13:23.390Z"
   },
   {
    "duration": 79,
    "start_time": "2023-04-17T06:13:23.483Z"
   },
   {
    "duration": 63,
    "start_time": "2023-04-17T06:13:37.874Z"
   },
   {
    "duration": 330,
    "start_time": "2023-04-17T06:19:23.225Z"
   },
   {
    "duration": 673,
    "start_time": "2023-04-17T06:19:23.557Z"
   },
   {
    "duration": 26,
    "start_time": "2023-04-17T06:19:24.232Z"
   },
   {
    "duration": 121,
    "start_time": "2023-04-17T06:19:24.259Z"
   },
   {
    "duration": 96,
    "start_time": "2023-04-17T06:19:24.382Z"
   },
   {
    "duration": 403,
    "start_time": "2023-04-17T06:19:24.480Z"
   },
   {
    "duration": 727,
    "start_time": "2023-04-17T06:19:24.884Z"
   },
   {
    "duration": 867,
    "start_time": "2023-04-17T06:19:25.613Z"
   },
   {
    "duration": 309,
    "start_time": "2023-04-17T06:19:26.482Z"
   },
   {
    "duration": 19,
    "start_time": "2023-04-17T06:19:26.792Z"
   },
   {
    "duration": 57,
    "start_time": "2023-04-17T06:19:26.812Z"
   },
   {
    "duration": 28,
    "start_time": "2023-04-17T06:19:26.872Z"
   },
   {
    "duration": 28,
    "start_time": "2023-04-17T06:19:26.901Z"
   },
   {
    "duration": 59,
    "start_time": "2023-04-17T06:19:26.932Z"
   },
   {
    "duration": 66,
    "start_time": "2023-04-17T06:19:26.992Z"
   },
   {
    "duration": 48,
    "start_time": "2023-04-17T06:19:27.059Z"
   },
   {
    "duration": 91,
    "start_time": "2023-04-17T06:19:27.108Z"
   },
   {
    "duration": 29,
    "start_time": "2023-04-17T06:19:27.201Z"
   },
   {
    "duration": 107,
    "start_time": "2023-04-17T06:19:27.232Z"
   },
   {
    "duration": 64,
    "start_time": "2023-04-17T06:19:27.340Z"
   },
   {
    "duration": 30,
    "start_time": "2023-04-17T06:22:38.597Z"
   },
   {
    "duration": 397,
    "start_time": "2023-04-17T06:22:57.551Z"
   },
   {
    "duration": 699,
    "start_time": "2023-04-17T06:22:57.950Z"
   },
   {
    "duration": 32,
    "start_time": "2023-04-17T06:22:58.651Z"
   },
   {
    "duration": 112,
    "start_time": "2023-04-17T06:22:58.685Z"
   },
   {
    "duration": 122,
    "start_time": "2023-04-17T06:22:58.799Z"
   },
   {
    "duration": 392,
    "start_time": "2023-04-17T06:22:58.923Z"
   },
   {
    "duration": 695,
    "start_time": "2023-04-17T06:22:59.317Z"
   },
   {
    "duration": 805,
    "start_time": "2023-04-17T06:23:00.014Z"
   },
   {
    "duration": 331,
    "start_time": "2023-04-17T06:23:00.820Z"
   },
   {
    "duration": 24,
    "start_time": "2023-04-17T06:23:01.153Z"
   },
   {
    "duration": 74,
    "start_time": "2023-04-17T06:23:01.179Z"
   },
   {
    "duration": 71,
    "start_time": "2023-04-17T06:23:01.255Z"
   },
   {
    "duration": 50,
    "start_time": "2023-04-17T06:23:01.328Z"
   },
   {
    "duration": 60,
    "start_time": "2023-04-17T06:23:01.380Z"
   },
   {
    "duration": 70,
    "start_time": "2023-04-17T06:23:01.442Z"
   },
   {
    "duration": 41,
    "start_time": "2023-04-17T06:23:01.514Z"
   },
   {
    "duration": 110,
    "start_time": "2023-04-17T06:23:01.557Z"
   },
   {
    "duration": 27,
    "start_time": "2023-04-17T06:23:01.669Z"
   },
   {
    "duration": 89,
    "start_time": "2023-04-17T06:23:01.698Z"
   },
   {
    "duration": 178,
    "start_time": "2023-04-17T06:23:01.789Z"
   },
   {
    "duration": 77,
    "start_time": "2023-04-17T06:23:01.969Z"
   },
   {
    "duration": 6,
    "start_time": "2023-04-17T06:31:20.138Z"
   },
   {
    "duration": 13,
    "start_time": "2023-04-17T06:33:49.723Z"
   },
   {
    "duration": 25,
    "start_time": "2023-04-17T06:33:54.301Z"
   },
   {
    "duration": 10,
    "start_time": "2023-04-17T06:34:18.005Z"
   },
   {
    "duration": 424,
    "start_time": "2023-04-17T06:34:33.276Z"
   },
   {
    "duration": 746,
    "start_time": "2023-04-17T06:34:33.702Z"
   },
   {
    "duration": 30,
    "start_time": "2023-04-17T06:34:34.450Z"
   },
   {
    "duration": 119,
    "start_time": "2023-04-17T06:34:34.482Z"
   },
   {
    "duration": 208,
    "start_time": "2023-04-17T06:34:34.604Z"
   },
   {
    "duration": 448,
    "start_time": "2023-04-17T06:34:34.814Z"
   },
   {
    "duration": 820,
    "start_time": "2023-04-17T06:34:35.264Z"
   },
   {
    "duration": 919,
    "start_time": "2023-04-17T06:34:36.086Z"
   },
   {
    "duration": 324,
    "start_time": "2023-04-17T06:34:37.006Z"
   },
   {
    "duration": 20,
    "start_time": "2023-04-17T06:34:37.331Z"
   },
   {
    "duration": 57,
    "start_time": "2023-04-17T06:34:37.353Z"
   },
   {
    "duration": 29,
    "start_time": "2023-04-17T06:34:37.412Z"
   },
   {
    "duration": 42,
    "start_time": "2023-04-17T06:34:37.442Z"
   },
   {
    "duration": 42,
    "start_time": "2023-04-17T06:34:37.487Z"
   },
   {
    "duration": 56,
    "start_time": "2023-04-17T06:34:37.530Z"
   },
   {
    "duration": 28,
    "start_time": "2023-04-17T06:34:37.587Z"
   },
   {
    "duration": 80,
    "start_time": "2023-04-17T06:34:37.617Z"
   },
   {
    "duration": 28,
    "start_time": "2023-04-17T06:34:37.699Z"
   },
   {
    "duration": 44,
    "start_time": "2023-04-17T06:34:37.729Z"
   },
   {
    "duration": 67,
    "start_time": "2023-04-17T06:34:37.774Z"
   },
   {
    "duration": 85,
    "start_time": "2023-04-17T06:34:37.843Z"
   },
   {
    "duration": 6,
    "start_time": "2023-04-17T06:34:37.929Z"
   },
   {
    "duration": 18,
    "start_time": "2023-04-17T06:34:37.936Z"
   },
   {
    "duration": 26,
    "start_time": "2023-04-17T06:35:43.636Z"
   },
   {
    "duration": 18,
    "start_time": "2023-04-17T06:35:54.728Z"
   },
   {
    "duration": 407,
    "start_time": "2023-04-17T06:36:04.112Z"
   },
   {
    "duration": 734,
    "start_time": "2023-04-17T06:36:04.521Z"
   },
   {
    "duration": 30,
    "start_time": "2023-04-17T06:36:05.257Z"
   },
   {
    "duration": 117,
    "start_time": "2023-04-17T06:36:05.288Z"
   },
   {
    "duration": 121,
    "start_time": "2023-04-17T06:36:05.407Z"
   },
   {
    "duration": 461,
    "start_time": "2023-04-17T06:36:05.530Z"
   },
   {
    "duration": 878,
    "start_time": "2023-04-17T06:36:05.993Z"
   },
   {
    "duration": 850,
    "start_time": "2023-04-17T06:36:06.872Z"
   },
   {
    "duration": 326,
    "start_time": "2023-04-17T06:36:07.724Z"
   },
   {
    "duration": 28,
    "start_time": "2023-04-17T06:36:08.051Z"
   },
   {
    "duration": 61,
    "start_time": "2023-04-17T06:36:08.081Z"
   },
   {
    "duration": 62,
    "start_time": "2023-04-17T06:36:08.144Z"
   },
   {
    "duration": 32,
    "start_time": "2023-04-17T06:36:08.208Z"
   },
   {
    "duration": 43,
    "start_time": "2023-04-17T06:36:08.243Z"
   },
   {
    "duration": 55,
    "start_time": "2023-04-17T06:36:08.287Z"
   },
   {
    "duration": 45,
    "start_time": "2023-04-17T06:36:08.343Z"
   },
   {
    "duration": 106,
    "start_time": "2023-04-17T06:36:08.392Z"
   },
   {
    "duration": 55,
    "start_time": "2023-04-17T06:36:08.500Z"
   },
   {
    "duration": 80,
    "start_time": "2023-04-17T06:36:08.557Z"
   },
   {
    "duration": 161,
    "start_time": "2023-04-17T06:36:08.639Z"
   },
   {
    "duration": 82,
    "start_time": "2023-04-17T06:36:08.802Z"
   },
   {
    "duration": 7,
    "start_time": "2023-04-17T06:36:08.885Z"
   },
   {
    "duration": 37,
    "start_time": "2023-04-17T06:36:08.894Z"
   },
   {
    "duration": 360,
    "start_time": "2023-04-17T06:38:21.505Z"
   },
   {
    "duration": 728,
    "start_time": "2023-04-17T06:38:21.867Z"
   },
   {
    "duration": 25,
    "start_time": "2023-04-17T06:38:22.597Z"
   },
   {
    "duration": 224,
    "start_time": "2023-04-17T06:38:22.624Z"
   },
   {
    "duration": 190,
    "start_time": "2023-04-17T06:38:22.851Z"
   },
   {
    "duration": 452,
    "start_time": "2023-04-17T06:38:23.043Z"
   },
   {
    "duration": 827,
    "start_time": "2023-04-17T06:38:23.497Z"
   },
   {
    "duration": 833,
    "start_time": "2023-04-17T06:38:24.326Z"
   },
   {
    "duration": 403,
    "start_time": "2023-04-17T06:38:25.161Z"
   },
   {
    "duration": 29,
    "start_time": "2023-04-17T06:38:25.565Z"
   },
   {
    "duration": 64,
    "start_time": "2023-04-17T06:38:25.595Z"
   },
   {
    "duration": 41,
    "start_time": "2023-04-17T06:38:25.660Z"
   },
   {
    "duration": 55,
    "start_time": "2023-04-17T06:38:25.703Z"
   },
   {
    "duration": 85,
    "start_time": "2023-04-17T06:38:25.762Z"
   },
   {
    "duration": 156,
    "start_time": "2023-04-17T06:38:25.849Z"
   },
   {
    "duration": 66,
    "start_time": "2023-04-17T06:38:26.007Z"
   },
   {
    "duration": 145,
    "start_time": "2023-04-17T06:38:26.075Z"
   },
   {
    "duration": 59,
    "start_time": "2023-04-17T06:38:26.222Z"
   },
   {
    "duration": 81,
    "start_time": "2023-04-17T06:38:26.283Z"
   },
   {
    "duration": 157,
    "start_time": "2023-04-17T06:38:26.366Z"
   },
   {
    "duration": 73,
    "start_time": "2023-04-17T06:38:26.524Z"
   },
   {
    "duration": 77,
    "start_time": "2023-04-17T06:38:26.599Z"
   },
   {
    "duration": 32,
    "start_time": "2023-04-17T06:38:26.678Z"
   },
   {
    "duration": 26,
    "start_time": "2023-04-17T06:44:05.099Z"
   },
   {
    "duration": 22,
    "start_time": "2023-04-17T07:53:33.037Z"
   },
   {
    "duration": 6,
    "start_time": "2023-04-17T07:53:56.731Z"
   },
   {
    "duration": 361,
    "start_time": "2023-04-17T07:54:12.534Z"
   },
   {
    "duration": 816,
    "start_time": "2023-04-17T07:54:12.897Z"
   },
   {
    "duration": 34,
    "start_time": "2023-04-17T07:54:13.714Z"
   },
   {
    "duration": 140,
    "start_time": "2023-04-17T07:54:13.749Z"
   },
   {
    "duration": 128,
    "start_time": "2023-04-17T07:54:13.891Z"
   },
   {
    "duration": 470,
    "start_time": "2023-04-17T07:54:14.021Z"
   },
   {
    "duration": 913,
    "start_time": "2023-04-17T07:54:14.493Z"
   },
   {
    "duration": 880,
    "start_time": "2023-04-17T07:54:15.408Z"
   },
   {
    "duration": 419,
    "start_time": "2023-04-17T07:54:16.289Z"
   },
   {
    "duration": 19,
    "start_time": "2023-04-17T07:54:16.709Z"
   },
   {
    "duration": 68,
    "start_time": "2023-04-17T07:54:16.729Z"
   },
   {
    "duration": 28,
    "start_time": "2023-04-17T07:54:16.798Z"
   },
   {
    "duration": 64,
    "start_time": "2023-04-17T07:54:16.827Z"
   },
   {
    "duration": 27,
    "start_time": "2023-04-17T07:54:16.895Z"
   },
   {
    "duration": 63,
    "start_time": "2023-04-17T07:54:16.923Z"
   },
   {
    "duration": 29,
    "start_time": "2023-04-17T07:54:16.987Z"
   },
   {
    "duration": 86,
    "start_time": "2023-04-17T07:54:17.017Z"
   },
   {
    "duration": 31,
    "start_time": "2023-04-17T07:54:17.104Z"
   },
   {
    "duration": 55,
    "start_time": "2023-04-17T07:54:17.137Z"
   },
   {
    "duration": 67,
    "start_time": "2023-04-17T07:54:17.194Z"
   },
   {
    "duration": 66,
    "start_time": "2023-04-17T07:54:17.282Z"
   },
   {
    "duration": 9,
    "start_time": "2023-04-17T07:54:17.349Z"
   },
   {
    "duration": 30,
    "start_time": "2023-04-17T07:54:17.359Z"
   },
   {
    "duration": 434,
    "start_time": "2023-04-17T09:30:03.055Z"
   },
   {
    "duration": 783,
    "start_time": "2023-04-17T09:30:03.495Z"
   },
   {
    "duration": 29,
    "start_time": "2023-04-17T09:30:04.280Z"
   },
   {
    "duration": 128,
    "start_time": "2023-04-17T09:30:04.311Z"
   },
   {
    "duration": 115,
    "start_time": "2023-04-17T09:30:04.441Z"
   },
   {
    "duration": 412,
    "start_time": "2023-04-17T09:30:04.558Z"
   },
   {
    "duration": 800,
    "start_time": "2023-04-17T09:30:04.972Z"
   },
   {
    "duration": 916,
    "start_time": "2023-04-17T09:30:05.774Z"
   },
   {
    "duration": 329,
    "start_time": "2023-04-17T09:30:06.697Z"
   },
   {
    "duration": 21,
    "start_time": "2023-04-17T09:30:07.027Z"
   },
   {
    "duration": 92,
    "start_time": "2023-04-17T09:30:07.050Z"
   },
   {
    "duration": 30,
    "start_time": "2023-04-17T09:30:07.143Z"
   },
   {
    "duration": 52,
    "start_time": "2023-04-17T09:30:07.174Z"
   },
   {
    "duration": 28,
    "start_time": "2023-04-17T09:30:07.229Z"
   },
   {
    "duration": 57,
    "start_time": "2023-04-17T09:30:07.272Z"
   },
   {
    "duration": 30,
    "start_time": "2023-04-17T09:30:07.331Z"
   },
   {
    "duration": 111,
    "start_time": "2023-04-17T09:30:07.362Z"
   },
   {
    "duration": 34,
    "start_time": "2023-04-17T09:30:07.475Z"
   },
   {
    "duration": 35,
    "start_time": "2023-04-17T09:30:07.511Z"
   },
   {
    "duration": 95,
    "start_time": "2023-04-17T09:30:07.547Z"
   },
   {
    "duration": 117,
    "start_time": "2023-04-17T09:30:07.643Z"
   },
   {
    "duration": 30,
    "start_time": "2023-04-17T09:30:07.771Z"
   },
   {
    "duration": 21,
    "start_time": "2023-04-17T09:30:07.803Z"
   },
   {
    "duration": 27,
    "start_time": "2023-04-17T09:30:07.826Z"
   },
   {
    "duration": 4,
    "start_time": "2023-04-17T09:33:03.505Z"
   },
   {
    "duration": 12,
    "start_time": "2023-04-17T09:33:15.245Z"
   },
   {
    "duration": 17,
    "start_time": "2023-04-17T09:33:39.163Z"
   },
   {
    "duration": 386,
    "start_time": "2023-04-17T09:33:52.793Z"
   },
   {
    "duration": 724,
    "start_time": "2023-04-17T09:33:53.181Z"
   },
   {
    "duration": 23,
    "start_time": "2023-04-17T09:33:53.906Z"
   },
   {
    "duration": 117,
    "start_time": "2023-04-17T09:33:53.931Z"
   },
   {
    "duration": 126,
    "start_time": "2023-04-17T09:33:54.050Z"
   },
   {
    "duration": 465,
    "start_time": "2023-04-17T09:33:54.179Z"
   },
   {
    "duration": 758,
    "start_time": "2023-04-17T09:33:54.646Z"
   },
   {
    "duration": 825,
    "start_time": "2023-04-17T09:33:55.405Z"
   },
   {
    "duration": 418,
    "start_time": "2023-04-17T09:33:56.231Z"
   },
   {
    "duration": 26,
    "start_time": "2023-04-17T09:33:56.652Z"
   },
   {
    "duration": 47,
    "start_time": "2023-04-17T09:33:56.680Z"
   },
   {
    "duration": 47,
    "start_time": "2023-04-17T09:33:56.728Z"
   },
   {
    "duration": 51,
    "start_time": "2023-04-17T09:33:56.777Z"
   },
   {
    "duration": 26,
    "start_time": "2023-04-17T09:33:56.830Z"
   },
   {
    "duration": 53,
    "start_time": "2023-04-17T09:33:56.858Z"
   },
   {
    "duration": 29,
    "start_time": "2023-04-17T09:33:56.912Z"
   },
   {
    "duration": 78,
    "start_time": "2023-04-17T09:33:56.943Z"
   },
   {
    "duration": 28,
    "start_time": "2023-04-17T09:33:57.023Z"
   },
   {
    "duration": 51,
    "start_time": "2023-04-17T09:33:57.052Z"
   },
   {
    "duration": 88,
    "start_time": "2023-04-17T09:33:57.105Z"
   },
   {
    "duration": 65,
    "start_time": "2023-04-17T09:33:57.194Z"
   },
   {
    "duration": 26,
    "start_time": "2023-04-17T09:33:57.261Z"
   },
   {
    "duration": 30,
    "start_time": "2023-04-17T09:33:57.289Z"
   },
   {
    "duration": 12,
    "start_time": "2023-04-17T09:33:57.320Z"
   },
   {
    "duration": 399,
    "start_time": "2023-04-17T09:37:20.775Z"
   },
   {
    "duration": 695,
    "start_time": "2023-04-17T09:37:21.176Z"
   },
   {
    "duration": 25,
    "start_time": "2023-04-17T09:37:21.873Z"
   },
   {
    "duration": 115,
    "start_time": "2023-04-17T09:37:21.900Z"
   },
   {
    "duration": 102,
    "start_time": "2023-04-17T09:37:22.017Z"
   },
   {
    "duration": 389,
    "start_time": "2023-04-17T09:37:22.120Z"
   },
   {
    "duration": 720,
    "start_time": "2023-04-17T09:37:22.510Z"
   },
   {
    "duration": 778,
    "start_time": "2023-04-17T09:37:23.231Z"
   },
   {
    "duration": 288,
    "start_time": "2023-04-17T09:37:24.010Z"
   },
   {
    "duration": 18,
    "start_time": "2023-04-17T09:37:24.299Z"
   },
   {
    "duration": 56,
    "start_time": "2023-04-17T09:37:24.319Z"
   },
   {
    "duration": 28,
    "start_time": "2023-04-17T09:37:24.376Z"
   },
   {
    "duration": 43,
    "start_time": "2023-04-17T09:37:24.405Z"
   },
   {
    "duration": 37,
    "start_time": "2023-04-17T09:37:24.450Z"
   },
   {
    "duration": 40,
    "start_time": "2023-04-17T09:37:24.488Z"
   },
   {
    "duration": 47,
    "start_time": "2023-04-17T09:37:24.529Z"
   },
   {
    "duration": 64,
    "start_time": "2023-04-17T09:37:24.577Z"
   },
   {
    "duration": 36,
    "start_time": "2023-04-17T09:37:24.642Z"
   },
   {
    "duration": 31,
    "start_time": "2023-04-17T09:37:24.680Z"
   },
   {
    "duration": 75,
    "start_time": "2023-04-17T09:37:24.712Z"
   },
   {
    "duration": 60,
    "start_time": "2023-04-17T09:37:24.788Z"
   },
   {
    "duration": 26,
    "start_time": "2023-04-17T09:37:24.850Z"
   },
   {
    "duration": 55,
    "start_time": "2023-04-17T09:37:24.877Z"
   },
   {
    "duration": 10,
    "start_time": "2023-04-17T09:37:24.933Z"
   },
   {
    "duration": 442,
    "start_time": "2023-04-17T12:22:44.684Z"
   },
   {
    "duration": 3395,
    "start_time": "2023-04-17T12:22:45.128Z"
   },
   {
    "duration": 32,
    "start_time": "2023-04-17T12:22:48.525Z"
   },
   {
    "duration": 120,
    "start_time": "2023-04-17T12:22:48.558Z"
   },
   {
    "duration": 116,
    "start_time": "2023-04-17T12:22:48.680Z"
   },
   {
    "duration": 504,
    "start_time": "2023-04-17T12:22:48.797Z"
   },
   {
    "duration": 956,
    "start_time": "2023-04-17T12:22:49.303Z"
   },
   {
    "duration": 1071,
    "start_time": "2023-04-17T12:22:50.261Z"
   },
   {
    "duration": 401,
    "start_time": "2023-04-17T12:22:51.334Z"
   },
   {
    "duration": 26,
    "start_time": "2023-04-17T12:22:51.736Z"
   },
   {
    "duration": 70,
    "start_time": "2023-04-17T12:22:51.763Z"
   },
   {
    "duration": 363,
    "start_time": "2023-04-17T12:22:51.834Z"
   },
   {
    "duration": 27,
    "start_time": "2023-04-17T12:22:52.199Z"
   },
   {
    "duration": 41,
    "start_time": "2023-04-17T12:22:52.229Z"
   },
   {
    "duration": 41,
    "start_time": "2023-04-17T12:22:52.271Z"
   },
   {
    "duration": 44,
    "start_time": "2023-04-17T12:22:52.314Z"
   },
   {
    "duration": 40,
    "start_time": "2023-04-17T12:22:52.359Z"
   },
   {
    "duration": 69,
    "start_time": "2023-04-17T12:22:52.401Z"
   },
   {
    "duration": 36,
    "start_time": "2023-04-17T12:22:52.472Z"
   },
   {
    "duration": 36,
    "start_time": "2023-04-17T12:22:52.509Z"
   },
   {
    "duration": 77,
    "start_time": "2023-04-17T12:22:52.548Z"
   },
   {
    "duration": 67,
    "start_time": "2023-04-17T12:22:52.626Z"
   },
   {
    "duration": 10,
    "start_time": "2023-04-17T12:22:52.695Z"
   },
   {
    "duration": 28,
    "start_time": "2023-04-17T12:22:52.707Z"
   },
   {
    "duration": 13,
    "start_time": "2023-04-17T12:22:52.737Z"
   },
   {
    "duration": 406,
    "start_time": "2023-04-17T12:23:32.612Z"
   },
   {
    "duration": 869,
    "start_time": "2023-04-17T12:23:33.021Z"
   },
   {
    "duration": 35,
    "start_time": "2023-04-17T12:23:33.891Z"
   },
   {
    "duration": 135,
    "start_time": "2023-04-17T12:23:33.928Z"
   },
   {
    "duration": 115,
    "start_time": "2023-04-17T12:23:34.065Z"
   },
   {
    "duration": 484,
    "start_time": "2023-04-17T12:23:34.189Z"
   },
   {
    "duration": 931,
    "start_time": "2023-04-17T12:23:34.675Z"
   },
   {
    "duration": 1025,
    "start_time": "2023-04-17T12:23:35.608Z"
   },
   {
    "duration": 376,
    "start_time": "2023-04-17T12:23:36.635Z"
   },
   {
    "duration": 24,
    "start_time": "2023-04-17T12:23:37.014Z"
   },
   {
    "duration": 69,
    "start_time": "2023-04-17T12:23:37.040Z"
   },
   {
    "duration": 189,
    "start_time": "2023-04-17T12:23:37.111Z"
   },
   {
    "duration": 30,
    "start_time": "2023-04-17T12:23:37.302Z"
   },
   {
    "duration": 60,
    "start_time": "2023-04-17T12:23:37.334Z"
   },
   {
    "duration": 32,
    "start_time": "2023-04-17T12:23:37.395Z"
   },
   {
    "duration": 61,
    "start_time": "2023-04-17T12:23:37.429Z"
   },
   {
    "duration": 32,
    "start_time": "2023-04-17T12:23:37.492Z"
   },
   {
    "duration": 90,
    "start_time": "2023-04-17T12:23:37.526Z"
   },
   {
    "duration": 30,
    "start_time": "2023-04-17T12:23:37.618Z"
   },
   {
    "duration": 57,
    "start_time": "2023-04-17T12:23:37.650Z"
   },
   {
    "duration": 85,
    "start_time": "2023-04-17T12:23:37.709Z"
   },
   {
    "duration": 70,
    "start_time": "2023-04-17T12:23:37.795Z"
   },
   {
    "duration": 22,
    "start_time": "2023-04-17T12:23:37.867Z"
   },
   {
    "duration": 34,
    "start_time": "2023-04-17T12:23:37.891Z"
   },
   {
    "duration": 13,
    "start_time": "2023-04-17T12:23:37.927Z"
   },
   {
    "duration": 8,
    "start_time": "2023-04-17T12:27:00.824Z"
   },
   {
    "duration": 446,
    "start_time": "2023-04-17T12:27:09.773Z"
   },
   {
    "duration": 870,
    "start_time": "2023-04-17T12:27:10.221Z"
   },
   {
    "duration": 32,
    "start_time": "2023-04-17T12:27:11.093Z"
   },
   {
    "duration": 131,
    "start_time": "2023-04-17T12:27:11.126Z"
   },
   {
    "duration": 131,
    "start_time": "2023-04-17T12:27:11.259Z"
   },
   {
    "duration": 542,
    "start_time": "2023-04-17T12:27:11.392Z"
   },
   {
    "duration": 934,
    "start_time": "2023-04-17T12:27:11.936Z"
   },
   {
    "duration": 1061,
    "start_time": "2023-04-17T12:27:12.872Z"
   },
   {
    "duration": 424,
    "start_time": "2023-04-17T12:27:13.935Z"
   },
   {
    "duration": 30,
    "start_time": "2023-04-17T12:27:14.361Z"
   },
   {
    "duration": 64,
    "start_time": "2023-04-17T12:27:14.393Z"
   },
   {
    "duration": 210,
    "start_time": "2023-04-17T12:27:14.459Z"
   },
   {
    "duration": 37,
    "start_time": "2023-04-17T12:27:14.671Z"
   },
   {
    "duration": 47,
    "start_time": "2023-04-17T12:27:14.711Z"
   },
   {
    "duration": 47,
    "start_time": "2023-04-17T12:27:14.760Z"
   },
   {
    "duration": 64,
    "start_time": "2023-04-17T12:27:14.809Z"
   },
   {
    "duration": 50,
    "start_time": "2023-04-17T12:27:14.875Z"
   },
   {
    "duration": 95,
    "start_time": "2023-04-17T12:27:14.927Z"
   },
   {
    "duration": 32,
    "start_time": "2023-04-17T12:27:15.024Z"
   },
   {
    "duration": 52,
    "start_time": "2023-04-17T12:27:15.058Z"
   },
   {
    "duration": 81,
    "start_time": "2023-04-17T12:27:15.112Z"
   },
   {
    "duration": 71,
    "start_time": "2023-04-17T12:27:15.195Z"
   },
   {
    "duration": 31,
    "start_time": "2023-04-17T12:27:15.267Z"
   },
   {
    "duration": 28,
    "start_time": "2023-04-17T12:27:15.300Z"
   },
   {
    "duration": 13,
    "start_time": "2023-04-17T12:27:15.329Z"
   },
   {
    "duration": 412,
    "start_time": "2023-04-17T12:31:13.313Z"
   },
   {
    "duration": 867,
    "start_time": "2023-04-17T12:31:13.727Z"
   },
   {
    "duration": 30,
    "start_time": "2023-04-17T12:31:14.596Z"
   },
   {
    "duration": 128,
    "start_time": "2023-04-17T12:31:14.628Z"
   },
   {
    "duration": 131,
    "start_time": "2023-04-17T12:31:14.758Z"
   },
   {
    "duration": 488,
    "start_time": "2023-04-17T12:31:14.890Z"
   },
   {
    "duration": 953,
    "start_time": "2023-04-17T12:31:15.380Z"
   },
   {
    "duration": 1008,
    "start_time": "2023-04-17T12:31:16.334Z"
   },
   {
    "duration": 388,
    "start_time": "2023-04-17T12:31:17.343Z"
   },
   {
    "duration": 26,
    "start_time": "2023-04-17T12:31:17.734Z"
   },
   {
    "duration": 88,
    "start_time": "2023-04-17T12:31:17.762Z"
   },
   {
    "duration": 201,
    "start_time": "2023-04-17T12:31:17.852Z"
   },
   {
    "duration": 37,
    "start_time": "2023-04-17T12:31:18.055Z"
   },
   {
    "duration": 68,
    "start_time": "2023-04-17T12:31:18.094Z"
   },
   {
    "duration": 39,
    "start_time": "2023-04-17T12:31:18.164Z"
   },
   {
    "duration": 49,
    "start_time": "2023-04-17T12:31:18.205Z"
   },
   {
    "duration": 53,
    "start_time": "2023-04-17T12:31:18.256Z"
   },
   {
    "duration": 82,
    "start_time": "2023-04-17T12:31:18.311Z"
   },
   {
    "duration": 30,
    "start_time": "2023-04-17T12:31:18.395Z"
   },
   {
    "duration": 37,
    "start_time": "2023-04-17T12:31:18.427Z"
   },
   {
    "duration": 92,
    "start_time": "2023-04-17T12:31:18.465Z"
   },
   {
    "duration": 79,
    "start_time": "2023-04-17T12:31:18.559Z"
   },
   {
    "duration": 11,
    "start_time": "2023-04-17T12:31:18.639Z"
   },
   {
    "duration": 44,
    "start_time": "2023-04-17T12:31:18.651Z"
   },
   {
    "duration": 12,
    "start_time": "2023-04-17T12:31:18.697Z"
   },
   {
    "duration": 15,
    "start_time": "2023-04-17T12:31:56.776Z"
   },
   {
    "duration": 518,
    "start_time": "2023-04-17T12:32:44.975Z"
   },
   {
    "duration": 946,
    "start_time": "2023-04-17T12:32:45.496Z"
   },
   {
    "duration": 30,
    "start_time": "2023-04-17T12:32:46.444Z"
   },
   {
    "duration": 140,
    "start_time": "2023-04-17T12:32:46.476Z"
   },
   {
    "duration": 143,
    "start_time": "2023-04-17T12:32:46.618Z"
   },
   {
    "duration": 537,
    "start_time": "2023-04-17T12:32:46.763Z"
   },
   {
    "duration": 1015,
    "start_time": "2023-04-17T12:32:47.301Z"
   },
   {
    "duration": 1036,
    "start_time": "2023-04-17T12:32:48.318Z"
   },
   {
    "duration": 422,
    "start_time": "2023-04-17T12:32:49.355Z"
   },
   {
    "duration": 49,
    "start_time": "2023-04-17T12:32:49.781Z"
   },
   {
    "duration": 79,
    "start_time": "2023-04-17T12:32:49.833Z"
   },
   {
    "duration": 209,
    "start_time": "2023-04-17T12:32:49.917Z"
   },
   {
    "duration": 32,
    "start_time": "2023-04-17T12:32:50.128Z"
   },
   {
    "duration": 60,
    "start_time": "2023-04-17T12:32:50.162Z"
   },
   {
    "duration": 33,
    "start_time": "2023-04-17T12:32:50.224Z"
   },
   {
    "duration": 72,
    "start_time": "2023-04-17T12:32:50.259Z"
   },
   {
    "duration": 31,
    "start_time": "2023-04-17T12:32:50.333Z"
   },
   {
    "duration": 100,
    "start_time": "2023-04-17T12:32:50.365Z"
   },
   {
    "duration": 43,
    "start_time": "2023-04-17T12:32:50.467Z"
   },
   {
    "duration": 35,
    "start_time": "2023-04-17T12:32:50.512Z"
   },
   {
    "duration": 97,
    "start_time": "2023-04-17T12:32:50.549Z"
   },
   {
    "duration": 81,
    "start_time": "2023-04-17T12:32:50.647Z"
   },
   {
    "duration": 26,
    "start_time": "2023-04-17T12:32:50.730Z"
   },
   {
    "duration": 63,
    "start_time": "2023-04-17T12:32:50.758Z"
   },
   {
    "duration": 13,
    "start_time": "2023-04-17T12:32:50.824Z"
   },
   {
    "duration": 9,
    "start_time": "2023-04-17T12:33:51.400Z"
   },
   {
    "duration": 435,
    "start_time": "2023-04-17T12:34:00.033Z"
   },
   {
    "duration": 932,
    "start_time": "2023-04-17T12:34:00.470Z"
   },
   {
    "duration": 31,
    "start_time": "2023-04-17T12:34:01.404Z"
   },
   {
    "duration": 151,
    "start_time": "2023-04-17T12:34:01.437Z"
   },
   {
    "duration": 161,
    "start_time": "2023-04-17T12:34:01.591Z"
   },
   {
    "duration": 554,
    "start_time": "2023-04-17T12:34:01.755Z"
   },
   {
    "duration": 946,
    "start_time": "2023-04-17T12:34:02.311Z"
   },
   {
    "duration": 984,
    "start_time": "2023-04-17T12:34:03.259Z"
   },
   {
    "duration": 387,
    "start_time": "2023-04-17T12:34:04.244Z"
   },
   {
    "duration": 25,
    "start_time": "2023-04-17T12:34:04.633Z"
   },
   {
    "duration": 67,
    "start_time": "2023-04-17T12:34:04.660Z"
   },
   {
    "duration": 353,
    "start_time": "2023-04-17T12:34:04.729Z"
   },
   {
    "duration": 37,
    "start_time": "2023-04-17T12:34:05.083Z"
   },
   {
    "duration": 64,
    "start_time": "2023-04-17T12:34:05.122Z"
   },
   {
    "duration": 40,
    "start_time": "2023-04-17T12:34:05.187Z"
   },
   {
    "duration": 63,
    "start_time": "2023-04-17T12:34:05.228Z"
   },
   {
    "duration": 56,
    "start_time": "2023-04-17T12:34:05.293Z"
   },
   {
    "duration": 100,
    "start_time": "2023-04-17T12:34:05.351Z"
   },
   {
    "duration": 37,
    "start_time": "2023-04-17T12:34:05.453Z"
   },
   {
    "duration": 45,
    "start_time": "2023-04-17T12:34:05.492Z"
   },
   {
    "duration": 95,
    "start_time": "2023-04-17T12:34:05.539Z"
   },
   {
    "duration": 75,
    "start_time": "2023-04-17T12:34:05.636Z"
   },
   {
    "duration": 12,
    "start_time": "2023-04-17T12:34:05.713Z"
   },
   {
    "duration": 28,
    "start_time": "2023-04-17T12:34:05.727Z"
   },
   {
    "duration": 38,
    "start_time": "2023-04-17T12:34:05.758Z"
   },
   {
    "duration": 13,
    "start_time": "2023-04-17T12:35:56.692Z"
   },
   {
    "duration": 433,
    "start_time": "2023-04-17T12:36:07.169Z"
   },
   {
    "duration": 884,
    "start_time": "2023-04-17T12:36:07.605Z"
   },
   {
    "duration": 31,
    "start_time": "2023-04-17T12:36:08.491Z"
   },
   {
    "duration": 140,
    "start_time": "2023-04-17T12:36:08.523Z"
   },
   {
    "duration": 124,
    "start_time": "2023-04-17T12:36:08.666Z"
   },
   {
    "duration": 508,
    "start_time": "2023-04-17T12:36:08.791Z"
   },
   {
    "duration": 964,
    "start_time": "2023-04-17T12:36:09.301Z"
   },
   {
    "duration": 1004,
    "start_time": "2023-04-17T12:36:10.267Z"
   },
   {
    "duration": 418,
    "start_time": "2023-04-17T12:36:11.273Z"
   },
   {
    "duration": 30,
    "start_time": "2023-04-17T12:36:11.693Z"
   },
   {
    "duration": 74,
    "start_time": "2023-04-17T12:36:11.725Z"
   },
   {
    "duration": 219,
    "start_time": "2023-04-17T12:36:11.801Z"
   },
   {
    "duration": 31,
    "start_time": "2023-04-17T12:36:12.022Z"
   },
   {
    "duration": 58,
    "start_time": "2023-04-17T12:36:12.057Z"
   },
   {
    "duration": 36,
    "start_time": "2023-04-17T12:36:12.117Z"
   },
   {
    "duration": 61,
    "start_time": "2023-04-17T12:36:12.155Z"
   },
   {
    "duration": 34,
    "start_time": "2023-04-17T12:36:12.218Z"
   },
   {
    "duration": 90,
    "start_time": "2023-04-17T12:36:12.254Z"
   },
   {
    "duration": 31,
    "start_time": "2023-04-17T12:36:12.346Z"
   },
   {
    "duration": 44,
    "start_time": "2023-04-17T12:36:12.378Z"
   },
   {
    "duration": 83,
    "start_time": "2023-04-17T12:36:12.424Z"
   },
   {
    "duration": 84,
    "start_time": "2023-04-17T12:36:12.509Z"
   },
   {
    "duration": 12,
    "start_time": "2023-04-17T12:36:12.595Z"
   },
   {
    "duration": 50,
    "start_time": "2023-04-17T12:36:12.609Z"
   },
   {
    "duration": 30,
    "start_time": "2023-04-17T12:36:12.661Z"
   },
   {
    "duration": 381,
    "start_time": "2023-04-18T02:22:10.985Z"
   },
   {
    "duration": 2954,
    "start_time": "2023-04-18T02:22:11.368Z"
   },
   {
    "duration": 30,
    "start_time": "2023-04-18T02:22:14.323Z"
   },
   {
    "duration": 136,
    "start_time": "2023-04-18T02:22:14.355Z"
   },
   {
    "duration": 137,
    "start_time": "2023-04-18T02:22:14.493Z"
   },
   {
    "duration": 499,
    "start_time": "2023-04-18T02:22:14.632Z"
   },
   {
    "duration": 977,
    "start_time": "2023-04-18T02:22:15.133Z"
   },
   {
    "duration": 949,
    "start_time": "2023-04-18T02:22:16.112Z"
   },
   {
    "duration": 22,
    "start_time": "2023-04-18T02:22:17.062Z"
   },
   {
    "duration": 80,
    "start_time": "2023-04-18T02:22:17.087Z"
   },
   {
    "duration": 0,
    "start_time": "2023-04-18T02:22:17.169Z"
   },
   {
    "duration": 0,
    "start_time": "2023-04-18T02:22:17.170Z"
   },
   {
    "duration": 0,
    "start_time": "2023-04-18T02:22:17.171Z"
   },
   {
    "duration": 0,
    "start_time": "2023-04-18T02:22:17.172Z"
   },
   {
    "duration": 0,
    "start_time": "2023-04-18T02:22:17.173Z"
   },
   {
    "duration": 0,
    "start_time": "2023-04-18T02:22:17.174Z"
   },
   {
    "duration": 0,
    "start_time": "2023-04-18T02:22:17.175Z"
   },
   {
    "duration": 0,
    "start_time": "2023-04-18T02:22:17.176Z"
   },
   {
    "duration": 0,
    "start_time": "2023-04-18T02:22:17.177Z"
   },
   {
    "duration": 0,
    "start_time": "2023-04-18T02:22:17.178Z"
   },
   {
    "duration": 0,
    "start_time": "2023-04-18T02:22:17.179Z"
   },
   {
    "duration": 0,
    "start_time": "2023-04-18T02:22:17.180Z"
   },
   {
    "duration": 0,
    "start_time": "2023-04-18T02:22:17.181Z"
   },
   {
    "duration": 0,
    "start_time": "2023-04-18T02:22:17.182Z"
   },
   {
    "duration": 0,
    "start_time": "2023-04-18T02:22:17.184Z"
   },
   {
    "duration": 394,
    "start_time": "2023-04-18T02:25:06.455Z"
   },
   {
    "duration": 41,
    "start_time": "2023-04-18T02:39:30.459Z"
   },
   {
    "duration": 38,
    "start_time": "2023-04-18T03:28:55.007Z"
   },
   {
    "duration": 36,
    "start_time": "2023-04-18T04:07:02.981Z"
   },
   {
    "duration": 62,
    "start_time": "2023-04-18T04:07:31.247Z"
   },
   {
    "duration": 42,
    "start_time": "2023-04-18T04:09:44.458Z"
   },
   {
    "duration": 54,
    "start_time": "2023-04-18T04:09:47.078Z"
   },
   {
    "duration": 35,
    "start_time": "2023-04-18T04:09:56.382Z"
   },
   {
    "duration": 50,
    "start_time": "2023-04-18T04:10:01.480Z"
   },
   {
    "duration": 47,
    "start_time": "2023-04-18T04:10:12.249Z"
   },
   {
    "duration": 43,
    "start_time": "2023-04-18T04:11:34.544Z"
   },
   {
    "duration": 87,
    "start_time": "2023-04-18T04:11:37.538Z"
   },
   {
    "duration": 74,
    "start_time": "2023-04-18T04:22:03.103Z"
   },
   {
    "duration": 36,
    "start_time": "2023-04-18T04:22:36.124Z"
   },
   {
    "duration": 38,
    "start_time": "2023-04-18T04:22:54.535Z"
   },
   {
    "duration": 86,
    "start_time": "2023-04-18T04:23:27.221Z"
   },
   {
    "duration": 158,
    "start_time": "2023-04-18T04:23:35.183Z"
   },
   {
    "duration": 52,
    "start_time": "2023-04-18T04:36:55.045Z"
   },
   {
    "duration": 13,
    "start_time": "2023-04-18T04:38:46.000Z"
   },
   {
    "duration": 1556,
    "start_time": "2023-04-18T04:39:42.698Z"
   },
   {
    "duration": 1617,
    "start_time": "2023-04-18T04:39:44.257Z"
   },
   {
    "duration": 35,
    "start_time": "2023-04-18T04:39:45.876Z"
   },
   {
    "duration": 161,
    "start_time": "2023-04-18T04:39:45.913Z"
   },
   {
    "duration": 228,
    "start_time": "2023-04-18T04:39:46.079Z"
   },
   {
    "duration": 595,
    "start_time": "2023-04-18T04:39:46.309Z"
   },
   {
    "duration": 1173,
    "start_time": "2023-04-18T04:39:46.906Z"
   },
   {
    "duration": 1102,
    "start_time": "2023-04-18T04:39:48.080Z"
   },
   {
    "duration": 25,
    "start_time": "2023-04-18T04:39:49.184Z"
   },
   {
    "duration": 458,
    "start_time": "2023-04-18T04:39:49.210Z"
   },
   {
    "duration": 67,
    "start_time": "2023-04-18T04:39:49.670Z"
   },
   {
    "duration": 56,
    "start_time": "2023-04-18T04:39:49.739Z"
   },
   {
    "duration": 92,
    "start_time": "2023-04-18T04:39:49.797Z"
   },
   {
    "duration": 70,
    "start_time": "2023-04-18T04:39:49.892Z"
   },
   {
    "duration": 76,
    "start_time": "2023-04-18T04:39:49.973Z"
   },
   {
    "duration": 53,
    "start_time": "2023-04-18T04:39:50.051Z"
   },
   {
    "duration": 115,
    "start_time": "2023-04-18T04:39:50.106Z"
   },
   {
    "duration": 54,
    "start_time": "2023-04-18T04:39:50.223Z"
   },
   {
    "duration": 51,
    "start_time": "2023-04-18T04:39:50.279Z"
   },
   {
    "duration": 102,
    "start_time": "2023-04-18T04:39:50.332Z"
   },
   {
    "duration": 99,
    "start_time": "2023-04-18T04:39:50.435Z"
   },
   {
    "duration": 134,
    "start_time": "2023-04-18T04:39:50.535Z"
   },
   {
    "duration": 0,
    "start_time": "2023-04-18T04:39:50.671Z"
   },
   {
    "duration": 0,
    "start_time": "2023-04-18T04:39:50.672Z"
   },
   {
    "duration": 0,
    "start_time": "2023-04-18T04:39:50.672Z"
   },
   {
    "duration": 0,
    "start_time": "2023-04-18T04:39:50.673Z"
   },
   {
    "duration": 13,
    "start_time": "2023-04-18T04:41:19.029Z"
   },
   {
    "duration": 1906,
    "start_time": "2023-04-18T04:41:46.725Z"
   },
   {
    "duration": 1934,
    "start_time": "2023-04-18T04:43:05.880Z"
   },
   {
    "duration": 2001,
    "start_time": "2023-04-18T04:44:07.895Z"
   },
   {
    "duration": 1934,
    "start_time": "2023-04-18T04:52:32.760Z"
   },
   {
    "duration": 1907,
    "start_time": "2023-04-18T04:52:54.064Z"
   },
   {
    "duration": 1710,
    "start_time": "2023-04-18T04:53:54.280Z"
   },
   {
    "duration": 31,
    "start_time": "2023-04-18T04:59:22.546Z"
   },
   {
    "duration": 119,
    "start_time": "2023-04-18T05:00:54.798Z"
   },
   {
    "duration": 135,
    "start_time": "2023-04-18T05:01:56.494Z"
   },
   {
    "duration": 92,
    "start_time": "2023-04-18T05:02:09.116Z"
   },
   {
    "duration": 101,
    "start_time": "2023-04-18T05:05:21.332Z"
   },
   {
    "duration": 1230,
    "start_time": "2023-04-18T05:05:34.344Z"
   },
   {
    "duration": 1199,
    "start_time": "2023-04-18T05:05:35.577Z"
   },
   {
    "duration": 27,
    "start_time": "2023-04-18T05:05:36.778Z"
   },
   {
    "duration": 144,
    "start_time": "2023-04-18T05:05:36.807Z"
   },
   {
    "duration": 164,
    "start_time": "2023-04-18T05:05:36.959Z"
   },
   {
    "duration": 556,
    "start_time": "2023-04-18T05:05:37.125Z"
   },
   {
    "duration": 1078,
    "start_time": "2023-04-18T05:05:37.683Z"
   },
   {
    "duration": 1090,
    "start_time": "2023-04-18T05:05:38.764Z"
   },
   {
    "duration": 35,
    "start_time": "2023-04-18T05:05:39.858Z"
   },
   {
    "duration": 483,
    "start_time": "2023-04-18T05:05:39.895Z"
   },
   {
    "duration": 54,
    "start_time": "2023-04-18T05:05:40.380Z"
   },
   {
    "duration": 56,
    "start_time": "2023-04-18T05:05:40.436Z"
   },
   {
    "duration": 56,
    "start_time": "2023-04-18T05:05:40.493Z"
   },
   {
    "duration": 44,
    "start_time": "2023-04-18T05:05:40.560Z"
   },
   {
    "duration": 72,
    "start_time": "2023-04-18T05:05:40.605Z"
   },
   {
    "duration": 35,
    "start_time": "2023-04-18T05:05:40.679Z"
   },
   {
    "duration": 103,
    "start_time": "2023-04-18T05:05:40.716Z"
   },
   {
    "duration": 50,
    "start_time": "2023-04-18T05:05:40.821Z"
   },
   {
    "duration": 42,
    "start_time": "2023-04-18T05:05:40.873Z"
   },
   {
    "duration": 108,
    "start_time": "2023-04-18T05:05:40.917Z"
   },
   {
    "duration": 120,
    "start_time": "2023-04-18T05:05:41.027Z"
   },
   {
    "duration": 1720,
    "start_time": "2023-04-18T05:05:41.149Z"
   },
   {
    "duration": 119,
    "start_time": "2023-04-18T05:05:42.872Z"
   },
   {
    "duration": 10,
    "start_time": "2023-04-18T05:05:42.992Z"
   },
   {
    "duration": 29,
    "start_time": "2023-04-18T05:05:43.004Z"
   },
   {
    "duration": 35,
    "start_time": "2023-04-18T05:05:43.034Z"
   },
   {
    "duration": 39,
    "start_time": "2023-04-18T05:05:43.071Z"
   },
   {
    "duration": 255,
    "start_time": "2023-04-18T05:19:03.841Z"
   },
   {
    "duration": 259,
    "start_time": "2023-04-18T05:20:01.878Z"
   },
   {
    "duration": 1322,
    "start_time": "2023-04-18T05:20:22.153Z"
   },
   {
    "duration": 1009,
    "start_time": "2023-04-18T05:20:23.477Z"
   },
   {
    "duration": 29,
    "start_time": "2023-04-18T05:20:24.488Z"
   },
   {
    "duration": 189,
    "start_time": "2023-04-18T05:20:24.519Z"
   },
   {
    "duration": 189,
    "start_time": "2023-04-18T05:20:24.711Z"
   },
   {
    "duration": 643,
    "start_time": "2023-04-18T05:20:24.902Z"
   },
   {
    "duration": 1296,
    "start_time": "2023-04-18T05:20:25.547Z"
   },
   {
    "duration": 1111,
    "start_time": "2023-04-18T05:20:26.844Z"
   },
   {
    "duration": 29,
    "start_time": "2023-04-18T05:20:27.960Z"
   },
   {
    "duration": 519,
    "start_time": "2023-04-18T05:20:27.991Z"
   },
   {
    "duration": 74,
    "start_time": "2023-04-18T05:20:28.512Z"
   },
   {
    "duration": 37,
    "start_time": "2023-04-18T05:20:28.589Z"
   },
   {
    "duration": 87,
    "start_time": "2023-04-18T05:20:28.629Z"
   },
   {
    "duration": 59,
    "start_time": "2023-04-18T05:20:28.719Z"
   },
   {
    "duration": 83,
    "start_time": "2023-04-18T05:20:28.780Z"
   },
   {
    "duration": 44,
    "start_time": "2023-04-18T05:20:28.865Z"
   },
   {
    "duration": 105,
    "start_time": "2023-04-18T05:20:28.911Z"
   },
   {
    "duration": 42,
    "start_time": "2023-04-18T05:20:29.018Z"
   },
   {
    "duration": 54,
    "start_time": "2023-04-18T05:20:29.062Z"
   },
   {
    "duration": 120,
    "start_time": "2023-04-18T05:20:29.118Z"
   },
   {
    "duration": 134,
    "start_time": "2023-04-18T05:20:29.240Z"
   },
   {
    "duration": 1959,
    "start_time": "2023-04-18T05:20:29.376Z"
   },
   {
    "duration": 134,
    "start_time": "2023-04-18T05:20:31.337Z"
   },
   {
    "duration": 1632,
    "start_time": "2023-04-18T05:20:31.477Z"
   },
   {
    "duration": 25,
    "start_time": "2023-04-18T05:20:33.111Z"
   },
   {
    "duration": 31,
    "start_time": "2023-04-18T05:20:33.138Z"
   },
   {
    "duration": 17,
    "start_time": "2023-04-18T05:20:33.171Z"
   },
   {
    "duration": 46,
    "start_time": "2023-04-18T05:23:29.461Z"
   },
   {
    "duration": 340,
    "start_time": "2023-04-18T05:23:39.571Z"
   },
   {
    "duration": 1251,
    "start_time": "2023-04-18T05:24:02.241Z"
   },
   {
    "duration": 973,
    "start_time": "2023-04-18T05:24:03.494Z"
   },
   {
    "duration": 30,
    "start_time": "2023-04-18T05:24:04.469Z"
   },
   {
    "duration": 171,
    "start_time": "2023-04-18T05:24:04.500Z"
   },
   {
    "duration": 149,
    "start_time": "2023-04-18T05:24:04.675Z"
   },
   {
    "duration": 550,
    "start_time": "2023-04-18T05:24:04.826Z"
   },
   {
    "duration": 1100,
    "start_time": "2023-04-18T05:24:05.378Z"
   },
   {
    "duration": 1011,
    "start_time": "2023-04-18T05:24:06.480Z"
   },
   {
    "duration": 22,
    "start_time": "2023-04-18T05:24:07.493Z"
   },
   {
    "duration": 440,
    "start_time": "2023-04-18T05:24:07.517Z"
   },
   {
    "duration": 57,
    "start_time": "2023-04-18T05:24:07.960Z"
   },
   {
    "duration": 57,
    "start_time": "2023-04-18T05:24:08.019Z"
   },
   {
    "duration": 48,
    "start_time": "2023-04-18T05:24:08.078Z"
   },
   {
    "duration": 52,
    "start_time": "2023-04-18T05:24:08.129Z"
   },
   {
    "duration": 58,
    "start_time": "2023-04-18T05:24:08.182Z"
   },
   {
    "duration": 47,
    "start_time": "2023-04-18T05:24:08.241Z"
   },
   {
    "duration": 93,
    "start_time": "2023-04-18T05:24:08.289Z"
   },
   {
    "duration": 33,
    "start_time": "2023-04-18T05:24:08.384Z"
   },
   {
    "duration": 60,
    "start_time": "2023-04-18T05:24:08.418Z"
   },
   {
    "duration": 90,
    "start_time": "2023-04-18T05:24:08.480Z"
   },
   {
    "duration": 95,
    "start_time": "2023-04-18T05:24:08.572Z"
   },
   {
    "duration": 1790,
    "start_time": "2023-04-18T05:24:08.669Z"
   },
   {
    "duration": 132,
    "start_time": "2023-04-18T05:24:10.461Z"
   },
   {
    "duration": 1424,
    "start_time": "2023-04-18T05:24:10.595Z"
   },
   {
    "duration": 25,
    "start_time": "2023-04-18T05:24:12.021Z"
   },
   {
    "duration": 21,
    "start_time": "2023-04-18T05:24:12.048Z"
   },
   {
    "duration": 15,
    "start_time": "2023-04-18T05:24:12.070Z"
   },
   {
    "duration": 254,
    "start_time": "2023-04-18T05:26:58.708Z"
   },
   {
    "duration": 1243,
    "start_time": "2023-04-18T05:27:06.653Z"
   },
   {
    "duration": 907,
    "start_time": "2023-04-18T05:27:07.898Z"
   },
   {
    "duration": 28,
    "start_time": "2023-04-18T05:27:08.807Z"
   },
   {
    "duration": 157,
    "start_time": "2023-04-18T05:27:08.837Z"
   },
   {
    "duration": 179,
    "start_time": "2023-04-18T05:27:08.997Z"
   },
   {
    "duration": 564,
    "start_time": "2023-04-18T05:27:09.178Z"
   },
   {
    "duration": 1270,
    "start_time": "2023-04-18T05:27:09.744Z"
   },
   {
    "duration": 1131,
    "start_time": "2023-04-18T05:27:11.016Z"
   },
   {
    "duration": 31,
    "start_time": "2023-04-18T05:27:12.148Z"
   },
   {
    "duration": 617,
    "start_time": "2023-04-18T05:27:12.181Z"
   },
   {
    "duration": 87,
    "start_time": "2023-04-18T05:27:12.800Z"
   },
   {
    "duration": 38,
    "start_time": "2023-04-18T05:27:12.889Z"
   },
   {
    "duration": 84,
    "start_time": "2023-04-18T05:27:12.928Z"
   },
   {
    "duration": 48,
    "start_time": "2023-04-18T05:27:13.015Z"
   },
   {
    "duration": 56,
    "start_time": "2023-04-18T05:27:13.065Z"
   },
   {
    "duration": 47,
    "start_time": "2023-04-18T05:27:13.122Z"
   },
   {
    "duration": 92,
    "start_time": "2023-04-18T05:27:13.171Z"
   },
   {
    "duration": 47,
    "start_time": "2023-04-18T05:27:13.266Z"
   },
   {
    "duration": 64,
    "start_time": "2023-04-18T05:27:13.315Z"
   },
   {
    "duration": 106,
    "start_time": "2023-04-18T05:27:13.381Z"
   },
   {
    "duration": 111,
    "start_time": "2023-04-18T05:27:13.491Z"
   },
   {
    "duration": 1859,
    "start_time": "2023-04-18T05:27:13.604Z"
   },
   {
    "duration": 133,
    "start_time": "2023-04-18T05:27:15.465Z"
   },
   {
    "duration": 1629,
    "start_time": "2023-04-18T05:27:15.600Z"
   },
   {
    "duration": 37,
    "start_time": "2023-04-18T05:27:17.231Z"
   },
   {
    "duration": 13,
    "start_time": "2023-04-18T05:27:17.270Z"
   },
   {
    "duration": 30,
    "start_time": "2023-04-18T05:27:17.285Z"
   },
   {
    "duration": 235,
    "start_time": "2023-04-18T05:27:49.379Z"
   },
   {
    "duration": 1238,
    "start_time": "2023-04-18T05:28:13.586Z"
   },
   {
    "duration": 926,
    "start_time": "2023-04-18T05:28:14.826Z"
   },
   {
    "duration": 34,
    "start_time": "2023-04-18T05:28:15.754Z"
   },
   {
    "duration": 150,
    "start_time": "2023-04-18T05:28:15.790Z"
   },
   {
    "duration": 167,
    "start_time": "2023-04-18T05:28:15.943Z"
   },
   {
    "duration": 574,
    "start_time": "2023-04-18T05:28:16.112Z"
   },
   {
    "duration": 1110,
    "start_time": "2023-04-18T05:28:16.688Z"
   },
   {
    "duration": 1046,
    "start_time": "2023-04-18T05:28:17.800Z"
   },
   {
    "duration": 29,
    "start_time": "2023-04-18T05:28:18.847Z"
   },
   {
    "duration": 459,
    "start_time": "2023-04-18T05:28:18.879Z"
   },
   {
    "duration": 76,
    "start_time": "2023-04-18T05:28:19.340Z"
   },
   {
    "duration": 56,
    "start_time": "2023-04-18T05:28:19.418Z"
   },
   {
    "duration": 90,
    "start_time": "2023-04-18T05:28:19.476Z"
   },
   {
    "duration": 36,
    "start_time": "2023-04-18T05:28:19.568Z"
   },
   {
    "duration": 102,
    "start_time": "2023-04-18T05:28:19.606Z"
   },
   {
    "duration": 56,
    "start_time": "2023-04-18T05:28:19.710Z"
   },
   {
    "duration": 132,
    "start_time": "2023-04-18T05:28:19.768Z"
   },
   {
    "duration": 42,
    "start_time": "2023-04-18T05:28:19.902Z"
   },
   {
    "duration": 67,
    "start_time": "2023-04-18T05:28:19.959Z"
   },
   {
    "duration": 110,
    "start_time": "2023-04-18T05:28:20.027Z"
   },
   {
    "duration": 99,
    "start_time": "2023-04-18T05:28:20.139Z"
   },
   {
    "duration": 1778,
    "start_time": "2023-04-18T05:28:20.239Z"
   },
   {
    "duration": 117,
    "start_time": "2023-04-18T05:28:22.019Z"
   },
   {
    "duration": 1482,
    "start_time": "2023-04-18T05:28:22.138Z"
   },
   {
    "duration": 41,
    "start_time": "2023-04-18T05:28:23.622Z"
   },
   {
    "duration": 13,
    "start_time": "2023-04-18T05:28:23.665Z"
   },
   {
    "duration": 15,
    "start_time": "2023-04-18T05:28:23.679Z"
   },
   {
    "duration": 226,
    "start_time": "2023-04-18T05:29:15.563Z"
   },
   {
    "duration": 1142,
    "start_time": "2023-04-18T05:29:24.787Z"
   },
   {
    "duration": 912,
    "start_time": "2023-04-18T05:29:25.931Z"
   },
   {
    "duration": 32,
    "start_time": "2023-04-18T05:29:26.845Z"
   },
   {
    "duration": 160,
    "start_time": "2023-04-18T05:29:26.878Z"
   },
   {
    "duration": 141,
    "start_time": "2023-04-18T05:29:27.040Z"
   },
   {
    "duration": 500,
    "start_time": "2023-04-18T05:29:27.183Z"
   },
   {
    "duration": 996,
    "start_time": "2023-04-18T05:29:27.685Z"
   },
   {
    "duration": 928,
    "start_time": "2023-04-18T05:29:28.683Z"
   },
   {
    "duration": 30,
    "start_time": "2023-04-18T05:29:29.613Z"
   },
   {
    "duration": 556,
    "start_time": "2023-04-18T05:29:29.645Z"
   },
   {
    "duration": 62,
    "start_time": "2023-04-18T05:29:30.203Z"
   },
   {
    "duration": 36,
    "start_time": "2023-04-18T05:29:30.267Z"
   },
   {
    "duration": 77,
    "start_time": "2023-04-18T05:29:30.305Z"
   },
   {
    "duration": 34,
    "start_time": "2023-04-18T05:29:30.385Z"
   },
   {
    "duration": 67,
    "start_time": "2023-04-18T05:29:30.421Z"
   },
   {
    "duration": 39,
    "start_time": "2023-04-18T05:29:30.489Z"
   },
   {
    "duration": 130,
    "start_time": "2023-04-18T05:29:30.530Z"
   },
   {
    "duration": 37,
    "start_time": "2023-04-18T05:29:30.662Z"
   },
   {
    "duration": 51,
    "start_time": "2023-04-18T05:29:30.700Z"
   },
   {
    "duration": 103,
    "start_time": "2023-04-18T05:29:30.760Z"
   },
   {
    "duration": 98,
    "start_time": "2023-04-18T05:29:30.865Z"
   },
   {
    "duration": 1624,
    "start_time": "2023-04-18T05:29:30.964Z"
   },
   {
    "duration": 113,
    "start_time": "2023-04-18T05:29:32.589Z"
   },
   {
    "duration": 1390,
    "start_time": "2023-04-18T05:29:32.704Z"
   },
   {
    "duration": 22,
    "start_time": "2023-04-18T05:29:34.096Z"
   },
   {
    "duration": 10,
    "start_time": "2023-04-18T05:29:34.120Z"
   },
   {
    "duration": 28,
    "start_time": "2023-04-18T05:29:34.132Z"
   },
   {
    "duration": 1193,
    "start_time": "2023-04-18T05:40:50.681Z"
   },
   {
    "duration": 871,
    "start_time": "2023-04-18T05:40:51.876Z"
   },
   {
    "duration": 25,
    "start_time": "2023-04-18T05:40:52.749Z"
   },
   {
    "duration": 192,
    "start_time": "2023-04-18T05:40:52.775Z"
   },
   {
    "duration": 152,
    "start_time": "2023-04-18T05:40:52.969Z"
   },
   {
    "duration": 478,
    "start_time": "2023-04-18T05:40:53.122Z"
   },
   {
    "duration": 1033,
    "start_time": "2023-04-18T05:40:53.602Z"
   },
   {
    "duration": 918,
    "start_time": "2023-04-18T05:40:54.637Z"
   },
   {
    "duration": 23,
    "start_time": "2023-04-18T05:40:55.557Z"
   },
   {
    "duration": 406,
    "start_time": "2023-04-18T05:40:55.581Z"
   },
   {
    "duration": 53,
    "start_time": "2023-04-18T05:40:55.989Z"
   },
   {
    "duration": 35,
    "start_time": "2023-04-18T05:40:56.059Z"
   },
   {
    "duration": 63,
    "start_time": "2023-04-18T05:40:56.097Z"
   },
   {
    "duration": 33,
    "start_time": "2023-04-18T05:40:56.163Z"
   },
   {
    "duration": 65,
    "start_time": "2023-04-18T05:40:56.198Z"
   },
   {
    "duration": 38,
    "start_time": "2023-04-18T05:40:56.265Z"
   },
   {
    "duration": 98,
    "start_time": "2023-04-18T05:40:56.305Z"
   },
   {
    "duration": 34,
    "start_time": "2023-04-18T05:40:56.404Z"
   },
   {
    "duration": 45,
    "start_time": "2023-04-18T05:40:56.440Z"
   },
   {
    "duration": 87,
    "start_time": "2023-04-18T05:40:56.487Z"
   },
   {
    "duration": 92,
    "start_time": "2023-04-18T05:40:56.576Z"
   },
   {
    "duration": 1637,
    "start_time": "2023-04-18T05:40:56.670Z"
   },
   {
    "duration": 109,
    "start_time": "2023-04-18T05:40:58.309Z"
   },
   {
    "duration": 1589,
    "start_time": "2023-04-18T05:40:58.420Z"
   },
   {
    "duration": 29,
    "start_time": "2023-04-18T05:41:00.011Z"
   },
   {
    "duration": 27,
    "start_time": "2023-04-18T05:41:00.042Z"
   },
   {
    "duration": 33,
    "start_time": "2023-04-18T05:41:00.071Z"
   },
   {
    "duration": 1160,
    "start_time": "2023-04-18T05:42:13.405Z"
   },
   {
    "duration": 868,
    "start_time": "2023-04-18T05:42:14.566Z"
   },
   {
    "duration": 30,
    "start_time": "2023-04-18T05:42:15.436Z"
   },
   {
    "duration": 150,
    "start_time": "2023-04-18T05:42:15.468Z"
   },
   {
    "duration": 131,
    "start_time": "2023-04-18T05:42:15.620Z"
   },
   {
    "duration": 477,
    "start_time": "2023-04-18T05:42:15.753Z"
   },
   {
    "duration": 1011,
    "start_time": "2023-04-18T05:42:16.232Z"
   },
   {
    "duration": 944,
    "start_time": "2023-04-18T05:42:17.245Z"
   },
   {
    "duration": 22,
    "start_time": "2023-04-18T05:42:18.191Z"
   },
   {
    "duration": 403,
    "start_time": "2023-04-18T05:42:18.216Z"
   },
   {
    "duration": 60,
    "start_time": "2023-04-18T05:42:18.621Z"
   },
   {
    "duration": 35,
    "start_time": "2023-04-18T05:42:18.683Z"
   },
   {
    "duration": 64,
    "start_time": "2023-04-18T05:42:18.720Z"
   },
   {
    "duration": 34,
    "start_time": "2023-04-18T05:42:18.786Z"
   },
   {
    "duration": 62,
    "start_time": "2023-04-18T05:42:18.822Z"
   },
   {
    "duration": 34,
    "start_time": "2023-04-18T05:42:18.886Z"
   },
   {
    "duration": 96,
    "start_time": "2023-04-18T05:42:18.921Z"
   },
   {
    "duration": 42,
    "start_time": "2023-04-18T05:42:19.018Z"
   },
   {
    "duration": 38,
    "start_time": "2023-04-18T05:42:19.061Z"
   },
   {
    "duration": 86,
    "start_time": "2023-04-18T05:42:19.101Z"
   },
   {
    "duration": 86,
    "start_time": "2023-04-18T05:42:19.188Z"
   },
   {
    "duration": 1662,
    "start_time": "2023-04-18T05:42:19.276Z"
   },
   {
    "duration": 114,
    "start_time": "2023-04-18T05:42:20.940Z"
   },
   {
    "duration": 18,
    "start_time": "2023-04-18T05:42:21.060Z"
   },
   {
    "duration": 25,
    "start_time": "2023-04-18T05:42:21.079Z"
   },
   {
    "duration": 12,
    "start_time": "2023-04-18T05:42:21.105Z"
   },
   {
    "duration": 41,
    "start_time": "2023-04-18T05:42:21.119Z"
   },
   {
    "duration": 17,
    "start_time": "2023-04-18T06:19:19.287Z"
   },
   {
    "duration": 1194,
    "start_time": "2023-04-18T06:20:20.016Z"
   },
   {
    "duration": 913,
    "start_time": "2023-04-18T06:20:21.212Z"
   },
   {
    "duration": 34,
    "start_time": "2023-04-18T06:20:22.126Z"
   },
   {
    "duration": 164,
    "start_time": "2023-04-18T06:20:22.163Z"
   },
   {
    "duration": 172,
    "start_time": "2023-04-18T06:20:22.330Z"
   },
   {
    "duration": 513,
    "start_time": "2023-04-18T06:20:22.504Z"
   },
   {
    "duration": 1045,
    "start_time": "2023-04-18T06:20:23.019Z"
   },
   {
    "duration": 1002,
    "start_time": "2023-04-18T06:20:24.067Z"
   },
   {
    "duration": 23,
    "start_time": "2023-04-18T06:20:25.071Z"
   },
   {
    "duration": 441,
    "start_time": "2023-04-18T06:20:25.096Z"
   },
   {
    "duration": 62,
    "start_time": "2023-04-18T06:20:25.539Z"
   },
   {
    "duration": 36,
    "start_time": "2023-04-18T06:20:25.603Z"
   },
   {
    "duration": 60,
    "start_time": "2023-04-18T06:20:25.660Z"
   },
   {
    "duration": 59,
    "start_time": "2023-04-18T06:20:25.724Z"
   },
   {
    "duration": 74,
    "start_time": "2023-04-18T06:20:25.785Z"
   },
   {
    "duration": 57,
    "start_time": "2023-04-18T06:20:25.862Z"
   },
   {
    "duration": 98,
    "start_time": "2023-04-18T06:20:25.921Z"
   },
   {
    "duration": 40,
    "start_time": "2023-04-18T06:20:26.021Z"
   },
   {
    "duration": 48,
    "start_time": "2023-04-18T06:20:26.063Z"
   },
   {
    "duration": 142,
    "start_time": "2023-04-18T06:20:26.113Z"
   },
   {
    "duration": 107,
    "start_time": "2023-04-18T06:20:26.259Z"
   },
   {
    "duration": 1798,
    "start_time": "2023-04-18T06:20:26.368Z"
   },
   {
    "duration": 129,
    "start_time": "2023-04-18T06:20:28.169Z"
   },
   {
    "duration": 17,
    "start_time": "2023-04-18T06:20:28.300Z"
   },
   {
    "duration": 1707,
    "start_time": "2023-04-18T06:20:28.319Z"
   },
   {
    "duration": 42,
    "start_time": "2023-04-18T06:20:30.028Z"
   },
   {
    "duration": 10,
    "start_time": "2023-04-18T06:20:30.073Z"
   },
   {
    "duration": 11,
    "start_time": "2023-04-18T06:20:30.084Z"
   },
   {
    "duration": 1215,
    "start_time": "2023-04-18T11:57:06.917Z"
   },
   {
    "duration": 1935,
    "start_time": "2023-04-18T11:57:08.135Z"
   },
   {
    "duration": 27,
    "start_time": "2023-04-18T11:57:10.072Z"
   },
   {
    "duration": 169,
    "start_time": "2023-04-18T11:57:10.101Z"
   },
   {
    "duration": 157,
    "start_time": "2023-04-18T11:57:10.272Z"
   },
   {
    "duration": 509,
    "start_time": "2023-04-18T11:57:10.431Z"
   },
   {
    "duration": 1063,
    "start_time": "2023-04-18T11:57:10.942Z"
   },
   {
    "duration": 961,
    "start_time": "2023-04-18T11:57:12.006Z"
   },
   {
    "duration": 24,
    "start_time": "2023-04-18T11:57:12.968Z"
   },
   {
    "duration": 415,
    "start_time": "2023-04-18T11:57:12.993Z"
   },
   {
    "duration": 66,
    "start_time": "2023-04-18T11:57:13.409Z"
   },
   {
    "duration": 39,
    "start_time": "2023-04-18T11:57:13.477Z"
   },
   {
    "duration": 65,
    "start_time": "2023-04-18T11:57:13.518Z"
   },
   {
    "duration": 35,
    "start_time": "2023-04-18T11:57:13.586Z"
   },
   {
    "duration": 68,
    "start_time": "2023-04-18T11:57:13.623Z"
   },
   {
    "duration": 34,
    "start_time": "2023-04-18T11:57:13.693Z"
   },
   {
    "duration": 99,
    "start_time": "2023-04-18T11:57:13.729Z"
   },
   {
    "duration": 38,
    "start_time": "2023-04-18T11:57:13.829Z"
   },
   {
    "duration": 40,
    "start_time": "2023-04-18T11:57:13.868Z"
   },
   {
    "duration": 99,
    "start_time": "2023-04-18T11:57:13.910Z"
   },
   {
    "duration": 89,
    "start_time": "2023-04-18T11:57:14.011Z"
   },
   {
    "duration": 1629,
    "start_time": "2023-04-18T11:57:14.101Z"
   },
   {
    "duration": 120,
    "start_time": "2023-04-18T11:57:15.732Z"
   },
   {
    "duration": 22,
    "start_time": "2023-04-18T11:57:15.854Z"
   },
   {
    "duration": 1539,
    "start_time": "2023-04-18T11:57:15.878Z"
   },
   {
    "duration": 1657,
    "start_time": "2023-04-18T11:57:17.419Z"
   },
   {
    "duration": 12,
    "start_time": "2023-04-18T11:57:19.078Z"
   },
   {
    "duration": 9,
    "start_time": "2023-04-18T11:57:19.093Z"
   },
   {
    "duration": 9,
    "start_time": "2023-04-18T12:12:00.566Z"
   },
   {
    "duration": 1213,
    "start_time": "2023-04-18T12:12:16.502Z"
   },
   {
    "duration": 905,
    "start_time": "2023-04-18T12:12:17.718Z"
   },
   {
    "duration": 34,
    "start_time": "2023-04-18T12:12:18.625Z"
   },
   {
    "duration": 135,
    "start_time": "2023-04-18T12:12:18.661Z"
   },
   {
    "duration": 144,
    "start_time": "2023-04-18T12:12:18.798Z"
   },
   {
    "duration": 488,
    "start_time": "2023-04-18T12:12:18.944Z"
   },
   {
    "duration": 992,
    "start_time": "2023-04-18T12:12:19.434Z"
   },
   {
    "duration": 932,
    "start_time": "2023-04-18T12:12:20.428Z"
   },
   {
    "duration": 24,
    "start_time": "2023-04-18T12:12:21.362Z"
   },
   {
    "duration": 448,
    "start_time": "2023-04-18T12:12:21.387Z"
   },
   {
    "duration": 63,
    "start_time": "2023-04-18T12:12:21.837Z"
   },
   {
    "duration": 58,
    "start_time": "2023-04-18T12:12:21.902Z"
   },
   {
    "duration": 84,
    "start_time": "2023-04-18T12:12:21.962Z"
   },
   {
    "duration": 35,
    "start_time": "2023-04-18T12:12:22.049Z"
   },
   {
    "duration": 73,
    "start_time": "2023-04-18T12:12:22.086Z"
   },
   {
    "duration": 38,
    "start_time": "2023-04-18T12:12:22.161Z"
   },
   {
    "duration": 103,
    "start_time": "2023-04-18T12:12:22.200Z"
   },
   {
    "duration": 36,
    "start_time": "2023-04-18T12:12:22.305Z"
   },
   {
    "duration": 63,
    "start_time": "2023-04-18T12:12:22.343Z"
   },
   {
    "duration": 84,
    "start_time": "2023-04-18T12:12:22.408Z"
   },
   {
    "duration": 91,
    "start_time": "2023-04-18T12:12:22.494Z"
   },
   {
    "duration": 1655,
    "start_time": "2023-04-18T12:12:22.586Z"
   },
   {
    "duration": 120,
    "start_time": "2023-04-18T12:12:24.243Z"
   },
   {
    "duration": 19,
    "start_time": "2023-04-18T12:12:24.365Z"
   },
   {
    "duration": 1515,
    "start_time": "2023-04-18T12:12:24.386Z"
   },
   {
    "duration": 1465,
    "start_time": "2023-04-18T12:12:25.903Z"
   },
   {
    "duration": 23,
    "start_time": "2023-04-18T12:12:27.369Z"
   },
   {
    "duration": 179,
    "start_time": "2023-04-18T12:12:27.393Z"
   },
   {
    "duration": 103,
    "start_time": "2023-04-18T12:14:57.568Z"
   },
   {
    "duration": 36,
    "start_time": "2023-04-18T12:15:08.026Z"
   },
   {
    "duration": 57,
    "start_time": "2023-04-18T12:16:04.762Z"
   },
   {
    "duration": 52,
    "start_time": "2023-04-18T12:17:14.449Z"
   },
   {
    "duration": 51,
    "start_time": "2023-04-18T12:18:34.051Z"
   },
   {
    "duration": 36,
    "start_time": "2023-04-18T12:20:42.726Z"
   },
   {
    "duration": 65,
    "start_time": "2023-04-18T12:22:21.113Z"
   },
   {
    "duration": 45,
    "start_time": "2023-04-18T12:22:36.617Z"
   },
   {
    "duration": 48,
    "start_time": "2023-04-18T12:25:55.427Z"
   },
   {
    "duration": 31,
    "start_time": "2023-04-18T12:26:13.164Z"
   },
   {
    "duration": 30,
    "start_time": "2023-04-18T12:28:50.864Z"
   },
   {
    "duration": 22,
    "start_time": "2023-04-18T12:51:56.806Z"
   },
   {
    "duration": 1510,
    "start_time": "2023-04-18T12:52:24.983Z"
   },
   {
    "duration": 1318,
    "start_time": "2023-04-18T12:52:47.723Z"
   },
   {
    "duration": 1496,
    "start_time": "2023-04-18T12:53:06.581Z"
   },
   {
    "duration": 150,
    "start_time": "2023-04-18T12:54:08.132Z"
   },
   {
    "duration": 164,
    "start_time": "2023-04-18T12:56:28.627Z"
   },
   {
    "duration": 350,
    "start_time": "2023-04-18T12:56:38.962Z"
   },
   {
    "duration": 288,
    "start_time": "2023-04-18T12:59:13.823Z"
   },
   {
    "duration": 272,
    "start_time": "2023-04-18T12:59:38.633Z"
   },
   {
    "duration": 50,
    "start_time": "2023-04-18T14:14:18.806Z"
   },
   {
    "duration": 53,
    "start_time": "2023-04-19T05:20:48.386Z"
   },
   {
    "duration": 1638,
    "start_time": "2023-04-19T05:20:54.658Z"
   },
   {
    "duration": 1197,
    "start_time": "2023-04-19T05:20:56.297Z"
   },
   {
    "duration": 27,
    "start_time": "2023-04-19T05:20:57.496Z"
   },
   {
    "duration": 141,
    "start_time": "2023-04-19T05:20:57.525Z"
   },
   {
    "duration": 139,
    "start_time": "2023-04-19T05:20:57.668Z"
   },
   {
    "duration": 519,
    "start_time": "2023-04-19T05:20:57.809Z"
   },
   {
    "duration": 1005,
    "start_time": "2023-04-19T05:20:58.333Z"
   },
   {
    "duration": 942,
    "start_time": "2023-04-19T05:20:59.340Z"
   },
   {
    "duration": 27,
    "start_time": "2023-04-19T05:21:00.283Z"
   },
   {
    "duration": 482,
    "start_time": "2023-04-19T05:21:00.313Z"
   },
   {
    "duration": 66,
    "start_time": "2023-04-19T05:21:00.797Z"
   },
   {
    "duration": 38,
    "start_time": "2023-04-19T05:21:00.865Z"
   },
   {
    "duration": 79,
    "start_time": "2023-04-19T05:21:00.905Z"
   },
   {
    "duration": 41,
    "start_time": "2023-04-19T05:21:00.985Z"
   },
   {
    "duration": 108,
    "start_time": "2023-04-19T05:21:01.028Z"
   },
   {
    "duration": 40,
    "start_time": "2023-04-19T05:21:01.138Z"
   },
   {
    "duration": 113,
    "start_time": "2023-04-19T05:21:01.180Z"
   },
   {
    "duration": 41,
    "start_time": "2023-04-19T05:21:01.295Z"
   },
   {
    "duration": 41,
    "start_time": "2023-04-19T05:21:01.338Z"
   },
   {
    "duration": 165,
    "start_time": "2023-04-19T05:21:01.380Z"
   },
   {
    "duration": 89,
    "start_time": "2023-04-19T05:21:01.547Z"
   },
   {
    "duration": 1758,
    "start_time": "2023-04-19T05:21:01.638Z"
   },
   {
    "duration": 121,
    "start_time": "2023-04-19T05:21:03.397Z"
   },
   {
    "duration": 24,
    "start_time": "2023-04-19T05:21:03.520Z"
   },
   {
    "duration": 1636,
    "start_time": "2023-04-19T05:21:03.546Z"
   },
   {
    "duration": 1665,
    "start_time": "2023-04-19T05:21:05.184Z"
   },
   {
    "duration": 32,
    "start_time": "2023-04-19T05:21:06.851Z"
   },
   {
    "duration": 1506,
    "start_time": "2023-04-19T05:21:06.886Z"
   },
   {
    "duration": 148,
    "start_time": "2023-04-19T05:21:08.393Z"
   },
   {
    "duration": 390,
    "start_time": "2023-04-19T05:21:08.543Z"
   },
   {
    "duration": 61,
    "start_time": "2023-04-19T05:21:08.935Z"
   },
   {
    "duration": 144,
    "start_time": "2023-04-19T05:21:08.998Z"
   },
   {
    "duration": 95,
    "start_time": "2023-04-19T05:41:19.120Z"
   },
   {
    "duration": 1318,
    "start_time": "2023-04-19T05:41:25.649Z"
   },
   {
    "duration": 878,
    "start_time": "2023-04-19T05:41:26.969Z"
   },
   {
    "duration": 30,
    "start_time": "2023-04-19T05:41:27.849Z"
   },
   {
    "duration": 176,
    "start_time": "2023-04-19T05:41:27.881Z"
   },
   {
    "duration": 142,
    "start_time": "2023-04-19T05:41:28.060Z"
   },
   {
    "duration": 455,
    "start_time": "2023-04-19T05:41:28.204Z"
   },
   {
    "duration": 911,
    "start_time": "2023-04-19T05:41:28.660Z"
   },
   {
    "duration": 851,
    "start_time": "2023-04-19T05:41:29.572Z"
   },
   {
    "duration": 24,
    "start_time": "2023-04-19T05:41:30.425Z"
   },
   {
    "duration": 396,
    "start_time": "2023-04-19T05:41:30.450Z"
   },
   {
    "duration": 48,
    "start_time": "2023-04-19T05:41:30.848Z"
   },
   {
    "duration": 66,
    "start_time": "2023-04-19T05:41:30.898Z"
   },
   {
    "duration": 88,
    "start_time": "2023-04-19T05:41:30.966Z"
   },
   {
    "duration": 43,
    "start_time": "2023-04-19T05:41:31.057Z"
   },
   {
    "duration": 66,
    "start_time": "2023-04-19T05:41:31.101Z"
   },
   {
    "duration": 31,
    "start_time": "2023-04-19T05:41:31.169Z"
   },
   {
    "duration": 101,
    "start_time": "2023-04-19T05:41:31.202Z"
   },
   {
    "duration": 35,
    "start_time": "2023-04-19T05:41:31.304Z"
   },
   {
    "duration": 53,
    "start_time": "2023-04-19T05:41:31.341Z"
   },
   {
    "duration": 135,
    "start_time": "2023-04-19T05:41:31.395Z"
   },
   {
    "duration": 84,
    "start_time": "2023-04-19T05:41:31.532Z"
   },
   {
    "duration": 1549,
    "start_time": "2023-04-19T05:41:31.617Z"
   },
   {
    "duration": 108,
    "start_time": "2023-04-19T05:41:33.168Z"
   },
   {
    "duration": 16,
    "start_time": "2023-04-19T05:41:33.277Z"
   },
   {
    "duration": 1379,
    "start_time": "2023-04-19T05:41:33.295Z"
   },
   {
    "duration": 1395,
    "start_time": "2023-04-19T05:41:34.675Z"
   },
   {
    "duration": 30,
    "start_time": "2023-04-19T05:41:36.071Z"
   },
   {
    "duration": 1422,
    "start_time": "2023-04-19T05:41:36.103Z"
   },
   {
    "duration": 132,
    "start_time": "2023-04-19T05:41:37.526Z"
   },
   {
    "duration": 275,
    "start_time": "2023-04-19T05:41:37.659Z"
   },
   {
    "duration": 55,
    "start_time": "2023-04-19T05:41:37.935Z"
   },
   {
    "duration": 456,
    "start_time": "2023-04-19T05:41:37.992Z"
   },
   {
    "duration": 0,
    "start_time": "2023-04-19T05:41:38.449Z"
   },
   {
    "duration": 309,
    "start_time": "2023-04-19T05:55:17.428Z"
   },
   {
    "duration": 245,
    "start_time": "2023-04-19T05:55:40.978Z"
   },
   {
    "duration": 237,
    "start_time": "2023-04-19T05:56:08.082Z"
   },
   {
    "duration": 13,
    "start_time": "2023-04-19T06:07:41.949Z"
   },
   {
    "duration": 200,
    "start_time": "2023-04-19T06:07:52.639Z"
   },
   {
    "duration": 1656,
    "start_time": "2023-04-19T06:33:28.950Z"
   },
   {
    "duration": 1067,
    "start_time": "2023-04-19T06:33:30.608Z"
   },
   {
    "duration": 45,
    "start_time": "2023-04-19T06:33:31.677Z"
   },
   {
    "duration": 171,
    "start_time": "2023-04-19T06:33:31.724Z"
   },
   {
    "duration": 160,
    "start_time": "2023-04-19T06:33:31.897Z"
   },
   {
    "duration": 627,
    "start_time": "2023-04-19T06:33:32.059Z"
   },
   {
    "duration": 1214,
    "start_time": "2023-04-19T06:33:32.688Z"
   },
   {
    "duration": 1184,
    "start_time": "2023-04-19T06:33:33.904Z"
   },
   {
    "duration": 28,
    "start_time": "2023-04-19T06:33:35.090Z"
   },
   {
    "duration": 478,
    "start_time": "2023-04-19T06:33:35.135Z"
   },
   {
    "duration": 67,
    "start_time": "2023-04-19T06:33:35.615Z"
   },
   {
    "duration": 62,
    "start_time": "2023-04-19T06:33:35.684Z"
   },
   {
    "duration": 54,
    "start_time": "2023-04-19T06:33:35.749Z"
   },
   {
    "duration": 56,
    "start_time": "2023-04-19T06:33:35.808Z"
   },
   {
    "duration": 78,
    "start_time": "2023-04-19T06:33:35.866Z"
   },
   {
    "duration": 38,
    "start_time": "2023-04-19T06:33:35.947Z"
   },
   {
    "duration": 120,
    "start_time": "2023-04-19T06:33:35.986Z"
   },
   {
    "duration": 44,
    "start_time": "2023-04-19T06:33:36.108Z"
   },
   {
    "duration": 47,
    "start_time": "2023-04-19T06:33:36.154Z"
   },
   {
    "duration": 108,
    "start_time": "2023-04-19T06:33:36.203Z"
   },
   {
    "duration": 105,
    "start_time": "2023-04-19T06:33:36.313Z"
   },
   {
    "duration": 1847,
    "start_time": "2023-04-19T06:33:36.420Z"
   },
   {
    "duration": 135,
    "start_time": "2023-04-19T06:33:38.269Z"
   },
   {
    "duration": 30,
    "start_time": "2023-04-19T06:33:38.406Z"
   },
   {
    "duration": 1656,
    "start_time": "2023-04-19T06:33:38.439Z"
   },
   {
    "duration": 1667,
    "start_time": "2023-04-19T06:33:40.097Z"
   },
   {
    "duration": 35,
    "start_time": "2023-04-19T06:33:41.768Z"
   },
   {
    "duration": 1654,
    "start_time": "2023-04-19T06:33:41.805Z"
   },
   {
    "duration": 143,
    "start_time": "2023-04-19T06:33:43.461Z"
   },
   {
    "duration": 346,
    "start_time": "2023-04-19T06:33:43.605Z"
   },
   {
    "duration": 86,
    "start_time": "2023-04-19T06:33:43.953Z"
   },
   {
    "duration": 686,
    "start_time": "2023-04-19T06:33:44.042Z"
   },
   {
    "duration": 0,
    "start_time": "2023-04-19T06:33:44.731Z"
   },
   {
    "duration": 72,
    "start_time": "2023-04-19T06:36:41.676Z"
   },
   {
    "duration": 806,
    "start_time": "2023-04-19T06:38:40.957Z"
   },
   {
    "duration": 817,
    "start_time": "2023-04-19T06:40:21.247Z"
   },
   {
    "duration": 679,
    "start_time": "2023-04-19T06:42:41.504Z"
   },
   {
    "duration": 733,
    "start_time": "2023-04-19T06:43:09.612Z"
   },
   {
    "duration": 1584,
    "start_time": "2023-04-19T07:32:11.207Z"
   },
   {
    "duration": 1220,
    "start_time": "2023-04-19T07:32:12.793Z"
   },
   {
    "duration": 31,
    "start_time": "2023-04-19T07:32:14.015Z"
   },
   {
    "duration": 218,
    "start_time": "2023-04-19T07:32:14.050Z"
   },
   {
    "duration": 153,
    "start_time": "2023-04-19T07:32:14.271Z"
   },
   {
    "duration": 573,
    "start_time": "2023-04-19T07:32:14.436Z"
   },
   {
    "duration": 1164,
    "start_time": "2023-04-19T07:32:15.011Z"
   },
   {
    "duration": 1118,
    "start_time": "2023-04-19T07:32:16.176Z"
   },
   {
    "duration": 41,
    "start_time": "2023-04-19T07:32:17.296Z"
   },
   {
    "duration": 503,
    "start_time": "2023-04-19T07:32:17.340Z"
   },
   {
    "duration": 59,
    "start_time": "2023-04-19T07:32:17.845Z"
   },
   {
    "duration": 50,
    "start_time": "2023-04-19T07:32:17.905Z"
   },
   {
    "duration": 83,
    "start_time": "2023-04-19T07:32:17.957Z"
   },
   {
    "duration": 64,
    "start_time": "2023-04-19T07:32:18.047Z"
   },
   {
    "duration": 104,
    "start_time": "2023-04-19T07:32:18.113Z"
   },
   {
    "duration": 55,
    "start_time": "2023-04-19T07:32:18.220Z"
   },
   {
    "duration": 113,
    "start_time": "2023-04-19T07:32:18.277Z"
   },
   {
    "duration": 35,
    "start_time": "2023-04-19T07:32:18.391Z"
   },
   {
    "duration": 87,
    "start_time": "2023-04-19T07:32:18.428Z"
   },
   {
    "duration": 114,
    "start_time": "2023-04-19T07:32:18.517Z"
   },
   {
    "duration": 115,
    "start_time": "2023-04-19T07:32:18.636Z"
   },
   {
    "duration": 2016,
    "start_time": "2023-04-19T07:32:18.753Z"
   },
   {
    "duration": 136,
    "start_time": "2023-04-19T07:32:20.771Z"
   },
   {
    "duration": 32,
    "start_time": "2023-04-19T07:32:20.909Z"
   },
   {
    "duration": 1720,
    "start_time": "2023-04-19T07:32:20.943Z"
   },
   {
    "duration": 1642,
    "start_time": "2023-04-19T07:32:22.665Z"
   },
   {
    "duration": 45,
    "start_time": "2023-04-19T07:32:24.309Z"
   },
   {
    "duration": 1651,
    "start_time": "2023-04-19T07:32:24.357Z"
   },
   {
    "duration": 187,
    "start_time": "2023-04-19T07:32:26.010Z"
   },
   {
    "duration": 322,
    "start_time": "2023-04-19T07:32:26.199Z"
   },
   {
    "duration": 83,
    "start_time": "2023-04-19T07:32:26.523Z"
   },
   {
    "duration": 1082,
    "start_time": "2023-04-19T07:32:26.608Z"
   },
   {
    "duration": 177,
    "start_time": "2023-04-19T07:32:27.692Z"
   },
   {
    "duration": 182,
    "start_time": "2023-04-19T07:32:27.873Z"
   },
   {
    "duration": 1801,
    "start_time": "2023-04-19T07:33:29.805Z"
   },
   {
    "duration": 1121,
    "start_time": "2023-04-19T07:33:31.608Z"
   },
   {
    "duration": 50,
    "start_time": "2023-04-19T07:33:32.731Z"
   },
   {
    "duration": 194,
    "start_time": "2023-04-19T07:33:32.783Z"
   },
   {
    "duration": 169,
    "start_time": "2023-04-19T07:33:32.980Z"
   },
   {
    "duration": 651,
    "start_time": "2023-04-19T07:33:33.151Z"
   },
   {
    "duration": 1402,
    "start_time": "2023-04-19T07:33:33.804Z"
   },
   {
    "duration": 1205,
    "start_time": "2023-04-19T07:33:35.207Z"
   },
   {
    "duration": 54,
    "start_time": "2023-04-19T07:33:36.414Z"
   },
   {
    "duration": 593,
    "start_time": "2023-04-19T07:33:36.470Z"
   },
   {
    "duration": 54,
    "start_time": "2023-04-19T07:33:37.069Z"
   },
   {
    "duration": 63,
    "start_time": "2023-04-19T07:33:37.124Z"
   },
   {
    "duration": 88,
    "start_time": "2023-04-19T07:33:37.188Z"
   },
   {
    "duration": 36,
    "start_time": "2023-04-19T07:33:37.279Z"
   },
   {
    "duration": 81,
    "start_time": "2023-04-19T07:33:37.317Z"
   },
   {
    "duration": 51,
    "start_time": "2023-04-19T07:33:37.400Z"
   },
   {
    "duration": 125,
    "start_time": "2023-04-19T07:33:37.453Z"
   },
   {
    "duration": 36,
    "start_time": "2023-04-19T07:33:37.580Z"
   },
   {
    "duration": 81,
    "start_time": "2023-04-19T07:33:37.618Z"
   },
   {
    "duration": 101,
    "start_time": "2023-04-19T07:33:37.701Z"
   },
   {
    "duration": 110,
    "start_time": "2023-04-19T07:33:37.803Z"
   },
   {
    "duration": 1938,
    "start_time": "2023-04-19T07:33:37.915Z"
   },
   {
    "duration": 125,
    "start_time": "2023-04-19T07:33:39.859Z"
   },
   {
    "duration": 20,
    "start_time": "2023-04-19T07:33:39.985Z"
   },
   {
    "duration": 1764,
    "start_time": "2023-04-19T07:33:40.007Z"
   },
   {
    "duration": 1830,
    "start_time": "2023-04-19T07:33:41.773Z"
   },
   {
    "duration": 42,
    "start_time": "2023-04-19T07:33:43.605Z"
   },
   {
    "duration": 1805,
    "start_time": "2023-04-19T07:33:43.649Z"
   },
   {
    "duration": 173,
    "start_time": "2023-04-19T07:33:45.457Z"
   },
   {
    "duration": 374,
    "start_time": "2023-04-19T07:33:45.633Z"
   },
   {
    "duration": 95,
    "start_time": "2023-04-19T07:33:46.008Z"
   },
   {
    "duration": 1116,
    "start_time": "2023-04-19T07:33:46.105Z"
   },
   {
    "duration": 136,
    "start_time": "2023-04-19T07:33:47.222Z"
   },
   {
    "duration": 145,
    "start_time": "2023-04-19T07:33:47.361Z"
   },
   {
    "duration": 104,
    "start_time": "2023-04-19T07:48:59.611Z"
   },
   {
    "duration": 2758,
    "start_time": "2023-04-19T08:40:07.265Z"
   },
   {
    "duration": 0,
    "start_time": "2023-04-19T08:40:10.026Z"
   },
   {
    "duration": 0,
    "start_time": "2023-04-19T08:40:10.027Z"
   },
   {
    "duration": 0,
    "start_time": "2023-04-19T08:40:10.030Z"
   },
   {
    "duration": 0,
    "start_time": "2023-04-19T08:40:10.035Z"
   },
   {
    "duration": 0,
    "start_time": "2023-04-19T08:40:10.039Z"
   },
   {
    "duration": 0,
    "start_time": "2023-04-19T08:40:10.040Z"
   },
   {
    "duration": 0,
    "start_time": "2023-04-19T08:40:10.041Z"
   },
   {
    "duration": 0,
    "start_time": "2023-04-19T08:40:10.041Z"
   },
   {
    "duration": 0,
    "start_time": "2023-04-19T08:40:10.042Z"
   },
   {
    "duration": 0,
    "start_time": "2023-04-19T08:40:10.043Z"
   },
   {
    "duration": 0,
    "start_time": "2023-04-19T08:40:10.044Z"
   },
   {
    "duration": 0,
    "start_time": "2023-04-19T08:40:10.045Z"
   },
   {
    "duration": 0,
    "start_time": "2023-04-19T08:40:10.047Z"
   },
   {
    "duration": 0,
    "start_time": "2023-04-19T08:40:10.048Z"
   },
   {
    "duration": 0,
    "start_time": "2023-04-19T08:40:10.049Z"
   },
   {
    "duration": 0,
    "start_time": "2023-04-19T08:40:10.049Z"
   },
   {
    "duration": 0,
    "start_time": "2023-04-19T08:40:10.051Z"
   },
   {
    "duration": 0,
    "start_time": "2023-04-19T08:40:10.052Z"
   },
   {
    "duration": 0,
    "start_time": "2023-04-19T08:40:10.053Z"
   },
   {
    "duration": 0,
    "start_time": "2023-04-19T08:40:10.054Z"
   },
   {
    "duration": 0,
    "start_time": "2023-04-19T08:40:10.055Z"
   },
   {
    "duration": 0,
    "start_time": "2023-04-19T08:40:10.056Z"
   },
   {
    "duration": 0,
    "start_time": "2023-04-19T08:40:10.057Z"
   },
   {
    "duration": 0,
    "start_time": "2023-04-19T08:40:10.058Z"
   },
   {
    "duration": 0,
    "start_time": "2023-04-19T08:40:10.059Z"
   },
   {
    "duration": 0,
    "start_time": "2023-04-19T08:40:10.060Z"
   },
   {
    "duration": 0,
    "start_time": "2023-04-19T08:40:10.061Z"
   },
   {
    "duration": 0,
    "start_time": "2023-04-19T08:40:10.066Z"
   },
   {
    "duration": 0,
    "start_time": "2023-04-19T08:40:10.067Z"
   },
   {
    "duration": 0,
    "start_time": "2023-04-19T08:40:10.069Z"
   },
   {
    "duration": 0,
    "start_time": "2023-04-19T08:40:10.071Z"
   },
   {
    "duration": 0,
    "start_time": "2023-04-19T08:40:10.072Z"
   },
   {
    "duration": 0,
    "start_time": "2023-04-19T08:40:10.074Z"
   },
   {
    "duration": 0,
    "start_time": "2023-04-19T08:40:10.075Z"
   },
   {
    "duration": 0,
    "start_time": "2023-04-19T08:40:10.077Z"
   },
   {
    "duration": 11,
    "start_time": "2023-04-19T08:41:23.480Z"
   },
   {
    "duration": 4036,
    "start_time": "2023-04-19T08:43:35.679Z"
   },
   {
    "duration": 4455,
    "start_time": "2023-04-19T08:44:04.550Z"
   },
   {
    "duration": 1083,
    "start_time": "2023-04-19T08:44:09.008Z"
   },
   {
    "duration": 26,
    "start_time": "2023-04-19T08:44:10.093Z"
   },
   {
    "duration": 190,
    "start_time": "2023-04-19T08:44:10.121Z"
   },
   {
    "duration": 161,
    "start_time": "2023-04-19T08:44:10.314Z"
   },
   {
    "duration": 512,
    "start_time": "2023-04-19T08:44:10.477Z"
   },
   {
    "duration": 1093,
    "start_time": "2023-04-19T08:44:10.991Z"
   },
   {
    "duration": 1120,
    "start_time": "2023-04-19T08:44:12.086Z"
   },
   {
    "duration": 54,
    "start_time": "2023-04-19T08:44:13.208Z"
   },
   {
    "duration": 462,
    "start_time": "2023-04-19T08:44:13.264Z"
   },
   {
    "duration": 58,
    "start_time": "2023-04-19T08:44:13.728Z"
   },
   {
    "duration": 51,
    "start_time": "2023-04-19T08:44:13.788Z"
   },
   {
    "duration": 76,
    "start_time": "2023-04-19T08:44:13.840Z"
   },
   {
    "duration": 54,
    "start_time": "2023-04-19T08:44:13.919Z"
   },
   {
    "duration": 68,
    "start_time": "2023-04-19T08:44:13.974Z"
   },
   {
    "duration": 57,
    "start_time": "2023-04-19T08:44:14.045Z"
   },
   {
    "duration": 106,
    "start_time": "2023-04-19T08:44:14.104Z"
   },
   {
    "duration": 56,
    "start_time": "2023-04-19T08:44:14.212Z"
   },
   {
    "duration": 38,
    "start_time": "2023-04-19T08:44:14.270Z"
   },
   {
    "duration": 111,
    "start_time": "2023-04-19T08:44:14.310Z"
   },
   {
    "duration": 103,
    "start_time": "2023-04-19T08:44:14.423Z"
   },
   {
    "duration": 1861,
    "start_time": "2023-04-19T08:44:14.534Z"
   },
   {
    "duration": 129,
    "start_time": "2023-04-19T08:44:16.397Z"
   },
   {
    "duration": 29,
    "start_time": "2023-04-19T08:44:16.528Z"
   },
   {
    "duration": 1869,
    "start_time": "2023-04-19T08:44:16.561Z"
   },
   {
    "duration": 1643,
    "start_time": "2023-04-19T08:44:18.432Z"
   },
   {
    "duration": 29,
    "start_time": "2023-04-19T08:44:20.077Z"
   },
   {
    "duration": 1454,
    "start_time": "2023-04-19T08:44:20.108Z"
   },
   {
    "duration": 131,
    "start_time": "2023-04-19T08:44:21.564Z"
   },
   {
    "duration": 308,
    "start_time": "2023-04-19T08:44:21.696Z"
   },
   {
    "duration": 108,
    "start_time": "2023-04-19T08:44:22.005Z"
   },
   {
    "duration": 169,
    "start_time": "2023-04-19T08:44:22.115Z"
   },
   {
    "duration": 0,
    "start_time": "2023-04-19T08:44:22.286Z"
   },
   {
    "duration": 0,
    "start_time": "2023-04-19T08:44:22.287Z"
   },
   {
    "duration": 0,
    "start_time": "2023-04-19T08:44:22.289Z"
   },
   {
    "duration": 0,
    "start_time": "2023-04-19T08:44:22.290Z"
   },
   {
    "duration": 17,
    "start_time": "2023-04-19T08:46:04.056Z"
   },
   {
    "duration": 435,
    "start_time": "2023-04-19T08:53:46.819Z"
   },
   {
    "duration": 511,
    "start_time": "2023-04-19T08:55:18.365Z"
   },
   {
    "duration": 4479,
    "start_time": "2023-04-19T10:10:14.664Z"
   },
   {
    "duration": 1011,
    "start_time": "2023-04-19T10:10:19.146Z"
   },
   {
    "duration": 47,
    "start_time": "2023-04-19T10:10:20.159Z"
   },
   {
    "duration": 249,
    "start_time": "2023-04-19T10:10:20.209Z"
   },
   {
    "duration": 186,
    "start_time": "2023-04-19T10:10:20.462Z"
   },
   {
    "duration": 615,
    "start_time": "2023-04-19T10:10:20.650Z"
   },
   {
    "duration": 1157,
    "start_time": "2023-04-19T10:10:21.269Z"
   },
   {
    "duration": 1242,
    "start_time": "2023-04-19T10:10:22.428Z"
   },
   {
    "duration": 26,
    "start_time": "2023-04-19T10:10:23.672Z"
   },
   {
    "duration": 593,
    "start_time": "2023-04-19T10:10:23.701Z"
   },
   {
    "duration": 64,
    "start_time": "2023-04-19T10:10:24.296Z"
   },
   {
    "duration": 43,
    "start_time": "2023-04-19T10:10:24.362Z"
   },
   {
    "duration": 85,
    "start_time": "2023-04-19T10:10:24.406Z"
   },
   {
    "duration": 39,
    "start_time": "2023-04-19T10:10:24.494Z"
   },
   {
    "duration": 82,
    "start_time": "2023-04-19T10:10:24.535Z"
   },
   {
    "duration": 54,
    "start_time": "2023-04-19T10:10:24.618Z"
   },
   {
    "duration": 116,
    "start_time": "2023-04-19T10:10:24.674Z"
   },
   {
    "duration": 48,
    "start_time": "2023-04-19T10:10:24.792Z"
   },
   {
    "duration": 69,
    "start_time": "2023-04-19T10:10:24.843Z"
   },
   {
    "duration": 104,
    "start_time": "2023-04-19T10:10:24.914Z"
   },
   {
    "duration": 115,
    "start_time": "2023-04-19T10:10:25.020Z"
   },
   {
    "duration": 2157,
    "start_time": "2023-04-19T10:10:25.138Z"
   },
   {
    "duration": 127,
    "start_time": "2023-04-19T10:10:27.297Z"
   },
   {
    "duration": 37,
    "start_time": "2023-04-19T10:10:27.427Z"
   },
   {
    "duration": 1866,
    "start_time": "2023-04-19T10:10:27.466Z"
   },
   {
    "duration": 1957,
    "start_time": "2023-04-19T10:10:29.335Z"
   },
   {
    "duration": 55,
    "start_time": "2023-04-19T10:10:31.294Z"
   },
   {
    "duration": 1747,
    "start_time": "2023-04-19T10:10:31.351Z"
   },
   {
    "duration": 193,
    "start_time": "2023-04-19T10:10:33.100Z"
   },
   {
    "duration": 368,
    "start_time": "2023-04-19T10:10:33.294Z"
   },
   {
    "duration": 122,
    "start_time": "2023-04-19T10:10:33.665Z"
   },
   {
    "duration": 1066,
    "start_time": "2023-04-19T10:10:33.789Z"
   },
   {
    "duration": 144,
    "start_time": "2023-04-19T10:10:34.858Z"
   },
   {
    "duration": 4,
    "start_time": "2023-04-19T10:10:35.003Z"
   },
   {
    "duration": 9042,
    "start_time": "2023-04-19T10:10:35.009Z"
   },
   {
    "duration": 145,
    "start_time": "2023-04-19T10:10:44.058Z"
   },
   {
    "duration": 8288,
    "start_time": "2023-04-19T10:11:00.922Z"
   },
   {
    "duration": 9299,
    "start_time": "2023-04-19T10:14:21.705Z"
   },
   {
    "duration": 1819709,
    "start_time": "2023-04-19T10:20:52.385Z"
   },
   {
    "duration": 3,
    "start_time": "2023-04-19T10:52:28.925Z"
   },
   {
    "duration": 123,
    "start_time": "2023-04-19T10:55:16.729Z"
   },
   {
    "duration": 62,
    "start_time": "2023-04-19T10:55:25.762Z"
   },
   {
    "duration": 59,
    "start_time": "2023-04-19T10:57:41.669Z"
   },
   {
    "duration": 78,
    "start_time": "2023-04-19T10:59:53.628Z"
   },
   {
    "duration": 367,
    "start_time": "2023-04-19T11:06:18.659Z"
   },
   {
    "duration": 2587,
    "start_time": "2023-04-19T11:07:17.294Z"
   },
   {
    "duration": 128,
    "start_time": "2023-04-19T11:07:25.374Z"
   },
   {
    "duration": 139,
    "start_time": "2023-04-19T11:07:38.961Z"
   },
   {
    "duration": 2586,
    "start_time": "2023-04-19T11:08:40.959Z"
   },
   {
    "duration": 415,
    "start_time": "2023-04-19T11:08:51.285Z"
   },
   {
    "duration": 525275,
    "start_time": "2023-04-19T11:10:24.494Z"
   },
   {
    "duration": 1913186,
    "start_time": "2023-04-19T11:19:16.057Z"
   },
   {
    "duration": 634,
    "start_time": "2023-04-19T12:02:13.293Z"
   },
   {
    "duration": 71023,
    "start_time": "2023-04-19T12:03:14.468Z"
   },
   {
    "duration": 800327,
    "start_time": "2023-04-19T12:09:33.735Z"
   },
   {
    "duration": 3921,
    "start_time": "2023-04-21T12:50:56.968Z"
   },
   {
    "duration": 888,
    "start_time": "2023-04-21T12:51:00.891Z"
   },
   {
    "duration": 25,
    "start_time": "2023-04-21T12:51:19.011Z"
   },
   {
    "duration": 130,
    "start_time": "2023-04-21T12:51:20.641Z"
   },
   {
    "duration": 106,
    "start_time": "2023-04-21T12:51:22.938Z"
   },
   {
    "duration": 444,
    "start_time": "2023-04-21T12:51:23.232Z"
   },
   {
    "duration": 996,
    "start_time": "2023-04-21T12:51:23.966Z"
   },
   {
    "duration": 29,
    "start_time": "2023-04-21T12:52:14.984Z"
   },
   {
    "duration": 348,
    "start_time": "2023-04-21T12:52:36.413Z"
   },
   {
    "duration": 50,
    "start_time": "2023-04-21T12:52:44.418Z"
   },
   {
    "duration": 28,
    "start_time": "2023-04-21T12:53:16.211Z"
   },
   {
    "duration": 50,
    "start_time": "2023-04-21T12:53:21.111Z"
   },
   {
    "duration": 30,
    "start_time": "2023-04-21T12:53:42.924Z"
   },
   {
    "duration": 43,
    "start_time": "2023-04-21T12:53:43.239Z"
   },
   {
    "duration": 30,
    "start_time": "2023-04-21T12:53:44.903Z"
   },
   {
    "duration": 64,
    "start_time": "2023-04-21T12:53:47.727Z"
   },
   {
    "duration": 53,
    "start_time": "2023-04-21T12:54:04.763Z"
   },
   {
    "duration": 44,
    "start_time": "2023-04-21T12:54:05.399Z"
   },
   {
    "duration": 29,
    "start_time": "2023-04-21T12:54:05.860Z"
   },
   {
    "duration": 62,
    "start_time": "2023-04-21T12:54:06.337Z"
   },
   {
    "duration": 64,
    "start_time": "2023-04-21T12:55:19.216Z"
   },
   {
    "duration": 1517,
    "start_time": "2023-04-21T12:55:21.117Z"
   },
   {
    "duration": 108,
    "start_time": "2023-04-21T12:55:27.811Z"
   },
   {
    "duration": 1517,
    "start_time": "2023-04-21T12:56:11.183Z"
   },
   {
    "duration": 1385,
    "start_time": "2023-04-21T12:56:25.277Z"
   },
   {
    "duration": 29,
    "start_time": "2023-04-21T12:56:31.360Z"
   },
   {
    "duration": 1327,
    "start_time": "2023-04-21T12:56:52.857Z"
   },
   {
    "duration": 114,
    "start_time": "2023-04-21T12:57:09.216Z"
   },
   {
    "duration": 236,
    "start_time": "2023-04-21T12:57:09.640Z"
   },
   {
    "duration": 68,
    "start_time": "2023-04-21T12:58:12.896Z"
   },
   {
    "duration": 125,
    "start_time": "2023-04-21T13:00:29.176Z"
   }
  ],
  "kernelspec": {
   "display_name": "Python 3 (ipykernel)",
   "language": "python",
   "name": "python3"
  },
  "language_info": {
   "codemirror_mode": {
    "name": "ipython",
    "version": 3
   },
   "file_extension": ".py",
   "mimetype": "text/x-python",
   "name": "python",
   "nbconvert_exporter": "python",
   "pygments_lexer": "ipython3",
   "version": "3.9.13"
  },
  "toc": {
   "base_numbering": 1,
   "nav_menu": {},
   "number_sections": true,
   "sideBar": true,
   "skip_h1_title": true,
   "title_cell": "Table of Contents",
   "title_sidebar": "Contents",
   "toc_cell": false,
   "toc_position": {},
   "toc_section_display": true,
   "toc_window_display": true
  }
 },
 "nbformat": 4,
 "nbformat_minor": 2
}

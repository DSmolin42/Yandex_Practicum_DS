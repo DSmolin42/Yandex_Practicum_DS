{
 "cells": [
  {
   "cell_type": "markdown",
   "metadata": {
    "toc": true
   },
   "source": [
    "<h1>Содержание<span class=\"tocSkip\"></span></h1>\n",
    "<div class=\"toc\"><ul class=\"toc-item\"><li><span><a href=\"#Подготовка-данных\" data-toc-modified-id=\"Подготовка-данных-1\">Подготовка данных</a></span><ul class=\"toc-item\"><li><ul class=\"toc-item\"><li><span><a href=\"#Откроем-файлы-и-изучим-их.\" data-toc-modified-id=\"Откроем-файлы-и-изучим-их.-1.0.1\">Откроем файлы и изучим их.</a></span></li><li><span><a href=\"#Проверим-,-что-эффективность-обогащения-рассчитана-правильно.-Вычислим--её-на-обучающей-выборке-для-признака-rougher.output.recovery.-Найдем-среднее-абсолютное-отклонение/MAE-между--нашими-расчётами-и-значением-признака.\" data-toc-modified-id=\"Проверим-,-что-эффективность-обогащения-рассчитана-правильно.-Вычислим--её-на-обучающей-выборке-для-признака-rougher.output.recovery.-Найдем-среднее-абсолютное-отклонение/MAE-между--нашими-расчётами-и-значением-признака.-1.0.2\">Проверим , что эффективность обогащения рассчитана правильно. Вычислим  её на обучающей выборке для признака rougher.output.recovery. Найдем среднее абсолютное отклонение/MAE между  нашими расчётами и значением признака.</a></span></li><li><span><a href=\"#Величина-среднего-абсолютного-отклонения-очень-маленькая,-это-подтверждает,-что-эффективность-обогащения-рассчитана-правильно.\" data-toc-modified-id=\"Величина-среднего-абсолютного-отклонения-очень-маленькая,-это-подтверждает,-что-эффективность-обогащения-рассчитана-правильно.-1.0.3\">Величина среднего абсолютного отклонения очень маленькая, это подтверждает, что эффективность обогащения рассчитана правильно.</a></span></li><li><span><a href=\"#Проанализируем-признаки,-недоступные-в-тестовой-выборке.\" data-toc-modified-id=\"Проанализируем-признаки,-недоступные-в-тестовой-выборке.-1.0.4\">Проанализируем признаки, недоступные в тестовой выборке.</a></span></li><li><span><a href=\"#В-тестовой-выборке-отсутсвуют-признаки,-которые-относятся-к-вторичным-стадиям-обогащения-и-расчетные-характеристики,-относящиеся-к-разным-этапам,-которые-невозможно-получить-во-время-выполнения-технологического-процесса.\" data-toc-modified-id=\"В-тестовой-выборке-отсутсвуют-признаки,-которые-относятся-к-вторичным-стадиям-обогащения-и-расчетные-характеристики,-относящиеся-к-разным-этапам,-которые-невозможно-получить-во-время-выполнения-технологического-процесса.-1.0.5\">В тестовой выборке отсутсвуют признаки, которые относятся к вторичным стадиям обогащения и расчетные характеристики, относящиеся к разным этапам, которые невозможно получить во время выполнения технологического процесса.</a></span></li><li><span><a href=\"#Проведем-обработку-пропусков--в-выборках.--Пропуски-в-целевых-признаках-'rougher.output.recovery','final.output.recovery'-отсутсвуют,-остальные-пропуски--заполним,-пользуясь-тем,-что-соседние-по-времени-параметры-часто-похожи.-Заполним-пропуски-соответствующими-значениями-в-предыдущем-ряду-методом-ffill.\" data-toc-modified-id=\"Проведем-обработку-пропусков--в-выборках.--Пропуски-в-целевых-признаках-'rougher.output.recovery','final.output.recovery'-отсутсвуют,-остальные-пропуски--заполним,-пользуясь-тем,-что-соседние-по-времени-параметры-часто-похожи.-Заполним-пропуски-соответствующими-значениями-в-предыдущем-ряду-методом-ffill.-1.0.6\">Проведем обработку пропусков  в выборках.  Пропуски в целевых признаках 'rougher.output.recovery','final.output.recovery' отсутсвуют, остальные пропуски  заполним, пользуясь тем, что соседние по времени параметры часто похожи. Заполним пропуски соответствующими значениями в предыдущем ряду методом ffill.</a></span></li></ul></li><li><span><a href=\"#Изучили-и-подготовили-данные-для-дальнейших-исследований\" data-toc-modified-id=\"Изучили-и-подготовили-данные-для-дальнейших-исследований-1.1\">Изучили и подготовили данные для дальнейших исследований</a></span></li></ul></li><li><span><a href=\"#Анализ-данных\" data-toc-modified-id=\"Анализ-данных-2\">Анализ данных</a></span><ul class=\"toc-item\"><li><ul class=\"toc-item\"><li><span><a href=\"#Посмотрим-как-меняется-концентрация-металлов-(Au,-Ag,-Pb)-на-различных-этапах-очистки.\" data-toc-modified-id=\"Посмотрим-как-меняется-концентрация-металлов-(Au,-Ag,-Pb)-на-различных-этапах-очистки.-2.0.1\">Посмотрим как меняется концентрация металлов (Au, Ag, Pb) на различных этапах очистки.</a></span></li><li><span><a href=\"#По-мере-прохождения-технологического-процесса-увеличивается-концентрация-золота-и-свинца-и-уменьшение-концентрации-серебра.\" data-toc-modified-id=\"По-мере-прохождения-технологического-процесса-увеличивается-концентрация-золота-и-свинца-и-уменьшение-концентрации-серебра.-2.0.2\">По мере прохождения технологического процесса увеличивается концентрация золота и свинца и уменьшение концентрации серебра.</a></span></li><li><span><a href=\"#Сравним-распределения-размеров-гранул-сырья-на-обучающей-и-тестовой-выборках.\" data-toc-modified-id=\"Сравним-распределения-размеров-гранул-сырья-на-обучающей-и-тестовой-выборках.-2.0.3\">Сравним распределения размеров гранул сырья на обучающей и тестовой выборках.</a></span></li><li><span><a href=\"#Cредний-размер-гранул-на-обучающей-выборке-60,--на-тестовой---56.-Bизуально-значительных-отличий-нет.-Cчитаем,-что-распределения--равны.\" data-toc-modified-id=\"Cредний-размер-гранул-на-обучающей-выборке-60,--на-тестовой---56.-Bизуально-значительных-отличий-нет.-Cчитаем,-что-распределения--равны.-2.0.4\">Cредний размер гранул на обучающей выборке 60,  на тестовой - 56. Bизуально значительных отличий нет. Cчитаем, что распределения  равны.</a></span></li><li><span><a href=\"#Исследуем-суммарную-концентрацию-всех-веществ-на-разных-стадиях:-в-сырье,-в-черновом-и-финальном-концентратах.\" data-toc-modified-id=\"Исследуем-суммарную-концентрацию-всех-веществ-на-разных-стадиях:-в-сырье,-в-черновом-и-финальном-концентратах.-2.0.5\">Исследуем суммарную концентрацию всех веществ на разных стадиях: в сырье, в черновом и финальном концентратах.</a></span></li><li><span><a href=\"#Присутсвует-много-аномальных-значений--суммарной-концентрации--веществ-в-районе-нуля-на-этапе-флотации,-первичной--очистки-и-финальной-очистки.--Такие-аномали-могли-появиться-в-результате-сбоя-оборудования.-Удалим-строки-из-нашей--выборки-содержащие---аномальные-значения.\" data-toc-modified-id=\"Присутсвует-много-аномальных-значений--суммарной-концентрации--веществ-в-районе-нуля-на-этапе-флотации,-первичной--очистки-и-финальной-очистки.--Такие-аномали-могли-появиться-в-результате-сбоя-оборудования.-Удалим-строки-из-нашей--выборки-содержащие---аномальные-значения.-2.0.6\">Присутсвует много аномальных значений  суммарной концентрации  веществ в районе нуля на этапе флотации, первичной  очистки и финальной очистки.  Такие аномали могли появиться в результате сбоя оборудования. Удалим строки из нашей  выборки содержащие   аномальные значения.</a></span></li></ul></li><li><span><a href=\"#Провели-анализ-данных\" data-toc-modified-id=\"Провели-анализ-данных-2.1\">Провели анализ данных</a></span></li></ul></li><li><span><a href=\"#Модель\" data-toc-modified-id=\"Модель-3\">Модель</a></span><ul class=\"toc-item\"><li><ul class=\"toc-item\"><li><span><a href=\"#Добавим-целевые-признаки--&quot;rougher.output.recovery&quot;,-&quot;final.output.recovery&quot;--в-тестовую-выборку.\" data-toc-modified-id=\"Добавим-целевые-признаки--&quot;rougher.output.recovery&quot;,-&quot;final.output.recovery&quot;--в-тестовую-выборку.-3.0.1\">Добавим целевые признаки  \"rougher.output.recovery\", \"final.output.recovery\"  в тестовую выборку.</a></span></li><li><span><a href=\"#Удалим-из-тренировочной-выборки--признаки,-которые-невозможно-получить-во-время-выполнения-технологического-процесса.-Эти-признаки-отсутсвуют-в-тестовой--выборке.\" data-toc-modified-id=\"Удалим-из-тренировочной-выборки--признаки,-которые-невозможно-получить-во-время-выполнения-технологического-процесса.-Эти-признаки-отсутсвуют-в-тестовой--выборке.-3.0.2\">Удалим из тренировочной выборки  признаки, которые невозможно получить во время выполнения технологического процесса. Эти признаки отсутсвуют в тестовой  выборке.</a></span></li><li><span><a href=\"#Выделим--на-тренировочной-и-тестовой--выборках-признаки-и-целевую-переменную-относящиеся-к-этапу-флотации.\" data-toc-modified-id=\"Выделим--на-тренировочной-и-тестовой--выборках-признаки-и-целевую-переменную-относящиеся-к-этапу-флотации.-3.0.3\">Выделим  на тренировочной и тестовой  выборках признаки и целевую переменную относящиеся к этапу флотации.</a></span></li><li><span><a href=\"#Выделим--на-тренировочной-и-тестовой--выборках-признаки-и-целевую-переменную-относящиеся-к--полному-технологическому-процессу.\" data-toc-modified-id=\"Выделим--на-тренировочной-и-тестовой--выборках-признаки-и-целевую-переменную-относящиеся-к--полному-технологическому-процессу.-3.0.4\">Выделим  на тренировочной и тестовой  выборках признаки и целевую переменную относящиеся к  полному технологическому процессу.</a></span></li><li><span><a href=\"#Напишим-функцию-для-вычисления-итоговой-sMAPE.\" data-toc-modified-id=\"Напишим-функцию-для-вычисления-итоговой-sMAPE.-3.0.5\">Напишим функцию для вычисления итоговой sMAPE.</a></span></li><li><span><a href=\"#Создадим-собственный-scorer,--т.к.--sMAPE-нужно-минимизировать,-установим-для-greater_is_better-параметра-значение-False.\" data-toc-modified-id=\"Создадим-собственный-scorer,--т.к.--sMAPE-нужно-минимизировать,-установим-для-greater_is_better-параметра-значение-False.-3.0.6\">Создадим собственный scorer,  т.к.  sMAPE нужно минимизировать, установим для greater_is_better параметра значение False.</a></span></li><li><span><a href=\"#Используем-GridSearchCV-для-подбора-параметров--моделей-RandomForest-и-DecisionTree.-Используем-Pipeline-и-StandardScaler,-чтобы-отмасштабировать-данные-перед-тем,-как-передать-их-в-регрессор.\" data-toc-modified-id=\"Используем-GridSearchCV-для-подбора-параметров--моделей-RandomForest-и-DecisionTree.-Используем-Pipeline-и-StandardScaler,-чтобы-отмасштабировать-данные-перед-тем,-как-передать-их-в-регрессор.-3.0.7\">Используем GridSearchCV для подбора параметров  моделей RandomForest и DecisionTree. Используем Pipeline и StandardScaler, чтобы отмасштабировать данные перед тем, как передать их в регрессор.</a></span></li><li><span><a href=\"#Лучшие-показатели-метрики-для--моделей.\" data-toc-modified-id=\"Лучшие-показатели-метрики-для--моделей.-3.0.8\">Лучшие показатели метрики для  моделей.</a></span></li><li><span><a href=\"#Рассчитаем-значение-фунуции-final_sMAPE-для-RandomForest.\" data-toc-modified-id=\"Рассчитаем-значение-фунуции-final_sMAPE-для-RandomForest.-3.0.9\">Рассчитаем значение фунуции final_sMAPE для RandomForest.</a></span></li><li><span><a href=\"#Рассчитаем-значение-фунуции-final_sMAPE-для--DecisionTree.\" data-toc-modified-id=\"Рассчитаем-значение-фунуции-final_sMAPE-для--DecisionTree.-3.0.10\">Рассчитаем значение фунуции final_sMAPE для  DecisionTree.</a></span></li><li><span><a href=\"#Лучший-результат-показала-модель-RandomForest.--Рассчитаем-метрику---на-тестовой-выборке.\" data-toc-modified-id=\"Лучший-результат-показала-модель-RandomForest.--Рассчитаем-метрику---на-тестовой-выборке.-3.0.11\">Лучший результат показала модель RandomForest.  Рассчитаем метрику   на тестовой выборке.</a></span></li><li><span><a href=\"#Инициализируем-и-обучим-константную-модель.-Посчитаем-значение-final_sMAPE-для-этой-модели.\" data-toc-modified-id=\"Инициализируем-и-обучим-константную-модель.-Посчитаем-значение-final_sMAPE-для-этой-модели.-3.0.12\">Инициализируем и обучим константную модель. Посчитаем значение final_sMAPE для этой модели.</a></span></li><li><span><a href=\"#Значене--функции--final_sMAPE-на-тестоыой-выборке-для-нашей-модели-RandomForest-меньше,-чем-на-константном-алгоритме.-Построенная-нами-модель-прошла-тест-на-адекватность.\" data-toc-modified-id=\"Значене--функции--final_sMAPE-на-тестоыой-выборке-для-нашей-модели-RandomForest-меньше,-чем-на-константном-алгоритме.-Построенная-нами-модель-прошла-тест-на-адекватность.-3.0.13\">Значене  функции  final_sMAPE на тестоыой выборке для нашей модели RandomForest меньше, чем на константном алгоритме. Построенная нами модель прошла тест на адекватность.</a></span></li></ul></li><li><span><a href=\"#Выводы\" data-toc-modified-id=\"Выводы-3.1\">Выводы</a></span></li></ul></li><li><span><a href=\"#Чек-лист-готовности-проекта\" data-toc-modified-id=\"Чек-лист-готовности-проекта-4\">Чек-лист готовности проекта</a></span></li></ul></div>"
   ]
  },
  {
   "cell_type": "markdown",
   "metadata": {},
   "source": [
    "# Восстановление золота из руды"
   ]
  },
  {
   "cell_type": "markdown",
   "metadata": {},
   "source": [
    "Подготовьте прототип модели машинного обучения для «Цифры». Компания разрабатывает решения для эффективной работы промышленных предприятий.\n",
    "\n",
    "Модель должна предсказать коэффициент восстановления золота из золотосодержащей руды. Используйте данные с параметрами добычи и очистки. \n",
    "\n",
    "Модель поможет оптимизировать производство, чтобы не запускать предприятие с убыточными характеристиками.\n",
    "\n",
    "Вам нужно:\n",
    "\n",
    "1. Подготовить данные;\n",
    "2. Провести исследовательский анализ данных;\n",
    "3. Построить и обучить модель.\n",
    "\n",
    "Чтобы выполнить проект, обращайтесь к библиотекам *pandas*, *matplotlib* и *sklearn.* Вам поможет их документация."
   ]
  },
  {
   "cell_type": "markdown",
   "metadata": {},
   "source": [
    "## Подготовка данных"
   ]
  },
  {
   "cell_type": "code",
   "execution_count": 1,
   "metadata": {},
   "outputs": [],
   "source": [
    "## импортируем необходимые  библиотеки\n",
    "import numpy as np\n",
    "import pandas as pd\n",
    "from sklearn.metrics import mean_absolute_error\n",
    "from matplotlib import pyplot as plt\n",
    "import seaborn as sns\n",
    "from sklearn.metrics import make_scorer\n",
    "from sklearn.ensemble import RandomForestRegressor\n",
    "from sklearn.preprocessing import StandardScaler\n",
    "from sklearn.model_selection import GridSearchCV\n",
    "from sklearn.linear_model import LinearRegression\n",
    "from sklearn.tree import DecisionTreeRegressor\n",
    "from sklearn.pipeline import Pipeline\n",
    "from sklearn.dummy import DummyRegressor\n",
    "import warnings\n",
    "warnings.filterwarnings('ignore')"
   ]
  },
  {
   "cell_type": "markdown",
   "metadata": {},
   "source": [
    "#### Откроем файлы и изучим их."
   ]
  },
  {
   "cell_type": "code",
   "execution_count": 2,
   "metadata": {},
   "outputs": [],
   "source": [
    "df_train = pd.read_csv('/datasets/gold_recovery_train_new.csv')\n",
    "df_test = pd.read_csv('/datasets/gold_recovery_test_new.csv')\n",
    "df_full = pd.read_csv('/datasets/gold_recovery_full_new.csv')"
   ]
  },
  {
   "cell_type": "code",
   "execution_count": 3,
   "metadata": {},
   "outputs": [],
   "source": [
    "data_list = [df_train, df_test, df_full]"
   ]
  },
  {
   "cell_type": "code",
   "execution_count": 4,
   "metadata": {
    "scrolled": false
   },
   "outputs": [
    {
     "data": {
      "text/html": [
       "<div>\n",
       "<style scoped>\n",
       "    .dataframe tbody tr th:only-of-type {\n",
       "        vertical-align: middle;\n",
       "    }\n",
       "\n",
       "    .dataframe tbody tr th {\n",
       "        vertical-align: top;\n",
       "    }\n",
       "\n",
       "    .dataframe thead th {\n",
       "        text-align: right;\n",
       "    }\n",
       "</style>\n",
       "<table border=\"1\" class=\"dataframe\">\n",
       "  <thead>\n",
       "    <tr style=\"text-align: right;\">\n",
       "      <th></th>\n",
       "      <th>date</th>\n",
       "      <th>final.output.concentrate_ag</th>\n",
       "      <th>final.output.concentrate_pb</th>\n",
       "      <th>final.output.concentrate_sol</th>\n",
       "      <th>final.output.concentrate_au</th>\n",
       "      <th>final.output.recovery</th>\n",
       "      <th>final.output.tail_ag</th>\n",
       "      <th>final.output.tail_pb</th>\n",
       "      <th>final.output.tail_sol</th>\n",
       "      <th>final.output.tail_au</th>\n",
       "      <th>...</th>\n",
       "      <th>secondary_cleaner.state.floatbank4_a_air</th>\n",
       "      <th>secondary_cleaner.state.floatbank4_a_level</th>\n",
       "      <th>secondary_cleaner.state.floatbank4_b_air</th>\n",
       "      <th>secondary_cleaner.state.floatbank4_b_level</th>\n",
       "      <th>secondary_cleaner.state.floatbank5_a_air</th>\n",
       "      <th>secondary_cleaner.state.floatbank5_a_level</th>\n",
       "      <th>secondary_cleaner.state.floatbank5_b_air</th>\n",
       "      <th>secondary_cleaner.state.floatbank5_b_level</th>\n",
       "      <th>secondary_cleaner.state.floatbank6_a_air</th>\n",
       "      <th>secondary_cleaner.state.floatbank6_a_level</th>\n",
       "    </tr>\n",
       "  </thead>\n",
       "  <tbody>\n",
       "    <tr>\n",
       "      <th>0</th>\n",
       "      <td>2016-01-15 00:00:00</td>\n",
       "      <td>6.055403</td>\n",
       "      <td>9.889648</td>\n",
       "      <td>5.507324</td>\n",
       "      <td>42.192020</td>\n",
       "      <td>70.541216</td>\n",
       "      <td>10.411962</td>\n",
       "      <td>0.895447</td>\n",
       "      <td>16.904297</td>\n",
       "      <td>2.143149</td>\n",
       "      <td>...</td>\n",
       "      <td>14.016835</td>\n",
       "      <td>-502.488007</td>\n",
       "      <td>12.099931</td>\n",
       "      <td>-504.715942</td>\n",
       "      <td>9.925633</td>\n",
       "      <td>-498.310211</td>\n",
       "      <td>8.079666</td>\n",
       "      <td>-500.470978</td>\n",
       "      <td>14.151341</td>\n",
       "      <td>-605.841980</td>\n",
       "    </tr>\n",
       "    <tr>\n",
       "      <th>1</th>\n",
       "      <td>2016-01-15 01:00:00</td>\n",
       "      <td>6.029369</td>\n",
       "      <td>9.968944</td>\n",
       "      <td>5.257781</td>\n",
       "      <td>42.701629</td>\n",
       "      <td>69.266198</td>\n",
       "      <td>10.462676</td>\n",
       "      <td>0.927452</td>\n",
       "      <td>16.634514</td>\n",
       "      <td>2.224930</td>\n",
       "      <td>...</td>\n",
       "      <td>13.992281</td>\n",
       "      <td>-505.503262</td>\n",
       "      <td>11.950531</td>\n",
       "      <td>-501.331529</td>\n",
       "      <td>10.039245</td>\n",
       "      <td>-500.169983</td>\n",
       "      <td>7.984757</td>\n",
       "      <td>-500.582168</td>\n",
       "      <td>13.998353</td>\n",
       "      <td>-599.787184</td>\n",
       "    </tr>\n",
       "    <tr>\n",
       "      <th>2</th>\n",
       "      <td>2016-01-15 02:00:00</td>\n",
       "      <td>6.055926</td>\n",
       "      <td>10.213995</td>\n",
       "      <td>5.383759</td>\n",
       "      <td>42.657501</td>\n",
       "      <td>68.116445</td>\n",
       "      <td>10.507046</td>\n",
       "      <td>0.953716</td>\n",
       "      <td>16.208849</td>\n",
       "      <td>2.257889</td>\n",
       "      <td>...</td>\n",
       "      <td>14.015015</td>\n",
       "      <td>-502.520901</td>\n",
       "      <td>11.912783</td>\n",
       "      <td>-501.133383</td>\n",
       "      <td>10.070913</td>\n",
       "      <td>-500.129135</td>\n",
       "      <td>8.013877</td>\n",
       "      <td>-500.517572</td>\n",
       "      <td>14.028663</td>\n",
       "      <td>-601.427363</td>\n",
       "    </tr>\n",
       "    <tr>\n",
       "      <th>3</th>\n",
       "      <td>2016-01-15 03:00:00</td>\n",
       "      <td>6.047977</td>\n",
       "      <td>9.977019</td>\n",
       "      <td>4.858634</td>\n",
       "      <td>42.689819</td>\n",
       "      <td>68.347543</td>\n",
       "      <td>10.422762</td>\n",
       "      <td>0.883763</td>\n",
       "      <td>16.532835</td>\n",
       "      <td>2.146849</td>\n",
       "      <td>...</td>\n",
       "      <td>14.036510</td>\n",
       "      <td>-500.857308</td>\n",
       "      <td>11.999550</td>\n",
       "      <td>-501.193686</td>\n",
       "      <td>9.970366</td>\n",
       "      <td>-499.201640</td>\n",
       "      <td>7.977324</td>\n",
       "      <td>-500.255908</td>\n",
       "      <td>14.005551</td>\n",
       "      <td>-599.996129</td>\n",
       "    </tr>\n",
       "    <tr>\n",
       "      <th>4</th>\n",
       "      <td>2016-01-15 04:00:00</td>\n",
       "      <td>6.148599</td>\n",
       "      <td>10.142511</td>\n",
       "      <td>4.939416</td>\n",
       "      <td>42.774141</td>\n",
       "      <td>66.927016</td>\n",
       "      <td>10.360302</td>\n",
       "      <td>0.792826</td>\n",
       "      <td>16.525686</td>\n",
       "      <td>2.055292</td>\n",
       "      <td>...</td>\n",
       "      <td>14.027298</td>\n",
       "      <td>-499.838632</td>\n",
       "      <td>11.953070</td>\n",
       "      <td>-501.053894</td>\n",
       "      <td>9.925709</td>\n",
       "      <td>-501.686727</td>\n",
       "      <td>7.894242</td>\n",
       "      <td>-500.356035</td>\n",
       "      <td>13.996647</td>\n",
       "      <td>-601.496691</td>\n",
       "    </tr>\n",
       "  </tbody>\n",
       "</table>\n",
       "<p>5 rows × 87 columns</p>\n",
       "</div>"
      ],
      "text/plain": [
       "                  date  final.output.concentrate_ag  \\\n",
       "0  2016-01-15 00:00:00                     6.055403   \n",
       "1  2016-01-15 01:00:00                     6.029369   \n",
       "2  2016-01-15 02:00:00                     6.055926   \n",
       "3  2016-01-15 03:00:00                     6.047977   \n",
       "4  2016-01-15 04:00:00                     6.148599   \n",
       "\n",
       "   final.output.concentrate_pb  final.output.concentrate_sol  \\\n",
       "0                     9.889648                      5.507324   \n",
       "1                     9.968944                      5.257781   \n",
       "2                    10.213995                      5.383759   \n",
       "3                     9.977019                      4.858634   \n",
       "4                    10.142511                      4.939416   \n",
       "\n",
       "   final.output.concentrate_au  final.output.recovery  final.output.tail_ag  \\\n",
       "0                    42.192020              70.541216             10.411962   \n",
       "1                    42.701629              69.266198             10.462676   \n",
       "2                    42.657501              68.116445             10.507046   \n",
       "3                    42.689819              68.347543             10.422762   \n",
       "4                    42.774141              66.927016             10.360302   \n",
       "\n",
       "   final.output.tail_pb  final.output.tail_sol  final.output.tail_au  ...  \\\n",
       "0              0.895447              16.904297              2.143149  ...   \n",
       "1              0.927452              16.634514              2.224930  ...   \n",
       "2              0.953716              16.208849              2.257889  ...   \n",
       "3              0.883763              16.532835              2.146849  ...   \n",
       "4              0.792826              16.525686              2.055292  ...   \n",
       "\n",
       "   secondary_cleaner.state.floatbank4_a_air  \\\n",
       "0                                 14.016835   \n",
       "1                                 13.992281   \n",
       "2                                 14.015015   \n",
       "3                                 14.036510   \n",
       "4                                 14.027298   \n",
       "\n",
       "   secondary_cleaner.state.floatbank4_a_level  \\\n",
       "0                                 -502.488007   \n",
       "1                                 -505.503262   \n",
       "2                                 -502.520901   \n",
       "3                                 -500.857308   \n",
       "4                                 -499.838632   \n",
       "\n",
       "   secondary_cleaner.state.floatbank4_b_air  \\\n",
       "0                                 12.099931   \n",
       "1                                 11.950531   \n",
       "2                                 11.912783   \n",
       "3                                 11.999550   \n",
       "4                                 11.953070   \n",
       "\n",
       "   secondary_cleaner.state.floatbank4_b_level  \\\n",
       "0                                 -504.715942   \n",
       "1                                 -501.331529   \n",
       "2                                 -501.133383   \n",
       "3                                 -501.193686   \n",
       "4                                 -501.053894   \n",
       "\n",
       "   secondary_cleaner.state.floatbank5_a_air  \\\n",
       "0                                  9.925633   \n",
       "1                                 10.039245   \n",
       "2                                 10.070913   \n",
       "3                                  9.970366   \n",
       "4                                  9.925709   \n",
       "\n",
       "   secondary_cleaner.state.floatbank5_a_level  \\\n",
       "0                                 -498.310211   \n",
       "1                                 -500.169983   \n",
       "2                                 -500.129135   \n",
       "3                                 -499.201640   \n",
       "4                                 -501.686727   \n",
       "\n",
       "   secondary_cleaner.state.floatbank5_b_air  \\\n",
       "0                                  8.079666   \n",
       "1                                  7.984757   \n",
       "2                                  8.013877   \n",
       "3                                  7.977324   \n",
       "4                                  7.894242   \n",
       "\n",
       "   secondary_cleaner.state.floatbank5_b_level  \\\n",
       "0                                 -500.470978   \n",
       "1                                 -500.582168   \n",
       "2                                 -500.517572   \n",
       "3                                 -500.255908   \n",
       "4                                 -500.356035   \n",
       "\n",
       "   secondary_cleaner.state.floatbank6_a_air  \\\n",
       "0                                 14.151341   \n",
       "1                                 13.998353   \n",
       "2                                 14.028663   \n",
       "3                                 14.005551   \n",
       "4                                 13.996647   \n",
       "\n",
       "   secondary_cleaner.state.floatbank6_a_level  \n",
       "0                                 -605.841980  \n",
       "1                                 -599.787184  \n",
       "2                                 -601.427363  \n",
       "3                                 -599.996129  \n",
       "4                                 -601.496691  \n",
       "\n",
       "[5 rows x 87 columns]"
      ]
     },
     "metadata": {},
     "output_type": "display_data"
    },
    {
     "name": "stdout",
     "output_type": "stream",
     "text": [
      "<class 'pandas.core.frame.DataFrame'>\n",
      "RangeIndex: 14149 entries, 0 to 14148\n",
      "Data columns (total 87 columns):\n",
      " #   Column                                              Non-Null Count  Dtype  \n",
      "---  ------                                              --------------  -----  \n",
      " 0   date                                                14149 non-null  object \n",
      " 1   final.output.concentrate_ag                         14148 non-null  float64\n",
      " 2   final.output.concentrate_pb                         14148 non-null  float64\n",
      " 3   final.output.concentrate_sol                        13938 non-null  float64\n",
      " 4   final.output.concentrate_au                         14149 non-null  float64\n",
      " 5   final.output.recovery                               14149 non-null  float64\n",
      " 6   final.output.tail_ag                                14149 non-null  float64\n",
      " 7   final.output.tail_pb                                14049 non-null  float64\n",
      " 8   final.output.tail_sol                               14144 non-null  float64\n",
      " 9   final.output.tail_au                                14149 non-null  float64\n",
      " 10  primary_cleaner.input.sulfate                       14129 non-null  float64\n",
      " 11  primary_cleaner.input.depressant                    14117 non-null  float64\n",
      " 12  primary_cleaner.input.feed_size                     14149 non-null  float64\n",
      " 13  primary_cleaner.input.xanthate                      14049 non-null  float64\n",
      " 14  primary_cleaner.output.concentrate_ag               14149 non-null  float64\n",
      " 15  primary_cleaner.output.concentrate_pb               14063 non-null  float64\n",
      " 16  primary_cleaner.output.concentrate_sol              13863 non-null  float64\n",
      " 17  primary_cleaner.output.concentrate_au               14149 non-null  float64\n",
      " 18  primary_cleaner.output.tail_ag                      14148 non-null  float64\n",
      " 19  primary_cleaner.output.tail_pb                      14134 non-null  float64\n",
      " 20  primary_cleaner.output.tail_sol                     14103 non-null  float64\n",
      " 21  primary_cleaner.output.tail_au                      14149 non-null  float64\n",
      " 22  primary_cleaner.state.floatbank8_a_air              14145 non-null  float64\n",
      " 23  primary_cleaner.state.floatbank8_a_level            14148 non-null  float64\n",
      " 24  primary_cleaner.state.floatbank8_b_air              14145 non-null  float64\n",
      " 25  primary_cleaner.state.floatbank8_b_level            14148 non-null  float64\n",
      " 26  primary_cleaner.state.floatbank8_c_air              14147 non-null  float64\n",
      " 27  primary_cleaner.state.floatbank8_c_level            14148 non-null  float64\n",
      " 28  primary_cleaner.state.floatbank8_d_air              14146 non-null  float64\n",
      " 29  primary_cleaner.state.floatbank8_d_level            14148 non-null  float64\n",
      " 30  rougher.calculation.sulfate_to_au_concentrate       14148 non-null  float64\n",
      " 31  rougher.calculation.floatbank10_sulfate_to_au_feed  14148 non-null  float64\n",
      " 32  rougher.calculation.floatbank11_sulfate_to_au_feed  14148 non-null  float64\n",
      " 33  rougher.calculation.au_pb_ratio                     14149 non-null  float64\n",
      " 34  rougher.input.feed_ag                               14149 non-null  float64\n",
      " 35  rougher.input.feed_pb                               14049 non-null  float64\n",
      " 36  rougher.input.feed_rate                             14141 non-null  float64\n",
      " 37  rougher.input.feed_size                             14005 non-null  float64\n",
      " 38  rougher.input.feed_sol                              14071 non-null  float64\n",
      " 39  rougher.input.feed_au                               14149 non-null  float64\n",
      " 40  rougher.input.floatbank10_sulfate                   14120 non-null  float64\n",
      " 41  rougher.input.floatbank10_xanthate                  14141 non-null  float64\n",
      " 42  rougher.input.floatbank11_sulfate                   14113 non-null  float64\n",
      " 43  rougher.input.floatbank11_xanthate                  13721 non-null  float64\n",
      " 44  rougher.output.concentrate_ag                       14149 non-null  float64\n",
      " 45  rougher.output.concentrate_pb                       14149 non-null  float64\n",
      " 46  rougher.output.concentrate_sol                      14127 non-null  float64\n",
      " 47  rougher.output.concentrate_au                       14149 non-null  float64\n",
      " 48  rougher.output.recovery                             14149 non-null  float64\n",
      " 49  rougher.output.tail_ag                              14148 non-null  float64\n",
      " 50  rougher.output.tail_pb                              14149 non-null  float64\n",
      " 51  rougher.output.tail_sol                             14149 non-null  float64\n",
      " 52  rougher.output.tail_au                              14149 non-null  float64\n",
      " 53  rougher.state.floatbank10_a_air                     14148 non-null  float64\n",
      " 54  rougher.state.floatbank10_a_level                   14148 non-null  float64\n",
      " 55  rougher.state.floatbank10_b_air                     14148 non-null  float64\n",
      " 56  rougher.state.floatbank10_b_level                   14148 non-null  float64\n",
      " 57  rougher.state.floatbank10_c_air                     14148 non-null  float64\n",
      " 58  rougher.state.floatbank10_c_level                   14148 non-null  float64\n",
      " 59  rougher.state.floatbank10_d_air                     14149 non-null  float64\n",
      " 60  rougher.state.floatbank10_d_level                   14149 non-null  float64\n",
      " 61  rougher.state.floatbank10_e_air                     13713 non-null  float64\n",
      " 62  rougher.state.floatbank10_e_level                   14149 non-null  float64\n",
      " 63  rougher.state.floatbank10_f_air                     14149 non-null  float64\n",
      " 64  rougher.state.floatbank10_f_level                   14149 non-null  float64\n",
      " 65  secondary_cleaner.output.tail_ag                    14147 non-null  float64\n",
      " 66  secondary_cleaner.output.tail_pb                    14139 non-null  float64\n",
      " 67  secondary_cleaner.output.tail_sol                   12544 non-null  float64\n",
      " 68  secondary_cleaner.output.tail_au                    14149 non-null  float64\n",
      " 69  secondary_cleaner.state.floatbank2_a_air            13932 non-null  float64\n",
      " 70  secondary_cleaner.state.floatbank2_a_level          14148 non-null  float64\n",
      " 71  secondary_cleaner.state.floatbank2_b_air            14128 non-null  float64\n",
      " 72  secondary_cleaner.state.floatbank2_b_level          14148 non-null  float64\n",
      " 73  secondary_cleaner.state.floatbank3_a_air            14145 non-null  float64\n",
      " 74  secondary_cleaner.state.floatbank3_a_level          14148 non-null  float64\n",
      " 75  secondary_cleaner.state.floatbank3_b_air            14148 non-null  float64\n",
      " 76  secondary_cleaner.state.floatbank3_b_level          14148 non-null  float64\n",
      " 77  secondary_cleaner.state.floatbank4_a_air            14143 non-null  float64\n",
      " 78  secondary_cleaner.state.floatbank4_a_level          14148 non-null  float64\n",
      " 79  secondary_cleaner.state.floatbank4_b_air            14148 non-null  float64\n",
      " 80  secondary_cleaner.state.floatbank4_b_level          14148 non-null  float64\n",
      " 81  secondary_cleaner.state.floatbank5_a_air            14148 non-null  float64\n",
      " 82  secondary_cleaner.state.floatbank5_a_level          14148 non-null  float64\n",
      " 83  secondary_cleaner.state.floatbank5_b_air            14148 non-null  float64\n",
      " 84  secondary_cleaner.state.floatbank5_b_level          14148 non-null  float64\n",
      " 85  secondary_cleaner.state.floatbank6_a_air            14147 non-null  float64\n",
      " 86  secondary_cleaner.state.floatbank6_a_level          14148 non-null  float64\n",
      "dtypes: float64(86), object(1)\n",
      "memory usage: 9.4+ MB\n"
     ]
    },
    {
     "data": {
      "text/plain": [
       "None"
      ]
     },
     "metadata": {},
     "output_type": "display_data"
    },
    {
     "data": {
      "text/html": [
       "<div>\n",
       "<style scoped>\n",
       "    .dataframe tbody tr th:only-of-type {\n",
       "        vertical-align: middle;\n",
       "    }\n",
       "\n",
       "    .dataframe tbody tr th {\n",
       "        vertical-align: top;\n",
       "    }\n",
       "\n",
       "    .dataframe thead th {\n",
       "        text-align: right;\n",
       "    }\n",
       "</style>\n",
       "<table border=\"1\" class=\"dataframe\">\n",
       "  <thead>\n",
       "    <tr style=\"text-align: right;\">\n",
       "      <th></th>\n",
       "      <th>date</th>\n",
       "      <th>final.output.concentrate_ag</th>\n",
       "      <th>final.output.concentrate_pb</th>\n",
       "      <th>final.output.concentrate_sol</th>\n",
       "      <th>final.output.concentrate_au</th>\n",
       "      <th>final.output.recovery</th>\n",
       "      <th>final.output.tail_ag</th>\n",
       "      <th>final.output.tail_pb</th>\n",
       "      <th>final.output.tail_sol</th>\n",
       "      <th>final.output.tail_au</th>\n",
       "      <th>...</th>\n",
       "      <th>secondary_cleaner.state.floatbank4_a_air</th>\n",
       "      <th>secondary_cleaner.state.floatbank4_a_level</th>\n",
       "      <th>secondary_cleaner.state.floatbank4_b_air</th>\n",
       "      <th>secondary_cleaner.state.floatbank4_b_level</th>\n",
       "      <th>secondary_cleaner.state.floatbank5_a_air</th>\n",
       "      <th>secondary_cleaner.state.floatbank5_a_level</th>\n",
       "      <th>secondary_cleaner.state.floatbank5_b_air</th>\n",
       "      <th>secondary_cleaner.state.floatbank5_b_level</th>\n",
       "      <th>secondary_cleaner.state.floatbank6_a_air</th>\n",
       "      <th>secondary_cleaner.state.floatbank6_a_level</th>\n",
       "    </tr>\n",
       "  </thead>\n",
       "  <tbody>\n",
       "    <tr>\n",
       "      <th>count</th>\n",
       "      <td>14149</td>\n",
       "      <td>14148.000000</td>\n",
       "      <td>14148.000000</td>\n",
       "      <td>13938.000000</td>\n",
       "      <td>14149.000000</td>\n",
       "      <td>14149.000000</td>\n",
       "      <td>14149.000000</td>\n",
       "      <td>14049.000000</td>\n",
       "      <td>14144.000000</td>\n",
       "      <td>14149.000000</td>\n",
       "      <td>...</td>\n",
       "      <td>14143.000000</td>\n",
       "      <td>14148.000000</td>\n",
       "      <td>14148.000000</td>\n",
       "      <td>14148.000000</td>\n",
       "      <td>14148.000000</td>\n",
       "      <td>14148.000000</td>\n",
       "      <td>14148.000000</td>\n",
       "      <td>14148.000000</td>\n",
       "      <td>14147.000000</td>\n",
       "      <td>14148.000000</td>\n",
       "    </tr>\n",
       "    <tr>\n",
       "      <th>unique</th>\n",
       "      <td>14149</td>\n",
       "      <td>NaN</td>\n",
       "      <td>NaN</td>\n",
       "      <td>NaN</td>\n",
       "      <td>NaN</td>\n",
       "      <td>NaN</td>\n",
       "      <td>NaN</td>\n",
       "      <td>NaN</td>\n",
       "      <td>NaN</td>\n",
       "      <td>NaN</td>\n",
       "      <td>...</td>\n",
       "      <td>NaN</td>\n",
       "      <td>NaN</td>\n",
       "      <td>NaN</td>\n",
       "      <td>NaN</td>\n",
       "      <td>NaN</td>\n",
       "      <td>NaN</td>\n",
       "      <td>NaN</td>\n",
       "      <td>NaN</td>\n",
       "      <td>NaN</td>\n",
       "      <td>NaN</td>\n",
       "    </tr>\n",
       "    <tr>\n",
       "      <th>top</th>\n",
       "      <td>2017-08-28 01:59:59</td>\n",
       "      <td>NaN</td>\n",
       "      <td>NaN</td>\n",
       "      <td>NaN</td>\n",
       "      <td>NaN</td>\n",
       "      <td>NaN</td>\n",
       "      <td>NaN</td>\n",
       "      <td>NaN</td>\n",
       "      <td>NaN</td>\n",
       "      <td>NaN</td>\n",
       "      <td>...</td>\n",
       "      <td>NaN</td>\n",
       "      <td>NaN</td>\n",
       "      <td>NaN</td>\n",
       "      <td>NaN</td>\n",
       "      <td>NaN</td>\n",
       "      <td>NaN</td>\n",
       "      <td>NaN</td>\n",
       "      <td>NaN</td>\n",
       "      <td>NaN</td>\n",
       "      <td>NaN</td>\n",
       "    </tr>\n",
       "    <tr>\n",
       "      <th>freq</th>\n",
       "      <td>1</td>\n",
       "      <td>NaN</td>\n",
       "      <td>NaN</td>\n",
       "      <td>NaN</td>\n",
       "      <td>NaN</td>\n",
       "      <td>NaN</td>\n",
       "      <td>NaN</td>\n",
       "      <td>NaN</td>\n",
       "      <td>NaN</td>\n",
       "      <td>NaN</td>\n",
       "      <td>...</td>\n",
       "      <td>NaN</td>\n",
       "      <td>NaN</td>\n",
       "      <td>NaN</td>\n",
       "      <td>NaN</td>\n",
       "      <td>NaN</td>\n",
       "      <td>NaN</td>\n",
       "      <td>NaN</td>\n",
       "      <td>NaN</td>\n",
       "      <td>NaN</td>\n",
       "      <td>NaN</td>\n",
       "    </tr>\n",
       "    <tr>\n",
       "      <th>mean</th>\n",
       "      <td>NaN</td>\n",
       "      <td>5.142034</td>\n",
       "      <td>10.132960</td>\n",
       "      <td>9.202849</td>\n",
       "      <td>44.003792</td>\n",
       "      <td>66.518832</td>\n",
       "      <td>9.607035</td>\n",
       "      <td>2.597298</td>\n",
       "      <td>10.512122</td>\n",
       "      <td>2.918421</td>\n",
       "      <td>...</td>\n",
       "      <td>19.985454</td>\n",
       "      <td>-478.696836</td>\n",
       "      <td>15.487065</td>\n",
       "      <td>-460.229416</td>\n",
       "      <td>16.775136</td>\n",
       "      <td>-483.956022</td>\n",
       "      <td>13.064590</td>\n",
       "      <td>-483.966564</td>\n",
       "      <td>19.577539</td>\n",
       "      <td>-506.798480</td>\n",
       "    </tr>\n",
       "    <tr>\n",
       "      <th>std</th>\n",
       "      <td>NaN</td>\n",
       "      <td>1.369586</td>\n",
       "      <td>1.654930</td>\n",
       "      <td>2.790516</td>\n",
       "      <td>4.905261</td>\n",
       "      <td>10.295402</td>\n",
       "      <td>2.319069</td>\n",
       "      <td>0.971843</td>\n",
       "      <td>3.003617</td>\n",
       "      <td>0.903712</td>\n",
       "      <td>...</td>\n",
       "      <td>5.657723</td>\n",
       "      <td>50.736021</td>\n",
       "      <td>5.255655</td>\n",
       "      <td>58.843586</td>\n",
       "      <td>5.831906</td>\n",
       "      <td>37.892788</td>\n",
       "      <td>5.765617</td>\n",
       "      <td>39.207913</td>\n",
       "      <td>5.764417</td>\n",
       "      <td>37.079249</td>\n",
       "    </tr>\n",
       "    <tr>\n",
       "      <th>min</th>\n",
       "      <td>NaN</td>\n",
       "      <td>0.000000</td>\n",
       "      <td>0.000000</td>\n",
       "      <td>0.000000</td>\n",
       "      <td>0.000000</td>\n",
       "      <td>0.000000</td>\n",
       "      <td>0.000000</td>\n",
       "      <td>0.000000</td>\n",
       "      <td>0.000000</td>\n",
       "      <td>0.000000</td>\n",
       "      <td>...</td>\n",
       "      <td>0.000000</td>\n",
       "      <td>-799.709069</td>\n",
       "      <td>0.000000</td>\n",
       "      <td>-799.889113</td>\n",
       "      <td>-0.372054</td>\n",
       "      <td>-797.142475</td>\n",
       "      <td>0.646208</td>\n",
       "      <td>-800.006180</td>\n",
       "      <td>0.195324</td>\n",
       "      <td>-809.398668</td>\n",
       "    </tr>\n",
       "    <tr>\n",
       "      <th>25%</th>\n",
       "      <td>NaN</td>\n",
       "      <td>4.211620</td>\n",
       "      <td>9.297355</td>\n",
       "      <td>7.484645</td>\n",
       "      <td>43.276111</td>\n",
       "      <td>62.545817</td>\n",
       "      <td>7.997429</td>\n",
       "      <td>1.905973</td>\n",
       "      <td>8.811324</td>\n",
       "      <td>2.368607</td>\n",
       "      <td>...</td>\n",
       "      <td>14.990775</td>\n",
       "      <td>-500.628656</td>\n",
       "      <td>11.894558</td>\n",
       "      <td>-500.149000</td>\n",
       "      <td>11.083980</td>\n",
       "      <td>-500.363177</td>\n",
       "      <td>8.994405</td>\n",
       "      <td>-500.105994</td>\n",
       "      <td>14.989304</td>\n",
       "      <td>-500.745104</td>\n",
       "    </tr>\n",
       "    <tr>\n",
       "      <th>50%</th>\n",
       "      <td>NaN</td>\n",
       "      <td>4.994652</td>\n",
       "      <td>10.297144</td>\n",
       "      <td>8.845462</td>\n",
       "      <td>44.872436</td>\n",
       "      <td>67.432775</td>\n",
       "      <td>9.480270</td>\n",
       "      <td>2.592022</td>\n",
       "      <td>10.514621</td>\n",
       "      <td>2.851025</td>\n",
       "      <td>...</td>\n",
       "      <td>20.001789</td>\n",
       "      <td>-499.681450</td>\n",
       "      <td>14.975536</td>\n",
       "      <td>-499.388738</td>\n",
       "      <td>17.932223</td>\n",
       "      <td>-499.702452</td>\n",
       "      <td>11.997547</td>\n",
       "      <td>-499.914556</td>\n",
       "      <td>19.984175</td>\n",
       "      <td>-500.061431</td>\n",
       "    </tr>\n",
       "    <tr>\n",
       "      <th>75%</th>\n",
       "      <td>NaN</td>\n",
       "      <td>5.859540</td>\n",
       "      <td>11.170603</td>\n",
       "      <td>10.487508</td>\n",
       "      <td>46.166425</td>\n",
       "      <td>72.346428</td>\n",
       "      <td>11.003707</td>\n",
       "      <td>3.241723</td>\n",
       "      <td>11.933009</td>\n",
       "      <td>3.434764</td>\n",
       "      <td>...</td>\n",
       "      <td>24.990826</td>\n",
       "      <td>-477.472413</td>\n",
       "      <td>20.059375</td>\n",
       "      <td>-400.039008</td>\n",
       "      <td>21.346550</td>\n",
       "      <td>-487.712108</td>\n",
       "      <td>17.982903</td>\n",
       "      <td>-453.186936</td>\n",
       "      <td>24.991623</td>\n",
       "      <td>-499.536466</td>\n",
       "    </tr>\n",
       "    <tr>\n",
       "      <th>max</th>\n",
       "      <td>NaN</td>\n",
       "      <td>16.001945</td>\n",
       "      <td>17.031899</td>\n",
       "      <td>18.124851</td>\n",
       "      <td>52.756638</td>\n",
       "      <td>100.000000</td>\n",
       "      <td>19.552149</td>\n",
       "      <td>5.639565</td>\n",
       "      <td>22.317730</td>\n",
       "      <td>8.197408</td>\n",
       "      <td>...</td>\n",
       "      <td>30.115735</td>\n",
       "      <td>-245.239184</td>\n",
       "      <td>24.007913</td>\n",
       "      <td>-145.071088</td>\n",
       "      <td>43.709931</td>\n",
       "      <td>-275.073125</td>\n",
       "      <td>27.926001</td>\n",
       "      <td>-157.396071</td>\n",
       "      <td>32.188906</td>\n",
       "      <td>-104.427459</td>\n",
       "    </tr>\n",
       "  </tbody>\n",
       "</table>\n",
       "<p>11 rows × 87 columns</p>\n",
       "</div>"
      ],
      "text/plain": [
       "                       date  final.output.concentrate_ag  \\\n",
       "count                 14149                 14148.000000   \n",
       "unique                14149                          NaN   \n",
       "top     2017-08-28 01:59:59                          NaN   \n",
       "freq                      1                          NaN   \n",
       "mean                    NaN                     5.142034   \n",
       "std                     NaN                     1.369586   \n",
       "min                     NaN                     0.000000   \n",
       "25%                     NaN                     4.211620   \n",
       "50%                     NaN                     4.994652   \n",
       "75%                     NaN                     5.859540   \n",
       "max                     NaN                    16.001945   \n",
       "\n",
       "        final.output.concentrate_pb  final.output.concentrate_sol  \\\n",
       "count                  14148.000000                  13938.000000   \n",
       "unique                          NaN                           NaN   \n",
       "top                             NaN                           NaN   \n",
       "freq                            NaN                           NaN   \n",
       "mean                      10.132960                      9.202849   \n",
       "std                        1.654930                      2.790516   \n",
       "min                        0.000000                      0.000000   \n",
       "25%                        9.297355                      7.484645   \n",
       "50%                       10.297144                      8.845462   \n",
       "75%                       11.170603                     10.487508   \n",
       "max                       17.031899                     18.124851   \n",
       "\n",
       "        final.output.concentrate_au  final.output.recovery  \\\n",
       "count                  14149.000000           14149.000000   \n",
       "unique                          NaN                    NaN   \n",
       "top                             NaN                    NaN   \n",
       "freq                            NaN                    NaN   \n",
       "mean                      44.003792              66.518832   \n",
       "std                        4.905261              10.295402   \n",
       "min                        0.000000               0.000000   \n",
       "25%                       43.276111              62.545817   \n",
       "50%                       44.872436              67.432775   \n",
       "75%                       46.166425              72.346428   \n",
       "max                       52.756638             100.000000   \n",
       "\n",
       "        final.output.tail_ag  final.output.tail_pb  final.output.tail_sol  \\\n",
       "count           14149.000000          14049.000000           14144.000000   \n",
       "unique                   NaN                   NaN                    NaN   \n",
       "top                      NaN                   NaN                    NaN   \n",
       "freq                     NaN                   NaN                    NaN   \n",
       "mean                9.607035              2.597298              10.512122   \n",
       "std                 2.319069              0.971843               3.003617   \n",
       "min                 0.000000              0.000000               0.000000   \n",
       "25%                 7.997429              1.905973               8.811324   \n",
       "50%                 9.480270              2.592022              10.514621   \n",
       "75%                11.003707              3.241723              11.933009   \n",
       "max                19.552149              5.639565              22.317730   \n",
       "\n",
       "        final.output.tail_au  ...  secondary_cleaner.state.floatbank4_a_air  \\\n",
       "count           14149.000000  ...                              14143.000000   \n",
       "unique                   NaN  ...                                       NaN   \n",
       "top                      NaN  ...                                       NaN   \n",
       "freq                     NaN  ...                                       NaN   \n",
       "mean                2.918421  ...                                 19.985454   \n",
       "std                 0.903712  ...                                  5.657723   \n",
       "min                 0.000000  ...                                  0.000000   \n",
       "25%                 2.368607  ...                                 14.990775   \n",
       "50%                 2.851025  ...                                 20.001789   \n",
       "75%                 3.434764  ...                                 24.990826   \n",
       "max                 8.197408  ...                                 30.115735   \n",
       "\n",
       "        secondary_cleaner.state.floatbank4_a_level  \\\n",
       "count                                 14148.000000   \n",
       "unique                                         NaN   \n",
       "top                                            NaN   \n",
       "freq                                           NaN   \n",
       "mean                                   -478.696836   \n",
       "std                                      50.736021   \n",
       "min                                    -799.709069   \n",
       "25%                                    -500.628656   \n",
       "50%                                    -499.681450   \n",
       "75%                                    -477.472413   \n",
       "max                                    -245.239184   \n",
       "\n",
       "        secondary_cleaner.state.floatbank4_b_air  \\\n",
       "count                               14148.000000   \n",
       "unique                                       NaN   \n",
       "top                                          NaN   \n",
       "freq                                         NaN   \n",
       "mean                                   15.487065   \n",
       "std                                     5.255655   \n",
       "min                                     0.000000   \n",
       "25%                                    11.894558   \n",
       "50%                                    14.975536   \n",
       "75%                                    20.059375   \n",
       "max                                    24.007913   \n",
       "\n",
       "        secondary_cleaner.state.floatbank4_b_level  \\\n",
       "count                                 14148.000000   \n",
       "unique                                         NaN   \n",
       "top                                            NaN   \n",
       "freq                                           NaN   \n",
       "mean                                   -460.229416   \n",
       "std                                      58.843586   \n",
       "min                                    -799.889113   \n",
       "25%                                    -500.149000   \n",
       "50%                                    -499.388738   \n",
       "75%                                    -400.039008   \n",
       "max                                    -145.071088   \n",
       "\n",
       "        secondary_cleaner.state.floatbank5_a_air  \\\n",
       "count                               14148.000000   \n",
       "unique                                       NaN   \n",
       "top                                          NaN   \n",
       "freq                                         NaN   \n",
       "mean                                   16.775136   \n",
       "std                                     5.831906   \n",
       "min                                    -0.372054   \n",
       "25%                                    11.083980   \n",
       "50%                                    17.932223   \n",
       "75%                                    21.346550   \n",
       "max                                    43.709931   \n",
       "\n",
       "        secondary_cleaner.state.floatbank5_a_level  \\\n",
       "count                                 14148.000000   \n",
       "unique                                         NaN   \n",
       "top                                            NaN   \n",
       "freq                                           NaN   \n",
       "mean                                   -483.956022   \n",
       "std                                      37.892788   \n",
       "min                                    -797.142475   \n",
       "25%                                    -500.363177   \n",
       "50%                                    -499.702452   \n",
       "75%                                    -487.712108   \n",
       "max                                    -275.073125   \n",
       "\n",
       "        secondary_cleaner.state.floatbank5_b_air  \\\n",
       "count                               14148.000000   \n",
       "unique                                       NaN   \n",
       "top                                          NaN   \n",
       "freq                                         NaN   \n",
       "mean                                   13.064590   \n",
       "std                                     5.765617   \n",
       "min                                     0.646208   \n",
       "25%                                     8.994405   \n",
       "50%                                    11.997547   \n",
       "75%                                    17.982903   \n",
       "max                                    27.926001   \n",
       "\n",
       "        secondary_cleaner.state.floatbank5_b_level  \\\n",
       "count                                 14148.000000   \n",
       "unique                                         NaN   \n",
       "top                                            NaN   \n",
       "freq                                           NaN   \n",
       "mean                                   -483.966564   \n",
       "std                                      39.207913   \n",
       "min                                    -800.006180   \n",
       "25%                                    -500.105994   \n",
       "50%                                    -499.914556   \n",
       "75%                                    -453.186936   \n",
       "max                                    -157.396071   \n",
       "\n",
       "        secondary_cleaner.state.floatbank6_a_air  \\\n",
       "count                               14147.000000   \n",
       "unique                                       NaN   \n",
       "top                                          NaN   \n",
       "freq                                         NaN   \n",
       "mean                                   19.577539   \n",
       "std                                     5.764417   \n",
       "min                                     0.195324   \n",
       "25%                                    14.989304   \n",
       "50%                                    19.984175   \n",
       "75%                                    24.991623   \n",
       "max                                    32.188906   \n",
       "\n",
       "        secondary_cleaner.state.floatbank6_a_level  \n",
       "count                                 14148.000000  \n",
       "unique                                         NaN  \n",
       "top                                            NaN  \n",
       "freq                                           NaN  \n",
       "mean                                   -506.798480  \n",
       "std                                      37.079249  \n",
       "min                                    -809.398668  \n",
       "25%                                    -500.745104  \n",
       "50%                                    -500.061431  \n",
       "75%                                    -499.536466  \n",
       "max                                    -104.427459  \n",
       "\n",
       "[11 rows x 87 columns]"
      ]
     },
     "metadata": {},
     "output_type": "display_data"
    },
    {
     "name": "stdout",
     "output_type": "stream",
     "text": [
      "Размерность: (14149, 87)\n"
     ]
    },
    {
     "data": {
      "text/plain": [
       "'Количество пропущенных значений:'"
      ]
     },
     "metadata": {},
     "output_type": "display_data"
    },
    {
     "data": {
      "text/plain": [
       "date                                            0\n",
       "final.output.concentrate_ag                     1\n",
       "final.output.concentrate_pb                     1\n",
       "final.output.concentrate_sol                  211\n",
       "final.output.concentrate_au                     0\n",
       "                                             ... \n",
       "secondary_cleaner.state.floatbank5_a_level      1\n",
       "secondary_cleaner.state.floatbank5_b_air        1\n",
       "secondary_cleaner.state.floatbank5_b_level      1\n",
       "secondary_cleaner.state.floatbank6_a_air        2\n",
       "secondary_cleaner.state.floatbank6_a_level      1\n",
       "Length: 87, dtype: int64"
      ]
     },
     "metadata": {},
     "output_type": "display_data"
    },
    {
     "name": "stdout",
     "output_type": "stream",
     "text": [
      "Количество  дубликатов строк: 0\n"
     ]
    },
    {
     "data": {
      "text/html": [
       "<div>\n",
       "<style scoped>\n",
       "    .dataframe tbody tr th:only-of-type {\n",
       "        vertical-align: middle;\n",
       "    }\n",
       "\n",
       "    .dataframe tbody tr th {\n",
       "        vertical-align: top;\n",
       "    }\n",
       "\n",
       "    .dataframe thead th {\n",
       "        text-align: right;\n",
       "    }\n",
       "</style>\n",
       "<table border=\"1\" class=\"dataframe\">\n",
       "  <thead>\n",
       "    <tr style=\"text-align: right;\">\n",
       "      <th></th>\n",
       "      <th>date</th>\n",
       "      <th>primary_cleaner.input.sulfate</th>\n",
       "      <th>primary_cleaner.input.depressant</th>\n",
       "      <th>primary_cleaner.input.feed_size</th>\n",
       "      <th>primary_cleaner.input.xanthate</th>\n",
       "      <th>primary_cleaner.state.floatbank8_a_air</th>\n",
       "      <th>primary_cleaner.state.floatbank8_a_level</th>\n",
       "      <th>primary_cleaner.state.floatbank8_b_air</th>\n",
       "      <th>primary_cleaner.state.floatbank8_b_level</th>\n",
       "      <th>primary_cleaner.state.floatbank8_c_air</th>\n",
       "      <th>...</th>\n",
       "      <th>secondary_cleaner.state.floatbank4_a_air</th>\n",
       "      <th>secondary_cleaner.state.floatbank4_a_level</th>\n",
       "      <th>secondary_cleaner.state.floatbank4_b_air</th>\n",
       "      <th>secondary_cleaner.state.floatbank4_b_level</th>\n",
       "      <th>secondary_cleaner.state.floatbank5_a_air</th>\n",
       "      <th>secondary_cleaner.state.floatbank5_a_level</th>\n",
       "      <th>secondary_cleaner.state.floatbank5_b_air</th>\n",
       "      <th>secondary_cleaner.state.floatbank5_b_level</th>\n",
       "      <th>secondary_cleaner.state.floatbank6_a_air</th>\n",
       "      <th>secondary_cleaner.state.floatbank6_a_level</th>\n",
       "    </tr>\n",
       "  </thead>\n",
       "  <tbody>\n",
       "    <tr>\n",
       "      <th>0</th>\n",
       "      <td>2016-09-01 00:59:59</td>\n",
       "      <td>210.800909</td>\n",
       "      <td>14.993118</td>\n",
       "      <td>8.080000</td>\n",
       "      <td>1.005021</td>\n",
       "      <td>1398.981301</td>\n",
       "      <td>-500.225577</td>\n",
       "      <td>1399.144926</td>\n",
       "      <td>-499.919735</td>\n",
       "      <td>1400.102998</td>\n",
       "      <td>...</td>\n",
       "      <td>12.023554</td>\n",
       "      <td>-497.795834</td>\n",
       "      <td>8.016656</td>\n",
       "      <td>-501.289139</td>\n",
       "      <td>7.946562</td>\n",
       "      <td>-432.317850</td>\n",
       "      <td>4.872511</td>\n",
       "      <td>-500.037437</td>\n",
       "      <td>26.705889</td>\n",
       "      <td>-499.709414</td>\n",
       "    </tr>\n",
       "    <tr>\n",
       "      <th>1</th>\n",
       "      <td>2016-09-01 01:59:59</td>\n",
       "      <td>215.392455</td>\n",
       "      <td>14.987471</td>\n",
       "      <td>8.080000</td>\n",
       "      <td>0.990469</td>\n",
       "      <td>1398.777912</td>\n",
       "      <td>-500.057435</td>\n",
       "      <td>1398.055362</td>\n",
       "      <td>-499.778182</td>\n",
       "      <td>1396.151033</td>\n",
       "      <td>...</td>\n",
       "      <td>12.058140</td>\n",
       "      <td>-498.695773</td>\n",
       "      <td>8.130979</td>\n",
       "      <td>-499.634209</td>\n",
       "      <td>7.958270</td>\n",
       "      <td>-525.839648</td>\n",
       "      <td>4.878850</td>\n",
       "      <td>-500.162375</td>\n",
       "      <td>25.019940</td>\n",
       "      <td>-499.819438</td>\n",
       "    </tr>\n",
       "    <tr>\n",
       "      <th>2</th>\n",
       "      <td>2016-09-01 02:59:59</td>\n",
       "      <td>215.259946</td>\n",
       "      <td>12.884934</td>\n",
       "      <td>7.786667</td>\n",
       "      <td>0.996043</td>\n",
       "      <td>1398.493666</td>\n",
       "      <td>-500.868360</td>\n",
       "      <td>1398.860436</td>\n",
       "      <td>-499.764529</td>\n",
       "      <td>1398.075709</td>\n",
       "      <td>...</td>\n",
       "      <td>11.962366</td>\n",
       "      <td>-498.767484</td>\n",
       "      <td>8.096893</td>\n",
       "      <td>-500.827423</td>\n",
       "      <td>8.071056</td>\n",
       "      <td>-500.801673</td>\n",
       "      <td>4.905125</td>\n",
       "      <td>-499.828510</td>\n",
       "      <td>24.994862</td>\n",
       "      <td>-500.622559</td>\n",
       "    </tr>\n",
       "    <tr>\n",
       "      <th>3</th>\n",
       "      <td>2016-09-01 03:59:59</td>\n",
       "      <td>215.336236</td>\n",
       "      <td>12.006805</td>\n",
       "      <td>7.640000</td>\n",
       "      <td>0.863514</td>\n",
       "      <td>1399.618111</td>\n",
       "      <td>-498.863574</td>\n",
       "      <td>1397.440120</td>\n",
       "      <td>-499.211024</td>\n",
       "      <td>1400.129303</td>\n",
       "      <td>...</td>\n",
       "      <td>12.033091</td>\n",
       "      <td>-498.350935</td>\n",
       "      <td>8.074946</td>\n",
       "      <td>-499.474407</td>\n",
       "      <td>7.897085</td>\n",
       "      <td>-500.868509</td>\n",
       "      <td>4.931400</td>\n",
       "      <td>-499.963623</td>\n",
       "      <td>24.948919</td>\n",
       "      <td>-498.709987</td>\n",
       "    </tr>\n",
       "    <tr>\n",
       "      <th>4</th>\n",
       "      <td>2016-09-01 04:59:59</td>\n",
       "      <td>199.099327</td>\n",
       "      <td>10.682530</td>\n",
       "      <td>7.530000</td>\n",
       "      <td>0.805575</td>\n",
       "      <td>1401.268123</td>\n",
       "      <td>-500.808305</td>\n",
       "      <td>1398.128818</td>\n",
       "      <td>-499.504543</td>\n",
       "      <td>1402.172226</td>\n",
       "      <td>...</td>\n",
       "      <td>12.025367</td>\n",
       "      <td>-500.786497</td>\n",
       "      <td>8.054678</td>\n",
       "      <td>-500.397500</td>\n",
       "      <td>8.107890</td>\n",
       "      <td>-509.526725</td>\n",
       "      <td>4.957674</td>\n",
       "      <td>-500.360026</td>\n",
       "      <td>25.003331</td>\n",
       "      <td>-500.856333</td>\n",
       "    </tr>\n",
       "  </tbody>\n",
       "</table>\n",
       "<p>5 rows × 53 columns</p>\n",
       "</div>"
      ],
      "text/plain": [
       "                  date  primary_cleaner.input.sulfate  \\\n",
       "0  2016-09-01 00:59:59                     210.800909   \n",
       "1  2016-09-01 01:59:59                     215.392455   \n",
       "2  2016-09-01 02:59:59                     215.259946   \n",
       "3  2016-09-01 03:59:59                     215.336236   \n",
       "4  2016-09-01 04:59:59                     199.099327   \n",
       "\n",
       "   primary_cleaner.input.depressant  primary_cleaner.input.feed_size  \\\n",
       "0                         14.993118                         8.080000   \n",
       "1                         14.987471                         8.080000   \n",
       "2                         12.884934                         7.786667   \n",
       "3                         12.006805                         7.640000   \n",
       "4                         10.682530                         7.530000   \n",
       "\n",
       "   primary_cleaner.input.xanthate  primary_cleaner.state.floatbank8_a_air  \\\n",
       "0                        1.005021                             1398.981301   \n",
       "1                        0.990469                             1398.777912   \n",
       "2                        0.996043                             1398.493666   \n",
       "3                        0.863514                             1399.618111   \n",
       "4                        0.805575                             1401.268123   \n",
       "\n",
       "   primary_cleaner.state.floatbank8_a_level  \\\n",
       "0                               -500.225577   \n",
       "1                               -500.057435   \n",
       "2                               -500.868360   \n",
       "3                               -498.863574   \n",
       "4                               -500.808305   \n",
       "\n",
       "   primary_cleaner.state.floatbank8_b_air  \\\n",
       "0                             1399.144926   \n",
       "1                             1398.055362   \n",
       "2                             1398.860436   \n",
       "3                             1397.440120   \n",
       "4                             1398.128818   \n",
       "\n",
       "   primary_cleaner.state.floatbank8_b_level  \\\n",
       "0                               -499.919735   \n",
       "1                               -499.778182   \n",
       "2                               -499.764529   \n",
       "3                               -499.211024   \n",
       "4                               -499.504543   \n",
       "\n",
       "   primary_cleaner.state.floatbank8_c_air  ...  \\\n",
       "0                             1400.102998  ...   \n",
       "1                             1396.151033  ...   \n",
       "2                             1398.075709  ...   \n",
       "3                             1400.129303  ...   \n",
       "4                             1402.172226  ...   \n",
       "\n",
       "   secondary_cleaner.state.floatbank4_a_air  \\\n",
       "0                                 12.023554   \n",
       "1                                 12.058140   \n",
       "2                                 11.962366   \n",
       "3                                 12.033091   \n",
       "4                                 12.025367   \n",
       "\n",
       "   secondary_cleaner.state.floatbank4_a_level  \\\n",
       "0                                 -497.795834   \n",
       "1                                 -498.695773   \n",
       "2                                 -498.767484   \n",
       "3                                 -498.350935   \n",
       "4                                 -500.786497   \n",
       "\n",
       "   secondary_cleaner.state.floatbank4_b_air  \\\n",
       "0                                  8.016656   \n",
       "1                                  8.130979   \n",
       "2                                  8.096893   \n",
       "3                                  8.074946   \n",
       "4                                  8.054678   \n",
       "\n",
       "   secondary_cleaner.state.floatbank4_b_level  \\\n",
       "0                                 -501.289139   \n",
       "1                                 -499.634209   \n",
       "2                                 -500.827423   \n",
       "3                                 -499.474407   \n",
       "4                                 -500.397500   \n",
       "\n",
       "   secondary_cleaner.state.floatbank5_a_air  \\\n",
       "0                                  7.946562   \n",
       "1                                  7.958270   \n",
       "2                                  8.071056   \n",
       "3                                  7.897085   \n",
       "4                                  8.107890   \n",
       "\n",
       "   secondary_cleaner.state.floatbank5_a_level  \\\n",
       "0                                 -432.317850   \n",
       "1                                 -525.839648   \n",
       "2                                 -500.801673   \n",
       "3                                 -500.868509   \n",
       "4                                 -509.526725   \n",
       "\n",
       "   secondary_cleaner.state.floatbank5_b_air  \\\n",
       "0                                  4.872511   \n",
       "1                                  4.878850   \n",
       "2                                  4.905125   \n",
       "3                                  4.931400   \n",
       "4                                  4.957674   \n",
       "\n",
       "   secondary_cleaner.state.floatbank5_b_level  \\\n",
       "0                                 -500.037437   \n",
       "1                                 -500.162375   \n",
       "2                                 -499.828510   \n",
       "3                                 -499.963623   \n",
       "4                                 -500.360026   \n",
       "\n",
       "   secondary_cleaner.state.floatbank6_a_air  \\\n",
       "0                                 26.705889   \n",
       "1                                 25.019940   \n",
       "2                                 24.994862   \n",
       "3                                 24.948919   \n",
       "4                                 25.003331   \n",
       "\n",
       "   secondary_cleaner.state.floatbank6_a_level  \n",
       "0                                 -499.709414  \n",
       "1                                 -499.819438  \n",
       "2                                 -500.622559  \n",
       "3                                 -498.709987  \n",
       "4                                 -500.856333  \n",
       "\n",
       "[5 rows x 53 columns]"
      ]
     },
     "metadata": {},
     "output_type": "display_data"
    },
    {
     "name": "stdout",
     "output_type": "stream",
     "text": [
      "<class 'pandas.core.frame.DataFrame'>\n",
      "RangeIndex: 5290 entries, 0 to 5289\n",
      "Data columns (total 53 columns):\n",
      " #   Column                                      Non-Null Count  Dtype  \n",
      "---  ------                                      --------------  -----  \n",
      " 0   date                                        5290 non-null   object \n",
      " 1   primary_cleaner.input.sulfate               5286 non-null   float64\n",
      " 2   primary_cleaner.input.depressant            5285 non-null   float64\n",
      " 3   primary_cleaner.input.feed_size             5290 non-null   float64\n",
      " 4   primary_cleaner.input.xanthate              5286 non-null   float64\n",
      " 5   primary_cleaner.state.floatbank8_a_air      5290 non-null   float64\n",
      " 6   primary_cleaner.state.floatbank8_a_level    5290 non-null   float64\n",
      " 7   primary_cleaner.state.floatbank8_b_air      5290 non-null   float64\n",
      " 8   primary_cleaner.state.floatbank8_b_level    5290 non-null   float64\n",
      " 9   primary_cleaner.state.floatbank8_c_air      5290 non-null   float64\n",
      " 10  primary_cleaner.state.floatbank8_c_level    5290 non-null   float64\n",
      " 11  primary_cleaner.state.floatbank8_d_air      5290 non-null   float64\n",
      " 12  primary_cleaner.state.floatbank8_d_level    5290 non-null   float64\n",
      " 13  rougher.input.feed_ag                       5290 non-null   float64\n",
      " 14  rougher.input.feed_pb                       5290 non-null   float64\n",
      " 15  rougher.input.feed_rate                     5287 non-null   float64\n",
      " 16  rougher.input.feed_size                     5289 non-null   float64\n",
      " 17  rougher.input.feed_sol                      5269 non-null   float64\n",
      " 18  rougher.input.feed_au                       5290 non-null   float64\n",
      " 19  rougher.input.floatbank10_sulfate           5285 non-null   float64\n",
      " 20  rougher.input.floatbank10_xanthate          5290 non-null   float64\n",
      " 21  rougher.input.floatbank11_sulfate           5282 non-null   float64\n",
      " 22  rougher.input.floatbank11_xanthate          5265 non-null   float64\n",
      " 23  rougher.state.floatbank10_a_air             5290 non-null   float64\n",
      " 24  rougher.state.floatbank10_a_level           5290 non-null   float64\n",
      " 25  rougher.state.floatbank10_b_air             5290 non-null   float64\n",
      " 26  rougher.state.floatbank10_b_level           5290 non-null   float64\n",
      " 27  rougher.state.floatbank10_c_air             5290 non-null   float64\n",
      " 28  rougher.state.floatbank10_c_level           5290 non-null   float64\n",
      " 29  rougher.state.floatbank10_d_air             5290 non-null   float64\n",
      " 30  rougher.state.floatbank10_d_level           5290 non-null   float64\n",
      " 31  rougher.state.floatbank10_e_air             5290 non-null   float64\n",
      " 32  rougher.state.floatbank10_e_level           5290 non-null   float64\n",
      " 33  rougher.state.floatbank10_f_air             5290 non-null   float64\n",
      " 34  rougher.state.floatbank10_f_level           5290 non-null   float64\n",
      " 35  secondary_cleaner.state.floatbank2_a_air    5287 non-null   float64\n",
      " 36  secondary_cleaner.state.floatbank2_a_level  5290 non-null   float64\n",
      " 37  secondary_cleaner.state.floatbank2_b_air    5288 non-null   float64\n",
      " 38  secondary_cleaner.state.floatbank2_b_level  5290 non-null   float64\n",
      " 39  secondary_cleaner.state.floatbank3_a_air    5281 non-null   float64\n",
      " 40  secondary_cleaner.state.floatbank3_a_level  5290 non-null   float64\n",
      " 41  secondary_cleaner.state.floatbank3_b_air    5290 non-null   float64\n",
      " 42  secondary_cleaner.state.floatbank3_b_level  5290 non-null   float64\n",
      " 43  secondary_cleaner.state.floatbank4_a_air    5290 non-null   float64\n",
      " 44  secondary_cleaner.state.floatbank4_a_level  5290 non-null   float64\n",
      " 45  secondary_cleaner.state.floatbank4_b_air    5290 non-null   float64\n",
      " 46  secondary_cleaner.state.floatbank4_b_level  5290 non-null   float64\n",
      " 47  secondary_cleaner.state.floatbank5_a_air    5290 non-null   float64\n",
      " 48  secondary_cleaner.state.floatbank5_a_level  5290 non-null   float64\n",
      " 49  secondary_cleaner.state.floatbank5_b_air    5290 non-null   float64\n",
      " 50  secondary_cleaner.state.floatbank5_b_level  5290 non-null   float64\n",
      " 51  secondary_cleaner.state.floatbank6_a_air    5290 non-null   float64\n",
      " 52  secondary_cleaner.state.floatbank6_a_level  5290 non-null   float64\n",
      "dtypes: float64(52), object(1)\n",
      "memory usage: 2.1+ MB\n"
     ]
    },
    {
     "data": {
      "text/plain": [
       "None"
      ]
     },
     "metadata": {},
     "output_type": "display_data"
    },
    {
     "data": {
      "text/html": [
       "<div>\n",
       "<style scoped>\n",
       "    .dataframe tbody tr th:only-of-type {\n",
       "        vertical-align: middle;\n",
       "    }\n",
       "\n",
       "    .dataframe tbody tr th {\n",
       "        vertical-align: top;\n",
       "    }\n",
       "\n",
       "    .dataframe thead th {\n",
       "        text-align: right;\n",
       "    }\n",
       "</style>\n",
       "<table border=\"1\" class=\"dataframe\">\n",
       "  <thead>\n",
       "    <tr style=\"text-align: right;\">\n",
       "      <th></th>\n",
       "      <th>date</th>\n",
       "      <th>primary_cleaner.input.sulfate</th>\n",
       "      <th>primary_cleaner.input.depressant</th>\n",
       "      <th>primary_cleaner.input.feed_size</th>\n",
       "      <th>primary_cleaner.input.xanthate</th>\n",
       "      <th>primary_cleaner.state.floatbank8_a_air</th>\n",
       "      <th>primary_cleaner.state.floatbank8_a_level</th>\n",
       "      <th>primary_cleaner.state.floatbank8_b_air</th>\n",
       "      <th>primary_cleaner.state.floatbank8_b_level</th>\n",
       "      <th>primary_cleaner.state.floatbank8_c_air</th>\n",
       "      <th>...</th>\n",
       "      <th>secondary_cleaner.state.floatbank4_a_air</th>\n",
       "      <th>secondary_cleaner.state.floatbank4_a_level</th>\n",
       "      <th>secondary_cleaner.state.floatbank4_b_air</th>\n",
       "      <th>secondary_cleaner.state.floatbank4_b_level</th>\n",
       "      <th>secondary_cleaner.state.floatbank5_a_air</th>\n",
       "      <th>secondary_cleaner.state.floatbank5_a_level</th>\n",
       "      <th>secondary_cleaner.state.floatbank5_b_air</th>\n",
       "      <th>secondary_cleaner.state.floatbank5_b_level</th>\n",
       "      <th>secondary_cleaner.state.floatbank6_a_air</th>\n",
       "      <th>secondary_cleaner.state.floatbank6_a_level</th>\n",
       "    </tr>\n",
       "  </thead>\n",
       "  <tbody>\n",
       "    <tr>\n",
       "      <th>count</th>\n",
       "      <td>5290</td>\n",
       "      <td>5286.000000</td>\n",
       "      <td>5285.000000</td>\n",
       "      <td>5290.000000</td>\n",
       "      <td>5286.000000</td>\n",
       "      <td>5.290000e+03</td>\n",
       "      <td>5290.000000</td>\n",
       "      <td>5.290000e+03</td>\n",
       "      <td>5290.000000</td>\n",
       "      <td>5.290000e+03</td>\n",
       "      <td>...</td>\n",
       "      <td>5.290000e+03</td>\n",
       "      <td>5290.000000</td>\n",
       "      <td>5.290000e+03</td>\n",
       "      <td>5290.000000</td>\n",
       "      <td>5290.000000</td>\n",
       "      <td>5290.000000</td>\n",
       "      <td>5290.000000</td>\n",
       "      <td>5290.000000</td>\n",
       "      <td>5290.000000</td>\n",
       "      <td>5290.000000</td>\n",
       "    </tr>\n",
       "    <tr>\n",
       "      <th>unique</th>\n",
       "      <td>5290</td>\n",
       "      <td>NaN</td>\n",
       "      <td>NaN</td>\n",
       "      <td>NaN</td>\n",
       "      <td>NaN</td>\n",
       "      <td>NaN</td>\n",
       "      <td>NaN</td>\n",
       "      <td>NaN</td>\n",
       "      <td>NaN</td>\n",
       "      <td>NaN</td>\n",
       "      <td>...</td>\n",
       "      <td>NaN</td>\n",
       "      <td>NaN</td>\n",
       "      <td>NaN</td>\n",
       "      <td>NaN</td>\n",
       "      <td>NaN</td>\n",
       "      <td>NaN</td>\n",
       "      <td>NaN</td>\n",
       "      <td>NaN</td>\n",
       "      <td>NaN</td>\n",
       "      <td>NaN</td>\n",
       "    </tr>\n",
       "    <tr>\n",
       "      <th>top</th>\n",
       "      <td>2016-12-21 06:59:59</td>\n",
       "      <td>NaN</td>\n",
       "      <td>NaN</td>\n",
       "      <td>NaN</td>\n",
       "      <td>NaN</td>\n",
       "      <td>NaN</td>\n",
       "      <td>NaN</td>\n",
       "      <td>NaN</td>\n",
       "      <td>NaN</td>\n",
       "      <td>NaN</td>\n",
       "      <td>...</td>\n",
       "      <td>NaN</td>\n",
       "      <td>NaN</td>\n",
       "      <td>NaN</td>\n",
       "      <td>NaN</td>\n",
       "      <td>NaN</td>\n",
       "      <td>NaN</td>\n",
       "      <td>NaN</td>\n",
       "      <td>NaN</td>\n",
       "      <td>NaN</td>\n",
       "      <td>NaN</td>\n",
       "    </tr>\n",
       "    <tr>\n",
       "      <th>freq</th>\n",
       "      <td>1</td>\n",
       "      <td>NaN</td>\n",
       "      <td>NaN</td>\n",
       "      <td>NaN</td>\n",
       "      <td>NaN</td>\n",
       "      <td>NaN</td>\n",
       "      <td>NaN</td>\n",
       "      <td>NaN</td>\n",
       "      <td>NaN</td>\n",
       "      <td>NaN</td>\n",
       "      <td>...</td>\n",
       "      <td>NaN</td>\n",
       "      <td>NaN</td>\n",
       "      <td>NaN</td>\n",
       "      <td>NaN</td>\n",
       "      <td>NaN</td>\n",
       "      <td>NaN</td>\n",
       "      <td>NaN</td>\n",
       "      <td>NaN</td>\n",
       "      <td>NaN</td>\n",
       "      <td>NaN</td>\n",
       "    </tr>\n",
       "    <tr>\n",
       "      <th>mean</th>\n",
       "      <td>NaN</td>\n",
       "      <td>174.839652</td>\n",
       "      <td>8.683596</td>\n",
       "      <td>7.266339</td>\n",
       "      <td>1.383803</td>\n",
       "      <td>1.539494e+03</td>\n",
       "      <td>-497.665883</td>\n",
       "      <td>1.545174e+03</td>\n",
       "      <td>-500.273098</td>\n",
       "      <td>1.527272e+03</td>\n",
       "      <td>...</td>\n",
       "      <td>1.632007e+01</td>\n",
       "      <td>-505.144570</td>\n",
       "      <td>1.373544e+01</td>\n",
       "      <td>-463.349858</td>\n",
       "      <td>12.804186</td>\n",
       "      <td>-501.329122</td>\n",
       "      <td>9.881145</td>\n",
       "      <td>-495.663398</td>\n",
       "      <td>17.304935</td>\n",
       "      <td>-501.793193</td>\n",
       "    </tr>\n",
       "    <tr>\n",
       "      <th>std</th>\n",
       "      <td>NaN</td>\n",
       "      <td>43.027080</td>\n",
       "      <td>3.072050</td>\n",
       "      <td>0.610219</td>\n",
       "      <td>0.643474</td>\n",
       "      <td>1.167979e+02</td>\n",
       "      <td>19.952431</td>\n",
       "      <td>1.222246e+02</td>\n",
       "      <td>32.968307</td>\n",
       "      <td>1.225380e+02</td>\n",
       "      <td>...</td>\n",
       "      <td>3.493583e+00</td>\n",
       "      <td>31.427337</td>\n",
       "      <td>3.430484e+00</td>\n",
       "      <td>86.189107</td>\n",
       "      <td>3.026591</td>\n",
       "      <td>17.951495</td>\n",
       "      <td>2.868205</td>\n",
       "      <td>34.535007</td>\n",
       "      <td>4.536544</td>\n",
       "      <td>39.044215</td>\n",
       "    </tr>\n",
       "    <tr>\n",
       "      <th>min</th>\n",
       "      <td>NaN</td>\n",
       "      <td>2.566156</td>\n",
       "      <td>0.003839</td>\n",
       "      <td>5.650000</td>\n",
       "      <td>0.004984</td>\n",
       "      <td>5.445860e-32</td>\n",
       "      <td>-795.316337</td>\n",
       "      <td>6.647490e-32</td>\n",
       "      <td>-799.997015</td>\n",
       "      <td>4.033736e-32</td>\n",
       "      <td>...</td>\n",
       "      <td>1.079872e-16</td>\n",
       "      <td>-799.798523</td>\n",
       "      <td>2.489718e-17</td>\n",
       "      <td>-800.836914</td>\n",
       "      <td>0.069227</td>\n",
       "      <td>-797.323986</td>\n",
       "      <td>0.528083</td>\n",
       "      <td>-800.220337</td>\n",
       "      <td>-0.079426</td>\n",
       "      <td>-809.741464</td>\n",
       "    </tr>\n",
       "    <tr>\n",
       "      <th>25%</th>\n",
       "      <td>NaN</td>\n",
       "      <td>147.121401</td>\n",
       "      <td>6.489555</td>\n",
       "      <td>6.890000</td>\n",
       "      <td>0.907623</td>\n",
       "      <td>1.498936e+03</td>\n",
       "      <td>-500.357298</td>\n",
       "      <td>1.498971e+03</td>\n",
       "      <td>-500.703002</td>\n",
       "      <td>1.473230e+03</td>\n",
       "      <td>...</td>\n",
       "      <td>1.403618e+01</td>\n",
       "      <td>-500.868258</td>\n",
       "      <td>1.202862e+01</td>\n",
       "      <td>-500.323028</td>\n",
       "      <td>10.914838</td>\n",
       "      <td>-500.726841</td>\n",
       "      <td>8.036719</td>\n",
       "      <td>-500.194668</td>\n",
       "      <td>13.997317</td>\n",
       "      <td>-500.690984</td>\n",
       "    </tr>\n",
       "    <tr>\n",
       "      <th>50%</th>\n",
       "      <td>NaN</td>\n",
       "      <td>177.828489</td>\n",
       "      <td>8.052207</td>\n",
       "      <td>7.250000</td>\n",
       "      <td>1.197610</td>\n",
       "      <td>1.585129e+03</td>\n",
       "      <td>-499.969164</td>\n",
       "      <td>1.595622e+03</td>\n",
       "      <td>-500.028514</td>\n",
       "      <td>1.549595e+03</td>\n",
       "      <td>...</td>\n",
       "      <td>1.700847e+01</td>\n",
       "      <td>-500.115727</td>\n",
       "      <td>1.496486e+01</td>\n",
       "      <td>-499.576513</td>\n",
       "      <td>12.954182</td>\n",
       "      <td>-499.990332</td>\n",
       "      <td>10.004301</td>\n",
       "      <td>-499.990535</td>\n",
       "      <td>16.014935</td>\n",
       "      <td>-500.007126</td>\n",
       "    </tr>\n",
       "    <tr>\n",
       "      <th>75%</th>\n",
       "      <td>NaN</td>\n",
       "      <td>208.125438</td>\n",
       "      <td>10.027764</td>\n",
       "      <td>7.600000</td>\n",
       "      <td>1.797819</td>\n",
       "      <td>1.602077e+03</td>\n",
       "      <td>-499.568951</td>\n",
       "      <td>1.602324e+03</td>\n",
       "      <td>-499.293257</td>\n",
       "      <td>1.601144e+03</td>\n",
       "      <td>...</td>\n",
       "      <td>1.803862e+01</td>\n",
       "      <td>-499.404224</td>\n",
       "      <td>1.596213e+01</td>\n",
       "      <td>-400.933805</td>\n",
       "      <td>15.097528</td>\n",
       "      <td>-499.283191</td>\n",
       "      <td>11.997467</td>\n",
       "      <td>-499.719913</td>\n",
       "      <td>21.020013</td>\n",
       "      <td>-499.373018</td>\n",
       "    </tr>\n",
       "    <tr>\n",
       "      <th>max</th>\n",
       "      <td>NaN</td>\n",
       "      <td>265.983123</td>\n",
       "      <td>40.000000</td>\n",
       "      <td>15.500000</td>\n",
       "      <td>4.102454</td>\n",
       "      <td>2.103104e+03</td>\n",
       "      <td>-57.195404</td>\n",
       "      <td>1.813084e+03</td>\n",
       "      <td>-142.527229</td>\n",
       "      <td>1.715054e+03</td>\n",
       "      <td>...</td>\n",
       "      <td>3.005180e+01</td>\n",
       "      <td>-401.565212</td>\n",
       "      <td>3.126971e+01</td>\n",
       "      <td>-6.506986</td>\n",
       "      <td>25.258848</td>\n",
       "      <td>-244.483566</td>\n",
       "      <td>14.086866</td>\n",
       "      <td>-137.740004</td>\n",
       "      <td>26.705889</td>\n",
       "      <td>-123.307487</td>\n",
       "    </tr>\n",
       "  </tbody>\n",
       "</table>\n",
       "<p>11 rows × 53 columns</p>\n",
       "</div>"
      ],
      "text/plain": [
       "                       date  primary_cleaner.input.sulfate  \\\n",
       "count                  5290                    5286.000000   \n",
       "unique                 5290                            NaN   \n",
       "top     2016-12-21 06:59:59                            NaN   \n",
       "freq                      1                            NaN   \n",
       "mean                    NaN                     174.839652   \n",
       "std                     NaN                      43.027080   \n",
       "min                     NaN                       2.566156   \n",
       "25%                     NaN                     147.121401   \n",
       "50%                     NaN                     177.828489   \n",
       "75%                     NaN                     208.125438   \n",
       "max                     NaN                     265.983123   \n",
       "\n",
       "        primary_cleaner.input.depressant  primary_cleaner.input.feed_size  \\\n",
       "count                        5285.000000                      5290.000000   \n",
       "unique                               NaN                              NaN   \n",
       "top                                  NaN                              NaN   \n",
       "freq                                 NaN                              NaN   \n",
       "mean                            8.683596                         7.266339   \n",
       "std                             3.072050                         0.610219   \n",
       "min                             0.003839                         5.650000   \n",
       "25%                             6.489555                         6.890000   \n",
       "50%                             8.052207                         7.250000   \n",
       "75%                            10.027764                         7.600000   \n",
       "max                            40.000000                        15.500000   \n",
       "\n",
       "        primary_cleaner.input.xanthate  \\\n",
       "count                      5286.000000   \n",
       "unique                             NaN   \n",
       "top                                NaN   \n",
       "freq                               NaN   \n",
       "mean                          1.383803   \n",
       "std                           0.643474   \n",
       "min                           0.004984   \n",
       "25%                           0.907623   \n",
       "50%                           1.197610   \n",
       "75%                           1.797819   \n",
       "max                           4.102454   \n",
       "\n",
       "        primary_cleaner.state.floatbank8_a_air  \\\n",
       "count                             5.290000e+03   \n",
       "unique                                     NaN   \n",
       "top                                        NaN   \n",
       "freq                                       NaN   \n",
       "mean                              1.539494e+03   \n",
       "std                               1.167979e+02   \n",
       "min                               5.445860e-32   \n",
       "25%                               1.498936e+03   \n",
       "50%                               1.585129e+03   \n",
       "75%                               1.602077e+03   \n",
       "max                               2.103104e+03   \n",
       "\n",
       "        primary_cleaner.state.floatbank8_a_level  \\\n",
       "count                                5290.000000   \n",
       "unique                                       NaN   \n",
       "top                                          NaN   \n",
       "freq                                         NaN   \n",
       "mean                                 -497.665883   \n",
       "std                                    19.952431   \n",
       "min                                  -795.316337   \n",
       "25%                                  -500.357298   \n",
       "50%                                  -499.969164   \n",
       "75%                                  -499.568951   \n",
       "max                                   -57.195404   \n",
       "\n",
       "        primary_cleaner.state.floatbank8_b_air  \\\n",
       "count                             5.290000e+03   \n",
       "unique                                     NaN   \n",
       "top                                        NaN   \n",
       "freq                                       NaN   \n",
       "mean                              1.545174e+03   \n",
       "std                               1.222246e+02   \n",
       "min                               6.647490e-32   \n",
       "25%                               1.498971e+03   \n",
       "50%                               1.595622e+03   \n",
       "75%                               1.602324e+03   \n",
       "max                               1.813084e+03   \n",
       "\n",
       "        primary_cleaner.state.floatbank8_b_level  \\\n",
       "count                                5290.000000   \n",
       "unique                                       NaN   \n",
       "top                                          NaN   \n",
       "freq                                         NaN   \n",
       "mean                                 -500.273098   \n",
       "std                                    32.968307   \n",
       "min                                  -799.997015   \n",
       "25%                                  -500.703002   \n",
       "50%                                  -500.028514   \n",
       "75%                                  -499.293257   \n",
       "max                                  -142.527229   \n",
       "\n",
       "        primary_cleaner.state.floatbank8_c_air  ...  \\\n",
       "count                             5.290000e+03  ...   \n",
       "unique                                     NaN  ...   \n",
       "top                                        NaN  ...   \n",
       "freq                                       NaN  ...   \n",
       "mean                              1.527272e+03  ...   \n",
       "std                               1.225380e+02  ...   \n",
       "min                               4.033736e-32  ...   \n",
       "25%                               1.473230e+03  ...   \n",
       "50%                               1.549595e+03  ...   \n",
       "75%                               1.601144e+03  ...   \n",
       "max                               1.715054e+03  ...   \n",
       "\n",
       "        secondary_cleaner.state.floatbank4_a_air  \\\n",
       "count                               5.290000e+03   \n",
       "unique                                       NaN   \n",
       "top                                          NaN   \n",
       "freq                                         NaN   \n",
       "mean                                1.632007e+01   \n",
       "std                                 3.493583e+00   \n",
       "min                                 1.079872e-16   \n",
       "25%                                 1.403618e+01   \n",
       "50%                                 1.700847e+01   \n",
       "75%                                 1.803862e+01   \n",
       "max                                 3.005180e+01   \n",
       "\n",
       "        secondary_cleaner.state.floatbank4_a_level  \\\n",
       "count                                  5290.000000   \n",
       "unique                                         NaN   \n",
       "top                                            NaN   \n",
       "freq                                           NaN   \n",
       "mean                                   -505.144570   \n",
       "std                                      31.427337   \n",
       "min                                    -799.798523   \n",
       "25%                                    -500.868258   \n",
       "50%                                    -500.115727   \n",
       "75%                                    -499.404224   \n",
       "max                                    -401.565212   \n",
       "\n",
       "        secondary_cleaner.state.floatbank4_b_air  \\\n",
       "count                               5.290000e+03   \n",
       "unique                                       NaN   \n",
       "top                                          NaN   \n",
       "freq                                         NaN   \n",
       "mean                                1.373544e+01   \n",
       "std                                 3.430484e+00   \n",
       "min                                 2.489718e-17   \n",
       "25%                                 1.202862e+01   \n",
       "50%                                 1.496486e+01   \n",
       "75%                                 1.596213e+01   \n",
       "max                                 3.126971e+01   \n",
       "\n",
       "        secondary_cleaner.state.floatbank4_b_level  \\\n",
       "count                                  5290.000000   \n",
       "unique                                         NaN   \n",
       "top                                            NaN   \n",
       "freq                                           NaN   \n",
       "mean                                   -463.349858   \n",
       "std                                      86.189107   \n",
       "min                                    -800.836914   \n",
       "25%                                    -500.323028   \n",
       "50%                                    -499.576513   \n",
       "75%                                    -400.933805   \n",
       "max                                      -6.506986   \n",
       "\n",
       "        secondary_cleaner.state.floatbank5_a_air  \\\n",
       "count                                5290.000000   \n",
       "unique                                       NaN   \n",
       "top                                          NaN   \n",
       "freq                                         NaN   \n",
       "mean                                   12.804186   \n",
       "std                                     3.026591   \n",
       "min                                     0.069227   \n",
       "25%                                    10.914838   \n",
       "50%                                    12.954182   \n",
       "75%                                    15.097528   \n",
       "max                                    25.258848   \n",
       "\n",
       "        secondary_cleaner.state.floatbank5_a_level  \\\n",
       "count                                  5290.000000   \n",
       "unique                                         NaN   \n",
       "top                                            NaN   \n",
       "freq                                           NaN   \n",
       "mean                                   -501.329122   \n",
       "std                                      17.951495   \n",
       "min                                    -797.323986   \n",
       "25%                                    -500.726841   \n",
       "50%                                    -499.990332   \n",
       "75%                                    -499.283191   \n",
       "max                                    -244.483566   \n",
       "\n",
       "        secondary_cleaner.state.floatbank5_b_air  \\\n",
       "count                                5290.000000   \n",
       "unique                                       NaN   \n",
       "top                                          NaN   \n",
       "freq                                         NaN   \n",
       "mean                                    9.881145   \n",
       "std                                     2.868205   \n",
       "min                                     0.528083   \n",
       "25%                                     8.036719   \n",
       "50%                                    10.004301   \n",
       "75%                                    11.997467   \n",
       "max                                    14.086866   \n",
       "\n",
       "        secondary_cleaner.state.floatbank5_b_level  \\\n",
       "count                                  5290.000000   \n",
       "unique                                         NaN   \n",
       "top                                            NaN   \n",
       "freq                                           NaN   \n",
       "mean                                   -495.663398   \n",
       "std                                      34.535007   \n",
       "min                                    -800.220337   \n",
       "25%                                    -500.194668   \n",
       "50%                                    -499.990535   \n",
       "75%                                    -499.719913   \n",
       "max                                    -137.740004   \n",
       "\n",
       "        secondary_cleaner.state.floatbank6_a_air  \\\n",
       "count                                5290.000000   \n",
       "unique                                       NaN   \n",
       "top                                          NaN   \n",
       "freq                                         NaN   \n",
       "mean                                   17.304935   \n",
       "std                                     4.536544   \n",
       "min                                    -0.079426   \n",
       "25%                                    13.997317   \n",
       "50%                                    16.014935   \n",
       "75%                                    21.020013   \n",
       "max                                    26.705889   \n",
       "\n",
       "        secondary_cleaner.state.floatbank6_a_level  \n",
       "count                                  5290.000000  \n",
       "unique                                         NaN  \n",
       "top                                            NaN  \n",
       "freq                                           NaN  \n",
       "mean                                   -501.793193  \n",
       "std                                      39.044215  \n",
       "min                                    -809.741464  \n",
       "25%                                    -500.690984  \n",
       "50%                                    -500.007126  \n",
       "75%                                    -499.373018  \n",
       "max                                    -123.307487  \n",
       "\n",
       "[11 rows x 53 columns]"
      ]
     },
     "metadata": {},
     "output_type": "display_data"
    },
    {
     "name": "stdout",
     "output_type": "stream",
     "text": [
      "Размерность: (5290, 53)\n"
     ]
    },
    {
     "data": {
      "text/plain": [
       "'Количество пропущенных значений:'"
      ]
     },
     "metadata": {},
     "output_type": "display_data"
    },
    {
     "data": {
      "text/plain": [
       "date                                           0\n",
       "primary_cleaner.input.sulfate                  4\n",
       "primary_cleaner.input.depressant               5\n",
       "primary_cleaner.input.feed_size                0\n",
       "primary_cleaner.input.xanthate                 4\n",
       "primary_cleaner.state.floatbank8_a_air         0\n",
       "primary_cleaner.state.floatbank8_a_level       0\n",
       "primary_cleaner.state.floatbank8_b_air         0\n",
       "primary_cleaner.state.floatbank8_b_level       0\n",
       "primary_cleaner.state.floatbank8_c_air         0\n",
       "primary_cleaner.state.floatbank8_c_level       0\n",
       "primary_cleaner.state.floatbank8_d_air         0\n",
       "primary_cleaner.state.floatbank8_d_level       0\n",
       "rougher.input.feed_ag                          0\n",
       "rougher.input.feed_pb                          0\n",
       "rougher.input.feed_rate                        3\n",
       "rougher.input.feed_size                        1\n",
       "rougher.input.feed_sol                        21\n",
       "rougher.input.feed_au                          0\n",
       "rougher.input.floatbank10_sulfate              5\n",
       "rougher.input.floatbank10_xanthate             0\n",
       "rougher.input.floatbank11_sulfate              8\n",
       "rougher.input.floatbank11_xanthate            25\n",
       "rougher.state.floatbank10_a_air                0\n",
       "rougher.state.floatbank10_a_level              0\n",
       "rougher.state.floatbank10_b_air                0\n",
       "rougher.state.floatbank10_b_level              0\n",
       "rougher.state.floatbank10_c_air                0\n",
       "rougher.state.floatbank10_c_level              0\n",
       "rougher.state.floatbank10_d_air                0\n",
       "rougher.state.floatbank10_d_level              0\n",
       "rougher.state.floatbank10_e_air                0\n",
       "rougher.state.floatbank10_e_level              0\n",
       "rougher.state.floatbank10_f_air                0\n",
       "rougher.state.floatbank10_f_level              0\n",
       "secondary_cleaner.state.floatbank2_a_air       3\n",
       "secondary_cleaner.state.floatbank2_a_level     0\n",
       "secondary_cleaner.state.floatbank2_b_air       2\n",
       "secondary_cleaner.state.floatbank2_b_level     0\n",
       "secondary_cleaner.state.floatbank3_a_air       9\n",
       "secondary_cleaner.state.floatbank3_a_level     0\n",
       "secondary_cleaner.state.floatbank3_b_air       0\n",
       "secondary_cleaner.state.floatbank3_b_level     0\n",
       "secondary_cleaner.state.floatbank4_a_air       0\n",
       "secondary_cleaner.state.floatbank4_a_level     0\n",
       "secondary_cleaner.state.floatbank4_b_air       0\n",
       "secondary_cleaner.state.floatbank4_b_level     0\n",
       "secondary_cleaner.state.floatbank5_a_air       0\n",
       "secondary_cleaner.state.floatbank5_a_level     0\n",
       "secondary_cleaner.state.floatbank5_b_air       0\n",
       "secondary_cleaner.state.floatbank5_b_level     0\n",
       "secondary_cleaner.state.floatbank6_a_air       0\n",
       "secondary_cleaner.state.floatbank6_a_level     0\n",
       "dtype: int64"
      ]
     },
     "metadata": {},
     "output_type": "display_data"
    },
    {
     "name": "stdout",
     "output_type": "stream",
     "text": [
      "Количество  дубликатов строк: 0\n"
     ]
    },
    {
     "data": {
      "text/html": [
       "<div>\n",
       "<style scoped>\n",
       "    .dataframe tbody tr th:only-of-type {\n",
       "        vertical-align: middle;\n",
       "    }\n",
       "\n",
       "    .dataframe tbody tr th {\n",
       "        vertical-align: top;\n",
       "    }\n",
       "\n",
       "    .dataframe thead th {\n",
       "        text-align: right;\n",
       "    }\n",
       "</style>\n",
       "<table border=\"1\" class=\"dataframe\">\n",
       "  <thead>\n",
       "    <tr style=\"text-align: right;\">\n",
       "      <th></th>\n",
       "      <th>date</th>\n",
       "      <th>final.output.concentrate_ag</th>\n",
       "      <th>final.output.concentrate_pb</th>\n",
       "      <th>final.output.concentrate_sol</th>\n",
       "      <th>final.output.concentrate_au</th>\n",
       "      <th>final.output.recovery</th>\n",
       "      <th>final.output.tail_ag</th>\n",
       "      <th>final.output.tail_pb</th>\n",
       "      <th>final.output.tail_sol</th>\n",
       "      <th>final.output.tail_au</th>\n",
       "      <th>...</th>\n",
       "      <th>secondary_cleaner.state.floatbank4_a_air</th>\n",
       "      <th>secondary_cleaner.state.floatbank4_a_level</th>\n",
       "      <th>secondary_cleaner.state.floatbank4_b_air</th>\n",
       "      <th>secondary_cleaner.state.floatbank4_b_level</th>\n",
       "      <th>secondary_cleaner.state.floatbank5_a_air</th>\n",
       "      <th>secondary_cleaner.state.floatbank5_a_level</th>\n",
       "      <th>secondary_cleaner.state.floatbank5_b_air</th>\n",
       "      <th>secondary_cleaner.state.floatbank5_b_level</th>\n",
       "      <th>secondary_cleaner.state.floatbank6_a_air</th>\n",
       "      <th>secondary_cleaner.state.floatbank6_a_level</th>\n",
       "    </tr>\n",
       "  </thead>\n",
       "  <tbody>\n",
       "    <tr>\n",
       "      <th>0</th>\n",
       "      <td>2016-01-15 00:00:00</td>\n",
       "      <td>6.055403</td>\n",
       "      <td>9.889648</td>\n",
       "      <td>5.507324</td>\n",
       "      <td>42.192020</td>\n",
       "      <td>70.541216</td>\n",
       "      <td>10.411962</td>\n",
       "      <td>0.895447</td>\n",
       "      <td>16.904297</td>\n",
       "      <td>2.143149</td>\n",
       "      <td>...</td>\n",
       "      <td>14.016835</td>\n",
       "      <td>-502.488007</td>\n",
       "      <td>12.099931</td>\n",
       "      <td>-504.715942</td>\n",
       "      <td>9.925633</td>\n",
       "      <td>-498.310211</td>\n",
       "      <td>8.079666</td>\n",
       "      <td>-500.470978</td>\n",
       "      <td>14.151341</td>\n",
       "      <td>-605.841980</td>\n",
       "    </tr>\n",
       "    <tr>\n",
       "      <th>1</th>\n",
       "      <td>2016-01-15 01:00:00</td>\n",
       "      <td>6.029369</td>\n",
       "      <td>9.968944</td>\n",
       "      <td>5.257781</td>\n",
       "      <td>42.701629</td>\n",
       "      <td>69.266198</td>\n",
       "      <td>10.462676</td>\n",
       "      <td>0.927452</td>\n",
       "      <td>16.634514</td>\n",
       "      <td>2.224930</td>\n",
       "      <td>...</td>\n",
       "      <td>13.992281</td>\n",
       "      <td>-505.503262</td>\n",
       "      <td>11.950531</td>\n",
       "      <td>-501.331529</td>\n",
       "      <td>10.039245</td>\n",
       "      <td>-500.169983</td>\n",
       "      <td>7.984757</td>\n",
       "      <td>-500.582168</td>\n",
       "      <td>13.998353</td>\n",
       "      <td>-599.787184</td>\n",
       "    </tr>\n",
       "    <tr>\n",
       "      <th>2</th>\n",
       "      <td>2016-01-15 02:00:00</td>\n",
       "      <td>6.055926</td>\n",
       "      <td>10.213995</td>\n",
       "      <td>5.383759</td>\n",
       "      <td>42.657501</td>\n",
       "      <td>68.116445</td>\n",
       "      <td>10.507046</td>\n",
       "      <td>0.953716</td>\n",
       "      <td>16.208849</td>\n",
       "      <td>2.257889</td>\n",
       "      <td>...</td>\n",
       "      <td>14.015015</td>\n",
       "      <td>-502.520901</td>\n",
       "      <td>11.912783</td>\n",
       "      <td>-501.133383</td>\n",
       "      <td>10.070913</td>\n",
       "      <td>-500.129135</td>\n",
       "      <td>8.013877</td>\n",
       "      <td>-500.517572</td>\n",
       "      <td>14.028663</td>\n",
       "      <td>-601.427363</td>\n",
       "    </tr>\n",
       "    <tr>\n",
       "      <th>3</th>\n",
       "      <td>2016-01-15 03:00:00</td>\n",
       "      <td>6.047977</td>\n",
       "      <td>9.977019</td>\n",
       "      <td>4.858634</td>\n",
       "      <td>42.689819</td>\n",
       "      <td>68.347543</td>\n",
       "      <td>10.422762</td>\n",
       "      <td>0.883763</td>\n",
       "      <td>16.532835</td>\n",
       "      <td>2.146849</td>\n",
       "      <td>...</td>\n",
       "      <td>14.036510</td>\n",
       "      <td>-500.857308</td>\n",
       "      <td>11.999550</td>\n",
       "      <td>-501.193686</td>\n",
       "      <td>9.970366</td>\n",
       "      <td>-499.201640</td>\n",
       "      <td>7.977324</td>\n",
       "      <td>-500.255908</td>\n",
       "      <td>14.005551</td>\n",
       "      <td>-599.996129</td>\n",
       "    </tr>\n",
       "    <tr>\n",
       "      <th>4</th>\n",
       "      <td>2016-01-15 04:00:00</td>\n",
       "      <td>6.148599</td>\n",
       "      <td>10.142511</td>\n",
       "      <td>4.939416</td>\n",
       "      <td>42.774141</td>\n",
       "      <td>66.927016</td>\n",
       "      <td>10.360302</td>\n",
       "      <td>0.792826</td>\n",
       "      <td>16.525686</td>\n",
       "      <td>2.055292</td>\n",
       "      <td>...</td>\n",
       "      <td>14.027298</td>\n",
       "      <td>-499.838632</td>\n",
       "      <td>11.953070</td>\n",
       "      <td>-501.053894</td>\n",
       "      <td>9.925709</td>\n",
       "      <td>-501.686727</td>\n",
       "      <td>7.894242</td>\n",
       "      <td>-500.356035</td>\n",
       "      <td>13.996647</td>\n",
       "      <td>-601.496691</td>\n",
       "    </tr>\n",
       "  </tbody>\n",
       "</table>\n",
       "<p>5 rows × 87 columns</p>\n",
       "</div>"
      ],
      "text/plain": [
       "                  date  final.output.concentrate_ag  \\\n",
       "0  2016-01-15 00:00:00                     6.055403   \n",
       "1  2016-01-15 01:00:00                     6.029369   \n",
       "2  2016-01-15 02:00:00                     6.055926   \n",
       "3  2016-01-15 03:00:00                     6.047977   \n",
       "4  2016-01-15 04:00:00                     6.148599   \n",
       "\n",
       "   final.output.concentrate_pb  final.output.concentrate_sol  \\\n",
       "0                     9.889648                      5.507324   \n",
       "1                     9.968944                      5.257781   \n",
       "2                    10.213995                      5.383759   \n",
       "3                     9.977019                      4.858634   \n",
       "4                    10.142511                      4.939416   \n",
       "\n",
       "   final.output.concentrate_au  final.output.recovery  final.output.tail_ag  \\\n",
       "0                    42.192020              70.541216             10.411962   \n",
       "1                    42.701629              69.266198             10.462676   \n",
       "2                    42.657501              68.116445             10.507046   \n",
       "3                    42.689819              68.347543             10.422762   \n",
       "4                    42.774141              66.927016             10.360302   \n",
       "\n",
       "   final.output.tail_pb  final.output.tail_sol  final.output.tail_au  ...  \\\n",
       "0              0.895447              16.904297              2.143149  ...   \n",
       "1              0.927452              16.634514              2.224930  ...   \n",
       "2              0.953716              16.208849              2.257889  ...   \n",
       "3              0.883763              16.532835              2.146849  ...   \n",
       "4              0.792826              16.525686              2.055292  ...   \n",
       "\n",
       "   secondary_cleaner.state.floatbank4_a_air  \\\n",
       "0                                 14.016835   \n",
       "1                                 13.992281   \n",
       "2                                 14.015015   \n",
       "3                                 14.036510   \n",
       "4                                 14.027298   \n",
       "\n",
       "   secondary_cleaner.state.floatbank4_a_level  \\\n",
       "0                                 -502.488007   \n",
       "1                                 -505.503262   \n",
       "2                                 -502.520901   \n",
       "3                                 -500.857308   \n",
       "4                                 -499.838632   \n",
       "\n",
       "   secondary_cleaner.state.floatbank4_b_air  \\\n",
       "0                                 12.099931   \n",
       "1                                 11.950531   \n",
       "2                                 11.912783   \n",
       "3                                 11.999550   \n",
       "4                                 11.953070   \n",
       "\n",
       "   secondary_cleaner.state.floatbank4_b_level  \\\n",
       "0                                 -504.715942   \n",
       "1                                 -501.331529   \n",
       "2                                 -501.133383   \n",
       "3                                 -501.193686   \n",
       "4                                 -501.053894   \n",
       "\n",
       "   secondary_cleaner.state.floatbank5_a_air  \\\n",
       "0                                  9.925633   \n",
       "1                                 10.039245   \n",
       "2                                 10.070913   \n",
       "3                                  9.970366   \n",
       "4                                  9.925709   \n",
       "\n",
       "   secondary_cleaner.state.floatbank5_a_level  \\\n",
       "0                                 -498.310211   \n",
       "1                                 -500.169983   \n",
       "2                                 -500.129135   \n",
       "3                                 -499.201640   \n",
       "4                                 -501.686727   \n",
       "\n",
       "   secondary_cleaner.state.floatbank5_b_air  \\\n",
       "0                                  8.079666   \n",
       "1                                  7.984757   \n",
       "2                                  8.013877   \n",
       "3                                  7.977324   \n",
       "4                                  7.894242   \n",
       "\n",
       "   secondary_cleaner.state.floatbank5_b_level  \\\n",
       "0                                 -500.470978   \n",
       "1                                 -500.582168   \n",
       "2                                 -500.517572   \n",
       "3                                 -500.255908   \n",
       "4                                 -500.356035   \n",
       "\n",
       "   secondary_cleaner.state.floatbank6_a_air  \\\n",
       "0                                 14.151341   \n",
       "1                                 13.998353   \n",
       "2                                 14.028663   \n",
       "3                                 14.005551   \n",
       "4                                 13.996647   \n",
       "\n",
       "   secondary_cleaner.state.floatbank6_a_level  \n",
       "0                                 -605.841980  \n",
       "1                                 -599.787184  \n",
       "2                                 -601.427363  \n",
       "3                                 -599.996129  \n",
       "4                                 -601.496691  \n",
       "\n",
       "[5 rows x 87 columns]"
      ]
     },
     "metadata": {},
     "output_type": "display_data"
    },
    {
     "name": "stdout",
     "output_type": "stream",
     "text": [
      "<class 'pandas.core.frame.DataFrame'>\n",
      "RangeIndex: 19439 entries, 0 to 19438\n",
      "Data columns (total 87 columns):\n",
      " #   Column                                              Non-Null Count  Dtype  \n",
      "---  ------                                              --------------  -----  \n",
      " 0   date                                                19439 non-null  object \n",
      " 1   final.output.concentrate_ag                         19438 non-null  float64\n",
      " 2   final.output.concentrate_pb                         19438 non-null  float64\n",
      " 3   final.output.concentrate_sol                        19228 non-null  float64\n",
      " 4   final.output.concentrate_au                         19439 non-null  float64\n",
      " 5   final.output.recovery                               19439 non-null  float64\n",
      " 6   final.output.tail_ag                                19438 non-null  float64\n",
      " 7   final.output.tail_pb                                19338 non-null  float64\n",
      " 8   final.output.tail_sol                               19433 non-null  float64\n",
      " 9   final.output.tail_au                                19439 non-null  float64\n",
      " 10  primary_cleaner.input.sulfate                       19415 non-null  float64\n",
      " 11  primary_cleaner.input.depressant                    19402 non-null  float64\n",
      " 12  primary_cleaner.input.feed_size                     19439 non-null  float64\n",
      " 13  primary_cleaner.input.xanthate                      19335 non-null  float64\n",
      " 14  primary_cleaner.output.concentrate_ag               19439 non-null  float64\n",
      " 15  primary_cleaner.output.concentrate_pb               19323 non-null  float64\n",
      " 16  primary_cleaner.output.concentrate_sol              19069 non-null  float64\n",
      " 17  primary_cleaner.output.concentrate_au               19439 non-null  float64\n",
      " 18  primary_cleaner.output.tail_ag                      19435 non-null  float64\n",
      " 19  primary_cleaner.output.tail_pb                      19418 non-null  float64\n",
      " 20  primary_cleaner.output.tail_sol                     19377 non-null  float64\n",
      " 21  primary_cleaner.output.tail_au                      19439 non-null  float64\n",
      " 22  primary_cleaner.state.floatbank8_a_air              19435 non-null  float64\n",
      " 23  primary_cleaner.state.floatbank8_a_level            19438 non-null  float64\n",
      " 24  primary_cleaner.state.floatbank8_b_air              19435 non-null  float64\n",
      " 25  primary_cleaner.state.floatbank8_b_level            19438 non-null  float64\n",
      " 26  primary_cleaner.state.floatbank8_c_air              19437 non-null  float64\n",
      " 27  primary_cleaner.state.floatbank8_c_level            19438 non-null  float64\n",
      " 28  primary_cleaner.state.floatbank8_d_air              19436 non-null  float64\n",
      " 29  primary_cleaner.state.floatbank8_d_level            19438 non-null  float64\n",
      " 30  rougher.calculation.sulfate_to_au_concentrate       19437 non-null  float64\n",
      " 31  rougher.calculation.floatbank10_sulfate_to_au_feed  19437 non-null  float64\n",
      " 32  rougher.calculation.floatbank11_sulfate_to_au_feed  19437 non-null  float64\n",
      " 33  rougher.calculation.au_pb_ratio                     19439 non-null  float64\n",
      " 34  rougher.input.feed_ag                               19439 non-null  float64\n",
      " 35  rougher.input.feed_pb                               19339 non-null  float64\n",
      " 36  rougher.input.feed_rate                             19428 non-null  float64\n",
      " 37  rougher.input.feed_size                             19294 non-null  float64\n",
      " 38  rougher.input.feed_sol                              19340 non-null  float64\n",
      " 39  rougher.input.feed_au                               19439 non-null  float64\n",
      " 40  rougher.input.floatbank10_sulfate                   19405 non-null  float64\n",
      " 41  rougher.input.floatbank10_xanthate                  19431 non-null  float64\n",
      " 42  rougher.input.floatbank11_sulfate                   19395 non-null  float64\n",
      " 43  rougher.input.floatbank11_xanthate                  18986 non-null  float64\n",
      " 44  rougher.output.concentrate_ag                       19439 non-null  float64\n",
      " 45  rougher.output.concentrate_pb                       19439 non-null  float64\n",
      " 46  rougher.output.concentrate_sol                      19416 non-null  float64\n",
      " 47  rougher.output.concentrate_au                       19439 non-null  float64\n",
      " 48  rougher.output.recovery                             19439 non-null  float64\n",
      " 49  rougher.output.tail_ag                              19438 non-null  float64\n",
      " 50  rougher.output.tail_pb                              19439 non-null  float64\n",
      " 51  rougher.output.tail_sol                             19439 non-null  float64\n",
      " 52  rougher.output.tail_au                              19439 non-null  float64\n",
      " 53  rougher.state.floatbank10_a_air                     19438 non-null  float64\n",
      " 54  rougher.state.floatbank10_a_level                   19438 non-null  float64\n",
      " 55  rougher.state.floatbank10_b_air                     19438 non-null  float64\n",
      " 56  rougher.state.floatbank10_b_level                   19438 non-null  float64\n",
      " 57  rougher.state.floatbank10_c_air                     19438 non-null  float64\n",
      " 58  rougher.state.floatbank10_c_level                   19438 non-null  float64\n",
      " 59  rougher.state.floatbank10_d_air                     19439 non-null  float64\n",
      " 60  rougher.state.floatbank10_d_level                   19439 non-null  float64\n",
      " 61  rougher.state.floatbank10_e_air                     19003 non-null  float64\n",
      " 62  rougher.state.floatbank10_e_level                   19439 non-null  float64\n",
      " 63  rougher.state.floatbank10_f_air                     19439 non-null  float64\n",
      " 64  rougher.state.floatbank10_f_level                   19439 non-null  float64\n",
      " 65  secondary_cleaner.output.tail_ag                    19437 non-null  float64\n",
      " 66  secondary_cleaner.output.tail_pb                    19427 non-null  float64\n",
      " 67  secondary_cleaner.output.tail_sol                   17691 non-null  float64\n",
      " 68  secondary_cleaner.output.tail_au                    19439 non-null  float64\n",
      " 69  secondary_cleaner.state.floatbank2_a_air            19219 non-null  float64\n",
      " 70  secondary_cleaner.state.floatbank2_a_level          19438 non-null  float64\n",
      " 71  secondary_cleaner.state.floatbank2_b_air            19416 non-null  float64\n",
      " 72  secondary_cleaner.state.floatbank2_b_level          19438 non-null  float64\n",
      " 73  secondary_cleaner.state.floatbank3_a_air            19426 non-null  float64\n",
      " 74  secondary_cleaner.state.floatbank3_a_level          19438 non-null  float64\n",
      " 75  secondary_cleaner.state.floatbank3_b_air            19438 non-null  float64\n",
      " 76  secondary_cleaner.state.floatbank3_b_level          19438 non-null  float64\n",
      " 77  secondary_cleaner.state.floatbank4_a_air            19433 non-null  float64\n",
      " 78  secondary_cleaner.state.floatbank4_a_level          19438 non-null  float64\n",
      " 79  secondary_cleaner.state.floatbank4_b_air            19438 non-null  float64\n",
      " 80  secondary_cleaner.state.floatbank4_b_level          19438 non-null  float64\n",
      " 81  secondary_cleaner.state.floatbank5_a_air            19438 non-null  float64\n",
      " 82  secondary_cleaner.state.floatbank5_a_level          19438 non-null  float64\n",
      " 83  secondary_cleaner.state.floatbank5_b_air            19438 non-null  float64\n",
      " 84  secondary_cleaner.state.floatbank5_b_level          19438 non-null  float64\n",
      " 85  secondary_cleaner.state.floatbank6_a_air            19437 non-null  float64\n",
      " 86  secondary_cleaner.state.floatbank6_a_level          19438 non-null  float64\n",
      "dtypes: float64(86), object(1)\n",
      "memory usage: 12.9+ MB\n"
     ]
    },
    {
     "data": {
      "text/plain": [
       "None"
      ]
     },
     "metadata": {},
     "output_type": "display_data"
    },
    {
     "data": {
      "text/html": [
       "<div>\n",
       "<style scoped>\n",
       "    .dataframe tbody tr th:only-of-type {\n",
       "        vertical-align: middle;\n",
       "    }\n",
       "\n",
       "    .dataframe tbody tr th {\n",
       "        vertical-align: top;\n",
       "    }\n",
       "\n",
       "    .dataframe thead th {\n",
       "        text-align: right;\n",
       "    }\n",
       "</style>\n",
       "<table border=\"1\" class=\"dataframe\">\n",
       "  <thead>\n",
       "    <tr style=\"text-align: right;\">\n",
       "      <th></th>\n",
       "      <th>date</th>\n",
       "      <th>final.output.concentrate_ag</th>\n",
       "      <th>final.output.concentrate_pb</th>\n",
       "      <th>final.output.concentrate_sol</th>\n",
       "      <th>final.output.concentrate_au</th>\n",
       "      <th>final.output.recovery</th>\n",
       "      <th>final.output.tail_ag</th>\n",
       "      <th>final.output.tail_pb</th>\n",
       "      <th>final.output.tail_sol</th>\n",
       "      <th>final.output.tail_au</th>\n",
       "      <th>...</th>\n",
       "      <th>secondary_cleaner.state.floatbank4_a_air</th>\n",
       "      <th>secondary_cleaner.state.floatbank4_a_level</th>\n",
       "      <th>secondary_cleaner.state.floatbank4_b_air</th>\n",
       "      <th>secondary_cleaner.state.floatbank4_b_level</th>\n",
       "      <th>secondary_cleaner.state.floatbank5_a_air</th>\n",
       "      <th>secondary_cleaner.state.floatbank5_a_level</th>\n",
       "      <th>secondary_cleaner.state.floatbank5_b_air</th>\n",
       "      <th>secondary_cleaner.state.floatbank5_b_level</th>\n",
       "      <th>secondary_cleaner.state.floatbank6_a_air</th>\n",
       "      <th>secondary_cleaner.state.floatbank6_a_level</th>\n",
       "    </tr>\n",
       "  </thead>\n",
       "  <tbody>\n",
       "    <tr>\n",
       "      <th>count</th>\n",
       "      <td>19439</td>\n",
       "      <td>19438.000000</td>\n",
       "      <td>19438.000000</td>\n",
       "      <td>19228.000000</td>\n",
       "      <td>19439.000000</td>\n",
       "      <td>19439.000000</td>\n",
       "      <td>19438.000000</td>\n",
       "      <td>19338.000000</td>\n",
       "      <td>19433.000000</td>\n",
       "      <td>19439.000000</td>\n",
       "      <td>...</td>\n",
       "      <td>19433.000000</td>\n",
       "      <td>19438.000000</td>\n",
       "      <td>19438.000000</td>\n",
       "      <td>19438.000000</td>\n",
       "      <td>19438.000000</td>\n",
       "      <td>19438.000000</td>\n",
       "      <td>19438.000000</td>\n",
       "      <td>19438.000000</td>\n",
       "      <td>19437.000000</td>\n",
       "      <td>19438.000000</td>\n",
       "    </tr>\n",
       "    <tr>\n",
       "      <th>unique</th>\n",
       "      <td>19439</td>\n",
       "      <td>NaN</td>\n",
       "      <td>NaN</td>\n",
       "      <td>NaN</td>\n",
       "      <td>NaN</td>\n",
       "      <td>NaN</td>\n",
       "      <td>NaN</td>\n",
       "      <td>NaN</td>\n",
       "      <td>NaN</td>\n",
       "      <td>NaN</td>\n",
       "      <td>...</td>\n",
       "      <td>NaN</td>\n",
       "      <td>NaN</td>\n",
       "      <td>NaN</td>\n",
       "      <td>NaN</td>\n",
       "      <td>NaN</td>\n",
       "      <td>NaN</td>\n",
       "      <td>NaN</td>\n",
       "      <td>NaN</td>\n",
       "      <td>NaN</td>\n",
       "      <td>NaN</td>\n",
       "    </tr>\n",
       "    <tr>\n",
       "      <th>top</th>\n",
       "      <td>2017-08-28 01:59:59</td>\n",
       "      <td>NaN</td>\n",
       "      <td>NaN</td>\n",
       "      <td>NaN</td>\n",
       "      <td>NaN</td>\n",
       "      <td>NaN</td>\n",
       "      <td>NaN</td>\n",
       "      <td>NaN</td>\n",
       "      <td>NaN</td>\n",
       "      <td>NaN</td>\n",
       "      <td>...</td>\n",
       "      <td>NaN</td>\n",
       "      <td>NaN</td>\n",
       "      <td>NaN</td>\n",
       "      <td>NaN</td>\n",
       "      <td>NaN</td>\n",
       "      <td>NaN</td>\n",
       "      <td>NaN</td>\n",
       "      <td>NaN</td>\n",
       "      <td>NaN</td>\n",
       "      <td>NaN</td>\n",
       "    </tr>\n",
       "    <tr>\n",
       "      <th>freq</th>\n",
       "      <td>1</td>\n",
       "      <td>NaN</td>\n",
       "      <td>NaN</td>\n",
       "      <td>NaN</td>\n",
       "      <td>NaN</td>\n",
       "      <td>NaN</td>\n",
       "      <td>NaN</td>\n",
       "      <td>NaN</td>\n",
       "      <td>NaN</td>\n",
       "      <td>NaN</td>\n",
       "      <td>...</td>\n",
       "      <td>NaN</td>\n",
       "      <td>NaN</td>\n",
       "      <td>NaN</td>\n",
       "      <td>NaN</td>\n",
       "      <td>NaN</td>\n",
       "      <td>NaN</td>\n",
       "      <td>NaN</td>\n",
       "      <td>NaN</td>\n",
       "      <td>NaN</td>\n",
       "      <td>NaN</td>\n",
       "    </tr>\n",
       "    <tr>\n",
       "      <th>mean</th>\n",
       "      <td>NaN</td>\n",
       "      <td>5.168470</td>\n",
       "      <td>9.978895</td>\n",
       "      <td>9.501224</td>\n",
       "      <td>44.076513</td>\n",
       "      <td>67.050208</td>\n",
       "      <td>9.688589</td>\n",
       "      <td>2.705795</td>\n",
       "      <td>10.583728</td>\n",
       "      <td>3.042467</td>\n",
       "      <td>...</td>\n",
       "      <td>18.987674</td>\n",
       "      <td>-485.894516</td>\n",
       "      <td>15.010366</td>\n",
       "      <td>-461.078636</td>\n",
       "      <td>15.694452</td>\n",
       "      <td>-488.684065</td>\n",
       "      <td>12.198224</td>\n",
       "      <td>-487.149827</td>\n",
       "      <td>18.959024</td>\n",
       "      <td>-505.436305</td>\n",
       "    </tr>\n",
       "    <tr>\n",
       "      <th>std</th>\n",
       "      <td>NaN</td>\n",
       "      <td>1.372348</td>\n",
       "      <td>1.669240</td>\n",
       "      <td>2.787537</td>\n",
       "      <td>5.129784</td>\n",
       "      <td>10.125840</td>\n",
       "      <td>2.328642</td>\n",
       "      <td>0.949077</td>\n",
       "      <td>2.868782</td>\n",
       "      <td>0.922808</td>\n",
       "      <td>...</td>\n",
       "      <td>5.411058</td>\n",
       "      <td>47.758570</td>\n",
       "      <td>4.890228</td>\n",
       "      <td>67.405524</td>\n",
       "      <td>5.510974</td>\n",
       "      <td>34.533396</td>\n",
       "      <td>5.333024</td>\n",
       "      <td>38.347312</td>\n",
       "      <td>5.550498</td>\n",
       "      <td>37.689057</td>\n",
       "    </tr>\n",
       "    <tr>\n",
       "      <th>min</th>\n",
       "      <td>NaN</td>\n",
       "      <td>0.000000</td>\n",
       "      <td>0.000000</td>\n",
       "      <td>0.000000</td>\n",
       "      <td>0.000000</td>\n",
       "      <td>0.000000</td>\n",
       "      <td>0.000000</td>\n",
       "      <td>0.000000</td>\n",
       "      <td>0.000000</td>\n",
       "      <td>0.000000</td>\n",
       "      <td>...</td>\n",
       "      <td>0.000000</td>\n",
       "      <td>-799.798523</td>\n",
       "      <td>0.000000</td>\n",
       "      <td>-800.836914</td>\n",
       "      <td>-0.372054</td>\n",
       "      <td>-797.323986</td>\n",
       "      <td>0.528083</td>\n",
       "      <td>-800.220337</td>\n",
       "      <td>-0.079426</td>\n",
       "      <td>-809.741464</td>\n",
       "    </tr>\n",
       "    <tr>\n",
       "      <th>25%</th>\n",
       "      <td>NaN</td>\n",
       "      <td>4.251240</td>\n",
       "      <td>9.137262</td>\n",
       "      <td>7.722820</td>\n",
       "      <td>43.402215</td>\n",
       "      <td>63.299712</td>\n",
       "      <td>8.062878</td>\n",
       "      <td>2.040119</td>\n",
       "      <td>8.938947</td>\n",
       "      <td>2.461138</td>\n",
       "      <td>...</td>\n",
       "      <td>14.975734</td>\n",
       "      <td>-500.704892</td>\n",
       "      <td>11.940294</td>\n",
       "      <td>-500.187742</td>\n",
       "      <td>10.988606</td>\n",
       "      <td>-500.458467</td>\n",
       "      <td>8.971105</td>\n",
       "      <td>-500.129462</td>\n",
       "      <td>14.983037</td>\n",
       "      <td>-500.728067</td>\n",
       "    </tr>\n",
       "    <tr>\n",
       "      <th>50%</th>\n",
       "      <td>NaN</td>\n",
       "      <td>5.066094</td>\n",
       "      <td>10.102433</td>\n",
       "      <td>9.218961</td>\n",
       "      <td>45.011244</td>\n",
       "      <td>68.172738</td>\n",
       "      <td>9.743623</td>\n",
       "      <td>2.748730</td>\n",
       "      <td>10.622456</td>\n",
       "      <td>2.984909</td>\n",
       "      <td>...</td>\n",
       "      <td>18.017481</td>\n",
       "      <td>-499.837793</td>\n",
       "      <td>14.971014</td>\n",
       "      <td>-499.459786</td>\n",
       "      <td>15.000036</td>\n",
       "      <td>-499.802605</td>\n",
       "      <td>11.019433</td>\n",
       "      <td>-499.935317</td>\n",
       "      <td>19.960541</td>\n",
       "      <td>-500.048400</td>\n",
       "    </tr>\n",
       "    <tr>\n",
       "      <th>75%</th>\n",
       "      <td>NaN</td>\n",
       "      <td>5.895527</td>\n",
       "      <td>11.035769</td>\n",
       "      <td>10.947813</td>\n",
       "      <td>46.275313</td>\n",
       "      <td>72.686642</td>\n",
       "      <td>11.134294</td>\n",
       "      <td>3.333216</td>\n",
       "      <td>12.104271</td>\n",
       "      <td>3.571351</td>\n",
       "      <td>...</td>\n",
       "      <td>23.012470</td>\n",
       "      <td>-498.249730</td>\n",
       "      <td>19.034162</td>\n",
       "      <td>-400.118106</td>\n",
       "      <td>18.026190</td>\n",
       "      <td>-498.384187</td>\n",
       "      <td>14.019088</td>\n",
       "      <td>-499.436708</td>\n",
       "      <td>24.003170</td>\n",
       "      <td>-499.495378</td>\n",
       "    </tr>\n",
       "    <tr>\n",
       "      <th>max</th>\n",
       "      <td>NaN</td>\n",
       "      <td>16.001945</td>\n",
       "      <td>17.031899</td>\n",
       "      <td>19.615720</td>\n",
       "      <td>52.756638</td>\n",
       "      <td>100.000000</td>\n",
       "      <td>19.552149</td>\n",
       "      <td>5.804178</td>\n",
       "      <td>22.317730</td>\n",
       "      <td>8.245022</td>\n",
       "      <td>...</td>\n",
       "      <td>30.115735</td>\n",
       "      <td>-245.239184</td>\n",
       "      <td>31.269706</td>\n",
       "      <td>-6.506986</td>\n",
       "      <td>43.709931</td>\n",
       "      <td>-244.483566</td>\n",
       "      <td>27.926001</td>\n",
       "      <td>-137.740004</td>\n",
       "      <td>32.188906</td>\n",
       "      <td>-104.427459</td>\n",
       "    </tr>\n",
       "  </tbody>\n",
       "</table>\n",
       "<p>11 rows × 87 columns</p>\n",
       "</div>"
      ],
      "text/plain": [
       "                       date  final.output.concentrate_ag  \\\n",
       "count                 19439                 19438.000000   \n",
       "unique                19439                          NaN   \n",
       "top     2017-08-28 01:59:59                          NaN   \n",
       "freq                      1                          NaN   \n",
       "mean                    NaN                     5.168470   \n",
       "std                     NaN                     1.372348   \n",
       "min                     NaN                     0.000000   \n",
       "25%                     NaN                     4.251240   \n",
       "50%                     NaN                     5.066094   \n",
       "75%                     NaN                     5.895527   \n",
       "max                     NaN                    16.001945   \n",
       "\n",
       "        final.output.concentrate_pb  final.output.concentrate_sol  \\\n",
       "count                  19438.000000                  19228.000000   \n",
       "unique                          NaN                           NaN   \n",
       "top                             NaN                           NaN   \n",
       "freq                            NaN                           NaN   \n",
       "mean                       9.978895                      9.501224   \n",
       "std                        1.669240                      2.787537   \n",
       "min                        0.000000                      0.000000   \n",
       "25%                        9.137262                      7.722820   \n",
       "50%                       10.102433                      9.218961   \n",
       "75%                       11.035769                     10.947813   \n",
       "max                       17.031899                     19.615720   \n",
       "\n",
       "        final.output.concentrate_au  final.output.recovery  \\\n",
       "count                  19439.000000           19439.000000   \n",
       "unique                          NaN                    NaN   \n",
       "top                             NaN                    NaN   \n",
       "freq                            NaN                    NaN   \n",
       "mean                      44.076513              67.050208   \n",
       "std                        5.129784              10.125840   \n",
       "min                        0.000000               0.000000   \n",
       "25%                       43.402215              63.299712   \n",
       "50%                       45.011244              68.172738   \n",
       "75%                       46.275313              72.686642   \n",
       "max                       52.756638             100.000000   \n",
       "\n",
       "        final.output.tail_ag  final.output.tail_pb  final.output.tail_sol  \\\n",
       "count           19438.000000          19338.000000           19433.000000   \n",
       "unique                   NaN                   NaN                    NaN   \n",
       "top                      NaN                   NaN                    NaN   \n",
       "freq                     NaN                   NaN                    NaN   \n",
       "mean                9.688589              2.705795              10.583728   \n",
       "std                 2.328642              0.949077               2.868782   \n",
       "min                 0.000000              0.000000               0.000000   \n",
       "25%                 8.062878              2.040119               8.938947   \n",
       "50%                 9.743623              2.748730              10.622456   \n",
       "75%                11.134294              3.333216              12.104271   \n",
       "max                19.552149              5.804178              22.317730   \n",
       "\n",
       "        final.output.tail_au  ...  secondary_cleaner.state.floatbank4_a_air  \\\n",
       "count           19439.000000  ...                              19433.000000   \n",
       "unique                   NaN  ...                                       NaN   \n",
       "top                      NaN  ...                                       NaN   \n",
       "freq                     NaN  ...                                       NaN   \n",
       "mean                3.042467  ...                                 18.987674   \n",
       "std                 0.922808  ...                                  5.411058   \n",
       "min                 0.000000  ...                                  0.000000   \n",
       "25%                 2.461138  ...                                 14.975734   \n",
       "50%                 2.984909  ...                                 18.017481   \n",
       "75%                 3.571351  ...                                 23.012470   \n",
       "max                 8.245022  ...                                 30.115735   \n",
       "\n",
       "        secondary_cleaner.state.floatbank4_a_level  \\\n",
       "count                                 19438.000000   \n",
       "unique                                         NaN   \n",
       "top                                            NaN   \n",
       "freq                                           NaN   \n",
       "mean                                   -485.894516   \n",
       "std                                      47.758570   \n",
       "min                                    -799.798523   \n",
       "25%                                    -500.704892   \n",
       "50%                                    -499.837793   \n",
       "75%                                    -498.249730   \n",
       "max                                    -245.239184   \n",
       "\n",
       "        secondary_cleaner.state.floatbank4_b_air  \\\n",
       "count                               19438.000000   \n",
       "unique                                       NaN   \n",
       "top                                          NaN   \n",
       "freq                                         NaN   \n",
       "mean                                   15.010366   \n",
       "std                                     4.890228   \n",
       "min                                     0.000000   \n",
       "25%                                    11.940294   \n",
       "50%                                    14.971014   \n",
       "75%                                    19.034162   \n",
       "max                                    31.269706   \n",
       "\n",
       "        secondary_cleaner.state.floatbank4_b_level  \\\n",
       "count                                 19438.000000   \n",
       "unique                                         NaN   \n",
       "top                                            NaN   \n",
       "freq                                           NaN   \n",
       "mean                                   -461.078636   \n",
       "std                                      67.405524   \n",
       "min                                    -800.836914   \n",
       "25%                                    -500.187742   \n",
       "50%                                    -499.459786   \n",
       "75%                                    -400.118106   \n",
       "max                                      -6.506986   \n",
       "\n",
       "        secondary_cleaner.state.floatbank5_a_air  \\\n",
       "count                               19438.000000   \n",
       "unique                                       NaN   \n",
       "top                                          NaN   \n",
       "freq                                         NaN   \n",
       "mean                                   15.694452   \n",
       "std                                     5.510974   \n",
       "min                                    -0.372054   \n",
       "25%                                    10.988606   \n",
       "50%                                    15.000036   \n",
       "75%                                    18.026190   \n",
       "max                                    43.709931   \n",
       "\n",
       "        secondary_cleaner.state.floatbank5_a_level  \\\n",
       "count                                 19438.000000   \n",
       "unique                                         NaN   \n",
       "top                                            NaN   \n",
       "freq                                           NaN   \n",
       "mean                                   -488.684065   \n",
       "std                                      34.533396   \n",
       "min                                    -797.323986   \n",
       "25%                                    -500.458467   \n",
       "50%                                    -499.802605   \n",
       "75%                                    -498.384187   \n",
       "max                                    -244.483566   \n",
       "\n",
       "        secondary_cleaner.state.floatbank5_b_air  \\\n",
       "count                               19438.000000   \n",
       "unique                                       NaN   \n",
       "top                                          NaN   \n",
       "freq                                         NaN   \n",
       "mean                                   12.198224   \n",
       "std                                     5.333024   \n",
       "min                                     0.528083   \n",
       "25%                                     8.971105   \n",
       "50%                                    11.019433   \n",
       "75%                                    14.019088   \n",
       "max                                    27.926001   \n",
       "\n",
       "        secondary_cleaner.state.floatbank5_b_level  \\\n",
       "count                                 19438.000000   \n",
       "unique                                         NaN   \n",
       "top                                            NaN   \n",
       "freq                                           NaN   \n",
       "mean                                   -487.149827   \n",
       "std                                      38.347312   \n",
       "min                                    -800.220337   \n",
       "25%                                    -500.129462   \n",
       "50%                                    -499.935317   \n",
       "75%                                    -499.436708   \n",
       "max                                    -137.740004   \n",
       "\n",
       "        secondary_cleaner.state.floatbank6_a_air  \\\n",
       "count                               19437.000000   \n",
       "unique                                       NaN   \n",
       "top                                          NaN   \n",
       "freq                                         NaN   \n",
       "mean                                   18.959024   \n",
       "std                                     5.550498   \n",
       "min                                    -0.079426   \n",
       "25%                                    14.983037   \n",
       "50%                                    19.960541   \n",
       "75%                                    24.003170   \n",
       "max                                    32.188906   \n",
       "\n",
       "        secondary_cleaner.state.floatbank6_a_level  \n",
       "count                                 19438.000000  \n",
       "unique                                         NaN  \n",
       "top                                            NaN  \n",
       "freq                                           NaN  \n",
       "mean                                   -505.436305  \n",
       "std                                      37.689057  \n",
       "min                                    -809.741464  \n",
       "25%                                    -500.728067  \n",
       "50%                                    -500.048400  \n",
       "75%                                    -499.495378  \n",
       "max                                    -104.427459  \n",
       "\n",
       "[11 rows x 87 columns]"
      ]
     },
     "metadata": {},
     "output_type": "display_data"
    },
    {
     "name": "stdout",
     "output_type": "stream",
     "text": [
      "Размерность: (19439, 87)\n"
     ]
    },
    {
     "data": {
      "text/plain": [
       "'Количество пропущенных значений:'"
      ]
     },
     "metadata": {},
     "output_type": "display_data"
    },
    {
     "data": {
      "text/plain": [
       "date                                            0\n",
       "final.output.concentrate_ag                     1\n",
       "final.output.concentrate_pb                     1\n",
       "final.output.concentrate_sol                  211\n",
       "final.output.concentrate_au                     0\n",
       "                                             ... \n",
       "secondary_cleaner.state.floatbank5_a_level      1\n",
       "secondary_cleaner.state.floatbank5_b_air        1\n",
       "secondary_cleaner.state.floatbank5_b_level      1\n",
       "secondary_cleaner.state.floatbank6_a_air        2\n",
       "secondary_cleaner.state.floatbank6_a_level      1\n",
       "Length: 87, dtype: int64"
      ]
     },
     "metadata": {},
     "output_type": "display_data"
    },
    {
     "name": "stdout",
     "output_type": "stream",
     "text": [
      "Количество  дубликатов строк: 0\n"
     ]
    }
   ],
   "source": [
    "for data in data_list:\n",
    "    \n",
    "    display (data.head())\n",
    "    display (data.info())\n",
    "    display (data.describe(include='all'))\n",
    "    print ('Размерность:', data.shape)\n",
    "    display ('Количество пропущенных значений:', data.isna().sum())\n",
    "    print ('Количество  дубликатов строк:', data.duplicated().sum())"
   ]
  },
  {
   "cell_type": "markdown",
   "metadata": {},
   "source": [
    "#### Проверим , что эффективность обогащения рассчитана правильно. Вычислим  её на обучающей выборке для признака rougher.output.recovery. Найдем среднее абсолютное отклонение/MAE между  нашими расчётами и значением признака."
   ]
  },
  {
   "cell_type": "code",
   "execution_count": 5,
   "metadata": {},
   "outputs": [
    {
     "name": "stdout",
     "output_type": "stream",
     "text": [
      "9.73512347450521e-15\n"
     ]
    }
   ],
   "source": [
    "C = df_train['rougher.output.concentrate_au'] # доля золота в концентрате после флотации\n",
    "F = df_train['rougher.input.feed_au'] # доля золота в сырье до флотации\n",
    "T = df_train['rougher.output.tail_au'] # доля золота в отвальных хвостах после флотации\n",
    "\n",
    "df_train['recovery_calculate'] = ((C*(F-T))/(F*(C-T)))*100 # добавим столбец с расчетами\n",
    "MAE = mean_absolute_error(df_train['recovery_calculate'], df_train['rougher.output.recovery']) # среднее абсолютное отклонение/MAE\n",
    "print(MAE)"
   ]
  },
  {
   "cell_type": "markdown",
   "metadata": {},
   "source": [
    "#### Величина среднего абсолютного отклонения очень маленькая, это подтверждает, что эффективность обогащения рассчитана правильно."
   ]
  },
  {
   "cell_type": "markdown",
   "metadata": {},
   "source": [
    "#### Проанализируем признаки, недоступные в тестовой выборке."
   ]
  },
  {
   "cell_type": "code",
   "execution_count": 6,
   "metadata": {},
   "outputs": [
    {
     "data": {
      "text/plain": [
       "['final.output.concentrate_ag',\n",
       " 'final.output.concentrate_pb',\n",
       " 'final.output.concentrate_sol',\n",
       " 'final.output.concentrate_au',\n",
       " 'final.output.recovery',\n",
       " 'final.output.tail_ag',\n",
       " 'final.output.tail_pb',\n",
       " 'final.output.tail_sol',\n",
       " 'final.output.tail_au',\n",
       " 'primary_cleaner.output.concentrate_ag',\n",
       " 'primary_cleaner.output.concentrate_pb',\n",
       " 'primary_cleaner.output.concentrate_sol',\n",
       " 'primary_cleaner.output.concentrate_au',\n",
       " 'primary_cleaner.output.tail_ag',\n",
       " 'primary_cleaner.output.tail_pb',\n",
       " 'primary_cleaner.output.tail_sol',\n",
       " 'primary_cleaner.output.tail_au',\n",
       " 'rougher.calculation.sulfate_to_au_concentrate',\n",
       " 'rougher.calculation.floatbank10_sulfate_to_au_feed',\n",
       " 'rougher.calculation.floatbank11_sulfate_to_au_feed',\n",
       " 'rougher.calculation.au_pb_ratio',\n",
       " 'rougher.output.concentrate_ag',\n",
       " 'rougher.output.concentrate_pb',\n",
       " 'rougher.output.concentrate_sol',\n",
       " 'rougher.output.concentrate_au',\n",
       " 'rougher.output.recovery',\n",
       " 'rougher.output.tail_ag',\n",
       " 'rougher.output.tail_pb',\n",
       " 'rougher.output.tail_sol',\n",
       " 'rougher.output.tail_au',\n",
       " 'secondary_cleaner.output.tail_ag',\n",
       " 'secondary_cleaner.output.tail_pb',\n",
       " 'secondary_cleaner.output.tail_sol',\n",
       " 'secondary_cleaner.output.tail_au',\n",
       " 'recovery_calculate']"
      ]
     },
     "execution_count": 6,
     "metadata": {},
     "output_type": "execute_result"
    }
   ],
   "source": [
    "list_difference = [element for element in df_train.columns if element not in df_test.columns]\n",
    "list_difference"
   ]
  },
  {
   "cell_type": "markdown",
   "metadata": {},
   "source": [
    "####  В тестовой выборке отсутсвуют признаки, которые относятся к вторичным стадиям обогащения и расчетные характеристики, относящиеся к разным этапам, которые невозможно получить во время выполнения технологического процесса."
   ]
  },
  {
   "cell_type": "markdown",
   "metadata": {},
   "source": [
    "#### Проведем обработку пропусков  в выборках.  Пропуски в целевых признаках 'rougher.output.recovery','final.output.recovery' отсутсвуют, остальные пропуски  заполним, пользуясь тем, что соседние по времени параметры часто похожи. Заполним пропуски соответствующими значениями в предыдущем ряду методом ffill."
   ]
  },
  {
   "cell_type": "code",
   "execution_count": 7,
   "metadata": {},
   "outputs": [
    {
     "data": {
      "text/plain": [
       "'Количество пропущенных значений:'"
      ]
     },
     "metadata": {},
     "output_type": "display_data"
    },
    {
     "data": {
      "text/plain": [
       "0"
      ]
     },
     "metadata": {},
     "output_type": "display_data"
    },
    {
     "data": {
      "text/plain": [
       "'Количество пропущенных значений:'"
      ]
     },
     "metadata": {},
     "output_type": "display_data"
    },
    {
     "data": {
      "text/plain": [
       "0"
      ]
     },
     "metadata": {},
     "output_type": "display_data"
    },
    {
     "data": {
      "text/plain": [
       "'Количество пропущенных значений:'"
      ]
     },
     "metadata": {},
     "output_type": "display_data"
    },
    {
     "data": {
      "text/plain": [
       "0"
      ]
     },
     "metadata": {},
     "output_type": "display_data"
    }
   ],
   "source": [
    "for data in data_list:\n",
    "    data.ffill(axis='rows', inplace=True)\n",
    "    display ('Количество пропущенных значений:', data.isna().sum().sum())"
   ]
  },
  {
   "cell_type": "markdown",
   "metadata": {},
   "source": [
    "### Изучили и подготовили данные для дальнейших исследований\n",
    "*  Дубликаты строк в выборках отсутсвуют. \n",
    "*  Типы столбцов, названия столбцов - корректны.\n",
    "*  Убедились, что эффективность обогащения  (параметр rougher.output.recovery) рассчитана  правильно.\n",
    "*  В тестовой выборке отсутсвуют признаки, которые относятся к вторичным стадиям обогащения и расчетные характеристики.\n",
    "*  В тестовой выборке отсутсвуют целевые переменные 'rougher.output.recovery', 'final.output.recovery'.\n",
    "*  Провели  обработку пропусков в выборках, заполнили пропуски методом ffill."
   ]
  },
  {
   "cell_type": "markdown",
   "metadata": {},
   "source": [
    "## Анализ данных"
   ]
  },
  {
   "cell_type": "markdown",
   "metadata": {},
   "source": [
    "#### Посмотрим как меняется концентрация металлов (Au, Ag, Pb) на различных этапах очистки."
   ]
  },
  {
   "cell_type": "code",
   "execution_count": 8,
   "metadata": {},
   "outputs": [
    {
     "data": {
      "text/plain": [
       "Text(0.5, 0, 'Стадии очистки')"
      ]
     },
     "execution_count": 8,
     "metadata": {},
     "output_type": "execute_result"
    },
    {
     "data": {
      "image/png": "[encoded data removed]",
      "text/plain": [
       "<Figure size 1440x360 with 3 Axes>"
      ]
     },
     "metadata": {
      "needs_background": "light"
     },
     "output_type": "display_data"
    }
   ],
   "source": [
    "df_au = df_full[['rougher.input.feed_au','rougher.output.concentrate_au', \n",
    "              'primary_cleaner.output.concentrate_au', \n",
    "              'final.output.concentrate_au']].rename(columns={'rougher.input.feed_au': 'исходное сырье',\n",
    "                                                               'rougher.output.concentrate_au': 'флотация', \n",
    "                                                               'primary_cleaner.output.concentrate_au': 'первичная очистка', \n",
    "                                                               'final.output.concentrate_au': 'финальная очистка'})\n",
    "df_ag = df_full[['rougher.input.feed_ag','rougher.output.concentrate_ag', \n",
    "              'primary_cleaner.output.concentrate_ag', \n",
    "              'final.output.concentrate_ag']].rename(columns={'rougher.input.feed_ag': 'исходное сырье',\n",
    "                                                               'rougher.output.concentrate_ag': 'флотация', \n",
    "                                                               'primary_cleaner.output.concentrate_ag': 'первичная очистка', \n",
    "                                                               'final.output.concentrate_ag': 'финальная очистка'})\n",
    "\n",
    "df_pb = df_full[['rougher.input.feed_pb','rougher.output.concentrate_pb', \n",
    "              'primary_cleaner.output.concentrate_pb', \n",
    "              'final.output.concentrate_pb']].rename(columns={'rougher.input.feed_pb': 'исходное сырье',\n",
    "                                                               'rougher.output.concentrate_pb': 'флотация', \n",
    "                                                               'primary_cleaner.output.concentrate_pb': 'первичная очистка', \n",
    "                                                               'final.output.concentrate_pb': 'финальная очистка'})\n",
    "\n",
    "fig, (ax1, ax2, ax3) = plt.subplots(1, 3, figsize=(20, 5))\n",
    "fig.suptitle('Концентрация металлов на различных этапах очистки.', fontsize=20)\n",
    "\n",
    "sns.violinplot(data=df_ag, ax=ax1)\n",
    "ax1.set_title('Серебро (Ag)', fontsize=16)\n",
    "ax1.set_ylabel('Концентрация металла', fontsize=14)\n",
    "ax1.set_xlabel('Стадии очистки', fontsize=14)\n",
    "sns.violinplot(data=df_au, ax=ax2)\n",
    "ax2.set_title('Золото (Au)', fontsize=16)\n",
    "ax2.set_ylabel('Концентрация металла', fontsize=14)\n",
    "ax2.set_xlabel('Стадии очистки', fontsize=14)\n",
    "sns.violinplot(data=df_pb, ax=ax3)\n",
    "ax3.set_title('Свинец (Pb)', fontsize=16)\n",
    "ax3.set_ylabel('Концентрация металла', fontsize=14)\n",
    "ax3.set_xlabel('Стадии очистки', fontsize=14)"
   ]
  },
  {
   "cell_type": "markdown",
   "metadata": {},
   "source": [
    "####  По мере прохождения технологического процесса увеличивается концентрация золота и свинца и уменьшение концентрации серебра. "
   ]
  },
  {
   "cell_type": "markdown",
   "metadata": {},
   "source": [
    "#### Сравним распределения размеров гранул сырья на обучающей и тестовой выборках."
   ]
  },
  {
   "cell_type": "code",
   "execution_count": 9,
   "metadata": {},
   "outputs": [
    {
     "name": "stdout",
     "output_type": "stream",
     "text": [
      "count    14149.000000\n",
      "mean        60.239856\n",
      "std         23.005310\n",
      "min          9.659576\n",
      "25%         48.966751\n",
      "50%         55.269784\n",
      "75%         66.007526\n",
      "max        484.967466\n",
      "Name: rougher.input.feed_size, dtype: float64\n",
      "count    5290.000000\n",
      "mean       55.952754\n",
      "std        19.080334\n",
      "min         0.046369\n",
      "25%        43.906504\n",
      "50%        50.846843\n",
      "75%        62.451165\n",
      "max       392.494040\n",
      "Name: rougher.input.feed_size, dtype: float64\n"
     ]
    },
    {
     "data": {
      "text/plain": [
       "<matplotlib.legend.Legend at 0x7f236c10c100>"
      ]
     },
     "execution_count": 9,
     "metadata": {},
     "output_type": "execute_result"
    },
    {
     "data": {
      "image/png": "[encoded data removed]",
      "text/plain": [
       "<Figure size 1152x576 with 1 Axes>"
      ]
     },
     "metadata": {
      "needs_background": "light"
     },
     "output_type": "display_data"
    }
   ],
   "source": [
    "print(df_train['rougher.input.feed_size'].describe())\n",
    "print(df_test['rougher.input.feed_size'].describe())\n",
    "\n",
    "\n",
    "plt.subplots(figsize = (16,8))\n",
    "sns.kdeplot(data=df_train['rougher.input.feed_size'], label='df_train')\n",
    "sns.kdeplot(data=df_test['rougher.input.feed_size'], label='df_test')\n",
    "plt.title('Размер гранул', fontsize=20)\n",
    "plt.legend()\n"
   ]
  },
  {
   "cell_type": "markdown",
   "metadata": {},
   "source": [
    "#### Cредний размер гранул на обучающей выборке 60,  на тестовой - 56. Bизуально значительных отличий нет. Cчитаем, что распределения  равны."
   ]
  },
  {
   "cell_type": "markdown",
   "metadata": {},
   "source": [
    "#### Исследуем суммарную концентрацию всех веществ на разных стадиях: в сырье, в черновом и финальном концентратах."
   ]
  },
  {
   "cell_type": "code",
   "execution_count": 10,
   "metadata": {},
   "outputs": [
    {
     "data": {
      "text/plain": [
       "Text(0.5, 1.0, 'Финальная очистка')"
      ]
     },
     "execution_count": 10,
     "metadata": {},
     "output_type": "execute_result"
    },
    {
     "data": {
      "image/png": "[encoded data removed]",
      "text/plain": [
       "<Figure size 1080x504 with 4 Axes>"
      ]
     },
     "metadata": {
      "needs_background": "light"
     },
     "output_type": "display_data"
    }
   ],
   "source": [
    "df_train['input_feed_sum'] = df_train[['rougher.input.feed_ag', \n",
    "                             'rougher.input.feed_pb', \n",
    "                             'rougher.input.feed_sol', \n",
    "                             'rougher.input.feed_au']].sum(axis=1)\n",
    "\n",
    "df_train['rougher_output_sum'] = df_train[['rougher.output.concentrate_pb', \n",
    "                                 'rougher.output.concentrate_ag', \n",
    "                                 'rougher.output.concentrate_sol', \n",
    "                                 'rougher.output.concentrate_au']].sum(axis=1)\n",
    "\n",
    "df_train['primary_cleaner_output_sum'] = df_train[['primary_cleaner.output.concentrate_pb', \n",
    "                                         'primary_cleaner.output.concentrate_ag', \n",
    "                                         'primary_cleaner.output.concentrate_sol', \n",
    "                                         'primary_cleaner.output.concentrate_au']].sum(axis=1)\n",
    "\n",
    "df_train['final_output_sum'] = df_train[['final.output.concentrate_pb', \n",
    "                               'final.output.concentrate_ag', \n",
    "                               'final.output.concentrate_sol', \n",
    "                                'final.output.concentrate_au']].sum(axis=1)\n",
    "\n",
    "fig, axes = plt.subplots(2, 2, figsize=(15, 7), sharex=True)\n",
    "fig.suptitle('Суммарная концентрация всех вещевств', fontsize=20)\n",
    "sns.distplot(df_train['input_feed_sum'], ax=axes[0, 0])\n",
    "axes[0, 0].set_title('Исходное сырье', fontsize=16)\n",
    "sns.distplot(df_train['rougher_output_sum'], ax=axes[0, 1])\n",
    "axes[0, 1].set_title('Флотация', fontsize=16)\n",
    "sns.distplot(df_train['primary_cleaner_output_sum'], ax=axes[1, 0])\n",
    "axes[1, 0].set_title('Первичная очистка', fontsize=16)\n",
    "sns.distplot(df_train['final_output_sum'], ax=axes[1, 1])\n",
    "axes[1, 1].set_title('Финальная очистка', fontsize=16)"
   ]
  },
  {
   "cell_type": "markdown",
   "metadata": {},
   "source": [
    "#### Присутсвует много аномальных значений  суммарной концентрации  веществ в районе нуля на этапе флотации, первичной  очистки и финальной очистки.  Такие аномали могли появиться в результате сбоя оборудования. Удалим строки из нашей  выборки содержащие   аномальные значения."
   ]
  },
  {
   "cell_type": "code",
   "execution_count": 11,
   "metadata": {},
   "outputs": [
    {
     "name": "stdout",
     "output_type": "stream",
     "text": [
      "(13725, 92)\n"
     ]
    }
   ],
   "source": [
    "df_train = df_train.loc[(df_train['rougher_output_sum'] > 0) & (df_train['primary_cleaner_output_sum'] > 0) & \n",
    "                                                                     (df_train['final_output_sum'] > 0)]  \n",
    "print(df_train.shape)"
   ]
  },
  {
   "cell_type": "markdown",
   "metadata": {},
   "source": [
    "### Провели анализ данных\n",
    "*  Посмотрели  как меняется концентрация металлов (Au, Ag, Pb) на различных этапах очистки.\n",
    "*  Концентрация золота значительно растет по мере прохождения технологического процесса. \n",
    "*  Изучили распределения размеров гранул сырья на обучающей и тестовой выборках.Cчитаем, что распределения равны.\n",
    "*  Исследовали  суммарную концентрацию всех веществ на разных стадиях.\n",
    "*  Обнаружили аномальные значений суммарной концентрации веществ в районе нуля. Удалили аномалии."
   ]
  },
  {
   "cell_type": "markdown",
   "metadata": {},
   "source": [
    "## Модель"
   ]
  },
  {
   "cell_type": "markdown",
   "metadata": {},
   "source": [
    "#### Добавим целевые признаки  \"rougher.output.recovery\", \"final.output.recovery\"  в тестовую выборку."
   ]
  },
  {
   "cell_type": "code",
   "execution_count": 12,
   "metadata": {},
   "outputs": [
    {
     "name": "stdout",
     "output_type": "stream",
     "text": [
      "(5290, 54)\n"
     ]
    },
    {
     "data": {
      "text/html": [
       "<div>\n",
       "<style scoped>\n",
       "    .dataframe tbody tr th:only-of-type {\n",
       "        vertical-align: middle;\n",
       "    }\n",
       "\n",
       "    .dataframe tbody tr th {\n",
       "        vertical-align: top;\n",
       "    }\n",
       "\n",
       "    .dataframe thead th {\n",
       "        text-align: right;\n",
       "    }\n",
       "</style>\n",
       "<table border=\"1\" class=\"dataframe\">\n",
       "  <thead>\n",
       "    <tr style=\"text-align: right;\">\n",
       "      <th></th>\n",
       "      <th>primary_cleaner.input.sulfate</th>\n",
       "      <th>primary_cleaner.input.depressant</th>\n",
       "      <th>primary_cleaner.input.feed_size</th>\n",
       "      <th>primary_cleaner.input.xanthate</th>\n",
       "      <th>primary_cleaner.state.floatbank8_a_air</th>\n",
       "      <th>primary_cleaner.state.floatbank8_a_level</th>\n",
       "      <th>primary_cleaner.state.floatbank8_b_air</th>\n",
       "      <th>primary_cleaner.state.floatbank8_b_level</th>\n",
       "      <th>primary_cleaner.state.floatbank8_c_air</th>\n",
       "      <th>primary_cleaner.state.floatbank8_c_level</th>\n",
       "      <th>...</th>\n",
       "      <th>secondary_cleaner.state.floatbank4_b_air</th>\n",
       "      <th>secondary_cleaner.state.floatbank4_b_level</th>\n",
       "      <th>secondary_cleaner.state.floatbank5_a_air</th>\n",
       "      <th>secondary_cleaner.state.floatbank5_a_level</th>\n",
       "      <th>secondary_cleaner.state.floatbank5_b_air</th>\n",
       "      <th>secondary_cleaner.state.floatbank5_b_level</th>\n",
       "      <th>secondary_cleaner.state.floatbank6_a_air</th>\n",
       "      <th>secondary_cleaner.state.floatbank6_a_level</th>\n",
       "      <th>rougher.output.recovery</th>\n",
       "      <th>final.output.recovery</th>\n",
       "    </tr>\n",
       "  </thead>\n",
       "  <tbody>\n",
       "    <tr>\n",
       "      <th>0</th>\n",
       "      <td>210.800909</td>\n",
       "      <td>14.993118</td>\n",
       "      <td>8.080000</td>\n",
       "      <td>1.005021</td>\n",
       "      <td>1398.981301</td>\n",
       "      <td>-500.225577</td>\n",
       "      <td>1399.144926</td>\n",
       "      <td>-499.919735</td>\n",
       "      <td>1400.102998</td>\n",
       "      <td>-500.704369</td>\n",
       "      <td>...</td>\n",
       "      <td>8.016656</td>\n",
       "      <td>-501.289139</td>\n",
       "      <td>7.946562</td>\n",
       "      <td>-432.317850</td>\n",
       "      <td>4.872511</td>\n",
       "      <td>-500.037437</td>\n",
       "      <td>26.705889</td>\n",
       "      <td>-499.709414</td>\n",
       "      <td>89.993421</td>\n",
       "      <td>70.273583</td>\n",
       "    </tr>\n",
       "    <tr>\n",
       "      <th>1</th>\n",
       "      <td>215.392455</td>\n",
       "      <td>14.987471</td>\n",
       "      <td>8.080000</td>\n",
       "      <td>0.990469</td>\n",
       "      <td>1398.777912</td>\n",
       "      <td>-500.057435</td>\n",
       "      <td>1398.055362</td>\n",
       "      <td>-499.778182</td>\n",
       "      <td>1396.151033</td>\n",
       "      <td>-499.240168</td>\n",
       "      <td>...</td>\n",
       "      <td>8.130979</td>\n",
       "      <td>-499.634209</td>\n",
       "      <td>7.958270</td>\n",
       "      <td>-525.839648</td>\n",
       "      <td>4.878850</td>\n",
       "      <td>-500.162375</td>\n",
       "      <td>25.019940</td>\n",
       "      <td>-499.819438</td>\n",
       "      <td>88.089657</td>\n",
       "      <td>68.910432</td>\n",
       "    </tr>\n",
       "    <tr>\n",
       "      <th>2</th>\n",
       "      <td>215.259946</td>\n",
       "      <td>12.884934</td>\n",
       "      <td>7.786667</td>\n",
       "      <td>0.996043</td>\n",
       "      <td>1398.493666</td>\n",
       "      <td>-500.868360</td>\n",
       "      <td>1398.860436</td>\n",
       "      <td>-499.764529</td>\n",
       "      <td>1398.075709</td>\n",
       "      <td>-502.151509</td>\n",
       "      <td>...</td>\n",
       "      <td>8.096893</td>\n",
       "      <td>-500.827423</td>\n",
       "      <td>8.071056</td>\n",
       "      <td>-500.801673</td>\n",
       "      <td>4.905125</td>\n",
       "      <td>-499.828510</td>\n",
       "      <td>24.994862</td>\n",
       "      <td>-500.622559</td>\n",
       "      <td>88.412756</td>\n",
       "      <td>68.143213</td>\n",
       "    </tr>\n",
       "    <tr>\n",
       "      <th>3</th>\n",
       "      <td>215.336236</td>\n",
       "      <td>12.006805</td>\n",
       "      <td>7.640000</td>\n",
       "      <td>0.863514</td>\n",
       "      <td>1399.618111</td>\n",
       "      <td>-498.863574</td>\n",
       "      <td>1397.440120</td>\n",
       "      <td>-499.211024</td>\n",
       "      <td>1400.129303</td>\n",
       "      <td>-498.355873</td>\n",
       "      <td>...</td>\n",
       "      <td>8.074946</td>\n",
       "      <td>-499.474407</td>\n",
       "      <td>7.897085</td>\n",
       "      <td>-500.868509</td>\n",
       "      <td>4.931400</td>\n",
       "      <td>-499.963623</td>\n",
       "      <td>24.948919</td>\n",
       "      <td>-498.709987</td>\n",
       "      <td>87.360133</td>\n",
       "      <td>67.776393</td>\n",
       "    </tr>\n",
       "    <tr>\n",
       "      <th>4</th>\n",
       "      <td>199.099327</td>\n",
       "      <td>10.682530</td>\n",
       "      <td>7.530000</td>\n",
       "      <td>0.805575</td>\n",
       "      <td>1401.268123</td>\n",
       "      <td>-500.808305</td>\n",
       "      <td>1398.128818</td>\n",
       "      <td>-499.504543</td>\n",
       "      <td>1402.172226</td>\n",
       "      <td>-500.810606</td>\n",
       "      <td>...</td>\n",
       "      <td>8.054678</td>\n",
       "      <td>-500.397500</td>\n",
       "      <td>8.107890</td>\n",
       "      <td>-509.526725</td>\n",
       "      <td>4.957674</td>\n",
       "      <td>-500.360026</td>\n",
       "      <td>25.003331</td>\n",
       "      <td>-500.856333</td>\n",
       "      <td>83.236367</td>\n",
       "      <td>61.467078</td>\n",
       "    </tr>\n",
       "  </tbody>\n",
       "</table>\n",
       "<p>5 rows × 54 columns</p>\n",
       "</div>"
      ],
      "text/plain": [
       "   primary_cleaner.input.sulfate  primary_cleaner.input.depressant  \\\n",
       "0                     210.800909                         14.993118   \n",
       "1                     215.392455                         14.987471   \n",
       "2                     215.259946                         12.884934   \n",
       "3                     215.336236                         12.006805   \n",
       "4                     199.099327                         10.682530   \n",
       "\n",
       "   primary_cleaner.input.feed_size  primary_cleaner.input.xanthate  \\\n",
       "0                         8.080000                        1.005021   \n",
       "1                         8.080000                        0.990469   \n",
       "2                         7.786667                        0.996043   \n",
       "3                         7.640000                        0.863514   \n",
       "4                         7.530000                        0.805575   \n",
       "\n",
       "   primary_cleaner.state.floatbank8_a_air  \\\n",
       "0                             1398.981301   \n",
       "1                             1398.777912   \n",
       "2                             1398.493666   \n",
       "3                             1399.618111   \n",
       "4                             1401.268123   \n",
       "\n",
       "   primary_cleaner.state.floatbank8_a_level  \\\n",
       "0                               -500.225577   \n",
       "1                               -500.057435   \n",
       "2                               -500.868360   \n",
       "3                               -498.863574   \n",
       "4                               -500.808305   \n",
       "\n",
       "   primary_cleaner.state.floatbank8_b_air  \\\n",
       "0                             1399.144926   \n",
       "1                             1398.055362   \n",
       "2                             1398.860436   \n",
       "3                             1397.440120   \n",
       "4                             1398.128818   \n",
       "\n",
       "   primary_cleaner.state.floatbank8_b_level  \\\n",
       "0                               -499.919735   \n",
       "1                               -499.778182   \n",
       "2                               -499.764529   \n",
       "3                               -499.211024   \n",
       "4                               -499.504543   \n",
       "\n",
       "   primary_cleaner.state.floatbank8_c_air  \\\n",
       "0                             1400.102998   \n",
       "1                             1396.151033   \n",
       "2                             1398.075709   \n",
       "3                             1400.129303   \n",
       "4                             1402.172226   \n",
       "\n",
       "   primary_cleaner.state.floatbank8_c_level  ...  \\\n",
       "0                               -500.704369  ...   \n",
       "1                               -499.240168  ...   \n",
       "2                               -502.151509  ...   \n",
       "3                               -498.355873  ...   \n",
       "4                               -500.810606  ...   \n",
       "\n",
       "   secondary_cleaner.state.floatbank4_b_air  \\\n",
       "0                                  8.016656   \n",
       "1                                  8.130979   \n",
       "2                                  8.096893   \n",
       "3                                  8.074946   \n",
       "4                                  8.054678   \n",
       "\n",
       "   secondary_cleaner.state.floatbank4_b_level  \\\n",
       "0                                 -501.289139   \n",
       "1                                 -499.634209   \n",
       "2                                 -500.827423   \n",
       "3                                 -499.474407   \n",
       "4                                 -500.397500   \n",
       "\n",
       "   secondary_cleaner.state.floatbank5_a_air  \\\n",
       "0                                  7.946562   \n",
       "1                                  7.958270   \n",
       "2                                  8.071056   \n",
       "3                                  7.897085   \n",
       "4                                  8.107890   \n",
       "\n",
       "   secondary_cleaner.state.floatbank5_a_level  \\\n",
       "0                                 -432.317850   \n",
       "1                                 -525.839648   \n",
       "2                                 -500.801673   \n",
       "3                                 -500.868509   \n",
       "4                                 -509.526725   \n",
       "\n",
       "   secondary_cleaner.state.floatbank5_b_air  \\\n",
       "0                                  4.872511   \n",
       "1                                  4.878850   \n",
       "2                                  4.905125   \n",
       "3                                  4.931400   \n",
       "4                                  4.957674   \n",
       "\n",
       "   secondary_cleaner.state.floatbank5_b_level  \\\n",
       "0                                 -500.037437   \n",
       "1                                 -500.162375   \n",
       "2                                 -499.828510   \n",
       "3                                 -499.963623   \n",
       "4                                 -500.360026   \n",
       "\n",
       "   secondary_cleaner.state.floatbank6_a_air  \\\n",
       "0                                 26.705889   \n",
       "1                                 25.019940   \n",
       "2                                 24.994862   \n",
       "3                                 24.948919   \n",
       "4                                 25.003331   \n",
       "\n",
       "   secondary_cleaner.state.floatbank6_a_level  rougher.output.recovery  \\\n",
       "0                                 -499.709414                89.993421   \n",
       "1                                 -499.819438                88.089657   \n",
       "2                                 -500.622559                88.412756   \n",
       "3                                 -498.709987                87.360133   \n",
       "4                                 -500.856333                83.236367   \n",
       "\n",
       "   final.output.recovery  \n",
       "0              70.273583  \n",
       "1              68.910432  \n",
       "2              68.143213  \n",
       "3              67.776393  \n",
       "4              61.467078  \n",
       "\n",
       "[5 rows x 54 columns]"
      ]
     },
     "metadata": {},
     "output_type": "display_data"
    }
   ],
   "source": [
    "df_test = df_test.merge(df_full[['date', 'rougher.output.recovery', 'final.output.recovery']], how = 'left', on = 'date')\n",
    "df_test.drop(['date'], axis=1, inplace=True)\n",
    "\n",
    "print(df_test.shape)\n",
    "display(df_test.head())"
   ]
  },
  {
   "cell_type": "markdown",
   "metadata": {},
   "source": [
    "#### Удалим из тренировочной выборки  признаки, которые невозможно получить во время выполнения технологического процесса. Эти признаки отсутсвуют в тестовой  выборке."
   ]
  },
  {
   "cell_type": "code",
   "execution_count": 13,
   "metadata": {},
   "outputs": [
    {
     "name": "stdout",
     "output_type": "stream",
     "text": [
      "(13725, 54)\n"
     ]
    },
    {
     "data": {
      "text/html": [
       "<div>\n",
       "<style scoped>\n",
       "    .dataframe tbody tr th:only-of-type {\n",
       "        vertical-align: middle;\n",
       "    }\n",
       "\n",
       "    .dataframe tbody tr th {\n",
       "        vertical-align: top;\n",
       "    }\n",
       "\n",
       "    .dataframe thead th {\n",
       "        text-align: right;\n",
       "    }\n",
       "</style>\n",
       "<table border=\"1\" class=\"dataframe\">\n",
       "  <thead>\n",
       "    <tr style=\"text-align: right;\">\n",
       "      <th></th>\n",
       "      <th>final.output.recovery</th>\n",
       "      <th>primary_cleaner.input.sulfate</th>\n",
       "      <th>primary_cleaner.input.depressant</th>\n",
       "      <th>primary_cleaner.input.feed_size</th>\n",
       "      <th>primary_cleaner.input.xanthate</th>\n",
       "      <th>primary_cleaner.state.floatbank8_a_air</th>\n",
       "      <th>primary_cleaner.state.floatbank8_a_level</th>\n",
       "      <th>primary_cleaner.state.floatbank8_b_air</th>\n",
       "      <th>primary_cleaner.state.floatbank8_b_level</th>\n",
       "      <th>primary_cleaner.state.floatbank8_c_air</th>\n",
       "      <th>...</th>\n",
       "      <th>secondary_cleaner.state.floatbank4_a_air</th>\n",
       "      <th>secondary_cleaner.state.floatbank4_a_level</th>\n",
       "      <th>secondary_cleaner.state.floatbank4_b_air</th>\n",
       "      <th>secondary_cleaner.state.floatbank4_b_level</th>\n",
       "      <th>secondary_cleaner.state.floatbank5_a_air</th>\n",
       "      <th>secondary_cleaner.state.floatbank5_a_level</th>\n",
       "      <th>secondary_cleaner.state.floatbank5_b_air</th>\n",
       "      <th>secondary_cleaner.state.floatbank5_b_level</th>\n",
       "      <th>secondary_cleaner.state.floatbank6_a_air</th>\n",
       "      <th>secondary_cleaner.state.floatbank6_a_level</th>\n",
       "    </tr>\n",
       "  </thead>\n",
       "  <tbody>\n",
       "    <tr>\n",
       "      <th>0</th>\n",
       "      <td>70.541216</td>\n",
       "      <td>127.092003</td>\n",
       "      <td>10.128295</td>\n",
       "      <td>7.25</td>\n",
       "      <td>0.988759</td>\n",
       "      <td>1549.775757</td>\n",
       "      <td>-498.912140</td>\n",
       "      <td>1551.434204</td>\n",
       "      <td>-516.403442</td>\n",
       "      <td>1549.873901</td>\n",
       "      <td>...</td>\n",
       "      <td>14.016835</td>\n",
       "      <td>-502.488007</td>\n",
       "      <td>12.099931</td>\n",
       "      <td>-504.715942</td>\n",
       "      <td>9.925633</td>\n",
       "      <td>-498.310211</td>\n",
       "      <td>8.079666</td>\n",
       "      <td>-500.470978</td>\n",
       "      <td>14.151341</td>\n",
       "      <td>-605.841980</td>\n",
       "    </tr>\n",
       "    <tr>\n",
       "      <th>1</th>\n",
       "      <td>69.266198</td>\n",
       "      <td>125.629232</td>\n",
       "      <td>10.296251</td>\n",
       "      <td>7.25</td>\n",
       "      <td>1.002663</td>\n",
       "      <td>1576.166671</td>\n",
       "      <td>-500.904965</td>\n",
       "      <td>1575.950626</td>\n",
       "      <td>-499.865889</td>\n",
       "      <td>1575.994189</td>\n",
       "      <td>...</td>\n",
       "      <td>13.992281</td>\n",
       "      <td>-505.503262</td>\n",
       "      <td>11.950531</td>\n",
       "      <td>-501.331529</td>\n",
       "      <td>10.039245</td>\n",
       "      <td>-500.169983</td>\n",
       "      <td>7.984757</td>\n",
       "      <td>-500.582168</td>\n",
       "      <td>13.998353</td>\n",
       "      <td>-599.787184</td>\n",
       "    </tr>\n",
       "    <tr>\n",
       "      <th>2</th>\n",
       "      <td>68.116445</td>\n",
       "      <td>123.819808</td>\n",
       "      <td>11.316280</td>\n",
       "      <td>7.25</td>\n",
       "      <td>0.991265</td>\n",
       "      <td>1601.556163</td>\n",
       "      <td>-499.997791</td>\n",
       "      <td>1600.386685</td>\n",
       "      <td>-500.607762</td>\n",
       "      <td>1602.003542</td>\n",
       "      <td>...</td>\n",
       "      <td>14.015015</td>\n",
       "      <td>-502.520901</td>\n",
       "      <td>11.912783</td>\n",
       "      <td>-501.133383</td>\n",
       "      <td>10.070913</td>\n",
       "      <td>-500.129135</td>\n",
       "      <td>8.013877</td>\n",
       "      <td>-500.517572</td>\n",
       "      <td>14.028663</td>\n",
       "      <td>-601.427363</td>\n",
       "    </tr>\n",
       "    <tr>\n",
       "      <th>3</th>\n",
       "      <td>68.347543</td>\n",
       "      <td>122.270188</td>\n",
       "      <td>11.322140</td>\n",
       "      <td>7.25</td>\n",
       "      <td>0.996739</td>\n",
       "      <td>1599.968720</td>\n",
       "      <td>-500.951778</td>\n",
       "      <td>1600.659236</td>\n",
       "      <td>-499.677094</td>\n",
       "      <td>1600.304144</td>\n",
       "      <td>...</td>\n",
       "      <td>14.036510</td>\n",
       "      <td>-500.857308</td>\n",
       "      <td>11.999550</td>\n",
       "      <td>-501.193686</td>\n",
       "      <td>9.970366</td>\n",
       "      <td>-499.201640</td>\n",
       "      <td>7.977324</td>\n",
       "      <td>-500.255908</td>\n",
       "      <td>14.005551</td>\n",
       "      <td>-599.996129</td>\n",
       "    </tr>\n",
       "    <tr>\n",
       "      <th>4</th>\n",
       "      <td>66.927016</td>\n",
       "      <td>117.988169</td>\n",
       "      <td>11.913613</td>\n",
       "      <td>7.25</td>\n",
       "      <td>1.009869</td>\n",
       "      <td>1601.339707</td>\n",
       "      <td>-498.975456</td>\n",
       "      <td>1601.437854</td>\n",
       "      <td>-500.323246</td>\n",
       "      <td>1599.581894</td>\n",
       "      <td>...</td>\n",
       "      <td>14.027298</td>\n",
       "      <td>-499.838632</td>\n",
       "      <td>11.953070</td>\n",
       "      <td>-501.053894</td>\n",
       "      <td>9.925709</td>\n",
       "      <td>-501.686727</td>\n",
       "      <td>7.894242</td>\n",
       "      <td>-500.356035</td>\n",
       "      <td>13.996647</td>\n",
       "      <td>-601.496691</td>\n",
       "    </tr>\n",
       "  </tbody>\n",
       "</table>\n",
       "<p>5 rows × 54 columns</p>\n",
       "</div>"
      ],
      "text/plain": [
       "   final.output.recovery  primary_cleaner.input.sulfate  \\\n",
       "0              70.541216                     127.092003   \n",
       "1              69.266198                     125.629232   \n",
       "2              68.116445                     123.819808   \n",
       "3              68.347543                     122.270188   \n",
       "4              66.927016                     117.988169   \n",
       "\n",
       "   primary_cleaner.input.depressant  primary_cleaner.input.feed_size  \\\n",
       "0                         10.128295                             7.25   \n",
       "1                         10.296251                             7.25   \n",
       "2                         11.316280                             7.25   \n",
       "3                         11.322140                             7.25   \n",
       "4                         11.913613                             7.25   \n",
       "\n",
       "   primary_cleaner.input.xanthate  primary_cleaner.state.floatbank8_a_air  \\\n",
       "0                        0.988759                             1549.775757   \n",
       "1                        1.002663                             1576.166671   \n",
       "2                        0.991265                             1601.556163   \n",
       "3                        0.996739                             1599.968720   \n",
       "4                        1.009869                             1601.339707   \n",
       "\n",
       "   primary_cleaner.state.floatbank8_a_level  \\\n",
       "0                               -498.912140   \n",
       "1                               -500.904965   \n",
       "2                               -499.997791   \n",
       "3                               -500.951778   \n",
       "4                               -498.975456   \n",
       "\n",
       "   primary_cleaner.state.floatbank8_b_air  \\\n",
       "0                             1551.434204   \n",
       "1                             1575.950626   \n",
       "2                             1600.386685   \n",
       "3                             1600.659236   \n",
       "4                             1601.437854   \n",
       "\n",
       "   primary_cleaner.state.floatbank8_b_level  \\\n",
       "0                               -516.403442   \n",
       "1                               -499.865889   \n",
       "2                               -500.607762   \n",
       "3                               -499.677094   \n",
       "4                               -500.323246   \n",
       "\n",
       "   primary_cleaner.state.floatbank8_c_air  ...  \\\n",
       "0                             1549.873901  ...   \n",
       "1                             1575.994189  ...   \n",
       "2                             1602.003542  ...   \n",
       "3                             1600.304144  ...   \n",
       "4                             1599.581894  ...   \n",
       "\n",
       "   secondary_cleaner.state.floatbank4_a_air  \\\n",
       "0                                 14.016835   \n",
       "1                                 13.992281   \n",
       "2                                 14.015015   \n",
       "3                                 14.036510   \n",
       "4                                 14.027298   \n",
       "\n",
       "   secondary_cleaner.state.floatbank4_a_level  \\\n",
       "0                                 -502.488007   \n",
       "1                                 -505.503262   \n",
       "2                                 -502.520901   \n",
       "3                                 -500.857308   \n",
       "4                                 -499.838632   \n",
       "\n",
       "   secondary_cleaner.state.floatbank4_b_air  \\\n",
       "0                                 12.099931   \n",
       "1                                 11.950531   \n",
       "2                                 11.912783   \n",
       "3                                 11.999550   \n",
       "4                                 11.953070   \n",
       "\n",
       "   secondary_cleaner.state.floatbank4_b_level  \\\n",
       "0                                 -504.715942   \n",
       "1                                 -501.331529   \n",
       "2                                 -501.133383   \n",
       "3                                 -501.193686   \n",
       "4                                 -501.053894   \n",
       "\n",
       "   secondary_cleaner.state.floatbank5_a_air  \\\n",
       "0                                  9.925633   \n",
       "1                                 10.039245   \n",
       "2                                 10.070913   \n",
       "3                                  9.970366   \n",
       "4                                  9.925709   \n",
       "\n",
       "   secondary_cleaner.state.floatbank5_a_level  \\\n",
       "0                                 -498.310211   \n",
       "1                                 -500.169983   \n",
       "2                                 -500.129135   \n",
       "3                                 -499.201640   \n",
       "4                                 -501.686727   \n",
       "\n",
       "   secondary_cleaner.state.floatbank5_b_air  \\\n",
       "0                                  8.079666   \n",
       "1                                  7.984757   \n",
       "2                                  8.013877   \n",
       "3                                  7.977324   \n",
       "4                                  7.894242   \n",
       "\n",
       "   secondary_cleaner.state.floatbank5_b_level  \\\n",
       "0                                 -500.470978   \n",
       "1                                 -500.582168   \n",
       "2                                 -500.517572   \n",
       "3                                 -500.255908   \n",
       "4                                 -500.356035   \n",
       "\n",
       "   secondary_cleaner.state.floatbank6_a_air  \\\n",
       "0                                 14.151341   \n",
       "1                                 13.998353   \n",
       "2                                 14.028663   \n",
       "3                                 14.005551   \n",
       "4                                 13.996647   \n",
       "\n",
       "   secondary_cleaner.state.floatbank6_a_level  \n",
       "0                                 -605.841980  \n",
       "1                                 -599.787184  \n",
       "2                                 -601.427363  \n",
       "3                                 -599.996129  \n",
       "4                                 -601.496691  \n",
       "\n",
       "[5 rows x 54 columns]"
      ]
     },
     "metadata": {},
     "output_type": "display_data"
    }
   ],
   "source": [
    "df_train = df_train.drop(set(df_train.columns)-set(df_test.columns), axis=1)\n",
    "print(df_train.shape)\n",
    "display(df_train.head())"
   ]
  },
  {
   "cell_type": "markdown",
   "metadata": {},
   "source": [
    "#### Выделим  на тренировочной и тестовой  выборках признаки и целевую переменную относящиеся к этапу флотации."
   ]
  },
  {
   "cell_type": "code",
   "execution_count": 14,
   "metadata": {},
   "outputs": [
    {
     "name": "stdout",
     "output_type": "stream",
     "text": [
      "(13725, 22)\n",
      "(13725,)\n",
      "(5290, 22)\n",
      "(5290,)\n"
     ]
    }
   ],
   "source": [
    "features_train_rougher = df_train.filter(like='rougher')\n",
    "features_train_rougher = features_train_rougher.drop(['rougher.output.recovery'], axis=1) # признаки\n",
    "target_train_rougher = df_train['rougher.output.recovery'] # целевая переменная\n",
    "\n",
    "features_test_rougher = df_test.filter(like='rougher')\n",
    "features_test_rougher = features_test_rougher.drop(['rougher.output.recovery'], axis=1) # признаки\n",
    "target_test_rougher = df_test['rougher.output.recovery'] # целевая переменная\n",
    "\n",
    "print(features_train_rougher.shape)\n",
    "print(target_train_rougher.shape)\n",
    "print(features_test_rougher.shape)\n",
    "print(target_test_rougher.shape)\n"
   ]
  },
  {
   "cell_type": "markdown",
   "metadata": {},
   "source": [
    "#### Выделим  на тренировочной и тестовой  выборках признаки и целевую переменную относящиеся к  полному технологическому процессу."
   ]
  },
  {
   "cell_type": "code",
   "execution_count": 15,
   "metadata": {},
   "outputs": [
    {
     "name": "stdout",
     "output_type": "stream",
     "text": [
      "(13725, 52)\n",
      "(13725,)\n",
      "(5290, 52)\n",
      "(5290,)\n"
     ]
    }
   ],
   "source": [
    "features_train_final = df_train.drop(['rougher.output.recovery', 'final.output.recovery'], axis=1)\n",
    "target_train_final = df_train['final.output.recovery']\n",
    "\n",
    "features_test_final = df_test.drop(['rougher.output.recovery', 'final.output.recovery'], axis=1)\n",
    "target_test_final = df_test['final.output.recovery']\n",
    "\n",
    "print(features_train_final.shape)\n",
    "print(target_train_final.shape)\n",
    "print(features_test_final.shape)\n",
    "print(target_test_final.shape)\n"
   ]
  },
  {
   "cell_type": "markdown",
   "metadata": {},
   "source": [
    "#### Напишим функцию для вычисления итоговой sMAPE."
   ]
  },
  {
   "cell_type": "code",
   "execution_count": 17,
   "metadata": {},
   "outputs": [],
   "source": [
    "def sMAPE(y_true,y_pred):\n",
    "    return np.mean(abs(y_true - y_pred)/((abs(y_true)+abs(y_pred))/2))*100\n",
    "\n",
    "def final_sMAPE(sMAPE_rougher,sMAPE_final):\n",
    "    return (0.25*sMAPE_rougher + 0.75*sMAPE_final)"
   ]
  },
  {
   "cell_type": "markdown",
   "metadata": {},
   "source": [
    "#### Создадим собственный scorer,  т.к.  sMAPE нужно минимизировать, установим для greater_is_better параметра значение False."
   ]
  },
  {
   "cell_type": "code",
   "execution_count": 17,
   "metadata": {},
   "outputs": [],
   "source": [
    "my_score = make_scorer(sMAPE, greater_is_better=False)"
   ]
  },
  {
   "cell_type": "markdown",
   "metadata": {},
   "source": [
    "#### Используем GridSearchCV для подбора параметров  моделей RandomForest и DecisionTree. Используем Pipeline и StandardScaler, чтобы отмасштабировать данные перед тем, как передать их в регрессор."
   ]
  },
  {
   "cell_type": "code",
   "execution_count": 18,
   "metadata": {},
   "outputs": [
    {
     "name": "stdout",
     "output_type": "stream",
     "text": [
      "{'rf__max_depth': 5, 'rf__n_estimators': 100}\n",
      "{'rf__max_depth': 5, 'rf__n_estimators': 100}\n",
      "{'dt__max_depth': 10}\n",
      "{'dt__max_depth': 1}\n"
     ]
    }
   ],
   "source": [
    "model_RF = Pipeline([(\"scaler\" , StandardScaler()),\n",
    "                     (\"rf\", RandomForestRegressor())])\n",
    "model_DT = Pipeline([(\"scaler\" , StandardScaler()),\n",
    "                     (\"dt\", DecisionTreeRegressor())])\n",
    "# сетка параметров\n",
    "param_RF = {\n",
    "    'rf__max_depth': [5, 10],\n",
    "    'rf__n_estimators': [100, 200]\n",
    "}\n",
    "param_DT= {\"dt__max_depth\":[1,10]}\n",
    "# инициализация\n",
    "grid_rougher_RF = GridSearchCV(model_RF, param_RF, scoring = my_score)\n",
    "grid_final_RF = GridSearchCV(model_RF, param_RF, scoring = my_score)\n",
    "grid_rougher_DT = GridSearchCV(model_DT, param_DT, scoring = my_score)\n",
    "grid_final_DT = GridSearchCV(model_DT, param_DT, scoring = my_score)\n",
    "# обучение\n",
    "grid_rougher_RF.fit(features_train_rougher,target_train_rougher)\n",
    "grid_final_RF.fit(features_train_final,target_train_final)\n",
    "grid_rougher_DT.fit(features_train_rougher,target_train_rougher)\n",
    "grid_final_DT.fit(features_train_final,target_train_final)\n",
    "# лучшие параметры \n",
    "print(grid_rougher_RF.best_params_)\n",
    "print(grid_final_RF.best_params_)\n",
    "print(grid_rougher_DT.best_params_)\n",
    "print(grid_final_DT.best_params_)\n"
   ]
  },
  {
   "cell_type": "markdown",
   "metadata": {},
   "source": [
    "#### Лучшие показатели метрики для  моделей."
   ]
  },
  {
   "cell_type": "code",
   "execution_count": 19,
   "metadata": {},
   "outputs": [],
   "source": [
    "best_score_rougher_RF = grid_rougher_RF.best_score_\n",
    "best_score_final_RF = grid_final_RF.best_score_\n",
    "best_score_rougher_DT = grid_rougher_DT.best_score_\n",
    "best_score_final_DT = grid_final_DT.best_score_"
   ]
  },
  {
   "cell_type": "code",
   "execution_count": 20,
   "metadata": {},
   "outputs": [
    {
     "name": "stdout",
     "output_type": "stream",
     "text": [
      "rougher_sMAPE\n",
      "модель RandomForest -6.636695766693913  модель DecisionTree -7.858833205618649\n",
      "final__sMAPE\n",
      "модель RandomForest -9.157866363788504  модель DecisionTree -9.75869889802213\n"
     ]
    }
   ],
   "source": [
    "print(\"rougher_sMAPE\")\n",
    "print(\"модель RandomForest\",best_score_rougher_RF,\" модель DecisionTree\",best_score_rougher_DT)\n",
    "print(\"final__sMAPE\")\n",
    "print(\"модель RandomForest\",best_score_final_RF,\" модель DecisionTree\",best_score_final_DT)"
   ]
  },
  {
   "cell_type": "markdown",
   "metadata": {},
   "source": [
    "#### Рассчитаем значение фунуции final_sMAPE для RandomForest."
   ]
  },
  {
   "cell_type": "code",
   "execution_count": 21,
   "metadata": {},
   "outputs": [
    {
     "data": {
      "text/plain": [
       "-8.527573714514856"
      ]
     },
     "execution_count": 21,
     "metadata": {},
     "output_type": "execute_result"
    }
   ],
   "source": [
    "final_sMAPE(best_score_rougher_RF,best_score_final_RF)"
   ]
  },
  {
   "cell_type": "markdown",
   "metadata": {},
   "source": [
    "#### Рассчитаем значение фунуции final_sMAPE для  DecisionTree."
   ]
  },
  {
   "cell_type": "code",
   "execution_count": 22,
   "metadata": {},
   "outputs": [
    {
     "data": {
      "text/plain": [
       "-9.28373247492126"
      ]
     },
     "execution_count": 22,
     "metadata": {},
     "output_type": "execute_result"
    }
   ],
   "source": [
    "final_sMAPE(best_score_rougher_DT,best_score_final_DT)"
   ]
  },
  {
   "cell_type": "markdown",
   "metadata": {},
   "source": [
    "#### Лучший результат показала модель RandomForest.  Рассчитаем метрику   на тестовой выборке."
   ]
  },
  {
   "cell_type": "code",
   "execution_count": null,
   "metadata": {},
   "outputs": [],
   "source": []
  },
  {
   "cell_type": "code",
   "execution_count": 23,
   "metadata": {},
   "outputs": [
    {
     "data": {
      "text/plain": [
       "9.37918429999521"
      ]
     },
     "execution_count": 23,
     "metadata": {},
     "output_type": "execute_result"
    }
   ],
   "source": [
    "# предсказания моделей\n",
    "predict_rougher_test = grid_rougher_RF.predict(features_test_rougher)  \n",
    "predict_final_test = grid_final_RF.predict(features_test_final)\n",
    "\n",
    "final_sMAPE(sMAPE(target_test_rougher,predict_rougher_test),sMAPE(target_test_final,predict_final_test))"
   ]
  },
  {
   "cell_type": "markdown",
   "metadata": {},
   "source": [
    "#### Инициализируем и обучим константную модель. Посчитаем значение final_sMAPE для этой модели."
   ]
  },
  {
   "cell_type": "code",
   "execution_count": 24,
   "metadata": {},
   "outputs": [
    {
     "data": {
      "text/plain": [
       "9.831066377059802"
      ]
     },
     "execution_count": 24,
     "metadata": {},
     "output_type": "execute_result"
    }
   ],
   "source": [
    "dummy_rogher = DummyRegressor(strategy=\"mean\")\n",
    "dummy_final = DummyRegressor(strategy=\"mean\")\n",
    "\n",
    "dummy_rogher.fit(features_train_rougher,target_train_rougher)\n",
    "dummy_final.fit(features_train_final,target_train_final)\n",
    "\n",
    "predict_dummy_rogher = dummy_rogher.predict(features_test_rougher)\n",
    "predict_dummy_final = dummy_final.predict(features_test_final)\n",
    "\n",
    "final_sMAPE(sMAPE(target_test_rougher, predict_dummy_rogher),sMAPE(target_test_final, predict_dummy_final))"
   ]
  },
  {
   "cell_type": "markdown",
   "metadata": {},
   "source": [
    "#### Значене  функции  final_sMAPE на тестоыой выборке для нашей модели RandomForest меньше, чем на константном алгоритме. Построенная нами модель прошла тест на адекватность."
   ]
  },
  {
   "cell_type": "markdown",
   "metadata": {},
   "source": [
    "### Выводы\n",
    "*  Построены  и обучены модели  RandomForest и DecisionTree.\n",
    "*  На основе мметрики качества sMAPE выбрана лучшая модель RandomForest ('max_depth': 5, 'n_estimators': 100)   \n",
    "*  Значение  метрики sMAPE  на тестовой выборке равно 9.38.\n",
    "*  Построенная нами модель прошла тест на адекватность."
   ]
  }
 ],
 "metadata": {
  "ExecuteTimeLog": [
   {
    "duration": 392,
    "start_time": "2023-03-14T05:26:22.776Z"
   },
   {
    "duration": 2,
    "start_time": "2023-03-14T05:29:21.170Z"
   },
   {
    "duration": 2338,
    "start_time": "2023-03-14T05:29:23.179Z"
   },
   {
    "duration": 574,
    "start_time": "2023-03-14T05:33:56.782Z"
   },
   {
    "duration": 3,
    "start_time": "2023-03-14T05:33:58.879Z"
   },
   {
    "duration": 328,
    "start_time": "2023-03-14T05:34:01.618Z"
   },
   {
    "duration": 68,
    "start_time": "2023-03-14T06:18:30.805Z"
   },
   {
    "duration": 8,
    "start_time": "2023-03-14T06:18:44.818Z"
   },
   {
    "duration": 10,
    "start_time": "2023-03-14T06:19:09.612Z"
   },
   {
    "duration": 612,
    "start_time": "2023-03-14T06:19:18.277Z"
   },
   {
    "duration": 41,
    "start_time": "2023-03-14T06:19:25.569Z"
   },
   {
    "duration": 5,
    "start_time": "2023-03-14T06:19:37.810Z"
   },
   {
    "duration": 7,
    "start_time": "2023-03-14T06:26:38.583Z"
   },
   {
    "duration": 3,
    "start_time": "2023-03-14T07:45:20.421Z"
   },
   {
    "duration": 93,
    "start_time": "2023-03-14T07:45:56.549Z"
   },
   {
    "duration": 3,
    "start_time": "2023-03-14T07:47:18.263Z"
   },
   {
    "duration": 5,
    "start_time": "2023-03-14T07:49:55.135Z"
   },
   {
    "duration": 68,
    "start_time": "2023-03-14T07:50:42.501Z"
   },
   {
    "duration": 69,
    "start_time": "2023-03-14T07:50:58.107Z"
   },
   {
    "duration": 4,
    "start_time": "2023-03-14T07:51:08.043Z"
   },
   {
    "duration": 3,
    "start_time": "2023-03-14T07:51:51.863Z"
   },
   {
    "duration": 70,
    "start_time": "2023-03-14T07:52:40.394Z"
   },
   {
    "duration": 4,
    "start_time": "2023-03-14T07:52:50.377Z"
   },
   {
    "duration": 5,
    "start_time": "2023-03-14T07:53:24.602Z"
   },
   {
    "duration": 5,
    "start_time": "2023-03-14T07:53:46.103Z"
   },
   {
    "duration": 4,
    "start_time": "2023-03-14T07:53:53.903Z"
   },
   {
    "duration": 4,
    "start_time": "2023-03-14T07:54:08.514Z"
   },
   {
    "duration": 4,
    "start_time": "2023-03-14T07:54:24.234Z"
   },
   {
    "duration": 448,
    "start_time": "2023-03-14T10:01:19.866Z"
   },
   {
    "duration": 30,
    "start_time": "2023-03-14T10:04:18.515Z"
   },
   {
    "duration": 679,
    "start_time": "2023-03-14T10:04:50.557Z"
   },
   {
    "duration": 923,
    "start_time": "2023-03-14T10:09:24.298Z"
   },
   {
    "duration": 845,
    "start_time": "2023-03-14T10:13:20.680Z"
   },
   {
    "duration": 971,
    "start_time": "2023-03-14T10:13:29.881Z"
   },
   {
    "duration": 957,
    "start_time": "2023-03-14T10:13:44.605Z"
   },
   {
    "duration": 12,
    "start_time": "2023-03-14T10:14:51.264Z"
   },
   {
    "duration": 3,
    "start_time": "2023-03-14T10:15:35.470Z"
   },
   {
    "duration": 11,
    "start_time": "2023-03-14T10:15:45.150Z"
   },
   {
    "duration": 1390,
    "start_time": "2023-03-14T10:16:03.406Z"
   },
   {
    "duration": 1384,
    "start_time": "2023-03-14T10:17:36.071Z"
   },
   {
    "duration": 1492,
    "start_time": "2023-03-14T10:17:55.339Z"
   },
   {
    "duration": 1318,
    "start_time": "2023-03-14T10:18:10.906Z"
   },
   {
    "duration": 596,
    "start_time": "2023-03-14T10:24:41.097Z"
   },
   {
    "duration": 1460,
    "start_time": "2023-03-14T10:25:56.370Z"
   },
   {
    "duration": 73,
    "start_time": "2023-03-14T10:28:06.027Z"
   },
   {
    "duration": 1147,
    "start_time": "2023-03-14T10:28:30.242Z"
   },
   {
    "duration": 970,
    "start_time": "2023-03-14T10:28:52.799Z"
   },
   {
    "duration": 1116,
    "start_time": "2023-03-14T10:30:11.821Z"
   },
   {
    "duration": 1106,
    "start_time": "2023-03-14T10:30:33.601Z"
   },
   {
    "duration": 196,
    "start_time": "2023-03-14T10:30:58.164Z"
   },
   {
    "duration": 1154,
    "start_time": "2023-03-14T10:31:15.883Z"
   },
   {
    "duration": 932,
    "start_time": "2023-03-14T10:31:47.180Z"
   },
   {
    "duration": 1093,
    "start_time": "2023-03-14T10:32:21.403Z"
   },
   {
    "duration": 1133,
    "start_time": "2023-03-14T10:33:31.352Z"
   },
   {
    "duration": 1072,
    "start_time": "2023-03-14T10:34:06.244Z"
   },
   {
    "duration": 1023,
    "start_time": "2023-03-14T10:34:28.469Z"
   },
   {
    "duration": 1193,
    "start_time": "2023-03-14T10:34:45.009Z"
   },
   {
    "duration": 1011,
    "start_time": "2023-03-14T10:35:06.352Z"
   },
   {
    "duration": 1202,
    "start_time": "2023-03-14T10:36:08.680Z"
   },
   {
    "duration": 1107,
    "start_time": "2023-03-14T10:37:37.646Z"
   },
   {
    "duration": 1047,
    "start_time": "2023-03-14T10:44:25.726Z"
   },
   {
    "duration": 976,
    "start_time": "2023-03-14T10:44:39.865Z"
   },
   {
    "duration": 1084,
    "start_time": "2023-03-14T10:45:03.525Z"
   },
   {
    "duration": 1145,
    "start_time": "2023-03-14T10:45:38.101Z"
   },
   {
    "duration": 1919,
    "start_time": "2023-03-14T10:45:52.219Z"
   },
   {
    "duration": 226,
    "start_time": "2023-03-14T10:46:24.247Z"
   },
   {
    "duration": 1048,
    "start_time": "2023-03-14T10:46:57.608Z"
   },
   {
    "duration": 1019,
    "start_time": "2023-03-14T10:53:07.942Z"
   },
   {
    "duration": 1134,
    "start_time": "2023-03-14T11:04:39.876Z"
   },
   {
    "duration": 2525,
    "start_time": "2023-03-14T11:06:39.100Z"
   },
   {
    "duration": 9,
    "start_time": "2023-03-14T11:24:12.308Z"
   },
   {
    "duration": 643,
    "start_time": "2023-03-14T11:24:45.150Z"
   },
   {
    "duration": 327,
    "start_time": "2023-03-14T11:28:46.010Z"
   },
   {
    "duration": 393,
    "start_time": "2023-03-14T11:30:34.450Z"
   },
   {
    "duration": 67,
    "start_time": "2023-03-14T11:38:09.315Z"
   },
   {
    "duration": 402,
    "start_time": "2023-03-14T11:38:32.344Z"
   },
   {
    "duration": 421,
    "start_time": "2023-03-14T11:39:05.191Z"
   },
   {
    "duration": 11,
    "start_time": "2023-03-14T12:00:01.821Z"
   },
   {
    "duration": 14,
    "start_time": "2023-03-14T12:00:43.686Z"
   },
   {
    "duration": 5,
    "start_time": "2023-03-14T12:02:11.213Z"
   },
   {
    "duration": 7,
    "start_time": "2023-03-14T12:02:34.991Z"
   },
   {
    "duration": 11,
    "start_time": "2023-03-14T12:04:01.152Z"
   },
   {
    "duration": 10,
    "start_time": "2023-03-14T12:06:14.931Z"
   },
   {
    "duration": 283,
    "start_time": "2023-03-14T12:18:41.654Z"
   },
   {
    "duration": 456,
    "start_time": "2023-03-14T12:19:30.439Z"
   },
   {
    "duration": 373,
    "start_time": "2023-03-14T12:19:40.218Z"
   },
   {
    "duration": 415,
    "start_time": "2023-03-14T12:22:26.709Z"
   },
   {
    "duration": 389,
    "start_time": "2023-03-14T12:22:37.810Z"
   },
   {
    "duration": 385,
    "start_time": "2023-03-14T12:22:58.114Z"
   },
   {
    "duration": 400,
    "start_time": "2023-03-14T12:24:49.199Z"
   },
   {
    "duration": 822,
    "start_time": "2023-03-14T12:25:11.679Z"
   },
   {
    "duration": 731,
    "start_time": "2023-03-14T12:26:18.300Z"
   },
   {
    "duration": 702,
    "start_time": "2023-03-14T12:27:39.606Z"
   },
   {
    "duration": 802,
    "start_time": "2023-03-14T12:28:00.414Z"
   },
   {
    "duration": 968,
    "start_time": "2023-03-14T12:29:13.540Z"
   },
   {
    "duration": 1007,
    "start_time": "2023-03-14T12:31:48.830Z"
   },
   {
    "duration": 1047,
    "start_time": "2023-03-14T12:32:46.902Z"
   },
   {
    "duration": 1625,
    "start_time": "2023-03-14T12:35:25.410Z"
   },
   {
    "duration": 3,
    "start_time": "2023-03-14T13:05:04.409Z"
   },
   {
    "duration": 1253,
    "start_time": "2023-03-14T13:05:20.502Z"
   },
   {
    "duration": 605,
    "start_time": "2023-03-14T13:05:21.757Z"
   },
   {
    "duration": 3,
    "start_time": "2023-03-14T13:05:22.363Z"
   },
   {
    "duration": 341,
    "start_time": "2023-03-14T13:05:22.367Z"
   },
   {
    "duration": 6,
    "start_time": "2023-03-14T13:05:22.710Z"
   },
   {
    "duration": 10,
    "start_time": "2023-03-14T13:05:22.718Z"
   },
   {
    "duration": 2949,
    "start_time": "2023-03-14T13:05:22.729Z"
   },
   {
    "duration": 437,
    "start_time": "2023-03-14T13:05:25.680Z"
   },
   {
    "duration": 1591,
    "start_time": "2023-03-14T13:05:26.121Z"
   },
   {
    "duration": 6,
    "start_time": "2023-03-14T14:18:49.150Z"
   },
   {
    "duration": 3,
    "start_time": "2023-03-14T14:27:27.053Z"
   },
   {
    "duration": 100,
    "start_time": "2023-03-14T14:27:44.557Z"
   },
   {
    "duration": 3,
    "start_time": "2023-03-14T14:28:09.900Z"
   },
   {
    "duration": 6,
    "start_time": "2023-03-14T14:28:29.855Z"
   },
   {
    "duration": 4,
    "start_time": "2023-03-14T14:29:06.548Z"
   },
   {
    "duration": 4,
    "start_time": "2023-03-14T14:29:16.873Z"
   },
   {
    "duration": 5,
    "start_time": "2023-03-14T14:29:59.686Z"
   },
   {
    "duration": 5,
    "start_time": "2023-03-14T14:31:16.419Z"
   },
   {
    "duration": 88,
    "start_time": "2023-03-14T14:32:09.921Z"
   },
   {
    "duration": 107,
    "start_time": "2023-03-14T14:32:31.218Z"
   },
   {
    "duration": 4,
    "start_time": "2023-03-14T14:34:08.434Z"
   },
   {
    "duration": 3,
    "start_time": "2023-03-14T14:34:12.771Z"
   },
   {
    "duration": 5,
    "start_time": "2023-03-14T14:34:26.205Z"
   },
   {
    "duration": 5,
    "start_time": "2023-03-14T14:34:29.226Z"
   },
   {
    "duration": 1262,
    "start_time": "2023-03-14T14:34:37.011Z"
   },
   {
    "duration": 611,
    "start_time": "2023-03-14T14:34:38.275Z"
   },
   {
    "duration": 2,
    "start_time": "2023-03-14T14:34:38.888Z"
   },
   {
    "duration": 337,
    "start_time": "2023-03-14T14:34:38.892Z"
   },
   {
    "duration": 7,
    "start_time": "2023-03-14T14:34:39.231Z"
   },
   {
    "duration": 16,
    "start_time": "2023-03-14T14:34:39.239Z"
   },
   {
    "duration": 2774,
    "start_time": "2023-03-14T14:34:39.256Z"
   },
   {
    "duration": 428,
    "start_time": "2023-03-14T14:34:42.031Z"
   },
   {
    "duration": 1545,
    "start_time": "2023-03-14T14:34:42.460Z"
   },
   {
    "duration": 6,
    "start_time": "2023-03-14T14:34:44.007Z"
   },
   {
    "duration": 129,
    "start_time": "2023-03-14T14:34:44.014Z"
   },
   {
    "duration": 1284,
    "start_time": "2023-03-14T14:35:21.800Z"
   },
   {
    "duration": 611,
    "start_time": "2023-03-14T14:35:23.086Z"
   },
   {
    "duration": 3,
    "start_time": "2023-03-14T14:35:23.699Z"
   },
   {
    "duration": 344,
    "start_time": "2023-03-14T14:35:23.703Z"
   },
   {
    "duration": 7,
    "start_time": "2023-03-14T14:35:24.050Z"
   },
   {
    "duration": 6,
    "start_time": "2023-03-14T14:35:24.059Z"
   },
   {
    "duration": 2772,
    "start_time": "2023-03-14T14:35:24.066Z"
   },
   {
    "duration": 443,
    "start_time": "2023-03-14T14:35:26.840Z"
   },
   {
    "duration": 1607,
    "start_time": "2023-03-14T14:35:27.284Z"
   },
   {
    "duration": 7,
    "start_time": "2023-03-14T14:35:28.892Z"
   },
   {
    "duration": 425,
    "start_time": "2023-03-14T14:35:28.901Z"
   },
   {
    "duration": 57,
    "start_time": "2023-03-15T02:24:50.529Z"
   },
   {
    "duration": 1648,
    "start_time": "2023-03-15T02:24:57.976Z"
   },
   {
    "duration": 2346,
    "start_time": "2023-03-15T02:24:59.626Z"
   },
   {
    "duration": 3,
    "start_time": "2023-03-15T02:25:01.974Z"
   },
   {
    "duration": 423,
    "start_time": "2023-03-15T02:25:01.978Z"
   },
   {
    "duration": 11,
    "start_time": "2023-03-15T02:25:02.403Z"
   },
   {
    "duration": 17,
    "start_time": "2023-03-15T02:25:02.416Z"
   },
   {
    "duration": 2925,
    "start_time": "2023-03-15T02:25:02.435Z"
   },
   {
    "duration": 483,
    "start_time": "2023-03-15T02:25:05.362Z"
   },
   {
    "duration": 2109,
    "start_time": "2023-03-15T02:25:05.846Z"
   },
   {
    "duration": 17,
    "start_time": "2023-03-15T02:25:07.957Z"
   },
   {
    "duration": 515,
    "start_time": "2023-03-15T02:25:07.976Z"
   },
   {
    "duration": 42,
    "start_time": "2023-03-15T02:25:08.493Z"
   },
   {
    "duration": 126,
    "start_time": "2023-03-15T02:31:05.621Z"
   },
   {
    "duration": 17,
    "start_time": "2023-03-15T02:31:31.456Z"
   },
   {
    "duration": 18,
    "start_time": "2023-03-15T02:31:58.861Z"
   },
   {
    "duration": 44,
    "start_time": "2023-03-15T02:32:07.840Z"
   },
   {
    "duration": 22,
    "start_time": "2023-03-15T02:33:05.188Z"
   },
   {
    "duration": 19,
    "start_time": "2023-03-15T02:33:10.899Z"
   },
   {
    "duration": 1476,
    "start_time": "2023-03-15T02:33:36.475Z"
   },
   {
    "duration": 754,
    "start_time": "2023-03-15T02:33:37.953Z"
   },
   {
    "duration": 3,
    "start_time": "2023-03-15T02:33:38.709Z"
   },
   {
    "duration": 422,
    "start_time": "2023-03-15T02:33:38.713Z"
   },
   {
    "duration": 9,
    "start_time": "2023-03-15T02:33:39.138Z"
   },
   {
    "duration": 6,
    "start_time": "2023-03-15T02:33:39.148Z"
   },
   {
    "duration": 2884,
    "start_time": "2023-03-15T02:33:39.156Z"
   },
   {
    "duration": 471,
    "start_time": "2023-03-15T02:33:42.042Z"
   },
   {
    "duration": 1808,
    "start_time": "2023-03-15T02:33:42.515Z"
   },
   {
    "duration": 8,
    "start_time": "2023-03-15T02:33:44.325Z"
   },
   {
    "duration": 438,
    "start_time": "2023-03-15T02:33:44.335Z"
   },
   {
    "duration": 16,
    "start_time": "2023-03-15T02:33:44.775Z"
   },
   {
    "duration": 23,
    "start_time": "2023-03-15T02:43:19.852Z"
   },
   {
    "duration": 1431,
    "start_time": "2023-03-15T02:43:42.715Z"
   },
   {
    "duration": 786,
    "start_time": "2023-03-15T02:43:44.148Z"
   },
   {
    "duration": 2,
    "start_time": "2023-03-15T02:43:44.936Z"
   },
   {
    "duration": 456,
    "start_time": "2023-03-15T02:43:44.940Z"
   },
   {
    "duration": 10,
    "start_time": "2023-03-15T02:43:45.399Z"
   },
   {
    "duration": 17,
    "start_time": "2023-03-15T02:43:45.411Z"
   },
   {
    "duration": 3022,
    "start_time": "2023-03-15T02:43:45.430Z"
   },
   {
    "duration": 475,
    "start_time": "2023-03-15T02:43:48.454Z"
   },
   {
    "duration": 1880,
    "start_time": "2023-03-15T02:43:48.931Z"
   },
   {
    "duration": 8,
    "start_time": "2023-03-15T02:43:50.813Z"
   },
   {
    "duration": 451,
    "start_time": "2023-03-15T02:43:50.822Z"
   },
   {
    "duration": 24,
    "start_time": "2023-03-15T02:43:51.274Z"
   },
   {
    "duration": 17,
    "start_time": "2023-03-15T02:46:28.082Z"
   },
   {
    "duration": 37,
    "start_time": "2023-03-15T03:04:51.533Z"
   },
   {
    "duration": 6,
    "start_time": "2023-03-15T03:05:37.631Z"
   },
   {
    "duration": 10,
    "start_time": "2023-03-15T03:15:18.713Z"
   },
   {
    "duration": 120,
    "start_time": "2023-03-15T03:15:29.791Z"
   },
   {
    "duration": 9,
    "start_time": "2023-03-15T03:15:49.791Z"
   },
   {
    "duration": 27,
    "start_time": "2023-03-15T03:17:57.369Z"
   },
   {
    "duration": 15,
    "start_time": "2023-03-15T03:19:01.417Z"
   },
   {
    "duration": 14,
    "start_time": "2023-03-15T03:24:41.767Z"
   },
   {
    "duration": 1461,
    "start_time": "2023-03-15T03:47:38.135Z"
   },
   {
    "duration": 817,
    "start_time": "2023-03-15T03:47:39.598Z"
   },
   {
    "duration": 4,
    "start_time": "2023-03-15T03:47:40.417Z"
   },
   {
    "duration": 506,
    "start_time": "2023-03-15T03:47:40.423Z"
   },
   {
    "duration": 9,
    "start_time": "2023-03-15T03:47:40.931Z"
   },
   {
    "duration": 12,
    "start_time": "2023-03-15T03:47:40.942Z"
   },
   {
    "duration": 3130,
    "start_time": "2023-03-15T03:47:40.956Z"
   },
   {
    "duration": 454,
    "start_time": "2023-03-15T03:47:44.088Z"
   },
   {
    "duration": 1907,
    "start_time": "2023-03-15T03:47:44.544Z"
   },
   {
    "duration": 23,
    "start_time": "2023-03-15T03:47:46.453Z"
   },
   {
    "duration": 517,
    "start_time": "2023-03-15T03:47:46.483Z"
   },
   {
    "duration": 25,
    "start_time": "2023-03-15T03:47:47.003Z"
   },
   {
    "duration": 19,
    "start_time": "2023-03-15T03:47:47.030Z"
   },
   {
    "duration": 20,
    "start_time": "2023-03-15T03:47:47.074Z"
   },
   {
    "duration": 12,
    "start_time": "2023-03-15T03:47:47.097Z"
   },
   {
    "duration": 5,
    "start_time": "2023-03-15T03:47:47.112Z"
   },
   {
    "duration": 122,
    "start_time": "2023-03-15T05:17:28.953Z"
   },
   {
    "duration": 1462,
    "start_time": "2023-03-15T05:17:37.813Z"
   },
   {
    "duration": 776,
    "start_time": "2023-03-15T05:17:39.277Z"
   },
   {
    "duration": 3,
    "start_time": "2023-03-15T05:17:40.055Z"
   },
   {
    "duration": 482,
    "start_time": "2023-03-15T05:17:40.060Z"
   },
   {
    "duration": 12,
    "start_time": "2023-03-15T05:17:40.545Z"
   },
   {
    "duration": 19,
    "start_time": "2023-03-15T05:17:40.559Z"
   },
   {
    "duration": 2988,
    "start_time": "2023-03-15T05:17:40.580Z"
   },
   {
    "duration": 458,
    "start_time": "2023-03-15T05:17:43.570Z"
   },
   {
    "duration": 1918,
    "start_time": "2023-03-15T05:17:44.030Z"
   },
   {
    "duration": 7,
    "start_time": "2023-03-15T05:17:45.951Z"
   },
   {
    "duration": 472,
    "start_time": "2023-03-15T05:17:45.960Z"
   },
   {
    "duration": 38,
    "start_time": "2023-03-15T05:17:46.435Z"
   },
   {
    "duration": 19,
    "start_time": "2023-03-15T05:17:46.475Z"
   },
   {
    "duration": 15,
    "start_time": "2023-03-15T05:17:46.496Z"
   },
   {
    "duration": 16,
    "start_time": "2023-03-15T05:17:46.513Z"
   },
   {
    "duration": 5,
    "start_time": "2023-03-15T05:17:46.531Z"
   },
   {
    "duration": 38,
    "start_time": "2023-03-15T05:17:46.538Z"
   },
   {
    "duration": 131,
    "start_time": "2023-03-15T05:44:00.692Z"
   },
   {
    "duration": 0,
    "start_time": "2023-03-15T05:44:00.825Z"
   },
   {
    "duration": 0,
    "start_time": "2023-03-15T05:44:00.826Z"
   },
   {
    "duration": 0,
    "start_time": "2023-03-15T05:44:00.828Z"
   },
   {
    "duration": 0,
    "start_time": "2023-03-15T05:44:00.830Z"
   },
   {
    "duration": 0,
    "start_time": "2023-03-15T05:44:00.831Z"
   },
   {
    "duration": 0,
    "start_time": "2023-03-15T05:44:00.833Z"
   },
   {
    "duration": 0,
    "start_time": "2023-03-15T05:44:00.835Z"
   },
   {
    "duration": 0,
    "start_time": "2023-03-15T05:44:00.836Z"
   },
   {
    "duration": 0,
    "start_time": "2023-03-15T05:44:00.838Z"
   },
   {
    "duration": 0,
    "start_time": "2023-03-15T05:44:00.840Z"
   },
   {
    "duration": 0,
    "start_time": "2023-03-15T05:44:00.842Z"
   },
   {
    "duration": 0,
    "start_time": "2023-03-15T05:44:00.843Z"
   },
   {
    "duration": 0,
    "start_time": "2023-03-15T05:44:00.853Z"
   },
   {
    "duration": 0,
    "start_time": "2023-03-15T05:44:00.854Z"
   },
   {
    "duration": 0,
    "start_time": "2023-03-15T05:44:00.856Z"
   },
   {
    "duration": 0,
    "start_time": "2023-03-15T05:44:00.857Z"
   },
   {
    "duration": 0,
    "start_time": "2023-03-15T05:44:00.859Z"
   },
   {
    "duration": 100,
    "start_time": "2023-03-15T05:44:17.927Z"
   },
   {
    "duration": 0,
    "start_time": "2023-03-15T05:44:18.030Z"
   },
   {
    "duration": 0,
    "start_time": "2023-03-15T05:44:18.031Z"
   },
   {
    "duration": 0,
    "start_time": "2023-03-15T05:44:18.033Z"
   },
   {
    "duration": 0,
    "start_time": "2023-03-15T05:44:18.034Z"
   },
   {
    "duration": 0,
    "start_time": "2023-03-15T05:44:18.036Z"
   },
   {
    "duration": 0,
    "start_time": "2023-03-15T05:44:18.037Z"
   },
   {
    "duration": 1,
    "start_time": "2023-03-15T05:44:18.038Z"
   },
   {
    "duration": 0,
    "start_time": "2023-03-15T05:44:18.040Z"
   },
   {
    "duration": 0,
    "start_time": "2023-03-15T05:44:18.042Z"
   },
   {
    "duration": 0,
    "start_time": "2023-03-15T05:44:18.043Z"
   },
   {
    "duration": 0,
    "start_time": "2023-03-15T05:44:18.044Z"
   },
   {
    "duration": 0,
    "start_time": "2023-03-15T05:44:18.046Z"
   },
   {
    "duration": 0,
    "start_time": "2023-03-15T05:44:18.048Z"
   },
   {
    "duration": 0,
    "start_time": "2023-03-15T05:44:18.050Z"
   },
   {
    "duration": 0,
    "start_time": "2023-03-15T05:44:18.051Z"
   },
   {
    "duration": 0,
    "start_time": "2023-03-15T05:44:18.052Z"
   },
   {
    "duration": 0,
    "start_time": "2023-03-15T05:44:18.054Z"
   },
   {
    "duration": 1785,
    "start_time": "2023-03-15T05:44:42.535Z"
   },
   {
    "duration": 923,
    "start_time": "2023-03-15T05:44:44.322Z"
   },
   {
    "duration": 3,
    "start_time": "2023-03-15T05:44:45.247Z"
   },
   {
    "duration": 503,
    "start_time": "2023-03-15T05:44:45.253Z"
   },
   {
    "duration": 27,
    "start_time": "2023-03-15T05:44:45.758Z"
   },
   {
    "duration": 25,
    "start_time": "2023-03-15T05:44:45.790Z"
   },
   {
    "duration": 2926,
    "start_time": "2023-03-15T05:44:45.818Z"
   },
   {
    "duration": 586,
    "start_time": "2023-03-15T05:44:48.746Z"
   },
   {
    "duration": 2190,
    "start_time": "2023-03-15T05:44:49.335Z"
   },
   {
    "duration": 9,
    "start_time": "2023-03-15T05:44:51.529Z"
   },
   {
    "duration": 643,
    "start_time": "2023-03-15T05:44:51.540Z"
   },
   {
    "duration": 32,
    "start_time": "2023-03-15T05:44:52.185Z"
   },
   {
    "duration": 43,
    "start_time": "2023-03-15T05:44:52.220Z"
   },
   {
    "duration": 22,
    "start_time": "2023-03-15T05:44:52.265Z"
   },
   {
    "duration": 45,
    "start_time": "2023-03-15T05:44:52.289Z"
   },
   {
    "duration": 12,
    "start_time": "2023-03-15T05:44:52.336Z"
   },
   {
    "duration": 49,
    "start_time": "2023-03-15T05:44:52.350Z"
   },
   {
    "duration": 155,
    "start_time": "2023-03-15T05:44:52.401Z"
   },
   {
    "duration": 42,
    "start_time": "2023-03-15T05:46:44.294Z"
   },
   {
    "duration": 110,
    "start_time": "2023-03-15T05:48:47.992Z"
   },
   {
    "duration": 35,
    "start_time": "2023-03-15T05:49:01.973Z"
   },
   {
    "duration": 29,
    "start_time": "2023-03-15T05:50:56.816Z"
   },
   {
    "duration": 24,
    "start_time": "2023-03-15T05:56:37.729Z"
   },
   {
    "duration": 27,
    "start_time": "2023-03-15T05:57:31.825Z"
   },
   {
    "duration": 38,
    "start_time": "2023-03-15T06:01:03.027Z"
   },
   {
    "duration": 25,
    "start_time": "2023-03-15T06:04:05.666Z"
   },
   {
    "duration": 12,
    "start_time": "2023-03-15T06:11:37.711Z"
   },
   {
    "duration": 1492,
    "start_time": "2023-03-15T06:12:33.412Z"
   },
   {
    "duration": 744,
    "start_time": "2023-03-15T06:12:34.906Z"
   },
   {
    "duration": 3,
    "start_time": "2023-03-15T06:12:35.652Z"
   },
   {
    "duration": 418,
    "start_time": "2023-03-15T06:12:35.657Z"
   },
   {
    "duration": 8,
    "start_time": "2023-03-15T06:12:36.077Z"
   },
   {
    "duration": 8,
    "start_time": "2023-03-15T06:12:36.087Z"
   },
   {
    "duration": 2972,
    "start_time": "2023-03-15T06:12:36.096Z"
   },
   {
    "duration": 436,
    "start_time": "2023-03-15T06:12:39.070Z"
   },
   {
    "duration": 1826,
    "start_time": "2023-03-15T06:12:39.507Z"
   },
   {
    "duration": 8,
    "start_time": "2023-03-15T06:12:41.336Z"
   },
   {
    "duration": 437,
    "start_time": "2023-03-15T06:12:41.345Z"
   },
   {
    "duration": 24,
    "start_time": "2023-03-15T06:12:41.783Z"
   },
   {
    "duration": 19,
    "start_time": "2023-03-15T06:12:41.809Z"
   },
   {
    "duration": 13,
    "start_time": "2023-03-15T06:12:41.829Z"
   },
   {
    "duration": 36,
    "start_time": "2023-03-15T06:12:41.844Z"
   },
   {
    "duration": 7,
    "start_time": "2023-03-15T06:12:41.881Z"
   },
   {
    "duration": 7,
    "start_time": "2023-03-15T06:12:41.890Z"
   },
   {
    "duration": 152,
    "start_time": "2023-03-15T06:12:41.898Z"
   },
   {
    "duration": 144,
    "start_time": "2023-03-15T06:14:04.256Z"
   },
   {
    "duration": 12,
    "start_time": "2023-03-15T06:23:29.617Z"
   },
   {
    "duration": 2,
    "start_time": "2023-03-15T06:24:02.677Z"
   },
   {
    "duration": 13,
    "start_time": "2023-03-15T06:24:05.709Z"
   },
   {
    "duration": 15,
    "start_time": "2023-03-15T06:24:42.944Z"
   },
   {
    "duration": 12,
    "start_time": "2023-03-15T06:25:49.561Z"
   },
   {
    "duration": 4,
    "start_time": "2023-03-15T06:26:38.669Z"
   },
   {
    "duration": 1777,
    "start_time": "2023-03-15T06:26:50.669Z"
   },
   {
    "duration": 3,
    "start_time": "2023-03-15T06:29:54.007Z"
   },
   {
    "duration": 17,
    "start_time": "2023-03-15T06:35:16.918Z"
   },
   {
    "duration": 2801,
    "start_time": "2023-03-15T06:38:17.514Z"
   },
   {
    "duration": 2914,
    "start_time": "2023-03-15T06:38:53.665Z"
   },
   {
    "duration": 1774,
    "start_time": "2023-03-16T05:27:31.415Z"
   },
   {
    "duration": 2916,
    "start_time": "2023-03-16T05:27:33.191Z"
   },
   {
    "duration": 3,
    "start_time": "2023-03-16T05:27:36.108Z"
   },
   {
    "duration": 531,
    "start_time": "2023-03-16T05:27:36.113Z"
   },
   {
    "duration": 154,
    "start_time": "2023-03-16T05:27:36.647Z"
   },
   {
    "duration": 0,
    "start_time": "2023-03-16T05:27:36.803Z"
   },
   {
    "duration": 0,
    "start_time": "2023-03-16T05:27:36.805Z"
   },
   {
    "duration": 0,
    "start_time": "2023-03-16T05:27:36.807Z"
   },
   {
    "duration": 0,
    "start_time": "2023-03-16T05:27:36.808Z"
   },
   {
    "duration": 0,
    "start_time": "2023-03-16T05:27:36.810Z"
   },
   {
    "duration": 0,
    "start_time": "2023-03-16T05:27:36.810Z"
   },
   {
    "duration": 0,
    "start_time": "2023-03-16T05:27:36.811Z"
   },
   {
    "duration": 0,
    "start_time": "2023-03-16T05:27:36.812Z"
   },
   {
    "duration": 0,
    "start_time": "2023-03-16T05:27:36.837Z"
   },
   {
    "duration": 0,
    "start_time": "2023-03-16T05:27:36.839Z"
   },
   {
    "duration": 0,
    "start_time": "2023-03-16T05:27:36.841Z"
   },
   {
    "duration": 0,
    "start_time": "2023-03-16T05:27:36.842Z"
   },
   {
    "duration": 0,
    "start_time": "2023-03-16T05:27:36.844Z"
   },
   {
    "duration": 0,
    "start_time": "2023-03-16T05:27:36.845Z"
   },
   {
    "duration": 0,
    "start_time": "2023-03-16T05:27:36.846Z"
   },
   {
    "duration": 44,
    "start_time": "2023-03-16T05:31:16.187Z"
   },
   {
    "duration": 1536,
    "start_time": "2023-03-16T05:32:10.197Z"
   },
   {
    "duration": 807,
    "start_time": "2023-03-16T05:32:11.735Z"
   },
   {
    "duration": 3,
    "start_time": "2023-03-16T05:32:12.545Z"
   },
   {
    "duration": 476,
    "start_time": "2023-03-16T05:32:12.550Z"
   },
   {
    "duration": 34,
    "start_time": "2023-03-16T05:32:13.029Z"
   },
   {
    "duration": 10,
    "start_time": "2023-03-16T05:32:13.066Z"
   },
   {
    "duration": 8,
    "start_time": "2023-03-16T05:32:13.078Z"
   },
   {
    "duration": 3164,
    "start_time": "2023-03-16T05:32:13.089Z"
   },
   {
    "duration": 560,
    "start_time": "2023-03-16T05:32:16.256Z"
   },
   {
    "duration": 2091,
    "start_time": "2023-03-16T05:32:16.818Z"
   },
   {
    "duration": 7,
    "start_time": "2023-03-16T05:32:18.911Z"
   },
   {
    "duration": 536,
    "start_time": "2023-03-16T05:32:18.920Z"
   },
   {
    "duration": 22,
    "start_time": "2023-03-16T05:32:19.459Z"
   },
   {
    "duration": 18,
    "start_time": "2023-03-16T05:32:19.484Z"
   },
   {
    "duration": 36,
    "start_time": "2023-03-16T05:32:19.504Z"
   },
   {
    "duration": 28,
    "start_time": "2023-03-16T05:32:19.544Z"
   },
   {
    "duration": 30,
    "start_time": "2023-03-16T05:32:19.574Z"
   },
   {
    "duration": 17,
    "start_time": "2023-03-16T05:32:19.606Z"
   },
   {
    "duration": 715581,
    "start_time": "2023-03-16T05:32:19.625Z"
   },
   {
    "duration": 1556,
    "start_time": "2023-03-16T05:44:15.207Z"
   },
   {
    "duration": 150,
    "start_time": "2023-03-16T06:38:40.131Z"
   },
   {
    "duration": 1497,
    "start_time": "2023-03-16T06:39:18.972Z"
   },
   {
    "duration": 804,
    "start_time": "2023-03-16T06:39:20.471Z"
   },
   {
    "duration": 3,
    "start_time": "2023-03-16T06:39:21.277Z"
   },
   {
    "duration": 418,
    "start_time": "2023-03-16T06:39:21.282Z"
   },
   {
    "duration": 156,
    "start_time": "2023-03-16T06:39:21.703Z"
   },
   {
    "duration": 0,
    "start_time": "2023-03-16T06:39:21.860Z"
   },
   {
    "duration": 0,
    "start_time": "2023-03-16T06:39:21.862Z"
   },
   {
    "duration": 0,
    "start_time": "2023-03-16T06:39:21.863Z"
   },
   {
    "duration": 0,
    "start_time": "2023-03-16T06:39:21.864Z"
   },
   {
    "duration": 0,
    "start_time": "2023-03-16T06:39:21.865Z"
   },
   {
    "duration": 0,
    "start_time": "2023-03-16T06:39:21.866Z"
   },
   {
    "duration": 0,
    "start_time": "2023-03-16T06:39:21.867Z"
   },
   {
    "duration": 0,
    "start_time": "2023-03-16T06:39:21.868Z"
   },
   {
    "duration": 0,
    "start_time": "2023-03-16T06:39:21.870Z"
   },
   {
    "duration": 0,
    "start_time": "2023-03-16T06:39:21.871Z"
   },
   {
    "duration": 0,
    "start_time": "2023-03-16T06:39:21.872Z"
   },
   {
    "duration": 0,
    "start_time": "2023-03-16T06:39:21.873Z"
   },
   {
    "duration": 0,
    "start_time": "2023-03-16T06:39:21.874Z"
   },
   {
    "duration": 0,
    "start_time": "2023-03-16T06:39:21.875Z"
   },
   {
    "duration": 0,
    "start_time": "2023-03-16T06:39:21.876Z"
   },
   {
    "duration": 0,
    "start_time": "2023-03-16T06:39:21.877Z"
   },
   {
    "duration": 1316,
    "start_time": "2023-03-16T06:42:35.549Z"
   },
   {
    "duration": 14,
    "start_time": "2023-03-16T06:43:02.483Z"
   },
   {
    "duration": 13,
    "start_time": "2023-03-16T06:43:43.761Z"
   },
   {
    "duration": 36,
    "start_time": "2023-03-16T06:44:37.609Z"
   },
   {
    "duration": 32,
    "start_time": "2023-03-16T06:49:40.820Z"
   },
   {
    "duration": 27,
    "start_time": "2023-03-16T06:50:07.898Z"
   },
   {
    "duration": 23,
    "start_time": "2023-03-16T06:51:28.889Z"
   },
   {
    "duration": 25,
    "start_time": "2023-03-16T06:55:16.454Z"
   },
   {
    "duration": 1469,
    "start_time": "2023-03-16T07:17:39.076Z"
   },
   {
    "duration": 711,
    "start_time": "2023-03-16T07:17:40.547Z"
   },
   {
    "duration": 3,
    "start_time": "2023-03-16T07:17:41.260Z"
   },
   {
    "duration": 1093,
    "start_time": "2023-03-16T07:17:41.265Z"
   },
   {
    "duration": 33,
    "start_time": "2023-03-16T07:17:42.360Z"
   },
   {
    "duration": 67,
    "start_time": "2023-03-16T07:17:42.394Z"
   },
   {
    "duration": 8,
    "start_time": "2023-03-16T07:17:42.463Z"
   },
   {
    "duration": 12,
    "start_time": "2023-03-16T07:17:42.472Z"
   },
   {
    "duration": 2888,
    "start_time": "2023-03-16T07:17:42.486Z"
   },
   {
    "duration": 605,
    "start_time": "2023-03-16T07:17:45.376Z"
   },
   {
    "duration": 1776,
    "start_time": "2023-03-16T07:17:45.983Z"
   },
   {
    "duration": 7,
    "start_time": "2023-03-16T07:17:47.761Z"
   },
   {
    "duration": 457,
    "start_time": "2023-03-16T07:17:47.769Z"
   },
   {
    "duration": 23,
    "start_time": "2023-03-16T07:17:48.233Z"
   },
   {
    "duration": 14,
    "start_time": "2023-03-16T07:17:48.258Z"
   },
   {
    "duration": 10,
    "start_time": "2023-03-16T07:17:48.274Z"
   },
   {
    "duration": 13,
    "start_time": "2023-03-16T07:17:48.285Z"
   },
   {
    "duration": 5,
    "start_time": "2023-03-16T07:17:48.300Z"
   },
   {
    "duration": 11,
    "start_time": "2023-03-16T07:17:48.338Z"
   },
   {
    "duration": 455970,
    "start_time": "2023-03-16T07:17:48.351Z"
   },
   {
    "duration": 0,
    "start_time": "2023-03-16T07:25:24.324Z"
   },
   {
    "duration": 0,
    "start_time": "2023-03-16T07:25:24.325Z"
   },
   {
    "duration": 4,
    "start_time": "2023-03-16T07:45:31.222Z"
   },
   {
    "duration": 735,
    "start_time": "2023-03-16T07:45:33.462Z"
   },
   {
    "duration": 3,
    "start_time": "2023-03-16T07:45:35.571Z"
   },
   {
    "duration": 62,
    "start_time": "2023-03-16T07:45:51.207Z"
   },
   {
    "duration": 2808,
    "start_time": "2023-03-16T08:16:21.382Z"
   },
   {
    "duration": 431,
    "start_time": "2023-03-16T08:17:31.151Z"
   },
   {
    "duration": 481,
    "start_time": "2023-03-16T08:18:17.647Z"
   },
   {
    "duration": 481,
    "start_time": "2023-03-16T08:27:37.387Z"
   },
   {
    "duration": 1597,
    "start_time": "2023-03-16T08:45:18.721Z"
   },
   {
    "duration": 1487,
    "start_time": "2023-03-16T08:49:43.361Z"
   },
   {
    "duration": 2850,
    "start_time": "2023-03-16T08:49:44.851Z"
   },
   {
    "duration": 3,
    "start_time": "2023-03-16T08:49:47.702Z"
   },
   {
    "duration": 1044,
    "start_time": "2023-03-16T08:49:47.707Z"
   },
   {
    "duration": 8,
    "start_time": "2023-03-16T08:49:48.753Z"
   },
   {
    "duration": 10,
    "start_time": "2023-03-16T08:49:48.762Z"
   },
   {
    "duration": 63,
    "start_time": "2023-03-16T08:49:48.774Z"
   },
   {
    "duration": 2856,
    "start_time": "2023-03-16T08:49:48.843Z"
   },
   {
    "duration": 607,
    "start_time": "2023-03-16T08:49:51.701Z"
   },
   {
    "duration": 133,
    "start_time": "2023-03-16T08:49:52.310Z"
   },
   {
    "duration": 0,
    "start_time": "2023-03-16T08:49:52.446Z"
   },
   {
    "duration": 0,
    "start_time": "2023-03-16T08:49:52.447Z"
   },
   {
    "duration": 0,
    "start_time": "2023-03-16T08:49:52.449Z"
   },
   {
    "duration": 0,
    "start_time": "2023-03-16T08:49:52.449Z"
   },
   {
    "duration": 0,
    "start_time": "2023-03-16T08:49:52.450Z"
   },
   {
    "duration": 0,
    "start_time": "2023-03-16T08:49:52.451Z"
   },
   {
    "duration": 0,
    "start_time": "2023-03-16T08:49:52.453Z"
   },
   {
    "duration": 0,
    "start_time": "2023-03-16T08:49:52.454Z"
   },
   {
    "duration": 0,
    "start_time": "2023-03-16T08:49:52.456Z"
   },
   {
    "duration": 0,
    "start_time": "2023-03-16T08:49:52.458Z"
   },
   {
    "duration": 1910,
    "start_time": "2023-03-16T08:52:14.559Z"
   },
   {
    "duration": 7,
    "start_time": "2023-03-16T08:53:27.495Z"
   },
   {
    "duration": 14,
    "start_time": "2023-03-16T09:03:24.231Z"
   },
   {
    "duration": 8,
    "start_time": "2023-03-16T09:03:41.328Z"
   },
   {
    "duration": 21,
    "start_time": "2023-03-16T09:04:06.422Z"
   },
   {
    "duration": 14,
    "start_time": "2023-03-16T09:05:50.220Z"
   },
   {
    "duration": 8,
    "start_time": "2023-03-16T09:06:08.299Z"
   },
   {
    "duration": 35,
    "start_time": "2023-03-16T09:08:34.683Z"
   },
   {
    "duration": 9,
    "start_time": "2023-03-16T09:09:19.003Z"
   },
   {
    "duration": 43,
    "start_time": "2023-03-16T09:10:58.299Z"
   },
   {
    "duration": 30,
    "start_time": "2023-03-16T09:11:44.131Z"
   },
   {
    "duration": 30,
    "start_time": "2023-03-16T09:11:52.067Z"
   },
   {
    "duration": 28,
    "start_time": "2023-03-16T09:12:19.872Z"
   },
   {
    "duration": 29,
    "start_time": "2023-03-16T09:17:34.583Z"
   },
   {
    "duration": 28,
    "start_time": "2023-03-16T09:17:44.298Z"
   },
   {
    "duration": 19,
    "start_time": "2023-03-16T09:18:20.319Z"
   },
   {
    "duration": 85,
    "start_time": "2023-03-16T09:31:20.111Z"
   },
   {
    "duration": 12,
    "start_time": "2023-03-16T09:31:35.100Z"
   },
   {
    "duration": 47,
    "start_time": "2023-03-16T09:31:52.753Z"
   },
   {
    "duration": 15,
    "start_time": "2023-03-16T09:32:18.953Z"
   },
   {
    "duration": 13,
    "start_time": "2023-03-16T09:32:55.271Z"
   },
   {
    "duration": 460,
    "start_time": "2023-03-16T09:34:01.592Z"
   },
   {
    "duration": 1716,
    "start_time": "2023-03-16T09:34:39.141Z"
   },
   {
    "duration": 13,
    "start_time": "2023-03-16T09:35:38.017Z"
   },
   {
    "duration": 20,
    "start_time": "2023-03-16T09:36:44.959Z"
   },
   {
    "duration": 7,
    "start_time": "2023-03-16T09:36:49.569Z"
   },
   {
    "duration": 31,
    "start_time": "2023-03-16T09:38:01.712Z"
   },
   {
    "duration": 22,
    "start_time": "2023-03-16T09:39:12.876Z"
   },
   {
    "duration": 22,
    "start_time": "2023-03-16T09:39:15.668Z"
   },
   {
    "duration": 1616,
    "start_time": "2023-03-16T09:39:50.969Z"
   },
   {
    "duration": 816,
    "start_time": "2023-03-16T09:39:52.587Z"
   },
   {
    "duration": 3,
    "start_time": "2023-03-16T09:39:53.405Z"
   },
   {
    "duration": 1174,
    "start_time": "2023-03-16T09:39:53.410Z"
   },
   {
    "duration": 8,
    "start_time": "2023-03-16T09:39:54.587Z"
   },
   {
    "duration": 7,
    "start_time": "2023-03-16T09:39:54.597Z"
   },
   {
    "duration": 80,
    "start_time": "2023-03-16T09:39:54.606Z"
   },
   {
    "duration": 2822,
    "start_time": "2023-03-16T09:39:54.688Z"
   },
   {
    "duration": 611,
    "start_time": "2023-03-16T09:39:57.512Z"
   },
   {
    "duration": 1753,
    "start_time": "2023-03-16T09:39:58.125Z"
   },
   {
    "duration": 19,
    "start_time": "2023-03-16T09:39:59.880Z"
   },
   {
    "duration": 50,
    "start_time": "2023-03-16T09:39:59.901Z"
   },
   {
    "duration": 31,
    "start_time": "2023-03-16T09:39:59.953Z"
   },
   {
    "duration": 17,
    "start_time": "2023-03-16T09:39:59.986Z"
   },
   {
    "duration": 59,
    "start_time": "2023-03-16T09:40:00.005Z"
   },
   {
    "duration": 31,
    "start_time": "2023-03-16T09:40:00.066Z"
   },
   {
    "duration": 20,
    "start_time": "2023-03-16T09:40:00.099Z"
   },
   {
    "duration": 429883,
    "start_time": "2023-03-16T09:40:00.121Z"
   },
   {
    "duration": 0,
    "start_time": "2023-03-16T09:47:10.006Z"
   },
   {
    "duration": 11,
    "start_time": "2023-03-16T10:11:55.009Z"
   },
   {
    "duration": 39981,
    "start_time": "2023-03-16T10:12:18.681Z"
   },
   {
    "duration": 1157417,
    "start_time": "2023-03-16T10:22:33.952Z"
   },
   {
    "duration": 3,
    "start_time": "2023-03-16T10:55:09.191Z"
   },
   {
    "duration": 4,
    "start_time": "2023-03-16T10:56:12.274Z"
   },
   {
    "duration": 5,
    "start_time": "2023-03-16T10:58:43.619Z"
   },
   {
    "duration": 5,
    "start_time": "2023-03-16T11:00:05.799Z"
   },
   {
    "duration": 16,
    "start_time": "2023-03-16T11:05:33.862Z"
   },
   {
    "duration": 11,
    "start_time": "2023-03-16T11:06:53.979Z"
   },
   {
    "duration": 77,
    "start_time": "2023-03-16T11:09:43.004Z"
   },
   {
    "duration": 1678,
    "start_time": "2023-03-17T03:12:43.675Z"
   },
   {
    "duration": 2806,
    "start_time": "2023-03-17T03:12:45.356Z"
   },
   {
    "duration": 4,
    "start_time": "2023-03-17T03:12:48.164Z"
   },
   {
    "duration": 1156,
    "start_time": "2023-03-17T03:12:48.170Z"
   },
   {
    "duration": 7,
    "start_time": "2023-03-17T03:12:49.329Z"
   },
   {
    "duration": 17,
    "start_time": "2023-03-17T03:12:49.338Z"
   },
   {
    "duration": 52,
    "start_time": "2023-03-17T03:12:49.358Z"
   },
   {
    "duration": 3019,
    "start_time": "2023-03-17T03:12:49.412Z"
   },
   {
    "duration": 597,
    "start_time": "2023-03-17T03:12:52.433Z"
   },
   {
    "duration": 1803,
    "start_time": "2023-03-17T03:12:53.032Z"
   },
   {
    "duration": 22,
    "start_time": "2023-03-17T03:12:54.837Z"
   },
   {
    "duration": 49,
    "start_time": "2023-03-17T03:12:54.861Z"
   },
   {
    "duration": 30,
    "start_time": "2023-03-17T03:12:54.911Z"
   },
   {
    "duration": 36,
    "start_time": "2023-03-17T03:12:54.944Z"
   },
   {
    "duration": 15,
    "start_time": "2023-03-17T03:12:54.982Z"
   },
   {
    "duration": 4,
    "start_time": "2023-03-17T03:12:54.999Z"
   },
   {
    "duration": 8,
    "start_time": "2023-03-17T03:12:55.004Z"
   },
   {
    "duration": 1161478,
    "start_time": "2023-03-17T03:12:55.014Z"
   },
   {
    "duration": 3,
    "start_time": "2023-03-17T03:32:16.494Z"
   },
   {
    "duration": 31,
    "start_time": "2023-03-17T03:32:16.499Z"
   },
   {
    "duration": 8,
    "start_time": "2023-03-17T03:32:16.532Z"
   },
   {
    "duration": 8,
    "start_time": "2023-03-17T03:32:16.542Z"
   },
   {
    "duration": 90,
    "start_time": "2023-03-17T03:32:16.552Z"
   },
   {
    "duration": 78,
    "start_time": "2023-03-17T03:48:32.628Z"
   },
   {
    "duration": 78,
    "start_time": "2023-03-17T03:53:04.080Z"
   },
   {
    "duration": 140,
    "start_time": "2023-03-17T03:53:14.215Z"
   },
   {
    "duration": 5,
    "start_time": "2023-03-17T03:53:46.749Z"
   },
   {
    "duration": 12,
    "start_time": "2023-03-17T03:53:55.276Z"
   },
   {
    "duration": 9,
    "start_time": "2023-03-17T03:54:37.261Z"
   },
   {
    "duration": 1543,
    "start_time": "2023-03-17T04:39:56.764Z"
   },
   {
    "duration": 867,
    "start_time": "2023-03-17T04:39:58.309Z"
   },
   {
    "duration": 3,
    "start_time": "2023-03-17T04:39:59.188Z"
   },
   {
    "duration": 1119,
    "start_time": "2023-03-17T04:39:59.193Z"
   },
   {
    "duration": 9,
    "start_time": "2023-03-17T04:40:00.315Z"
   },
   {
    "duration": 51,
    "start_time": "2023-03-17T04:40:00.325Z"
   },
   {
    "duration": 79,
    "start_time": "2023-03-17T04:40:00.378Z"
   },
   {
    "duration": 3001,
    "start_time": "2023-03-17T04:40:00.459Z"
   },
   {
    "duration": 586,
    "start_time": "2023-03-17T04:40:03.462Z"
   },
   {
    "duration": 1779,
    "start_time": "2023-03-17T04:40:04.049Z"
   },
   {
    "duration": 22,
    "start_time": "2023-03-17T04:40:05.830Z"
   },
   {
    "duration": 74,
    "start_time": "2023-03-17T04:40:05.854Z"
   },
   {
    "duration": 28,
    "start_time": "2023-03-17T04:40:05.929Z"
   },
   {
    "duration": 95,
    "start_time": "2023-03-17T04:40:05.960Z"
   },
   {
    "duration": 18,
    "start_time": "2023-03-17T04:40:06.056Z"
   },
   {
    "duration": 26,
    "start_time": "2023-03-17T04:40:06.079Z"
   },
   {
    "duration": 14,
    "start_time": "2023-03-17T04:40:06.106Z"
   },
   {
    "duration": 1140010,
    "start_time": "2023-03-17T04:40:06.121Z"
   },
   {
    "duration": 3,
    "start_time": "2023-03-17T04:59:06.133Z"
   },
   {
    "duration": 17,
    "start_time": "2023-03-17T04:59:06.139Z"
   },
   {
    "duration": 27,
    "start_time": "2023-03-17T04:59:06.158Z"
   },
   {
    "duration": 14,
    "start_time": "2023-03-17T04:59:06.187Z"
   },
   {
    "duration": 64,
    "start_time": "2023-03-17T04:59:06.203Z"
   },
   {
    "duration": 26,
    "start_time": "2023-03-17T04:59:06.268Z"
   },
   {
    "duration": 5,
    "start_time": "2023-03-17T20:04:26.529Z"
   }
  ],
  "kernelspec": {
   "display_name": "Python 3 (ipykernel)",
   "language": "python",
   "name": "python3"
  },
  "language_info": {
   "codemirror_mode": {
    "name": "ipython",
    "version": 3
   },
   "file_extension": ".py",
   "mimetype": "text/x-python",
   "name": "python",
   "nbconvert_exporter": "python",
   "pygments_lexer": "ipython3",
   "version": "3.9.13"
  },
  "toc": {
   "base_numbering": 1,
   "nav_menu": {},
   "number_sections": false,
   "sideBar": true,
   "skip_h1_title": true,
   "title_cell": "Содержание",
   "title_sidebar": "Contents",
   "toc_cell": true,
   "toc_position": {
    "height": "calc(100% - 180px)",
    "left": "10px",
    "top": "150px",
    "width": "165px"
   },
   "toc_section_display": true,
   "toc_window_display": true
  }
 },
 "nbformat": 4,
 "nbformat_minor": 2
}
